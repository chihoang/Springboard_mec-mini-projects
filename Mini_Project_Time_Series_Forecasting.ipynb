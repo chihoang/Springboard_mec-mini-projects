{
  "cells": [
    {
      "cell_type": "markdown",
      "metadata": {
        "id": "view-in-github",
        "colab_type": "text"
      },
      "source": [
        "<a href=\"https://colab.research.google.com/github/chihoang/Springboard_mec-mini-projects/blob/main/Mini_Project_Time_Series_Forecasting.ipynb\" target=\"_parent\"><img src=\"https://colab.research.google.com/assets/colab-badge.svg\" alt=\"Open In Colab\"/></a>"
      ]
    },
    {
      "cell_type": "markdown",
      "metadata": {
        "id": "T8IkEZ1mF3MP"
      },
      "source": [
        "# Time Series Forecasting System\n",
        "Time Series is a big component of our everyday lives. They are in fact used in medicine (EEG analysis), finance (Stock Prices) and electronics (Sensor Data Analysis). Many Machine Learning models have been created in order to tackle these types of tasks, two examples are ARIMA (AutoRegressive Integrated Moving Average) models and RNNs (Recurrent Neural Networks).\n"
      ]
    },
    {
      "cell_type": "markdown",
      "metadata": {
        "id": "0a1a3jB3GYI8"
      },
      "source": [
        "# Data Source\n",
        "\n",
        "For Time series analysis, we are going to deal with Stock market Analysis. This dataset is based US-based stocks daily price and volume data.\n",
        "Dataset taken for analysis is IBM stock market data from 2006-01-01 to 2018-01-01.\n",
        "\n",
        "Below are the key fields in the dataset:\n",
        "\n",
        "__`Date, Open, High, Low, Close, Volume, Name`__"
      ]
    },
    {
      "cell_type": "markdown",
      "metadata": {
        "id": "QJiCYDCPH0JX"
      },
      "source": [
        "# Import Libraries"
      ]
    },
    {
      "cell_type": "code",
      "execution_count": null,
      "metadata": {
        "id": "I1SfYI6nebcN"
      },
      "outputs": [],
      "source": [
        "import warnings\n",
        "warnings.filterwarnings('ignore')\n",
        "\n",
        "import pandas as pd\n",
        "import matplotlib.pyplot as plt\n",
        "import numpy as np\n",
        "\n",
        "from IPython.display import display"
      ]
    },
    {
      "cell_type": "markdown",
      "metadata": {
        "id": "7ftJJhAPH9ZJ"
      },
      "source": [
        "# Load Data"
      ]
    },
    {
      "cell_type": "code",
      "source": [
        "### 2/14/23: mount to the datasets in Google Drive ###\n",
        "from google.colab import drive\n",
        "drive.mount('/content/gdrive')"
      ],
      "metadata": {
        "colab": {
          "base_uri": "https://localhost:8080/"
        },
        "id": "x_GgaMv03tEE",
        "outputId": "c25b4cd3-92ac-4fd6-de04-669f03fc2a52"
      },
      "execution_count": null,
      "outputs": [
        {
          "output_type": "stream",
          "name": "stdout",
          "text": [
            "Drive already mounted at /content/gdrive; to attempt to forcibly remount, call drive.mount(\"/content/gdrive\", force_remount=True).\n"
          ]
        }
      ]
    },
    {
      "cell_type": "code",
      "execution_count": null,
      "metadata": {
        "colab": {
          "base_uri": "https://localhost:8080/",
          "height": 206
        },
        "id": "zLpZyyGucahj",
        "outputId": "fa9bd125-0d57-4ed4-9c67-157f1cdaa04b"
      },
      "outputs": [
        {
          "output_type": "execute_result",
          "data": {
            "text/plain": [
              "         Date   Open   High    Low  Close    Volume Name\n",
              "0  2006-01-03  82.45  82.55  80.81  82.06  11715200  IBM\n",
              "1  2006-01-04  82.20  82.50  81.33  81.95   9840600  IBM\n",
              "2  2006-01-05  81.40  82.90  81.00  82.50   7213500  IBM\n",
              "3  2006-01-06  83.95  85.03  83.41  84.95   8197400  IBM\n",
              "4  2006-01-09  84.10  84.25  83.38  83.73   6858200  IBM"
            ],
            "text/html": [
              "\n",
              "  <div id=\"df-a83be093-7dcc-4a11-81ff-bcecb99c9567\">\n",
              "    <div class=\"colab-df-container\">\n",
              "      <div>\n",
              "<style scoped>\n",
              "    .dataframe tbody tr th:only-of-type {\n",
              "        vertical-align: middle;\n",
              "    }\n",
              "\n",
              "    .dataframe tbody tr th {\n",
              "        vertical-align: top;\n",
              "    }\n",
              "\n",
              "    .dataframe thead th {\n",
              "        text-align: right;\n",
              "    }\n",
              "</style>\n",
              "<table border=\"1\" class=\"dataframe\">\n",
              "  <thead>\n",
              "    <tr style=\"text-align: right;\">\n",
              "      <th></th>\n",
              "      <th>Date</th>\n",
              "      <th>Open</th>\n",
              "      <th>High</th>\n",
              "      <th>Low</th>\n",
              "      <th>Close</th>\n",
              "      <th>Volume</th>\n",
              "      <th>Name</th>\n",
              "    </tr>\n",
              "  </thead>\n",
              "  <tbody>\n",
              "    <tr>\n",
              "      <th>0</th>\n",
              "      <td>2006-01-03</td>\n",
              "      <td>82.45</td>\n",
              "      <td>82.55</td>\n",
              "      <td>80.81</td>\n",
              "      <td>82.06</td>\n",
              "      <td>11715200</td>\n",
              "      <td>IBM</td>\n",
              "    </tr>\n",
              "    <tr>\n",
              "      <th>1</th>\n",
              "      <td>2006-01-04</td>\n",
              "      <td>82.20</td>\n",
              "      <td>82.50</td>\n",
              "      <td>81.33</td>\n",
              "      <td>81.95</td>\n",
              "      <td>9840600</td>\n",
              "      <td>IBM</td>\n",
              "    </tr>\n",
              "    <tr>\n",
              "      <th>2</th>\n",
              "      <td>2006-01-05</td>\n",
              "      <td>81.40</td>\n",
              "      <td>82.90</td>\n",
              "      <td>81.00</td>\n",
              "      <td>82.50</td>\n",
              "      <td>7213500</td>\n",
              "      <td>IBM</td>\n",
              "    </tr>\n",
              "    <tr>\n",
              "      <th>3</th>\n",
              "      <td>2006-01-06</td>\n",
              "      <td>83.95</td>\n",
              "      <td>85.03</td>\n",
              "      <td>83.41</td>\n",
              "      <td>84.95</td>\n",
              "      <td>8197400</td>\n",
              "      <td>IBM</td>\n",
              "    </tr>\n",
              "    <tr>\n",
              "      <th>4</th>\n",
              "      <td>2006-01-09</td>\n",
              "      <td>84.10</td>\n",
              "      <td>84.25</td>\n",
              "      <td>83.38</td>\n",
              "      <td>83.73</td>\n",
              "      <td>6858200</td>\n",
              "      <td>IBM</td>\n",
              "    </tr>\n",
              "  </tbody>\n",
              "</table>\n",
              "</div>\n",
              "      <button class=\"colab-df-convert\" onclick=\"convertToInteractive('df-a83be093-7dcc-4a11-81ff-bcecb99c9567')\"\n",
              "              title=\"Convert this dataframe to an interactive table.\"\n",
              "              style=\"display:none;\">\n",
              "        \n",
              "  <svg xmlns=\"http://www.w3.org/2000/svg\" height=\"24px\"viewBox=\"0 0 24 24\"\n",
              "       width=\"24px\">\n",
              "    <path d=\"M0 0h24v24H0V0z\" fill=\"none\"/>\n",
              "    <path d=\"M18.56 5.44l.94 2.06.94-2.06 2.06-.94-2.06-.94-.94-2.06-.94 2.06-2.06.94zm-11 1L8.5 8.5l.94-2.06 2.06-.94-2.06-.94L8.5 2.5l-.94 2.06-2.06.94zm10 10l.94 2.06.94-2.06 2.06-.94-2.06-.94-.94-2.06-.94 2.06-2.06.94z\"/><path d=\"M17.41 7.96l-1.37-1.37c-.4-.4-.92-.59-1.43-.59-.52 0-1.04.2-1.43.59L10.3 9.45l-7.72 7.72c-.78.78-.78 2.05 0 2.83L4 21.41c.39.39.9.59 1.41.59.51 0 1.02-.2 1.41-.59l7.78-7.78 2.81-2.81c.8-.78.8-2.07 0-2.86zM5.41 20L4 18.59l7.72-7.72 1.47 1.35L5.41 20z\"/>\n",
              "  </svg>\n",
              "      </button>\n",
              "      \n",
              "  <style>\n",
              "    .colab-df-container {\n",
              "      display:flex;\n",
              "      flex-wrap:wrap;\n",
              "      gap: 12px;\n",
              "    }\n",
              "\n",
              "    .colab-df-convert {\n",
              "      background-color: #E8F0FE;\n",
              "      border: none;\n",
              "      border-radius: 50%;\n",
              "      cursor: pointer;\n",
              "      display: none;\n",
              "      fill: #1967D2;\n",
              "      height: 32px;\n",
              "      padding: 0 0 0 0;\n",
              "      width: 32px;\n",
              "    }\n",
              "\n",
              "    .colab-df-convert:hover {\n",
              "      background-color: #E2EBFA;\n",
              "      box-shadow: 0px 1px 2px rgba(60, 64, 67, 0.3), 0px 1px 3px 1px rgba(60, 64, 67, 0.15);\n",
              "      fill: #174EA6;\n",
              "    }\n",
              "\n",
              "    [theme=dark] .colab-df-convert {\n",
              "      background-color: #3B4455;\n",
              "      fill: #D2E3FC;\n",
              "    }\n",
              "\n",
              "    [theme=dark] .colab-df-convert:hover {\n",
              "      background-color: #434B5C;\n",
              "      box-shadow: 0px 1px 3px 1px rgba(0, 0, 0, 0.15);\n",
              "      filter: drop-shadow(0px 1px 2px rgba(0, 0, 0, 0.3));\n",
              "      fill: #FFFFFF;\n",
              "    }\n",
              "  </style>\n",
              "\n",
              "      <script>\n",
              "        const buttonEl =\n",
              "          document.querySelector('#df-a83be093-7dcc-4a11-81ff-bcecb99c9567 button.colab-df-convert');\n",
              "        buttonEl.style.display =\n",
              "          google.colab.kernel.accessAllowed ? 'block' : 'none';\n",
              "\n",
              "        async function convertToInteractive(key) {\n",
              "          const element = document.querySelector('#df-a83be093-7dcc-4a11-81ff-bcecb99c9567');\n",
              "          const dataTable =\n",
              "            await google.colab.kernel.invokeFunction('convertToInteractive',\n",
              "                                                     [key], {});\n",
              "          if (!dataTable) return;\n",
              "\n",
              "          const docLinkHtml = 'Like what you see? Visit the ' +\n",
              "            '<a target=\"_blank\" href=https://colab.research.google.com/notebooks/data_table.ipynb>data table notebook</a>'\n",
              "            + ' to learn more about interactive tables.';\n",
              "          element.innerHTML = '';\n",
              "          dataTable['output_type'] = 'display_data';\n",
              "          await google.colab.output.renderOutput(dataTable, element);\n",
              "          const docLink = document.createElement('div');\n",
              "          docLink.innerHTML = docLinkHtml;\n",
              "          element.appendChild(docLink);\n",
              "        }\n",
              "      </script>\n",
              "    </div>\n",
              "  </div>\n",
              "  "
            ]
          },
          "metadata": {},
          "execution_count": 99
        }
      ],
      "source": [
        "path = '/content/gdrive/MyDrive/Colab Notebooks/mec-mini-projects-master/mec-18.5.1-time-series-analysis-mini-project/'\n",
        "df = pd.read_csv(path+\"IBM_2006-01-01_to_2018-01-01.csv.zip\")\n",
        "df.head()"
      ]
    },
    {
      "cell_type": "code",
      "source": [
        "df.info()"
      ],
      "metadata": {
        "colab": {
          "base_uri": "https://localhost:8080/"
        },
        "id": "F7rCsg-u4PTd",
        "outputId": "362349a3-31eb-4f81-99d9-2d324bb1f1c2"
      },
      "execution_count": null,
      "outputs": [
        {
          "output_type": "stream",
          "name": "stdout",
          "text": [
            "<class 'pandas.core.frame.DataFrame'>\n",
            "RangeIndex: 3020 entries, 0 to 3019\n",
            "Data columns (total 7 columns):\n",
            " #   Column  Non-Null Count  Dtype  \n",
            "---  ------  --------------  -----  \n",
            " 0   Date    3020 non-null   object \n",
            " 1   Open    3019 non-null   float64\n",
            " 2   High    3020 non-null   float64\n",
            " 3   Low     3019 non-null   float64\n",
            " 4   Close   3020 non-null   float64\n",
            " 5   Volume  3020 non-null   int64  \n",
            " 6   Name    3020 non-null   object \n",
            "dtypes: float64(4), int64(1), object(2)\n",
            "memory usage: 165.3+ KB\n"
          ]
        }
      ]
    },
    {
      "cell_type": "code",
      "execution_count": null,
      "metadata": {
        "colab": {
          "base_uri": "https://localhost:8080/"
        },
        "id": "HqoaX9Zy8wvW",
        "outputId": "1a3d8eec-ccc5-4d7e-c9f2-d6dfb78ad1e4"
      },
      "outputs": [
        {
          "output_type": "stream",
          "name": "stdout",
          "text": [
            "(3020, 7)\n",
            "Index(['Date', 'Open', 'High', 'Low', 'Close', 'Volume', 'Name'], dtype='object')\n"
          ]
        }
      ],
      "source": [
        "print(df.shape)\n",
        "print(df.columns)"
      ]
    },
    {
      "cell_type": "code",
      "execution_count": null,
      "metadata": {
        "colab": {
          "base_uri": "https://localhost:8080/"
        },
        "id": "QL9CyyYg83ow",
        "outputId": "62ed63ac-5799-40e2-9e87-6ec39d81aaea"
      },
      "outputs": [
        {
          "output_type": "execute_result",
          "data": {
            "text/plain": [
              "(3019, 7)"
            ]
          },
          "metadata": {},
          "execution_count": 102
        }
      ],
      "source": [
        "# Cleaning up the data\n",
        "df.isnull().values.any()\n",
        "df = df.dropna()\n",
        "df.shape"
      ]
    },
    {
      "cell_type": "code",
      "execution_count": null,
      "metadata": {
        "colab": {
          "base_uri": "https://localhost:8080/",
          "height": 238
        },
        "id": "FXk5auRRh2O6",
        "outputId": "cfbd4fbe-1f18-4877-8ca8-65078f729d0a"
      },
      "outputs": [
        {
          "output_type": "execute_result",
          "data": {
            "text/plain": [
              "                  Date   Open   High    Low  Close    Volume Name\n",
              "Date                                                             \n",
              "2006-01-03  2006-01-03  82.45  82.55  80.81  82.06  11715200  IBM\n",
              "2006-01-04  2006-01-04  82.20  82.50  81.33  81.95   9840600  IBM\n",
              "2006-01-05  2006-01-05  81.40  82.90  81.00  82.50   7213500  IBM\n",
              "2006-01-06  2006-01-06  83.95  85.03  83.41  84.95   8197400  IBM\n",
              "2006-01-09  2006-01-09  84.10  84.25  83.38  83.73   6858200  IBM"
            ],
            "text/html": [
              "\n",
              "  <div id=\"df-cee1959d-25a5-43fd-a7e3-cda158f16ede\">\n",
              "    <div class=\"colab-df-container\">\n",
              "      <div>\n",
              "<style scoped>\n",
              "    .dataframe tbody tr th:only-of-type {\n",
              "        vertical-align: middle;\n",
              "    }\n",
              "\n",
              "    .dataframe tbody tr th {\n",
              "        vertical-align: top;\n",
              "    }\n",
              "\n",
              "    .dataframe thead th {\n",
              "        text-align: right;\n",
              "    }\n",
              "</style>\n",
              "<table border=\"1\" class=\"dataframe\">\n",
              "  <thead>\n",
              "    <tr style=\"text-align: right;\">\n",
              "      <th></th>\n",
              "      <th>Date</th>\n",
              "      <th>Open</th>\n",
              "      <th>High</th>\n",
              "      <th>Low</th>\n",
              "      <th>Close</th>\n",
              "      <th>Volume</th>\n",
              "      <th>Name</th>\n",
              "    </tr>\n",
              "    <tr>\n",
              "      <th>Date</th>\n",
              "      <th></th>\n",
              "      <th></th>\n",
              "      <th></th>\n",
              "      <th></th>\n",
              "      <th></th>\n",
              "      <th></th>\n",
              "      <th></th>\n",
              "    </tr>\n",
              "  </thead>\n",
              "  <tbody>\n",
              "    <tr>\n",
              "      <th>2006-01-03</th>\n",
              "      <td>2006-01-03</td>\n",
              "      <td>82.45</td>\n",
              "      <td>82.55</td>\n",
              "      <td>80.81</td>\n",
              "      <td>82.06</td>\n",
              "      <td>11715200</td>\n",
              "      <td>IBM</td>\n",
              "    </tr>\n",
              "    <tr>\n",
              "      <th>2006-01-04</th>\n",
              "      <td>2006-01-04</td>\n",
              "      <td>82.20</td>\n",
              "      <td>82.50</td>\n",
              "      <td>81.33</td>\n",
              "      <td>81.95</td>\n",
              "      <td>9840600</td>\n",
              "      <td>IBM</td>\n",
              "    </tr>\n",
              "    <tr>\n",
              "      <th>2006-01-05</th>\n",
              "      <td>2006-01-05</td>\n",
              "      <td>81.40</td>\n",
              "      <td>82.90</td>\n",
              "      <td>81.00</td>\n",
              "      <td>82.50</td>\n",
              "      <td>7213500</td>\n",
              "      <td>IBM</td>\n",
              "    </tr>\n",
              "    <tr>\n",
              "      <th>2006-01-06</th>\n",
              "      <td>2006-01-06</td>\n",
              "      <td>83.95</td>\n",
              "      <td>85.03</td>\n",
              "      <td>83.41</td>\n",
              "      <td>84.95</td>\n",
              "      <td>8197400</td>\n",
              "      <td>IBM</td>\n",
              "    </tr>\n",
              "    <tr>\n",
              "      <th>2006-01-09</th>\n",
              "      <td>2006-01-09</td>\n",
              "      <td>84.10</td>\n",
              "      <td>84.25</td>\n",
              "      <td>83.38</td>\n",
              "      <td>83.73</td>\n",
              "      <td>6858200</td>\n",
              "      <td>IBM</td>\n",
              "    </tr>\n",
              "  </tbody>\n",
              "</table>\n",
              "</div>\n",
              "      <button class=\"colab-df-convert\" onclick=\"convertToInteractive('df-cee1959d-25a5-43fd-a7e3-cda158f16ede')\"\n",
              "              title=\"Convert this dataframe to an interactive table.\"\n",
              "              style=\"display:none;\">\n",
              "        \n",
              "  <svg xmlns=\"http://www.w3.org/2000/svg\" height=\"24px\"viewBox=\"0 0 24 24\"\n",
              "       width=\"24px\">\n",
              "    <path d=\"M0 0h24v24H0V0z\" fill=\"none\"/>\n",
              "    <path d=\"M18.56 5.44l.94 2.06.94-2.06 2.06-.94-2.06-.94-.94-2.06-.94 2.06-2.06.94zm-11 1L8.5 8.5l.94-2.06 2.06-.94-2.06-.94L8.5 2.5l-.94 2.06-2.06.94zm10 10l.94 2.06.94-2.06 2.06-.94-2.06-.94-.94-2.06-.94 2.06-2.06.94z\"/><path d=\"M17.41 7.96l-1.37-1.37c-.4-.4-.92-.59-1.43-.59-.52 0-1.04.2-1.43.59L10.3 9.45l-7.72 7.72c-.78.78-.78 2.05 0 2.83L4 21.41c.39.39.9.59 1.41.59.51 0 1.02-.2 1.41-.59l7.78-7.78 2.81-2.81c.8-.78.8-2.07 0-2.86zM5.41 20L4 18.59l7.72-7.72 1.47 1.35L5.41 20z\"/>\n",
              "  </svg>\n",
              "      </button>\n",
              "      \n",
              "  <style>\n",
              "    .colab-df-container {\n",
              "      display:flex;\n",
              "      flex-wrap:wrap;\n",
              "      gap: 12px;\n",
              "    }\n",
              "\n",
              "    .colab-df-convert {\n",
              "      background-color: #E8F0FE;\n",
              "      border: none;\n",
              "      border-radius: 50%;\n",
              "      cursor: pointer;\n",
              "      display: none;\n",
              "      fill: #1967D2;\n",
              "      height: 32px;\n",
              "      padding: 0 0 0 0;\n",
              "      width: 32px;\n",
              "    }\n",
              "\n",
              "    .colab-df-convert:hover {\n",
              "      background-color: #E2EBFA;\n",
              "      box-shadow: 0px 1px 2px rgba(60, 64, 67, 0.3), 0px 1px 3px 1px rgba(60, 64, 67, 0.15);\n",
              "      fill: #174EA6;\n",
              "    }\n",
              "\n",
              "    [theme=dark] .colab-df-convert {\n",
              "      background-color: #3B4455;\n",
              "      fill: #D2E3FC;\n",
              "    }\n",
              "\n",
              "    [theme=dark] .colab-df-convert:hover {\n",
              "      background-color: #434B5C;\n",
              "      box-shadow: 0px 1px 3px 1px rgba(0, 0, 0, 0.15);\n",
              "      filter: drop-shadow(0px 1px 2px rgba(0, 0, 0, 0.3));\n",
              "      fill: #FFFFFF;\n",
              "    }\n",
              "  </style>\n",
              "\n",
              "      <script>\n",
              "        const buttonEl =\n",
              "          document.querySelector('#df-cee1959d-25a5-43fd-a7e3-cda158f16ede button.colab-df-convert');\n",
              "        buttonEl.style.display =\n",
              "          google.colab.kernel.accessAllowed ? 'block' : 'none';\n",
              "\n",
              "        async function convertToInteractive(key) {\n",
              "          const element = document.querySelector('#df-cee1959d-25a5-43fd-a7e3-cda158f16ede');\n",
              "          const dataTable =\n",
              "            await google.colab.kernel.invokeFunction('convertToInteractive',\n",
              "                                                     [key], {});\n",
              "          if (!dataTable) return;\n",
              "\n",
              "          const docLinkHtml = 'Like what you see? Visit the ' +\n",
              "            '<a target=\"_blank\" href=https://colab.research.google.com/notebooks/data_table.ipynb>data table notebook</a>'\n",
              "            + ' to learn more about interactive tables.';\n",
              "          element.innerHTML = '';\n",
              "          dataTable['output_type'] = 'display_data';\n",
              "          await google.colab.output.renderOutput(dataTable, element);\n",
              "          const docLink = document.createElement('div');\n",
              "          docLink.innerHTML = docLinkHtml;\n",
              "          element.appendChild(docLink);\n",
              "        }\n",
              "      </script>\n",
              "    </div>\n",
              "  </div>\n",
              "  "
            ]
          },
          "metadata": {},
          "execution_count": 103
        }
      ],
      "source": [
        "df.index = pd.to_datetime(df['Date'])\n",
        "df.head()"
      ]
    },
    {
      "cell_type": "code",
      "source": [
        "df.info()"
      ],
      "metadata": {
        "colab": {
          "base_uri": "https://localhost:8080/"
        },
        "id": "Q4235bOz4mH1",
        "outputId": "81e6c097-87ac-437a-e3ee-52963a6ac6a5"
      },
      "execution_count": null,
      "outputs": [
        {
          "output_type": "stream",
          "name": "stdout",
          "text": [
            "<class 'pandas.core.frame.DataFrame'>\n",
            "DatetimeIndex: 3019 entries, 2006-01-03 to 2017-12-29\n",
            "Data columns (total 7 columns):\n",
            " #   Column  Non-Null Count  Dtype  \n",
            "---  ------  --------------  -----  \n",
            " 0   Date    3019 non-null   object \n",
            " 1   Open    3019 non-null   float64\n",
            " 2   High    3019 non-null   float64\n",
            " 3   Low     3019 non-null   float64\n",
            " 4   Close   3019 non-null   float64\n",
            " 5   Volume  3019 non-null   int64  \n",
            " 6   Name    3019 non-null   object \n",
            "dtypes: float64(4), int64(1), object(2)\n",
            "memory usage: 188.7+ KB\n"
          ]
        }
      ]
    },
    {
      "cell_type": "markdown",
      "metadata": {
        "id": "HDxYwSHoJmDP"
      },
      "source": [
        "# ++ Note\n",
        "This dataset is composed of different features.We will just examine the “Open” stock prices feature. This same analysis can be repeated for most of the other features."
      ]
    },
    {
      "cell_type": "markdown",
      "metadata": {
        "id": "piiRMy-_IIZv"
      },
      "source": [
        "# Visualization"
      ]
    },
    {
      "cell_type": "markdown",
      "metadata": {
        "id": "TwENFpCh6O1R"
      },
      "source": [
        "### Visualizing the High and Low prices of IBM"
      ]
    },
    {
      "cell_type": "code",
      "execution_count": null,
      "metadata": {
        "colab": {
          "base_uri": "https://localhost:8080/",
          "height": 285
        },
        "id": "c7B6d-PTfKuC",
        "outputId": "73fa92cd-5cb9-48f1-816b-bc1ce9e2787f"
      },
      "outputs": [
        {
          "output_type": "display_data",
          "data": {
            "text/plain": [
              "<Figure size 432x288 with 1 Axes>"
            ],
            "image/png": "[encoded data removed]"
          },
          "metadata": {
            "needs_background": "light"
          }
        }
      ],
      "source": [
        "dr = df[['High', 'Low']]\n",
        "dr.plot()\n",
        "plt.title('IBM Returns');"
      ]
    },
    {
      "cell_type": "code",
      "source": [
        "display(dr.tail())\n",
        "display(dr.info())"
      ],
      "metadata": {
        "colab": {
          "base_uri": "https://localhost:8080/",
          "height": 411
        },
        "id": "OqiUWdGn48s3",
        "outputId": "25546741-3141-43e4-e174-d935b90ab1b3"
      },
      "execution_count": null,
      "outputs": [
        {
          "output_type": "display_data",
          "data": {
            "text/plain": [
              "              High     Low\n",
              "Date                      \n",
              "2017-12-22  153.00  151.50\n",
              "2017-12-26  153.86  152.50\n",
              "2017-12-27  153.18  152.61\n",
              "2017-12-28  154.12  153.20\n",
              "2017-12-29  154.72  153.42"
            ],
            "text/html": [
              "\n",
              "  <div id=\"df-e1eb74d8-1bc6-4a62-a509-78cfe37a9f76\">\n",
              "    <div class=\"colab-df-container\">\n",
              "      <div>\n",
              "<style scoped>\n",
              "    .dataframe tbody tr th:only-of-type {\n",
              "        vertical-align: middle;\n",
              "    }\n",
              "\n",
              "    .dataframe tbody tr th {\n",
              "        vertical-align: top;\n",
              "    }\n",
              "\n",
              "    .dataframe thead th {\n",
              "        text-align: right;\n",
              "    }\n",
              "</style>\n",
              "<table border=\"1\" class=\"dataframe\">\n",
              "  <thead>\n",
              "    <tr style=\"text-align: right;\">\n",
              "      <th></th>\n",
              "      <th>High</th>\n",
              "      <th>Low</th>\n",
              "    </tr>\n",
              "    <tr>\n",
              "      <th>Date</th>\n",
              "      <th></th>\n",
              "      <th></th>\n",
              "    </tr>\n",
              "  </thead>\n",
              "  <tbody>\n",
              "    <tr>\n",
              "      <th>2017-12-22</th>\n",
              "      <td>153.00</td>\n",
              "      <td>151.50</td>\n",
              "    </tr>\n",
              "    <tr>\n",
              "      <th>2017-12-26</th>\n",
              "      <td>153.86</td>\n",
              "      <td>152.50</td>\n",
              "    </tr>\n",
              "    <tr>\n",
              "      <th>2017-12-27</th>\n",
              "      <td>153.18</td>\n",
              "      <td>152.61</td>\n",
              "    </tr>\n",
              "    <tr>\n",
              "      <th>2017-12-28</th>\n",
              "      <td>154.12</td>\n",
              "      <td>153.20</td>\n",
              "    </tr>\n",
              "    <tr>\n",
              "      <th>2017-12-29</th>\n",
              "      <td>154.72</td>\n",
              "      <td>153.42</td>\n",
              "    </tr>\n",
              "  </tbody>\n",
              "</table>\n",
              "</div>\n",
              "      <button class=\"colab-df-convert\" onclick=\"convertToInteractive('df-e1eb74d8-1bc6-4a62-a509-78cfe37a9f76')\"\n",
              "              title=\"Convert this dataframe to an interactive table.\"\n",
              "              style=\"display:none;\">\n",
              "        \n",
              "  <svg xmlns=\"http://www.w3.org/2000/svg\" height=\"24px\"viewBox=\"0 0 24 24\"\n",
              "       width=\"24px\">\n",
              "    <path d=\"M0 0h24v24H0V0z\" fill=\"none\"/>\n",
              "    <path d=\"M18.56 5.44l.94 2.06.94-2.06 2.06-.94-2.06-.94-.94-2.06-.94 2.06-2.06.94zm-11 1L8.5 8.5l.94-2.06 2.06-.94-2.06-.94L8.5 2.5l-.94 2.06-2.06.94zm10 10l.94 2.06.94-2.06 2.06-.94-2.06-.94-.94-2.06-.94 2.06-2.06.94z\"/><path d=\"M17.41 7.96l-1.37-1.37c-.4-.4-.92-.59-1.43-.59-.52 0-1.04.2-1.43.59L10.3 9.45l-7.72 7.72c-.78.78-.78 2.05 0 2.83L4 21.41c.39.39.9.59 1.41.59.51 0 1.02-.2 1.41-.59l7.78-7.78 2.81-2.81c.8-.78.8-2.07 0-2.86zM5.41 20L4 18.59l7.72-7.72 1.47 1.35L5.41 20z\"/>\n",
              "  </svg>\n",
              "      </button>\n",
              "      \n",
              "  <style>\n",
              "    .colab-df-container {\n",
              "      display:flex;\n",
              "      flex-wrap:wrap;\n",
              "      gap: 12px;\n",
              "    }\n",
              "\n",
              "    .colab-df-convert {\n",
              "      background-color: #E8F0FE;\n",
              "      border: none;\n",
              "      border-radius: 50%;\n",
              "      cursor: pointer;\n",
              "      display: none;\n",
              "      fill: #1967D2;\n",
              "      height: 32px;\n",
              "      padding: 0 0 0 0;\n",
              "      width: 32px;\n",
              "    }\n",
              "\n",
              "    .colab-df-convert:hover {\n",
              "      background-color: #E2EBFA;\n",
              "      box-shadow: 0px 1px 2px rgba(60, 64, 67, 0.3), 0px 1px 3px 1px rgba(60, 64, 67, 0.15);\n",
              "      fill: #174EA6;\n",
              "    }\n",
              "\n",
              "    [theme=dark] .colab-df-convert {\n",
              "      background-color: #3B4455;\n",
              "      fill: #D2E3FC;\n",
              "    }\n",
              "\n",
              "    [theme=dark] .colab-df-convert:hover {\n",
              "      background-color: #434B5C;\n",
              "      box-shadow: 0px 1px 3px 1px rgba(0, 0, 0, 0.15);\n",
              "      filter: drop-shadow(0px 1px 2px rgba(0, 0, 0, 0.3));\n",
              "      fill: #FFFFFF;\n",
              "    }\n",
              "  </style>\n",
              "\n",
              "      <script>\n",
              "        const buttonEl =\n",
              "          document.querySelector('#df-e1eb74d8-1bc6-4a62-a509-78cfe37a9f76 button.colab-df-convert');\n",
              "        buttonEl.style.display =\n",
              "          google.colab.kernel.accessAllowed ? 'block' : 'none';\n",
              "\n",
              "        async function convertToInteractive(key) {\n",
              "          const element = document.querySelector('#df-e1eb74d8-1bc6-4a62-a509-78cfe37a9f76');\n",
              "          const dataTable =\n",
              "            await google.colab.kernel.invokeFunction('convertToInteractive',\n",
              "                                                     [key], {});\n",
              "          if (!dataTable) return;\n",
              "\n",
              "          const docLinkHtml = 'Like what you see? Visit the ' +\n",
              "            '<a target=\"_blank\" href=https://colab.research.google.com/notebooks/data_table.ipynb>data table notebook</a>'\n",
              "            + ' to learn more about interactive tables.';\n",
              "          element.innerHTML = '';\n",
              "          dataTable['output_type'] = 'display_data';\n",
              "          await google.colab.output.renderOutput(dataTable, element);\n",
              "          const docLink = document.createElement('div');\n",
              "          docLink.innerHTML = docLinkHtml;\n",
              "          element.appendChild(docLink);\n",
              "        }\n",
              "      </script>\n",
              "    </div>\n",
              "  </div>\n",
              "  "
            ]
          },
          "metadata": {}
        },
        {
          "output_type": "stream",
          "name": "stdout",
          "text": [
            "<class 'pandas.core.frame.DataFrame'>\n",
            "DatetimeIndex: 3019 entries, 2006-01-03 to 2017-12-29\n",
            "Data columns (total 2 columns):\n",
            " #   Column  Non-Null Count  Dtype  \n",
            "---  ------  --------------  -----  \n",
            " 0   High    3019 non-null   float64\n",
            " 1   Low     3019 non-null   float64\n",
            "dtypes: float64(2)\n",
            "memory usage: 70.8 KB\n"
          ]
        },
        {
          "output_type": "display_data",
          "data": {
            "text/plain": [
              "None"
            ]
          },
          "metadata": {}
        }
      ]
    },
    {
      "cell_type": "markdown",
      "metadata": {
        "id": "QWcZg2bV6O1R"
      },
      "source": [
        "### Q1: Visualize the Open and Close prices of IBM"
      ]
    },
    {
      "cell_type": "code",
      "execution_count": null,
      "metadata": {
        "colab": {
          "base_uri": "https://localhost:8080/",
          "height": 285
        },
        "id": "vWGWKmhKgJOr",
        "outputId": "7b947237-2faf-41af-9d3e-aa11d250973c"
      },
      "outputs": [
        {
          "output_type": "display_data",
          "data": {
            "text/plain": [
              "<Figure size 432x288 with 1 Axes>"
            ],
            "image/png": "[encoded data removed]"
          },
          "metadata": {
            "needs_background": "light"
          }
        }
      ],
      "source": [
        "df_oc = df[['Open', 'Close']]\n",
        "df_oc.plot()\n",
        "plt.title('IBM Open and Close prices');"
      ]
    },
    {
      "cell_type": "code",
      "source": [
        "display(df_oc.tail())\n",
        "display(df_oc.info())"
      ],
      "metadata": {
        "colab": {
          "base_uri": "https://localhost:8080/",
          "height": 411
        },
        "id": "wvVDoKIy5hLe",
        "outputId": "0ab24fdf-3314-4752-c67e-77721b4028a6"
      },
      "execution_count": null,
      "outputs": [
        {
          "output_type": "display_data",
          "data": {
            "text/plain": [
              "              Open   Close\n",
              "Date                      \n",
              "2017-12-22  151.82  152.50\n",
              "2017-12-26  152.51  152.83\n",
              "2017-12-27  152.95  153.13\n",
              "2017-12-28  153.20  154.04\n",
              "2017-12-29  154.17  153.42"
            ],
            "text/html": [
              "\n",
              "  <div id=\"df-1fdda143-8ad8-4407-82b0-8a05619530c3\">\n",
              "    <div class=\"colab-df-container\">\n",
              "      <div>\n",
              "<style scoped>\n",
              "    .dataframe tbody tr th:only-of-type {\n",
              "        vertical-align: middle;\n",
              "    }\n",
              "\n",
              "    .dataframe tbody tr th {\n",
              "        vertical-align: top;\n",
              "    }\n",
              "\n",
              "    .dataframe thead th {\n",
              "        text-align: right;\n",
              "    }\n",
              "</style>\n",
              "<table border=\"1\" class=\"dataframe\">\n",
              "  <thead>\n",
              "    <tr style=\"text-align: right;\">\n",
              "      <th></th>\n",
              "      <th>Open</th>\n",
              "      <th>Close</th>\n",
              "    </tr>\n",
              "    <tr>\n",
              "      <th>Date</th>\n",
              "      <th></th>\n",
              "      <th></th>\n",
              "    </tr>\n",
              "  </thead>\n",
              "  <tbody>\n",
              "    <tr>\n",
              "      <th>2017-12-22</th>\n",
              "      <td>151.82</td>\n",
              "      <td>152.50</td>\n",
              "    </tr>\n",
              "    <tr>\n",
              "      <th>2017-12-26</th>\n",
              "      <td>152.51</td>\n",
              "      <td>152.83</td>\n",
              "    </tr>\n",
              "    <tr>\n",
              "      <th>2017-12-27</th>\n",
              "      <td>152.95</td>\n",
              "      <td>153.13</td>\n",
              "    </tr>\n",
              "    <tr>\n",
              "      <th>2017-12-28</th>\n",
              "      <td>153.20</td>\n",
              "      <td>154.04</td>\n",
              "    </tr>\n",
              "    <tr>\n",
              "      <th>2017-12-29</th>\n",
              "      <td>154.17</td>\n",
              "      <td>153.42</td>\n",
              "    </tr>\n",
              "  </tbody>\n",
              "</table>\n",
              "</div>\n",
              "      <button class=\"colab-df-convert\" onclick=\"convertToInteractive('df-1fdda143-8ad8-4407-82b0-8a05619530c3')\"\n",
              "              title=\"Convert this dataframe to an interactive table.\"\n",
              "              style=\"display:none;\">\n",
              "        \n",
              "  <svg xmlns=\"http://www.w3.org/2000/svg\" height=\"24px\"viewBox=\"0 0 24 24\"\n",
              "       width=\"24px\">\n",
              "    <path d=\"M0 0h24v24H0V0z\" fill=\"none\"/>\n",
              "    <path d=\"M18.56 5.44l.94 2.06.94-2.06 2.06-.94-2.06-.94-.94-2.06-.94 2.06-2.06.94zm-11 1L8.5 8.5l.94-2.06 2.06-.94-2.06-.94L8.5 2.5l-.94 2.06-2.06.94zm10 10l.94 2.06.94-2.06 2.06-.94-2.06-.94-.94-2.06-.94 2.06-2.06.94z\"/><path d=\"M17.41 7.96l-1.37-1.37c-.4-.4-.92-.59-1.43-.59-.52 0-1.04.2-1.43.59L10.3 9.45l-7.72 7.72c-.78.78-.78 2.05 0 2.83L4 21.41c.39.39.9.59 1.41.59.51 0 1.02-.2 1.41-.59l7.78-7.78 2.81-2.81c.8-.78.8-2.07 0-2.86zM5.41 20L4 18.59l7.72-7.72 1.47 1.35L5.41 20z\"/>\n",
              "  </svg>\n",
              "      </button>\n",
              "      \n",
              "  <style>\n",
              "    .colab-df-container {\n",
              "      display:flex;\n",
              "      flex-wrap:wrap;\n",
              "      gap: 12px;\n",
              "    }\n",
              "\n",
              "    .colab-df-convert {\n",
              "      background-color: #E8F0FE;\n",
              "      border: none;\n",
              "      border-radius: 50%;\n",
              "      cursor: pointer;\n",
              "      display: none;\n",
              "      fill: #1967D2;\n",
              "      height: 32px;\n",
              "      padding: 0 0 0 0;\n",
              "      width: 32px;\n",
              "    }\n",
              "\n",
              "    .colab-df-convert:hover {\n",
              "      background-color: #E2EBFA;\n",
              "      box-shadow: 0px 1px 2px rgba(60, 64, 67, 0.3), 0px 1px 3px 1px rgba(60, 64, 67, 0.15);\n",
              "      fill: #174EA6;\n",
              "    }\n",
              "\n",
              "    [theme=dark] .colab-df-convert {\n",
              "      background-color: #3B4455;\n",
              "      fill: #D2E3FC;\n",
              "    }\n",
              "\n",
              "    [theme=dark] .colab-df-convert:hover {\n",
              "      background-color: #434B5C;\n",
              "      box-shadow: 0px 1px 3px 1px rgba(0, 0, 0, 0.15);\n",
              "      filter: drop-shadow(0px 1px 2px rgba(0, 0, 0, 0.3));\n",
              "      fill: #FFFFFF;\n",
              "    }\n",
              "  </style>\n",
              "\n",
              "      <script>\n",
              "        const buttonEl =\n",
              "          document.querySelector('#df-1fdda143-8ad8-4407-82b0-8a05619530c3 button.colab-df-convert');\n",
              "        buttonEl.style.display =\n",
              "          google.colab.kernel.accessAllowed ? 'block' : 'none';\n",
              "\n",
              "        async function convertToInteractive(key) {\n",
              "          const element = document.querySelector('#df-1fdda143-8ad8-4407-82b0-8a05619530c3');\n",
              "          const dataTable =\n",
              "            await google.colab.kernel.invokeFunction('convertToInteractive',\n",
              "                                                     [key], {});\n",
              "          if (!dataTable) return;\n",
              "\n",
              "          const docLinkHtml = 'Like what you see? Visit the ' +\n",
              "            '<a target=\"_blank\" href=https://colab.research.google.com/notebooks/data_table.ipynb>data table notebook</a>'\n",
              "            + ' to learn more about interactive tables.';\n",
              "          element.innerHTML = '';\n",
              "          dataTable['output_type'] = 'display_data';\n",
              "          await google.colab.output.renderOutput(dataTable, element);\n",
              "          const docLink = document.createElement('div');\n",
              "          docLink.innerHTML = docLinkHtml;\n",
              "          element.appendChild(docLink);\n",
              "        }\n",
              "      </script>\n",
              "    </div>\n",
              "  </div>\n",
              "  "
            ]
          },
          "metadata": {}
        },
        {
          "output_type": "stream",
          "name": "stdout",
          "text": [
            "<class 'pandas.core.frame.DataFrame'>\n",
            "DatetimeIndex: 3019 entries, 2006-01-03 to 2017-12-29\n",
            "Data columns (total 2 columns):\n",
            " #   Column  Non-Null Count  Dtype  \n",
            "---  ------  --------------  -----  \n",
            " 0   Open    3019 non-null   float64\n",
            " 1   Close   3019 non-null   float64\n",
            "dtypes: float64(2)\n",
            "memory usage: 70.8 KB\n"
          ]
        },
        {
          "output_type": "display_data",
          "data": {
            "text/plain": [
              "None"
            ]
          },
          "metadata": {}
        }
      ]
    },
    {
      "cell_type": "markdown",
      "metadata": {
        "id": "FriQb8TS6O1R"
      },
      "source": [
        "### Q2: Visualize the Open and Close Cumulative Prices of IBM"
      ]
    },
    {
      "cell_type": "code",
      "execution_count": null,
      "metadata": {
        "colab": {
          "base_uri": "https://localhost:8080/",
          "height": 407
        },
        "id": "8Cc0Zseff-4k",
        "outputId": "abc3b742-1abb-4984-b5d5-26826c28f6de"
      },
      "outputs": [
        {
          "output_type": "execute_result",
          "data": {
            "text/plain": [
              "<matplotlib.legend.Legend at 0x7f1c5415ae20>"
            ]
          },
          "metadata": {},
          "execution_count": 109
        },
        {
          "output_type": "display_data",
          "data": {
            "text/plain": [
              "<Figure size 648x432 with 1 Axes>"
            ],
            "image/png": "[encoded data removed]"
          },
          "metadata": {
            "needs_background": "light"
          }
        }
      ],
      "source": [
        "plt.figure(figsize=(9,6))\n",
        "plt.plot(df_oc['Open'].sort_index().cumsum(), label='Open')\n",
        "plt.plot(df_oc['Close'].sort_index().cumsum(), label='Close')\n",
        "plt.title('Cumulative Prices of Open and Close')\n",
        "plt.legend(loc='best')\n",
        "# df_oc.sort_index().cumsum().plot()"
      ]
    },
    {
      "cell_type": "markdown",
      "metadata": {
        "id": "J0nwpAKqKDfH"
      },
      "source": [
        "####  Before we start working on Time Series forecasting, Let's analyse the autocorrelation plot of the “Open” feature with respect to a few lag values"
      ]
    },
    {
      "cell_type": "markdown",
      "metadata": {
        "id": "xDXdi0pa6O1S"
      },
      "source": [
        "### Auto-correlation plot with Lag 1"
      ]
    },
    {
      "cell_type": "code",
      "execution_count": null,
      "metadata": {
        "colab": {
          "base_uri": "https://localhost:8080/",
          "height": 458
        },
        "id": "ivjXx85Bf_h2",
        "outputId": "6bbb1d53-8119-4c08-f3a3-294acaa5007e"
      },
      "outputs": [
        {
          "output_type": "display_data",
          "data": {
            "text/plain": [
              "<Figure size 504x504 with 1 Axes>"
            ],
            "image/png": "[encoded data removed]"
          },
          "metadata": {
            "needs_background": "light"
          }
        }
      ],
      "source": [
        "# START_CODE_HERE - plot the Autocorrelation plot for feature 'Open'\n",
        "from pandas.plotting import lag_plot\n",
        "\n",
        "plt.figure(figsize=(7,7))\n",
        "lag_plot(df['Open'], lag=1)\n",
        "plt.title('IBM Autocorrelation plot - Lag 1');\n",
        "# END_CODE_HERE"
      ]
    },
    {
      "cell_type": "markdown",
      "metadata": {
        "id": "RJLfIdJS6O1S"
      },
      "source": [
        "### Q3: Visualize the Auto-Correlation plot for IBM Open prices with Lag 5 "
      ]
    },
    {
      "cell_type": "code",
      "execution_count": null,
      "metadata": {
        "colab": {
          "base_uri": "https://localhost:8080/",
          "height": 458
        },
        "id": "1BWxkN2ZhDGq",
        "outputId": "aad964d2-54b0-405b-cc8c-a1f0aa04caff"
      },
      "outputs": [
        {
          "output_type": "display_data",
          "data": {
            "text/plain": [
              "<Figure size 504x504 with 1 Axes>"
            ],
            "image/png": "[encoded data removed]"
          },
          "metadata": {
            "needs_background": "light"
          }
        }
      ],
      "source": [
        "plt.figure(figsize=(7,7))\n",
        "lag_plot(df['Open'], lag=5)\n",
        "plt.title('IBM Autocorrelation plot - Lag 5');"
      ]
    },
    {
      "cell_type": "markdown",
      "metadata": {
        "id": "_NW7CKH26O1S"
      },
      "source": [
        "We see a definite linear trend in the auto-correlation plot telling us there is some correlation in prices with respect to prices from previous 1 / 5 days of lag which sets up the stage of forecasting future prices based on past price data "
      ]
    },
    {
      "cell_type": "markdown",
      "metadata": {
        "id": "1n4_JM9Lhb5K"
      },
      "source": [
        "## ++ Build Train-Test Datasets"
      ]
    },
    {
      "cell_type": "markdown",
      "metadata": {
        "id": "KLTiykRpKh46"
      },
      "source": [
        "#### Now, Let's divide the data into a training and test set. Once done so, we can plot both on the same figure in order to get a feeling of how does our Time Series looks like"
      ]
    },
    {
      "cell_type": "code",
      "execution_count": null,
      "metadata": {
        "id": "dlEMHunIgLjE"
      },
      "outputs": [],
      "source": [
        "train_data, test_data = df.iloc[0:int(len(df)*0.8), :], df.iloc[int(len(df)*0.8):, :]"
      ]
    },
    {
      "cell_type": "code",
      "source": [
        "display(train_data.tail())\n",
        "display(train_data.info())"
      ],
      "metadata": {
        "colab": {
          "base_uri": "https://localhost:8080/",
          "height": 498
        },
        "id": "Oia7ZjYu-oyh",
        "outputId": "1b4fa262-63cc-4148-dee5-26d4d116044a"
      },
      "execution_count": null,
      "outputs": [
        {
          "output_type": "display_data",
          "data": {
            "text/plain": [
              "                  Date    Open    High     Low   Close   Volume Name\n",
              "Date                                                                \n",
              "2015-07-31  2015-07-31  161.40  162.06  160.63  161.99  3580226  IBM\n",
              "2015-08-03  2015-08-03  161.70  161.85  157.90  158.71  4615682  IBM\n",
              "2015-08-04  2015-08-04  158.40  158.82  156.87  157.60  5260575  IBM\n",
              "2015-08-05  2015-08-05  159.10  159.54  157.48  157.90  3472774  IBM\n",
              "2015-08-06  2015-08-06  157.13  157.54  156.18  156.32  3004796  IBM"
            ],
            "text/html": [
              "\n",
              "  <div id=\"df-28eeabb2-3b92-4851-bbe0-50e4469ee103\">\n",
              "    <div class=\"colab-df-container\">\n",
              "      <div>\n",
              "<style scoped>\n",
              "    .dataframe tbody tr th:only-of-type {\n",
              "        vertical-align: middle;\n",
              "    }\n",
              "\n",
              "    .dataframe tbody tr th {\n",
              "        vertical-align: top;\n",
              "    }\n",
              "\n",
              "    .dataframe thead th {\n",
              "        text-align: right;\n",
              "    }\n",
              "</style>\n",
              "<table border=\"1\" class=\"dataframe\">\n",
              "  <thead>\n",
              "    <tr style=\"text-align: right;\">\n",
              "      <th></th>\n",
              "      <th>Date</th>\n",
              "      <th>Open</th>\n",
              "      <th>High</th>\n",
              "      <th>Low</th>\n",
              "      <th>Close</th>\n",
              "      <th>Volume</th>\n",
              "      <th>Name</th>\n",
              "    </tr>\n",
              "    <tr>\n",
              "      <th>Date</th>\n",
              "      <th></th>\n",
              "      <th></th>\n",
              "      <th></th>\n",
              "      <th></th>\n",
              "      <th></th>\n",
              "      <th></th>\n",
              "      <th></th>\n",
              "    </tr>\n",
              "  </thead>\n",
              "  <tbody>\n",
              "    <tr>\n",
              "      <th>2015-07-31</th>\n",
              "      <td>2015-07-31</td>\n",
              "      <td>161.40</td>\n",
              "      <td>162.06</td>\n",
              "      <td>160.63</td>\n",
              "      <td>161.99</td>\n",
              "      <td>3580226</td>\n",
              "      <td>IBM</td>\n",
              "    </tr>\n",
              "    <tr>\n",
              "      <th>2015-08-03</th>\n",
              "      <td>2015-08-03</td>\n",
              "      <td>161.70</td>\n",
              "      <td>161.85</td>\n",
              "      <td>157.90</td>\n",
              "      <td>158.71</td>\n",
              "      <td>4615682</td>\n",
              "      <td>IBM</td>\n",
              "    </tr>\n",
              "    <tr>\n",
              "      <th>2015-08-04</th>\n",
              "      <td>2015-08-04</td>\n",
              "      <td>158.40</td>\n",
              "      <td>158.82</td>\n",
              "      <td>156.87</td>\n",
              "      <td>157.60</td>\n",
              "      <td>5260575</td>\n",
              "      <td>IBM</td>\n",
              "    </tr>\n",
              "    <tr>\n",
              "      <th>2015-08-05</th>\n",
              "      <td>2015-08-05</td>\n",
              "      <td>159.10</td>\n",
              "      <td>159.54</td>\n",
              "      <td>157.48</td>\n",
              "      <td>157.90</td>\n",
              "      <td>3472774</td>\n",
              "      <td>IBM</td>\n",
              "    </tr>\n",
              "    <tr>\n",
              "      <th>2015-08-06</th>\n",
              "      <td>2015-08-06</td>\n",
              "      <td>157.13</td>\n",
              "      <td>157.54</td>\n",
              "      <td>156.18</td>\n",
              "      <td>156.32</td>\n",
              "      <td>3004796</td>\n",
              "      <td>IBM</td>\n",
              "    </tr>\n",
              "  </tbody>\n",
              "</table>\n",
              "</div>\n",
              "      <button class=\"colab-df-convert\" onclick=\"convertToInteractive('df-28eeabb2-3b92-4851-bbe0-50e4469ee103')\"\n",
              "              title=\"Convert this dataframe to an interactive table.\"\n",
              "              style=\"display:none;\">\n",
              "        \n",
              "  <svg xmlns=\"http://www.w3.org/2000/svg\" height=\"24px\"viewBox=\"0 0 24 24\"\n",
              "       width=\"24px\">\n",
              "    <path d=\"M0 0h24v24H0V0z\" fill=\"none\"/>\n",
              "    <path d=\"M18.56 5.44l.94 2.06.94-2.06 2.06-.94-2.06-.94-.94-2.06-.94 2.06-2.06.94zm-11 1L8.5 8.5l.94-2.06 2.06-.94-2.06-.94L8.5 2.5l-.94 2.06-2.06.94zm10 10l.94 2.06.94-2.06 2.06-.94-2.06-.94-.94-2.06-.94 2.06-2.06.94z\"/><path d=\"M17.41 7.96l-1.37-1.37c-.4-.4-.92-.59-1.43-.59-.52 0-1.04.2-1.43.59L10.3 9.45l-7.72 7.72c-.78.78-.78 2.05 0 2.83L4 21.41c.39.39.9.59 1.41.59.51 0 1.02-.2 1.41-.59l7.78-7.78 2.81-2.81c.8-.78.8-2.07 0-2.86zM5.41 20L4 18.59l7.72-7.72 1.47 1.35L5.41 20z\"/>\n",
              "  </svg>\n",
              "      </button>\n",
              "      \n",
              "  <style>\n",
              "    .colab-df-container {\n",
              "      display:flex;\n",
              "      flex-wrap:wrap;\n",
              "      gap: 12px;\n",
              "    }\n",
              "\n",
              "    .colab-df-convert {\n",
              "      background-color: #E8F0FE;\n",
              "      border: none;\n",
              "      border-radius: 50%;\n",
              "      cursor: pointer;\n",
              "      display: none;\n",
              "      fill: #1967D2;\n",
              "      height: 32px;\n",
              "      padding: 0 0 0 0;\n",
              "      width: 32px;\n",
              "    }\n",
              "\n",
              "    .colab-df-convert:hover {\n",
              "      background-color: #E2EBFA;\n",
              "      box-shadow: 0px 1px 2px rgba(60, 64, 67, 0.3), 0px 1px 3px 1px rgba(60, 64, 67, 0.15);\n",
              "      fill: #174EA6;\n",
              "    }\n",
              "\n",
              "    [theme=dark] .colab-df-convert {\n",
              "      background-color: #3B4455;\n",
              "      fill: #D2E3FC;\n",
              "    }\n",
              "\n",
              "    [theme=dark] .colab-df-convert:hover {\n",
              "      background-color: #434B5C;\n",
              "      box-shadow: 0px 1px 3px 1px rgba(0, 0, 0, 0.15);\n",
              "      filter: drop-shadow(0px 1px 2px rgba(0, 0, 0, 0.3));\n",
              "      fill: #FFFFFF;\n",
              "    }\n",
              "  </style>\n",
              "\n",
              "      <script>\n",
              "        const buttonEl =\n",
              "          document.querySelector('#df-28eeabb2-3b92-4851-bbe0-50e4469ee103 button.colab-df-convert');\n",
              "        buttonEl.style.display =\n",
              "          google.colab.kernel.accessAllowed ? 'block' : 'none';\n",
              "\n",
              "        async function convertToInteractive(key) {\n",
              "          const element = document.querySelector('#df-28eeabb2-3b92-4851-bbe0-50e4469ee103');\n",
              "          const dataTable =\n",
              "            await google.colab.kernel.invokeFunction('convertToInteractive',\n",
              "                                                     [key], {});\n",
              "          if (!dataTable) return;\n",
              "\n",
              "          const docLinkHtml = 'Like what you see? Visit the ' +\n",
              "            '<a target=\"_blank\" href=https://colab.research.google.com/notebooks/data_table.ipynb>data table notebook</a>'\n",
              "            + ' to learn more about interactive tables.';\n",
              "          element.innerHTML = '';\n",
              "          dataTable['output_type'] = 'display_data';\n",
              "          await google.colab.output.renderOutput(dataTable, element);\n",
              "          const docLink = document.createElement('div');\n",
              "          docLink.innerHTML = docLinkHtml;\n",
              "          element.appendChild(docLink);\n",
              "        }\n",
              "      </script>\n",
              "    </div>\n",
              "  </div>\n",
              "  "
            ]
          },
          "metadata": {}
        },
        {
          "output_type": "stream",
          "name": "stdout",
          "text": [
            "<class 'pandas.core.frame.DataFrame'>\n",
            "DatetimeIndex: 2415 entries, 2006-01-03 to 2015-08-06\n",
            "Data columns (total 7 columns):\n",
            " #   Column  Non-Null Count  Dtype  \n",
            "---  ------  --------------  -----  \n",
            " 0   Date    2415 non-null   object \n",
            " 1   Open    2415 non-null   float64\n",
            " 2   High    2415 non-null   float64\n",
            " 3   Low     2415 non-null   float64\n",
            " 4   Close   2415 non-null   float64\n",
            " 5   Volume  2415 non-null   int64  \n",
            " 6   Name    2415 non-null   object \n",
            "dtypes: float64(4), int64(1), object(2)\n",
            "memory usage: 150.9+ KB\n"
          ]
        },
        {
          "output_type": "display_data",
          "data": {
            "text/plain": [
              "None"
            ]
          },
          "metadata": {}
        }
      ]
    },
    {
      "cell_type": "code",
      "source": [
        "display(test_data.tail())\n",
        "display(test_data.info())"
      ],
      "metadata": {
        "colab": {
          "base_uri": "https://localhost:8080/",
          "height": 498
        },
        "id": "7BcN5ht2-x2Q",
        "outputId": "c54a2280-e9cf-4662-c1e7-71f9e58040c6"
      },
      "execution_count": null,
      "outputs": [
        {
          "output_type": "display_data",
          "data": {
            "text/plain": [
              "                  Date    Open    High     Low   Close   Volume Name\n",
              "Date                                                                \n",
              "2017-12-22  2017-12-22  151.82  153.00  151.50  152.50  2990583  IBM\n",
              "2017-12-26  2017-12-26  152.51  153.86  152.50  152.83  2479017  IBM\n",
              "2017-12-27  2017-12-27  152.95  153.18  152.61  153.13  2149257  IBM\n",
              "2017-12-28  2017-12-28  153.20  154.12  153.20  154.04  2687624  IBM\n",
              "2017-12-29  2017-12-29  154.17  154.72  153.42  153.42  3327087  IBM"
            ],
            "text/html": [
              "\n",
              "  <div id=\"df-020bfea8-4dd3-47ff-a388-d404d11a8ddb\">\n",
              "    <div class=\"colab-df-container\">\n",
              "      <div>\n",
              "<style scoped>\n",
              "    .dataframe tbody tr th:only-of-type {\n",
              "        vertical-align: middle;\n",
              "    }\n",
              "\n",
              "    .dataframe tbody tr th {\n",
              "        vertical-align: top;\n",
              "    }\n",
              "\n",
              "    .dataframe thead th {\n",
              "        text-align: right;\n",
              "    }\n",
              "</style>\n",
              "<table border=\"1\" class=\"dataframe\">\n",
              "  <thead>\n",
              "    <tr style=\"text-align: right;\">\n",
              "      <th></th>\n",
              "      <th>Date</th>\n",
              "      <th>Open</th>\n",
              "      <th>High</th>\n",
              "      <th>Low</th>\n",
              "      <th>Close</th>\n",
              "      <th>Volume</th>\n",
              "      <th>Name</th>\n",
              "    </tr>\n",
              "    <tr>\n",
              "      <th>Date</th>\n",
              "      <th></th>\n",
              "      <th></th>\n",
              "      <th></th>\n",
              "      <th></th>\n",
              "      <th></th>\n",
              "      <th></th>\n",
              "      <th></th>\n",
              "    </tr>\n",
              "  </thead>\n",
              "  <tbody>\n",
              "    <tr>\n",
              "      <th>2017-12-22</th>\n",
              "      <td>2017-12-22</td>\n",
              "      <td>151.82</td>\n",
              "      <td>153.00</td>\n",
              "      <td>151.50</td>\n",
              "      <td>152.50</td>\n",
              "      <td>2990583</td>\n",
              "      <td>IBM</td>\n",
              "    </tr>\n",
              "    <tr>\n",
              "      <th>2017-12-26</th>\n",
              "      <td>2017-12-26</td>\n",
              "      <td>152.51</td>\n",
              "      <td>153.86</td>\n",
              "      <td>152.50</td>\n",
              "      <td>152.83</td>\n",
              "      <td>2479017</td>\n",
              "      <td>IBM</td>\n",
              "    </tr>\n",
              "    <tr>\n",
              "      <th>2017-12-27</th>\n",
              "      <td>2017-12-27</td>\n",
              "      <td>152.95</td>\n",
              "      <td>153.18</td>\n",
              "      <td>152.61</td>\n",
              "      <td>153.13</td>\n",
              "      <td>2149257</td>\n",
              "      <td>IBM</td>\n",
              "    </tr>\n",
              "    <tr>\n",
              "      <th>2017-12-28</th>\n",
              "      <td>2017-12-28</td>\n",
              "      <td>153.20</td>\n",
              "      <td>154.12</td>\n",
              "      <td>153.20</td>\n",
              "      <td>154.04</td>\n",
              "      <td>2687624</td>\n",
              "      <td>IBM</td>\n",
              "    </tr>\n",
              "    <tr>\n",
              "      <th>2017-12-29</th>\n",
              "      <td>2017-12-29</td>\n",
              "      <td>154.17</td>\n",
              "      <td>154.72</td>\n",
              "      <td>153.42</td>\n",
              "      <td>153.42</td>\n",
              "      <td>3327087</td>\n",
              "      <td>IBM</td>\n",
              "    </tr>\n",
              "  </tbody>\n",
              "</table>\n",
              "</div>\n",
              "      <button class=\"colab-df-convert\" onclick=\"convertToInteractive('df-020bfea8-4dd3-47ff-a388-d404d11a8ddb')\"\n",
              "              title=\"Convert this dataframe to an interactive table.\"\n",
              "              style=\"display:none;\">\n",
              "        \n",
              "  <svg xmlns=\"http://www.w3.org/2000/svg\" height=\"24px\"viewBox=\"0 0 24 24\"\n",
              "       width=\"24px\">\n",
              "    <path d=\"M0 0h24v24H0V0z\" fill=\"none\"/>\n",
              "    <path d=\"M18.56 5.44l.94 2.06.94-2.06 2.06-.94-2.06-.94-.94-2.06-.94 2.06-2.06.94zm-11 1L8.5 8.5l.94-2.06 2.06-.94-2.06-.94L8.5 2.5l-.94 2.06-2.06.94zm10 10l.94 2.06.94-2.06 2.06-.94-2.06-.94-.94-2.06-.94 2.06-2.06.94z\"/><path d=\"M17.41 7.96l-1.37-1.37c-.4-.4-.92-.59-1.43-.59-.52 0-1.04.2-1.43.59L10.3 9.45l-7.72 7.72c-.78.78-.78 2.05 0 2.83L4 21.41c.39.39.9.59 1.41.59.51 0 1.02-.2 1.41-.59l7.78-7.78 2.81-2.81c.8-.78.8-2.07 0-2.86zM5.41 20L4 18.59l7.72-7.72 1.47 1.35L5.41 20z\"/>\n",
              "  </svg>\n",
              "      </button>\n",
              "      \n",
              "  <style>\n",
              "    .colab-df-container {\n",
              "      display:flex;\n",
              "      flex-wrap:wrap;\n",
              "      gap: 12px;\n",
              "    }\n",
              "\n",
              "    .colab-df-convert {\n",
              "      background-color: #E8F0FE;\n",
              "      border: none;\n",
              "      border-radius: 50%;\n",
              "      cursor: pointer;\n",
              "      display: none;\n",
              "      fill: #1967D2;\n",
              "      height: 32px;\n",
              "      padding: 0 0 0 0;\n",
              "      width: 32px;\n",
              "    }\n",
              "\n",
              "    .colab-df-convert:hover {\n",
              "      background-color: #E2EBFA;\n",
              "      box-shadow: 0px 1px 2px rgba(60, 64, 67, 0.3), 0px 1px 3px 1px rgba(60, 64, 67, 0.15);\n",
              "      fill: #174EA6;\n",
              "    }\n",
              "\n",
              "    [theme=dark] .colab-df-convert {\n",
              "      background-color: #3B4455;\n",
              "      fill: #D2E3FC;\n",
              "    }\n",
              "\n",
              "    [theme=dark] .colab-df-convert:hover {\n",
              "      background-color: #434B5C;\n",
              "      box-shadow: 0px 1px 3px 1px rgba(0, 0, 0, 0.15);\n",
              "      filter: drop-shadow(0px 1px 2px rgba(0, 0, 0, 0.3));\n",
              "      fill: #FFFFFF;\n",
              "    }\n",
              "  </style>\n",
              "\n",
              "      <script>\n",
              "        const buttonEl =\n",
              "          document.querySelector('#df-020bfea8-4dd3-47ff-a388-d404d11a8ddb button.colab-df-convert');\n",
              "        buttonEl.style.display =\n",
              "          google.colab.kernel.accessAllowed ? 'block' : 'none';\n",
              "\n",
              "        async function convertToInteractive(key) {\n",
              "          const element = document.querySelector('#df-020bfea8-4dd3-47ff-a388-d404d11a8ddb');\n",
              "          const dataTable =\n",
              "            await google.colab.kernel.invokeFunction('convertToInteractive',\n",
              "                                                     [key], {});\n",
              "          if (!dataTable) return;\n",
              "\n",
              "          const docLinkHtml = 'Like what you see? Visit the ' +\n",
              "            '<a target=\"_blank\" href=https://colab.research.google.com/notebooks/data_table.ipynb>data table notebook</a>'\n",
              "            + ' to learn more about interactive tables.';\n",
              "          element.innerHTML = '';\n",
              "          dataTable['output_type'] = 'display_data';\n",
              "          await google.colab.output.renderOutput(dataTable, element);\n",
              "          const docLink = document.createElement('div');\n",
              "          docLink.innerHTML = docLinkHtml;\n",
              "          element.appendChild(docLink);\n",
              "        }\n",
              "      </script>\n",
              "    </div>\n",
              "  </div>\n",
              "  "
            ]
          },
          "metadata": {}
        },
        {
          "output_type": "stream",
          "name": "stdout",
          "text": [
            "<class 'pandas.core.frame.DataFrame'>\n",
            "DatetimeIndex: 604 entries, 2015-08-07 to 2017-12-29\n",
            "Data columns (total 7 columns):\n",
            " #   Column  Non-Null Count  Dtype  \n",
            "---  ------  --------------  -----  \n",
            " 0   Date    604 non-null    object \n",
            " 1   Open    604 non-null    float64\n",
            " 2   High    604 non-null    float64\n",
            " 3   Low     604 non-null    float64\n",
            " 4   Close   604 non-null    float64\n",
            " 5   Volume  604 non-null    int64  \n",
            " 6   Name    604 non-null    object \n",
            "dtypes: float64(4), int64(1), object(2)\n",
            "memory usage: 37.8+ KB\n"
          ]
        },
        {
          "output_type": "display_data",
          "data": {
            "text/plain": [
              "None"
            ]
          },
          "metadata": {}
        }
      ]
    },
    {
      "cell_type": "code",
      "execution_count": null,
      "metadata": {
        "colab": {
          "base_uri": "https://localhost:8080/",
          "height": 458
        },
        "id": "nXQdYUp0isTi",
        "outputId": "7767b6ad-2a8d-423c-9fcb-f55893f4736b"
      },
      "outputs": [
        {
          "output_type": "display_data",
          "data": {
            "text/plain": [
              "<Figure size 864x504 with 1 Axes>"
            ],
            "image/png": "[encoded data removed]"
          },
          "metadata": {
            "needs_background": "light"
          }
        }
      ],
      "source": [
        "plt.figure(figsize=(12,7))\n",
        "plt.title('IBM Prices')\n",
        "plt.xlabel('Dates')\n",
        "plt.ylabel('Prices')\n",
        "plt.plot(train_data['Open'], 'blue', label='Training Data')\n",
        "plt.plot(test_data['Open'], 'green', label='Testing Data')\n",
        "plt.legend();"
      ]
    },
    {
      "cell_type": "markdown",
      "metadata": {
        "id": "wJhAHw6PKrQh"
      },
      "source": [
        "# ARIMA (AutoRegressive Integrated Moving Average)\n",
        "\n",
        "The acronym of ARIMA stands for:\n",
        "\n",
        "AutoRegressive(AR) = the model takes advantage of the connection between a predefined number of lagged observations and the current one.\n",
        "\n",
        "Integrated(I) = differencing between raw observations (eg. subtracting observations at different time steps).\n",
        "\n",
        "Moving Average(MA) = the model takes advantage of the relationship between the residual error and the observations.\n",
        "\n",
        "The ARIMA model makes use of three main parameters (p,d,q). These are:\n",
        "\n",
        "p = number of lag observations.\n",
        "\n",
        "d = the degree of differencing.\n",
        "\n",
        "q = the size of the moving average window.\n",
        "\n"
      ]
    },
    {
      "cell_type": "markdown",
      "metadata": {
        "id": "Ftf6yg95L7CR"
      },
      "source": [
        "## Understaning the ARIMA Model\n",
        "\n",
        "### the ARIMA parameters - used to help model the major aspects of a times series: seasonality (p), trend (d), and noise (q). These parameters are labeled p, d, and q. You have already learnt a fair bit of this in the curriculum but following is a brief refresher.\n",
        "\n",
        "__p:__ is the parameter associated with the auto-regressive aspect of the model, which incorporates past values. For example, forecasting that if it rained a lot over the past few days, you state its likely that it will rain tomorrow as well.\n",
        "\n",
        "__d:__ is the parameter associated with the integrated part of the model, which effects the amount of differencing to apply to a time series. You can imagine an example of this as forecasting that the amount of rain tomorrow will be similar to the amount of rain today, if the daily amounts of rain have been similar over the past few days.\n",
        "\n",
        "__q:__ is the parameter associated with the moving average part of the model.\n",
        "\n",
        "### Approach to determine the parameters\n",
        "There are many ways to choose these values statistically, such as looking at auto-correlation plots, correlation plots, domain experience, etc.\n",
        "\n",
        "Another approach is to perform a grid search over multiple values of p,d,q using some sort of performance criteria. The Akaike information criterion (AIC) is an estimator of the relative quality of statistical models for a given set of data. Given a collection of models for the data, AIC estimates the quality of each model, relative to each of the other models.\n",
        "\n",
        "\n",
        "In this exercise, we will look into the statistical method of getting these values from auto-correlation and correlation plots."
      ]
    },
    {
      "cell_type": "markdown",
      "metadata": {
        "id": "iP5Qup5I7l0x"
      },
      "source": [
        "### ** Stationarity of the data - Determine the d value\n",
        "\n",
        "Stationarity typically indicates various statistical measures of the time series do not change over time. Thus, a time series is stationary when its mean, variance and auto-correlation, etc., are constant over time. \n",
        "\n",
        "Most time-series forecasting models typically perform well when the series is stationary and hence it is important to find out if your time-series dataset is stationary. \n",
        "\n",
        "ARIMAs that include differencing (i.e., d > 0) assume that the data becomes stationary after differencing. This is called difference-stationary. \n",
        "\n",
        "Auto-correlation plots are an easy way to determine whether your time series is sufficiently stationary for modeling. \n",
        "\n",
        "If the plot does not appear relatively stationary, your model will likely need a differencing term. \n",
        "\n",
        "The Augmented Dickey-Fuller test is an important statistical test which we will use to prove if the series is stationary or not and take necessary steps in case it is not stationary."
      ]
    },
    {
      "cell_type": "code",
      "execution_count": null,
      "metadata": {
        "colab": {
          "base_uri": "https://localhost:8080/",
          "height": 390
        },
        "id": "0TfnfVdMleJY",
        "outputId": "6f2e7554-bc24-4389-acc7-bf9c5c4cc0ff"
      },
      "outputs": [
        {
          "output_type": "display_data",
          "data": {
            "text/plain": [
              "<Figure size 720x432 with 1 Axes>"
            ],
            "image/png": "[encoded data removed]"
          },
          "metadata": {
            "needs_background": "light"
          }
        }
      ],
      "source": [
        "window = 7\n",
        "train_series = train_data['Open']\n",
        "\n",
        "#Determine rolling statistics\n",
        "rolmean = train_series.rolling(window).mean()\n",
        "rolstd  = train_series.rolling(window).std()\n",
        "\n",
        "#Plot rolling statistics:\n",
        "fig = plt.figure(figsize=(10, 6))\n",
        "orig = plt.plot(train_series, color='blue',label='Original')\n",
        "mean = plt.plot(rolmean, color='red', label='Rolling Mean')\n",
        "std = plt.plot(rolstd, color='black', label = 'Rolling Std')\n",
        "plt.legend(loc='best')\n",
        "plt.title('Rolling Mean & Standard Deviation');\n"
      ]
    },
    {
      "cell_type": "code",
      "source": [
        "display(train_series.tail())\n",
        "display(train_series.shape)"
      ],
      "metadata": {
        "colab": {
          "base_uri": "https://localhost:8080/",
          "height": 156
        },
        "id": "5o1uekGtCPXF",
        "outputId": "89b05d7e-7a65-47c2-a973-80694e1faa95"
      },
      "execution_count": null,
      "outputs": [
        {
          "output_type": "display_data",
          "data": {
            "text/plain": [
              "Date\n",
              "2015-07-31    161.40\n",
              "2015-08-03    161.70\n",
              "2015-08-04    158.40\n",
              "2015-08-05    159.10\n",
              "2015-08-06    157.13\n",
              "Name: Open, dtype: float64"
            ]
          },
          "metadata": {}
        },
        {
          "output_type": "display_data",
          "data": {
            "text/plain": [
              "(2415,)"
            ]
          },
          "metadata": {}
        }
      ]
    },
    {
      "cell_type": "code",
      "execution_count": null,
      "metadata": {
        "colab": {
          "base_uri": "https://localhost:8080/"
        },
        "id": "RM44jwLammeY",
        "outputId": "b2438e11-84fd-4a2b-f15e-589895d70cd6"
      },
      "outputs": [
        {
          "output_type": "execute_result",
          "data": {
            "text/plain": [
              "Test Statistic                   -1.487786\n",
              "p-value                           0.539545\n",
              "#Lags Used                        7.000000\n",
              "Number of Observations Used    2407.000000\n",
              "Critical Value (1%)              -3.433070\n",
              "Critical Value (5%)              -2.862742\n",
              "Critical Value (10%)             -2.567410\n",
              "dtype: float64"
            ]
          },
          "metadata": {},
          "execution_count": 118
        }
      ],
      "source": [
        "from statsmodels.tsa.stattools import adfuller\n",
        "\n",
        "dftest = adfuller(train_series, autolag='AIC')\n",
        "dfoutput = pd.Series(dftest[0:4], index=['Test Statistic','p-value','#Lags Used','Number of Observations Used'])\n",
        "for key,value in dftest[4].items():\n",
        "    dfoutput['Critical Value (%s)'%key] = value\n",
        "dfoutput"
      ]
    },
    {
      "cell_type": "markdown",
      "metadata": {
        "id": "R1YJhVNzZD87"
      },
      "source": [
        "If the p-value is small beyond a specific significance level threshold, let's consider that to be a standard value of 0.05, then we can say the series is stationary. From the above statistics, we can observe that the p-value is 0.539 which proves that our series is not stationary.\n",
        "\n",
        "To get stationary data, there are many techniques. We can use log, differencing and so on. Let's use a first order differencing here."
      ]
    },
    {
      "cell_type": "markdown",
      "metadata": {
        "id": "dqR6AWTK6O1T"
      },
      "source": [
        "### ** Q4: Apply a first order differencing on the training data\n",
        "\n",
        "Hint: Check out the __`diff()`__ function in pandas and try using it on the __`train_series`__ dataset"
      ]
    },
    {
      "cell_type": "code",
      "execution_count": null,
      "metadata": {
        "id": "EomzoS5494th"
      },
      "outputs": [],
      "source": [
        "train_diff = train_series.diff()\n",
        "train_diff = train_diff.dropna(inplace = False)"
      ]
    },
    {
      "cell_type": "code",
      "source": [
        "display(type(train_diff))\n",
        "display(train_diff.head())\n",
        "display(train_diff.shape)"
      ],
      "metadata": {
        "colab": {
          "base_uri": "https://localhost:8080/",
          "height": 173
        },
        "id": "KE-pMM3aDM4N",
        "outputId": "1737583e-58fd-42d9-9ec8-b79d39ee5b96"
      },
      "execution_count": null,
      "outputs": [
        {
          "output_type": "display_data",
          "data": {
            "text/plain": [
              "pandas.core.series.Series"
            ]
          },
          "metadata": {}
        },
        {
          "output_type": "display_data",
          "data": {
            "text/plain": [
              "Date\n",
              "2006-01-04   -0.25\n",
              "2006-01-05   -0.80\n",
              "2006-01-06    2.55\n",
              "2006-01-09    0.15\n",
              "2006-01-10   -0.95\n",
              "Name: Open, dtype: float64"
            ]
          },
          "metadata": {}
        },
        {
          "output_type": "display_data",
          "data": {
            "text/plain": [
              "(2414,)"
            ]
          },
          "metadata": {}
        }
      ]
    },
    {
      "cell_type": "markdown",
      "metadata": {
        "id": "JKtON1P56O1T"
      },
      "source": [
        "### ** Q5: Visualize Rolling statistics for differenced train data"
      ]
    },
    {
      "cell_type": "code",
      "execution_count": null,
      "metadata": {
        "colab": {
          "base_uri": "https://localhost:8080/",
          "height": 390
        },
        "id": "kStK1sqjn_df",
        "outputId": "67488e15-d6a2-4370-c21b-6d88bd63537a"
      },
      "outputs": [
        {
          "output_type": "display_data",
          "data": {
            "text/plain": [
              "<Figure size 720x432 with 1 Axes>"
            ],
            "image/png": "[encoded data removed]"
          },
          "metadata": {
            "needs_background": "light"
          }
        }
      ],
      "source": [
        "#Determine rolling statistics\n",
        "rolmean = train_diff.rolling(window).mean()\n",
        "rolstd  = train_diff.rolling(window).std()\n",
        "\n",
        "#Plot rolling statistics:\n",
        "fig = plt.figure(figsize=(10, 6))\n",
        "orig = plt.plot(train_diff, color='blue',label='Original')\n",
        "mean = plt.plot(rolmean, color='red', label='Rolling Mean')\n",
        "std = plt.plot(rolstd, color='black', label = 'Rolling Std')\n",
        "plt.legend(loc='best')\n",
        "plt.title('Rolling Mean & Standard Deviation of train_diff');\n"
      ]
    },
    {
      "cell_type": "markdown",
      "metadata": {
        "id": "wR8X1owx6O1T"
      },
      "source": [
        "### Q6: Compute AD-Fuller Stats for differenced train data"
      ]
    },
    {
      "cell_type": "code",
      "execution_count": null,
      "metadata": {
        "colab": {
          "base_uri": "https://localhost:8080/"
        },
        "id": "OgNoMUJ1oE7V",
        "outputId": "77c78344-37c9-4e31-b367-803d424302b4"
      },
      "outputs": [
        {
          "output_type": "execute_result",
          "data": {
            "text/plain": [
              "Test Statistic                  -20.324277\n",
              "p-value                           0.000000\n",
              "#Lags Used                        6.000000\n",
              "Number of Observations Used    2407.000000\n",
              "Critical Value (1%)              -3.433070\n",
              "Critical Value (5%)              -2.862742\n",
              "Critical Value (10%)             -2.567410\n",
              "dtype: float64"
            ]
          },
          "metadata": {},
          "execution_count": 122
        }
      ],
      "source": [
        "dftest = adfuller(train_diff, autolag='AIC')\n",
        "dfoutput = pd.Series(dftest[0:4], index=['Test Statistic','p-value','#Lags Used','Number of Observations Used'])\n",
        "for key,value in dftest[4].items():\n",
        "    dfoutput['Critical Value (%s)'%key] = value\n",
        "dfoutput"
      ]
    },
    {
      "cell_type": "markdown",
      "metadata": {
        "id": "-T_wDkhRZdqm"
      },
      "source": [
        "After differencing, the p-value is extremely small. Thus this series is very likely to be stationary."
      ]
    },
    {
      "cell_type": "markdown",
      "metadata": {
        "id": "QhY85n0qa85g"
      },
      "source": [
        "### ++ ACF Plots (Auto Correlation Function):\n",
        "ACF is an auto-correlation function which gives us correlation of any series with its lagged values(previous timestep values).\n",
        "\n",
        "ACF plot describes the correlation of the current value with the previous lagged values(specified by *lags*).\n",
        "\n",
        "For example, how the dependency chain is followed as direct dependency .... $S_{t-2} --> S_{t-1} --> S_t$*\n",
        "\n",
        "Also, ACF finds correlation between $S_{t-2} --> S_t$ (indirect dependency).\n",
        "\n",
        "* --> = represents dependency\n",
        "\n",
        "#### Limitation: \n",
        "ACF is not very accurate as indirect dependency is affected by direct dependency and so the plots are always above the confidence band(as shown below)."
      ]
    },
    {
      "cell_type": "markdown",
      "metadata": {
        "id": "fXEjp5BubI-L"
      },
      "source": [
        "### PACF Plots: Pearson Auto Correlation Function:\n",
        "PACF plots models the indirect dependencies and is not affected by the direct dependencies.\n",
        "\n",
        "$S_{t-2} --> S_t$\n",
        "\n",
        "From the below example we can see how today's value is affected by the last 10 days. \n",
        "\n",
        "The points that lie inside the blue confidence band do not correlate with or affect today's value. In ACF, we saw that all values are above the confidence band(as $S_{t-2} --> S{t}$ is affected by $S_{t-1} --> S_t$), which is not a good representation of the correlation.\n",
        "\n",
        "\n",
        "In PACF, indirect dependencies are modelled well."
      ]
    },
    {
      "cell_type": "markdown",
      "metadata": {
        "id": "9nG-g8DDZhL5"
      },
      "source": [
        "## ACF and PACF - AR and MA Intuition\n",
        "The partial autocorrelation at lag k is the correlation that results after removing the effect of any correlations due to the terms at shorter lags.\n",
        "\n",
        "### Autoregression Intuition\n",
        "Consider a time series that was generated by an autoregression (AR) process with a lag of k.\n",
        "\n",
        "We know that the ACF describes the autocorrelation between an observation and another observation at a prior time step that includes direct and indirect dependence information.\n",
        "\n",
        "This means we would expect the ACF for the AR(k) time series to be strong to a lag of k and the inertia of that relationship would carry on to subsequent lag values, trailing off at some point as the effect was weakened.\n",
        "\n",
        "We know that the PACF only describes the direct relationship between an observation and its lag. This would suggest that there would be no correlation for lag values beyond k.\n",
        "\n",
        "This is exactly the expectation of the ACF and PACF plots for an AR(k) process.\n",
        "\n",
        "### Moving Average Intuition\n",
        "Consider a time series that was generated by a moving average (MA) process with a lag of k.\n",
        "\n",
        "Remember that the moving average process is an autoregression model of the time series of residual errors from prior predictions. Another way to think about the moving average model is that it corrects future forecasts based on errors made on recent forecasts.\n",
        "\n",
        "We would expect the ACF for the MA(k) process to show a strong correlation with recent values up to the lag of k, then a sharp decline to low or no correlation. By definition, this is how the process was generated.\n",
        "\n",
        "For the PACF, we would expect the plot to show a strong relationship to the lag and a trailing off of correlation from the lag onwards.\n",
        "\n",
        "Again, this is exactly the expectation of the ACF and PACF plots for an MA(k) process."
      ]
    },
    {
      "cell_type": "markdown",
      "metadata": {
        "id": "5TJnWzPu6O1U"
      },
      "source": [
        "### Plot ACF and PACF on the original train series"
      ]
    },
    {
      "cell_type": "code",
      "execution_count": null,
      "metadata": {
        "colab": {
          "base_uri": "https://localhost:8080/",
          "height": 499
        },
        "id": "TKCS364Bq2BP",
        "outputId": "0635c5c0-8064-425a-ac74-7c924fa4a5d7"
      },
      "outputs": [
        {
          "output_type": "display_data",
          "data": {
            "text/plain": [
              "<Figure size 864x576 with 2 Axes>"
            ],
            "image/png": "[encoded data removed]"
          },
          "metadata": {
            "needs_background": "light"
          }
        }
      ],
      "source": [
        "from statsmodels.graphics.tsaplots import plot_acf, plot_pacf\n",
        "\n",
        "fig, ax = plt.subplots(2, 1, figsize=(12,8))\n",
        "plot_acf(train_series, ax=ax[0]); # \n",
        "plot_pacf(train_series, ax=ax[1]);"
      ]
    },
    {
      "cell_type": "markdown",
      "metadata": {
        "id": "jJ61JQOn6O1U"
      },
      "source": [
        "### Q7: Plot ACF and PACF on the differenced train series"
      ]
    },
    {
      "cell_type": "code",
      "execution_count": null,
      "metadata": {
        "colab": {
          "base_uri": "https://localhost:8080/",
          "height": 499
        },
        "id": "FPxG3Hkwpl6u",
        "outputId": "29d929c7-43d5-4311-f2de-e70cfeb198f3"
      },
      "outputs": [
        {
          "output_type": "display_data",
          "data": {
            "text/plain": [
              "<Figure size 864x576 with 2 Axes>"
            ],
            "image/png": "[encoded data removed]"
          },
          "metadata": {
            "needs_background": "light"
          }
        }
      ],
      "source": [
        "fig, ax = plt.subplots(2, 1, figsize=(12,8))\n",
        "plot_acf(train_diff, ax=ax[0]); # \n",
        "plot_pacf(train_diff, ax=ax[1]);"
      ]
    },
    {
      "cell_type": "markdown",
      "metadata": {
        "id": "z4veOUVxSP8j"
      },
      "source": [
        "# How to determine p, d, q\n",
        "\n",
        "It's easy to determine d. In our case, we see the first order differencing make the ts stationary. Hence d = 1\n",
        "\n",
        "AR model might be investigated first with lag length selected from the PACF or via empirical investigation. In our case, it's clearly that within 5 lags the AR is significant. Which means, we can use AR = 5 i.e, p = 5\n",
        "\n",
        "To avoid the potential for incorrectly specifying the MA order to be too high we set MA = 0 i.e q = 0 by taking a look at the ACF plot though we do have a value of 5 which is significant considering the interval but we start off with the first lag value i.e q = 0.\n",
        "\n",
        "Hence:\n",
        "\n",
        "- p=5\n",
        "- d=1\n",
        "- q=0"
      ]
    },
    {
      "cell_type": "markdown",
      "metadata": {
        "id": "dCEcnGXsdLkl"
      },
      "source": [
        "# Evaluation of ARIMA Model\n",
        "\n",
        "In order to evaluate the ARIMA model,we can use two different error functions:\n",
        "\n",
        "- Mean Squared Error (MSE)\n",
        "- Symmetric Mean Absolute Percentage Error (SMAPE)\n",
        "\n",
        "SMAPE is commonly used as an accuracy measure based on relative errors"
      ]
    },
    {
      "cell_type": "markdown",
      "metadata": {
        "id": "iClH4YhNdSCB"
      },
      "source": [
        "### SMAPE\n",
        "\n",
        "![](https://drive.google.com/uc?id=1mmDxsP0wL3Py965mYUdgmjtCclxaGIcd)\n",
        "\n",
        "SMAPE is not currently supported in Scikit-learn as a loss function, therefore we first create this function."
      ]
    },
    {
      "cell_type": "code",
      "execution_count": null,
      "metadata": {
        "id": "v36vtXA1dZPo"
      },
      "outputs": [],
      "source": [
        "def smape_kun(y_true, y_pred):\n",
        "    # START_CODE_HERE\n",
        "    return np.mean( (np.abs(y_pred - y_true) * 200 / (np.abs(y_pred) + np.abs(y_true))) )\n",
        "    # END_CODE_HERE"
      ]
    },
    {
      "cell_type": "markdown",
      "metadata": {
        "id": "6a2lmlX56O1U"
      },
      "source": [
        "### Q8: Difference the Test Series"
      ]
    },
    {
      "cell_type": "code",
      "execution_count": null,
      "metadata": {
        "id": "_YRY19919xXD"
      },
      "outputs": [],
      "source": [
        "test_series = test_data['Open']\n",
        "test_diff = test_series.diff()\n",
        "test_diff = test_diff.dropna(inplace = False)"
      ]
    },
    {
      "cell_type": "code",
      "source": [
        "display(test_series.tail())\n",
        "display(test_series.shape)\n",
        "print()\n",
        "display(test_diff.tail())\n",
        "display(test_diff.shape)\n",
        "display(type(test_diff))"
      ],
      "metadata": {
        "colab": {
          "base_uri": "https://localhost:8080/",
          "height": 329
        },
        "id": "DpQ0Eejl0PgP",
        "outputId": "ee2fb300-19df-4b5c-89d5-74bf69e17474"
      },
      "execution_count": null,
      "outputs": [
        {
          "output_type": "display_data",
          "data": {
            "text/plain": [
              "Date\n",
              "2017-12-22    151.82\n",
              "2017-12-26    152.51\n",
              "2017-12-27    152.95\n",
              "2017-12-28    153.20\n",
              "2017-12-29    154.17\n",
              "Name: Open, dtype: float64"
            ]
          },
          "metadata": {}
        },
        {
          "output_type": "display_data",
          "data": {
            "text/plain": [
              "(604,)"
            ]
          },
          "metadata": {}
        },
        {
          "output_type": "stream",
          "name": "stdout",
          "text": [
            "\n"
          ]
        },
        {
          "output_type": "display_data",
          "data": {
            "text/plain": [
              "Date\n",
              "2017-12-22   -1.35\n",
              "2017-12-26    0.69\n",
              "2017-12-27    0.44\n",
              "2017-12-28    0.25\n",
              "2017-12-29    0.97\n",
              "Name: Open, dtype: float64"
            ]
          },
          "metadata": {}
        },
        {
          "output_type": "display_data",
          "data": {
            "text/plain": [
              "(603,)"
            ]
          },
          "metadata": {}
        },
        {
          "output_type": "display_data",
          "data": {
            "text/plain": [
              "pandas.core.series.Series"
            ]
          },
          "metadata": {}
        }
      ]
    },
    {
      "cell_type": "markdown",
      "metadata": {
        "id": "G0gMGmsT6O1U"
      },
      "source": [
        "### Q9: Train and Forecast using ARIMA Model by filling in the necessary blocks\n",
        "\n",
        "Note: Here we will use a rolling point-based prediction for the ARIMA model where we tried to predict every day's (t) stock price in the test data by using both the training data as well as the previous (n - t) days of test data also to fit the model.\n",
        "Of course this is not the only way for forecasting and you can do it in multiple ways e.g just use train data to forecast, use a window of days to forecast including test data and so on."
      ]
    },
    {
      "cell_type": "code",
      "execution_count": null,
      "metadata": {
        "id": "9_0v9P7OtoVu"
      },
      "outputs": [],
      "source": [
        "from statsmodels.tsa.arima_model import ARIMA\n",
        "from sklearn.metrics import mean_squared_error"
      ]
    },
    {
      "cell_type": "code",
      "execution_count": null,
      "metadata": {
        "colab": {
          "base_uri": "https://localhost:8080/"
        },
        "id": "IUvMaWIRg4VR",
        "outputId": "f925ea1c-993a-4ab3-f0f7-17184e81e855"
      },
      "outputs": [
        {
          "output_type": "stream",
          "name": "stdout",
          "text": [
            "Test Series Point: 0\tPredicted=-0.5244367205769485, Expected=0.8800000000000239\n",
            "Test Series Point: 20\tPredicted=-0.6146665908113891, Expected=1.2900000000000205\n",
            "Test Series Point: 40\tPredicted=0.01882742279396954, Expected=3.240000000000009\n",
            "Test Series Point: 60\tPredicted=-0.6209969194658963, Expected=-0.47999999999998977\n",
            "Test Series Point: 80\tPredicted=0.47656562629453475, Expected=1.3499999999999943\n",
            "Test Series Point: 100\tPredicted=0.5055866543308202, Expected=-0.5100000000000193\n",
            "Test Series Point: 120\tPredicted=0.5748542437518631, Expected=1.1200000000000045\n",
            "Test Series Point: 140\tPredicted=0.0678292920887058, Expected=0.2400000000000091\n",
            "Test Series Point: 160\tPredicted=0.02711941404456575, Expected=2.359999999999985\n",
            "Test Series Point: 180\tPredicted=-0.6158057693975085, Expected=0.6999999999999886\n",
            "Test Series Point: 200\tPredicted=0.03541786708480543, Expected=2.0500000000000114\n",
            "Test Series Point: 220\tPredicted=0.5226265745636812, Expected=-0.30000000000001137\n",
            "Test Series Point: 240\tPredicted=0.4478435616258449, Expected=0.030000000000001137\n",
            "Test Series Point: 260\tPredicted=-0.2686024139931019, Expected=-0.04999999999998295\n",
            "Test Series Point: 280\tPredicted=-0.8922522426984425, Expected=-0.1699999999999875\n",
            "Test Series Point: 300\tPredicted=-0.37919120507844206, Expected=-0.020000000000010232\n",
            "Test Series Point: 320\tPredicted=1.247098865389589, Expected=1.2800000000000011\n",
            "Test Series Point: 340\tPredicted=1.4205181529114137, Expected=-1.039999999999992\n",
            "Test Series Point: 360\tPredicted=-0.2602405381575781, Expected=1.7199999999999989\n",
            "Test Series Point: 380\tPredicted=0.13906605529593508, Expected=1.200000000000017\n",
            "Test Series Point: 400\tPredicted=-0.7068805782708347, Expected=-0.36000000000001364\n",
            "Test Series Point: 420\tPredicted=-0.31372300579188317, Expected=0.44999999999998863\n",
            "Test Series Point: 440\tPredicted=-1.3744696863542274, Expected=-0.20000000000001705\n",
            "Test Series Point: 460\tPredicted=-0.20608643137996935, Expected=1.0500000000000114\n",
            "Test Series Point: 480\tPredicted=0.1683058150204495, Expected=-2.4099999999999966\n",
            "Test Series Point: 500\tPredicted=-0.296938159821213, Expected=0.5699999999999932\n",
            "Test Series Point: 520\tPredicted=0.4084597863093484, Expected=-0.040000000000020464\n",
            "Test Series Point: 540\tPredicted=-0.0427831496952554, Expected=-0.09999999999999432\n",
            "Test Series Point: 560\tPredicted=-0.9022495017300767, Expected=-0.7800000000000011\n",
            "Test Series Point: 580\tPredicted=0.7001312441786317, Expected=0.28999999999999204\n",
            "Test Series Point: 600\tPredicted=-0.22481546973056243, Expected=0.4399999999999977\n",
            "CPU times: user 7min 31s, sys: 53.8 s, total: 8min 25s\n",
            "Wall time: 7min 40s\n"
          ]
        }
      ],
      "source": [
        "%%time \n",
        "\n",
        "history = [x for x in train_diff]\n",
        "p, d, q = 5, 1, 0 \n",
        "\n",
        "predictions = list()\n",
        "for t in range(len(test_diff)):\n",
        "    # print('t=', t, '; history=', history)\n",
        "\n",
        "    # START_CODE_HERE - call the ARIMA Method with history and params\n",
        "    model = ARIMA(history, order=(p, d, q))  # initialize the model with history and right order of parameters\n",
        "    model_fit = model.fit()  # fit the model\n",
        "    # END_CODE_HERE\n",
        "\n",
        "    # print('fit: ', model_fit.summary())\n",
        "\n",
        "    output = model_fit.predict(start = len(history), \\\n",
        "                               end = len(history), typ=\"levels\")  # use forecast on the fitted model    \n",
        "    # print('output=', output)\n",
        "\n",
        "    yhat = output[0]\n",
        "    # yhat = output[0][0]\n",
        "    predictions.append(yhat)\n",
        "\n",
        "    # print('output=', output, '; yhat=', yhat)\n",
        "\n",
        "    obs = test_diff[t]\n",
        "    history.append(obs)\n",
        "\n",
        "    # print('output=', output, '; obs=', obs)\n",
        "\n",
        "    if t % 20 == 0:\n",
        "      print('Test Series Point: {}\\tPredicted={}, Expected={}'.format(t, yhat, obs))"
      ]
    },
    {
      "cell_type": "markdown",
      "metadata": {
        "id": "OZfm4_0C6O1U"
      },
      "source": [
        "### ** Reverse Transform the forecasted values\n",
        "\n",
        "This is very important. Since we used differencing of the first order in the series before training, we need to reverse transform the values to get meaningful price forecasts."
      ]
    },
    {
      "cell_type": "code",
      "execution_count": null,
      "metadata": {
        "colab": {
          "base_uri": "https://localhost:8080/"
        },
        "id": "unArWBuS7o5z",
        "outputId": "75377ced-7be3-4a7f-bc13-08edf317cf7a"
      },
      "outputs": [
        {
          "output_type": "execute_result",
          "data": {
            "text/plain": [
              "((604,), (604,))"
            ]
          },
          "metadata": {},
          "execution_count": 130
        }
      ],
      "source": [
        "## np.r_ merges row-wise arrays, this to reconstruct the original signal \n",
        "# https://stackoverflow.com/questions/49903037/pandas-reverse-of-diff \n",
        "reverse_test_diff = np.r_[test_series.iloc[0], test_diff].cumsum()\n",
        "reverse_predictions = np.r_[test_series.iloc[0], predictions].cumsum()\n",
        "reverse_test_diff.shape, reverse_predictions.shape"
      ]
    },
    {
      "cell_type": "code",
      "source": [
        "display(reverse_test_diff[:20])\n",
        "display(reverse_predictions[:20])"
      ],
      "metadata": {
        "colab": {
          "base_uri": "https://localhost:8080/",
          "height": 156
        },
        "id": "w-Fjt8TAmQHL",
        "outputId": "21e129a1-60ce-4096-a450-f6e34eb218db"
      },
      "execution_count": null,
      "outputs": [
        {
          "output_type": "display_data",
          "data": {
            "text/plain": [
              "array([155.89, 156.77, 155.96, 154.26, 156.06, 155.  , 155.2 , 155.51,\n",
              "       155.15, 152.74, 151.5 , 143.47, 146.94, 144.09, 148.5 , 147.75,\n",
              "       147.38, 144.91, 144.74, 146.05])"
            ]
          },
          "metadata": {}
        },
        {
          "output_type": "display_data",
          "data": {
            "text/plain": [
              "array([155.89      , 155.36556328, 154.92165639, 154.42869935,\n",
              "       153.241443  , 153.15415527, 152.60985888, 152.54630154,\n",
              "       152.4107638 , 152.13932787, 151.96861393, 151.10205267,\n",
              "       149.07298798, 147.52745768, 145.81764231, 144.63237361,\n",
              "       144.35149225, 143.21850263, 143.70064193, 142.92799916])"
            ]
          },
          "metadata": {}
        }
      ]
    },
    {
      "cell_type": "markdown",
      "metadata": {
        "id": "JvzT82Z56O1V"
      },
      "source": [
        "### Evaluate model performance"
      ]
    },
    {
      "cell_type": "code",
      "execution_count": null,
      "metadata": {
        "colab": {
          "base_uri": "https://localhost:8080/"
        },
        "id": "NGDHu85n2clu",
        "outputId": "efdfdfe0-da30-4037-987d-f2ca504b6423"
      },
      "outputs": [
        {
          "output_type": "stream",
          "name": "stdout",
          "text": [
            "Testing Mean Squared Error: 18.258\n",
            "Symmetric Mean absolute percentage error: 2.445\n"
          ]
        }
      ],
      "source": [
        "error = mean_squared_error(reverse_test_diff, reverse_predictions)\n",
        "print('Testing Mean Squared Error: %.3f' % error)\n",
        "error2 = smape_kun(reverse_test_diff, reverse_predictions)\n",
        "print('Symmetric Mean absolute percentage error: %.3f' % error2)"
      ]
    },
    {
      "cell_type": "markdown",
      "metadata": {
        "id": "kVShn5zgMPcX"
      },
      "source": [
        "The loss results for this model are available above. According to the MSE, the model loss is quite low but for SMAPE is instead consistently higher. One of the main reason for this discrepancy is because SMAPE is commonly used loss a loss function for Time Series problems and can, therefore, provide a more reliable analysis. That showed there is still room for improvement of our model."
      ]
    },
    {
      "cell_type": "markdown",
      "metadata": {
        "id": "g5XoIrqDMe7c"
      },
      "source": [
        "## Let's Visualize the forecast results"
      ]
    },
    {
      "cell_type": "code",
      "execution_count": null,
      "metadata": {
        "id": "V3S7iMXv8nKg"
      },
      "outputs": [],
      "source": [
        "reverse_test_diff_series = pd.Series(reverse_test_diff)\n",
        "reverse_test_diff_series.index = test_series.index\n",
        "\n",
        "reverse_predictions_series = pd.Series(reverse_test_diff)\n",
        "reverse_predictions_series.index = test_series.index"
      ]
    },
    {
      "cell_type": "code",
      "source": [
        "display(reverse_test_diff_series)\n",
        "print()\n",
        "display(reverse_predictions_series)"
      ],
      "metadata": {
        "colab": {
          "base_uri": "https://localhost:8080/",
          "height": 486
        },
        "id": "DSurwYrrnDON",
        "outputId": "129c6527-c7f0-4a28-e1e3-2b5e8c6d9329"
      },
      "execution_count": null,
      "outputs": [
        {
          "output_type": "display_data",
          "data": {
            "text/plain": [
              "Date\n",
              "2015-08-07    155.89\n",
              "2015-08-10    156.77\n",
              "2015-08-11    155.96\n",
              "2015-08-12    154.26\n",
              "2015-08-13    156.06\n",
              "               ...  \n",
              "2017-12-22    151.82\n",
              "2017-12-26    152.51\n",
              "2017-12-27    152.95\n",
              "2017-12-28    153.20\n",
              "2017-12-29    154.17\n",
              "Length: 604, dtype: float64"
            ]
          },
          "metadata": {}
        },
        {
          "output_type": "stream",
          "name": "stdout",
          "text": [
            "\n"
          ]
        },
        {
          "output_type": "display_data",
          "data": {
            "text/plain": [
              "Date\n",
              "2015-08-07    155.89\n",
              "2015-08-10    156.77\n",
              "2015-08-11    155.96\n",
              "2015-08-12    154.26\n",
              "2015-08-13    156.06\n",
              "               ...  \n",
              "2017-12-22    151.82\n",
              "2017-12-26    152.51\n",
              "2017-12-27    152.95\n",
              "2017-12-28    153.20\n",
              "2017-12-29    154.17\n",
              "Length: 604, dtype: float64"
            ]
          },
          "metadata": {}
        }
      ]
    },
    {
      "cell_type": "markdown",
      "metadata": {
        "id": "3K9qvz5J6O1V"
      },
      "source": [
        "### Visualizing train, test and forecast prices"
      ]
    },
    {
      "cell_type": "code",
      "execution_count": null,
      "metadata": {
        "colab": {
          "base_uri": "https://localhost:8080/",
          "height": 458
        },
        "id": "LEBu1A6P8aJp",
        "outputId": "716cefbc-db21-43a7-c808-73f2cfd67af7"
      },
      "outputs": [
        {
          "output_type": "display_data",
          "data": {
            "text/plain": [
              "<Figure size 864x504 with 1 Axes>"
            ],
            "image/png": "[encoded data removed]"
          },
          "metadata": {
            "needs_background": "light"
          }
        }
      ],
      "source": [
        "plt.figure(figsize=(12,7))\n",
        "plt.title('IBM Prices')\n",
        "plt.xlabel('Dates')\n",
        "plt.ylabel('Prices')\n",
        "plt.plot(train_series, color='blue', label='Training Prices')\n",
        "plt.plot(reverse_test_diff_series, color='green', marker='.', label='Testing Prices - Reverse Diff Transform')\n",
        "plt.plot(reverse_test_diff_series, color='red', linestyle='--', label='Forecasted Prices - Reverse Diff Transform')\n",
        "plt.legend();\n",
        "plt.grid(True)"
      ]
    },
    {
      "cell_type": "markdown",
      "metadata": {
        "id": "vY73M5yk6O1V"
      },
      "source": [
        "### Q10: Visualize only test and forecast prices"
      ]
    },
    {
      "cell_type": "code",
      "execution_count": null,
      "metadata": {
        "colab": {
          "base_uri": "https://localhost:8080/",
          "height": 458
        },
        "id": "fOKhtSM79hM_",
        "outputId": "092ea626-03c6-4079-879f-104c85eae57a"
      },
      "outputs": [
        {
          "output_type": "display_data",
          "data": {
            "text/plain": [
              "<Figure size 864x504 with 1 Axes>"
            ],
            "image/png": "[encoded data removed]"
          },
          "metadata": {
            "needs_background": "light"
          }
        }
      ],
      "source": [
        "plt.figure(figsize=(12,7))\n",
        "plt.title('IBM Prices: test vs forecast')\n",
        "plt.xlabel('Dates')\n",
        "plt.ylabel('Prices')\n",
        "# plt.plot(train_series, color='blue', label='Training Prices')\n",
        "plt.plot(reverse_test_diff_series, color='green', marker='.', label='Testing Prices - Reverse Diff Transform')\n",
        "plt.plot(reverse_test_diff_series, color='red', linestyle='--', label='Forecasted Prices - Reverse Diff Transform')\n",
        "plt.legend();\n",
        "plt.grid(True)"
      ]
    },
    {
      "cell_type": "markdown",
      "metadata": {
        "id": "8k-cTIUyMzd_"
      },
      "source": [
        "This analysis using ARIMA has performed pretty well in forecasting prices "
      ]
    },
    {
      "cell_type": "markdown",
      "metadata": {
        "id": "fcM7rwQFCqHL"
      },
      "source": [
        "# ++ Time Series Forecasting with Deep Learning\n",
        "\n",
        "The approach uses sequential models, to be more specific - LSTMs, to build a deep learning model that predicts the 'Open' Stock prices of IBM over a period of two years by using data from the previous 10 years."
      ]
    },
    {
      "cell_type": "markdown",
      "metadata": {
        "id": "Ege_yD9YDmSN"
      },
      "source": [
        "### LSTM: A brief overview\n",
        "\n",
        "What are LSTMs? : https://medium.com/deep-math-machine-learning-ai/chapter-10-1-deepnlp-lstm-long-short-term-memory-networks-with-math-21477f8e4235\n",
        "\n",
        "Long short-term memory (LSTM) units (or blocks) are a building unit for layers of a recurrent neural network (RNN). A RNN composed of LSTM units is often called an LSTM network. A common LSTM unit is composed of a cell, an input gate, an output gate and a forget gate. The cell is responsible for \"remembering\" values over arbitrary time intervals; hence the word \"memory\" in LSTM. Each of the three gates can be thought of as a \"conventional\" artificial neuron, as in a multi-layer (or feedforward) neural network: that is, they compute an activation (using an activation function) of a weighted sum. Intuitively, they can be thought as regulators of the flow of values that goes through the connections of the LSTM; hence the denotation \"gate\". There are connections between these gates and the cell.\n",
        "\n",
        "The expression long short-term refers to the fact that LSTM is a model for the short-term memory which can last for a long period of time. An LSTM is well-suited to classify, process and predict time series given time lags of unknown size and duration between important events. LSTMs were developed to deal with the exploding and vanishing gradient problem when training traditional RNNs.\n",
        "\n",
        "Source: [Wikipedia](https://en.wikipedia.org/wiki/Long_short-term_memory)"
      ]
    },
    {
      "cell_type": "markdown",
      "metadata": {
        "id": "c8hK0f8wb79O"
      },
      "source": [
        "### Headers"
      ]
    },
    {
      "cell_type": "code",
      "execution_count": null,
      "metadata": {
        "id": "Y4Fo2a_Rg5_w"
      },
      "outputs": [],
      "source": [
        "# Let's load the libraries and dependencies for the deep learning model\n",
        "from sklearn.preprocessing import MinMaxScaler\n",
        "\n",
        "# %tensorflow_version 1.x\n",
        "from tensorflow.keras.models import Sequential\n",
        "from tensorflow.keras.layers import Dense, LSTM, Dropout, GRU, Bidirectional\n",
        "from tensorflow.keras.optimizers import SGD"
      ]
    },
    {
      "cell_type": "markdown",
      "metadata": {
        "id": "VuF5ziiYcDD-"
      },
      "source": [
        "### Load Data"
      ]
    },
    {
      "cell_type": "code",
      "execution_count": null,
      "metadata": {
        "id": "loos_QCqjZl8"
      },
      "outputs": [],
      "source": [
        "df = pd.read_csv(path+\"IBM_2006-01-01_to_2018-01-01.csv.zip\")\n",
        "df.isnull().values.any()\n",
        "df = df.dropna()\n",
        "\n",
        "df.index = pd.to_datetime(df['Date'])"
      ]
    },
    {
      "cell_type": "code",
      "source": [
        "display(df.head())\n",
        "display(df.info())"
      ],
      "metadata": {
        "colab": {
          "base_uri": "https://localhost:8080/",
          "height": 498
        },
        "id": "kWtvDd-LtbLM",
        "outputId": "76a33235-fd43-4f2c-cdd1-37f37efdd5c2"
      },
      "execution_count": null,
      "outputs": [
        {
          "output_type": "display_data",
          "data": {
            "text/plain": [
              "                  Date   Open   High    Low  Close    Volume Name\n",
              "Date                                                             \n",
              "2006-01-03  2006-01-03  82.45  82.55  80.81  82.06  11715200  IBM\n",
              "2006-01-04  2006-01-04  82.20  82.50  81.33  81.95   9840600  IBM\n",
              "2006-01-05  2006-01-05  81.40  82.90  81.00  82.50   7213500  IBM\n",
              "2006-01-06  2006-01-06  83.95  85.03  83.41  84.95   8197400  IBM\n",
              "2006-01-09  2006-01-09  84.10  84.25  83.38  83.73   6858200  IBM"
            ],
            "text/html": [
              "\n",
              "  <div id=\"df-72bfd3b8-0801-4003-9f3a-be05c5ffa0c7\">\n",
              "    <div class=\"colab-df-container\">\n",
              "      <div>\n",
              "<style scoped>\n",
              "    .dataframe tbody tr th:only-of-type {\n",
              "        vertical-align: middle;\n",
              "    }\n",
              "\n",
              "    .dataframe tbody tr th {\n",
              "        vertical-align: top;\n",
              "    }\n",
              "\n",
              "    .dataframe thead th {\n",
              "        text-align: right;\n",
              "    }\n",
              "</style>\n",
              "<table border=\"1\" class=\"dataframe\">\n",
              "  <thead>\n",
              "    <tr style=\"text-align: right;\">\n",
              "      <th></th>\n",
              "      <th>Date</th>\n",
              "      <th>Open</th>\n",
              "      <th>High</th>\n",
              "      <th>Low</th>\n",
              "      <th>Close</th>\n",
              "      <th>Volume</th>\n",
              "      <th>Name</th>\n",
              "    </tr>\n",
              "    <tr>\n",
              "      <th>Date</th>\n",
              "      <th></th>\n",
              "      <th></th>\n",
              "      <th></th>\n",
              "      <th></th>\n",
              "      <th></th>\n",
              "      <th></th>\n",
              "      <th></th>\n",
              "    </tr>\n",
              "  </thead>\n",
              "  <tbody>\n",
              "    <tr>\n",
              "      <th>2006-01-03</th>\n",
              "      <td>2006-01-03</td>\n",
              "      <td>82.45</td>\n",
              "      <td>82.55</td>\n",
              "      <td>80.81</td>\n",
              "      <td>82.06</td>\n",
              "      <td>11715200</td>\n",
              "      <td>IBM</td>\n",
              "    </tr>\n",
              "    <tr>\n",
              "      <th>2006-01-04</th>\n",
              "      <td>2006-01-04</td>\n",
              "      <td>82.20</td>\n",
              "      <td>82.50</td>\n",
              "      <td>81.33</td>\n",
              "      <td>81.95</td>\n",
              "      <td>9840600</td>\n",
              "      <td>IBM</td>\n",
              "    </tr>\n",
              "    <tr>\n",
              "      <th>2006-01-05</th>\n",
              "      <td>2006-01-05</td>\n",
              "      <td>81.40</td>\n",
              "      <td>82.90</td>\n",
              "      <td>81.00</td>\n",
              "      <td>82.50</td>\n",
              "      <td>7213500</td>\n",
              "      <td>IBM</td>\n",
              "    </tr>\n",
              "    <tr>\n",
              "      <th>2006-01-06</th>\n",
              "      <td>2006-01-06</td>\n",
              "      <td>83.95</td>\n",
              "      <td>85.03</td>\n",
              "      <td>83.41</td>\n",
              "      <td>84.95</td>\n",
              "      <td>8197400</td>\n",
              "      <td>IBM</td>\n",
              "    </tr>\n",
              "    <tr>\n",
              "      <th>2006-01-09</th>\n",
              "      <td>2006-01-09</td>\n",
              "      <td>84.10</td>\n",
              "      <td>84.25</td>\n",
              "      <td>83.38</td>\n",
              "      <td>83.73</td>\n",
              "      <td>6858200</td>\n",
              "      <td>IBM</td>\n",
              "    </tr>\n",
              "  </tbody>\n",
              "</table>\n",
              "</div>\n",
              "      <button class=\"colab-df-convert\" onclick=\"convertToInteractive('df-72bfd3b8-0801-4003-9f3a-be05c5ffa0c7')\"\n",
              "              title=\"Convert this dataframe to an interactive table.\"\n",
              "              style=\"display:none;\">\n",
              "        \n",
              "  <svg xmlns=\"http://www.w3.org/2000/svg\" height=\"24px\"viewBox=\"0 0 24 24\"\n",
              "       width=\"24px\">\n",
              "    <path d=\"M0 0h24v24H0V0z\" fill=\"none\"/>\n",
              "    <path d=\"M18.56 5.44l.94 2.06.94-2.06 2.06-.94-2.06-.94-.94-2.06-.94 2.06-2.06.94zm-11 1L8.5 8.5l.94-2.06 2.06-.94-2.06-.94L8.5 2.5l-.94 2.06-2.06.94zm10 10l.94 2.06.94-2.06 2.06-.94-2.06-.94-.94-2.06-.94 2.06-2.06.94z\"/><path d=\"M17.41 7.96l-1.37-1.37c-.4-.4-.92-.59-1.43-.59-.52 0-1.04.2-1.43.59L10.3 9.45l-7.72 7.72c-.78.78-.78 2.05 0 2.83L4 21.41c.39.39.9.59 1.41.59.51 0 1.02-.2 1.41-.59l7.78-7.78 2.81-2.81c.8-.78.8-2.07 0-2.86zM5.41 20L4 18.59l7.72-7.72 1.47 1.35L5.41 20z\"/>\n",
              "  </svg>\n",
              "      </button>\n",
              "      \n",
              "  <style>\n",
              "    .colab-df-container {\n",
              "      display:flex;\n",
              "      flex-wrap:wrap;\n",
              "      gap: 12px;\n",
              "    }\n",
              "\n",
              "    .colab-df-convert {\n",
              "      background-color: #E8F0FE;\n",
              "      border: none;\n",
              "      border-radius: 50%;\n",
              "      cursor: pointer;\n",
              "      display: none;\n",
              "      fill: #1967D2;\n",
              "      height: 32px;\n",
              "      padding: 0 0 0 0;\n",
              "      width: 32px;\n",
              "    }\n",
              "\n",
              "    .colab-df-convert:hover {\n",
              "      background-color: #E2EBFA;\n",
              "      box-shadow: 0px 1px 2px rgba(60, 64, 67, 0.3), 0px 1px 3px 1px rgba(60, 64, 67, 0.15);\n",
              "      fill: #174EA6;\n",
              "    }\n",
              "\n",
              "    [theme=dark] .colab-df-convert {\n",
              "      background-color: #3B4455;\n",
              "      fill: #D2E3FC;\n",
              "    }\n",
              "\n",
              "    [theme=dark] .colab-df-convert:hover {\n",
              "      background-color: #434B5C;\n",
              "      box-shadow: 0px 1px 3px 1px rgba(0, 0, 0, 0.15);\n",
              "      filter: drop-shadow(0px 1px 2px rgba(0, 0, 0, 0.3));\n",
              "      fill: #FFFFFF;\n",
              "    }\n",
              "  </style>\n",
              "\n",
              "      <script>\n",
              "        const buttonEl =\n",
              "          document.querySelector('#df-72bfd3b8-0801-4003-9f3a-be05c5ffa0c7 button.colab-df-convert');\n",
              "        buttonEl.style.display =\n",
              "          google.colab.kernel.accessAllowed ? 'block' : 'none';\n",
              "\n",
              "        async function convertToInteractive(key) {\n",
              "          const element = document.querySelector('#df-72bfd3b8-0801-4003-9f3a-be05c5ffa0c7');\n",
              "          const dataTable =\n",
              "            await google.colab.kernel.invokeFunction('convertToInteractive',\n",
              "                                                     [key], {});\n",
              "          if (!dataTable) return;\n",
              "\n",
              "          const docLinkHtml = 'Like what you see? Visit the ' +\n",
              "            '<a target=\"_blank\" href=https://colab.research.google.com/notebooks/data_table.ipynb>data table notebook</a>'\n",
              "            + ' to learn more about interactive tables.';\n",
              "          element.innerHTML = '';\n",
              "          dataTable['output_type'] = 'display_data';\n",
              "          await google.colab.output.renderOutput(dataTable, element);\n",
              "          const docLink = document.createElement('div');\n",
              "          docLink.innerHTML = docLinkHtml;\n",
              "          element.appendChild(docLink);\n",
              "        }\n",
              "      </script>\n",
              "    </div>\n",
              "  </div>\n",
              "  "
            ]
          },
          "metadata": {}
        },
        {
          "output_type": "stream",
          "name": "stdout",
          "text": [
            "<class 'pandas.core.frame.DataFrame'>\n",
            "DatetimeIndex: 3019 entries, 2006-01-03 to 2017-12-29\n",
            "Data columns (total 7 columns):\n",
            " #   Column  Non-Null Count  Dtype  \n",
            "---  ------  --------------  -----  \n",
            " 0   Date    3019 non-null   object \n",
            " 1   Open    3019 non-null   float64\n",
            " 2   High    3019 non-null   float64\n",
            " 3   Low     3019 non-null   float64\n",
            " 4   Close   3019 non-null   float64\n",
            " 5   Volume  3019 non-null   int64  \n",
            " 6   Name    3019 non-null   object \n",
            "dtypes: float64(4), int64(1), object(2)\n",
            "memory usage: 188.7+ KB\n"
          ]
        },
        {
          "output_type": "display_data",
          "data": {
            "text/plain": [
              "None"
            ]
          },
          "metadata": {}
        }
      ]
    },
    {
      "cell_type": "markdown",
      "metadata": {
        "id": "EeR4wBTNSAUX"
      },
      "source": [
        "# Note\n",
        "This dataset is composed of different features.we will just examine the \"Open\" stock prices feature. This same analysis can be repeated for most of the other features."
      ]
    },
    {
      "cell_type": "markdown",
      "metadata": {
        "id": "Nvliw7fqMCcF"
      },
      "source": [
        "## Build Train-Test Datasets"
      ]
    },
    {
      "cell_type": "code",
      "execution_count": null,
      "metadata": {
        "colab": {
          "base_uri": "https://localhost:8080/"
        },
        "id": "e51pJz3Ajs0u",
        "outputId": "b9846739-6024-403c-daea-b370301bcfa0"
      },
      "outputs": [
        {
          "output_type": "execute_result",
          "data": {
            "text/plain": [
              "((2415,), (604,))"
            ]
          },
          "metadata": {},
          "execution_count": 140
        }
      ],
      "source": [
        "# Splitting the train and test set considering 'Open' feature from the dataset\n",
        "train_data, test_data = df.iloc[0:int(len(df)*0.8), :], df.iloc[int(len(df)*0.8):, :]\n",
        "train_series = train_data['Open']\n",
        "test_series  = test_data['Open']\n",
        "train_series.shape, test_series.shape"
      ]
    },
    {
      "cell_type": "code",
      "source": [
        "display(train_series.head())\n",
        "display(train_series.shape)"
      ],
      "metadata": {
        "colab": {
          "base_uri": "https://localhost:8080/",
          "height": 156
        },
        "id": "ehiJng99vM9a",
        "outputId": "5d296a5e-45de-43d8-a9ad-0bb41a9a4c8a"
      },
      "execution_count": null,
      "outputs": [
        {
          "output_type": "display_data",
          "data": {
            "text/plain": [
              "Date\n",
              "2006-01-03    82.45\n",
              "2006-01-04    82.20\n",
              "2006-01-05    81.40\n",
              "2006-01-06    83.95\n",
              "2006-01-09    84.10\n",
              "Name: Open, dtype: float64"
            ]
          },
          "metadata": {}
        },
        {
          "output_type": "display_data",
          "data": {
            "text/plain": [
              "(2415,)"
            ]
          },
          "metadata": {}
        }
      ]
    },
    {
      "cell_type": "markdown",
      "metadata": {
        "id": "vSp2L8YIMfKN"
      },
      "source": [
        "### Q11: Visualize train and test price data"
      ]
    },
    {
      "cell_type": "code",
      "execution_count": null,
      "metadata": {
        "colab": {
          "base_uri": "https://localhost:8080/",
          "height": 475
        },
        "id": "gBnSZGfSj6Cs",
        "outputId": "c3ac2c37-052c-4dd3-de22-bbb5ce96f066"
      },
      "outputs": [
        {
          "output_type": "execute_result",
          "data": {
            "text/plain": [
              "<matplotlib.legend.Legend at 0x7f1c50b700a0>"
            ]
          },
          "metadata": {},
          "execution_count": 142
        },
        {
          "output_type": "display_data",
          "data": {
            "text/plain": [
              "<Figure size 864x504 with 1 Axes>"
            ],
            "image/png": "[encoded data removed]"
          },
          "metadata": {
            "needs_background": "light"
          }
        }
      ],
      "source": [
        "plt.figure(figsize=(12,7))\n",
        "plt.title('IBM Prices')\n",
        "plt.xlabel('Dates')\n",
        "plt.ylabel('Prices')\n",
        "plt.plot(train_series, color='blue', label='Training Prices')\n",
        "plt.plot(test_series, color='green', label='Testing Prices')\n",
        "plt.grid(True)\n",
        "plt.legend()"
      ]
    },
    {
      "cell_type": "markdown",
      "metadata": {
        "id": "k8f0sPbUMvg7"
      },
      "source": [
        "### Scaling\n",
        "As stock prices can vary across a wide range, we scale the data to have zero mean and unit variance.\n",
        "\n",
        "This is done to ensure that the gradient descent is sooner when learning a deep learning model"
      ]
    },
    {
      "cell_type": "markdown",
      "metadata": {
        "id": "RRgh16zE6O1W"
      },
      "source": [
        "### Q12: Use the initialized min-max scaler to scale the prices in train_series"
      ]
    },
    {
      "cell_type": "code",
      "execution_count": null,
      "metadata": {
        "id": "-7D3Hvo_kC2F"
      },
      "outputs": [],
      "source": [
        "sc = MinMaxScaler(feature_range=(0,1))\n",
        "# START_CODE_HERE\n",
        "training_set_scaled = sc.fit_transform(train_series.values.reshape(-1, 1) )\n",
        "# training_set_scaled = sc.fit_transform(np.reshape(train_series, (-1, 1)) )\n",
        "# END_CODE_HERE"
      ]
    },
    {
      "cell_type": "code",
      "execution_count": null,
      "metadata": {
        "colab": {
          "base_uri": "https://localhost:8080/",
          "height": 173
        },
        "id": "Rms7Nr3LIeuV",
        "outputId": "b392a3f6-5ec6-41bc-cae0-ba9e19e2071f"
      },
      "outputs": [
        {
          "output_type": "display_data",
          "data": {
            "text/plain": [
              "numpy.ndarray"
            ]
          },
          "metadata": {}
        },
        {
          "output_type": "display_data",
          "data": {
            "text/plain": [
              "(2415, 1)"
            ]
          },
          "metadata": {}
        },
        {
          "output_type": "display_data",
          "data": {
            "text/plain": [
              "array([[0.06807347],\n",
              "       [0.06632081],\n",
              "       [0.06071228],\n",
              "       ...,\n",
              "       [0.60053281],\n",
              "       [0.60544027],\n",
              "       [0.59162928]])"
            ]
          },
          "metadata": {}
        }
      ],
      "source": [
        "display(type(training_set_scaled))\n",
        "display(training_set_scaled.shape)\n",
        "display(training_set_scaled)"
      ]
    },
    {
      "cell_type": "markdown",
      "metadata": {
        "id": "aEaPD_p2Nu87"
      },
      "source": [
        "### Train Data Preparation\n",
        "\n",
        "Train data uses the previous 60 days (two months) data to predict the stock price of the next day.\n",
        "The data is prepared just like a sliding window approach, where\n",
        "*window_size = 60*\n",
        "\n",
        "Sample image for sliding window:\n",
        "![Sliding window](https://drive.google.com/uc?id=10KQw3NNCt3O2R0RFGiIB-bD_ZTnOnEFw)"
      ]
    },
    {
      "cell_type": "code",
      "execution_count": null,
      "metadata": {
        "colab": {
          "base_uri": "https://localhost:8080/"
        },
        "id": "3LHfiLnhkGpN",
        "outputId": "2f46ac26-e37f-4524-81c1-c02314d63610"
      },
      "outputs": [
        {
          "output_type": "execute_result",
          "data": {
            "text/plain": [
              "((2355, 60), (2355,))"
            ]
          },
          "metadata": {},
          "execution_count": 145
        }
      ],
      "source": [
        "# 1 output and 60 values inputs\n",
        "# So for each element of training set (output), we have 60 previous training set elements (input)\n",
        "window_size = 60\n",
        "\n",
        "X_train = []\n",
        "y_train = []\n",
        "for i in range(window_size, len(training_set_scaled)):\n",
        "    X_train.append(training_set_scaled[i-window_size:i,0])\n",
        "    y_train.append(training_set_scaled[i,0])\n",
        "X_train, y_train = np.array(X_train), np.array(y_train)\n",
        "X_train.shape, y_train.shape"
      ]
    },
    {
      "cell_type": "markdown",
      "metadata": {
        "id": "YdzzWChQROAg"
      },
      "source": [
        "#### Reshape X_train\n",
        "\n",
        "Now we reshape X_train in the format like:\n",
        "\n",
        "(batch_size, timesteps, input_dim) => (m, features, $x_{i1}$)\n",
        "\n",
        "The X_train should be now: (2709, 60, 1)\n",
        "\n",
        "60 features = 60 day sliding window\n",
        "\n",
        "$x_{i1}$ = 1 data point for each feature and i represents the feature\n",
        "\n"
      ]
    },
    {
      "cell_type": "code",
      "execution_count": null,
      "metadata": {
        "id": "KQRlDlXMkKCV"
      },
      "outputs": [],
      "source": [
        "# Reshaping X_train for efficient modeling\n",
        "X_train = np.reshape(X_train, (X_train.shape[0],X_train.shape[1], 1))"
      ]
    },
    {
      "cell_type": "code",
      "execution_count": null,
      "metadata": {
        "colab": {
          "base_uri": "https://localhost:8080/"
        },
        "id": "I_FLbtZkT-RF",
        "outputId": "6ed97871-ace0-4b03-ac5d-f995965277ef"
      },
      "outputs": [
        {
          "output_type": "execute_result",
          "data": {
            "text/plain": [
              "(2355, 60, 1)"
            ]
          },
          "metadata": {},
          "execution_count": 147
        }
      ],
      "source": [
        "X_train.shape"
      ]
    },
    {
      "cell_type": "markdown",
      "metadata": {
        "id": "PIrlm79SVn5i"
      },
      "source": [
        "### LSTM Regression model\n",
        "\n",
        "We use  [LSTM](https://www.tensorflow.org/api_docs/python/tf/keras/layers/LSTM):\n",
        "*   units - output dimensions\n",
        "*   return_sequences is set to True to get all the hidden state vectors information\n",
        "\n",
        "The model uses 2 LSTM layers followed by a Dense Layer with a single neuron to output regression prediction."
      ]
    },
    {
      "cell_type": "markdown",
      "metadata": {
        "id": "W1gSynqKGGPJ"
      },
      "source": [
        "#### Similar Model Architecture (dimensions not exact)\n",
        "\n",
        "![Similar Model Architecture](https://drive.google.com/uc?id=1gAdAV33hvZF6aZo9CVc_K5wKcArxRFaZ)\n"
      ]
    },
    {
      "cell_type": "markdown",
      "metadata": {
        "id": "QfJNmVfG6O1W"
      },
      "source": [
        "### Q13: Build the LSTM based forecasting DL Model architecture\n",
        "\n",
        "Hints:\n",
        "\n",
        "  - Fill the second LSTM layer using an LSTM cell with 64 units, remember NOT to set return_sequences to True as we are only concerned about passing the last sequence output to the next layer\n",
        "  - Fill the Output layer with 1 unit\n",
        "  - Compile the model with mentioned optimizer and loss values"
      ]
    },
    {
      "cell_type": "code",
      "execution_count": null,
      "metadata": {
        "colab": {
          "base_uri": "https://localhost:8080/"
        },
        "id": "Vhe8p4iqkPfB",
        "outputId": "66269b09-1b3a-4b60-a74b-b724486fa33c"
      },
      "outputs": [
        {
          "output_type": "stream",
          "name": "stdout",
          "text": [
            "Model: \"sequential_3\"\n",
            "_________________________________________________________________\n",
            " Layer (type)                Output Shape              Param #   \n",
            "=================================================================\n",
            " lstm_6 (LSTM)               (None, 60, 100)           40800     \n",
            "                                                                 \n",
            " dropout_3 (Dropout)         (None, 60, 100)           0         \n",
            "                                                                 \n",
            " lstm_7 (LSTM)               (None, 100)               80400     \n",
            "                                                                 \n",
            " dense_3 (Dense)             (None, 1)                 101       \n",
            "                                                                 \n",
            "=================================================================\n",
            "Total params: 121,301\n",
            "Trainable params: 121,301\n",
            "Non-trainable params: 0\n",
            "_________________________________________________________________\n"
          ]
        }
      ],
      "source": [
        "regressor = Sequential()\n",
        "\n",
        "# First LSTM layer with Dropout regularisation\n",
        "regressor.add(LSTM(units=100, return_sequences=True, input_shape=(X_train.shape[1],1)))\n",
        "regressor.add(Dropout(0.2))\n",
        "\n",
        "# Second LSTM layer\n",
        "regressor.add(LSTM(units=100, input_shape=(X_train.shape[1],1)))\n",
        "\n",
        "# The output layer\n",
        "regressor.add(Dense(1))\n",
        "\n",
        "# Compiling the RNN - optimizer(rmsprop)and loss(mean squared error)\n",
        "regressor.compile(loss='mean_squared_error', optimizer='rmsprop')\n",
        "\n",
        "regressor.summary()"
      ]
    },
    {
      "cell_type": "markdown",
      "metadata": {
        "id": "1m5j8U376O1W"
      },
      "source": [
        "### Train the model"
      ]
    },
    {
      "cell_type": "code",
      "execution_count": null,
      "metadata": {
        "colab": {
          "base_uri": "https://localhost:8080/"
        },
        "id": "MBRin4eMAsT_",
        "outputId": "79a934b9-9127-46ff-ebcb-433e651c063f"
      },
      "outputs": [
        {
          "output_type": "stream",
          "name": "stdout",
          "text": [
            "Epoch 1/15\n",
            "34/34 [==============================] - 16s 326ms/step - loss: 0.0109 - val_loss: 0.0139\n",
            "Epoch 2/15\n",
            "34/34 [==============================] - 10s 288ms/step - loss: 0.0077 - val_loss: 0.0160\n",
            "Epoch 3/15\n",
            "34/34 [==============================] - 7s 216ms/step - loss: 0.0055 - val_loss: 0.0088\n",
            "Epoch 4/15\n",
            "34/34 [==============================] - 10s 288ms/step - loss: 0.0067 - val_loss: 0.0056\n",
            "Epoch 5/15\n",
            "34/34 [==============================] - 7s 215ms/step - loss: 0.0043 - val_loss: 0.0095\n",
            "Epoch 6/15\n",
            "34/34 [==============================] - 10s 289ms/step - loss: 0.0054 - val_loss: 0.0042\n",
            "Epoch 7/15\n",
            "34/34 [==============================] - 10s 285ms/step - loss: 0.0039 - val_loss: 0.0113\n",
            "Epoch 8/15\n",
            "34/34 [==============================] - 8s 221ms/step - loss: 0.0045 - val_loss: 0.0077\n",
            "Epoch 9/15\n",
            "34/34 [==============================] - 10s 289ms/step - loss: 0.0042 - val_loss: 0.0047\n",
            "Epoch 10/15\n",
            "34/34 [==============================] - 7s 217ms/step - loss: 0.0030 - val_loss: 0.0144\n",
            "Epoch 11/15\n",
            "34/34 [==============================] - 10s 293ms/step - loss: 0.0037 - val_loss: 0.0049\n",
            "Epoch 12/15\n",
            "34/34 [==============================] - 9s 278ms/step - loss: 0.0033 - val_loss: 0.0091\n",
            "Epoch 13/15\n",
            "34/34 [==============================] - 8s 219ms/step - loss: 0.0024 - val_loss: 0.0113\n",
            "Epoch 14/15\n",
            "34/34 [==============================] - 10s 288ms/step - loss: 0.0034 - val_loss: 0.0051\n",
            "Epoch 15/15\n",
            "34/34 [==============================] - 7s 220ms/step - loss: 0.0031 - val_loss: 0.0063\n"
          ]
        },
        {
          "output_type": "execute_result",
          "data": {
            "text/plain": [
              "<keras.callbacks.History at 0x7f1c50ae07c0>"
            ]
          },
          "metadata": {},
          "execution_count": 149
        }
      ],
      "source": [
        "regressor.fit(X_train,y_train, epochs=15, batch_size=64, validation_split=0.1, shuffle=False)"
      ]
    },
    {
      "cell_type": "markdown",
      "metadata": {
        "id": "tXyIJG9vauFj"
      },
      "source": [
        "### Test Data Forecasting\n",
        "\n",
        "#### Data Preparation:\n",
        "Lets prepare the test data just like we did with the train data.\n",
        "\n",
        "Remember to start forecasting on the first day of the test data, we need the last 60 days of train data.\n",
        "\n",
        "Thus, the following steps have been performed so first 60 entires of test set have 60 previous values from the train dataset"
      ]
    },
    {
      "cell_type": "markdown",
      "metadata": {
        "id": "DmE_nAra6O1W"
      },
      "source": [
        "### Q14: Get the last 60 records from train_series"
      ]
    },
    {
      "cell_type": "code",
      "execution_count": null,
      "metadata": {
        "colab": {
          "base_uri": "https://localhost:8080/"
        },
        "id": "4mLalxGGCxzf",
        "outputId": "b5f312dc-0299-4de0-9076-bc203ea6553d"
      },
      "outputs": [
        {
          "output_type": "stream",
          "name": "stdout",
          "text": [
            "(60,)\n"
          ]
        }
      ],
      "source": [
        "train_last60 = train_series[-60:]\n",
        "print(train_last60.shape)\n",
        "assert train_last60.shape == (60,), (\"Oops! There is a data dimension mismatch error. Hint: Slice the last 60 records from train_series\")"
      ]
    },
    {
      "cell_type": "code",
      "source": [
        "train_last60"
      ],
      "metadata": {
        "colab": {
          "base_uri": "https://localhost:8080/"
        },
        "id": "_GtjFgkCCrGc",
        "outputId": "ea480d9d-7fe5-4918-aaa1-f9c97e83586b"
      },
      "execution_count": null,
      "outputs": [
        {
          "output_type": "execute_result",
          "data": {
            "text/plain": [
              "Date\n",
              "2015-05-13    171.24\n",
              "2015-05-14    173.50\n",
              "2015-05-15    173.91\n",
              "2015-05-18    173.44\n",
              "2015-05-19    172.97\n",
              "2015-05-20    173.33\n",
              "2015-05-21    173.32\n",
              "2015-05-22    173.04\n",
              "2015-05-26    172.11\n",
              "2015-05-27    171.16\n",
              "2015-05-28    171.45\n",
              "2015-05-29    171.35\n",
              "2015-06-01    170.21\n",
              "2015-06-02    169.66\n",
              "2015-06-03    170.50\n",
              "2015-06-04    169.53\n",
              "2015-06-05    168.25\n",
              "2015-06-08    167.17\n",
              "2015-06-09    165.34\n",
              "2015-06-10    166.49\n",
              "2015-06-11    169.26\n",
              "2015-06-12    168.23\n",
              "2015-06-15    165.33\n",
              "2015-06-16    166.33\n",
              "2015-06-17    167.00\n",
              "2015-06-18    167.05\n",
              "2015-06-19    167.62\n",
              "2015-06-22    167.65\n",
              "2015-06-23    168.38\n",
              "2015-06-24    168.71\n",
              "2015-06-25    167.80\n",
              "2015-06-26    166.23\n",
              "2015-06-29    163.92\n",
              "2015-06-30    163.99\n",
              "2015-07-01    163.97\n",
              "2015-07-02    165.05\n",
              "2015-07-06    163.83\n",
              "2015-07-07    164.94\n",
              "2015-07-08    164.00\n",
              "2015-07-09    165.34\n",
              "2015-07-10    165.66\n",
              "2015-07-13    167.93\n",
              "2015-07-14    169.43\n",
              "2015-07-15    168.48\n",
              "2015-07-16    169.47\n",
              "2015-07-17    170.33\n",
              "2015-07-20    172.79\n",
              "2015-07-21    164.34\n",
              "2015-07-22    162.73\n",
              "2015-07-23    160.27\n",
              "2015-07-24    161.29\n",
              "2015-07-27    159.00\n",
              "2015-07-28    159.91\n",
              "2015-07-29    160.00\n",
              "2015-07-30    160.50\n",
              "2015-07-31    161.40\n",
              "2015-08-03    161.70\n",
              "2015-08-04    158.40\n",
              "2015-08-05    159.10\n",
              "2015-08-06    157.13\n",
              "Name: Open, dtype: float64"
            ]
          },
          "metadata": {},
          "execution_count": 151
        }
      ]
    },
    {
      "cell_type": "code",
      "execution_count": null,
      "metadata": {
        "colab": {
          "base_uri": "https://localhost:8080/"
        },
        "id": "vhfLNVCnCrNE",
        "outputId": "b1dbf0b5-c778-402e-de42-bf35a340e046"
      },
      "outputs": [
        {
          "output_type": "execute_result",
          "data": {
            "text/plain": [
              "(604,)"
            ]
          },
          "metadata": {},
          "execution_count": 152
        }
      ],
      "source": [
        "test_series.shape"
      ]
    },
    {
      "cell_type": "markdown",
      "metadata": {
        "id": "s1Dr8GkK6O1X"
      },
      "source": [
        "### Q15: Combine both train_last60 and test_series together \n",
        "\n",
        "Hint: Check pandas __`concat()`__"
      ]
    },
    {
      "cell_type": "code",
      "execution_count": null,
      "metadata": {
        "colab": {
          "base_uri": "https://localhost:8080/"
        },
        "id": "_XrJWDeZC_nG",
        "outputId": "d05ce087-fb8e-4726-b82d-f27b6153ad8e"
      },
      "outputs": [
        {
          "output_type": "stream",
          "name": "stdout",
          "text": [
            "(664,)\n"
          ]
        }
      ],
      "source": [
        "new_test_series = pd.concat((train_last60,test_series))\n",
        "print(new_test_series.shape)\n",
        "assert new_test_series.shape == (664,), (\"Oops! There is a data dimension mismatch error. Hint: Use pandas concat with the right axis parameter\")"
      ]
    },
    {
      "cell_type": "markdown",
      "metadata": {
        "id": "srRPKoQs6O1X"
      },
      "source": [
        "### Q16: Scale the test dataset (new_test_series) using the trained MinMaxScaler transformer - sc\n",
        "\n",
        "Hint: Don't fit the scaler again here since it has already been trained"
      ]
    },
    {
      "cell_type": "code",
      "execution_count": null,
      "metadata": {
        "id": "E6EEBJmFkRsB"
      },
      "outputs": [],
      "source": [
        "test_set_scaled = sc.fit_transform(new_test_series.values.reshape(-1, 1))"
      ]
    },
    {
      "cell_type": "code",
      "source": [
        "test_set_scaled.shape"
      ],
      "metadata": {
        "colab": {
          "base_uri": "https://localhost:8080/"
        },
        "id": "YfEm-8b7DwZB",
        "outputId": "32cb08fa-6525-4814-aa63-5e3f3729199c"
      },
      "execution_count": null,
      "outputs": [
        {
          "output_type": "execute_result",
          "data": {
            "text/plain": [
              "(664, 1)"
            ]
          },
          "metadata": {},
          "execution_count": 155
        }
      ]
    },
    {
      "cell_type": "markdown",
      "metadata": {
        "id": "3U7vzyA46O1X"
      },
      "source": [
        "### Prepare Test dataset Windows of 60  days each"
      ]
    },
    {
      "cell_type": "code",
      "execution_count": null,
      "metadata": {
        "colab": {
          "base_uri": "https://localhost:8080/"
        },
        "id": "ja7H-jR0kWvX",
        "outputId": "4170d362-8456-4ac9-ee11-fab3247493a1"
      },
      "outputs": [
        {
          "output_type": "execute_result",
          "data": {
            "text/plain": [
              "(604, 60, 1)"
            ]
          },
          "metadata": {},
          "execution_count": 156
        }
      ],
      "source": [
        "# Preparing X_test and predicting the prices\n",
        "X_test = []\n",
        "for i in range(window_size,len(test_set_scaled)):\n",
        "    X_test.append(test_set_scaled[i-window_size:i,0])\n",
        "\n",
        "X_test = np.array(X_test)\n",
        "X_test = np.reshape(X_test, (X_test.shape[0],X_test.shape[1],1))\n",
        "X_test.shape"
      ]
    },
    {
      "cell_type": "markdown",
      "metadata": {
        "id": "Z1XOj07G6O1X"
      },
      "source": [
        "### Model Prediction and Reverse Transform of Prices"
      ]
    },
    {
      "cell_type": "code",
      "execution_count": null,
      "metadata": {
        "colab": {
          "base_uri": "https://localhost:8080/"
        },
        "id": "BBQ-3C53DZ5W",
        "outputId": "2d1fd26f-ce93-43bd-83b2-74ad71865264"
      },
      "outputs": [
        {
          "output_type": "stream",
          "name": "stdout",
          "text": [
            "19/19 [==============================] - 2s 39ms/step\n"
          ]
        },
        {
          "output_type": "execute_result",
          "data": {
            "text/plain": [
              "((604,), (604,))"
            ]
          },
          "metadata": {},
          "execution_count": 157
        }
      ],
      "source": [
        "predicted_stock_price = regressor.predict(X_test)\n",
        "\n",
        "predicted_stock_price_revtrans = sc.inverse_transform(predicted_stock_price).ravel()\n",
        "predicted_stock_price_revtrans_series = pd.Series(predicted_stock_price_revtrans)\n",
        "predicted_stock_price_revtrans_series.index = test_series.index\n",
        "\n",
        "predicted_stock_price_revtrans_series.shape, test_series.shape"
      ]
    },
    {
      "cell_type": "markdown",
      "metadata": {
        "id": "Dhjde2l_Dx1y"
      },
      "source": [
        "## Model Evaluation"
      ]
    },
    {
      "cell_type": "code",
      "execution_count": null,
      "metadata": {
        "colab": {
          "base_uri": "https://localhost:8080/"
        },
        "id": "iLDpDXl5kcnH",
        "outputId": "7af7e9d6-7893-4c5e-c476-d23d5afeceab"
      },
      "outputs": [
        {
          "output_type": "stream",
          "name": "stdout",
          "text": [
            "Testing Mean Squared Error: 34.932\n",
            "Symmetric Mean absolute percentage error: 3.341\n"
          ]
        }
      ],
      "source": [
        "# Evaluating our model\n",
        "error = mean_squared_error(test_series, predicted_stock_price_revtrans_series)\n",
        "print('Testing Mean Squared Error: %.3f' % error)\n",
        "error2 = smape_kun(test_series, predicted_stock_price_revtrans_series)\n",
        "print('Symmetric Mean absolute percentage error: %.3f' % error2)"
      ]
    },
    {
      "cell_type": "markdown",
      "metadata": {
        "id": "tR06LgzkD58c"
      },
      "source": [
        "## Visualizing the results from model predictions"
      ]
    },
    {
      "cell_type": "markdown",
      "metadata": {
        "id": "a5T5Kh9L6O1X"
      },
      "source": [
        "### Visualize train, test and forecasted prices"
      ]
    },
    {
      "cell_type": "code",
      "execution_count": null,
      "metadata": {
        "colab": {
          "base_uri": "https://localhost:8080/",
          "height": 458
        },
        "id": "g32mqimHkYja",
        "outputId": "458bf02a-6ac9-419f-cefa-0806771046d7"
      },
      "outputs": [
        {
          "output_type": "display_data",
          "data": {
            "text/plain": [
              "<Figure size 864x504 with 1 Axes>"
            ],
            "image/png": "[encoded data removed]"
          },
          "metadata": {
            "needs_background": "light"
          }
        }
      ],
      "source": [
        "plt.figure(figsize=(12,7))\n",
        "plt.title('IBM Prices')\n",
        "plt.xlabel('Dates')\n",
        "plt.ylabel('Prices')\n",
        "plt.plot(train_series, color='blue', label='Training Prices')\n",
        "plt.plot(test_series, color='green', label='Testing Prices')\n",
        "plt.plot(predicted_stock_price_revtrans_series, color='red', linestyle='--', label='Forecasted Prices - Reverse Transform')\n",
        "plt.legend();\n",
        "plt.grid(True)"
      ]
    },
    {
      "cell_type": "markdown",
      "metadata": {
        "id": "WZ2dsPyR6O1X"
      },
      "source": [
        "### Q17: Visualize only test and forecast prices"
      ]
    },
    {
      "cell_type": "code",
      "execution_count": null,
      "metadata": {
        "colab": {
          "base_uri": "https://localhost:8080/",
          "height": 458
        },
        "id": "UH7f5oS8Fqxy",
        "outputId": "8d0876c1-dd37-49e1-bd3b-8fd275adb185"
      },
      "outputs": [
        {
          "output_type": "display_data",
          "data": {
            "text/plain": [
              "<Figure size 864x504 with 1 Axes>"
            ],
            "image/png": "[encoded data removed]"
          },
          "metadata": {
            "needs_background": "light"
          }
        }
      ],
      "source": [
        "plt.figure(figsize=(12,7))\n",
        "plt.title('IBM Prices: test vs forecast using LSTM')\n",
        "plt.xlabel('Dates')\n",
        "plt.ylabel('Prices')\n",
        "# plt.plot(train_series, color='blue', label='Training Prices')\n",
        "plt.plot(test_series, color='green', label='Testing Prices')\n",
        "plt.plot(predicted_stock_price_revtrans_series, color='red', linestyle='--', label='Forecasted Prices - Reverse Transform')\n",
        "plt.legend();\n",
        "plt.grid(True)"
      ]
    },
    {
      "cell_type": "markdown",
      "metadata": {
        "id": "c1xuGfJuQTOp"
      },
      "source": [
        "# Conclusion\n",
        "\n",
        "Remember we did a rolling point-based prediction for the ARIMA model where we tried to predict every day's (t) stock price in the test data by using both the training data as well as the previous (n - t) days of test data also to fit the model which gave it such good results vs. the LSTM model where we used 2 months of rolling window price data to predict the next day's price."
      ]
    }
  ],
  "metadata": {
    "accelerator": "GPU",
    "colab": {
      "provenance": [],
      "toc_visible": true,
      "include_colab_link": true
    },
    "kernelspec": {
      "display_name": "Python 3",
      "language": "python",
      "name": "python3"
    },
    "language_info": {
      "codemirror_mode": {
        "name": "ipython",
        "version": 3
      },
      "file_extension": ".py",
      "mimetype": "text/x-python",
      "name": "python",
      "nbconvert_exporter": "python",
      "pygments_lexer": "ipython3",
      "version": "3.7.6"
    },
    "gpuClass": "standard"
  },
  "nbformat": 4,
  "nbformat_minor": 0
}