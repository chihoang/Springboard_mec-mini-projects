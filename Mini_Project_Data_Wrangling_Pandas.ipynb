{
  "cells": [
    {
      "cell_type": "markdown",
      "metadata": {
        "id": "view-in-github",
        "colab_type": "text"
      },
      "source": [
        "<a href=\"https://colab.research.google.com/github/chihoang/Springboard_mec-mini-projects/blob/main/Mini_Project_Data_Wrangling_Pandas.ipynb\" target=\"_parent\"><img src=\"https://colab.research.google.com/assets/colab-badge.svg\" alt=\"Open In Colab\"/></a>"
      ]
    },
    {
      "cell_type": "markdown",
      "metadata": {
        "id": "TSUAe-tLNsoi"
      },
      "source": [
        "# Mini-Project: Data Wrangling and Transformation with Pandas\n",
        "\n",
        "Working with tabular data is a necessity for anyone with enterprises having a majority of their data in relational databases and flat files. This mini-project is adopted from the excellent tutorial on pandas by Brandon Rhodes which you have watched earlier in the Data Wrangling Unit. In this mini-project, we will be looking at some interesting data based on movie data from the IMDB.\n",
        "\n",
        "This assignment should help you reinforce the concepts you learnt in the curriculum for Data Wrangling and sharpen your skills in using Pandas. Good Luck!"
      ]
    },
    {
      "cell_type": "markdown",
      "metadata": {
        "id": "4ickXwcSNsok"
      },
      "source": [
        "### Please make sure you have one of the more recent versions of Pandas"
      ]
    },
    {
      "cell_type": "code",
      "execution_count": null,
      "metadata": {
        "id": "TJFm9arrNsok"
      },
      "outputs": [],
      "source": [
        "import pandas as pd\n",
        "import matplotlib.pyplot as plt\n",
        "\n",
        "%matplotlib inline"
      ]
    },
    {
      "cell_type": "code",
      "execution_count": null,
      "metadata": {
        "colab": {
          "base_uri": "https://localhost:8080/",
          "height": 35
        },
        "id": "6xCX0jKnNsol",
        "outputId": "bf1c11c9-9693-44ab-d1fd-9ecd114e275e"
      },
      "outputs": [
        {
          "output_type": "execute_result",
          "data": {
            "text/plain": [
              "'1.3.5'"
            ],
            "application/vnd.google.colaboratory.intrinsic+json": {
              "type": "string"
            }
          },
          "metadata": {},
          "execution_count": 2
        }
      ],
      "source": [
        "pd.__version__"
      ]
    },
    {
      "cell_type": "markdown",
      "metadata": {
        "id": "KuY3nko8Nsol"
      },
      "source": [
        "## Taking a look at the Movies dataset\n",
        "This data shows the movies based on their title and the year of release"
      ]
    },
    {
      "cell_type": "code",
      "source": [
        "### 11/18/22: mount to the datasets in Google Drive ###\n",
        "import os\n",
        "from google.colab import drive\n",
        "MOUNTPOINT = '/content/gdrive'\n",
        "DATADIR = os.path.join(MOUNTPOINT, 'My Drive', 'myfolder')\n",
        "drive.mount(MOUNTPOINT)"
      ],
      "metadata": {
        "colab": {
          "base_uri": "https://localhost:8080/"
        },
        "id": "wLB0WacNPEFD",
        "outputId": "517401cf-2cb7-4708-d76f-ae0a4e2b11ad"
      },
      "execution_count": null,
      "outputs": [
        {
          "output_type": "stream",
          "name": "stdout",
          "text": [
            "Mounted at /content/gdrive\n"
          ]
        }
      ]
    },
    {
      "cell_type": "code",
      "execution_count": null,
      "metadata": {
        "id": "GCIGSVnjNsol"
      },
      "outputs": [],
      "source": [
        "# movies = pd.read_csv('titles.csv')\n",
        "movies = pd.read_csv('/content/gdrive/MyDrive/Colab Notebooks/\\\n",
        "mec-mini-projects-master/mec-5.3.10-data-wranging-with-pandas-mini-project/titles.csv')\n"
      ]
    },
    {
      "cell_type": "code",
      "source": [
        "movies.info()"
      ],
      "metadata": {
        "colab": {
          "base_uri": "https://localhost:8080/"
        },
        "id": "J_5qjKm0O9Rp",
        "outputId": "a178e7ba-cead-40f0-ae4b-2a678914e604"
      },
      "execution_count": null,
      "outputs": [
        {
          "output_type": "stream",
          "name": "stdout",
          "text": [
            "<class 'pandas.core.frame.DataFrame'>\n",
            "RangeIndex: 244914 entries, 0 to 244913\n",
            "Data columns (total 2 columns):\n",
            " #   Column  Non-Null Count   Dtype \n",
            "---  ------  --------------   ----- \n",
            " 0   title   244914 non-null  object\n",
            " 1   year    244914 non-null  int64 \n",
            "dtypes: int64(1), object(1)\n",
            "memory usage: 3.7+ MB\n"
          ]
        }
      ]
    },
    {
      "cell_type": "code",
      "execution_count": null,
      "metadata": {
        "colab": {
          "base_uri": "https://localhost:8080/",
          "height": 206
        },
        "id": "Wvb6iRZqNsom",
        "outputId": "117a6e4f-16f1-449c-aa88-79e6a47cd327"
      },
      "outputs": [
        {
          "output_type": "execute_result",
          "data": {
            "text/plain": [
              "                                          title  year\n",
              "0                        The Ticket to the Life  2009\n",
              "1  Parallel Worlds: A New Rock Music Experience  2016\n",
              "2                     Morita - La hija de Jesus  2008\n",
              "3                                           Gun  2017\n",
              "4                        Love or Nothing at All  2014"
            ],
            "text/html": [
              "\n",
              "  <div id=\"df-4adb369d-d04a-40fb-96f1-4bf0dcdb8410\">\n",
              "    <div class=\"colab-df-container\">\n",
              "      <div>\n",
              "<style scoped>\n",
              "    .dataframe tbody tr th:only-of-type {\n",
              "        vertical-align: middle;\n",
              "    }\n",
              "\n",
              "    .dataframe tbody tr th {\n",
              "        vertical-align: top;\n",
              "    }\n",
              "\n",
              "    .dataframe thead th {\n",
              "        text-align: right;\n",
              "    }\n",
              "</style>\n",
              "<table border=\"1\" class=\"dataframe\">\n",
              "  <thead>\n",
              "    <tr style=\"text-align: right;\">\n",
              "      <th></th>\n",
              "      <th>title</th>\n",
              "      <th>year</th>\n",
              "    </tr>\n",
              "  </thead>\n",
              "  <tbody>\n",
              "    <tr>\n",
              "      <th>0</th>\n",
              "      <td>The Ticket to the Life</td>\n",
              "      <td>2009</td>\n",
              "    </tr>\n",
              "    <tr>\n",
              "      <th>1</th>\n",
              "      <td>Parallel Worlds: A New Rock Music Experience</td>\n",
              "      <td>2016</td>\n",
              "    </tr>\n",
              "    <tr>\n",
              "      <th>2</th>\n",
              "      <td>Morita - La hija de Jesus</td>\n",
              "      <td>2008</td>\n",
              "    </tr>\n",
              "    <tr>\n",
              "      <th>3</th>\n",
              "      <td>Gun</td>\n",
              "      <td>2017</td>\n",
              "    </tr>\n",
              "    <tr>\n",
              "      <th>4</th>\n",
              "      <td>Love or Nothing at All</td>\n",
              "      <td>2014</td>\n",
              "    </tr>\n",
              "  </tbody>\n",
              "</table>\n",
              "</div>\n",
              "      <button class=\"colab-df-convert\" onclick=\"convertToInteractive('df-4adb369d-d04a-40fb-96f1-4bf0dcdb8410')\"\n",
              "              title=\"Convert this dataframe to an interactive table.\"\n",
              "              style=\"display:none;\">\n",
              "        \n",
              "  <svg xmlns=\"http://www.w3.org/2000/svg\" height=\"24px\"viewBox=\"0 0 24 24\"\n",
              "       width=\"24px\">\n",
              "    <path d=\"M0 0h24v24H0V0z\" fill=\"none\"/>\n",
              "    <path d=\"M18.56 5.44l.94 2.06.94-2.06 2.06-.94-2.06-.94-.94-2.06-.94 2.06-2.06.94zm-11 1L8.5 8.5l.94-2.06 2.06-.94-2.06-.94L8.5 2.5l-.94 2.06-2.06.94zm10 10l.94 2.06.94-2.06 2.06-.94-2.06-.94-.94-2.06-.94 2.06-2.06.94z\"/><path d=\"M17.41 7.96l-1.37-1.37c-.4-.4-.92-.59-1.43-.59-.52 0-1.04.2-1.43.59L10.3 9.45l-7.72 7.72c-.78.78-.78 2.05 0 2.83L4 21.41c.39.39.9.59 1.41.59.51 0 1.02-.2 1.41-.59l7.78-7.78 2.81-2.81c.8-.78.8-2.07 0-2.86zM5.41 20L4 18.59l7.72-7.72 1.47 1.35L5.41 20z\"/>\n",
              "  </svg>\n",
              "      </button>\n",
              "      \n",
              "  <style>\n",
              "    .colab-df-container {\n",
              "      display:flex;\n",
              "      flex-wrap:wrap;\n",
              "      gap: 12px;\n",
              "    }\n",
              "\n",
              "    .colab-df-convert {\n",
              "      background-color: #E8F0FE;\n",
              "      border: none;\n",
              "      border-radius: 50%;\n",
              "      cursor: pointer;\n",
              "      display: none;\n",
              "      fill: #1967D2;\n",
              "      height: 32px;\n",
              "      padding: 0 0 0 0;\n",
              "      width: 32px;\n",
              "    }\n",
              "\n",
              "    .colab-df-convert:hover {\n",
              "      background-color: #E2EBFA;\n",
              "      box-shadow: 0px 1px 2px rgba(60, 64, 67, 0.3), 0px 1px 3px 1px rgba(60, 64, 67, 0.15);\n",
              "      fill: #174EA6;\n",
              "    }\n",
              "\n",
              "    [theme=dark] .colab-df-convert {\n",
              "      background-color: #3B4455;\n",
              "      fill: #D2E3FC;\n",
              "    }\n",
              "\n",
              "    [theme=dark] .colab-df-convert:hover {\n",
              "      background-color: #434B5C;\n",
              "      box-shadow: 0px 1px 3px 1px rgba(0, 0, 0, 0.15);\n",
              "      filter: drop-shadow(0px 1px 2px rgba(0, 0, 0, 0.3));\n",
              "      fill: #FFFFFF;\n",
              "    }\n",
              "  </style>\n",
              "\n",
              "      <script>\n",
              "        const buttonEl =\n",
              "          document.querySelector('#df-4adb369d-d04a-40fb-96f1-4bf0dcdb8410 button.colab-df-convert');\n",
              "        buttonEl.style.display =\n",
              "          google.colab.kernel.accessAllowed ? 'block' : 'none';\n",
              "\n",
              "        async function convertToInteractive(key) {\n",
              "          const element = document.querySelector('#df-4adb369d-d04a-40fb-96f1-4bf0dcdb8410');\n",
              "          const dataTable =\n",
              "            await google.colab.kernel.invokeFunction('convertToInteractive',\n",
              "                                                     [key], {});\n",
              "          if (!dataTable) return;\n",
              "\n",
              "          const docLinkHtml = 'Like what you see? Visit the ' +\n",
              "            '<a target=\"_blank\" href=https://colab.research.google.com/notebooks/data_table.ipynb>data table notebook</a>'\n",
              "            + ' to learn more about interactive tables.';\n",
              "          element.innerHTML = '';\n",
              "          dataTable['output_type'] = 'display_data';\n",
              "          await google.colab.output.renderOutput(dataTable, element);\n",
              "          const docLink = document.createElement('div');\n",
              "          docLink.innerHTML = docLinkHtml;\n",
              "          element.appendChild(docLink);\n",
              "        }\n",
              "      </script>\n",
              "    </div>\n",
              "  </div>\n",
              "  "
            ]
          },
          "metadata": {},
          "execution_count": 6
        }
      ],
      "source": [
        "movies.head()"
      ]
    },
    {
      "cell_type": "markdown",
      "metadata": {
        "id": "WVucvimlNsom"
      },
      "source": [
        "## Taking a look at the Cast dataset\n",
        "\n",
        "This data shows the cast (actors, actresses, supporting roles) for each movie\n",
        "\n",
        "- The attribute `n` basically tells the importance of the cast role, lower the number, more important the role.\n",
        "- Supporting cast usually don't have any value for `n`"
      ]
    },
    {
      "cell_type": "code",
      "execution_count": null,
      "metadata": {
        "id": "jzD9VGBiNsom"
      },
      "outputs": [],
      "source": [
        "# cast = pd.read_csv('cast.csv.zip')\n",
        "cast = pd.read_csv('/content/gdrive/MyDrive/Colab Notebooks/\\\n",
        "mec-mini-projects-master/mec-5.3.10-data-wranging-with-pandas-mini-project/cast.csv.zip')\n"
      ]
    },
    {
      "cell_type": "code",
      "source": [
        "cast.info()"
      ],
      "metadata": {
        "colab": {
          "base_uri": "https://localhost:8080/"
        },
        "id": "0JUmBM7lP3xV",
        "outputId": "50f265e4-d2ce-4555-c402-4807b5608fef"
      },
      "execution_count": null,
      "outputs": [
        {
          "output_type": "stream",
          "name": "stdout",
          "text": [
            "<class 'pandas.core.frame.DataFrame'>\n",
            "RangeIndex: 3786176 entries, 0 to 3786175\n",
            "Data columns (total 6 columns):\n",
            " #   Column     Dtype  \n",
            "---  ------     -----  \n",
            " 0   title      object \n",
            " 1   year       int64  \n",
            " 2   name       object \n",
            " 3   type       object \n",
            " 4   character  object \n",
            " 5   n          float64\n",
            "dtypes: float64(1), int64(1), object(4)\n",
            "memory usage: 173.3+ MB\n"
          ]
        }
      ]
    },
    {
      "cell_type": "code",
      "execution_count": null,
      "metadata": {
        "colab": {
          "base_uri": "https://localhost:8080/",
          "height": 442
        },
        "id": "qdfiaCRrNson",
        "outputId": "8ed8acac-6709-44aa-810d-c8c281d1bea0"
      },
      "outputs": [
        {
          "output_type": "execute_result",
          "data": {
            "text/plain": [
              "                                               title  year  \\\n",
              "0                                     Closet Monster  2015   \n",
              "1                                    Suuri illusioni  1985   \n",
              "2                                Battle of the Sexes  2017   \n",
              "3                               Secret in Their Eyes  2015   \n",
              "4                                         Steve Jobs  2015   \n",
              "5                             Straight Outta Compton  2015   \n",
              "6                             Straight Outta Compton  2015   \n",
              "7                                     For Thy Love 2  2009   \n",
              "8  Lapis, Ballpen at Diploma, a True to Life Journey  2014   \n",
              "9                                       Desire (III)  2014   \n",
              "\n",
              "                        name   type                               character  \\\n",
              "0                   Buffy #1  actor                                 Buffy 4   \n",
              "1                     Homo $  actor                                  Guests   \n",
              "2                    $hutter  actor                         Bobby Riggs Fan   \n",
              "3                    $hutter  actor                         2002 Dodger Fan   \n",
              "4                    $hutter  actor                 1988 Opera House Patron   \n",
              "5                    $hutter  actor                             Club Patron   \n",
              "6                    $hutter  actor                                 Dopeman   \n",
              "7               Bee Moe $lim  actor                                  Thug 1   \n",
              "8  Jori ' Danilo' Jurado Jr.  actor                           Jaime (young)   \n",
              "9           Syaiful 'Ariffin  actor  Actor Playing Eteocles from 'Antigone'   \n",
              "\n",
              "      n  \n",
              "0  31.0  \n",
              "1  22.0  \n",
              "2  10.0  \n",
              "3   NaN  \n",
              "4   NaN  \n",
              "5   NaN  \n",
              "6   NaN  \n",
              "7   NaN  \n",
              "8   9.0  \n",
              "9   NaN  "
            ],
            "text/html": [
              "\n",
              "  <div id=\"df-3dd88bbf-b56c-487d-9dec-b9523d2333df\">\n",
              "    <div class=\"colab-df-container\">\n",
              "      <div>\n",
              "<style scoped>\n",
              "    .dataframe tbody tr th:only-of-type {\n",
              "        vertical-align: middle;\n",
              "    }\n",
              "\n",
              "    .dataframe tbody tr th {\n",
              "        vertical-align: top;\n",
              "    }\n",
              "\n",
              "    .dataframe thead th {\n",
              "        text-align: right;\n",
              "    }\n",
              "</style>\n",
              "<table border=\"1\" class=\"dataframe\">\n",
              "  <thead>\n",
              "    <tr style=\"text-align: right;\">\n",
              "      <th></th>\n",
              "      <th>title</th>\n",
              "      <th>year</th>\n",
              "      <th>name</th>\n",
              "      <th>type</th>\n",
              "      <th>character</th>\n",
              "      <th>n</th>\n",
              "    </tr>\n",
              "  </thead>\n",
              "  <tbody>\n",
              "    <tr>\n",
              "      <th>0</th>\n",
              "      <td>Closet Monster</td>\n",
              "      <td>2015</td>\n",
              "      <td>Buffy #1</td>\n",
              "      <td>actor</td>\n",
              "      <td>Buffy 4</td>\n",
              "      <td>31.0</td>\n",
              "    </tr>\n",
              "    <tr>\n",
              "      <th>1</th>\n",
              "      <td>Suuri illusioni</td>\n",
              "      <td>1985</td>\n",
              "      <td>Homo $</td>\n",
              "      <td>actor</td>\n",
              "      <td>Guests</td>\n",
              "      <td>22.0</td>\n",
              "    </tr>\n",
              "    <tr>\n",
              "      <th>2</th>\n",
              "      <td>Battle of the Sexes</td>\n",
              "      <td>2017</td>\n",
              "      <td>$hutter</td>\n",
              "      <td>actor</td>\n",
              "      <td>Bobby Riggs Fan</td>\n",
              "      <td>10.0</td>\n",
              "    </tr>\n",
              "    <tr>\n",
              "      <th>3</th>\n",
              "      <td>Secret in Their Eyes</td>\n",
              "      <td>2015</td>\n",
              "      <td>$hutter</td>\n",
              "      <td>actor</td>\n",
              "      <td>2002 Dodger Fan</td>\n",
              "      <td>NaN</td>\n",
              "    </tr>\n",
              "    <tr>\n",
              "      <th>4</th>\n",
              "      <td>Steve Jobs</td>\n",
              "      <td>2015</td>\n",
              "      <td>$hutter</td>\n",
              "      <td>actor</td>\n",
              "      <td>1988 Opera House Patron</td>\n",
              "      <td>NaN</td>\n",
              "    </tr>\n",
              "    <tr>\n",
              "      <th>5</th>\n",
              "      <td>Straight Outta Compton</td>\n",
              "      <td>2015</td>\n",
              "      <td>$hutter</td>\n",
              "      <td>actor</td>\n",
              "      <td>Club Patron</td>\n",
              "      <td>NaN</td>\n",
              "    </tr>\n",
              "    <tr>\n",
              "      <th>6</th>\n",
              "      <td>Straight Outta Compton</td>\n",
              "      <td>2015</td>\n",
              "      <td>$hutter</td>\n",
              "      <td>actor</td>\n",
              "      <td>Dopeman</td>\n",
              "      <td>NaN</td>\n",
              "    </tr>\n",
              "    <tr>\n",
              "      <th>7</th>\n",
              "      <td>For Thy Love 2</td>\n",
              "      <td>2009</td>\n",
              "      <td>Bee Moe $lim</td>\n",
              "      <td>actor</td>\n",
              "      <td>Thug 1</td>\n",
              "      <td>NaN</td>\n",
              "    </tr>\n",
              "    <tr>\n",
              "      <th>8</th>\n",
              "      <td>Lapis, Ballpen at Diploma, a True to Life Journey</td>\n",
              "      <td>2014</td>\n",
              "      <td>Jori ' Danilo' Jurado Jr.</td>\n",
              "      <td>actor</td>\n",
              "      <td>Jaime (young)</td>\n",
              "      <td>9.0</td>\n",
              "    </tr>\n",
              "    <tr>\n",
              "      <th>9</th>\n",
              "      <td>Desire (III)</td>\n",
              "      <td>2014</td>\n",
              "      <td>Syaiful 'Ariffin</td>\n",
              "      <td>actor</td>\n",
              "      <td>Actor Playing Eteocles from 'Antigone'</td>\n",
              "      <td>NaN</td>\n",
              "    </tr>\n",
              "  </tbody>\n",
              "</table>\n",
              "</div>\n",
              "      <button class=\"colab-df-convert\" onclick=\"convertToInteractive('df-3dd88bbf-b56c-487d-9dec-b9523d2333df')\"\n",
              "              title=\"Convert this dataframe to an interactive table.\"\n",
              "              style=\"display:none;\">\n",
              "        \n",
              "  <svg xmlns=\"http://www.w3.org/2000/svg\" height=\"24px\"viewBox=\"0 0 24 24\"\n",
              "       width=\"24px\">\n",
              "    <path d=\"M0 0h24v24H0V0z\" fill=\"none\"/>\n",
              "    <path d=\"M18.56 5.44l.94 2.06.94-2.06 2.06-.94-2.06-.94-.94-2.06-.94 2.06-2.06.94zm-11 1L8.5 8.5l.94-2.06 2.06-.94-2.06-.94L8.5 2.5l-.94 2.06-2.06.94zm10 10l.94 2.06.94-2.06 2.06-.94-2.06-.94-.94-2.06-.94 2.06-2.06.94z\"/><path d=\"M17.41 7.96l-1.37-1.37c-.4-.4-.92-.59-1.43-.59-.52 0-1.04.2-1.43.59L10.3 9.45l-7.72 7.72c-.78.78-.78 2.05 0 2.83L4 21.41c.39.39.9.59 1.41.59.51 0 1.02-.2 1.41-.59l7.78-7.78 2.81-2.81c.8-.78.8-2.07 0-2.86zM5.41 20L4 18.59l7.72-7.72 1.47 1.35L5.41 20z\"/>\n",
              "  </svg>\n",
              "      </button>\n",
              "      \n",
              "  <style>\n",
              "    .colab-df-container {\n",
              "      display:flex;\n",
              "      flex-wrap:wrap;\n",
              "      gap: 12px;\n",
              "    }\n",
              "\n",
              "    .colab-df-convert {\n",
              "      background-color: #E8F0FE;\n",
              "      border: none;\n",
              "      border-radius: 50%;\n",
              "      cursor: pointer;\n",
              "      display: none;\n",
              "      fill: #1967D2;\n",
              "      height: 32px;\n",
              "      padding: 0 0 0 0;\n",
              "      width: 32px;\n",
              "    }\n",
              "\n",
              "    .colab-df-convert:hover {\n",
              "      background-color: #E2EBFA;\n",
              "      box-shadow: 0px 1px 2px rgba(60, 64, 67, 0.3), 0px 1px 3px 1px rgba(60, 64, 67, 0.15);\n",
              "      fill: #174EA6;\n",
              "    }\n",
              "\n",
              "    [theme=dark] .colab-df-convert {\n",
              "      background-color: #3B4455;\n",
              "      fill: #D2E3FC;\n",
              "    }\n",
              "\n",
              "    [theme=dark] .colab-df-convert:hover {\n",
              "      background-color: #434B5C;\n",
              "      box-shadow: 0px 1px 3px 1px rgba(0, 0, 0, 0.15);\n",
              "      filter: drop-shadow(0px 1px 2px rgba(0, 0, 0, 0.3));\n",
              "      fill: #FFFFFF;\n",
              "    }\n",
              "  </style>\n",
              "\n",
              "      <script>\n",
              "        const buttonEl =\n",
              "          document.querySelector('#df-3dd88bbf-b56c-487d-9dec-b9523d2333df button.colab-df-convert');\n",
              "        buttonEl.style.display =\n",
              "          google.colab.kernel.accessAllowed ? 'block' : 'none';\n",
              "\n",
              "        async function convertToInteractive(key) {\n",
              "          const element = document.querySelector('#df-3dd88bbf-b56c-487d-9dec-b9523d2333df');\n",
              "          const dataTable =\n",
              "            await google.colab.kernel.invokeFunction('convertToInteractive',\n",
              "                                                     [key], {});\n",
              "          if (!dataTable) return;\n",
              "\n",
              "          const docLinkHtml = 'Like what you see? Visit the ' +\n",
              "            '<a target=\"_blank\" href=https://colab.research.google.com/notebooks/data_table.ipynb>data table notebook</a>'\n",
              "            + ' to learn more about interactive tables.';\n",
              "          element.innerHTML = '';\n",
              "          dataTable['output_type'] = 'display_data';\n",
              "          await google.colab.output.renderOutput(dataTable, element);\n",
              "          const docLink = document.createElement('div');\n",
              "          docLink.innerHTML = docLinkHtml;\n",
              "          element.appendChild(docLink);\n",
              "        }\n",
              "      </script>\n",
              "    </div>\n",
              "  </div>\n",
              "  "
            ]
          },
          "metadata": {},
          "execution_count": 9
        }
      ],
      "source": [
        "cast.head(10)"
      ]
    },
    {
      "cell_type": "markdown",
      "metadata": {
        "id": "BsctqRNPNson"
      },
      "source": [
        "## Taking a look at the Release dataset\n",
        "\n",
        "This data shows details of when each movie was release in each country with the release date"
      ]
    },
    {
      "cell_type": "code",
      "execution_count": null,
      "metadata": {
        "id": "Mw6DlfBuNson"
      },
      "outputs": [],
      "source": [
        "# release_dates = pd.read_csv('release_dates.csv', parse_dates=['date'], infer_datetime_format=True)\n",
        "release_dates = pd.read_csv('/content/gdrive/MyDrive/Colab Notebooks/\\\n",
        "mec-mini-projects-master/mec-5.3.10-data-wranging-with-pandas-mini-project/release_dates.csv', \\\n",
        "parse_dates=['date'], infer_datetime_format=True)\n"
      ]
    },
    {
      "cell_type": "code",
      "source": [
        "release_dates.info()"
      ],
      "metadata": {
        "colab": {
          "base_uri": "https://localhost:8080/"
        },
        "id": "fVdGaAS_QUmW",
        "outputId": "70ab1b6c-8d4e-43b6-d141-2d92099c0aca"
      },
      "execution_count": null,
      "outputs": [
        {
          "output_type": "stream",
          "name": "stdout",
          "text": [
            "<class 'pandas.core.frame.DataFrame'>\n",
            "RangeIndex: 479488 entries, 0 to 479487\n",
            "Data columns (total 4 columns):\n",
            " #   Column   Non-Null Count   Dtype         \n",
            "---  ------   --------------   -----         \n",
            " 0   title    479488 non-null  object        \n",
            " 1   year     479488 non-null  int64         \n",
            " 2   country  479488 non-null  object        \n",
            " 3   date     479488 non-null  datetime64[ns]\n",
            "dtypes: datetime64[ns](1), int64(1), object(2)\n",
            "memory usage: 14.6+ MB\n"
          ]
        }
      ]
    },
    {
      "cell_type": "code",
      "execution_count": null,
      "metadata": {
        "colab": {
          "base_uri": "https://localhost:8080/",
          "height": 206
        },
        "id": "hn-VthWaNson",
        "outputId": "ce829964-eedf-4bf7-e583-9e6c6c674ba2"
      },
      "outputs": [
        {
          "output_type": "execute_result",
          "data": {
            "text/plain": [
              "                    title  year      country       date\n",
              "0   #73, Shaanthi Nivaasa  2007        India 2007-06-15\n",
              "1                   #BKKY  2016     Cambodia 2017-10-12\n",
              "2                 #Beings  2015      Romania 2015-01-29\n",
              "3               #Captured  2017          USA 2017-09-05\n",
              "4  #Ewankosau saranghaeyo  2015  Philippines 2015-01-21"
            ],
            "text/html": [
              "\n",
              "  <div id=\"df-103828ec-e5b5-49ea-b22c-279116ff42f3\">\n",
              "    <div class=\"colab-df-container\">\n",
              "      <div>\n",
              "<style scoped>\n",
              "    .dataframe tbody tr th:only-of-type {\n",
              "        vertical-align: middle;\n",
              "    }\n",
              "\n",
              "    .dataframe tbody tr th {\n",
              "        vertical-align: top;\n",
              "    }\n",
              "\n",
              "    .dataframe thead th {\n",
              "        text-align: right;\n",
              "    }\n",
              "</style>\n",
              "<table border=\"1\" class=\"dataframe\">\n",
              "  <thead>\n",
              "    <tr style=\"text-align: right;\">\n",
              "      <th></th>\n",
              "      <th>title</th>\n",
              "      <th>year</th>\n",
              "      <th>country</th>\n",
              "      <th>date</th>\n",
              "    </tr>\n",
              "  </thead>\n",
              "  <tbody>\n",
              "    <tr>\n",
              "      <th>0</th>\n",
              "      <td>#73, Shaanthi Nivaasa</td>\n",
              "      <td>2007</td>\n",
              "      <td>India</td>\n",
              "      <td>2007-06-15</td>\n",
              "    </tr>\n",
              "    <tr>\n",
              "      <th>1</th>\n",
              "      <td>#BKKY</td>\n",
              "      <td>2016</td>\n",
              "      <td>Cambodia</td>\n",
              "      <td>2017-10-12</td>\n",
              "    </tr>\n",
              "    <tr>\n",
              "      <th>2</th>\n",
              "      <td>#Beings</td>\n",
              "      <td>2015</td>\n",
              "      <td>Romania</td>\n",
              "      <td>2015-01-29</td>\n",
              "    </tr>\n",
              "    <tr>\n",
              "      <th>3</th>\n",
              "      <td>#Captured</td>\n",
              "      <td>2017</td>\n",
              "      <td>USA</td>\n",
              "      <td>2017-09-05</td>\n",
              "    </tr>\n",
              "    <tr>\n",
              "      <th>4</th>\n",
              "      <td>#Ewankosau saranghaeyo</td>\n",
              "      <td>2015</td>\n",
              "      <td>Philippines</td>\n",
              "      <td>2015-01-21</td>\n",
              "    </tr>\n",
              "  </tbody>\n",
              "</table>\n",
              "</div>\n",
              "      <button class=\"colab-df-convert\" onclick=\"convertToInteractive('df-103828ec-e5b5-49ea-b22c-279116ff42f3')\"\n",
              "              title=\"Convert this dataframe to an interactive table.\"\n",
              "              style=\"display:none;\">\n",
              "        \n",
              "  <svg xmlns=\"http://www.w3.org/2000/svg\" height=\"24px\"viewBox=\"0 0 24 24\"\n",
              "       width=\"24px\">\n",
              "    <path d=\"M0 0h24v24H0V0z\" fill=\"none\"/>\n",
              "    <path d=\"M18.56 5.44l.94 2.06.94-2.06 2.06-.94-2.06-.94-.94-2.06-.94 2.06-2.06.94zm-11 1L8.5 8.5l.94-2.06 2.06-.94-2.06-.94L8.5 2.5l-.94 2.06-2.06.94zm10 10l.94 2.06.94-2.06 2.06-.94-2.06-.94-.94-2.06-.94 2.06-2.06.94z\"/><path d=\"M17.41 7.96l-1.37-1.37c-.4-.4-.92-.59-1.43-.59-.52 0-1.04.2-1.43.59L10.3 9.45l-7.72 7.72c-.78.78-.78 2.05 0 2.83L4 21.41c.39.39.9.59 1.41.59.51 0 1.02-.2 1.41-.59l7.78-7.78 2.81-2.81c.8-.78.8-2.07 0-2.86zM5.41 20L4 18.59l7.72-7.72 1.47 1.35L5.41 20z\"/>\n",
              "  </svg>\n",
              "      </button>\n",
              "      \n",
              "  <style>\n",
              "    .colab-df-container {\n",
              "      display:flex;\n",
              "      flex-wrap:wrap;\n",
              "      gap: 12px;\n",
              "    }\n",
              "\n",
              "    .colab-df-convert {\n",
              "      background-color: #E8F0FE;\n",
              "      border: none;\n",
              "      border-radius: 50%;\n",
              "      cursor: pointer;\n",
              "      display: none;\n",
              "      fill: #1967D2;\n",
              "      height: 32px;\n",
              "      padding: 0 0 0 0;\n",
              "      width: 32px;\n",
              "    }\n",
              "\n",
              "    .colab-df-convert:hover {\n",
              "      background-color: #E2EBFA;\n",
              "      box-shadow: 0px 1px 2px rgba(60, 64, 67, 0.3), 0px 1px 3px 1px rgba(60, 64, 67, 0.15);\n",
              "      fill: #174EA6;\n",
              "    }\n",
              "\n",
              "    [theme=dark] .colab-df-convert {\n",
              "      background-color: #3B4455;\n",
              "      fill: #D2E3FC;\n",
              "    }\n",
              "\n",
              "    [theme=dark] .colab-df-convert:hover {\n",
              "      background-color: #434B5C;\n",
              "      box-shadow: 0px 1px 3px 1px rgba(0, 0, 0, 0.15);\n",
              "      filter: drop-shadow(0px 1px 2px rgba(0, 0, 0, 0.3));\n",
              "      fill: #FFFFFF;\n",
              "    }\n",
              "  </style>\n",
              "\n",
              "      <script>\n",
              "        const buttonEl =\n",
              "          document.querySelector('#df-103828ec-e5b5-49ea-b22c-279116ff42f3 button.colab-df-convert');\n",
              "        buttonEl.style.display =\n",
              "          google.colab.kernel.accessAllowed ? 'block' : 'none';\n",
              "\n",
              "        async function convertToInteractive(key) {\n",
              "          const element = document.querySelector('#df-103828ec-e5b5-49ea-b22c-279116ff42f3');\n",
              "          const dataTable =\n",
              "            await google.colab.kernel.invokeFunction('convertToInteractive',\n",
              "                                                     [key], {});\n",
              "          if (!dataTable) return;\n",
              "\n",
              "          const docLinkHtml = 'Like what you see? Visit the ' +\n",
              "            '<a target=\"_blank\" href=https://colab.research.google.com/notebooks/data_table.ipynb>data table notebook</a>'\n",
              "            + ' to learn more about interactive tables.';\n",
              "          element.innerHTML = '';\n",
              "          dataTable['output_type'] = 'display_data';\n",
              "          await google.colab.output.renderOutput(dataTable, element);\n",
              "          const docLink = document.createElement('div');\n",
              "          docLink.innerHTML = docLinkHtml;\n",
              "          element.appendChild(docLink);\n",
              "        }\n",
              "      </script>\n",
              "    </div>\n",
              "  </div>\n",
              "  "
            ]
          },
          "metadata": {},
          "execution_count": 12
        }
      ],
      "source": [
        "release_dates.head()"
      ]
    },
    {
      "cell_type": "markdown",
      "metadata": {
        "id": "5gOM8IWONsoo"
      },
      "source": [
        "# Section I - Basic Querying, Filtering and Transformations"
      ]
    },
    {
      "cell_type": "markdown",
      "metadata": {
        "id": "tgH381_gNsoo"
      },
      "source": [
        "### What is the total number of movies?"
      ]
    },
    {
      "cell_type": "code",
      "execution_count": null,
      "metadata": {
        "colab": {
          "base_uri": "https://localhost:8080/"
        },
        "id": "Y6wPsE7-Nsoo",
        "outputId": "5136ee34-da30-4ea0-d0cb-d43d5a3cb714"
      },
      "outputs": [
        {
          "output_type": "execute_result",
          "data": {
            "text/plain": [
              "244914"
            ]
          },
          "metadata": {},
          "execution_count": 13
        }
      ],
      "source": [
        "len(movies)"
      ]
    },
    {
      "cell_type": "markdown",
      "metadata": {
        "id": "PZa3ybkwNsoo"
      },
      "source": [
        "### List all Batman movies ever made"
      ]
    },
    {
      "cell_type": "code",
      "execution_count": null,
      "metadata": {
        "colab": {
          "base_uri": "https://localhost:8080/",
          "height": 129
        },
        "id": "racbI3-ZNsoo",
        "outputId": "bfcadd42-1f34-4536-9763-3f7eff45bbb3"
      },
      "outputs": [
        {
          "output_type": "stream",
          "name": "stdout",
          "text": [
            "Total Batman Movies: 2\n"
          ]
        },
        {
          "output_type": "execute_result",
          "data": {
            "text/plain": [
              "         title  year\n",
              "52734   Batman  1943\n",
              "150621  Batman  1989"
            ],
            "text/html": [
              "\n",
              "  <div id=\"df-3450f5b4-8757-45ae-bd28-2ed93add7a36\">\n",
              "    <div class=\"colab-df-container\">\n",
              "      <div>\n",
              "<style scoped>\n",
              "    .dataframe tbody tr th:only-of-type {\n",
              "        vertical-align: middle;\n",
              "    }\n",
              "\n",
              "    .dataframe tbody tr th {\n",
              "        vertical-align: top;\n",
              "    }\n",
              "\n",
              "    .dataframe thead th {\n",
              "        text-align: right;\n",
              "    }\n",
              "</style>\n",
              "<table border=\"1\" class=\"dataframe\">\n",
              "  <thead>\n",
              "    <tr style=\"text-align: right;\">\n",
              "      <th></th>\n",
              "      <th>title</th>\n",
              "      <th>year</th>\n",
              "    </tr>\n",
              "  </thead>\n",
              "  <tbody>\n",
              "    <tr>\n",
              "      <th>52734</th>\n",
              "      <td>Batman</td>\n",
              "      <td>1943</td>\n",
              "    </tr>\n",
              "    <tr>\n",
              "      <th>150621</th>\n",
              "      <td>Batman</td>\n",
              "      <td>1989</td>\n",
              "    </tr>\n",
              "  </tbody>\n",
              "</table>\n",
              "</div>\n",
              "      <button class=\"colab-df-convert\" onclick=\"convertToInteractive('df-3450f5b4-8757-45ae-bd28-2ed93add7a36')\"\n",
              "              title=\"Convert this dataframe to an interactive table.\"\n",
              "              style=\"display:none;\">\n",
              "        \n",
              "  <svg xmlns=\"http://www.w3.org/2000/svg\" height=\"24px\"viewBox=\"0 0 24 24\"\n",
              "       width=\"24px\">\n",
              "    <path d=\"M0 0h24v24H0V0z\" fill=\"none\"/>\n",
              "    <path d=\"M18.56 5.44l.94 2.06.94-2.06 2.06-.94-2.06-.94-.94-2.06-.94 2.06-2.06.94zm-11 1L8.5 8.5l.94-2.06 2.06-.94-2.06-.94L8.5 2.5l-.94 2.06-2.06.94zm10 10l.94 2.06.94-2.06 2.06-.94-2.06-.94-.94-2.06-.94 2.06-2.06.94z\"/><path d=\"M17.41 7.96l-1.37-1.37c-.4-.4-.92-.59-1.43-.59-.52 0-1.04.2-1.43.59L10.3 9.45l-7.72 7.72c-.78.78-.78 2.05 0 2.83L4 21.41c.39.39.9.59 1.41.59.51 0 1.02-.2 1.41-.59l7.78-7.78 2.81-2.81c.8-.78.8-2.07 0-2.86zM5.41 20L4 18.59l7.72-7.72 1.47 1.35L5.41 20z\"/>\n",
              "  </svg>\n",
              "      </button>\n",
              "      \n",
              "  <style>\n",
              "    .colab-df-container {\n",
              "      display:flex;\n",
              "      flex-wrap:wrap;\n",
              "      gap: 12px;\n",
              "    }\n",
              "\n",
              "    .colab-df-convert {\n",
              "      background-color: #E8F0FE;\n",
              "      border: none;\n",
              "      border-radius: 50%;\n",
              "      cursor: pointer;\n",
              "      display: none;\n",
              "      fill: #1967D2;\n",
              "      height: 32px;\n",
              "      padding: 0 0 0 0;\n",
              "      width: 32px;\n",
              "    }\n",
              "\n",
              "    .colab-df-convert:hover {\n",
              "      background-color: #E2EBFA;\n",
              "      box-shadow: 0px 1px 2px rgba(60, 64, 67, 0.3), 0px 1px 3px 1px rgba(60, 64, 67, 0.15);\n",
              "      fill: #174EA6;\n",
              "    }\n",
              "\n",
              "    [theme=dark] .colab-df-convert {\n",
              "      background-color: #3B4455;\n",
              "      fill: #D2E3FC;\n",
              "    }\n",
              "\n",
              "    [theme=dark] .colab-df-convert:hover {\n",
              "      background-color: #434B5C;\n",
              "      box-shadow: 0px 1px 3px 1px rgba(0, 0, 0, 0.15);\n",
              "      filter: drop-shadow(0px 1px 2px rgba(0, 0, 0, 0.3));\n",
              "      fill: #FFFFFF;\n",
              "    }\n",
              "  </style>\n",
              "\n",
              "      <script>\n",
              "        const buttonEl =\n",
              "          document.querySelector('#df-3450f5b4-8757-45ae-bd28-2ed93add7a36 button.colab-df-convert');\n",
              "        buttonEl.style.display =\n",
              "          google.colab.kernel.accessAllowed ? 'block' : 'none';\n",
              "\n",
              "        async function convertToInteractive(key) {\n",
              "          const element = document.querySelector('#df-3450f5b4-8757-45ae-bd28-2ed93add7a36');\n",
              "          const dataTable =\n",
              "            await google.colab.kernel.invokeFunction('convertToInteractive',\n",
              "                                                     [key], {});\n",
              "          if (!dataTable) return;\n",
              "\n",
              "          const docLinkHtml = 'Like what you see? Visit the ' +\n",
              "            '<a target=\"_blank\" href=https://colab.research.google.com/notebooks/data_table.ipynb>data table notebook</a>'\n",
              "            + ' to learn more about interactive tables.';\n",
              "          element.innerHTML = '';\n",
              "          dataTable['output_type'] = 'display_data';\n",
              "          await google.colab.output.renderOutput(dataTable, element);\n",
              "          const docLink = document.createElement('div');\n",
              "          docLink.innerHTML = docLinkHtml;\n",
              "          element.appendChild(docLink);\n",
              "        }\n",
              "      </script>\n",
              "    </div>\n",
              "  </div>\n",
              "  "
            ]
          },
          "metadata": {},
          "execution_count": 14
        }
      ],
      "source": [
        "batman_df = movies[movies.title == 'Batman']\n",
        "print('Total Batman Movies:', len(batman_df))\n",
        "batman_df"
      ]
    },
    {
      "cell_type": "markdown",
      "metadata": {
        "id": "CdiWtkfBNsoo"
      },
      "source": [
        "### List all Batman movies ever made - the right approach"
      ]
    },
    {
      "cell_type": "code",
      "execution_count": null,
      "metadata": {
        "colab": {
          "base_uri": "https://localhost:8080/",
          "height": 380
        },
        "id": "WQdbWNtvNsoo",
        "outputId": "80908022-d686-4110-d2d4-cfeac76b553c"
      },
      "outputs": [
        {
          "output_type": "stream",
          "name": "stdout",
          "text": [
            "Total Batman Movies: 35\n"
          ]
        },
        {
          "output_type": "execute_result",
          "data": {
            "text/plain": [
              "                                             title  year\n",
              "16813                              Batman: Anarchy  2016\n",
              "30236                               Batman Forever  1995\n",
              "31674                                Batman Untold  2010\n",
              "31711  Scooby-Doo & Batman: the Brave and the Bold  2018\n",
              "41881                  Batman the Rise of Red Hood  2018\n",
              "43484        Batman: Return of the Caped Crusaders  2016\n",
              "46333                               Batman & Robin  1997\n",
              "51811                              Batman Revealed  2012\n",
              "52734                                       Batman  1943\n",
              "56029                 Batman Beyond: Rising Knight  2014"
            ],
            "text/html": [
              "\n",
              "  <div id=\"df-3a145bf2-4981-4961-b4b8-6a5770ede41e\">\n",
              "    <div class=\"colab-df-container\">\n",
              "      <div>\n",
              "<style scoped>\n",
              "    .dataframe tbody tr th:only-of-type {\n",
              "        vertical-align: middle;\n",
              "    }\n",
              "\n",
              "    .dataframe tbody tr th {\n",
              "        vertical-align: top;\n",
              "    }\n",
              "\n",
              "    .dataframe thead th {\n",
              "        text-align: right;\n",
              "    }\n",
              "</style>\n",
              "<table border=\"1\" class=\"dataframe\">\n",
              "  <thead>\n",
              "    <tr style=\"text-align: right;\">\n",
              "      <th></th>\n",
              "      <th>title</th>\n",
              "      <th>year</th>\n",
              "    </tr>\n",
              "  </thead>\n",
              "  <tbody>\n",
              "    <tr>\n",
              "      <th>16813</th>\n",
              "      <td>Batman: Anarchy</td>\n",
              "      <td>2016</td>\n",
              "    </tr>\n",
              "    <tr>\n",
              "      <th>30236</th>\n",
              "      <td>Batman Forever</td>\n",
              "      <td>1995</td>\n",
              "    </tr>\n",
              "    <tr>\n",
              "      <th>31674</th>\n",
              "      <td>Batman Untold</td>\n",
              "      <td>2010</td>\n",
              "    </tr>\n",
              "    <tr>\n",
              "      <th>31711</th>\n",
              "      <td>Scooby-Doo &amp; Batman: the Brave and the Bold</td>\n",
              "      <td>2018</td>\n",
              "    </tr>\n",
              "    <tr>\n",
              "      <th>41881</th>\n",
              "      <td>Batman the Rise of Red Hood</td>\n",
              "      <td>2018</td>\n",
              "    </tr>\n",
              "    <tr>\n",
              "      <th>43484</th>\n",
              "      <td>Batman: Return of the Caped Crusaders</td>\n",
              "      <td>2016</td>\n",
              "    </tr>\n",
              "    <tr>\n",
              "      <th>46333</th>\n",
              "      <td>Batman &amp; Robin</td>\n",
              "      <td>1997</td>\n",
              "    </tr>\n",
              "    <tr>\n",
              "      <th>51811</th>\n",
              "      <td>Batman Revealed</td>\n",
              "      <td>2012</td>\n",
              "    </tr>\n",
              "    <tr>\n",
              "      <th>52734</th>\n",
              "      <td>Batman</td>\n",
              "      <td>1943</td>\n",
              "    </tr>\n",
              "    <tr>\n",
              "      <th>56029</th>\n",
              "      <td>Batman Beyond: Rising Knight</td>\n",
              "      <td>2014</td>\n",
              "    </tr>\n",
              "  </tbody>\n",
              "</table>\n",
              "</div>\n",
              "      <button class=\"colab-df-convert\" onclick=\"convertToInteractive('df-3a145bf2-4981-4961-b4b8-6a5770ede41e')\"\n",
              "              title=\"Convert this dataframe to an interactive table.\"\n",
              "              style=\"display:none;\">\n",
              "        \n",
              "  <svg xmlns=\"http://www.w3.org/2000/svg\" height=\"24px\"viewBox=\"0 0 24 24\"\n",
              "       width=\"24px\">\n",
              "    <path d=\"M0 0h24v24H0V0z\" fill=\"none\"/>\n",
              "    <path d=\"M18.56 5.44l.94 2.06.94-2.06 2.06-.94-2.06-.94-.94-2.06-.94 2.06-2.06.94zm-11 1L8.5 8.5l.94-2.06 2.06-.94-2.06-.94L8.5 2.5l-.94 2.06-2.06.94zm10 10l.94 2.06.94-2.06 2.06-.94-2.06-.94-.94-2.06-.94 2.06-2.06.94z\"/><path d=\"M17.41 7.96l-1.37-1.37c-.4-.4-.92-.59-1.43-.59-.52 0-1.04.2-1.43.59L10.3 9.45l-7.72 7.72c-.78.78-.78 2.05 0 2.83L4 21.41c.39.39.9.59 1.41.59.51 0 1.02-.2 1.41-.59l7.78-7.78 2.81-2.81c.8-.78.8-2.07 0-2.86zM5.41 20L4 18.59l7.72-7.72 1.47 1.35L5.41 20z\"/>\n",
              "  </svg>\n",
              "      </button>\n",
              "      \n",
              "  <style>\n",
              "    .colab-df-container {\n",
              "      display:flex;\n",
              "      flex-wrap:wrap;\n",
              "      gap: 12px;\n",
              "    }\n",
              "\n",
              "    .colab-df-convert {\n",
              "      background-color: #E8F0FE;\n",
              "      border: none;\n",
              "      border-radius: 50%;\n",
              "      cursor: pointer;\n",
              "      display: none;\n",
              "      fill: #1967D2;\n",
              "      height: 32px;\n",
              "      padding: 0 0 0 0;\n",
              "      width: 32px;\n",
              "    }\n",
              "\n",
              "    .colab-df-convert:hover {\n",
              "      background-color: #E2EBFA;\n",
              "      box-shadow: 0px 1px 2px rgba(60, 64, 67, 0.3), 0px 1px 3px 1px rgba(60, 64, 67, 0.15);\n",
              "      fill: #174EA6;\n",
              "    }\n",
              "\n",
              "    [theme=dark] .colab-df-convert {\n",
              "      background-color: #3B4455;\n",
              "      fill: #D2E3FC;\n",
              "    }\n",
              "\n",
              "    [theme=dark] .colab-df-convert:hover {\n",
              "      background-color: #434B5C;\n",
              "      box-shadow: 0px 1px 3px 1px rgba(0, 0, 0, 0.15);\n",
              "      filter: drop-shadow(0px 1px 2px rgba(0, 0, 0, 0.3));\n",
              "      fill: #FFFFFF;\n",
              "    }\n",
              "  </style>\n",
              "\n",
              "      <script>\n",
              "        const buttonEl =\n",
              "          document.querySelector('#df-3a145bf2-4981-4961-b4b8-6a5770ede41e button.colab-df-convert');\n",
              "        buttonEl.style.display =\n",
              "          google.colab.kernel.accessAllowed ? 'block' : 'none';\n",
              "\n",
              "        async function convertToInteractive(key) {\n",
              "          const element = document.querySelector('#df-3a145bf2-4981-4961-b4b8-6a5770ede41e');\n",
              "          const dataTable =\n",
              "            await google.colab.kernel.invokeFunction('convertToInteractive',\n",
              "                                                     [key], {});\n",
              "          if (!dataTable) return;\n",
              "\n",
              "          const docLinkHtml = 'Like what you see? Visit the ' +\n",
              "            '<a target=\"_blank\" href=https://colab.research.google.com/notebooks/data_table.ipynb>data table notebook</a>'\n",
              "            + ' to learn more about interactive tables.';\n",
              "          element.innerHTML = '';\n",
              "          dataTable['output_type'] = 'display_data';\n",
              "          await google.colab.output.renderOutput(dataTable, element);\n",
              "          const docLink = document.createElement('div');\n",
              "          docLink.innerHTML = docLinkHtml;\n",
              "          element.appendChild(docLink);\n",
              "        }\n",
              "      </script>\n",
              "    </div>\n",
              "  </div>\n",
              "  "
            ]
          },
          "metadata": {},
          "execution_count": 15
        }
      ],
      "source": [
        "batman_df = movies[movies.title.str.contains('Batman', case=False)]\n",
        "print('Total Batman Movies:', len(batman_df))\n",
        "batman_df.head(10)"
      ]
    },
    {
      "cell_type": "markdown",
      "metadata": {
        "id": "TD8BPX8WNsoo"
      },
      "source": [
        "### Display the top 15 Batman movies in the order they were released"
      ]
    },
    {
      "cell_type": "code",
      "execution_count": null,
      "metadata": {
        "colab": {
          "base_uri": "https://localhost:8080/",
          "height": 520
        },
        "id": "O4WsiaepNsoo",
        "outputId": "2050aec2-8241-4268-fd22-fde9e0558061"
      },
      "outputs": [
        {
          "output_type": "execute_result",
          "data": {
            "text/plain": [
              "                               title  year\n",
              "52734                         Batman  1943\n",
              "100056              Batman and Robin  1949\n",
              "161439                Batman Dracula  1964\n",
              "84327          Alyas Batman at Robin  1965\n",
              "68364                   James Batman  1966\n",
              "161527             Batman: The Movie  1966\n",
              "56159          Batman Fights Dracula  1967\n",
              "168504         Fight! Batman, Fight!  1973\n",
              "150621                        Batman  1989\n",
              "156239         Alyas Batman en Robin  1991\n",
              "156755                Batman Returns  1992\n",
              "63366   Batman: Mask of the Phantasm  1993\n",
              "30236                 Batman Forever  1995\n",
              "46333                 Batman & Robin  1997\n",
              "208220                 Batman Begins  2005"
            ],
            "text/html": [
              "\n",
              "  <div id=\"df-bb443e62-3315-47ca-931c-31e360a68e72\">\n",
              "    <div class=\"colab-df-container\">\n",
              "      <div>\n",
              "<style scoped>\n",
              "    .dataframe tbody tr th:only-of-type {\n",
              "        vertical-align: middle;\n",
              "    }\n",
              "\n",
              "    .dataframe tbody tr th {\n",
              "        vertical-align: top;\n",
              "    }\n",
              "\n",
              "    .dataframe thead th {\n",
              "        text-align: right;\n",
              "    }\n",
              "</style>\n",
              "<table border=\"1\" class=\"dataframe\">\n",
              "  <thead>\n",
              "    <tr style=\"text-align: right;\">\n",
              "      <th></th>\n",
              "      <th>title</th>\n",
              "      <th>year</th>\n",
              "    </tr>\n",
              "  </thead>\n",
              "  <tbody>\n",
              "    <tr>\n",
              "      <th>52734</th>\n",
              "      <td>Batman</td>\n",
              "      <td>1943</td>\n",
              "    </tr>\n",
              "    <tr>\n",
              "      <th>100056</th>\n",
              "      <td>Batman and Robin</td>\n",
              "      <td>1949</td>\n",
              "    </tr>\n",
              "    <tr>\n",
              "      <th>161439</th>\n",
              "      <td>Batman Dracula</td>\n",
              "      <td>1964</td>\n",
              "    </tr>\n",
              "    <tr>\n",
              "      <th>84327</th>\n",
              "      <td>Alyas Batman at Robin</td>\n",
              "      <td>1965</td>\n",
              "    </tr>\n",
              "    <tr>\n",
              "      <th>68364</th>\n",
              "      <td>James Batman</td>\n",
              "      <td>1966</td>\n",
              "    </tr>\n",
              "    <tr>\n",
              "      <th>161527</th>\n",
              "      <td>Batman: The Movie</td>\n",
              "      <td>1966</td>\n",
              "    </tr>\n",
              "    <tr>\n",
              "      <th>56159</th>\n",
              "      <td>Batman Fights Dracula</td>\n",
              "      <td>1967</td>\n",
              "    </tr>\n",
              "    <tr>\n",
              "      <th>168504</th>\n",
              "      <td>Fight! Batman, Fight!</td>\n",
              "      <td>1973</td>\n",
              "    </tr>\n",
              "    <tr>\n",
              "      <th>150621</th>\n",
              "      <td>Batman</td>\n",
              "      <td>1989</td>\n",
              "    </tr>\n",
              "    <tr>\n",
              "      <th>156239</th>\n",
              "      <td>Alyas Batman en Robin</td>\n",
              "      <td>1991</td>\n",
              "    </tr>\n",
              "    <tr>\n",
              "      <th>156755</th>\n",
              "      <td>Batman Returns</td>\n",
              "      <td>1992</td>\n",
              "    </tr>\n",
              "    <tr>\n",
              "      <th>63366</th>\n",
              "      <td>Batman: Mask of the Phantasm</td>\n",
              "      <td>1993</td>\n",
              "    </tr>\n",
              "    <tr>\n",
              "      <th>30236</th>\n",
              "      <td>Batman Forever</td>\n",
              "      <td>1995</td>\n",
              "    </tr>\n",
              "    <tr>\n",
              "      <th>46333</th>\n",
              "      <td>Batman &amp; Robin</td>\n",
              "      <td>1997</td>\n",
              "    </tr>\n",
              "    <tr>\n",
              "      <th>208220</th>\n",
              "      <td>Batman Begins</td>\n",
              "      <td>2005</td>\n",
              "    </tr>\n",
              "  </tbody>\n",
              "</table>\n",
              "</div>\n",
              "      <button class=\"colab-df-convert\" onclick=\"convertToInteractive('df-bb443e62-3315-47ca-931c-31e360a68e72')\"\n",
              "              title=\"Convert this dataframe to an interactive table.\"\n",
              "              style=\"display:none;\">\n",
              "        \n",
              "  <svg xmlns=\"http://www.w3.org/2000/svg\" height=\"24px\"viewBox=\"0 0 24 24\"\n",
              "       width=\"24px\">\n",
              "    <path d=\"M0 0h24v24H0V0z\" fill=\"none\"/>\n",
              "    <path d=\"M18.56 5.44l.94 2.06.94-2.06 2.06-.94-2.06-.94-.94-2.06-.94 2.06-2.06.94zm-11 1L8.5 8.5l.94-2.06 2.06-.94-2.06-.94L8.5 2.5l-.94 2.06-2.06.94zm10 10l.94 2.06.94-2.06 2.06-.94-2.06-.94-.94-2.06-.94 2.06-2.06.94z\"/><path d=\"M17.41 7.96l-1.37-1.37c-.4-.4-.92-.59-1.43-.59-.52 0-1.04.2-1.43.59L10.3 9.45l-7.72 7.72c-.78.78-.78 2.05 0 2.83L4 21.41c.39.39.9.59 1.41.59.51 0 1.02-.2 1.41-.59l7.78-7.78 2.81-2.81c.8-.78.8-2.07 0-2.86zM5.41 20L4 18.59l7.72-7.72 1.47 1.35L5.41 20z\"/>\n",
              "  </svg>\n",
              "      </button>\n",
              "      \n",
              "  <style>\n",
              "    .colab-df-container {\n",
              "      display:flex;\n",
              "      flex-wrap:wrap;\n",
              "      gap: 12px;\n",
              "    }\n",
              "\n",
              "    .colab-df-convert {\n",
              "      background-color: #E8F0FE;\n",
              "      border: none;\n",
              "      border-radius: 50%;\n",
              "      cursor: pointer;\n",
              "      display: none;\n",
              "      fill: #1967D2;\n",
              "      height: 32px;\n",
              "      padding: 0 0 0 0;\n",
              "      width: 32px;\n",
              "    }\n",
              "\n",
              "    .colab-df-convert:hover {\n",
              "      background-color: #E2EBFA;\n",
              "      box-shadow: 0px 1px 2px rgba(60, 64, 67, 0.3), 0px 1px 3px 1px rgba(60, 64, 67, 0.15);\n",
              "      fill: #174EA6;\n",
              "    }\n",
              "\n",
              "    [theme=dark] .colab-df-convert {\n",
              "      background-color: #3B4455;\n",
              "      fill: #D2E3FC;\n",
              "    }\n",
              "\n",
              "    [theme=dark] .colab-df-convert:hover {\n",
              "      background-color: #434B5C;\n",
              "      box-shadow: 0px 1px 3px 1px rgba(0, 0, 0, 0.15);\n",
              "      filter: drop-shadow(0px 1px 2px rgba(0, 0, 0, 0.3));\n",
              "      fill: #FFFFFF;\n",
              "    }\n",
              "  </style>\n",
              "\n",
              "      <script>\n",
              "        const buttonEl =\n",
              "          document.querySelector('#df-bb443e62-3315-47ca-931c-31e360a68e72 button.colab-df-convert');\n",
              "        buttonEl.style.display =\n",
              "          google.colab.kernel.accessAllowed ? 'block' : 'none';\n",
              "\n",
              "        async function convertToInteractive(key) {\n",
              "          const element = document.querySelector('#df-bb443e62-3315-47ca-931c-31e360a68e72');\n",
              "          const dataTable =\n",
              "            await google.colab.kernel.invokeFunction('convertToInteractive',\n",
              "                                                     [key], {});\n",
              "          if (!dataTable) return;\n",
              "\n",
              "          const docLinkHtml = 'Like what you see? Visit the ' +\n",
              "            '<a target=\"_blank\" href=https://colab.research.google.com/notebooks/data_table.ipynb>data table notebook</a>'\n",
              "            + ' to learn more about interactive tables.';\n",
              "          element.innerHTML = '';\n",
              "          dataTable['output_type'] = 'display_data';\n",
              "          await google.colab.output.renderOutput(dataTable, element);\n",
              "          const docLink = document.createElement('div');\n",
              "          docLink.innerHTML = docLinkHtml;\n",
              "          element.appendChild(docLink);\n",
              "        }\n",
              "      </script>\n",
              "    </div>\n",
              "  </div>\n",
              "  "
            ]
          },
          "metadata": {},
          "execution_count": 16
        }
      ],
      "source": [
        "batman_df.sort_values(by=['year'], ascending=True).iloc[:15]"
      ]
    },
    {
      "cell_type": "markdown",
      "metadata": {
        "id": "wOwV1jACNsop"
      },
      "source": [
        "### Section I - Q1 : List all the 'Harry Potter' movies from the most recent to the earliest"
      ]
    },
    {
      "cell_type": "code",
      "execution_count": null,
      "metadata": {
        "colab": {
          "base_uri": "https://localhost:8080/",
          "height": 318
        },
        "id": "HwyPHqyKNsop",
        "outputId": "61f1b89d-776b-49ae-b5da-340341fc3efc"
      },
      "outputs": [
        {
          "output_type": "stream",
          "name": "stdout",
          "text": [
            "Total Harry Potter Movies: 8\n"
          ]
        },
        {
          "output_type": "execute_result",
          "data": {
            "text/plain": [
              "                                               title  year\n",
              "143147  Harry Potter and the Deathly Hallows: Part 2  2011\n",
              "152831  Harry Potter and the Deathly Hallows: Part 1  2010\n",
              "109213        Harry Potter and the Half-Blood Prince  2009\n",
              "50581      Harry Potter and the Order of the Phoenix  2007\n",
              "187926           Harry Potter and the Goblet of Fire  2005\n",
              "61957       Harry Potter and the Prisoner of Azkaban  2004\n",
              "82791        Harry Potter and the Chamber of Secrets  2002\n",
              "223087         Harry Potter and the Sorcerer's Stone  2001"
            ],
            "text/html": [
              "\n",
              "  <div id=\"df-94871cc7-840d-43eb-92b9-7f665f53d1cd\">\n",
              "    <div class=\"colab-df-container\">\n",
              "      <div>\n",
              "<style scoped>\n",
              "    .dataframe tbody tr th:only-of-type {\n",
              "        vertical-align: middle;\n",
              "    }\n",
              "\n",
              "    .dataframe tbody tr th {\n",
              "        vertical-align: top;\n",
              "    }\n",
              "\n",
              "    .dataframe thead th {\n",
              "        text-align: right;\n",
              "    }\n",
              "</style>\n",
              "<table border=\"1\" class=\"dataframe\">\n",
              "  <thead>\n",
              "    <tr style=\"text-align: right;\">\n",
              "      <th></th>\n",
              "      <th>title</th>\n",
              "      <th>year</th>\n",
              "    </tr>\n",
              "  </thead>\n",
              "  <tbody>\n",
              "    <tr>\n",
              "      <th>143147</th>\n",
              "      <td>Harry Potter and the Deathly Hallows: Part 2</td>\n",
              "      <td>2011</td>\n",
              "    </tr>\n",
              "    <tr>\n",
              "      <th>152831</th>\n",
              "      <td>Harry Potter and the Deathly Hallows: Part 1</td>\n",
              "      <td>2010</td>\n",
              "    </tr>\n",
              "    <tr>\n",
              "      <th>109213</th>\n",
              "      <td>Harry Potter and the Half-Blood Prince</td>\n",
              "      <td>2009</td>\n",
              "    </tr>\n",
              "    <tr>\n",
              "      <th>50581</th>\n",
              "      <td>Harry Potter and the Order of the Phoenix</td>\n",
              "      <td>2007</td>\n",
              "    </tr>\n",
              "    <tr>\n",
              "      <th>187926</th>\n",
              "      <td>Harry Potter and the Goblet of Fire</td>\n",
              "      <td>2005</td>\n",
              "    </tr>\n",
              "    <tr>\n",
              "      <th>61957</th>\n",
              "      <td>Harry Potter and the Prisoner of Azkaban</td>\n",
              "      <td>2004</td>\n",
              "    </tr>\n",
              "    <tr>\n",
              "      <th>82791</th>\n",
              "      <td>Harry Potter and the Chamber of Secrets</td>\n",
              "      <td>2002</td>\n",
              "    </tr>\n",
              "    <tr>\n",
              "      <th>223087</th>\n",
              "      <td>Harry Potter and the Sorcerer's Stone</td>\n",
              "      <td>2001</td>\n",
              "    </tr>\n",
              "  </tbody>\n",
              "</table>\n",
              "</div>\n",
              "      <button class=\"colab-df-convert\" onclick=\"convertToInteractive('df-94871cc7-840d-43eb-92b9-7f665f53d1cd')\"\n",
              "              title=\"Convert this dataframe to an interactive table.\"\n",
              "              style=\"display:none;\">\n",
              "        \n",
              "  <svg xmlns=\"http://www.w3.org/2000/svg\" height=\"24px\"viewBox=\"0 0 24 24\"\n",
              "       width=\"24px\">\n",
              "    <path d=\"M0 0h24v24H0V0z\" fill=\"none\"/>\n",
              "    <path d=\"M18.56 5.44l.94 2.06.94-2.06 2.06-.94-2.06-.94-.94-2.06-.94 2.06-2.06.94zm-11 1L8.5 8.5l.94-2.06 2.06-.94-2.06-.94L8.5 2.5l-.94 2.06-2.06.94zm10 10l.94 2.06.94-2.06 2.06-.94-2.06-.94-.94-2.06-.94 2.06-2.06.94z\"/><path d=\"M17.41 7.96l-1.37-1.37c-.4-.4-.92-.59-1.43-.59-.52 0-1.04.2-1.43.59L10.3 9.45l-7.72 7.72c-.78.78-.78 2.05 0 2.83L4 21.41c.39.39.9.59 1.41.59.51 0 1.02-.2 1.41-.59l7.78-7.78 2.81-2.81c.8-.78.8-2.07 0-2.86zM5.41 20L4 18.59l7.72-7.72 1.47 1.35L5.41 20z\"/>\n",
              "  </svg>\n",
              "      </button>\n",
              "      \n",
              "  <style>\n",
              "    .colab-df-container {\n",
              "      display:flex;\n",
              "      flex-wrap:wrap;\n",
              "      gap: 12px;\n",
              "    }\n",
              "\n",
              "    .colab-df-convert {\n",
              "      background-color: #E8F0FE;\n",
              "      border: none;\n",
              "      border-radius: 50%;\n",
              "      cursor: pointer;\n",
              "      display: none;\n",
              "      fill: #1967D2;\n",
              "      height: 32px;\n",
              "      padding: 0 0 0 0;\n",
              "      width: 32px;\n",
              "    }\n",
              "\n",
              "    .colab-df-convert:hover {\n",
              "      background-color: #E2EBFA;\n",
              "      box-shadow: 0px 1px 2px rgba(60, 64, 67, 0.3), 0px 1px 3px 1px rgba(60, 64, 67, 0.15);\n",
              "      fill: #174EA6;\n",
              "    }\n",
              "\n",
              "    [theme=dark] .colab-df-convert {\n",
              "      background-color: #3B4455;\n",
              "      fill: #D2E3FC;\n",
              "    }\n",
              "\n",
              "    [theme=dark] .colab-df-convert:hover {\n",
              "      background-color: #434B5C;\n",
              "      box-shadow: 0px 1px 3px 1px rgba(0, 0, 0, 0.15);\n",
              "      filter: drop-shadow(0px 1px 2px rgba(0, 0, 0, 0.3));\n",
              "      fill: #FFFFFF;\n",
              "    }\n",
              "  </style>\n",
              "\n",
              "      <script>\n",
              "        const buttonEl =\n",
              "          document.querySelector('#df-94871cc7-840d-43eb-92b9-7f665f53d1cd button.colab-df-convert');\n",
              "        buttonEl.style.display =\n",
              "          google.colab.kernel.accessAllowed ? 'block' : 'none';\n",
              "\n",
              "        async function convertToInteractive(key) {\n",
              "          const element = document.querySelector('#df-94871cc7-840d-43eb-92b9-7f665f53d1cd');\n",
              "          const dataTable =\n",
              "            await google.colab.kernel.invokeFunction('convertToInteractive',\n",
              "                                                     [key], {});\n",
              "          if (!dataTable) return;\n",
              "\n",
              "          const docLinkHtml = 'Like what you see? Visit the ' +\n",
              "            '<a target=\"_blank\" href=https://colab.research.google.com/notebooks/data_table.ipynb>data table notebook</a>'\n",
              "            + ' to learn more about interactive tables.';\n",
              "          element.innerHTML = '';\n",
              "          dataTable['output_type'] = 'display_data';\n",
              "          await google.colab.output.renderOutput(dataTable, element);\n",
              "          const docLink = document.createElement('div');\n",
              "          docLink.innerHTML = docLinkHtml;\n",
              "          element.appendChild(docLink);\n",
              "        }\n",
              "      </script>\n",
              "    </div>\n",
              "  </div>\n",
              "  "
            ]
          },
          "metadata": {},
          "execution_count": 17
        }
      ],
      "source": [
        "hp_df = movies[movies.title.str.contains('Harry Potter', case=False)]\n",
        "print('Total Harry Potter Movies:', len(hp_df))\n",
        "# print( hp_df.head(10) )\n",
        "hp_df.sort_values(by=['year'], ascending=False)"
      ]
    },
    {
      "cell_type": "markdown",
      "metadata": {
        "id": "tE1QFc1fNsop"
      },
      "source": [
        "### How many movies were made in the year 2017?"
      ]
    },
    {
      "cell_type": "code",
      "execution_count": null,
      "metadata": {
        "colab": {
          "base_uri": "https://localhost:8080/"
        },
        "id": "3UJv94EQNsop",
        "outputId": "a3e6049d-40fd-4f95-9c60-a41af623d19a"
      },
      "outputs": [
        {
          "output_type": "execute_result",
          "data": {
            "text/plain": [
              "11474"
            ]
          },
          "metadata": {},
          "execution_count": 18
        }
      ],
      "source": [
        "len(movies[movies.year == 2017])"
      ]
    },
    {
      "cell_type": "markdown",
      "metadata": {
        "id": "exxjho63Nsop"
      },
      "source": [
        "### Section I - Q2 : How many movies were made in the year 2015?"
      ]
    },
    {
      "cell_type": "code",
      "execution_count": null,
      "metadata": {
        "colab": {
          "base_uri": "https://localhost:8080/"
        },
        "id": "XlpYIYeONsop",
        "outputId": "28697542-4235-4a60-b5b3-8f5595840460"
      },
      "outputs": [
        {
          "output_type": "execute_result",
          "data": {
            "text/plain": [
              "8702"
            ]
          },
          "metadata": {},
          "execution_count": 19
        }
      ],
      "source": [
        "len(movies[movies.year == 2015])"
      ]
    },
    {
      "cell_type": "markdown",
      "metadata": {
        "id": "9ZPsWoT2Nsop"
      },
      "source": [
        "### Section I - Q3 : How many movies were made from 2000 till 2018?\n",
        "- You can chain multiple conditions using OR (`|`) as well as AND (`&`) depending on the condition"
      ]
    },
    {
      "cell_type": "code",
      "execution_count": null,
      "metadata": {
        "colab": {
          "base_uri": "https://localhost:8080/"
        },
        "id": "YUzaL2yJNsop",
        "outputId": "5eac2c8e-7a5d-44c1-fd7b-154000d6e653"
      },
      "outputs": [
        {
          "output_type": "stream",
          "name": "stdout",
          "text": [
            "114070\n",
            "                                               title  year\n",
            "0                             The Ticket to the Life  2009\n",
            "1       Parallel Worlds: A New Rock Music Experience  2016\n",
            "2                          Morita - La hija de Jesus  2008\n",
            "3                                                Gun  2017\n",
            "4                             Love or Nothing at All  2014\n",
            "...                                              ...   ...\n",
            "244899                       Poppy Goes to Hollywood  2016\n",
            "244901                                 Thomson Villa  2014\n",
            "244903                                A Mero Hajur 2  2017\n",
            "244906                Yin yang lu shi: Xuan yan zhou  2001\n",
            "244908                                Tommy's Honour  2016\n",
            "\n",
            "[114070 rows x 2 columns]\n"
          ]
        }
      ],
      "source": [
        "movies0018_df = movies[ (movies.year >= 2000) & (movies.year <= 2018) ]\n",
        "print(len(movies0018_df))\n",
        "print(movies0018_df)"
      ]
    },
    {
      "cell_type": "markdown",
      "metadata": {
        "id": "PKvFvXENNsop"
      },
      "source": [
        "### Section I - Q4: How many movies are titled \"Hamlet\"?"
      ]
    },
    {
      "cell_type": "code",
      "execution_count": null,
      "metadata": {
        "colab": {
          "base_uri": "https://localhost:8080/"
        },
        "id": "ef_8b0DmNsop",
        "outputId": "bf5a335a-b635-4865-c44e-8c208ddf47b0"
      },
      "outputs": [
        {
          "output_type": "stream",
          "name": "stdout",
          "text": [
            "57\n",
            "                title  year\n",
            "1931           Hamlet  2009\n",
            "8214           Hamlet  1976\n",
            "10364   Hamlet A.D.D.  2014\n",
            "17531  Hamlet's Ghost  2015\n",
            "17833   Zombie Hamlet  2012\n"
          ]
        }
      ],
      "source": [
        "hamlet_df = movies[movies.title.str.contains('Hamlet', case=False) ] \n",
        "print( len(hamlet_df) )\n",
        "print(hamlet_df.head())"
      ]
    },
    {
      "cell_type": "markdown",
      "metadata": {
        "id": "5cq5EJcANsop"
      },
      "source": [
        "### Section I - Q5: List all movies titled \"Hamlet\" \n",
        "- The movies should only have been released on or after the year 2000\n",
        "- Display the movies based on the year they were released (earliest to most recent)"
      ]
    },
    {
      "cell_type": "code",
      "execution_count": null,
      "metadata": {
        "colab": {
          "base_uri": "https://localhost:8080/",
          "height": 1000
        },
        "id": "CvgTZ3cLNsop",
        "outputId": "2a1830d0-e88a-40f5-e07f-d731ded12048"
      },
      "outputs": [
        {
          "output_type": "execute_result",
          "data": {
            "text/plain": [
              "                                          title  year\n",
              "55639                                    Hamlet  2000\n",
              "55525                    Hamlet in the Hamptons  2002\n",
              "137905                                 Hamlet_X  2003\n",
              "218468                                 Hamlet X  2004\n",
              "40045                               Hamlet (II)  2005\n",
              "152920          Dogg's Hamlet, Cahoot's Macbeth  2005\n",
              "200246  The Tragedy of Hamlet Prince of Denmark  2007\n",
              "176528                              Hamlet (II)  2007\n",
              "156899                             Hamlet (III)  2007\n",
              "52408                 Hamlet the Vampire Slayer  2008\n",
              "141237                                 Hamlet 2  2008\n",
              "191734                           Kitchen Hamlet  2009\n",
              "1931                                     Hamlet  2009\n",
              "227953                                   Hamlet  2011\n",
              "220674                     Hamlet Demonstration  2011\n",
              "51236                            Hamlet Unbound  2012\n",
              "17833                             Zombie Hamlet  2012\n",
              "186136                      Harry, Hamlet and I  2013\n",
              "178290                                   Hamlet  2014\n",
              "10364                             Hamlet A.D.D.  2014\n",
              "186137                                   Hamlet  2015\n",
              "133802            National Theatre Live: Hamlet  2015\n",
              "44571                               Hamlet (II)  2015\n",
              "17531                            Hamlet's Ghost  2015\n",
              "209533                 Hamlet, Son of a Kingpin  2015\n",
              "70547         Royal Shakespeare Company: Hamlet  2016\n",
              "191940                                   Hamlet  2016\n",
              "98329                               Hamlet (II)  2017\n",
              "50271                            Hamlet/Horatio  2017\n",
              "240089                Hamlet in the Golden Vale  2017\n",
              "244747                                   Hamlet  2017\n",
              "78217             Hamlet: The Fall of a Sparrow  2018"
            ],
            "text/html": [
              "\n",
              "  <div id=\"df-db2fcb05-7833-4be3-842d-ec6ffbe35700\">\n",
              "    <div class=\"colab-df-container\">\n",
              "      <div>\n",
              "<style scoped>\n",
              "    .dataframe tbody tr th:only-of-type {\n",
              "        vertical-align: middle;\n",
              "    }\n",
              "\n",
              "    .dataframe tbody tr th {\n",
              "        vertical-align: top;\n",
              "    }\n",
              "\n",
              "    .dataframe thead th {\n",
              "        text-align: right;\n",
              "    }\n",
              "</style>\n",
              "<table border=\"1\" class=\"dataframe\">\n",
              "  <thead>\n",
              "    <tr style=\"text-align: right;\">\n",
              "      <th></th>\n",
              "      <th>title</th>\n",
              "      <th>year</th>\n",
              "    </tr>\n",
              "  </thead>\n",
              "  <tbody>\n",
              "    <tr>\n",
              "      <th>55639</th>\n",
              "      <td>Hamlet</td>\n",
              "      <td>2000</td>\n",
              "    </tr>\n",
              "    <tr>\n",
              "      <th>55525</th>\n",
              "      <td>Hamlet in the Hamptons</td>\n",
              "      <td>2002</td>\n",
              "    </tr>\n",
              "    <tr>\n",
              "      <th>137905</th>\n",
              "      <td>Hamlet_X</td>\n",
              "      <td>2003</td>\n",
              "    </tr>\n",
              "    <tr>\n",
              "      <th>218468</th>\n",
              "      <td>Hamlet X</td>\n",
              "      <td>2004</td>\n",
              "    </tr>\n",
              "    <tr>\n",
              "      <th>40045</th>\n",
              "      <td>Hamlet (II)</td>\n",
              "      <td>2005</td>\n",
              "    </tr>\n",
              "    <tr>\n",
              "      <th>152920</th>\n",
              "      <td>Dogg's Hamlet, Cahoot's Macbeth</td>\n",
              "      <td>2005</td>\n",
              "    </tr>\n",
              "    <tr>\n",
              "      <th>200246</th>\n",
              "      <td>The Tragedy of Hamlet Prince of Denmark</td>\n",
              "      <td>2007</td>\n",
              "    </tr>\n",
              "    <tr>\n",
              "      <th>176528</th>\n",
              "      <td>Hamlet (II)</td>\n",
              "      <td>2007</td>\n",
              "    </tr>\n",
              "    <tr>\n",
              "      <th>156899</th>\n",
              "      <td>Hamlet (III)</td>\n",
              "      <td>2007</td>\n",
              "    </tr>\n",
              "    <tr>\n",
              "      <th>52408</th>\n",
              "      <td>Hamlet the Vampire Slayer</td>\n",
              "      <td>2008</td>\n",
              "    </tr>\n",
              "    <tr>\n",
              "      <th>141237</th>\n",
              "      <td>Hamlet 2</td>\n",
              "      <td>2008</td>\n",
              "    </tr>\n",
              "    <tr>\n",
              "      <th>191734</th>\n",
              "      <td>Kitchen Hamlet</td>\n",
              "      <td>2009</td>\n",
              "    </tr>\n",
              "    <tr>\n",
              "      <th>1931</th>\n",
              "      <td>Hamlet</td>\n",
              "      <td>2009</td>\n",
              "    </tr>\n",
              "    <tr>\n",
              "      <th>227953</th>\n",
              "      <td>Hamlet</td>\n",
              "      <td>2011</td>\n",
              "    </tr>\n",
              "    <tr>\n",
              "      <th>220674</th>\n",
              "      <td>Hamlet Demonstration</td>\n",
              "      <td>2011</td>\n",
              "    </tr>\n",
              "    <tr>\n",
              "      <th>51236</th>\n",
              "      <td>Hamlet Unbound</td>\n",
              "      <td>2012</td>\n",
              "    </tr>\n",
              "    <tr>\n",
              "      <th>17833</th>\n",
              "      <td>Zombie Hamlet</td>\n",
              "      <td>2012</td>\n",
              "    </tr>\n",
              "    <tr>\n",
              "      <th>186136</th>\n",
              "      <td>Harry, Hamlet and I</td>\n",
              "      <td>2013</td>\n",
              "    </tr>\n",
              "    <tr>\n",
              "      <th>178290</th>\n",
              "      <td>Hamlet</td>\n",
              "      <td>2014</td>\n",
              "    </tr>\n",
              "    <tr>\n",
              "      <th>10364</th>\n",
              "      <td>Hamlet A.D.D.</td>\n",
              "      <td>2014</td>\n",
              "    </tr>\n",
              "    <tr>\n",
              "      <th>186137</th>\n",
              "      <td>Hamlet</td>\n",
              "      <td>2015</td>\n",
              "    </tr>\n",
              "    <tr>\n",
              "      <th>133802</th>\n",
              "      <td>National Theatre Live: Hamlet</td>\n",
              "      <td>2015</td>\n",
              "    </tr>\n",
              "    <tr>\n",
              "      <th>44571</th>\n",
              "      <td>Hamlet (II)</td>\n",
              "      <td>2015</td>\n",
              "    </tr>\n",
              "    <tr>\n",
              "      <th>17531</th>\n",
              "      <td>Hamlet's Ghost</td>\n",
              "      <td>2015</td>\n",
              "    </tr>\n",
              "    <tr>\n",
              "      <th>209533</th>\n",
              "      <td>Hamlet, Son of a Kingpin</td>\n",
              "      <td>2015</td>\n",
              "    </tr>\n",
              "    <tr>\n",
              "      <th>70547</th>\n",
              "      <td>Royal Shakespeare Company: Hamlet</td>\n",
              "      <td>2016</td>\n",
              "    </tr>\n",
              "    <tr>\n",
              "      <th>191940</th>\n",
              "      <td>Hamlet</td>\n",
              "      <td>2016</td>\n",
              "    </tr>\n",
              "    <tr>\n",
              "      <th>98329</th>\n",
              "      <td>Hamlet (II)</td>\n",
              "      <td>2017</td>\n",
              "    </tr>\n",
              "    <tr>\n",
              "      <th>50271</th>\n",
              "      <td>Hamlet/Horatio</td>\n",
              "      <td>2017</td>\n",
              "    </tr>\n",
              "    <tr>\n",
              "      <th>240089</th>\n",
              "      <td>Hamlet in the Golden Vale</td>\n",
              "      <td>2017</td>\n",
              "    </tr>\n",
              "    <tr>\n",
              "      <th>244747</th>\n",
              "      <td>Hamlet</td>\n",
              "      <td>2017</td>\n",
              "    </tr>\n",
              "    <tr>\n",
              "      <th>78217</th>\n",
              "      <td>Hamlet: The Fall of a Sparrow</td>\n",
              "      <td>2018</td>\n",
              "    </tr>\n",
              "  </tbody>\n",
              "</table>\n",
              "</div>\n",
              "      <button class=\"colab-df-convert\" onclick=\"convertToInteractive('df-db2fcb05-7833-4be3-842d-ec6ffbe35700')\"\n",
              "              title=\"Convert this dataframe to an interactive table.\"\n",
              "              style=\"display:none;\">\n",
              "        \n",
              "  <svg xmlns=\"http://www.w3.org/2000/svg\" height=\"24px\"viewBox=\"0 0 24 24\"\n",
              "       width=\"24px\">\n",
              "    <path d=\"M0 0h24v24H0V0z\" fill=\"none\"/>\n",
              "    <path d=\"M18.56 5.44l.94 2.06.94-2.06 2.06-.94-2.06-.94-.94-2.06-.94 2.06-2.06.94zm-11 1L8.5 8.5l.94-2.06 2.06-.94-2.06-.94L8.5 2.5l-.94 2.06-2.06.94zm10 10l.94 2.06.94-2.06 2.06-.94-2.06-.94-.94-2.06-.94 2.06-2.06.94z\"/><path d=\"M17.41 7.96l-1.37-1.37c-.4-.4-.92-.59-1.43-.59-.52 0-1.04.2-1.43.59L10.3 9.45l-7.72 7.72c-.78.78-.78 2.05 0 2.83L4 21.41c.39.39.9.59 1.41.59.51 0 1.02-.2 1.41-.59l7.78-7.78 2.81-2.81c.8-.78.8-2.07 0-2.86zM5.41 20L4 18.59l7.72-7.72 1.47 1.35L5.41 20z\"/>\n",
              "  </svg>\n",
              "      </button>\n",
              "      \n",
              "  <style>\n",
              "    .colab-df-container {\n",
              "      display:flex;\n",
              "      flex-wrap:wrap;\n",
              "      gap: 12px;\n",
              "    }\n",
              "\n",
              "    .colab-df-convert {\n",
              "      background-color: #E8F0FE;\n",
              "      border: none;\n",
              "      border-radius: 50%;\n",
              "      cursor: pointer;\n",
              "      display: none;\n",
              "      fill: #1967D2;\n",
              "      height: 32px;\n",
              "      padding: 0 0 0 0;\n",
              "      width: 32px;\n",
              "    }\n",
              "\n",
              "    .colab-df-convert:hover {\n",
              "      background-color: #E2EBFA;\n",
              "      box-shadow: 0px 1px 2px rgba(60, 64, 67, 0.3), 0px 1px 3px 1px rgba(60, 64, 67, 0.15);\n",
              "      fill: #174EA6;\n",
              "    }\n",
              "\n",
              "    [theme=dark] .colab-df-convert {\n",
              "      background-color: #3B4455;\n",
              "      fill: #D2E3FC;\n",
              "    }\n",
              "\n",
              "    [theme=dark] .colab-df-convert:hover {\n",
              "      background-color: #434B5C;\n",
              "      box-shadow: 0px 1px 3px 1px rgba(0, 0, 0, 0.15);\n",
              "      filter: drop-shadow(0px 1px 2px rgba(0, 0, 0, 0.3));\n",
              "      fill: #FFFFFF;\n",
              "    }\n",
              "  </style>\n",
              "\n",
              "      <script>\n",
              "        const buttonEl =\n",
              "          document.querySelector('#df-db2fcb05-7833-4be3-842d-ec6ffbe35700 button.colab-df-convert');\n",
              "        buttonEl.style.display =\n",
              "          google.colab.kernel.accessAllowed ? 'block' : 'none';\n",
              "\n",
              "        async function convertToInteractive(key) {\n",
              "          const element = document.querySelector('#df-db2fcb05-7833-4be3-842d-ec6ffbe35700');\n",
              "          const dataTable =\n",
              "            await google.colab.kernel.invokeFunction('convertToInteractive',\n",
              "                                                     [key], {});\n",
              "          if (!dataTable) return;\n",
              "\n",
              "          const docLinkHtml = 'Like what you see? Visit the ' +\n",
              "            '<a target=\"_blank\" href=https://colab.research.google.com/notebooks/data_table.ipynb>data table notebook</a>'\n",
              "            + ' to learn more about interactive tables.';\n",
              "          element.innerHTML = '';\n",
              "          dataTable['output_type'] = 'display_data';\n",
              "          await google.colab.output.renderOutput(dataTable, element);\n",
              "          const docLink = document.createElement('div');\n",
              "          docLink.innerHTML = docLinkHtml;\n",
              "          element.appendChild(docLink);\n",
              "        }\n",
              "      </script>\n",
              "    </div>\n",
              "  </div>\n",
              "  "
            ]
          },
          "metadata": {},
          "execution_count": 22
        }
      ],
      "source": [
        "hamlet_df[hamlet_df.year>=2000].sort_values(by=['year'], ascending=True)\n"
      ]
    },
    {
      "cell_type": "markdown",
      "metadata": {
        "id": "v-lisNtpNsop"
      },
      "source": [
        "### Section I - Q6: How many roles in the movie \"Inception\" are of the supporting cast (extra credits)\n",
        "- supporting cast are NOT ranked by an \"n\" value (NaN)\n",
        "- check for how to filter based on nulls"
      ]
    },
    {
      "cell_type": "code",
      "source": [
        "print( cast.head() )\n",
        "print(cast.info())"
      ],
      "metadata": {
        "colab": {
          "base_uri": "https://localhost:8080/"
        },
        "id": "dQqNmTDjX_SV",
        "outputId": "80bb8df5-cd91-421a-d49c-af1f7b03a13c"
      },
      "execution_count": null,
      "outputs": [
        {
          "output_type": "stream",
          "name": "stdout",
          "text": [
            "                  title  year      name   type                character     n\n",
            "0        Closet Monster  2015  Buffy #1  actor                  Buffy 4  31.0\n",
            "1       Suuri illusioni  1985    Homo $  actor                   Guests  22.0\n",
            "2   Battle of the Sexes  2017   $hutter  actor          Bobby Riggs Fan  10.0\n",
            "3  Secret in Their Eyes  2015   $hutter  actor          2002 Dodger Fan   NaN\n",
            "4            Steve Jobs  2015   $hutter  actor  1988 Opera House Patron   NaN\n",
            "<class 'pandas.core.frame.DataFrame'>\n",
            "RangeIndex: 3786176 entries, 0 to 3786175\n",
            "Data columns (total 6 columns):\n",
            " #   Column     Dtype  \n",
            "---  ------     -----  \n",
            " 0   title      object \n",
            " 1   year       int64  \n",
            " 2   name       object \n",
            " 3   type       object \n",
            " 4   character  object \n",
            " 5   n          float64\n",
            "dtypes: float64(1), int64(1), object(4)\n",
            "memory usage: 173.3+ MB\n",
            "None\n"
          ]
        }
      ]
    },
    {
      "cell_type": "code",
      "execution_count": null,
      "metadata": {
        "colab": {
          "base_uri": "https://localhost:8080/"
        },
        "id": "PCh2Di2hNsop",
        "outputId": "eabd1adf-8a9e-4e9f-dd00-0ea3386fbc2b"
      },
      "outputs": [
        {
          "output_type": "stream",
          "name": "stdout",
          "text": [
            "<class 'pandas.core.frame.DataFrame'>\n",
            "Int64Index: 87 entries, 58474 to 3731263\n",
            "Data columns (total 6 columns):\n",
            " #   Column     Non-Null Count  Dtype  \n",
            "---  ------     --------------  -----  \n",
            " 0   title      87 non-null     object \n",
            " 1   year       87 non-null     int64  \n",
            " 2   name       87 non-null     object \n",
            " 3   type       87 non-null     object \n",
            " 4   character  87 non-null     object \n",
            " 5   n          51 non-null     float64\n",
            "dtypes: float64(1), int64(1), object(4)\n",
            "memory usage: 4.8+ KB\n",
            "None\n",
            "                                                    title  year  \\\n",
            "58474   Fraud in the Inception: Who killed Robert Haml...  2013   \n",
            "98153                                           Inception  2010   \n",
            "149008                                          Inception  2010   \n",
            "183937                                          Inception  2010   \n",
            "197877                                          Inception  2010   \n",
            "\n",
            "                        name   type              character     n  \n",
            "58474           Sky Anderson  actor                    Mac   NaN  \n",
            "98153   Michael (III) August  actor          LAX Passenger   NaN  \n",
            "149008          Peter Basham  actor  Fischer's Jet Captain  44.0  \n",
            "183937          Tom Berenger  actor               Browning   8.0  \n",
            "197877              Ken Bhan  actor       Mombasan Gambler   NaN  \n"
          ]
        }
      ],
      "source": [
        "# hp_df = movies[movies.title.str.contains('Harry Potter', case=False)]\n",
        "inception_df = cast[cast.title.str.contains('Inception', case=False)]\n",
        "print(inception_df.info())\n",
        "print(inception_df.head())"
      ]
    },
    {
      "cell_type": "code",
      "source": [
        "inception_df.isnull().sum().sort_values(ascending=False).head()"
      ],
      "metadata": {
        "colab": {
          "base_uri": "https://localhost:8080/"
        },
        "id": "1HczmumfaVuh",
        "outputId": "827b830f-15b4-44d9-f7ae-e1410992246c"
      },
      "execution_count": null,
      "outputs": [
        {
          "output_type": "execute_result",
          "data": {
            "text/plain": [
              "n        36\n",
              "title     0\n",
              "year      0\n",
              "name      0\n",
              "type      0\n",
              "dtype: int64"
            ]
          },
          "metadata": {},
          "execution_count": 25
        }
      ]
    },
    {
      "cell_type": "markdown",
      "metadata": {
        "id": "EU6jGcEkNsop"
      },
      "source": [
        "### Section I - Q7: How many roles in the movie \"Inception\" are of the main cast\n",
        "- main cast always have an 'n' value"
      ]
    },
    {
      "cell_type": "code",
      "execution_count": null,
      "metadata": {
        "colab": {
          "base_uri": "https://localhost:8080/"
        },
        "id": "ioEaDs8wNsop",
        "outputId": "58f5184b-9438-4aa1-c533-10a435efc5d4"
      },
      "outputs": [
        {
          "output_type": "stream",
          "name": "stdout",
          "text": [
            "51\n"
          ]
        }
      ],
      "source": [
        "print( len(inception_df[inception_df.n>=0]) )\n",
        "# print( inception_df[inception_df.n>=0] )"
      ]
    },
    {
      "cell_type": "markdown",
      "metadata": {
        "id": "AG0eK7PoNsop"
      },
      "source": [
        "### Section I - Q8: Show the top ten cast (actors\\actresses) in the movie \"Inception\" \n",
        "- main cast always have an 'n' value\n",
        "- remember to sort!"
      ]
    },
    {
      "cell_type": "code",
      "execution_count": null,
      "metadata": {
        "colab": {
          "base_uri": "https://localhost:8080/",
          "height": 363
        },
        "id": "JoI80HhINsop",
        "outputId": "24e66a9b-fb21-4852-ef7e-ebe3f1d3cf34"
      },
      "outputs": [
        {
          "output_type": "execute_result",
          "data": {
            "text/plain": [
              "             title  year                  name     type        character     n\n",
              "590576   Inception  2010     Leonardo DiCaprio    actor             Cobb   1.0\n",
              "859993   Inception  2010  Joseph Gordon-Levitt    actor           Arthur   2.0\n",
              "3387147  Inception  2010            Ellen Page  actress          Ariadne   3.0\n",
              "940923   Inception  2010             Tom Hardy    actor            Eames   4.0\n",
              "2406531  Inception  2010          Ken Watanabe    actor            Saito   5.0\n",
              "1876301  Inception  2010            Dileep Rao    actor            Yusuf   6.0\n",
              "1615709  Inception  2010        Cillian Murphy    actor   Robert Fischer   7.0\n",
              "183937   Inception  2010          Tom Berenger    actor         Browning   8.0\n",
              "2765969  Inception  2010      Marion Cotillard  actress              Mal   9.0\n",
              "1826027  Inception  2010    Pete Postlethwaite    actor  Maurice Fischer  10.0"
            ],
            "text/html": [
              "\n",
              "  <div id=\"df-218a5baf-2acc-40ee-8ac9-a4945a124ce2\">\n",
              "    <div class=\"colab-df-container\">\n",
              "      <div>\n",
              "<style scoped>\n",
              "    .dataframe tbody tr th:only-of-type {\n",
              "        vertical-align: middle;\n",
              "    }\n",
              "\n",
              "    .dataframe tbody tr th {\n",
              "        vertical-align: top;\n",
              "    }\n",
              "\n",
              "    .dataframe thead th {\n",
              "        text-align: right;\n",
              "    }\n",
              "</style>\n",
              "<table border=\"1\" class=\"dataframe\">\n",
              "  <thead>\n",
              "    <tr style=\"text-align: right;\">\n",
              "      <th></th>\n",
              "      <th>title</th>\n",
              "      <th>year</th>\n",
              "      <th>name</th>\n",
              "      <th>type</th>\n",
              "      <th>character</th>\n",
              "      <th>n</th>\n",
              "    </tr>\n",
              "  </thead>\n",
              "  <tbody>\n",
              "    <tr>\n",
              "      <th>590576</th>\n",
              "      <td>Inception</td>\n",
              "      <td>2010</td>\n",
              "      <td>Leonardo DiCaprio</td>\n",
              "      <td>actor</td>\n",
              "      <td>Cobb</td>\n",
              "      <td>1.0</td>\n",
              "    </tr>\n",
              "    <tr>\n",
              "      <th>859993</th>\n",
              "      <td>Inception</td>\n",
              "      <td>2010</td>\n",
              "      <td>Joseph Gordon-Levitt</td>\n",
              "      <td>actor</td>\n",
              "      <td>Arthur</td>\n",
              "      <td>2.0</td>\n",
              "    </tr>\n",
              "    <tr>\n",
              "      <th>3387147</th>\n",
              "      <td>Inception</td>\n",
              "      <td>2010</td>\n",
              "      <td>Ellen Page</td>\n",
              "      <td>actress</td>\n",
              "      <td>Ariadne</td>\n",
              "      <td>3.0</td>\n",
              "    </tr>\n",
              "    <tr>\n",
              "      <th>940923</th>\n",
              "      <td>Inception</td>\n",
              "      <td>2010</td>\n",
              "      <td>Tom Hardy</td>\n",
              "      <td>actor</td>\n",
              "      <td>Eames</td>\n",
              "      <td>4.0</td>\n",
              "    </tr>\n",
              "    <tr>\n",
              "      <th>2406531</th>\n",
              "      <td>Inception</td>\n",
              "      <td>2010</td>\n",
              "      <td>Ken Watanabe</td>\n",
              "      <td>actor</td>\n",
              "      <td>Saito</td>\n",
              "      <td>5.0</td>\n",
              "    </tr>\n",
              "    <tr>\n",
              "      <th>1876301</th>\n",
              "      <td>Inception</td>\n",
              "      <td>2010</td>\n",
              "      <td>Dileep Rao</td>\n",
              "      <td>actor</td>\n",
              "      <td>Yusuf</td>\n",
              "      <td>6.0</td>\n",
              "    </tr>\n",
              "    <tr>\n",
              "      <th>1615709</th>\n",
              "      <td>Inception</td>\n",
              "      <td>2010</td>\n",
              "      <td>Cillian Murphy</td>\n",
              "      <td>actor</td>\n",
              "      <td>Robert Fischer</td>\n",
              "      <td>7.0</td>\n",
              "    </tr>\n",
              "    <tr>\n",
              "      <th>183937</th>\n",
              "      <td>Inception</td>\n",
              "      <td>2010</td>\n",
              "      <td>Tom Berenger</td>\n",
              "      <td>actor</td>\n",
              "      <td>Browning</td>\n",
              "      <td>8.0</td>\n",
              "    </tr>\n",
              "    <tr>\n",
              "      <th>2765969</th>\n",
              "      <td>Inception</td>\n",
              "      <td>2010</td>\n",
              "      <td>Marion Cotillard</td>\n",
              "      <td>actress</td>\n",
              "      <td>Mal</td>\n",
              "      <td>9.0</td>\n",
              "    </tr>\n",
              "    <tr>\n",
              "      <th>1826027</th>\n",
              "      <td>Inception</td>\n",
              "      <td>2010</td>\n",
              "      <td>Pete Postlethwaite</td>\n",
              "      <td>actor</td>\n",
              "      <td>Maurice Fischer</td>\n",
              "      <td>10.0</td>\n",
              "    </tr>\n",
              "  </tbody>\n",
              "</table>\n",
              "</div>\n",
              "      <button class=\"colab-df-convert\" onclick=\"convertToInteractive('df-218a5baf-2acc-40ee-8ac9-a4945a124ce2')\"\n",
              "              title=\"Convert this dataframe to an interactive table.\"\n",
              "              style=\"display:none;\">\n",
              "        \n",
              "  <svg xmlns=\"http://www.w3.org/2000/svg\" height=\"24px\"viewBox=\"0 0 24 24\"\n",
              "       width=\"24px\">\n",
              "    <path d=\"M0 0h24v24H0V0z\" fill=\"none\"/>\n",
              "    <path d=\"M18.56 5.44l.94 2.06.94-2.06 2.06-.94-2.06-.94-.94-2.06-.94 2.06-2.06.94zm-11 1L8.5 8.5l.94-2.06 2.06-.94-2.06-.94L8.5 2.5l-.94 2.06-2.06.94zm10 10l.94 2.06.94-2.06 2.06-.94-2.06-.94-.94-2.06-.94 2.06-2.06.94z\"/><path d=\"M17.41 7.96l-1.37-1.37c-.4-.4-.92-.59-1.43-.59-.52 0-1.04.2-1.43.59L10.3 9.45l-7.72 7.72c-.78.78-.78 2.05 0 2.83L4 21.41c.39.39.9.59 1.41.59.51 0 1.02-.2 1.41-.59l7.78-7.78 2.81-2.81c.8-.78.8-2.07 0-2.86zM5.41 20L4 18.59l7.72-7.72 1.47 1.35L5.41 20z\"/>\n",
              "  </svg>\n",
              "      </button>\n",
              "      \n",
              "  <style>\n",
              "    .colab-df-container {\n",
              "      display:flex;\n",
              "      flex-wrap:wrap;\n",
              "      gap: 12px;\n",
              "    }\n",
              "\n",
              "    .colab-df-convert {\n",
              "      background-color: #E8F0FE;\n",
              "      border: none;\n",
              "      border-radius: 50%;\n",
              "      cursor: pointer;\n",
              "      display: none;\n",
              "      fill: #1967D2;\n",
              "      height: 32px;\n",
              "      padding: 0 0 0 0;\n",
              "      width: 32px;\n",
              "    }\n",
              "\n",
              "    .colab-df-convert:hover {\n",
              "      background-color: #E2EBFA;\n",
              "      box-shadow: 0px 1px 2px rgba(60, 64, 67, 0.3), 0px 1px 3px 1px rgba(60, 64, 67, 0.15);\n",
              "      fill: #174EA6;\n",
              "    }\n",
              "\n",
              "    [theme=dark] .colab-df-convert {\n",
              "      background-color: #3B4455;\n",
              "      fill: #D2E3FC;\n",
              "    }\n",
              "\n",
              "    [theme=dark] .colab-df-convert:hover {\n",
              "      background-color: #434B5C;\n",
              "      box-shadow: 0px 1px 3px 1px rgba(0, 0, 0, 0.15);\n",
              "      filter: drop-shadow(0px 1px 2px rgba(0, 0, 0, 0.3));\n",
              "      fill: #FFFFFF;\n",
              "    }\n",
              "  </style>\n",
              "\n",
              "      <script>\n",
              "        const buttonEl =\n",
              "          document.querySelector('#df-218a5baf-2acc-40ee-8ac9-a4945a124ce2 button.colab-df-convert');\n",
              "        buttonEl.style.display =\n",
              "          google.colab.kernel.accessAllowed ? 'block' : 'none';\n",
              "\n",
              "        async function convertToInteractive(key) {\n",
              "          const element = document.querySelector('#df-218a5baf-2acc-40ee-8ac9-a4945a124ce2');\n",
              "          const dataTable =\n",
              "            await google.colab.kernel.invokeFunction('convertToInteractive',\n",
              "                                                     [key], {});\n",
              "          if (!dataTable) return;\n",
              "\n",
              "          const docLinkHtml = 'Like what you see? Visit the ' +\n",
              "            '<a target=\"_blank\" href=https://colab.research.google.com/notebooks/data_table.ipynb>data table notebook</a>'\n",
              "            + ' to learn more about interactive tables.';\n",
              "          element.innerHTML = '';\n",
              "          dataTable['output_type'] = 'display_data';\n",
              "          await google.colab.output.renderOutput(dataTable, element);\n",
              "          const docLink = document.createElement('div');\n",
              "          docLink.innerHTML = docLinkHtml;\n",
              "          element.appendChild(docLink);\n",
              "        }\n",
              "      </script>\n",
              "    </div>\n",
              "  </div>\n",
              "  "
            ]
          },
          "metadata": {},
          "execution_count": 27
        }
      ],
      "source": [
        "inception_df[inception_df.n>=0].sort_values(by=['n'], ascending=True).iloc[:10]"
      ]
    },
    {
      "cell_type": "markdown",
      "metadata": {
        "id": "dAyZvgc5Nsop"
      },
      "source": [
        "### Section I - Q9: Albus Dumbledore\n",
        "\n",
        "(A) List all movies where there was a character 'Albus Dumbledore' \n",
        "\n",
        "(B) Now modify the above to show only the actors who played the character 'Albus Dumbledore'\n",
        "- For Part (B) remember the same actor might play the same role in multiple movies"
      ]
    },
    {
      "cell_type": "code",
      "execution_count": null,
      "metadata": {
        "colab": {
          "base_uri": "https://localhost:8080/"
        },
        "id": "Y9yZHiUqNsoq",
        "outputId": "68b8d214-f5c2-415d-bee3-dfa5882c1715"
      },
      "outputs": [
        {
          "output_type": "stream",
          "name": "stdout",
          "text": [
            "<class 'pandas.core.frame.DataFrame'>\n",
            "Int64Index: 12 entries, 704984 to 2248085\n",
            "Data columns (total 6 columns):\n",
            " #   Column     Non-Null Count  Dtype  \n",
            "---  ------     --------------  -----  \n",
            " 0   title      12 non-null     object \n",
            " 1   year       12 non-null     int64  \n",
            " 2   name       12 non-null     object \n",
            " 3   type       12 non-null     object \n",
            " 4   character  12 non-null     object \n",
            " 5   n          9 non-null      float64\n",
            "dtypes: float64(1), int64(1), object(4)\n",
            "memory usage: 672.0+ bytes\n",
            "None\n",
            "                                                title  year  \\\n",
            "704984                                     Epic Movie  2007   \n",
            "792419   Harry Potter and the Deathly Hallows: Part 1  2010   \n",
            "792420   Harry Potter and the Deathly Hallows: Part 2  2011   \n",
            "792421            Harry Potter and the Goblet of Fire  2005   \n",
            "792422         Harry Potter and the Half-Blood Prince  2009   \n",
            "792423      Harry Potter and the Order of the Phoenix  2007   \n",
            "792424       Harry Potter and the Prisoner of Azkaban  2004   \n",
            "947789        Harry Potter and the Chamber of Secrets  2002   \n",
            "947790          Harry Potter and the Sorcerer's Stone  2001   \n",
            "1685537                         Ultimate Hero Project  2013   \n",
            "1893421  Harry Potter and the Deathly Hallows: Part 1  2010   \n",
            "2248085                                        Potter  2015   \n",
            "\n",
            "                        name   type                   character     n  \n",
            "704984          Dane Farwell  actor            Albus Dumbledore  17.0  \n",
            "792419        Michael Gambon  actor  Professor Albus Dumbledore  39.0  \n",
            "792420        Michael Gambon  actor  Professor Albus Dumbledore   2.0  \n",
            "792421        Michael Gambon  actor            Albus Dumbledore  37.0  \n",
            "792422        Michael Gambon  actor  Professor Albus Dumbledore   2.0  \n",
            "792423        Michael Gambon  actor            Albus Dumbledore  36.0  \n",
            "792424        Michael Gambon  actor            Albus Dumbledore  27.0  \n",
            "947789        Richard Harris  actor            Albus Dumbledore  32.0  \n",
            "947790        Richard Harris  actor            Albus Dumbledore   1.0  \n",
            "1685537  George (X) O'Connor  actor            Albus Dumbledore   NaN  \n",
            "1893421           Toby Regbo  actor      Young Albus Dumbledore   NaN  \n",
            "2248085    Timothy Tedmanson  actor            Albus Dumbledore   NaN  \n"
          ]
        }
      ],
      "source": [
        "## (A) \n",
        "ad_df = cast[cast.character.str.contains('Albus Dumbledore', case=False)]\n",
        "print(ad_df.info())\n",
        "print(ad_df)"
      ]
    },
    {
      "cell_type": "code",
      "execution_count": null,
      "metadata": {
        "colab": {
          "base_uri": "https://localhost:8080/"
        },
        "id": "UNuSZOkmNsoq",
        "outputId": "8ca7be27-1f75-49ce-bfd8-33c84ed283ec"
      },
      "outputs": [
        {
          "output_type": "stream",
          "name": "stdout",
          "text": [
            "6\n",
            "['Dane Farwell' 'Michael Gambon' 'Richard Harris' \"George (X) O'Connor\"\n",
            " 'Toby Regbo' 'Timothy Tedmanson']\n"
          ]
        }
      ],
      "source": [
        "## (B) show only the actors who played the character 'Albus Dumbledore'\n",
        "print( len(ad_df['name'].unique()) )\n",
        "print( ad_df['name'].unique() )"
      ]
    },
    {
      "cell_type": "markdown",
      "metadata": {
        "id": "wFqvXygFNsoq"
      },
      "source": [
        "### Section I - Q10: Keanu Reeves\n",
        "\n",
        "(A) How many roles has 'Keanu Reeves' played throughout his career?\n",
        "\n",
        "(B) List the leading roles that 'Keanu Reeves' played on or after 1999 in order by year."
      ]
    },
    {
      "cell_type": "code",
      "execution_count": null,
      "metadata": {
        "id": "I5Sfx2rvNsoq"
      },
      "outputs": [],
      "source": [
        "# (A) How many roles has 'Keanu Reeves' played throughout his career?\n",
        "kr_df = cast[cast.name.str.contains('Keanu Reeves', case=False)]"
      ]
    },
    {
      "cell_type": "code",
      "source": [
        "print( len(kr_df) )\n",
        "print( kr_df.info() )\n",
        "print( kr_df.head() )\n",
        "# print( kr_df.tail() )"
      ],
      "metadata": {
        "colab": {
          "base_uri": "https://localhost:8080/"
        },
        "id": "6oSquH2olPdf",
        "outputId": "0a04bfbc-0c1e-4d3d-ad23-a28be6ad3399"
      },
      "execution_count": null,
      "outputs": [
        {
          "output_type": "stream",
          "name": "stdout",
          "text": [
            "62\n",
            "<class 'pandas.core.frame.DataFrame'>\n",
            "Int64Index: 62 entries, 1892342 to 1892403\n",
            "Data columns (total 6 columns):\n",
            " #   Column     Non-Null Count  Dtype  \n",
            "---  ------     --------------  -----  \n",
            " 0   title      62 non-null     object \n",
            " 1   year       62 non-null     int64  \n",
            " 2   name       62 non-null     object \n",
            " 3   type       62 non-null     object \n",
            " 4   character  62 non-null     object \n",
            " 5   n          58 non-null     float64\n",
            "dtypes: float64(1), int64(1), object(4)\n",
            "memory usage: 3.4+ KB\n",
            "None\n",
            "                                    title  year          name   type  \\\n",
            "1892342                          47 Ronin  2013  Keanu Reeves  actor   \n",
            "1892343                  A Scanner Darkly  2006  Keanu Reeves  actor   \n",
            "1892344              A Walk in the Clouds  1995  Keanu Reeves  actor   \n",
            "1892345        Bill & Ted's Bogus Journey  1991  Keanu Reeves  actor   \n",
            "1892346  Bill & Ted's Excellent Adventure  1989  Keanu Reeves  actor   \n",
            "\n",
            "           character    n  \n",
            "1892342          Kai  1.0  \n",
            "1892343   Bob Arctor  4.0  \n",
            "1892344  Paul Sutton  1.0  \n",
            "1892345          Ted  1.0  \n",
            "1892346          Ted  1.0  \n"
          ]
        }
      ]
    },
    {
      "cell_type": "code",
      "execution_count": null,
      "metadata": {
        "colab": {
          "base_uri": "https://localhost:8080/",
          "height": 1000
        },
        "id": "feSFCNvgNsoq",
        "outputId": "0373fe10-92af-4879-d33a-08b6897355a7"
      },
      "outputs": [
        {
          "output_type": "execute_result",
          "data": {
            "text/plain": [
              "                                  title  year          name   type  \\\n",
              "1892370                     Me and Will  1999  Keanu Reeves  actor   \n",
              "1892369                     Me and Will  1999  Keanu Reeves  actor   \n",
              "1892390                      The Matrix  1999  Keanu Reeves  actor   \n",
              "1892398                     The Watcher  2000  Keanu Reeves  actor   \n",
              "1892397                The Replacements  2000  Keanu Reeves  actor   \n",
              "1892387                        The Gift  2000  Keanu Reeves  actor   \n",
              "1892383                  Sweet November  2001  Keanu Reeves  actor   \n",
              "1892358                       Hard Ball  2001  Keanu Reeves  actor   \n",
              "1892379          Something's Gotta Give  2003  Keanu Reeves  actor   \n",
              "1892391             The Matrix Reloaded  2003  Keanu Reeves  actor   \n",
              "1892392          The Matrix Revolutions  2003  Keanu Reeves  actor   \n",
              "1892351                    Ellie Parker  2005  Keanu Reeves  actor   \n",
              "1892348                     Constantine  2005  Keanu Reeves  actor   \n",
              "1892400                     Thumbsucker  2005  Keanu Reeves  actor   \n",
              "1892388                  The Lake House  2006  Keanu Reeves  actor   \n",
              "1892343                A Scanner Darkly  2006  Keanu Reeves  actor   \n",
              "1892382                    Street Kings  2008  Keanu Reeves  actor   \n",
              "1892385   The Day the Earth Stood Still  2008  Keanu Reeves  actor   \n",
              "1892396  The Private Lives of Pippa Lee  2009  Keanu Reeves  actor   \n",
              "1892359                   Henry's Crime  2010  Keanu Reeves  actor   \n",
              "1892342                        47 Ronin  2013  Keanu Reeves  actor   \n",
              "1892368                  Man of Tai Chi  2013  Keanu Reeves  actor   \n",
              "1892361                       John Wick  2014  Keanu Reeves  actor   \n",
              "1892366                     Knock Knock  2015  Keanu Reeves  actor   \n",
              "1892365                           Keanu  2016  Keanu Reeves  actor   \n",
              "1892393                  The Neon Demon  2016  Keanu Reeves  actor   \n",
              "1892353                   Exposed (III)  2016  Keanu Reeves  actor   \n",
              "1892399                 The Whole Truth  2016  Keanu Reeves  actor   \n",
              "1892384                   The Bad Batch  2016  Keanu Reeves  actor   \n",
              "1892362            John Wick: Chapter 2  2017  Keanu Reeves  actor   \n",
              "1892401                     To the Bone  2017  Keanu Reeves  actor   \n",
              "1892378                         Siberia  2018  Keanu Reeves  actor   \n",
              "\n",
              "                    character     n  \n",
              "1892370               Himself  42.0  \n",
              "1892369               Dogstar  42.0  \n",
              "1892390                   Neo   1.0  \n",
              "1892398               Griffin   3.0  \n",
              "1892397           Shane Falco   1.0  \n",
              "1892387      Donnie Barksdale   3.0  \n",
              "1892383           Nelson Moss   1.0  \n",
              "1892358         Conor O'Neill   1.0  \n",
              "1892379         Julian Mercer   3.0  \n",
              "1892391                   Neo  59.0  \n",
              "1892392                   Neo  33.0  \n",
              "1892351               Dogstar  21.0  \n",
              "1892348      John Constantine   1.0  \n",
              "1892400           Perry Lyman  17.0  \n",
              "1892388            Alex Wyler   1.0  \n",
              "1892343            Bob Arctor   4.0  \n",
              "1892382  Detective Tom Ludlow   1.0  \n",
              "1892385                Klaatu   1.0  \n",
              "1892396          Chris Nadeau  16.0  \n",
              "1892359           Henry Torne   1.0  \n",
              "1892342                   Kai   1.0  \n",
              "1892368           Donaka Mark   2.0  \n",
              "1892361             John Wick   1.0  \n",
              "1892366                  Evan   1.0  \n",
              "1892365                 Keanu  25.0  \n",
              "1892393                  Hank   8.0  \n",
              "1892353      Detective Galban   8.0  \n",
              "1892399                Ramsey   1.0  \n",
              "1892384             The Dream   4.0  \n",
              "1892362             John Wick   1.0  \n",
              "1892401           Dr. Beckham  11.0  \n",
              "1892378            Lucas Hill   1.0  "
            ],
            "text/html": [
              "\n",
              "  <div id=\"df-f8e4935f-d05c-4169-87c3-f77efe00f7b3\">\n",
              "    <div class=\"colab-df-container\">\n",
              "      <div>\n",
              "<style scoped>\n",
              "    .dataframe tbody tr th:only-of-type {\n",
              "        vertical-align: middle;\n",
              "    }\n",
              "\n",
              "    .dataframe tbody tr th {\n",
              "        vertical-align: top;\n",
              "    }\n",
              "\n",
              "    .dataframe thead th {\n",
              "        text-align: right;\n",
              "    }\n",
              "</style>\n",
              "<table border=\"1\" class=\"dataframe\">\n",
              "  <thead>\n",
              "    <tr style=\"text-align: right;\">\n",
              "      <th></th>\n",
              "      <th>title</th>\n",
              "      <th>year</th>\n",
              "      <th>name</th>\n",
              "      <th>type</th>\n",
              "      <th>character</th>\n",
              "      <th>n</th>\n",
              "    </tr>\n",
              "  </thead>\n",
              "  <tbody>\n",
              "    <tr>\n",
              "      <th>1892370</th>\n",
              "      <td>Me and Will</td>\n",
              "      <td>1999</td>\n",
              "      <td>Keanu Reeves</td>\n",
              "      <td>actor</td>\n",
              "      <td>Himself</td>\n",
              "      <td>42.0</td>\n",
              "    </tr>\n",
              "    <tr>\n",
              "      <th>1892369</th>\n",
              "      <td>Me and Will</td>\n",
              "      <td>1999</td>\n",
              "      <td>Keanu Reeves</td>\n",
              "      <td>actor</td>\n",
              "      <td>Dogstar</td>\n",
              "      <td>42.0</td>\n",
              "    </tr>\n",
              "    <tr>\n",
              "      <th>1892390</th>\n",
              "      <td>The Matrix</td>\n",
              "      <td>1999</td>\n",
              "      <td>Keanu Reeves</td>\n",
              "      <td>actor</td>\n",
              "      <td>Neo</td>\n",
              "      <td>1.0</td>\n",
              "    </tr>\n",
              "    <tr>\n",
              "      <th>1892398</th>\n",
              "      <td>The Watcher</td>\n",
              "      <td>2000</td>\n",
              "      <td>Keanu Reeves</td>\n",
              "      <td>actor</td>\n",
              "      <td>Griffin</td>\n",
              "      <td>3.0</td>\n",
              "    </tr>\n",
              "    <tr>\n",
              "      <th>1892397</th>\n",
              "      <td>The Replacements</td>\n",
              "      <td>2000</td>\n",
              "      <td>Keanu Reeves</td>\n",
              "      <td>actor</td>\n",
              "      <td>Shane Falco</td>\n",
              "      <td>1.0</td>\n",
              "    </tr>\n",
              "    <tr>\n",
              "      <th>1892387</th>\n",
              "      <td>The Gift</td>\n",
              "      <td>2000</td>\n",
              "      <td>Keanu Reeves</td>\n",
              "      <td>actor</td>\n",
              "      <td>Donnie Barksdale</td>\n",
              "      <td>3.0</td>\n",
              "    </tr>\n",
              "    <tr>\n",
              "      <th>1892383</th>\n",
              "      <td>Sweet November</td>\n",
              "      <td>2001</td>\n",
              "      <td>Keanu Reeves</td>\n",
              "      <td>actor</td>\n",
              "      <td>Nelson Moss</td>\n",
              "      <td>1.0</td>\n",
              "    </tr>\n",
              "    <tr>\n",
              "      <th>1892358</th>\n",
              "      <td>Hard Ball</td>\n",
              "      <td>2001</td>\n",
              "      <td>Keanu Reeves</td>\n",
              "      <td>actor</td>\n",
              "      <td>Conor O'Neill</td>\n",
              "      <td>1.0</td>\n",
              "    </tr>\n",
              "    <tr>\n",
              "      <th>1892379</th>\n",
              "      <td>Something's Gotta Give</td>\n",
              "      <td>2003</td>\n",
              "      <td>Keanu Reeves</td>\n",
              "      <td>actor</td>\n",
              "      <td>Julian Mercer</td>\n",
              "      <td>3.0</td>\n",
              "    </tr>\n",
              "    <tr>\n",
              "      <th>1892391</th>\n",
              "      <td>The Matrix Reloaded</td>\n",
              "      <td>2003</td>\n",
              "      <td>Keanu Reeves</td>\n",
              "      <td>actor</td>\n",
              "      <td>Neo</td>\n",
              "      <td>59.0</td>\n",
              "    </tr>\n",
              "    <tr>\n",
              "      <th>1892392</th>\n",
              "      <td>The Matrix Revolutions</td>\n",
              "      <td>2003</td>\n",
              "      <td>Keanu Reeves</td>\n",
              "      <td>actor</td>\n",
              "      <td>Neo</td>\n",
              "      <td>33.0</td>\n",
              "    </tr>\n",
              "    <tr>\n",
              "      <th>1892351</th>\n",
              "      <td>Ellie Parker</td>\n",
              "      <td>2005</td>\n",
              "      <td>Keanu Reeves</td>\n",
              "      <td>actor</td>\n",
              "      <td>Dogstar</td>\n",
              "      <td>21.0</td>\n",
              "    </tr>\n",
              "    <tr>\n",
              "      <th>1892348</th>\n",
              "      <td>Constantine</td>\n",
              "      <td>2005</td>\n",
              "      <td>Keanu Reeves</td>\n",
              "      <td>actor</td>\n",
              "      <td>John Constantine</td>\n",
              "      <td>1.0</td>\n",
              "    </tr>\n",
              "    <tr>\n",
              "      <th>1892400</th>\n",
              "      <td>Thumbsucker</td>\n",
              "      <td>2005</td>\n",
              "      <td>Keanu Reeves</td>\n",
              "      <td>actor</td>\n",
              "      <td>Perry Lyman</td>\n",
              "      <td>17.0</td>\n",
              "    </tr>\n",
              "    <tr>\n",
              "      <th>1892388</th>\n",
              "      <td>The Lake House</td>\n",
              "      <td>2006</td>\n",
              "      <td>Keanu Reeves</td>\n",
              "      <td>actor</td>\n",
              "      <td>Alex Wyler</td>\n",
              "      <td>1.0</td>\n",
              "    </tr>\n",
              "    <tr>\n",
              "      <th>1892343</th>\n",
              "      <td>A Scanner Darkly</td>\n",
              "      <td>2006</td>\n",
              "      <td>Keanu Reeves</td>\n",
              "      <td>actor</td>\n",
              "      <td>Bob Arctor</td>\n",
              "      <td>4.0</td>\n",
              "    </tr>\n",
              "    <tr>\n",
              "      <th>1892382</th>\n",
              "      <td>Street Kings</td>\n",
              "      <td>2008</td>\n",
              "      <td>Keanu Reeves</td>\n",
              "      <td>actor</td>\n",
              "      <td>Detective Tom Ludlow</td>\n",
              "      <td>1.0</td>\n",
              "    </tr>\n",
              "    <tr>\n",
              "      <th>1892385</th>\n",
              "      <td>The Day the Earth Stood Still</td>\n",
              "      <td>2008</td>\n",
              "      <td>Keanu Reeves</td>\n",
              "      <td>actor</td>\n",
              "      <td>Klaatu</td>\n",
              "      <td>1.0</td>\n",
              "    </tr>\n",
              "    <tr>\n",
              "      <th>1892396</th>\n",
              "      <td>The Private Lives of Pippa Lee</td>\n",
              "      <td>2009</td>\n",
              "      <td>Keanu Reeves</td>\n",
              "      <td>actor</td>\n",
              "      <td>Chris Nadeau</td>\n",
              "      <td>16.0</td>\n",
              "    </tr>\n",
              "    <tr>\n",
              "      <th>1892359</th>\n",
              "      <td>Henry's Crime</td>\n",
              "      <td>2010</td>\n",
              "      <td>Keanu Reeves</td>\n",
              "      <td>actor</td>\n",
              "      <td>Henry Torne</td>\n",
              "      <td>1.0</td>\n",
              "    </tr>\n",
              "    <tr>\n",
              "      <th>1892342</th>\n",
              "      <td>47 Ronin</td>\n",
              "      <td>2013</td>\n",
              "      <td>Keanu Reeves</td>\n",
              "      <td>actor</td>\n",
              "      <td>Kai</td>\n",
              "      <td>1.0</td>\n",
              "    </tr>\n",
              "    <tr>\n",
              "      <th>1892368</th>\n",
              "      <td>Man of Tai Chi</td>\n",
              "      <td>2013</td>\n",
              "      <td>Keanu Reeves</td>\n",
              "      <td>actor</td>\n",
              "      <td>Donaka Mark</td>\n",
              "      <td>2.0</td>\n",
              "    </tr>\n",
              "    <tr>\n",
              "      <th>1892361</th>\n",
              "      <td>John Wick</td>\n",
              "      <td>2014</td>\n",
              "      <td>Keanu Reeves</td>\n",
              "      <td>actor</td>\n",
              "      <td>John Wick</td>\n",
              "      <td>1.0</td>\n",
              "    </tr>\n",
              "    <tr>\n",
              "      <th>1892366</th>\n",
              "      <td>Knock Knock</td>\n",
              "      <td>2015</td>\n",
              "      <td>Keanu Reeves</td>\n",
              "      <td>actor</td>\n",
              "      <td>Evan</td>\n",
              "      <td>1.0</td>\n",
              "    </tr>\n",
              "    <tr>\n",
              "      <th>1892365</th>\n",
              "      <td>Keanu</td>\n",
              "      <td>2016</td>\n",
              "      <td>Keanu Reeves</td>\n",
              "      <td>actor</td>\n",
              "      <td>Keanu</td>\n",
              "      <td>25.0</td>\n",
              "    </tr>\n",
              "    <tr>\n",
              "      <th>1892393</th>\n",
              "      <td>The Neon Demon</td>\n",
              "      <td>2016</td>\n",
              "      <td>Keanu Reeves</td>\n",
              "      <td>actor</td>\n",
              "      <td>Hank</td>\n",
              "      <td>8.0</td>\n",
              "    </tr>\n",
              "    <tr>\n",
              "      <th>1892353</th>\n",
              "      <td>Exposed (III)</td>\n",
              "      <td>2016</td>\n",
              "      <td>Keanu Reeves</td>\n",
              "      <td>actor</td>\n",
              "      <td>Detective Galban</td>\n",
              "      <td>8.0</td>\n",
              "    </tr>\n",
              "    <tr>\n",
              "      <th>1892399</th>\n",
              "      <td>The Whole Truth</td>\n",
              "      <td>2016</td>\n",
              "      <td>Keanu Reeves</td>\n",
              "      <td>actor</td>\n",
              "      <td>Ramsey</td>\n",
              "      <td>1.0</td>\n",
              "    </tr>\n",
              "    <tr>\n",
              "      <th>1892384</th>\n",
              "      <td>The Bad Batch</td>\n",
              "      <td>2016</td>\n",
              "      <td>Keanu Reeves</td>\n",
              "      <td>actor</td>\n",
              "      <td>The Dream</td>\n",
              "      <td>4.0</td>\n",
              "    </tr>\n",
              "    <tr>\n",
              "      <th>1892362</th>\n",
              "      <td>John Wick: Chapter 2</td>\n",
              "      <td>2017</td>\n",
              "      <td>Keanu Reeves</td>\n",
              "      <td>actor</td>\n",
              "      <td>John Wick</td>\n",
              "      <td>1.0</td>\n",
              "    </tr>\n",
              "    <tr>\n",
              "      <th>1892401</th>\n",
              "      <td>To the Bone</td>\n",
              "      <td>2017</td>\n",
              "      <td>Keanu Reeves</td>\n",
              "      <td>actor</td>\n",
              "      <td>Dr. Beckham</td>\n",
              "      <td>11.0</td>\n",
              "    </tr>\n",
              "    <tr>\n",
              "      <th>1892378</th>\n",
              "      <td>Siberia</td>\n",
              "      <td>2018</td>\n",
              "      <td>Keanu Reeves</td>\n",
              "      <td>actor</td>\n",
              "      <td>Lucas Hill</td>\n",
              "      <td>1.0</td>\n",
              "    </tr>\n",
              "  </tbody>\n",
              "</table>\n",
              "</div>\n",
              "      <button class=\"colab-df-convert\" onclick=\"convertToInteractive('df-f8e4935f-d05c-4169-87c3-f77efe00f7b3')\"\n",
              "              title=\"Convert this dataframe to an interactive table.\"\n",
              "              style=\"display:none;\">\n",
              "        \n",
              "  <svg xmlns=\"http://www.w3.org/2000/svg\" height=\"24px\"viewBox=\"0 0 24 24\"\n",
              "       width=\"24px\">\n",
              "    <path d=\"M0 0h24v24H0V0z\" fill=\"none\"/>\n",
              "    <path d=\"M18.56 5.44l.94 2.06.94-2.06 2.06-.94-2.06-.94-.94-2.06-.94 2.06-2.06.94zm-11 1L8.5 8.5l.94-2.06 2.06-.94-2.06-.94L8.5 2.5l-.94 2.06-2.06.94zm10 10l.94 2.06.94-2.06 2.06-.94-2.06-.94-.94-2.06-.94 2.06-2.06.94z\"/><path d=\"M17.41 7.96l-1.37-1.37c-.4-.4-.92-.59-1.43-.59-.52 0-1.04.2-1.43.59L10.3 9.45l-7.72 7.72c-.78.78-.78 2.05 0 2.83L4 21.41c.39.39.9.59 1.41.59.51 0 1.02-.2 1.41-.59l7.78-7.78 2.81-2.81c.8-.78.8-2.07 0-2.86zM5.41 20L4 18.59l7.72-7.72 1.47 1.35L5.41 20z\"/>\n",
              "  </svg>\n",
              "      </button>\n",
              "      \n",
              "  <style>\n",
              "    .colab-df-container {\n",
              "      display:flex;\n",
              "      flex-wrap:wrap;\n",
              "      gap: 12px;\n",
              "    }\n",
              "\n",
              "    .colab-df-convert {\n",
              "      background-color: #E8F0FE;\n",
              "      border: none;\n",
              "      border-radius: 50%;\n",
              "      cursor: pointer;\n",
              "      display: none;\n",
              "      fill: #1967D2;\n",
              "      height: 32px;\n",
              "      padding: 0 0 0 0;\n",
              "      width: 32px;\n",
              "    }\n",
              "\n",
              "    .colab-df-convert:hover {\n",
              "      background-color: #E2EBFA;\n",
              "      box-shadow: 0px 1px 2px rgba(60, 64, 67, 0.3), 0px 1px 3px 1px rgba(60, 64, 67, 0.15);\n",
              "      fill: #174EA6;\n",
              "    }\n",
              "\n",
              "    [theme=dark] .colab-df-convert {\n",
              "      background-color: #3B4455;\n",
              "      fill: #D2E3FC;\n",
              "    }\n",
              "\n",
              "    [theme=dark] .colab-df-convert:hover {\n",
              "      background-color: #434B5C;\n",
              "      box-shadow: 0px 1px 3px 1px rgba(0, 0, 0, 0.15);\n",
              "      filter: drop-shadow(0px 1px 2px rgba(0, 0, 0, 0.3));\n",
              "      fill: #FFFFFF;\n",
              "    }\n",
              "  </style>\n",
              "\n",
              "      <script>\n",
              "        const buttonEl =\n",
              "          document.querySelector('#df-f8e4935f-d05c-4169-87c3-f77efe00f7b3 button.colab-df-convert');\n",
              "        buttonEl.style.display =\n",
              "          google.colab.kernel.accessAllowed ? 'block' : 'none';\n",
              "\n",
              "        async function convertToInteractive(key) {\n",
              "          const element = document.querySelector('#df-f8e4935f-d05c-4169-87c3-f77efe00f7b3');\n",
              "          const dataTable =\n",
              "            await google.colab.kernel.invokeFunction('convertToInteractive',\n",
              "                                                     [key], {});\n",
              "          if (!dataTable) return;\n",
              "\n",
              "          const docLinkHtml = 'Like what you see? Visit the ' +\n",
              "            '<a target=\"_blank\" href=https://colab.research.google.com/notebooks/data_table.ipynb>data table notebook</a>'\n",
              "            + ' to learn more about interactive tables.';\n",
              "          element.innerHTML = '';\n",
              "          dataTable['output_type'] = 'display_data';\n",
              "          await google.colab.output.renderOutput(dataTable, element);\n",
              "          const docLink = document.createElement('div');\n",
              "          docLink.innerHTML = docLinkHtml;\n",
              "          element.appendChild(docLink);\n",
              "        }\n",
              "      </script>\n",
              "    </div>\n",
              "  </div>\n",
              "  "
            ]
          },
          "metadata": {},
          "execution_count": 32
        }
      ],
      "source": [
        "# (B) List the leading roles that 'Keanu Reeves' played on or after 1999 in order by year.\n",
        "kr_df[(kr_df.n>=0) & (kr_df.year>=1999)].sort_values(by=['year'], ascending=True)"
      ]
    },
    {
      "cell_type": "markdown",
      "metadata": {
        "id": "tFpSxmy6Nsoq"
      },
      "source": [
        "### Section I - Q11: total number of actor and actress roles\n",
        "\n",
        "(A) List the total number of actor and actress roles available from 1950 - 1960\n",
        "\n",
        "(B) List the total number of actor and actress roles available from 2007 - 2017"
      ]
    },
    {
      "cell_type": "code",
      "execution_count": null,
      "metadata": {
        "colab": {
          "base_uri": "https://localhost:8080/"
        },
        "id": "H2mAu_4gNsoq",
        "outputId": "b48cff7d-8129-4b38-dace-65dd1478c937"
      },
      "outputs": [
        {
          "output_type": "stream",
          "name": "stdout",
          "text": [
            "                         title  year                      name     type  \\\n",
            "66             Fire Down Below  1957      'Stretch' Cox Troupe    actor   \n",
            "67                De zaak M.P.  1960             Frans 't Hoen    actor   \n",
            "68          Dorp aan de rivier  1958             Frans 't Hoen    actor   \n",
            "111       Ci sposeremo a Capri  1956             Quartetto 2+2    actor   \n",
            "116        Thunder in Carolina  1960  2nd Marine Division Band    actor   \n",
            "...                        ...   ...                       ...      ...   \n",
            "3786059       Styrmand Karlsen  1958                Clara ?st?  actress   \n",
            "3786061  Tre piger fra Jylland  1957                Clara ?st?  actress   \n",
            "3786075                   Toya  1956                Aslaug ?ye  actress   \n",
            "3786083                 Venner  1960              Bibba ?ygard  actress   \n",
            "3786094     Akdeniz korsanlari  1950           Muazzez ?lkerer  actress   \n",
            "\n",
            "                character     n  \n",
            "66         Limbo Dance by  20.0  \n",
            "67         Hollandse boer  29.0  \n",
            "68               Dirk Jan  15.0  \n",
            "111            Themselves  19.0  \n",
            "116            Themselves   NaN  \n",
            "...                   ...   ...  \n",
            "3786059         The Queen   9.0  \n",
            "3786061         Frk. Lind   9.0  \n",
            "3786075  moren til Trygve  19.0  \n",
            "3786083        Kontordame   NaN  \n",
            "3786094             Maria   2.0  \n",
            "\n",
            "[234635 rows x 6 columns]\n"
          ]
        }
      ],
      "source": [
        "## (A) List the total number of actor and actress roles available from 1950 - 1960\n",
        "tmp1 = cast[(cast['type'].str.contains('actor', case=False)) | \\\n",
        "            (cast['type'].str.contains('actress', case=False)) ] \n",
        "\n",
        "tmp2 = tmp1[(tmp1.year>=1950) & (tmp1.year<=1960) ]\n",
        "print(tmp2)"
      ]
    },
    {
      "cell_type": "code",
      "execution_count": null,
      "metadata": {
        "colab": {
          "base_uri": "https://localhost:8080/"
        },
        "id": "YId1SzT5Nsoq",
        "outputId": "1e76cb26-6437-474a-9fda-7cf1a1d40998"
      },
      "outputs": [
        {
          "output_type": "stream",
          "name": "stdout",
          "text": [
            "                          title  year                         name     type  \\\n",
            "0                Closet Monster  2015                     Buffy #1    actor   \n",
            "2           Battle of the Sexes  2017                      $hutter    actor   \n",
            "3          Secret in Their Eyes  2015                      $hutter    actor   \n",
            "4                    Steve Jobs  2015                      $hutter    actor   \n",
            "5        Straight Outta Compton  2015                      $hutter    actor   \n",
            "...                         ...   ...                          ...      ...   \n",
            "3786159                Eldfjall  2011      Katla M. ?orgeirsd?ttir  actress   \n",
            "3786160               Svanurinn  2017      Katla M. ?orgeirsd?ttir  actress   \n",
            "3786166               Foreldrar  2007  Lilja Gu?r?n ?orvaldsd?ttir  actress   \n",
            "3786167                 Rokland  2011  Lilja Gu?r?n ?orvaldsd?ttir  actress   \n",
            "3786168                      XL  2013  Lilja Gu?r?n ?orvaldsd?ttir  actress   \n",
            "\n",
            "                          character     n  \n",
            "0                           Buffy 4  31.0  \n",
            "2                   Bobby Riggs Fan  10.0  \n",
            "3                   2002 Dodger Fan   NaN  \n",
            "4           1988 Opera House Patron   NaN  \n",
            "5                       Club Patron   NaN  \n",
            "...                             ...   ...  \n",
            "3786159                  Home Nurse   NaN  \n",
            "3786160                        ?l?f   NaN  \n",
            "3786166                Katrin Eldri   NaN  \n",
            "3786167  A?albj?rg - Dagga's Mother   NaN  \n",
            "3786168                 Tengdamamma   NaN  \n",
            "\n",
            "[1452413 rows x 6 columns]\n"
          ]
        }
      ],
      "source": [
        "## (B) List the total number of actor and actress roles available from 2007 - 2017\n",
        "tmp1 = cast[(cast['type'].str.contains('actor', case=False)) | \\\n",
        "            (cast['type'].str.contains('actress', case=False)) ] \n",
        "\n",
        "tmp2 = tmp1[(tmp1.year>=2007) & (tmp1.year<=2017) ]\n",
        "print(tmp2)"
      ]
    },
    {
      "cell_type": "markdown",
      "metadata": {
        "id": "Rq5zjFbWNsoq"
      },
      "source": [
        "### Section I - Q12: total number of leading roles\n",
        "\n",
        "(A) List the total number of leading roles available from 2000 to present\n",
        "\n",
        "(B) List the total number of non-leading roles available from 2000 - present (exclude support cast)\n",
        "\n",
        "(C) List the total number of support\\extra-credit roles available from 2000 - present"
      ]
    },
    {
      "cell_type": "code",
      "execution_count": null,
      "metadata": {
        "colab": {
          "base_uri": "https://localhost:8080/",
          "height": 572
        },
        "id": "MyhyeACLNsoq",
        "outputId": "82222a1a-5ce5-4439-8194-abdbe2d34661"
      },
      "outputs": [
        {
          "output_type": "execute_result",
          "data": {
            "text/plain": [
              "                                                     title  year  \\\n",
              "0                                           Closet Monster  2015   \n",
              "2                                      Battle of the Sexes  2017   \n",
              "8        Lapis, Ballpen at Diploma, a True to Life Journey  2014   \n",
              "10                                 When the Man Went South  2014   \n",
              "11                                 Little Angel (Angelita)  2015   \n",
              "...                                                    ...   ...   \n",
              "3786163                                  Beowulf & Grendel  2005   \n",
              "3786164                                               Eden  2018   \n",
              "3786169                   Niceland (Population. 1.000.002)  2004   \n",
              "3786172                   Niceland (Population. 1.000.002)  2004   \n",
              "3786174                                       U.S.S.S.S...  2003   \n",
              "\n",
              "                                   name     type               character     n  \n",
              "0                              Buffy #1    actor                 Buffy 4  31.0  \n",
              "2                               $hutter    actor         Bobby Riggs Fan  10.0  \n",
              "8             Jori ' Danilo' Jurado Jr.    actor           Jaime (young)   9.0  \n",
              "10                   Taipaleti 'Atu'ake    actor  Two Palms - Ua'i Paame   8.0  \n",
              "11           Michael 'babeepower' Viera    actor                   Chico   9.0  \n",
              "...                                 ...      ...                     ...   ...  \n",
              "3786163  Steinunn ?l?na ?orsteinsd?ttir  actress               Wealtheow  15.0  \n",
              "3786164  Steinunn ?l?na ?orsteinsd?ttir  actress             M??ir Viggu   8.0  \n",
              "3786169         Steinunn ?orvaldsd?ttir  actress          Factory Worker  21.0  \n",
              "3786172       Sigr??ur J?na ??risd?ttir  actress            Woman in Bus  26.0  \n",
              "3786174     Krist?n Andrea ??r?ard?ttir  actress  Afgr.dama ? bens?nst??  17.0  \n",
              "\n",
              "[1062278 rows x 6 columns]"
            ],
            "text/html": [
              "\n",
              "  <div id=\"df-f91b79d4-3f0b-4a1b-b13a-906f5f425180\">\n",
              "    <div class=\"colab-df-container\">\n",
              "      <div>\n",
              "<style scoped>\n",
              "    .dataframe tbody tr th:only-of-type {\n",
              "        vertical-align: middle;\n",
              "    }\n",
              "\n",
              "    .dataframe tbody tr th {\n",
              "        vertical-align: top;\n",
              "    }\n",
              "\n",
              "    .dataframe thead th {\n",
              "        text-align: right;\n",
              "    }\n",
              "</style>\n",
              "<table border=\"1\" class=\"dataframe\">\n",
              "  <thead>\n",
              "    <tr style=\"text-align: right;\">\n",
              "      <th></th>\n",
              "      <th>title</th>\n",
              "      <th>year</th>\n",
              "      <th>name</th>\n",
              "      <th>type</th>\n",
              "      <th>character</th>\n",
              "      <th>n</th>\n",
              "    </tr>\n",
              "  </thead>\n",
              "  <tbody>\n",
              "    <tr>\n",
              "      <th>0</th>\n",
              "      <td>Closet Monster</td>\n",
              "      <td>2015</td>\n",
              "      <td>Buffy #1</td>\n",
              "      <td>actor</td>\n",
              "      <td>Buffy 4</td>\n",
              "      <td>31.0</td>\n",
              "    </tr>\n",
              "    <tr>\n",
              "      <th>2</th>\n",
              "      <td>Battle of the Sexes</td>\n",
              "      <td>2017</td>\n",
              "      <td>$hutter</td>\n",
              "      <td>actor</td>\n",
              "      <td>Bobby Riggs Fan</td>\n",
              "      <td>10.0</td>\n",
              "    </tr>\n",
              "    <tr>\n",
              "      <th>8</th>\n",
              "      <td>Lapis, Ballpen at Diploma, a True to Life Journey</td>\n",
              "      <td>2014</td>\n",
              "      <td>Jori ' Danilo' Jurado Jr.</td>\n",
              "      <td>actor</td>\n",
              "      <td>Jaime (young)</td>\n",
              "      <td>9.0</td>\n",
              "    </tr>\n",
              "    <tr>\n",
              "      <th>10</th>\n",
              "      <td>When the Man Went South</td>\n",
              "      <td>2014</td>\n",
              "      <td>Taipaleti 'Atu'ake</td>\n",
              "      <td>actor</td>\n",
              "      <td>Two Palms - Ua'i Paame</td>\n",
              "      <td>8.0</td>\n",
              "    </tr>\n",
              "    <tr>\n",
              "      <th>11</th>\n",
              "      <td>Little Angel (Angelita)</td>\n",
              "      <td>2015</td>\n",
              "      <td>Michael 'babeepower' Viera</td>\n",
              "      <td>actor</td>\n",
              "      <td>Chico</td>\n",
              "      <td>9.0</td>\n",
              "    </tr>\n",
              "    <tr>\n",
              "      <th>...</th>\n",
              "      <td>...</td>\n",
              "      <td>...</td>\n",
              "      <td>...</td>\n",
              "      <td>...</td>\n",
              "      <td>...</td>\n",
              "      <td>...</td>\n",
              "    </tr>\n",
              "    <tr>\n",
              "      <th>3786163</th>\n",
              "      <td>Beowulf &amp; Grendel</td>\n",
              "      <td>2005</td>\n",
              "      <td>Steinunn ?l?na ?orsteinsd?ttir</td>\n",
              "      <td>actress</td>\n",
              "      <td>Wealtheow</td>\n",
              "      <td>15.0</td>\n",
              "    </tr>\n",
              "    <tr>\n",
              "      <th>3786164</th>\n",
              "      <td>Eden</td>\n",
              "      <td>2018</td>\n",
              "      <td>Steinunn ?l?na ?orsteinsd?ttir</td>\n",
              "      <td>actress</td>\n",
              "      <td>M??ir Viggu</td>\n",
              "      <td>8.0</td>\n",
              "    </tr>\n",
              "    <tr>\n",
              "      <th>3786169</th>\n",
              "      <td>Niceland (Population. 1.000.002)</td>\n",
              "      <td>2004</td>\n",
              "      <td>Steinunn ?orvaldsd?ttir</td>\n",
              "      <td>actress</td>\n",
              "      <td>Factory Worker</td>\n",
              "      <td>21.0</td>\n",
              "    </tr>\n",
              "    <tr>\n",
              "      <th>3786172</th>\n",
              "      <td>Niceland (Population. 1.000.002)</td>\n",
              "      <td>2004</td>\n",
              "      <td>Sigr??ur J?na ??risd?ttir</td>\n",
              "      <td>actress</td>\n",
              "      <td>Woman in Bus</td>\n",
              "      <td>26.0</td>\n",
              "    </tr>\n",
              "    <tr>\n",
              "      <th>3786174</th>\n",
              "      <td>U.S.S.S.S...</td>\n",
              "      <td>2003</td>\n",
              "      <td>Krist?n Andrea ??r?ard?ttir</td>\n",
              "      <td>actress</td>\n",
              "      <td>Afgr.dama ? bens?nst??</td>\n",
              "      <td>17.0</td>\n",
              "    </tr>\n",
              "  </tbody>\n",
              "</table>\n",
              "<p>1062278 rows × 6 columns</p>\n",
              "</div>\n",
              "      <button class=\"colab-df-convert\" onclick=\"convertToInteractive('df-f91b79d4-3f0b-4a1b-b13a-906f5f425180')\"\n",
              "              title=\"Convert this dataframe to an interactive table.\"\n",
              "              style=\"display:none;\">\n",
              "        \n",
              "  <svg xmlns=\"http://www.w3.org/2000/svg\" height=\"24px\"viewBox=\"0 0 24 24\"\n",
              "       width=\"24px\">\n",
              "    <path d=\"M0 0h24v24H0V0z\" fill=\"none\"/>\n",
              "    <path d=\"M18.56 5.44l.94 2.06.94-2.06 2.06-.94-2.06-.94-.94-2.06-.94 2.06-2.06.94zm-11 1L8.5 8.5l.94-2.06 2.06-.94-2.06-.94L8.5 2.5l-.94 2.06-2.06.94zm10 10l.94 2.06.94-2.06 2.06-.94-2.06-.94-.94-2.06-.94 2.06-2.06.94z\"/><path d=\"M17.41 7.96l-1.37-1.37c-.4-.4-.92-.59-1.43-.59-.52 0-1.04.2-1.43.59L10.3 9.45l-7.72 7.72c-.78.78-.78 2.05 0 2.83L4 21.41c.39.39.9.59 1.41.59.51 0 1.02-.2 1.41-.59l7.78-7.78 2.81-2.81c.8-.78.8-2.07 0-2.86zM5.41 20L4 18.59l7.72-7.72 1.47 1.35L5.41 20z\"/>\n",
              "  </svg>\n",
              "      </button>\n",
              "      \n",
              "  <style>\n",
              "    .colab-df-container {\n",
              "      display:flex;\n",
              "      flex-wrap:wrap;\n",
              "      gap: 12px;\n",
              "    }\n",
              "\n",
              "    .colab-df-convert {\n",
              "      background-color: #E8F0FE;\n",
              "      border: none;\n",
              "      border-radius: 50%;\n",
              "      cursor: pointer;\n",
              "      display: none;\n",
              "      fill: #1967D2;\n",
              "      height: 32px;\n",
              "      padding: 0 0 0 0;\n",
              "      width: 32px;\n",
              "    }\n",
              "\n",
              "    .colab-df-convert:hover {\n",
              "      background-color: #E2EBFA;\n",
              "      box-shadow: 0px 1px 2px rgba(60, 64, 67, 0.3), 0px 1px 3px 1px rgba(60, 64, 67, 0.15);\n",
              "      fill: #174EA6;\n",
              "    }\n",
              "\n",
              "    [theme=dark] .colab-df-convert {\n",
              "      background-color: #3B4455;\n",
              "      fill: #D2E3FC;\n",
              "    }\n",
              "\n",
              "    [theme=dark] .colab-df-convert:hover {\n",
              "      background-color: #434B5C;\n",
              "      box-shadow: 0px 1px 3px 1px rgba(0, 0, 0, 0.15);\n",
              "      filter: drop-shadow(0px 1px 2px rgba(0, 0, 0, 0.3));\n",
              "      fill: #FFFFFF;\n",
              "    }\n",
              "  </style>\n",
              "\n",
              "      <script>\n",
              "        const buttonEl =\n",
              "          document.querySelector('#df-f91b79d4-3f0b-4a1b-b13a-906f5f425180 button.colab-df-convert');\n",
              "        buttonEl.style.display =\n",
              "          google.colab.kernel.accessAllowed ? 'block' : 'none';\n",
              "\n",
              "        async function convertToInteractive(key) {\n",
              "          const element = document.querySelector('#df-f91b79d4-3f0b-4a1b-b13a-906f5f425180');\n",
              "          const dataTable =\n",
              "            await google.colab.kernel.invokeFunction('convertToInteractive',\n",
              "                                                     [key], {});\n",
              "          if (!dataTable) return;\n",
              "\n",
              "          const docLinkHtml = 'Like what you see? Visit the ' +\n",
              "            '<a target=\"_blank\" href=https://colab.research.google.com/notebooks/data_table.ipynb>data table notebook</a>'\n",
              "            + ' to learn more about interactive tables.';\n",
              "          element.innerHTML = '';\n",
              "          dataTable['output_type'] = 'display_data';\n",
              "          await google.colab.output.renderOutput(dataTable, element);\n",
              "          const docLink = document.createElement('div');\n",
              "          docLink.innerHTML = docLinkHtml;\n",
              "          element.appendChild(docLink);\n",
              "        }\n",
              "      </script>\n",
              "    </div>\n",
              "  </div>\n",
              "  "
            ]
          },
          "metadata": {},
          "execution_count": 35
        }
      ],
      "source": [
        "## (A) List the total number of leading roles available from 2000 to present\n",
        "# len( cast[(cast.n>=0) & (cast.year>=2000)] )\n",
        "cast[(cast.n>=0) & (cast.year>=2000)]"
      ]
    },
    {
      "cell_type": "code",
      "execution_count": null,
      "metadata": {
        "colab": {
          "base_uri": "https://localhost:8080/",
          "height": 424
        },
        "id": "Oj3vs-chNsoq",
        "outputId": "779d778a-c389-47fd-fab5-77d2d29caaeb"
      },
      "outputs": [
        {
          "output_type": "execute_result",
          "data": {
            "text/plain": [
              "                          title  year                         name     type  \\\n",
              "3          Secret in Their Eyes  2015                      $hutter    actor   \n",
              "4                    Steve Jobs  2015                      $hutter    actor   \n",
              "5        Straight Outta Compton  2015                      $hutter    actor   \n",
              "6        Straight Outta Compton  2015                      $hutter    actor   \n",
              "7                For Thy Love 2  2009                 Bee Moe $lim    actor   \n",
              "...                         ...   ...                          ...      ...   \n",
              "3786159                Eldfjall  2011      Katla M. ?orgeirsd?ttir  actress   \n",
              "3786160               Svanurinn  2017      Katla M. ?orgeirsd?ttir  actress   \n",
              "3786166               Foreldrar  2007  Lilja Gu?r?n ?orvaldsd?ttir  actress   \n",
              "3786167                 Rokland  2011  Lilja Gu?r?n ?orvaldsd?ttir  actress   \n",
              "3786168                      XL  2013  Lilja Gu?r?n ?orvaldsd?ttir  actress   \n",
              "\n",
              "                          character   n  \n",
              "3                   2002 Dodger Fan NaN  \n",
              "4           1988 Opera House Patron NaN  \n",
              "5                       Club Patron NaN  \n",
              "6                           Dopeman NaN  \n",
              "7                            Thug 1 NaN  \n",
              "...                             ...  ..  \n",
              "3786159                  Home Nurse NaN  \n",
              "3786160                        ?l?f NaN  \n",
              "3786166                Katrin Eldri NaN  \n",
              "3786167  A?albj?rg - Dagga's Mother NaN  \n",
              "3786168                 Tengdamamma NaN  \n",
              "\n",
              "[887484 rows x 6 columns]"
            ],
            "text/html": [
              "\n",
              "  <div id=\"df-d452dfaf-a09e-46d8-9d41-65e0ba14e93f\">\n",
              "    <div class=\"colab-df-container\">\n",
              "      <div>\n",
              "<style scoped>\n",
              "    .dataframe tbody tr th:only-of-type {\n",
              "        vertical-align: middle;\n",
              "    }\n",
              "\n",
              "    .dataframe tbody tr th {\n",
              "        vertical-align: top;\n",
              "    }\n",
              "\n",
              "    .dataframe thead th {\n",
              "        text-align: right;\n",
              "    }\n",
              "</style>\n",
              "<table border=\"1\" class=\"dataframe\">\n",
              "  <thead>\n",
              "    <tr style=\"text-align: right;\">\n",
              "      <th></th>\n",
              "      <th>title</th>\n",
              "      <th>year</th>\n",
              "      <th>name</th>\n",
              "      <th>type</th>\n",
              "      <th>character</th>\n",
              "      <th>n</th>\n",
              "    </tr>\n",
              "  </thead>\n",
              "  <tbody>\n",
              "    <tr>\n",
              "      <th>3</th>\n",
              "      <td>Secret in Their Eyes</td>\n",
              "      <td>2015</td>\n",
              "      <td>$hutter</td>\n",
              "      <td>actor</td>\n",
              "      <td>2002 Dodger Fan</td>\n",
              "      <td>NaN</td>\n",
              "    </tr>\n",
              "    <tr>\n",
              "      <th>4</th>\n",
              "      <td>Steve Jobs</td>\n",
              "      <td>2015</td>\n",
              "      <td>$hutter</td>\n",
              "      <td>actor</td>\n",
              "      <td>1988 Opera House Patron</td>\n",
              "      <td>NaN</td>\n",
              "    </tr>\n",
              "    <tr>\n",
              "      <th>5</th>\n",
              "      <td>Straight Outta Compton</td>\n",
              "      <td>2015</td>\n",
              "      <td>$hutter</td>\n",
              "      <td>actor</td>\n",
              "      <td>Club Patron</td>\n",
              "      <td>NaN</td>\n",
              "    </tr>\n",
              "    <tr>\n",
              "      <th>6</th>\n",
              "      <td>Straight Outta Compton</td>\n",
              "      <td>2015</td>\n",
              "      <td>$hutter</td>\n",
              "      <td>actor</td>\n",
              "      <td>Dopeman</td>\n",
              "      <td>NaN</td>\n",
              "    </tr>\n",
              "    <tr>\n",
              "      <th>7</th>\n",
              "      <td>For Thy Love 2</td>\n",
              "      <td>2009</td>\n",
              "      <td>Bee Moe $lim</td>\n",
              "      <td>actor</td>\n",
              "      <td>Thug 1</td>\n",
              "      <td>NaN</td>\n",
              "    </tr>\n",
              "    <tr>\n",
              "      <th>...</th>\n",
              "      <td>...</td>\n",
              "      <td>...</td>\n",
              "      <td>...</td>\n",
              "      <td>...</td>\n",
              "      <td>...</td>\n",
              "      <td>...</td>\n",
              "    </tr>\n",
              "    <tr>\n",
              "      <th>3786159</th>\n",
              "      <td>Eldfjall</td>\n",
              "      <td>2011</td>\n",
              "      <td>Katla M. ?orgeirsd?ttir</td>\n",
              "      <td>actress</td>\n",
              "      <td>Home Nurse</td>\n",
              "      <td>NaN</td>\n",
              "    </tr>\n",
              "    <tr>\n",
              "      <th>3786160</th>\n",
              "      <td>Svanurinn</td>\n",
              "      <td>2017</td>\n",
              "      <td>Katla M. ?orgeirsd?ttir</td>\n",
              "      <td>actress</td>\n",
              "      <td>?l?f</td>\n",
              "      <td>NaN</td>\n",
              "    </tr>\n",
              "    <tr>\n",
              "      <th>3786166</th>\n",
              "      <td>Foreldrar</td>\n",
              "      <td>2007</td>\n",
              "      <td>Lilja Gu?r?n ?orvaldsd?ttir</td>\n",
              "      <td>actress</td>\n",
              "      <td>Katrin Eldri</td>\n",
              "      <td>NaN</td>\n",
              "    </tr>\n",
              "    <tr>\n",
              "      <th>3786167</th>\n",
              "      <td>Rokland</td>\n",
              "      <td>2011</td>\n",
              "      <td>Lilja Gu?r?n ?orvaldsd?ttir</td>\n",
              "      <td>actress</td>\n",
              "      <td>A?albj?rg - Dagga's Mother</td>\n",
              "      <td>NaN</td>\n",
              "    </tr>\n",
              "    <tr>\n",
              "      <th>3786168</th>\n",
              "      <td>XL</td>\n",
              "      <td>2013</td>\n",
              "      <td>Lilja Gu?r?n ?orvaldsd?ttir</td>\n",
              "      <td>actress</td>\n",
              "      <td>Tengdamamma</td>\n",
              "      <td>NaN</td>\n",
              "    </tr>\n",
              "  </tbody>\n",
              "</table>\n",
              "<p>887484 rows × 6 columns</p>\n",
              "</div>\n",
              "      <button class=\"colab-df-convert\" onclick=\"convertToInteractive('df-d452dfaf-a09e-46d8-9d41-65e0ba14e93f')\"\n",
              "              title=\"Convert this dataframe to an interactive table.\"\n",
              "              style=\"display:none;\">\n",
              "        \n",
              "  <svg xmlns=\"http://www.w3.org/2000/svg\" height=\"24px\"viewBox=\"0 0 24 24\"\n",
              "       width=\"24px\">\n",
              "    <path d=\"M0 0h24v24H0V0z\" fill=\"none\"/>\n",
              "    <path d=\"M18.56 5.44l.94 2.06.94-2.06 2.06-.94-2.06-.94-.94-2.06-.94 2.06-2.06.94zm-11 1L8.5 8.5l.94-2.06 2.06-.94-2.06-.94L8.5 2.5l-.94 2.06-2.06.94zm10 10l.94 2.06.94-2.06 2.06-.94-2.06-.94-.94-2.06-.94 2.06-2.06.94z\"/><path d=\"M17.41 7.96l-1.37-1.37c-.4-.4-.92-.59-1.43-.59-.52 0-1.04.2-1.43.59L10.3 9.45l-7.72 7.72c-.78.78-.78 2.05 0 2.83L4 21.41c.39.39.9.59 1.41.59.51 0 1.02-.2 1.41-.59l7.78-7.78 2.81-2.81c.8-.78.8-2.07 0-2.86zM5.41 20L4 18.59l7.72-7.72 1.47 1.35L5.41 20z\"/>\n",
              "  </svg>\n",
              "      </button>\n",
              "      \n",
              "  <style>\n",
              "    .colab-df-container {\n",
              "      display:flex;\n",
              "      flex-wrap:wrap;\n",
              "      gap: 12px;\n",
              "    }\n",
              "\n",
              "    .colab-df-convert {\n",
              "      background-color: #E8F0FE;\n",
              "      border: none;\n",
              "      border-radius: 50%;\n",
              "      cursor: pointer;\n",
              "      display: none;\n",
              "      fill: #1967D2;\n",
              "      height: 32px;\n",
              "      padding: 0 0 0 0;\n",
              "      width: 32px;\n",
              "    }\n",
              "\n",
              "    .colab-df-convert:hover {\n",
              "      background-color: #E2EBFA;\n",
              "      box-shadow: 0px 1px 2px rgba(60, 64, 67, 0.3), 0px 1px 3px 1px rgba(60, 64, 67, 0.15);\n",
              "      fill: #174EA6;\n",
              "    }\n",
              "\n",
              "    [theme=dark] .colab-df-convert {\n",
              "      background-color: #3B4455;\n",
              "      fill: #D2E3FC;\n",
              "    }\n",
              "\n",
              "    [theme=dark] .colab-df-convert:hover {\n",
              "      background-color: #434B5C;\n",
              "      box-shadow: 0px 1px 3px 1px rgba(0, 0, 0, 0.15);\n",
              "      filter: drop-shadow(0px 1px 2px rgba(0, 0, 0, 0.3));\n",
              "      fill: #FFFFFF;\n",
              "    }\n",
              "  </style>\n",
              "\n",
              "      <script>\n",
              "        const buttonEl =\n",
              "          document.querySelector('#df-d452dfaf-a09e-46d8-9d41-65e0ba14e93f button.colab-df-convert');\n",
              "        buttonEl.style.display =\n",
              "          google.colab.kernel.accessAllowed ? 'block' : 'none';\n",
              "\n",
              "        async function convertToInteractive(key) {\n",
              "          const element = document.querySelector('#df-d452dfaf-a09e-46d8-9d41-65e0ba14e93f');\n",
              "          const dataTable =\n",
              "            await google.colab.kernel.invokeFunction('convertToInteractive',\n",
              "                                                     [key], {});\n",
              "          if (!dataTable) return;\n",
              "\n",
              "          const docLinkHtml = 'Like what you see? Visit the ' +\n",
              "            '<a target=\"_blank\" href=https://colab.research.google.com/notebooks/data_table.ipynb>data table notebook</a>'\n",
              "            + ' to learn more about interactive tables.';\n",
              "          element.innerHTML = '';\n",
              "          dataTable['output_type'] = 'display_data';\n",
              "          await google.colab.output.renderOutput(dataTable, element);\n",
              "          const docLink = document.createElement('div');\n",
              "          docLink.innerHTML = docLinkHtml;\n",
              "          element.appendChild(docLink);\n",
              "        }\n",
              "      </script>\n",
              "    </div>\n",
              "  </div>\n",
              "  "
            ]
          },
          "metadata": {},
          "execution_count": 36
        }
      ],
      "source": [
        "## (B) List the total number of non-leading roles available from 2000 - present (exclude support cast)\n",
        "# len( cast[(cast.n=='NaN') & (cast.year>=2000) ]  )\n",
        "cast[(cast.year>=2000) & ~(cast.n>=0)]"
      ]
    },
    {
      "cell_type": "code",
      "execution_count": null,
      "metadata": {
        "id": "Z8V1WqbFNsoq",
        "colab": {
          "base_uri": "https://localhost:8080/"
        },
        "outputId": "c840f831-73c5-4838-e747-ea3d188d0b2f"
      },
      "outputs": [
        {
          "output_type": "execute_result",
          "data": {
            "text/plain": [
              "title             0\n",
              "year              0\n",
              "name              0\n",
              "type              0\n",
              "character         0\n",
              "n            887484\n",
              "dtype: int64"
            ]
          },
          "metadata": {},
          "execution_count": 37
        }
      ],
      "source": [
        "## (C) List the total number of support\\extra-credit roles available from 2000 - present\n",
        "cast[cast.year>=2000].isnull().sum()"
      ]
    },
    {
      "cell_type": "markdown",
      "metadata": {
        "id": "mINaD26gNsoq"
      },
      "source": [
        "# Section II - Aggregations, Transformations and Visualizations"
      ]
    },
    {
      "cell_type": "markdown",
      "metadata": {
        "id": "U3GedsYKNsoq"
      },
      "source": [
        "## What are the top ten most common movie names of all time?\n"
      ]
    },
    {
      "cell_type": "code",
      "execution_count": null,
      "metadata": {
        "colab": {
          "base_uri": "https://localhost:8080/"
        },
        "id": "aeMvkcaMNsoq",
        "outputId": "fc4c939d-c8dd-4c88-dd11-9e7186e68e4c"
      },
      "outputs": [
        {
          "output_type": "stream",
          "name": "stdout",
          "text": [
            "Hamlet                  20\n",
            "Carmen                  17\n",
            "Macbeth                 16\n",
            "Maya                    12\n",
            "Temptation              12\n",
            "The Outsider            12\n",
            "Freedom                 11\n",
            "The Three Musketeers    11\n",
            "Honeymoon               11\n",
            "Othello                 11\n",
            "Name: title, dtype: int64\n",
            "<class 'pandas.core.series.Series'>\n"
          ]
        }
      ],
      "source": [
        "top_ten = movies.title.value_counts()[:10]\n",
        "print( top_ten )\n",
        "print( type(top_ten) )"
      ]
    },
    {
      "cell_type": "markdown",
      "metadata": {
        "id": "77XUJN6-Nsoq"
      },
      "source": [
        "### Plot the top ten common movie names of all time"
      ]
    },
    {
      "cell_type": "code",
      "execution_count": null,
      "metadata": {
        "colab": {
          "base_uri": "https://localhost:8080/",
          "height": 282
        },
        "id": "EGQxD1XINsoq",
        "outputId": "eecafdba-8bf1-4309-b225-24bd2efebe66"
      },
      "outputs": [
        {
          "output_type": "execute_result",
          "data": {
            "text/plain": [
              "<matplotlib.axes._subplots.AxesSubplot at 0x7f7df8727d10>"
            ]
          },
          "metadata": {},
          "execution_count": 39
        },
        {
          "output_type": "display_data",
          "data": {
            "text/plain": [
              "<Figure size 432x288 with 1 Axes>"
            ],
            "image/png": "[encoded data removed]"
          },
          "metadata": {
            "needs_background": "light"
          }
        }
      ],
      "source": [
        "top_ten.plot(kind='barh')"
      ]
    },
    {
      "cell_type": "markdown",
      "metadata": {
        "id": "pOhHXekPNsoq"
      },
      "source": [
        "### Section II - Q1:  Which years in the 2000s saw the most movies released? (Show top 3)"
      ]
    },
    {
      "cell_type": "code",
      "source": [
        "release_dates.head()"
      ],
      "metadata": {
        "colab": {
          "base_uri": "https://localhost:8080/",
          "height": 206
        },
        "id": "vKe_gHW8aL40",
        "outputId": "f55de901-bed5-4c83-93ea-b01a79e32154"
      },
      "execution_count": null,
      "outputs": [
        {
          "output_type": "execute_result",
          "data": {
            "text/plain": [
              "                    title  year      country       date\n",
              "0   #73, Shaanthi Nivaasa  2007        India 2007-06-15\n",
              "1                   #BKKY  2016     Cambodia 2017-10-12\n",
              "2                 #Beings  2015      Romania 2015-01-29\n",
              "3               #Captured  2017          USA 2017-09-05\n",
              "4  #Ewankosau saranghaeyo  2015  Philippines 2015-01-21"
            ],
            "text/html": [
              "\n",
              "  <div id=\"df-91873eec-77b4-4dda-8645-841d315d7581\">\n",
              "    <div class=\"colab-df-container\">\n",
              "      <div>\n",
              "<style scoped>\n",
              "    .dataframe tbody tr th:only-of-type {\n",
              "        vertical-align: middle;\n",
              "    }\n",
              "\n",
              "    .dataframe tbody tr th {\n",
              "        vertical-align: top;\n",
              "    }\n",
              "\n",
              "    .dataframe thead th {\n",
              "        text-align: right;\n",
              "    }\n",
              "</style>\n",
              "<table border=\"1\" class=\"dataframe\">\n",
              "  <thead>\n",
              "    <tr style=\"text-align: right;\">\n",
              "      <th></th>\n",
              "      <th>title</th>\n",
              "      <th>year</th>\n",
              "      <th>country</th>\n",
              "      <th>date</th>\n",
              "    </tr>\n",
              "  </thead>\n",
              "  <tbody>\n",
              "    <tr>\n",
              "      <th>0</th>\n",
              "      <td>#73, Shaanthi Nivaasa</td>\n",
              "      <td>2007</td>\n",
              "      <td>India</td>\n",
              "      <td>2007-06-15</td>\n",
              "    </tr>\n",
              "    <tr>\n",
              "      <th>1</th>\n",
              "      <td>#BKKY</td>\n",
              "      <td>2016</td>\n",
              "      <td>Cambodia</td>\n",
              "      <td>2017-10-12</td>\n",
              "    </tr>\n",
              "    <tr>\n",
              "      <th>2</th>\n",
              "      <td>#Beings</td>\n",
              "      <td>2015</td>\n",
              "      <td>Romania</td>\n",
              "      <td>2015-01-29</td>\n",
              "    </tr>\n",
              "    <tr>\n",
              "      <th>3</th>\n",
              "      <td>#Captured</td>\n",
              "      <td>2017</td>\n",
              "      <td>USA</td>\n",
              "      <td>2017-09-05</td>\n",
              "    </tr>\n",
              "    <tr>\n",
              "      <th>4</th>\n",
              "      <td>#Ewankosau saranghaeyo</td>\n",
              "      <td>2015</td>\n",
              "      <td>Philippines</td>\n",
              "      <td>2015-01-21</td>\n",
              "    </tr>\n",
              "  </tbody>\n",
              "</table>\n",
              "</div>\n",
              "      <button class=\"colab-df-convert\" onclick=\"convertToInteractive('df-91873eec-77b4-4dda-8645-841d315d7581')\"\n",
              "              title=\"Convert this dataframe to an interactive table.\"\n",
              "              style=\"display:none;\">\n",
              "        \n",
              "  <svg xmlns=\"http://www.w3.org/2000/svg\" height=\"24px\"viewBox=\"0 0 24 24\"\n",
              "       width=\"24px\">\n",
              "    <path d=\"M0 0h24v24H0V0z\" fill=\"none\"/>\n",
              "    <path d=\"M18.56 5.44l.94 2.06.94-2.06 2.06-.94-2.06-.94-.94-2.06-.94 2.06-2.06.94zm-11 1L8.5 8.5l.94-2.06 2.06-.94-2.06-.94L8.5 2.5l-.94 2.06-2.06.94zm10 10l.94 2.06.94-2.06 2.06-.94-2.06-.94-.94-2.06-.94 2.06-2.06.94z\"/><path d=\"M17.41 7.96l-1.37-1.37c-.4-.4-.92-.59-1.43-.59-.52 0-1.04.2-1.43.59L10.3 9.45l-7.72 7.72c-.78.78-.78 2.05 0 2.83L4 21.41c.39.39.9.59 1.41.59.51 0 1.02-.2 1.41-.59l7.78-7.78 2.81-2.81c.8-.78.8-2.07 0-2.86zM5.41 20L4 18.59l7.72-7.72 1.47 1.35L5.41 20z\"/>\n",
              "  </svg>\n",
              "      </button>\n",
              "      \n",
              "  <style>\n",
              "    .colab-df-container {\n",
              "      display:flex;\n",
              "      flex-wrap:wrap;\n",
              "      gap: 12px;\n",
              "    }\n",
              "\n",
              "    .colab-df-convert {\n",
              "      background-color: #E8F0FE;\n",
              "      border: none;\n",
              "      border-radius: 50%;\n",
              "      cursor: pointer;\n",
              "      display: none;\n",
              "      fill: #1967D2;\n",
              "      height: 32px;\n",
              "      padding: 0 0 0 0;\n",
              "      width: 32px;\n",
              "    }\n",
              "\n",
              "    .colab-df-convert:hover {\n",
              "      background-color: #E2EBFA;\n",
              "      box-shadow: 0px 1px 2px rgba(60, 64, 67, 0.3), 0px 1px 3px 1px rgba(60, 64, 67, 0.15);\n",
              "      fill: #174EA6;\n",
              "    }\n",
              "\n",
              "    [theme=dark] .colab-df-convert {\n",
              "      background-color: #3B4455;\n",
              "      fill: #D2E3FC;\n",
              "    }\n",
              "\n",
              "    [theme=dark] .colab-df-convert:hover {\n",
              "      background-color: #434B5C;\n",
              "      box-shadow: 0px 1px 3px 1px rgba(0, 0, 0, 0.15);\n",
              "      filter: drop-shadow(0px 1px 2px rgba(0, 0, 0, 0.3));\n",
              "      fill: #FFFFFF;\n",
              "    }\n",
              "  </style>\n",
              "\n",
              "      <script>\n",
              "        const buttonEl =\n",
              "          document.querySelector('#df-91873eec-77b4-4dda-8645-841d315d7581 button.colab-df-convert');\n",
              "        buttonEl.style.display =\n",
              "          google.colab.kernel.accessAllowed ? 'block' : 'none';\n",
              "\n",
              "        async function convertToInteractive(key) {\n",
              "          const element = document.querySelector('#df-91873eec-77b4-4dda-8645-841d315d7581');\n",
              "          const dataTable =\n",
              "            await google.colab.kernel.invokeFunction('convertToInteractive',\n",
              "                                                     [key], {});\n",
              "          if (!dataTable) return;\n",
              "\n",
              "          const docLinkHtml = 'Like what you see? Visit the ' +\n",
              "            '<a target=\"_blank\" href=https://colab.research.google.com/notebooks/data_table.ipynb>data table notebook</a>'\n",
              "            + ' to learn more about interactive tables.';\n",
              "          element.innerHTML = '';\n",
              "          dataTable['output_type'] = 'display_data';\n",
              "          await google.colab.output.renderOutput(dataTable, element);\n",
              "          const docLink = document.createElement('div');\n",
              "          docLink.innerHTML = docLinkHtml;\n",
              "          element.appendChild(docLink);\n",
              "        }\n",
              "      </script>\n",
              "    </div>\n",
              "  </div>\n",
              "  "
            ]
          },
          "metadata": {},
          "execution_count": 40
        }
      ]
    },
    {
      "cell_type": "code",
      "execution_count": null,
      "metadata": {
        "id": "ez3zbxEENsoq",
        "colab": {
          "base_uri": "https://localhost:8080/"
        },
        "outputId": "f779cac8-45f4-4c3b-b78b-cf7004e4e10b"
      },
      "outputs": [
        {
          "output_type": "stream",
          "name": "stdout",
          "text": [
            "2016    17548\n",
            "2014    17519\n",
            "2015    16639\n",
            "Name: year, dtype: int64\n"
          ]
        }
      ],
      "source": [
        "most_release = release_dates.year.value_counts()[:3]\n",
        "print(most_release)"
      ]
    },
    {
      "cell_type": "markdown",
      "metadata": {
        "id": "1iuKW1zINsoq"
      },
      "source": [
        "### Section II - Q2: # Plot the total number of films released per-decade (1890, 1900, 1910,....)\n",
        "- Hint: Dividing the year and multiplying with a number might give you the decade the year falls into!\n",
        "- You might need to sort before plotting"
      ]
    },
    {
      "cell_type": "code",
      "execution_count": null,
      "metadata": {
        "id": "EA40li1cNsoq",
        "colab": {
          "base_uri": "https://localhost:8080/"
        },
        "outputId": "7c5ba84a-8a19-4b3b-ac48-ba094b6de682"
      },
      "outputs": [
        {
          "output_type": "stream",
          "name": "stdout",
          "text": [
            "         movies\n",
            "year           \n",
            "1890       1894\n",
            "1900      26708\n",
            "1910   12416090\n",
            "1920   26333251\n",
            "1930   46364648\n",
            "1940   46258251\n",
            "1950   62430579\n",
            "1960   63990500\n",
            "1970   63529195\n",
            "1980   71920525\n",
            "1990  103483190\n",
            "2000  204608300\n",
            "2010  250937407\n",
            "2020     212142\n",
            "2110       2115\n"
          ]
        }
      ],
      "source": [
        "# df.groupby((df.index.year//10)*10).sum()\n",
        "release_decade = release_dates.groupby( (release_dates.year//10)*10 ).sum()\n",
        "release_decade.rename(columns={'year': 'movies'}, inplace=True)\n",
        "print(release_decade)"
      ]
    },
    {
      "cell_type": "code",
      "source": [
        "release_decade.plot(kind='barh')"
      ],
      "metadata": {
        "colab": {
          "base_uri": "https://localhost:8080/",
          "height": 295
        },
        "id": "C4utckRibwXS",
        "outputId": "d86d64f1-7b45-4b0e-8132-73109dd10897"
      },
      "execution_count": null,
      "outputs": [
        {
          "output_type": "execute_result",
          "data": {
            "text/plain": [
              "<matplotlib.axes._subplots.AxesSubplot at 0x7f7df8b23e90>"
            ]
          },
          "metadata": {},
          "execution_count": 43
        },
        {
          "output_type": "display_data",
          "data": {
            "text/plain": [
              "<Figure size 432x288 with 1 Axes>"
            ],
            "image/png": "[encoded data removed]"
          },
          "metadata": {
            "needs_background": "light"
          }
        }
      ]
    },
    {
      "cell_type": "markdown",
      "metadata": {
        "id": "nPoVfQwMNsoq"
      },
      "source": [
        "### Section II - Q3: top 10 people\n",
        "\n",
        "(A) What are the top 10 most common character names in movie history?\n",
        "\n",
        "(B) Who are the top 10 people most often credited as \"Herself\" in movie history?\n",
        "\n",
        "(C) Who are the top 10 people most often credited as \"Himself\" in movie history?"
      ]
    },
    {
      "cell_type": "code",
      "source": [
        "cast.head(10)"
      ],
      "metadata": {
        "colab": {
          "base_uri": "https://localhost:8080/",
          "height": 442
        },
        "id": "7ILr1HxCd7ZM",
        "outputId": "46b29e9b-a100-4d9e-8b9d-7d713785c9ce"
      },
      "execution_count": null,
      "outputs": [
        {
          "output_type": "execute_result",
          "data": {
            "text/plain": [
              "                                               title  year  \\\n",
              "0                                     Closet Monster  2015   \n",
              "1                                    Suuri illusioni  1985   \n",
              "2                                Battle of the Sexes  2017   \n",
              "3                               Secret in Their Eyes  2015   \n",
              "4                                         Steve Jobs  2015   \n",
              "5                             Straight Outta Compton  2015   \n",
              "6                             Straight Outta Compton  2015   \n",
              "7                                     For Thy Love 2  2009   \n",
              "8  Lapis, Ballpen at Diploma, a True to Life Journey  2014   \n",
              "9                                       Desire (III)  2014   \n",
              "\n",
              "                        name   type                               character  \\\n",
              "0                   Buffy #1  actor                                 Buffy 4   \n",
              "1                     Homo $  actor                                  Guests   \n",
              "2                    $hutter  actor                         Bobby Riggs Fan   \n",
              "3                    $hutter  actor                         2002 Dodger Fan   \n",
              "4                    $hutter  actor                 1988 Opera House Patron   \n",
              "5                    $hutter  actor                             Club Patron   \n",
              "6                    $hutter  actor                                 Dopeman   \n",
              "7               Bee Moe $lim  actor                                  Thug 1   \n",
              "8  Jori ' Danilo' Jurado Jr.  actor                           Jaime (young)   \n",
              "9           Syaiful 'Ariffin  actor  Actor Playing Eteocles from 'Antigone'   \n",
              "\n",
              "      n  \n",
              "0  31.0  \n",
              "1  22.0  \n",
              "2  10.0  \n",
              "3   NaN  \n",
              "4   NaN  \n",
              "5   NaN  \n",
              "6   NaN  \n",
              "7   NaN  \n",
              "8   9.0  \n",
              "9   NaN  "
            ],
            "text/html": [
              "\n",
              "  <div id=\"df-77a4ad04-9e68-495e-bf89-82aa446f1363\">\n",
              "    <div class=\"colab-df-container\">\n",
              "      <div>\n",
              "<style scoped>\n",
              "    .dataframe tbody tr th:only-of-type {\n",
              "        vertical-align: middle;\n",
              "    }\n",
              "\n",
              "    .dataframe tbody tr th {\n",
              "        vertical-align: top;\n",
              "    }\n",
              "\n",
              "    .dataframe thead th {\n",
              "        text-align: right;\n",
              "    }\n",
              "</style>\n",
              "<table border=\"1\" class=\"dataframe\">\n",
              "  <thead>\n",
              "    <tr style=\"text-align: right;\">\n",
              "      <th></th>\n",
              "      <th>title</th>\n",
              "      <th>year</th>\n",
              "      <th>name</th>\n",
              "      <th>type</th>\n",
              "      <th>character</th>\n",
              "      <th>n</th>\n",
              "    </tr>\n",
              "  </thead>\n",
              "  <tbody>\n",
              "    <tr>\n",
              "      <th>0</th>\n",
              "      <td>Closet Monster</td>\n",
              "      <td>2015</td>\n",
              "      <td>Buffy #1</td>\n",
              "      <td>actor</td>\n",
              "      <td>Buffy 4</td>\n",
              "      <td>31.0</td>\n",
              "    </tr>\n",
              "    <tr>\n",
              "      <th>1</th>\n",
              "      <td>Suuri illusioni</td>\n",
              "      <td>1985</td>\n",
              "      <td>Homo $</td>\n",
              "      <td>actor</td>\n",
              "      <td>Guests</td>\n",
              "      <td>22.0</td>\n",
              "    </tr>\n",
              "    <tr>\n",
              "      <th>2</th>\n",
              "      <td>Battle of the Sexes</td>\n",
              "      <td>2017</td>\n",
              "      <td>$hutter</td>\n",
              "      <td>actor</td>\n",
              "      <td>Bobby Riggs Fan</td>\n",
              "      <td>10.0</td>\n",
              "    </tr>\n",
              "    <tr>\n",
              "      <th>3</th>\n",
              "      <td>Secret in Their Eyes</td>\n",
              "      <td>2015</td>\n",
              "      <td>$hutter</td>\n",
              "      <td>actor</td>\n",
              "      <td>2002 Dodger Fan</td>\n",
              "      <td>NaN</td>\n",
              "    </tr>\n",
              "    <tr>\n",
              "      <th>4</th>\n",
              "      <td>Steve Jobs</td>\n",
              "      <td>2015</td>\n",
              "      <td>$hutter</td>\n",
              "      <td>actor</td>\n",
              "      <td>1988 Opera House Patron</td>\n",
              "      <td>NaN</td>\n",
              "    </tr>\n",
              "    <tr>\n",
              "      <th>5</th>\n",
              "      <td>Straight Outta Compton</td>\n",
              "      <td>2015</td>\n",
              "      <td>$hutter</td>\n",
              "      <td>actor</td>\n",
              "      <td>Club Patron</td>\n",
              "      <td>NaN</td>\n",
              "    </tr>\n",
              "    <tr>\n",
              "      <th>6</th>\n",
              "      <td>Straight Outta Compton</td>\n",
              "      <td>2015</td>\n",
              "      <td>$hutter</td>\n",
              "      <td>actor</td>\n",
              "      <td>Dopeman</td>\n",
              "      <td>NaN</td>\n",
              "    </tr>\n",
              "    <tr>\n",
              "      <th>7</th>\n",
              "      <td>For Thy Love 2</td>\n",
              "      <td>2009</td>\n",
              "      <td>Bee Moe $lim</td>\n",
              "      <td>actor</td>\n",
              "      <td>Thug 1</td>\n",
              "      <td>NaN</td>\n",
              "    </tr>\n",
              "    <tr>\n",
              "      <th>8</th>\n",
              "      <td>Lapis, Ballpen at Diploma, a True to Life Journey</td>\n",
              "      <td>2014</td>\n",
              "      <td>Jori ' Danilo' Jurado Jr.</td>\n",
              "      <td>actor</td>\n",
              "      <td>Jaime (young)</td>\n",
              "      <td>9.0</td>\n",
              "    </tr>\n",
              "    <tr>\n",
              "      <th>9</th>\n",
              "      <td>Desire (III)</td>\n",
              "      <td>2014</td>\n",
              "      <td>Syaiful 'Ariffin</td>\n",
              "      <td>actor</td>\n",
              "      <td>Actor Playing Eteocles from 'Antigone'</td>\n",
              "      <td>NaN</td>\n",
              "    </tr>\n",
              "  </tbody>\n",
              "</table>\n",
              "</div>\n",
              "      <button class=\"colab-df-convert\" onclick=\"convertToInteractive('df-77a4ad04-9e68-495e-bf89-82aa446f1363')\"\n",
              "              title=\"Convert this dataframe to an interactive table.\"\n",
              "              style=\"display:none;\">\n",
              "        \n",
              "  <svg xmlns=\"http://www.w3.org/2000/svg\" height=\"24px\"viewBox=\"0 0 24 24\"\n",
              "       width=\"24px\">\n",
              "    <path d=\"M0 0h24v24H0V0z\" fill=\"none\"/>\n",
              "    <path d=\"M18.56 5.44l.94 2.06.94-2.06 2.06-.94-2.06-.94-.94-2.06-.94 2.06-2.06.94zm-11 1L8.5 8.5l.94-2.06 2.06-.94-2.06-.94L8.5 2.5l-.94 2.06-2.06.94zm10 10l.94 2.06.94-2.06 2.06-.94-2.06-.94-.94-2.06-.94 2.06-2.06.94z\"/><path d=\"M17.41 7.96l-1.37-1.37c-.4-.4-.92-.59-1.43-.59-.52 0-1.04.2-1.43.59L10.3 9.45l-7.72 7.72c-.78.78-.78 2.05 0 2.83L4 21.41c.39.39.9.59 1.41.59.51 0 1.02-.2 1.41-.59l7.78-7.78 2.81-2.81c.8-.78.8-2.07 0-2.86zM5.41 20L4 18.59l7.72-7.72 1.47 1.35L5.41 20z\"/>\n",
              "  </svg>\n",
              "      </button>\n",
              "      \n",
              "  <style>\n",
              "    .colab-df-container {\n",
              "      display:flex;\n",
              "      flex-wrap:wrap;\n",
              "      gap: 12px;\n",
              "    }\n",
              "\n",
              "    .colab-df-convert {\n",
              "      background-color: #E8F0FE;\n",
              "      border: none;\n",
              "      border-radius: 50%;\n",
              "      cursor: pointer;\n",
              "      display: none;\n",
              "      fill: #1967D2;\n",
              "      height: 32px;\n",
              "      padding: 0 0 0 0;\n",
              "      width: 32px;\n",
              "    }\n",
              "\n",
              "    .colab-df-convert:hover {\n",
              "      background-color: #E2EBFA;\n",
              "      box-shadow: 0px 1px 2px rgba(60, 64, 67, 0.3), 0px 1px 3px 1px rgba(60, 64, 67, 0.15);\n",
              "      fill: #174EA6;\n",
              "    }\n",
              "\n",
              "    [theme=dark] .colab-df-convert {\n",
              "      background-color: #3B4455;\n",
              "      fill: #D2E3FC;\n",
              "    }\n",
              "\n",
              "    [theme=dark] .colab-df-convert:hover {\n",
              "      background-color: #434B5C;\n",
              "      box-shadow: 0px 1px 3px 1px rgba(0, 0, 0, 0.15);\n",
              "      filter: drop-shadow(0px 1px 2px rgba(0, 0, 0, 0.3));\n",
              "      fill: #FFFFFF;\n",
              "    }\n",
              "  </style>\n",
              "\n",
              "      <script>\n",
              "        const buttonEl =\n",
              "          document.querySelector('#df-77a4ad04-9e68-495e-bf89-82aa446f1363 button.colab-df-convert');\n",
              "        buttonEl.style.display =\n",
              "          google.colab.kernel.accessAllowed ? 'block' : 'none';\n",
              "\n",
              "        async function convertToInteractive(key) {\n",
              "          const element = document.querySelector('#df-77a4ad04-9e68-495e-bf89-82aa446f1363');\n",
              "          const dataTable =\n",
              "            await google.colab.kernel.invokeFunction('convertToInteractive',\n",
              "                                                     [key], {});\n",
              "          if (!dataTable) return;\n",
              "\n",
              "          const docLinkHtml = 'Like what you see? Visit the ' +\n",
              "            '<a target=\"_blank\" href=https://colab.research.google.com/notebooks/data_table.ipynb>data table notebook</a>'\n",
              "            + ' to learn more about interactive tables.';\n",
              "          element.innerHTML = '';\n",
              "          dataTable['output_type'] = 'display_data';\n",
              "          await google.colab.output.renderOutput(dataTable, element);\n",
              "          const docLink = document.createElement('div');\n",
              "          docLink.innerHTML = docLinkHtml;\n",
              "          element.appendChild(docLink);\n",
              "        }\n",
              "      </script>\n",
              "    </div>\n",
              "  </div>\n",
              "  "
            ]
          },
          "metadata": {},
          "execution_count": 44
        }
      ]
    },
    {
      "cell_type": "code",
      "execution_count": null,
      "metadata": {
        "id": "Ro0Mw3L-Nsoq",
        "colab": {
          "base_uri": "https://localhost:8080/"
        },
        "outputId": "ef0a8d19-1f70-4ab8-ee3e-a1c3c3d57104"
      },
      "outputs": [
        {
          "output_type": "execute_result",
          "data": {
            "text/plain": [
              "Himself        20746\n",
              "Dancer         12477\n",
              "Extra          11948\n",
              "Reporter        8434\n",
              "Student         7773\n",
              "Doctor          7669\n",
              "Party Guest     7245\n",
              "Policeman       7029\n",
              "Nurse           6999\n",
              "Bartender       6802\n",
              "Name: character, dtype: int64"
            ]
          },
          "metadata": {},
          "execution_count": 45
        }
      ],
      "source": [
        "## (A) What are the top 10 most common character names in movie history?\n",
        "cast.character.value_counts().iloc[:10]\n",
        "# cast.character.sort_values().iloc[:10]\n"
      ]
    },
    {
      "cell_type": "code",
      "execution_count": null,
      "metadata": {
        "id": "45TtISEvNsoq",
        "colab": {
          "base_uri": "https://localhost:8080/"
        },
        "outputId": "4f4220f6-f7eb-4f16-dca0-398107b636aa"
      },
      "outputs": [
        {
          "output_type": "stream",
          "name": "stdout",
          "text": [
            "                                   title  year                   name  \\\n",
            "119017                Alexander Jamieson  2017             Etta Baker   \n",
            "199920               Le fils de Gascogne  1995            Ren? Biaggi   \n",
            "212911              Forty Shades of Blue  2005           J. Blackfoot   \n",
            "213254                Wienfilm 1896-1976  1976        Moucle Blackout   \n",
            "231656               Not Another B Movie  2010      Babette Bombshell   \n",
            "...                                  ...   ...                    ...   \n",
            "3784856                 Vivir en Sevilla  1978   Beatriz (VI) ?lvarez   \n",
            "3784975           Torres Quevedo: Vol. 2  2016  Patricia (XI) ?lvarez   \n",
            "3784991                  Bendito Canalla  2008       Serafina ?lvarez   \n",
            "3785503  Nora-neko rokku: Mashin animaru  1970             Tomoko ?ta   \n",
            "3786139            6th NAFCA Annual Show  2017           Preity ?pala   \n",
            "\n",
            "            type            character      n  \n",
            "119017     actor              Herself    NaN  \n",
            "199920     actor              Herself   22.0  \n",
            "212911     actor              Herself    7.0  \n",
            "213254     actor              Herself    NaN  \n",
            "231656     actor              Herself   19.0  \n",
            "...          ...                  ...    ...  \n",
            "3784856  actress              Herself    NaN  \n",
            "3784975  actress              Herself  204.0  \n",
            "3784991  actress              Herself    NaN  \n",
            "3785503  actress     Herself - Singer   23.0  \n",
            "3786139  actress  Herself - Presenter    NaN  \n",
            "\n",
            "[8170 rows x 6 columns]\n"
          ]
        }
      ],
      "source": [
        "## (B) Who are the top 10 people most often credited as \"Herself\" in movie history?\n",
        "herself = cast[cast.character.str.contains('Herself', case=False)]\n",
        "print(herself)"
      ]
    },
    {
      "cell_type": "code",
      "source": [
        "herself.name.value_counts().iloc[:10]"
      ],
      "metadata": {
        "colab": {
          "base_uri": "https://localhost:8080/"
        },
        "id": "Ck5_9B1fe8zo",
        "outputId": "9cbb568a-511e-46af-9ff4-3c1ff287438f"
      },
      "execution_count": null,
      "outputs": [
        {
          "output_type": "execute_result",
          "data": {
            "text/plain": [
              "Queen Elizabeth II                  18\n",
              "Jacqueline Kennedy                  12\n",
              "Margaret Thatcher                   10\n",
              "Joyce Brothers                      10\n",
              "Hillary Clinton                      9\n",
              "Mar?a Luisa (V) Mart?n               9\n",
              "Luisa Horga                          9\n",
              "Pat Nixon                            8\n",
              "Caroline Kennedy                     7\n",
              "Queen Elizabeth the Queen Mother     7\n",
              "Name: name, dtype: int64"
            ]
          },
          "metadata": {},
          "execution_count": 47
        }
      ]
    },
    {
      "cell_type": "code",
      "execution_count": null,
      "metadata": {
        "id": "99rW57OlNsoq",
        "colab": {
          "base_uri": "https://localhost:8080/"
        },
        "outputId": "717cf017-479e-4667-a277-b86130d81d7b"
      },
      "outputs": [
        {
          "output_type": "stream",
          "name": "stdout",
          "text": [
            "                                                     title  year  \\\n",
            "35                Been Down So Long It Looks Like Up to Me  1971   \n",
            "36                                  I Wanna Hold Your Hand  1978   \n",
            "55                                              Whitefolks  2017   \n",
            "96                                    Love Hollywood Style  2006   \n",
            "100                                    Malibu Horror Story  2018   \n",
            "...                                                    ...   ...   \n",
            "3711437                                        Change (IV)  2014   \n",
            "3724425                     The Last Days of Edgar Harding  2011   \n",
            "3729299  The Ghost Hunting TV Talk Show: Paranormal TV ...  2015   \n",
            "3768548                  Head Cheerleader Dead Cheerleader  2000   \n",
            "3785860                                        Pamuk Prens  2016   \n",
            "\n",
            "                                          name     type  \\\n",
            "35                              Murray the 'K'    actor   \n",
            "36                              Murray the 'K'    actor   \n",
            "55       Darryel 'Original Whitefolks' Woodson    actor   \n",
            "96                                      Mac 10    actor   \n",
            "100                                12th Planet    actor   \n",
            "...                                        ...      ...   \n",
            "3711437                           B?ra V?vrov?  actress   \n",
            "3724425                          Sarah Wassall  actress   \n",
            "3729299                        Katrina Weidman  actress   \n",
            "3768548                                   Yeti  actress   \n",
            "3785860                            Bet?l ?zen?  actress   \n",
            "\n",
            "                          character     n  \n",
            "35                          Himself   NaN  \n",
            "36                          Himself  48.0  \n",
            "55                          Himself  14.0  \n",
            "96                          Himself   NaN  \n",
            "100                         Himself  21.0  \n",
            "...                             ...   ...  \n",
            "3711437                     Himself   NaN  \n",
            "3724425            Himself - Vocals  27.0  \n",
            "3729299  Himself - Paranormal State   4.0  \n",
            "3768548                     Himself  31.0  \n",
            "3785860                     Himself  16.0  \n",
            "\n",
            "[25604 rows x 6 columns]\n"
          ]
        }
      ],
      "source": [
        "## (C) Who are the top 10 people most often credited as \"Himself\" in movie history?\n",
        "himself = cast[cast.character.str.contains('Himself', case=False)]\n",
        "print(himself)"
      ]
    },
    {
      "cell_type": "code",
      "source": [
        "himself.name.value_counts().iloc[:10]"
      ],
      "metadata": {
        "colab": {
          "base_uri": "https://localhost:8080/"
        },
        "id": "AZr29FQLfX4r",
        "outputId": "73376c1d-c59f-4591-fe5f-801bd515ffd7"
      },
      "execution_count": null,
      "outputs": [
        {
          "output_type": "execute_result",
          "data": {
            "text/plain": [
              "Adolf Hitler             115\n",
              "Richard Nixon             54\n",
              "John F. Kennedy           49\n",
              "Ronald Reagan             46\n",
              "George W. Bush            28\n",
              "Winston Churchill         28\n",
              "Martin Luther King        26\n",
              "Benito Mussolini          26\n",
              "Franklin D. Roosevelt     25\n",
              "Bill Clinton              23\n",
              "Name: name, dtype: int64"
            ]
          },
          "metadata": {},
          "execution_count": 49
        }
      ]
    },
    {
      "cell_type": "markdown",
      "metadata": {
        "id": "6lPT6JVdNsoq"
      },
      "source": [
        "### Section II - Q4: top 10 most frequent\n",
        "\n",
        "(A) What are the top 10 most frequent roles that start with the word \"Zombie\"?\n",
        "\n",
        "(B) What are the top 10 most frequent roles that start with the word \"Police\"?\n",
        "\n",
        "- Hint: The `startswith()` function might be useful"
      ]
    },
    {
      "cell_type": "code",
      "execution_count": null,
      "metadata": {
        "id": "cvPvCWgfNsor",
        "colab": {
          "base_uri": "https://localhost:8080/"
        },
        "outputId": "5667b184-a232-454f-e812-ad26cce1a527"
      },
      "outputs": [
        {
          "output_type": "stream",
          "name": "stdout",
          "text": [
            "title                               year  name                      type     character                                         n    \n",
            "13 Terrors: An Omnibus Horror Film  2017  Richard (II) Garza        actor    Zombie Partygoer (segment \"Pretend You're Dead\")  46.0     1\n",
            "The Eschatrilogy: Book of the Dead  2012  Beth Evers                actor    Zombie                                            192.0    1\n",
            "                                          Angharad Backhouse-Jones  actress  Zombie                                            56.0     1\n",
            "                                          Anna Guest                actress  Zombie                                            226.0    1\n",
            "                                          Anne Derbyshire           actress  Zombie                                            174.0    1\n",
            "                                          Bart Wojtyla              actor    Zombie                                            495.0    1\n",
            "                                          Ben (VII) Carter          actor    Zombie                                            123.0    1\n",
            "                                          Ben (XXIV) Lewis          actor    Zombie                                            298.0    1\n",
            "                                          Ben Haines                actor    Zombie                                            232.0    1\n",
            "                                          Beth Emson                actress  Zombie                                            190.0    1\n",
            "dtype: int64\n"
          ]
        }
      ],
      "source": [
        "## (A) What are the top 10 most frequent roles that start with the word \"Zombie\"?\n",
        "# zb_df = cast[cast.character.str.startswith('Zombie')].sort_values().iloc[:10]\n",
        "zb_df = cast[cast.character.str.startswith('Zombie')].value_counts().iloc[:10]\n",
        "print(zb_df)"
      ]
    },
    {
      "cell_type": "code",
      "execution_count": null,
      "metadata": {
        "id": "qVsXXWuiNsor",
        "colab": {
          "base_uri": "https://localhost:8080/"
        },
        "outputId": "394e19e0-c1f7-4a86-af96-7c1fdd265cfe"
      },
      "outputs": [
        {
          "output_type": "stream",
          "name": "stdout",
          "text": [
            "title                      year  name                  type     character                  n   \n",
            "#1 Serial Killer           2013  Thomas Isao Morinaka  actor    Policeman #1               19.0    1\n",
            "Romulus, My Father         2007  Gavin (IV) Alexander  actor    Policeman                  23.0    1\n",
            "Rondaus                    1994  Pertti Koivula        actor    Policeman                  15.0    1\n",
            "Room to Rent               2000  Felix Dexter          actor    Policeman 1                19.0    1\n",
            "                                 Jonathan Stratt       actor    Policeman 3                37.0    1\n",
            "                                 Simon Macallum        actor    Policeman 2                20.0    1\n",
            "Rooney                     1958  Harold Goldblatt      actor    Police Inspector           11.0    1\n",
            "Rose of Death              2007  Kat Flinspach         actress  Police Shrink              27.0    1\n",
            "Rose of Washington Square  1939  Charles C. Wilson     actor    Police Lt. Mike Cavanaugh  10.0    1\n",
            "Rosenda                    1989  Joselito Palanca      actor    Police 1                   18.0    1\n",
            "dtype: int64\n"
          ]
        }
      ],
      "source": [
        "## (B) What are the top 10 most frequent roles that start with the word \"Police\"?\n",
        "pol_df = cast[cast.character.str.startswith('Police')].value_counts().iloc[:10]\n",
        "print(pol_df)"
      ]
    },
    {
      "cell_type": "markdown",
      "metadata": {
        "id": "eRaqHJgmNsor"
      },
      "source": [
        "### Section II - Q5: Plot how many roles 'Keanu Reeves' has played in each year of his career."
      ]
    },
    {
      "cell_type": "code",
      "execution_count": null,
      "metadata": {
        "id": "wvyGdcNGNsor",
        "colab": {
          "base_uri": "https://localhost:8080/"
        },
        "outputId": "62a47ed9-bf08-4c66-a7ab-fa67dd8a4279"
      },
      "outputs": [
        {
          "output_type": "stream",
          "name": "stdout",
          "text": [
            "                                    title  year          name   type  \\\n",
            "1892342                          47 Ronin  2013  Keanu Reeves  actor   \n",
            "1892343                  A Scanner Darkly  2006  Keanu Reeves  actor   \n",
            "1892344              A Walk in the Clouds  1995  Keanu Reeves  actor   \n",
            "1892345        Bill & Ted's Bogus Journey  1991  Keanu Reeves  actor   \n",
            "1892346  Bill & Ted's Excellent Adventure  1989  Keanu Reeves  actor   \n",
            "...                                   ...   ...           ...    ...   \n",
            "1892399                   The Whole Truth  2016  Keanu Reeves  actor   \n",
            "1892400                       Thumbsucker  2005  Keanu Reeves  actor   \n",
            "1892401                       To the Bone  2017  Keanu Reeves  actor   \n",
            "1892402               Tune in Tomorrow...  1990  Keanu Reeves  actor   \n",
            "1892403                        Youngblood  1986  Keanu Reeves  actor   \n",
            "\n",
            "             character     n  \n",
            "1892342            Kai   1.0  \n",
            "1892343     Bob Arctor   4.0  \n",
            "1892344    Paul Sutton   1.0  \n",
            "1892345            Ted   1.0  \n",
            "1892346            Ted   1.0  \n",
            "...                ...   ...  \n",
            "1892399         Ramsey   1.0  \n",
            "1892400    Perry Lyman  17.0  \n",
            "1892401    Dr. Beckham  11.0  \n",
            "1892402  Martin Loader   2.0  \n",
            "1892403         Heaver  12.0  \n",
            "\n",
            "[62 rows x 6 columns]\n"
          ]
        }
      ],
      "source": [
        "kr_df = cast[cast.name.str.contains('Keanu Reeves', case=False)]\n",
        "print(kr_df)"
      ]
    },
    {
      "cell_type": "code",
      "source": [
        "kr_by_year = kr_df.groupby(kr_df.year)['name'].count()\n",
        "# kr_df.sort_values(by=['year'], ascending=True)\n",
        "print(kr_by_year)\n",
        "print(type(kr_by_year))"
      ],
      "metadata": {
        "colab": {
          "base_uri": "https://localhost:8080/"
        },
        "id": "TI78dRx3kq2g",
        "outputId": "1959a8ad-fdb7-4994-e7df-62ff786a822f"
      },
      "execution_count": null,
      "outputs": [
        {
          "output_type": "stream",
          "name": "stdout",
          "text": [
            "year\n",
            "1985    1\n",
            "1986    3\n",
            "1988    4\n",
            "1989    2\n",
            "1990    2\n",
            "1991    3\n",
            "1992    1\n",
            "1993    4\n",
            "1994    1\n",
            "1995    2\n",
            "1996    2\n",
            "1997    2\n",
            "1999    3\n",
            "2000    3\n",
            "2001    2\n",
            "2003    3\n",
            "2005    3\n",
            "2006    2\n",
            "2008    2\n",
            "2009    1\n",
            "2010    1\n",
            "2012    1\n",
            "2013    2\n",
            "2014    1\n",
            "2015    1\n",
            "2016    5\n",
            "2017    3\n",
            "2018    1\n",
            "2019    1\n",
            "Name: name, dtype: int64\n",
            "<class 'pandas.core.series.Series'>\n"
          ]
        }
      ]
    },
    {
      "cell_type": "code",
      "source": [
        "kr_by_year.plot(kind='bar', ylabel='Roles')"
      ],
      "metadata": {
        "colab": {
          "base_uri": "https://localhost:8080/",
          "height": 312
        },
        "id": "iCRrCOP7nYXj",
        "outputId": "b85e3e0c-15d2-4cff-9a84-af567eea16fe"
      },
      "execution_count": null,
      "outputs": [
        {
          "output_type": "execute_result",
          "data": {
            "text/plain": [
              "<matplotlib.axes._subplots.AxesSubplot at 0x7f7df86d8150>"
            ]
          },
          "metadata": {},
          "execution_count": 54
        },
        {
          "output_type": "display_data",
          "data": {
            "text/plain": [
              "<Figure size 432x288 with 1 Axes>"
            ],
            "image/png": "[encoded data removed]"
          },
          "metadata": {
            "needs_background": "light"
          }
        }
      ]
    },
    {
      "cell_type": "markdown",
      "metadata": {
        "id": "1vc-OlNnNsor"
      },
      "source": [
        "### Section II - Q6: Plot the cast positions (n-values) of Keanu Reeve's roles through his career over the years.\n"
      ]
    },
    {
      "cell_type": "code",
      "execution_count": null,
      "metadata": {
        "id": "ElOEEGPQNsor",
        "colab": {
          "base_uri": "https://localhost:8080/"
        },
        "outputId": "74492243-8a19-42d2-9849-1418d8ec3d1f"
      },
      "outputs": [
        {
          "output_type": "stream",
          "name": "stdout",
          "text": [
            "year\n",
            "1985     1.0\n",
            "1986    17.0\n",
            "1988    14.0\n",
            "1989     9.0\n",
            "1990     8.0\n",
            "1991     5.0\n",
            "1992     4.0\n",
            "1993    19.0\n",
            "1994     1.0\n",
            "1995     2.0\n",
            "1996     2.0\n",
            "1997     3.0\n",
            "1999    85.0\n",
            "2000     7.0\n",
            "2001     2.0\n",
            "2003    95.0\n",
            "2005    39.0\n",
            "2006     5.0\n",
            "2008     2.0\n",
            "2009    16.0\n",
            "2010     1.0\n",
            "2012     0.0\n",
            "2013     3.0\n",
            "2014     1.0\n",
            "2015     1.0\n",
            "2016    46.0\n",
            "2017    12.0\n",
            "2018     1.0\n",
            "2019     0.0\n",
            "Name: n, dtype: float64\n"
          ]
        }
      ],
      "source": [
        "kr_n_val = kr_df.groupby(kr_df.year)['n'].sum()\n",
        "print(kr_n_val)"
      ]
    },
    {
      "cell_type": "code",
      "source": [
        "kr_n_val.plot(kind='bar', ylabel='n-values')"
      ],
      "metadata": {
        "colab": {
          "base_uri": "https://localhost:8080/"
        },
        "id": "7n9_qMLAovqL",
        "outputId": "4beb5036-a493-402f-fc66-9972d1c18e53"
      },
      "execution_count": null,
      "outputs": [
        {
          "output_type": "execute_result",
          "data": {
            "text/plain": [
              "<matplotlib.axes._subplots.AxesSubplot at 0x7f7df85e2410>"
            ]
          },
          "metadata": {},
          "execution_count": 56
        },
        {
          "output_type": "display_data",
          "data": {
            "text/plain": [
              "<Figure size 432x288 with 1 Axes>"
            ],
            "image/png": "[encoded data removed]"
          },
          "metadata": {
            "needs_background": "light"
          }
        }
      ]
    },
    {
      "cell_type": "markdown",
      "metadata": {
        "id": "XpWJK-MUNsor"
      },
      "source": [
        "### Section II - Q7: Plot the number of \"Hamlet\" films made by each decade"
      ]
    },
    {
      "cell_type": "code",
      "execution_count": null,
      "metadata": {
        "id": "Q8A3F3UMNsor",
        "colab": {
          "base_uri": "https://localhost:8080/"
        },
        "outputId": "f8ac1cb8-7c78-4ce5-bfcd-1a1d69e11049"
      },
      "outputs": [
        {
          "output_type": "stream",
          "name": "stdout",
          "text": [
            "                                          title  year\n",
            "1931                                     Hamlet  2009\n",
            "8214                                     Hamlet  1976\n",
            "10364                             Hamlet A.D.D.  2014\n",
            "17531                            Hamlet's Ghost  2015\n",
            "17833                             Zombie Hamlet  2012\n",
            "40045                               Hamlet (II)  2005\n",
            "44571                               Hamlet (II)  2015\n",
            "46344                                    Hamlet  1921\n",
            "47248                    Hamlet liikemaailmassa  1987\n",
            "50271                            Hamlet/Horatio  2017\n",
            "51236                            Hamlet Unbound  2012\n",
            "52408                 Hamlet the Vampire Slayer  2008\n",
            "55525                    Hamlet in the Hamptons  2002\n",
            "55639                                    Hamlet  2000\n",
            "55951                               Fuck Hamlet  1996\n",
            "66134                        Han, hun og Hamlet  1922\n",
            "70547         Royal Shakespeare Company: Hamlet  2016\n",
            "73869                                    Hamlet  1948\n",
            "77508                 Hamlet, Prince of Denmark  1997\n",
            "78217             Hamlet: The Fall of a Sparrow  2018\n",
            "98326                                    Hamlet  1990\n",
            "98329                               Hamlet (II)  2017\n",
            "108528                       Han, hun og Hamlet  1932\n",
            "118535                                   Hamlet  1913\n",
            "124506                                   Hamlet  1911\n",
            "132639      Predstava 'Hamleta' u Mrdusi Donjoj  1974\n",
            "133802            National Theatre Live: Hamlet  2015\n",
            "137905                                 Hamlet_X  2003\n",
            "140203                                   Hamlet  1954\n",
            "141237                                 Hamlet 2  2008\n",
            "142663                       A Sagebrush Hamlet  1919\n",
            "152920          Dogg's Hamlet, Cahoot's Macbeth  2005\n",
            "155004                                   Hamlet  1964\n",
            "156899                             Hamlet (III)  2007\n",
            "159981                    Green Eggs and Hamlet  1995\n",
            "164205                Hamlet: Prince of Denmark  1989\n",
            "176528                              Hamlet (II)  2007\n",
            "178290                                   Hamlet  2014\n",
            "180979                                   Hamlet  1987\n",
            "181090                                   Hamlet  1910\n",
            "186136                      Harry, Hamlet and I  2013\n",
            "186137                                   Hamlet  2015\n",
            "191734                           Kitchen Hamlet  2009\n",
            "191940                                   Hamlet  2016\n",
            "200246  The Tragedy of Hamlet Prince of Denmark  2007\n",
            "209533                 Hamlet, Son of a Kingpin  2015\n",
            "215089                              Hamlet (II)  1964\n",
            "218339                                   Hamlet  1973\n",
            "218468                                 Hamlet X  2004\n",
            "220674                     Hamlet Demonstration  2011\n",
            "222156                                   Hamlet  1969\n",
            "227953                                   Hamlet  2011\n",
            "233676                             H for Hamlet  1993\n",
            "235754              Intikam Melegi/Kadin Hamlet  1976\n",
            "240089                Hamlet in the Golden Vale  2017\n",
            "241149                                   Hamlet  1996\n",
            "244747                                   Hamlet  2017\n"
          ]
        }
      ],
      "source": [
        "hamlet_df = movies[movies.title.str.contains('Hamlet', case=False) ]\n",
        "print(hamlet_df)"
      ]
    },
    {
      "cell_type": "code",
      "source": [
        "hamlet_decade = hamlet_df.groupby( (hamlet_df.year//10)*10 ).count()\n",
        "del hamlet_decade['year']\n",
        "# hamlet_decade.rename(columns={'title': 'movies'}, inplace=True)\n",
        "print(hamlet_decade)"
      ],
      "metadata": {
        "colab": {
          "base_uri": "https://localhost:8080/"
        },
        "id": "UMVbeOyUpavt",
        "outputId": "14d2a34b-5f54-4082-eb75-ee5fa56804e1"
      },
      "execution_count": null,
      "outputs": [
        {
          "output_type": "stream",
          "name": "stdout",
          "text": [
            "      title\n",
            "year       \n",
            "1910      4\n",
            "1920      2\n",
            "1930      1\n",
            "1940      1\n",
            "1950      1\n",
            "1960      3\n",
            "1970      4\n",
            "1980      3\n",
            "1990      6\n",
            "2000     13\n",
            "2010     19\n"
          ]
        }
      ]
    },
    {
      "cell_type": "code",
      "source": [
        "import math\n",
        "yint = range(min(hamlet_decade.title), math.ceil(max(hamlet_decade.title))+1)\n",
        "hamlet_decade.plot(kind='bar', ylabel='movies', yticks=yint)\n",
        "# hamlet_decade.plot(kind='bar', ylabel='movies')"
      ],
      "metadata": {
        "colab": {
          "base_uri": "https://localhost:8080/"
        },
        "id": "J2d1Sq1WqtTO",
        "outputId": "a3a0b956-8dfe-4f80-a20c-d972e92dba76"
      },
      "execution_count": null,
      "outputs": [
        {
          "output_type": "execute_result",
          "data": {
            "text/plain": [
              "<matplotlib.axes._subplots.AxesSubplot at 0x7f7df8224110>"
            ]
          },
          "metadata": {},
          "execution_count": 59
        },
        {
          "output_type": "display_data",
          "data": {
            "text/plain": [
              "<Figure size 432x288 with 1 Axes>"
            ],
            "image/png": "[encoded data removed]"
          },
          "metadata": {
            "needs_background": "light"
          }
        }
      ]
    },
    {
      "cell_type": "markdown",
      "metadata": {
        "id": "qYLa4GKiNsor"
      },
      "source": [
        "### Section II - Q8: available leading roles\n",
        "\n",
        "(A) How many leading roles were available to both actors and actresses, in the 1960s (1960-1969)?\n",
        "\n",
        "(B) How many leading roles were available to both actors and actresses, in the 2000s (2000-2009)?\n",
        "\n",
        "- Hint: A specific value of n might indicate a leading role"
      ]
    },
    {
      "cell_type": "code",
      "source": [
        "cast.head()"
      ],
      "metadata": {
        "colab": {
          "base_uri": "https://localhost:8080/"
        },
        "id": "gkWEPJf3sZbM",
        "outputId": "5e24aae1-d044-4442-bdfd-7dd314dd6293"
      },
      "execution_count": null,
      "outputs": [
        {
          "output_type": "execute_result",
          "data": {
            "text/plain": [
              "                  title  year      name   type                character     n\n",
              "0        Closet Monster  2015  Buffy #1  actor                  Buffy 4  31.0\n",
              "1       Suuri illusioni  1985    Homo $  actor                   Guests  22.0\n",
              "2   Battle of the Sexes  2017   $hutter  actor          Bobby Riggs Fan  10.0\n",
              "3  Secret in Their Eyes  2015   $hutter  actor          2002 Dodger Fan   NaN\n",
              "4            Steve Jobs  2015   $hutter  actor  1988 Opera House Patron   NaN"
            ],
            "text/html": [
              "\n",
              "  <div id=\"df-2a69939e-d6c2-4f45-bf1f-34f089172280\">\n",
              "    <div class=\"colab-df-container\">\n",
              "      <div>\n",
              "<style scoped>\n",
              "    .dataframe tbody tr th:only-of-type {\n",
              "        vertical-align: middle;\n",
              "    }\n",
              "\n",
              "    .dataframe tbody tr th {\n",
              "        vertical-align: top;\n",
              "    }\n",
              "\n",
              "    .dataframe thead th {\n",
              "        text-align: right;\n",
              "    }\n",
              "</style>\n",
              "<table border=\"1\" class=\"dataframe\">\n",
              "  <thead>\n",
              "    <tr style=\"text-align: right;\">\n",
              "      <th></th>\n",
              "      <th>title</th>\n",
              "      <th>year</th>\n",
              "      <th>name</th>\n",
              "      <th>type</th>\n",
              "      <th>character</th>\n",
              "      <th>n</th>\n",
              "    </tr>\n",
              "  </thead>\n",
              "  <tbody>\n",
              "    <tr>\n",
              "      <th>0</th>\n",
              "      <td>Closet Monster</td>\n",
              "      <td>2015</td>\n",
              "      <td>Buffy #1</td>\n",
              "      <td>actor</td>\n",
              "      <td>Buffy 4</td>\n",
              "      <td>31.0</td>\n",
              "    </tr>\n",
              "    <tr>\n",
              "      <th>1</th>\n",
              "      <td>Suuri illusioni</td>\n",
              "      <td>1985</td>\n",
              "      <td>Homo $</td>\n",
              "      <td>actor</td>\n",
              "      <td>Guests</td>\n",
              "      <td>22.0</td>\n",
              "    </tr>\n",
              "    <tr>\n",
              "      <th>2</th>\n",
              "      <td>Battle of the Sexes</td>\n",
              "      <td>2017</td>\n",
              "      <td>$hutter</td>\n",
              "      <td>actor</td>\n",
              "      <td>Bobby Riggs Fan</td>\n",
              "      <td>10.0</td>\n",
              "    </tr>\n",
              "    <tr>\n",
              "      <th>3</th>\n",
              "      <td>Secret in Their Eyes</td>\n",
              "      <td>2015</td>\n",
              "      <td>$hutter</td>\n",
              "      <td>actor</td>\n",
              "      <td>2002 Dodger Fan</td>\n",
              "      <td>NaN</td>\n",
              "    </tr>\n",
              "    <tr>\n",
              "      <th>4</th>\n",
              "      <td>Steve Jobs</td>\n",
              "      <td>2015</td>\n",
              "      <td>$hutter</td>\n",
              "      <td>actor</td>\n",
              "      <td>1988 Opera House Patron</td>\n",
              "      <td>NaN</td>\n",
              "    </tr>\n",
              "  </tbody>\n",
              "</table>\n",
              "</div>\n",
              "      <button class=\"colab-df-convert\" onclick=\"convertToInteractive('df-2a69939e-d6c2-4f45-bf1f-34f089172280')\"\n",
              "              title=\"Convert this dataframe to an interactive table.\"\n",
              "              style=\"display:none;\">\n",
              "        \n",
              "  <svg xmlns=\"http://www.w3.org/2000/svg\" height=\"24px\"viewBox=\"0 0 24 24\"\n",
              "       width=\"24px\">\n",
              "    <path d=\"M0 0h24v24H0V0z\" fill=\"none\"/>\n",
              "    <path d=\"M18.56 5.44l.94 2.06.94-2.06 2.06-.94-2.06-.94-.94-2.06-.94 2.06-2.06.94zm-11 1L8.5 8.5l.94-2.06 2.06-.94-2.06-.94L8.5 2.5l-.94 2.06-2.06.94zm10 10l.94 2.06.94-2.06 2.06-.94-2.06-.94-.94-2.06-.94 2.06-2.06.94z\"/><path d=\"M17.41 7.96l-1.37-1.37c-.4-.4-.92-.59-1.43-.59-.52 0-1.04.2-1.43.59L10.3 9.45l-7.72 7.72c-.78.78-.78 2.05 0 2.83L4 21.41c.39.39.9.59 1.41.59.51 0 1.02-.2 1.41-.59l7.78-7.78 2.81-2.81c.8-.78.8-2.07 0-2.86zM5.41 20L4 18.59l7.72-7.72 1.47 1.35L5.41 20z\"/>\n",
              "  </svg>\n",
              "      </button>\n",
              "      \n",
              "  <style>\n",
              "    .colab-df-container {\n",
              "      display:flex;\n",
              "      flex-wrap:wrap;\n",
              "      gap: 12px;\n",
              "    }\n",
              "\n",
              "    .colab-df-convert {\n",
              "      background-color: #E8F0FE;\n",
              "      border: none;\n",
              "      border-radius: 50%;\n",
              "      cursor: pointer;\n",
              "      display: none;\n",
              "      fill: #1967D2;\n",
              "      height: 32px;\n",
              "      padding: 0 0 0 0;\n",
              "      width: 32px;\n",
              "    }\n",
              "\n",
              "    .colab-df-convert:hover {\n",
              "      background-color: #E2EBFA;\n",
              "      box-shadow: 0px 1px 2px rgba(60, 64, 67, 0.3), 0px 1px 3px 1px rgba(60, 64, 67, 0.15);\n",
              "      fill: #174EA6;\n",
              "    }\n",
              "\n",
              "    [theme=dark] .colab-df-convert {\n",
              "      background-color: #3B4455;\n",
              "      fill: #D2E3FC;\n",
              "    }\n",
              "\n",
              "    [theme=dark] .colab-df-convert:hover {\n",
              "      background-color: #434B5C;\n",
              "      box-shadow: 0px 1px 3px 1px rgba(0, 0, 0, 0.15);\n",
              "      filter: drop-shadow(0px 1px 2px rgba(0, 0, 0, 0.3));\n",
              "      fill: #FFFFFF;\n",
              "    }\n",
              "  </style>\n",
              "\n",
              "      <script>\n",
              "        const buttonEl =\n",
              "          document.querySelector('#df-2a69939e-d6c2-4f45-bf1f-34f089172280 button.colab-df-convert');\n",
              "        buttonEl.style.display =\n",
              "          google.colab.kernel.accessAllowed ? 'block' : 'none';\n",
              "\n",
              "        async function convertToInteractive(key) {\n",
              "          const element = document.querySelector('#df-2a69939e-d6c2-4f45-bf1f-34f089172280');\n",
              "          const dataTable =\n",
              "            await google.colab.kernel.invokeFunction('convertToInteractive',\n",
              "                                                     [key], {});\n",
              "          if (!dataTable) return;\n",
              "\n",
              "          const docLinkHtml = 'Like what you see? Visit the ' +\n",
              "            '<a target=\"_blank\" href=https://colab.research.google.com/notebooks/data_table.ipynb>data table notebook</a>'\n",
              "            + ' to learn more about interactive tables.';\n",
              "          element.innerHTML = '';\n",
              "          dataTable['output_type'] = 'display_data';\n",
              "          await google.colab.output.renderOutput(dataTable, element);\n",
              "          const docLink = document.createElement('div');\n",
              "          docLink.innerHTML = docLinkHtml;\n",
              "          element.appendChild(docLink);\n",
              "        }\n",
              "      </script>\n",
              "    </div>\n",
              "  </div>\n",
              "  "
            ]
          },
          "metadata": {},
          "execution_count": 60
        }
      ]
    },
    {
      "cell_type": "code",
      "execution_count": null,
      "metadata": {
        "id": "oJr1kKz0Nsor",
        "colab": {
          "base_uri": "https://localhost:8080/"
        },
        "outputId": "c0698000-559a-4204-d96d-c840353935a6"
      },
      "outputs": [
        {
          "output_type": "stream",
          "name": "stdout",
          "text": [
            "                      title  year            name     type       character  \\\n",
            "26             Los tarantos  1963      'El Guisa'    actor         Bailaor   \n",
            "28             Los tarantos  1963       'El Viti'    actor         Cantaor   \n",
            "53             Los tarantos  1963        'Morita'    actor         Cantaor   \n",
            "56             Los tarantos  1963     'Pucherete'    actor       Guitarist   \n",
            "67             De zaak M.P.  1960   Frans 't Hoen    actor  Hollandse boer   \n",
            "...                     ...   ...             ...      ...             ...   \n",
            "3785857  Kan su gibi akacak  1969       ?lk? ?zen  actress            Elif   \n",
            "3785877     Aci ile karisik  1969    G?zin ?zipek  actress         M?berra   \n",
            "3785969      Kafkas kartali  1968    Leman ?zt?rk  actress         Tatyana   \n",
            "3786005            Omringet  1960   Kari ?ksnevad  actress      Anne Aulie   \n",
            "3786069                Line  1961  Olava ?verland  actress     A passenger   \n",
            "\n",
            "            n  \n",
            "26       25.0  \n",
            "28       20.0  \n",
            "53       18.0  \n",
            "56       14.0  \n",
            "67       29.0  \n",
            "...       ...  \n",
            "3785857   2.0  \n",
            "3785877   8.0  \n",
            "3785969  11.0  \n",
            "3786005   2.0  \n",
            "3786069  18.0  \n",
            "\n",
            "[131316 rows x 6 columns]\n"
          ]
        }
      ],
      "source": [
        "## (A) How many leading roles were available to both actors and actresses, in the 1960s (1960-1969)?\n",
        "tmp1 = cast[(cast.type.str.contains('actor', case=False)) | \n",
        "            (cast.type.str.contains('actress', case=False)) ]\n",
        "tmp2 = tmp1[(tmp1.year>=1960) & (tmp1.year<=1969) ]\n",
        "tmp3 = tmp2[tmp2.n>=0]\n",
        "print(tmp3)"
      ]
    },
    {
      "cell_type": "code",
      "execution_count": null,
      "metadata": {
        "id": "P2ISGcZlNsor",
        "colab": {
          "base_uri": "https://localhost:8080/"
        },
        "outputId": "b3c4de18-30d6-4906-f68d-4751d447720e"
      },
      "outputs": [
        {
          "output_type": "stream",
          "name": "stdout",
          "text": [
            "                                    title  year  \\\n",
            "27                            De la calle  2001   \n",
            "39              Nothing Like the Holidays  2008   \n",
            "41                       Subtle Seduction  2008   \n",
            "42             The Godfather of Green Bay  2005   \n",
            "47                       Rebecca's Window  2006   \n",
            "...                                   ...   ...   \n",
            "3786158  Niceland (Population. 1.000.002)  2004   \n",
            "3786163                 Beowulf & Grendel  2005   \n",
            "3786169  Niceland (Population. 1.000.002)  2004   \n",
            "3786172  Niceland (Population. 1.000.002)  2004   \n",
            "3786174                      U.S.S.S.S...  2003   \n",
            "\n",
            "                                   name     type  \\\n",
            "27                      Luis 'El Plojo'    actor   \n",
            "39              Johnny 'Koolout' Starks    actor   \n",
            "41              Johnny 'Koolout' Starks    actor   \n",
            "42              Johnny 'Koolout' Starks    actor   \n",
            "47                Yradier 'Lito' Tejada    actor   \n",
            "...                                 ...      ...   \n",
            "3786158           Hugr?n ?orfinnsd?ttir  actress   \n",
            "3786163  Steinunn ?l?na ?orsteinsd?ttir  actress   \n",
            "3786169         Steinunn ?orvaldsd?ttir  actress   \n",
            "3786172       Sigr??ur J?na ??risd?ttir  actress   \n",
            "3786174     Krist?n Andrea ??r?ard?ttir  actress   \n",
            "\n",
            "                            character     n  \n",
            "27       Froil?n plaza del estudiante  80.0  \n",
            "39                       Alexis' Thug  35.0  \n",
            "41                       Officer Ward   9.0  \n",
            "42                             Marcus  18.0  \n",
            "47                              Sammy   4.0  \n",
            "...                               ...   ...  \n",
            "3786158                         Diana  10.0  \n",
            "3786163                     Wealtheow  15.0  \n",
            "3786169                Factory Worker  21.0  \n",
            "3786172                  Woman in Bus  26.0  \n",
            "3786174        Afgr.dama ? bens?nst??  17.0  \n",
            "\n",
            "[497847 rows x 6 columns]\n"
          ]
        }
      ],
      "source": [
        "# (B) How many leading roles were available to both actors and actresses, in the 2000s (2000-2009)?\n",
        "tmp1 = cast[(cast.type.str.contains('actor', case=False)) | \n",
        "            (cast.type.str.contains('actress', case=False)) ]\n",
        "tmp2 = tmp1[(tmp1.year>=2000) & (tmp1.year<=2009) ]\n",
        "tmp3 = tmp2[tmp2.n>=0]\n",
        "print(tmp3)"
      ]
    },
    {
      "cell_type": "markdown",
      "metadata": {
        "id": "gSDdbQuZNsor"
      },
      "source": [
        "### Section II - Q9: List, in order by year, each of the films in which Frank Oz has played more than 1 role."
      ]
    },
    {
      "cell_type": "code",
      "execution_count": null,
      "metadata": {
        "id": "cBH4lXvMNsor",
        "colab": {
          "base_uri": "https://localhost:8080/"
        },
        "outputId": "02304613-6a37-4703-e364-fd578adc8ba0"
      },
      "outputs": [
        {
          "output_type": "stream",
          "name": "stdout",
          "text": [
            "                                  title  year      name   type  \\\n",
            "1723598  An American Werewolf in London  1981  Frank Oz  actor   \n",
            "1723599  An American Werewolf in London  1981  Frank Oz  actor   \n",
            "1723600             Blues Brothers 2000  1998  Frank Oz  actor   \n",
            "1723601                Follow That Bird  1985  Frank Oz  actor   \n",
            "1723602                Follow That Bird  1985  Frank Oz  actor   \n",
            "...                                 ...   ...       ...    ...   \n",
            "1723657      The Muppets Take Manhattan  1984  Frank Oz  actor   \n",
            "1723658      The Muppets Take Manhattan  1984  Frank Oz  actor   \n",
            "1723659      The Muppets Take Manhattan  1984  Frank Oz  actor   \n",
            "1723660                  Trading Places  1983  Frank Oz  actor   \n",
            "1723661      Zathura: A Space Adventure  2005  Frank Oz  actor   \n",
            "\n",
            "                              character     n  \n",
            "1723598                     Mr. Collins  13.0  \n",
            "1723599                      Miss Piggy  13.0  \n",
            "1723600                          Warden   4.0  \n",
            "1723601                  Cookie Monster   3.0  \n",
            "1723602                            Bert   3.0  \n",
            "...                                 ...   ...  \n",
            "1723657                  Cookie Monster   2.0  \n",
            "1723658  Ocean Breeze Soap Board Member   2.0  \n",
            "1723659                   Sam the Eagle   2.0  \n",
            "1723660                     Corrupt Cop  46.0  \n",
            "1723661                           Robot   6.0  \n",
            "\n",
            "[64 rows x 6 columns]\n"
          ]
        }
      ],
      "source": [
        "fo = cast[cast.name.str.contains('Frank Oz', case=False) ]\n",
        "print(fo)"
      ]
    },
    {
      "cell_type": "code",
      "source": [
        "# fo = fo_df.groupby(fo_df.title)['year'].count()\n",
        "# tmp = fo.groupby(fo.title)['year'].transform('count')\n",
        "# tmp = fo.groupby([fo.title, fo.year, fo.character])['character'].count()\n",
        "# fo['num_roles'] = fo.groupby([\"title\"]).count()\n",
        "# tmp.rename(columns={tmp.columns[-1]: 'roles'}, inplace=True)\n",
        "# df['count'] = df.groupby(['col1', 'col2'])['col3'].transform('count')\n",
        "# tmp.sort_values(ascending=True)\n",
        "tmp = fo.groupby([fo.title, fo.year])['character'].count()\n",
        "tmp = tmp[tmp>1]\n",
        "print(tmp.sort_index(level=1))"
      ],
      "metadata": {
        "colab": {
          "base_uri": "https://localhost:8080/"
        },
        "id": "fgTHd5jG1_89",
        "outputId": "3d92d94f-9fa3-4be8-87a2-ebc1545fc71c"
      },
      "execution_count": null,
      "outputs": [
        {
          "output_type": "stream",
          "name": "stdout",
          "text": [
            "title                                 year\n",
            "The Muppet Movie                      1979    8\n",
            "An American Werewolf in London        1981    2\n",
            "The Great Muppet Caper                1981    6\n",
            "The Dark Crystal                      1982    2\n",
            "The Muppets Take Manhattan            1984    7\n",
            "Follow That Bird                      1985    3\n",
            "The Muppet Christmas Carol            1992    7\n",
            "Muppet Treasure Island                1996    4\n",
            "Muppets from Space                    1999    4\n",
            "The Adventures of Elmo in Grouchland  1999    3\n",
            "Name: character, dtype: int64\n"
          ]
        }
      ]
    },
    {
      "cell_type": "markdown",
      "metadata": {
        "id": "uX2_55g6Nsor"
      },
      "source": [
        "### Section II - Q10: List each of the characters that Frank Oz has portrayed at least twice"
      ]
    },
    {
      "cell_type": "code",
      "execution_count": null,
      "metadata": {
        "id": "tyPM5cD1Nsor",
        "colab": {
          "base_uri": "https://localhost:8080/"
        },
        "outputId": "0bc8b4c0-334d-4c7e-b4e4-98b769b2d732"
      },
      "outputs": [
        {
          "output_type": "stream",
          "name": "stdout",
          "text": [
            "character\n",
            "Animal            6\n",
            "Bert              3\n",
            "Cookie Monster    5\n",
            "Fozzie Bear       4\n",
            "Grover            2\n",
            "Miss Piggy        6\n",
            "Sam the Eagle     5\n",
            "Yoda              6\n",
            "Name: title, dtype: int64\n"
          ]
        }
      ],
      "source": [
        "tmp = fo.groupby([fo.character])['title'].count()\n",
        "tmp = tmp[tmp>1]\n",
        "print(tmp)"
      ]
    },
    {
      "cell_type": "markdown",
      "metadata": {
        "id": "Jh4GKCLINsor"
      },
      "source": [
        "# Section III - Advanced Merging, Querying and Visualizations"
      ]
    },
    {
      "cell_type": "markdown",
      "metadata": {
        "id": "ObYdoRYoNsor"
      },
      "source": [
        "## Make a bar plot with the following conditions\n",
        "- Frequency of the number of movies with \"Christmas\" in their title \n",
        "- Movies should be such that they are released in the USA.\n",
        "- Show the frequency plot by month"
      ]
    },
    {
      "cell_type": "code",
      "execution_count": null,
      "metadata": {
        "colab": {
          "base_uri": "https://localhost:8080/"
        },
        "id": "H8Kxk9H3Nsor",
        "outputId": "937923bd-2568-4b68-86e3-a5d56bc4c910"
      },
      "outputs": [
        {
          "output_type": "execute_result",
          "data": {
            "text/plain": [
              "<matplotlib.axes._subplots.AxesSubplot at 0x7f7df8a51950>"
            ]
          },
          "metadata": {},
          "execution_count": 66
        },
        {
          "output_type": "display_data",
          "data": {
            "text/plain": [
              "<Figure size 432x288 with 1 Axes>"
            ],
            "image/png": "[encoded data removed]"
          },
          "metadata": {
            "needs_background": "light"
          }
        }
      ],
      "source": [
        "christmas = release_dates[(release_dates.title.str.contains('Christmas')) & (release_dates.country == 'USA')]\n",
        "christmas.date.dt.month.value_counts().sort_index().plot(kind='bar')"
      ]
    },
    {
      "cell_type": "markdown",
      "metadata": {
        "id": "bvxlx4JTNsor"
      },
      "source": [
        "### Section III - Q1: Make a bar plot with the following conditions\n",
        "- Frequency of the number of movies with \"Summer\" in their title \n",
        "- Movies should be such that they are released in the USA.\n",
        "- Show the frequency plot by month"
      ]
    },
    {
      "cell_type": "code",
      "execution_count": null,
      "metadata": {
        "id": "62IT6_plNsor",
        "colab": {
          "base_uri": "https://localhost:8080/",
          "height": 285
        },
        "outputId": "b2fb317c-5115-40cb-b46a-20dd84287ef0"
      },
      "outputs": [
        {
          "output_type": "execute_result",
          "data": {
            "text/plain": [
              "<matplotlib.axes._subplots.AxesSubplot at 0x7f7df85c04d0>"
            ]
          },
          "metadata": {},
          "execution_count": 67
        },
        {
          "output_type": "display_data",
          "data": {
            "text/plain": [
              "<Figure size 432x288 with 1 Axes>"
            ],
            "image/png": "[encoded data removed]"
          },
          "metadata": {
            "needs_background": "light"
          }
        }
      ],
      "source": [
        "summer = release_dates[(release_dates.title.str.contains('Summer')) & (release_dates.country == 'USA')]\n",
        "summer.date.dt.month.value_counts().sort_index().plot(kind='bar')"
      ]
    },
    {
      "cell_type": "markdown",
      "metadata": {
        "id": "qwarJybHNsor"
      },
      "source": [
        "### Section III - Q2: Make a bar plot with the following conditions\n",
        "- Frequency of the number of movies with \"Action\" in their title \n",
        "- Movies should be such that they are released in the USA.\n",
        "- Show the frequency plot by week"
      ]
    },
    {
      "cell_type": "code",
      "execution_count": null,
      "metadata": {
        "id": "rNdwDjDPNsor",
        "colab": {
          "base_uri": "https://localhost:8080/",
          "height": 340
        },
        "outputId": "45018ae5-a770-4ceb-fc6b-a2e25e9ea2b6"
      },
      "outputs": [
        {
          "output_type": "stream",
          "name": "stderr",
          "text": [
            "/usr/local/lib/python3.7/dist-packages/ipykernel_launcher.py:2: FutureWarning: Series.dt.weekofyear and Series.dt.week have been deprecated.  Please use Series.dt.isocalendar().week instead.\n",
            "  \n"
          ]
        },
        {
          "output_type": "execute_result",
          "data": {
            "text/plain": [
              "<matplotlib.axes._subplots.AxesSubplot at 0x7f7df8a6eed0>"
            ]
          },
          "metadata": {},
          "execution_count": 68
        },
        {
          "output_type": "display_data",
          "data": {
            "text/plain": [
              "<Figure size 432x288 with 1 Axes>"
            ],
            "image/png": "[encoded data removed]"
          },
          "metadata": {
            "needs_background": "light"
          }
        }
      ],
      "source": [
        "action = release_dates[(release_dates.title.str.contains('Action')) & (release_dates.country == 'USA')]\n",
        "action.date.dt.week.value_counts().sort_index().plot(kind='bar')"
      ]
    },
    {
      "cell_type": "markdown",
      "metadata": {
        "id": "5yMCliVbNsos"
      },
      "source": [
        "### Section III - Q3: Show all the movies in which Keanu Reeves has played the lead role along with their   release date in the USA sorted by the date of release\n",
        "- Hint: You might need to join or merge two datasets!"
      ]
    },
    {
      "cell_type": "code",
      "execution_count": null,
      "metadata": {
        "id": "f8f9yScpNsos"
      },
      "outputs": [],
      "source": [
        "# merge/join cast and release_dates \n",
        "merged = pd.merge(release_dates, cast, on=[\"title\", \"year\"])"
      ]
    },
    {
      "cell_type": "code",
      "source": [
        "print(merged.tail())\n",
        "print(merged.info())"
      ],
      "metadata": {
        "colab": {
          "base_uri": "https://localhost:8080/"
        },
        "id": "NMKLuH_YCyJJ",
        "outputId": "f9298acf-446f-4e72-a1aa-5554c8d7421b"
      },
      "execution_count": null,
      "outputs": [
        {
          "output_type": "stream",
          "name": "stdout",
          "text": [
            "                            title  year country       date  \\\n",
            "19579692  xXx: State of the Union  2005  Greece 2005-06-24   \n",
            "19579693  xXx: State of the Union  2005  Greece 2005-06-24   \n",
            "19579694  xXx: State of the Union  2005  Greece 2005-06-24   \n",
            "19579695  xXx: State of the Union  2005  Greece 2005-06-24   \n",
            "19579696  xXx: State of the Union  2005  Greece 2005-06-24   \n",
            "\n",
            "                        name     type       character     n  \n",
            "19579692    Deborah S. Smith  actress  Business Woman   NaN  \n",
            "19579693       Gina St. John  actress  Field Reporter  28.0  \n",
            "19579694  Paola (III) Torres  actress    DC Executive   NaN  \n",
            "19579695      Samantha Tyler  actress   Corvette Girl  38.0  \n",
            "19579696  Gay-Yee Westerhoff  actress  String Quartet   NaN  \n",
            "<class 'pandas.core.frame.DataFrame'>\n",
            "Int64Index: 19579697 entries, 0 to 19579696\n",
            "Data columns (total 8 columns):\n",
            " #   Column     Dtype         \n",
            "---  ------     -----         \n",
            " 0   title      object        \n",
            " 1   year       int64         \n",
            " 2   country    object        \n",
            " 3   date       datetime64[ns]\n",
            " 4   name       object        \n",
            " 5   type       object        \n",
            " 6   character  object        \n",
            " 7   n          float64       \n",
            "dtypes: datetime64[ns](1), float64(1), int64(1), object(5)\n",
            "memory usage: 1.3+ GB\n",
            "None\n"
          ]
        }
      ]
    },
    {
      "cell_type": "code",
      "source": [
        "tmp1  = merged[(merged.name.str.contains('Keanu Reeves')) ]\n",
        "kr_df = tmp1[(tmp1.country=='USA') & (tmp1.n>=0) ]"
      ],
      "metadata": {
        "id": "Nrri1CoQDLzW"
      },
      "execution_count": null,
      "outputs": []
    },
    {
      "cell_type": "code",
      "source": [
        "print(len(kr_df))\n",
        "print( kr_df.sort_values(by=['date'], ascending=True) )"
      ],
      "metadata": {
        "colab": {
          "base_uri": "https://localhost:8080/"
        },
        "id": "D9rcfX42DyQx",
        "outputId": "cb3e5dae-e387-4a4a-ffa0-c06f6f0eb8ed"
      },
      "execution_count": null,
      "outputs": [
        {
          "output_type": "stream",
          "name": "stdout",
          "text": [
            "45\n",
            "                                      title  year country       date  \\\n",
            "19447583                         Youngblood  1986     USA 1986-01-31   \n",
            "12068736                       River's Edge  1986     USA 1987-05-08   \n",
            "16617480                   The Night Before  1988     USA 1988-04-15   \n",
            "11186594                   Permanent Record  1988     USA 1988-04-22   \n",
            "1976880    Bill & Ted's Excellent Adventure  1989     USA 1989-02-17   \n",
            "3535852                  Dangerous Liaisons  1988     USA 1989-02-24   \n",
            "11020591                         Parenthood  1989     USA 1989-05-26   \n",
            "6754656                 I Love You to Death  1990     USA 1990-04-06   \n",
            "18289563                Tune in Tomorrow...  1990     USA 1990-11-02   \n",
            "11392059                        Point Break  1991     USA 1991-07-12   \n",
            "1976345          Bill & Ted's Bogus Journey  1991     USA 1991-07-19   \n",
            "4185012                             Dracula  1992     USA 1992-11-13   \n",
            "10013020             Much Ado About Nothing  1993     USA 1993-07-02   \n",
            "4660000         Even Cowgirls Get the Blues  1993     USA 1994-05-20   \n",
            "8768200                       Little Buddha  1993     USA 1994-05-25   \n",
            "13378143                              Speed  1994     USA 1994-06-10   \n",
            "7569354                     Johnny Mnemonic  1995     USA 1995-05-26   \n",
            "507600                 A Walk in the Clouds  1995     USA 1995-08-11   \n",
            "2820055                      Chain Reaction  1996     USA 1996-08-02   \n",
            "4911071                   Feeling Minnesota  1996     USA 1996-09-13   \n",
            "16134341  The Last Time I Committed Suicide  1997     USA 1997-06-20   \n",
            "15111030               The Devil's Advocate  1997     USA 1997-10-17   \n",
            "16445857                         The Matrix  1999     USA 1999-03-31   \n",
            "17003032                   The Replacements  2000     USA 2000-08-11   \n",
            "17591314                        The Watcher  2000     USA 2000-09-08   \n",
            "15460295                           The Gift  2000     USA 2001-01-19   \n",
            "13998295                     Sweet November  2001     USA 2001-02-16   \n",
            "6119781                           Hard Ball  2001     USA 2001-09-14   \n",
            "16448100                The Matrix Reloaded  2003     USA 2003-05-15   \n",
            "16453983             The Matrix Revolutions  2003     USA 2003-11-05   \n",
            "13250743             Something's Gotta Give  2003     USA 2003-12-12   \n",
            "3251123                         Constantine  2005     USA 2005-02-18   \n",
            "17899271                        Thumbsucker  2005     USA 2005-10-07   \n",
            "16081283                     The Lake House  2006     USA 2006-06-16   \n",
            "455545                     A Scanner Darkly  2006     USA 2006-07-28   \n",
            "13787579                       Street Kings  2008     USA 2008-04-11   \n",
            "15068823      The Day the Earth Stood Still  2008     USA 2008-12-12   \n",
            "223831                             47 Ronin  2013     USA 2013-12-25   \n",
            "7547318                           John Wick  2014     USA 2014-10-24   \n",
            "7986334                         Knock Knock  2015     USA 2015-10-09   \n",
            "4725393                       Exposed (III)  2016     USA 2016-01-22   \n",
            "7783044                               Keanu  2016     USA 2016-04-29   \n",
            "16586546                     The Neon Demon  2016     USA 2016-06-24   \n",
            "7553751                John Wick: Chapter 2  2017     USA 2017-02-10   \n",
            "14514485                      The Bad Batch  2016     USA 2017-06-23   \n",
            "\n",
            "                  name   type             character     n  \n",
            "19447583  Keanu Reeves  actor                Heaver  12.0  \n",
            "12068736  Keanu Reeves  actor                  Matt   2.0  \n",
            "16617480  Keanu Reeves  actor      Winston Connelly   1.0  \n",
            "11186594  Keanu Reeves  actor        Chris Townsend   6.0  \n",
            "1976880   Keanu Reeves  actor                   Ted   1.0  \n",
            "3535852   Keanu Reeves  actor     Chevalier Danceny   5.0  \n",
            "11020591  Keanu Reeves  actor                   Tod   8.0  \n",
            "6754656   Keanu Reeves  actor                Marlon   6.0  \n",
            "18289563  Keanu Reeves  actor         Martin Loader   2.0  \n",
            "11392059  Keanu Reeves  actor           Johnny Utah   2.0  \n",
            "1976345   Keanu Reeves  actor                   Ted   1.0  \n",
            "4185012   Keanu Reeves  actor       Jonathan Harker   4.0  \n",
            "10013020  Keanu Reeves  actor              Don John  13.0  \n",
            "4660000   Keanu Reeves  actor         Julian Gitche   5.0  \n",
            "8768200   Keanu Reeves  actor            Siddhartha   1.0  \n",
            "13378143  Keanu Reeves  actor           Jack Traven   1.0  \n",
            "7569354   Keanu Reeves  actor       Johnny Mnemonic   1.0  \n",
            "507600    Keanu Reeves  actor           Paul Sutton   1.0  \n",
            "2820055   Keanu Reeves  actor      Eddie Kasalivich   1.0  \n",
            "4911071   Keanu Reeves  actor         Jjaks Clayton   1.0  \n",
            "16134341  Keanu Reeves  actor                 Harry   2.0  \n",
            "15111030  Keanu Reeves  actor           Kevin Lomax   1.0  \n",
            "16445857  Keanu Reeves  actor                   Neo   1.0  \n",
            "17003032  Keanu Reeves  actor           Shane Falco   1.0  \n",
            "17591314  Keanu Reeves  actor               Griffin   3.0  \n",
            "15460295  Keanu Reeves  actor      Donnie Barksdale   3.0  \n",
            "13998295  Keanu Reeves  actor           Nelson Moss   1.0  \n",
            "6119781   Keanu Reeves  actor         Conor O'Neill   1.0  \n",
            "16448100  Keanu Reeves  actor                   Neo  59.0  \n",
            "16453983  Keanu Reeves  actor                   Neo  33.0  \n",
            "13250743  Keanu Reeves  actor         Julian Mercer   3.0  \n",
            "3251123   Keanu Reeves  actor      John Constantine   1.0  \n",
            "17899271  Keanu Reeves  actor           Perry Lyman  17.0  \n",
            "16081283  Keanu Reeves  actor            Alex Wyler   1.0  \n",
            "455545    Keanu Reeves  actor            Bob Arctor   4.0  \n",
            "13787579  Keanu Reeves  actor  Detective Tom Ludlow   1.0  \n",
            "15068823  Keanu Reeves  actor                Klaatu   1.0  \n",
            "223831    Keanu Reeves  actor                   Kai   1.0  \n",
            "7547318   Keanu Reeves  actor             John Wick   1.0  \n",
            "7986334   Keanu Reeves  actor                  Evan   1.0  \n",
            "4725393   Keanu Reeves  actor      Detective Galban   8.0  \n",
            "7783044   Keanu Reeves  actor                 Keanu  25.0  \n",
            "16586546  Keanu Reeves  actor                  Hank   8.0  \n",
            "7553751   Keanu Reeves  actor             John Wick   1.0  \n",
            "14514485  Keanu Reeves  actor             The Dream   4.0  \n"
          ]
        }
      ]
    },
    {
      "cell_type": "markdown",
      "metadata": {
        "id": "bpo80Vt9Nsos"
      },
      "source": [
        "### Section III - Q4: Make a bar plot showing the months in which movies with Keanu Reeves tend to be released in the USA?"
      ]
    },
    {
      "cell_type": "code",
      "execution_count": null,
      "metadata": {
        "id": "iMIBFiDlNsos",
        "colab": {
          "base_uri": "https://localhost:8080/"
        },
        "outputId": "2d69ba57-7eb7-46c2-c003-f3f12df72d40"
      },
      "outputs": [
        {
          "output_type": "execute_result",
          "data": {
            "text/plain": [
              "<matplotlib.axes._subplots.AxesSubplot at 0x7f7df78ca850>"
            ]
          },
          "metadata": {},
          "execution_count": 73
        },
        {
          "output_type": "display_data",
          "data": {
            "text/plain": [
              "<Figure size 432x288 with 1 Axes>"
            ],
            "image/png": "[encoded data removed]"
          },
          "metadata": {
            "needs_background": "light"
          }
        }
      ],
      "source": [
        "kr_df.date.dt.month.value_counts().sort_index().plot(kind='bar')"
      ]
    },
    {
      "cell_type": "markdown",
      "metadata": {
        "id": "au7gxAJYNsos"
      },
      "source": [
        "### Section III - Q5: Make a bar plot showing the years in which movies with Ian McKellen tend to be released in the USA?"
      ]
    },
    {
      "cell_type": "code",
      "execution_count": null,
      "metadata": {
        "id": "QL_tdYuwNsos",
        "colab": {
          "base_uri": "https://localhost:8080/"
        },
        "outputId": "a9e14af5-1006-44b1-eff0-87fc980d05e2"
      },
      "outputs": [
        {
          "output_type": "stream",
          "name": "stdout",
          "text": [
            "39\n",
            "                                                      title  year country  \\\n",
            "1113657                                     Animal Crackers  2017     USA   \n",
            "1236895                                           Apt Pupil  1998     USA   \n",
            "1781019                                Beauty and the Beast  2017     USA   \n",
            "1868467                                                Bent  1997     USA   \n",
            "4127727                                              Doogal  2006     USA   \n",
            "5084212                                        Flushed Away  2006     USA   \n",
            "5695400                                   Gods and Monsters  1998     USA   \n",
            "6804492                                    I'll Do Anything  1994     USA   \n",
            "7325976                                        Jack & Sarah  1995     USA   \n",
            "8365180                                    Last Action Hero  1993     USA   \n",
            "9962486                                          Mr. Holmes  2015     USA   \n",
            "11380482                                             Plenty  1985     USA   \n",
            "11520704                                     Priest of Love  1981     USA   \n",
            "11953271                                        Restoration  1995     USA   \n",
            "11989496                                        Richard III  1995     USA   \n",
            "12531302                                            Scandal  1989     USA   \n",
            "13068875                          Six Degrees of Separation  1993     USA   \n",
            "13616054                                           Stardust  2007     USA   \n",
            "14007299                                 Swept from the Sea  1997     USA   \n",
            "14522714                            The Ballad of Little Jo  1993     USA   \n",
            "14976750                                  The Da Vinci Code  2006     USA   \n",
            "15510999                                 The Golden Compass  2007     USA   \n",
            "15722104                  The Hobbit: An Unexpected Journey  2012     USA   \n",
            "15727359          The Hobbit: The Battle of the Five Armies  2014     USA   \n",
            "15733590                The Hobbit: The Desolation of Smaug  2013     USA   \n",
            "16018002                                           The Keep  1983     USA   \n",
            "16286449  The Lord of the Rings: The Fellowship of the Ring  2001     USA   \n",
            "16293269      The Lord of the Rings: The Return of the King  2003     USA   \n",
            "16298607              The Lord of the Rings: The Two Towers  2002     USA   \n",
            "17160149                                         The Shadow  1994     USA   \n",
            "17693328                                      The Wolverine  2013     USA   \n",
            "17963542                                         To Die For  1994     USA   \n",
            "19286660                                              X-Men  2000     USA   \n",
            "19286661                                              X-Men  2000     USA   \n",
            "19312623                         X-Men: Days of Future Past  2014     USA   \n",
            "19318132                              X-Men: The Last Stand  2006     USA   \n",
            "19318133                              X-Men: The Last Stand  2006     USA   \n",
            "19323713                                                 X2  2003     USA   \n",
            "19323714                                                 X2  2003     USA   \n",
            "\n",
            "               date          name   type                   character     n  \n",
            "1113657  2018-05-04  Ian McKellen  actor       Horatio P. Huntington   4.0  \n",
            "1236895  1998-10-23  Ian McKellen  actor              Kurt Dussander   2.0  \n",
            "1781019  2017-03-17  Ian McKellen  actor                   Cogsworth  11.0  \n",
            "1868467  1997-11-26  Ian McKellen  actor               Uncle Freddie  12.0  \n",
            "4127727  2006-02-24  Ian McKellen  actor                     Zebedee   9.0  \n",
            "5084212  2006-11-03  Ian McKellen  actor                    The Toad   3.0  \n",
            "5695400  1998-11-04  Ian McKellen  actor                 James Whale   1.0  \n",
            "6804492  1994-02-04  Ian McKellen  actor          John Earl McAlpine  11.0  \n",
            "7325976  1996-03-22  Ian McKellen  actor                     William  10.0  \n",
            "8365180  1993-06-18  Ian McKellen  actor                       Death  11.0  \n",
            "9962486  2015-07-24  Ian McKellen  actor             Sherlock Holmes   1.0  \n",
            "11380482 1985-09-20  Ian McKellen  actor        Sir Andrew Charleson  45.0  \n",
            "11520704 1981-10-11  Ian McKellen  actor               D.H. Lawrence   1.0  \n",
            "11953271 1996-02-02  Ian McKellen  actor                  Will Gates   6.0  \n",
            "11989496 1995-12-29  Ian McKellen  actor                 Richard III   3.0  \n",
            "12531302 1989-04-28  Ian McKellen  actor                John Profumo   4.0  \n",
            "13068875 1993-12-08  Ian McKellen  actor                    Geoffrey   4.0  \n",
            "13616054 2007-08-10  Ian McKellen  actor                    Narrator   1.0  \n",
            "14007299 1998-01-23  Ian McKellen  actor           Dr. James Kennedy   3.0  \n",
            "14522714 1993-08-20  Ian McKellen  actor              Percy Corcoran   3.0  \n",
            "14976750 2006-05-19  Ian McKellen  actor           Sir Leigh Teabing   3.0  \n",
            "15510999 2007-12-07  Ian McKellen  actor              Iorek Byrnison   6.0  \n",
            "15722104 2012-12-14  Ian McKellen  actor                     Gandalf   1.0  \n",
            "15727359 2014-12-17  Ian McKellen  actor                     Gandalf   1.0  \n",
            "15733590 2013-12-13  Ian McKellen  actor                     Gandalf   1.0  \n",
            "16018002 1983-12-16  Ian McKellen  actor           Dr. Theodore Cuza   6.0  \n",
            "16286449 2001-12-19  Ian McKellen  actor                     Gandalf  17.0  \n",
            "16293269 2003-12-17  Ian McKellen  actor                     Gandalf  20.0  \n",
            "16298607 2002-12-18  Ian McKellen  actor                     Gandalf  20.0  \n",
            "17160149 1994-07-01  Ian McKellen  actor              Reinhardt Lane   5.0  \n",
            "17693328 2013-07-26  Ian McKellen  actor                     Magneto   NaN  \n",
            "17963542 1994-12-02  Ian McKellen  actor  Quilt Documentary Narrator   6.0  \n",
            "19286660 2000-07-14  Ian McKellen  actor               Eric Lensherr   3.0  \n",
            "19286661 2000-07-14  Ian McKellen  actor                     Magneto   3.0  \n",
            "19312623 2014-05-23  Ian McKellen  actor                     Magneto  18.0  \n",
            "19318132 2006-05-26  Ian McKellen  actor              Erik Lehnsherr   3.0  \n",
            "19318133 2006-05-26  Ian McKellen  actor                     Magneto   3.0  \n",
            "19323713 2003-05-02  Ian McKellen  actor              Eric Lehnsherr   3.0  \n",
            "19323714 2003-05-02  Ian McKellen  actor                     Magneto   3.0  \n"
          ]
        }
      ],
      "source": [
        "im_df = merged[(merged.name.str.contains('Ian McKellen')) & (merged.country=='USA') ]\n",
        "print(len(im_df))\n",
        "print(im_df)"
      ]
    },
    {
      "cell_type": "code",
      "source": [
        "im_df.date.dt.year.value_counts().sort_index().plot(kind='bar')"
      ],
      "metadata": {
        "colab": {
          "base_uri": "https://localhost:8080/"
        },
        "id": "pNiAb14RFQiw",
        "outputId": "a062b77b-2553-41a0-c106-b5d64dfedf9b"
      },
      "execution_count": null,
      "outputs": [
        {
          "output_type": "execute_result",
          "data": {
            "text/plain": [
              "<matplotlib.axes._subplots.AxesSubplot at 0x7f7df7858c10>"
            ]
          },
          "metadata": {},
          "execution_count": 75
        },
        {
          "output_type": "display_data",
          "data": {
            "text/plain": [
              "<Figure size 432x288 with 1 Axes>"
            ],
            "image/png": "[encoded data removed]"
          },
          "metadata": {
            "needs_background": "light"
          }
        }
      ]
    },
    {
      "cell_type": "code",
      "source": [],
      "metadata": {
        "id": "JUB4DI5-Fbf1"
      },
      "execution_count": null,
      "outputs": []
    }
  ],
  "metadata": {
    "kernelspec": {
      "display_name": "Python 3",
      "language": "python",
      "name": "python3"
    },
    "language_info": {
      "codemirror_mode": {
        "name": "ipython",
        "version": 3
      },
      "file_extension": ".py",
      "mimetype": "text/x-python",
      "name": "python",
      "nbconvert_exporter": "python",
      "pygments_lexer": "ipython3",
      "version": "3.7.6-final"
    },
    "colab": {
      "provenance": [],
      "toc_visible": true,
      "include_colab_link": true
    }
  },
  "nbformat": 4,
  "nbformat_minor": 0
}