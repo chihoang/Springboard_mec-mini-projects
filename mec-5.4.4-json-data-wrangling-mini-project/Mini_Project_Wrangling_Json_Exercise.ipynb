{
  "cells": [
    {
      "cell_type": "markdown",
      "metadata": {
        "id": "view-in-github",
        "colab_type": "text"
      },
      "source": [
        "<a href=\"https://colab.research.google.com/github/chihoang/Springboard_mec-mini-projects/blob/main/Mini_Project_Wrangling_Json_Exercise.ipynb\" target=\"_parent\"><img src=\"https://colab.research.google.com/assets/colab-badge.svg\" alt=\"Open In Colab\"/></a>"
      ]
    },
    {
      "cell_type": "markdown",
      "metadata": {
        "id": "xpeVT8-hU0x6"
      },
      "source": [
        "# JSON examples and exercise\n",
        "****\n",
        "+ get familiar with packages for dealing with JSON\n",
        "+ study examples with JSON strings and files \n",
        "+ work on exercise to be completed and submitted \n",
        "****\n",
        "+ reference: http://pandas.pydata.org/pandas-docs/stable/io.html#io-json-reader\n",
        "+ data source: http://jsonstudio.com/resources/\n",
        "****"
      ]
    },
    {
      "cell_type": "code",
      "execution_count": null,
      "metadata": {
        "collapsed": true,
        "id": "knAVc0BkU0x7"
      },
      "outputs": [],
      "source": [
        "import pandas as pd\n",
        "import matplotlib.pyplot as plt"
      ]
    },
    {
      "cell_type": "markdown",
      "metadata": {
        "id": "mbHcbl-vU0x8"
      },
      "source": [
        "## imports for Python, Pandas"
      ]
    },
    {
      "cell_type": "code",
      "execution_count": null,
      "metadata": {
        "collapsed": true,
        "id": "5AAe1YbqU0x8"
      },
      "outputs": [],
      "source": [
        "import json\n",
        "from pandas.io.json import json_normalize"
      ]
    },
    {
      "cell_type": "markdown",
      "metadata": {
        "id": "g7YMcK1SU0x9"
      },
      "source": [
        "## JSON example, with string\n",
        "\n",
        "+ demonstrates creation of normalized dataframes (tables) from nested json string\n",
        "+ source: http://pandas.pydata.org/pandas-docs/stable/io.html#normalization"
      ]
    },
    {
      "cell_type": "code",
      "execution_count": null,
      "metadata": {
        "collapsed": true,
        "id": "_pCOMDILU0x9"
      },
      "outputs": [],
      "source": [
        "# define json string\n",
        "data = [{'state': 'Florida', \n",
        "         'shortname': 'FL',\n",
        "         'info': {'governor': 'Rick Scott'},\n",
        "         'counties': [{'name': 'Dade', 'population': 12345},\n",
        "                      {'name': 'Broward', 'population': 40000},\n",
        "                      {'name': 'Palm Beach', 'population': 60000}]},\n",
        "        {'state': 'Ohio',\n",
        "         'shortname': 'OH',\n",
        "         'info': {'governor': 'John Kasich'},\n",
        "         'counties': [{'name': 'Summit', 'population': 1234},\n",
        "                      {'name': 'Cuyahoga', 'population': 1337}]}]"
      ]
    },
    {
      "cell_type": "code",
      "execution_count": null,
      "metadata": {
        "colab": {
          "base_uri": "https://localhost:8080/",
          "height": 261
        },
        "id": "RssBYJOhU0x9",
        "outputId": "7a94008d-0d9b-4f3d-cd5b-67ed72ec1c26"
      },
      "outputs": [
        {
          "output_type": "stream",
          "name": "stderr",
          "text": [
            "/usr/local/lib/python3.7/dist-packages/ipykernel_launcher.py:2: FutureWarning: pandas.io.json.json_normalize is deprecated, use pandas.json_normalize instead\n",
            "  \n"
          ]
        },
        {
          "output_type": "execute_result",
          "data": {
            "text/plain": [
              "         name  population\n",
              "0        Dade       12345\n",
              "1     Broward       40000\n",
              "2  Palm Beach       60000\n",
              "3      Summit        1234\n",
              "4    Cuyahoga        1337"
            ],
            "text/html": [
              "\n",
              "  <div id=\"df-e98e81ea-2113-4c21-8369-07f62fed30fb\">\n",
              "    <div class=\"colab-df-container\">\n",
              "      <div>\n",
              "<style scoped>\n",
              "    .dataframe tbody tr th:only-of-type {\n",
              "        vertical-align: middle;\n",
              "    }\n",
              "\n",
              "    .dataframe tbody tr th {\n",
              "        vertical-align: top;\n",
              "    }\n",
              "\n",
              "    .dataframe thead th {\n",
              "        text-align: right;\n",
              "    }\n",
              "</style>\n",
              "<table border=\"1\" class=\"dataframe\">\n",
              "  <thead>\n",
              "    <tr style=\"text-align: right;\">\n",
              "      <th></th>\n",
              "      <th>name</th>\n",
              "      <th>population</th>\n",
              "    </tr>\n",
              "  </thead>\n",
              "  <tbody>\n",
              "    <tr>\n",
              "      <th>0</th>\n",
              "      <td>Dade</td>\n",
              "      <td>12345</td>\n",
              "    </tr>\n",
              "    <tr>\n",
              "      <th>1</th>\n",
              "      <td>Broward</td>\n",
              "      <td>40000</td>\n",
              "    </tr>\n",
              "    <tr>\n",
              "      <th>2</th>\n",
              "      <td>Palm Beach</td>\n",
              "      <td>60000</td>\n",
              "    </tr>\n",
              "    <tr>\n",
              "      <th>3</th>\n",
              "      <td>Summit</td>\n",
              "      <td>1234</td>\n",
              "    </tr>\n",
              "    <tr>\n",
              "      <th>4</th>\n",
              "      <td>Cuyahoga</td>\n",
              "      <td>1337</td>\n",
              "    </tr>\n",
              "  </tbody>\n",
              "</table>\n",
              "</div>\n",
              "      <button class=\"colab-df-convert\" onclick=\"convertToInteractive('df-e98e81ea-2113-4c21-8369-07f62fed30fb')\"\n",
              "              title=\"Convert this dataframe to an interactive table.\"\n",
              "              style=\"display:none;\">\n",
              "        \n",
              "  <svg xmlns=\"http://www.w3.org/2000/svg\" height=\"24px\"viewBox=\"0 0 24 24\"\n",
              "       width=\"24px\">\n",
              "    <path d=\"M0 0h24v24H0V0z\" fill=\"none\"/>\n",
              "    <path d=\"M18.56 5.44l.94 2.06.94-2.06 2.06-.94-2.06-.94-.94-2.06-.94 2.06-2.06.94zm-11 1L8.5 8.5l.94-2.06 2.06-.94-2.06-.94L8.5 2.5l-.94 2.06-2.06.94zm10 10l.94 2.06.94-2.06 2.06-.94-2.06-.94-.94-2.06-.94 2.06-2.06.94z\"/><path d=\"M17.41 7.96l-1.37-1.37c-.4-.4-.92-.59-1.43-.59-.52 0-1.04.2-1.43.59L10.3 9.45l-7.72 7.72c-.78.78-.78 2.05 0 2.83L4 21.41c.39.39.9.59 1.41.59.51 0 1.02-.2 1.41-.59l7.78-7.78 2.81-2.81c.8-.78.8-2.07 0-2.86zM5.41 20L4 18.59l7.72-7.72 1.47 1.35L5.41 20z\"/>\n",
              "  </svg>\n",
              "      </button>\n",
              "      \n",
              "  <style>\n",
              "    .colab-df-container {\n",
              "      display:flex;\n",
              "      flex-wrap:wrap;\n",
              "      gap: 12px;\n",
              "    }\n",
              "\n",
              "    .colab-df-convert {\n",
              "      background-color: #E8F0FE;\n",
              "      border: none;\n",
              "      border-radius: 50%;\n",
              "      cursor: pointer;\n",
              "      display: none;\n",
              "      fill: #1967D2;\n",
              "      height: 32px;\n",
              "      padding: 0 0 0 0;\n",
              "      width: 32px;\n",
              "    }\n",
              "\n",
              "    .colab-df-convert:hover {\n",
              "      background-color: #E2EBFA;\n",
              "      box-shadow: 0px 1px 2px rgba(60, 64, 67, 0.3), 0px 1px 3px 1px rgba(60, 64, 67, 0.15);\n",
              "      fill: #174EA6;\n",
              "    }\n",
              "\n",
              "    [theme=dark] .colab-df-convert {\n",
              "      background-color: #3B4455;\n",
              "      fill: #D2E3FC;\n",
              "    }\n",
              "\n",
              "    [theme=dark] .colab-df-convert:hover {\n",
              "      background-color: #434B5C;\n",
              "      box-shadow: 0px 1px 3px 1px rgba(0, 0, 0, 0.15);\n",
              "      filter: drop-shadow(0px 1px 2px rgba(0, 0, 0, 0.3));\n",
              "      fill: #FFFFFF;\n",
              "    }\n",
              "  </style>\n",
              "\n",
              "      <script>\n",
              "        const buttonEl =\n",
              "          document.querySelector('#df-e98e81ea-2113-4c21-8369-07f62fed30fb button.colab-df-convert');\n",
              "        buttonEl.style.display =\n",
              "          google.colab.kernel.accessAllowed ? 'block' : 'none';\n",
              "\n",
              "        async function convertToInteractive(key) {\n",
              "          const element = document.querySelector('#df-e98e81ea-2113-4c21-8369-07f62fed30fb');\n",
              "          const dataTable =\n",
              "            await google.colab.kernel.invokeFunction('convertToInteractive',\n",
              "                                                     [key], {});\n",
              "          if (!dataTable) return;\n",
              "\n",
              "          const docLinkHtml = 'Like what you see? Visit the ' +\n",
              "            '<a target=\"_blank\" href=https://colab.research.google.com/notebooks/data_table.ipynb>data table notebook</a>'\n",
              "            + ' to learn more about interactive tables.';\n",
              "          element.innerHTML = '';\n",
              "          dataTable['output_type'] = 'display_data';\n",
              "          await google.colab.output.renderOutput(dataTable, element);\n",
              "          const docLink = document.createElement('div');\n",
              "          docLink.innerHTML = docLinkHtml;\n",
              "          element.appendChild(docLink);\n",
              "        }\n",
              "      </script>\n",
              "    </div>\n",
              "  </div>\n",
              "  "
            ]
          },
          "metadata": {},
          "execution_count": 80
        }
      ],
      "source": [
        "# use normalization to create tables from nested element\n",
        "json_normalize(data, 'counties')"
      ]
    },
    {
      "cell_type": "code",
      "execution_count": null,
      "metadata": {
        "colab": {
          "base_uri": "https://localhost:8080/",
          "height": 261
        },
        "id": "_OLAaQanU0x-",
        "outputId": "b2a1c625-cc1a-48a0-d63a-f47b12042e70"
      },
      "outputs": [
        {
          "output_type": "stream",
          "name": "stderr",
          "text": [
            "/usr/local/lib/python3.7/dist-packages/ipykernel_launcher.py:2: FutureWarning: pandas.io.json.json_normalize is deprecated, use pandas.json_normalize instead\n",
            "  \n"
          ]
        },
        {
          "output_type": "execute_result",
          "data": {
            "text/plain": [
              "         name  population    state shortname info.governor\n",
              "0        Dade       12345  Florida        FL    Rick Scott\n",
              "1     Broward       40000  Florida        FL    Rick Scott\n",
              "2  Palm Beach       60000  Florida        FL    Rick Scott\n",
              "3      Summit        1234     Ohio        OH   John Kasich\n",
              "4    Cuyahoga        1337     Ohio        OH   John Kasich"
            ],
            "text/html": [
              "\n",
              "  <div id=\"df-0f26e216-0a55-4384-9799-41f353c6856b\">\n",
              "    <div class=\"colab-df-container\">\n",
              "      <div>\n",
              "<style scoped>\n",
              "    .dataframe tbody tr th:only-of-type {\n",
              "        vertical-align: middle;\n",
              "    }\n",
              "\n",
              "    .dataframe tbody tr th {\n",
              "        vertical-align: top;\n",
              "    }\n",
              "\n",
              "    .dataframe thead th {\n",
              "        text-align: right;\n",
              "    }\n",
              "</style>\n",
              "<table border=\"1\" class=\"dataframe\">\n",
              "  <thead>\n",
              "    <tr style=\"text-align: right;\">\n",
              "      <th></th>\n",
              "      <th>name</th>\n",
              "      <th>population</th>\n",
              "      <th>state</th>\n",
              "      <th>shortname</th>\n",
              "      <th>info.governor</th>\n",
              "    </tr>\n",
              "  </thead>\n",
              "  <tbody>\n",
              "    <tr>\n",
              "      <th>0</th>\n",
              "      <td>Dade</td>\n",
              "      <td>12345</td>\n",
              "      <td>Florida</td>\n",
              "      <td>FL</td>\n",
              "      <td>Rick Scott</td>\n",
              "    </tr>\n",
              "    <tr>\n",
              "      <th>1</th>\n",
              "      <td>Broward</td>\n",
              "      <td>40000</td>\n",
              "      <td>Florida</td>\n",
              "      <td>FL</td>\n",
              "      <td>Rick Scott</td>\n",
              "    </tr>\n",
              "    <tr>\n",
              "      <th>2</th>\n",
              "      <td>Palm Beach</td>\n",
              "      <td>60000</td>\n",
              "      <td>Florida</td>\n",
              "      <td>FL</td>\n",
              "      <td>Rick Scott</td>\n",
              "    </tr>\n",
              "    <tr>\n",
              "      <th>3</th>\n",
              "      <td>Summit</td>\n",
              "      <td>1234</td>\n",
              "      <td>Ohio</td>\n",
              "      <td>OH</td>\n",
              "      <td>John Kasich</td>\n",
              "    </tr>\n",
              "    <tr>\n",
              "      <th>4</th>\n",
              "      <td>Cuyahoga</td>\n",
              "      <td>1337</td>\n",
              "      <td>Ohio</td>\n",
              "      <td>OH</td>\n",
              "      <td>John Kasich</td>\n",
              "    </tr>\n",
              "  </tbody>\n",
              "</table>\n",
              "</div>\n",
              "      <button class=\"colab-df-convert\" onclick=\"convertToInteractive('df-0f26e216-0a55-4384-9799-41f353c6856b')\"\n",
              "              title=\"Convert this dataframe to an interactive table.\"\n",
              "              style=\"display:none;\">\n",
              "        \n",
              "  <svg xmlns=\"http://www.w3.org/2000/svg\" height=\"24px\"viewBox=\"0 0 24 24\"\n",
              "       width=\"24px\">\n",
              "    <path d=\"M0 0h24v24H0V0z\" fill=\"none\"/>\n",
              "    <path d=\"M18.56 5.44l.94 2.06.94-2.06 2.06-.94-2.06-.94-.94-2.06-.94 2.06-2.06.94zm-11 1L8.5 8.5l.94-2.06 2.06-.94-2.06-.94L8.5 2.5l-.94 2.06-2.06.94zm10 10l.94 2.06.94-2.06 2.06-.94-2.06-.94-.94-2.06-.94 2.06-2.06.94z\"/><path d=\"M17.41 7.96l-1.37-1.37c-.4-.4-.92-.59-1.43-.59-.52 0-1.04.2-1.43.59L10.3 9.45l-7.72 7.72c-.78.78-.78 2.05 0 2.83L4 21.41c.39.39.9.59 1.41.59.51 0 1.02-.2 1.41-.59l7.78-7.78 2.81-2.81c.8-.78.8-2.07 0-2.86zM5.41 20L4 18.59l7.72-7.72 1.47 1.35L5.41 20z\"/>\n",
              "  </svg>\n",
              "      </button>\n",
              "      \n",
              "  <style>\n",
              "    .colab-df-container {\n",
              "      display:flex;\n",
              "      flex-wrap:wrap;\n",
              "      gap: 12px;\n",
              "    }\n",
              "\n",
              "    .colab-df-convert {\n",
              "      background-color: #E8F0FE;\n",
              "      border: none;\n",
              "      border-radius: 50%;\n",
              "      cursor: pointer;\n",
              "      display: none;\n",
              "      fill: #1967D2;\n",
              "      height: 32px;\n",
              "      padding: 0 0 0 0;\n",
              "      width: 32px;\n",
              "    }\n",
              "\n",
              "    .colab-df-convert:hover {\n",
              "      background-color: #E2EBFA;\n",
              "      box-shadow: 0px 1px 2px rgba(60, 64, 67, 0.3), 0px 1px 3px 1px rgba(60, 64, 67, 0.15);\n",
              "      fill: #174EA6;\n",
              "    }\n",
              "\n",
              "    [theme=dark] .colab-df-convert {\n",
              "      background-color: #3B4455;\n",
              "      fill: #D2E3FC;\n",
              "    }\n",
              "\n",
              "    [theme=dark] .colab-df-convert:hover {\n",
              "      background-color: #434B5C;\n",
              "      box-shadow: 0px 1px 3px 1px rgba(0, 0, 0, 0.15);\n",
              "      filter: drop-shadow(0px 1px 2px rgba(0, 0, 0, 0.3));\n",
              "      fill: #FFFFFF;\n",
              "    }\n",
              "  </style>\n",
              "\n",
              "      <script>\n",
              "        const buttonEl =\n",
              "          document.querySelector('#df-0f26e216-0a55-4384-9799-41f353c6856b button.colab-df-convert');\n",
              "        buttonEl.style.display =\n",
              "          google.colab.kernel.accessAllowed ? 'block' : 'none';\n",
              "\n",
              "        async function convertToInteractive(key) {\n",
              "          const element = document.querySelector('#df-0f26e216-0a55-4384-9799-41f353c6856b');\n",
              "          const dataTable =\n",
              "            await google.colab.kernel.invokeFunction('convertToInteractive',\n",
              "                                                     [key], {});\n",
              "          if (!dataTable) return;\n",
              "\n",
              "          const docLinkHtml = 'Like what you see? Visit the ' +\n",
              "            '<a target=\"_blank\" href=https://colab.research.google.com/notebooks/data_table.ipynb>data table notebook</a>'\n",
              "            + ' to learn more about interactive tables.';\n",
              "          element.innerHTML = '';\n",
              "          dataTable['output_type'] = 'display_data';\n",
              "          await google.colab.output.renderOutput(dataTable, element);\n",
              "          const docLink = document.createElement('div');\n",
              "          docLink.innerHTML = docLinkHtml;\n",
              "          element.appendChild(docLink);\n",
              "        }\n",
              "      </script>\n",
              "    </div>\n",
              "  </div>\n",
              "  "
            ]
          },
          "metadata": {},
          "execution_count": 81
        }
      ],
      "source": [
        "# further populate tables created from nested element\n",
        "json_normalize(data, 'counties', ['state', 'shortname', ['info', 'governor']])"
      ]
    },
    {
      "cell_type": "markdown",
      "metadata": {
        "id": "A5ZG7CPwU0x-"
      },
      "source": [
        "****\n",
        "## JSON example, with file\n",
        "\n",
        "+ demonstrates reading in a json file as a string and as a table\n",
        "+ uses small sample file containing data about projects funded by the World Bank \n",
        "+ data source: http://jsonstudio.com/resources/"
      ]
    },
    {
      "cell_type": "code",
      "source": [
        "### 11/22/22: mount to the datasets in Google Drive ###\n",
        "import os\n",
        "from google.colab import drive\n",
        "MOUNTPOINT = '/content/gdrive'\n",
        "DATADIR = os.path.join(MOUNTPOINT, 'My Drive', 'myfolder')\n",
        "drive.mount(MOUNTPOINT)"
      ],
      "metadata": {
        "colab": {
          "base_uri": "https://localhost:8080/"
        },
        "id": "lo0M64lY3jAQ",
        "outputId": "f5e3876c-2eac-477a-d847-3222503f0ea8"
      },
      "execution_count": null,
      "outputs": [
        {
          "output_type": "stream",
          "name": "stdout",
          "text": [
            "Drive already mounted at /content/gdrive; to attempt to forcibly remount, call drive.mount(\"/content/gdrive\", force_remount=True).\n"
          ]
        }
      ]
    },
    {
      "cell_type": "code",
      "execution_count": null,
      "metadata": {
        "id": "p_lyZcZXU0x-",
        "outputId": "96faeaf6-27d9-46fb-d3f2-49142568a394",
        "colab": {
          "base_uri": "https://localhost:8080/"
        }
      },
      "outputs": [
        {
          "output_type": "execute_result",
          "data": {
            "text/plain": [
              "[{'_id': {'$oid': '52b213b38594d8a2be17c780'},\n",
              "  'approvalfy': 1999,\n",
              "  'board_approval_month': 'November',\n",
              "  'boardapprovaldate': '2013-11-12T00:00:00Z',\n",
              "  'borrower': 'FEDERAL DEMOCRATIC REPUBLIC OF ETHIOPIA',\n",
              "  'closingdate': '2018-07-07T00:00:00Z',\n",
              "  'country_namecode': 'Federal Democratic Republic of Ethiopia!$!ET',\n",
              "  'countrycode': 'ET',\n",
              "  'countryname': 'Federal Democratic Republic of Ethiopia',\n",
              "  'countryshortname': 'Ethiopia',\n",
              "  'docty': 'Project Information Document,Indigenous Peoples Plan,Project Information Document',\n",
              "  'envassesmentcategorycode': 'C',\n",
              "  'grantamt': 0,\n",
              "  'ibrdcommamt': 0,\n",
              "  'id': 'P129828',\n",
              "  'idacommamt': 130000000,\n",
              "  'impagency': 'MINISTRY OF EDUCATION',\n",
              "  'lendinginstr': 'Investment Project Financing',\n",
              "  'lendinginstrtype': 'IN',\n",
              "  'lendprojectcost': 550000000,\n",
              "  'majorsector_percent': [{'Name': 'Education', 'Percent': 46},\n",
              "   {'Name': 'Education', 'Percent': 26},\n",
              "   {'Name': 'Public Administration, Law, and Justice', 'Percent': 16},\n",
              "   {'Name': 'Education', 'Percent': 12}],\n",
              "  'mjsector_namecode': [{'name': 'Education', 'code': 'EX'},\n",
              "   {'name': 'Education', 'code': 'EX'},\n",
              "   {'name': 'Public Administration, Law, and Justice', 'code': 'BX'},\n",
              "   {'name': 'Education', 'code': 'EX'}],\n",
              "  'mjtheme': ['Human development'],\n",
              "  'mjtheme_namecode': [{'name': 'Human development', 'code': '8'},\n",
              "   {'name': '', 'code': '11'}],\n",
              "  'mjthemecode': '8,11',\n",
              "  'prodline': 'PE',\n",
              "  'prodlinetext': 'IBRD/IDA',\n",
              "  'productlinetype': 'L',\n",
              "  'project_abstract': {'cdata': 'The development objective of the Second Phase of General Education Quality Improvement Project for Ethiopia is to improve learning conditions in primary and secondary schools and strengthen institutions at different levels of educational administration. The project has six components. The first component is curriculum, textbooks, assessment, examinations, and inspection. This component will support improvement of learning conditions in grades KG-12 by providing increased access to teaching and learning materials and through improvements to the curriculum by assessing the strengths and weaknesses of the current curriculum. This component has following four sub-components: (i) curriculum reform and implementation; (ii) teaching and learning materials; (iii) assessment and examinations; and (iv) inspection. The second component is teacher development program (TDP). This component will support improvements in learning conditions in both primary and secondary schools by advancing the quality of teaching in general education through: (a) enhancing the training of pre-service teachers in teacher education institutions; and (b) improving the quality of in-service teacher training. This component has following three sub-components: (i) pre-service teacher training; (ii) in-service teacher training; and (iii) licensing and relicensing of teachers and school leaders. The third component is school improvement plan. This component will support the strengthening of school planning in order to improve learning outcomes, and to partly fund the school improvement plans through school grants. It has following two sub-components: (i) school improvement plan; and (ii) school grants. The fourth component is management and capacity building, including education management information systems (EMIS). This component will support management and capacity building aspect of the project. This component has following three sub-components: (i) capacity building for education planning and management; (ii) capacity building for school planning and management; and (iii) EMIS. The fifth component is improving the quality of learning and teaching in secondary schools and universities through the use of information and communications technology (ICT). It has following five sub-components: (i) national policy and institution for ICT in general education; (ii) national ICT infrastructure improvement plan for general education; (iii) develop an integrated monitoring, evaluation, and learning system specifically for the ICT component; (iv) teacher professional development in the use of ICT; and (v) provision of limited number of e-Braille display readers with the possibility to scale up to all secondary education schools based on the successful implementation and usage of the readers. The sixth component is program coordination, monitoring and evaluation, and communication. It will support institutional strengthening by developing capacities in all aspects of program coordination, monitoring and evaluation; a new sub-component on communications will support information sharing for better management and accountability. It has following three sub-components: (i) program coordination; (ii) monitoring and evaluation (M and E); and (iii) communication.'},\n",
              "  'project_name': 'Ethiopia General Education Quality Improvement Project II',\n",
              "  'projectdocs': [{'DocTypeDesc': 'Project Information Document (PID),  Vol.',\n",
              "    'DocType': 'PID',\n",
              "    'EntityID': '090224b081e545fb_1_0',\n",
              "    'DocURL': 'http://www-wds.worldbank.org/servlet/WDSServlet?pcont=details&eid=090224b081e545fb_1_0',\n",
              "    'DocDate': '28-AUG-2013'},\n",
              "   {'DocTypeDesc': 'Indigenous Peoples Plan (IP),  Vol.1 of 1',\n",
              "    'DocType': 'IP',\n",
              "    'EntityID': '000442464_20130920111729',\n",
              "    'DocURL': 'http://www-wds.worldbank.org/servlet/WDSServlet?pcont=details&eid=000442464_20130920111729',\n",
              "    'DocDate': '01-JUL-2013'},\n",
              "   {'DocTypeDesc': 'Project Information Document (PID),  Vol.',\n",
              "    'DocType': 'PID',\n",
              "    'EntityID': '090224b0817b19e2_1_0',\n",
              "    'DocURL': 'http://www-wds.worldbank.org/servlet/WDSServlet?pcont=details&eid=090224b0817b19e2_1_0',\n",
              "    'DocDate': '22-NOV-2012'}],\n",
              "  'projectfinancialtype': 'IDA',\n",
              "  'projectstatusdisplay': 'Active',\n",
              "  'regionname': 'Africa',\n",
              "  'sector': [{'Name': 'Primary education'},\n",
              "   {'Name': 'Secondary education'},\n",
              "   {'Name': 'Public administration- Other social services'},\n",
              "   {'Name': 'Tertiary education'}],\n",
              "  'sector1': {'Name': 'Primary education', 'Percent': 46},\n",
              "  'sector2': {'Name': 'Secondary education', 'Percent': 26},\n",
              "  'sector3': {'Name': 'Public administration- Other social services',\n",
              "   'Percent': 16},\n",
              "  'sector4': {'Name': 'Tertiary education', 'Percent': 12},\n",
              "  'sector_namecode': [{'name': 'Primary education', 'code': 'EP'},\n",
              "   {'name': 'Secondary education', 'code': 'ES'},\n",
              "   {'name': 'Public administration- Other social services', 'code': 'BS'},\n",
              "   {'name': 'Tertiary education', 'code': 'ET'}],\n",
              "  'sectorcode': 'ET,BS,ES,EP',\n",
              "  'source': 'IBRD',\n",
              "  'status': 'Active',\n",
              "  'supplementprojectflg': 'N',\n",
              "  'theme1': {'Name': 'Education for all', 'Percent': 100},\n",
              "  'theme_namecode': [{'name': 'Education for all', 'code': '65'}],\n",
              "  'themecode': '65',\n",
              "  'totalamt': 130000000,\n",
              "  'totalcommamt': 130000000,\n",
              "  'url': 'http://www.worldbank.org/projects/P129828/ethiopia-general-education-quality-improvement-project-ii?lang=en'},\n",
              " {'_id': {'$oid': '52b213b38594d8a2be17c781'},\n",
              "  'approvalfy': 2015,\n",
              "  'board_approval_month': 'November',\n",
              "  'boardapprovaldate': '2013-11-04T00:00:00Z',\n",
              "  'borrower': 'GOVERNMENT OF TUNISIA',\n",
              "  'country_namecode': 'Republic of Tunisia!$!TN',\n",
              "  'countrycode': 'TN',\n",
              "  'countryname': 'Republic of Tunisia',\n",
              "  'countryshortname': 'Tunisia',\n",
              "  'docty': 'Project Information Document,Integrated Safeguards Data Sheet,Integrated Safeguards Data Sheet,Project Information Document,Integrated Safeguards Data Sheet,Project Information Document',\n",
              "  'envassesmentcategorycode': 'C',\n",
              "  'grantamt': 4700000,\n",
              "  'ibrdcommamt': 0,\n",
              "  'id': 'P144674',\n",
              "  'idacommamt': 0,\n",
              "  'impagency': 'MINISTRY OF FINANCE',\n",
              "  'lendinginstr': 'Specific Investment Loan',\n",
              "  'lendinginstrtype': 'IN',\n",
              "  'lendprojectcost': 5700000,\n",
              "  'majorsector_percent': [{'Name': 'Public Administration, Law, and Justice',\n",
              "    'Percent': 70},\n",
              "   {'Name': 'Public Administration, Law, and Justice', 'Percent': 30}],\n",
              "  'mjsector_namecode': [{'name': 'Public Administration, Law, and Justice',\n",
              "    'code': 'BX'},\n",
              "   {'name': 'Public Administration, Law, and Justice', 'code': 'BX'}],\n",
              "  'mjtheme': ['Economic management', 'Social protection and risk management'],\n",
              "  'mjtheme_namecode': [{'name': 'Economic management', 'code': '1'},\n",
              "   {'name': 'Social protection and risk management', 'code': '6'}],\n",
              "  'mjthemecode': '1,6',\n",
              "  'prodline': 'RE',\n",
              "  'prodlinetext': 'Recipient Executed Activities',\n",
              "  'productlinetype': 'L',\n",
              "  'project_name': 'TN: DTF Social Protection Reforms Support',\n",
              "  'projectdocs': [{'DocTypeDesc': 'Project Information Document (PID),  Vol.1 of 1',\n",
              "    'DocType': 'PID',\n",
              "    'EntityID': '000333037_20131024115616',\n",
              "    'DocURL': 'http://www-wds.worldbank.org/servlet/WDSServlet?pcont=details&eid=000333037_20131024115616',\n",
              "    'DocDate': '29-MAR-2013'},\n",
              "   {'DocTypeDesc': 'Integrated Safeguards Data Sheet (ISDS),  Vol.1 of 1',\n",
              "    'DocType': 'ISDS',\n",
              "    'EntityID': '000356161_20131024151611',\n",
              "    'DocURL': 'http://www-wds.worldbank.org/servlet/WDSServlet?pcont=details&eid=000356161_20131024151611',\n",
              "    'DocDate': '29-MAR-2013'},\n",
              "   {'DocTypeDesc': 'Integrated Safeguards Data Sheet (ISDS),  Vol.1 of 1',\n",
              "    'DocType': 'ISDS',\n",
              "    'EntityID': '000442464_20131031112136',\n",
              "    'DocURL': 'http://www-wds.worldbank.org/servlet/WDSServlet?pcont=details&eid=000442464_20131031112136',\n",
              "    'DocDate': '29-MAR-2013'},\n",
              "   {'DocTypeDesc': 'Project Information Document (PID),  Vol.1 of 1',\n",
              "    'DocType': 'PID',\n",
              "    'EntityID': '000333037_20131031105716',\n",
              "    'DocURL': 'http://www-wds.worldbank.org/servlet/WDSServlet?pcont=details&eid=000333037_20131031105716',\n",
              "    'DocDate': '29-MAR-2013'},\n",
              "   {'DocTypeDesc': 'Integrated Safeguards Data Sheet (ISDS),  Vol.1 of 1',\n",
              "    'DocType': 'ISDS',\n",
              "    'EntityID': '000356161_20130305113209',\n",
              "    'DocURL': 'http://www-wds.worldbank.org/servlet/WDSServlet?pcont=details&eid=000356161_20130305113209',\n",
              "    'DocDate': '16-JAN-2013'},\n",
              "   {'DocTypeDesc': 'Project Information Document (PID),  Vol.1 of 1',\n",
              "    'DocType': 'PID',\n",
              "    'EntityID': '000356161_20130305113716',\n",
              "    'DocURL': 'http://www-wds.worldbank.org/servlet/WDSServlet?pcont=details&eid=000356161_20130305113716',\n",
              "    'DocDate': '16-JAN-2013'}],\n",
              "  'projectfinancialtype': 'OTHER',\n",
              "  'projectstatusdisplay': 'Active',\n",
              "  'regionname': 'Middle East and North Africa',\n",
              "  'sector': [{'Name': 'Public administration- Other social services'},\n",
              "   {'Name': 'General public administration sector'}],\n",
              "  'sector1': {'Name': 'Public administration- Other social services',\n",
              "   'Percent': 70},\n",
              "  'sector2': {'Name': 'General public administration sector', 'Percent': 30},\n",
              "  'sector_namecode': [{'name': 'Public administration- Other social services',\n",
              "    'code': 'BS'},\n",
              "   {'name': 'General public administration sector', 'code': 'BZ'}],\n",
              "  'sectorcode': 'BZ,BS',\n",
              "  'source': 'IBRD',\n",
              "  'status': 'Active',\n",
              "  'supplementprojectflg': 'N',\n",
              "  'theme1': {'Name': 'Other economic management', 'Percent': 30},\n",
              "  'theme_namecode': [{'name': 'Other economic management', 'code': '24'},\n",
              "   {'name': 'Social safety nets', 'code': '54'}],\n",
              "  'themecode': '54,24',\n",
              "  'totalamt': 0,\n",
              "  'totalcommamt': 4700000,\n",
              "  'url': 'http://www.worldbank.org/projects/P144674?lang=en'}]"
            ]
          },
          "metadata": {},
          "execution_count": 83
        }
      ],
      "source": [
        "# load json as string\n",
        "# json.load((open('data/world_bank_projects_less.json')))\n",
        "json.load((open('/content/gdrive/MyDrive/Colab Notebooks/mec-mini-projects-master/\\\n",
        "mec-5.4.4-json-data-wrangling-mini-project/data/world_bank_projects_less.json')))"
      ]
    },
    {
      "cell_type": "code",
      "execution_count": null,
      "metadata": {
        "id": "0k5xhUcPU0x_",
        "outputId": "c9c6c2ce-eb6c-471e-ea47-d24e2ede1273",
        "colab": {
          "base_uri": "https://localhost:8080/",
          "height": 327
        }
      },
      "outputs": [
        {
          "output_type": "execute_result",
          "data": {
            "text/plain": [
              "                                    _id  approvalfy board_approval_month  \\\n",
              "0  {'$oid': '52b213b38594d8a2be17c780'}        1999             November   \n",
              "1  {'$oid': '52b213b38594d8a2be17c781'}        2015             November   \n",
              "\n",
              "      boardapprovaldate                                 borrower  \\\n",
              "0  2013-11-12T00:00:00Z  FEDERAL DEMOCRATIC REPUBLIC OF ETHIOPIA   \n",
              "1  2013-11-04T00:00:00Z                    GOVERNMENT OF TUNISIA   \n",
              "\n",
              "            closingdate                              country_namecode  \\\n",
              "0  2018-07-07T00:00:00Z  Federal Democratic Republic of Ethiopia!$!ET   \n",
              "1                   NaN                      Republic of Tunisia!$!TN   \n",
              "\n",
              "  countrycode                              countryname countryshortname  ...  \\\n",
              "0          ET  Federal Democratic Republic of Ethiopia         Ethiopia  ...   \n",
              "1          TN                      Republic of Tunisia          Tunisia  ...   \n",
              "\n",
              "    sectorcode source  status  supplementprojectflg  \\\n",
              "0  ET,BS,ES,EP   IBRD  Active                     N   \n",
              "1        BZ,BS   IBRD  Active                     N   \n",
              "\n",
              "                                              theme1  \\\n",
              "0      {'Name': 'Education for all', 'Percent': 100}   \n",
              "1  {'Name': 'Other economic management', 'Percent...   \n",
              "\n",
              "                                      theme_namecode themecode   totalamt  \\\n",
              "0      [{'name': 'Education for all', 'code': '65'}]        65  130000000   \n",
              "1  [{'name': 'Other economic management', 'code':...     54,24          0   \n",
              "\n",
              "  totalcommamt                                                url  \n",
              "0    130000000  http://www.worldbank.org/projects/P129828/ethi...  \n",
              "1      4700000  http://www.worldbank.org/projects/P144674?lang=en  \n",
              "\n",
              "[2 rows x 50 columns]"
            ],
            "text/html": [
              "\n",
              "  <div id=\"df-01ec4bf7-f880-4bfe-86ef-3d070016d845\">\n",
              "    <div class=\"colab-df-container\">\n",
              "      <div>\n",
              "<style scoped>\n",
              "    .dataframe tbody tr th:only-of-type {\n",
              "        vertical-align: middle;\n",
              "    }\n",
              "\n",
              "    .dataframe tbody tr th {\n",
              "        vertical-align: top;\n",
              "    }\n",
              "\n",
              "    .dataframe thead th {\n",
              "        text-align: right;\n",
              "    }\n",
              "</style>\n",
              "<table border=\"1\" class=\"dataframe\">\n",
              "  <thead>\n",
              "    <tr style=\"text-align: right;\">\n",
              "      <th></th>\n",
              "      <th>_id</th>\n",
              "      <th>approvalfy</th>\n",
              "      <th>board_approval_month</th>\n",
              "      <th>boardapprovaldate</th>\n",
              "      <th>borrower</th>\n",
              "      <th>closingdate</th>\n",
              "      <th>country_namecode</th>\n",
              "      <th>countrycode</th>\n",
              "      <th>countryname</th>\n",
              "      <th>countryshortname</th>\n",
              "      <th>...</th>\n",
              "      <th>sectorcode</th>\n",
              "      <th>source</th>\n",
              "      <th>status</th>\n",
              "      <th>supplementprojectflg</th>\n",
              "      <th>theme1</th>\n",
              "      <th>theme_namecode</th>\n",
              "      <th>themecode</th>\n",
              "      <th>totalamt</th>\n",
              "      <th>totalcommamt</th>\n",
              "      <th>url</th>\n",
              "    </tr>\n",
              "  </thead>\n",
              "  <tbody>\n",
              "    <tr>\n",
              "      <th>0</th>\n",
              "      <td>{'$oid': '52b213b38594d8a2be17c780'}</td>\n",
              "      <td>1999</td>\n",
              "      <td>November</td>\n",
              "      <td>2013-11-12T00:00:00Z</td>\n",
              "      <td>FEDERAL DEMOCRATIC REPUBLIC OF ETHIOPIA</td>\n",
              "      <td>2018-07-07T00:00:00Z</td>\n",
              "      <td>Federal Democratic Republic of Ethiopia!$!ET</td>\n",
              "      <td>ET</td>\n",
              "      <td>Federal Democratic Republic of Ethiopia</td>\n",
              "      <td>Ethiopia</td>\n",
              "      <td>...</td>\n",
              "      <td>ET,BS,ES,EP</td>\n",
              "      <td>IBRD</td>\n",
              "      <td>Active</td>\n",
              "      <td>N</td>\n",
              "      <td>{'Name': 'Education for all', 'Percent': 100}</td>\n",
              "      <td>[{'name': 'Education for all', 'code': '65'}]</td>\n",
              "      <td>65</td>\n",
              "      <td>130000000</td>\n",
              "      <td>130000000</td>\n",
              "      <td>http://www.worldbank.org/projects/P129828/ethi...</td>\n",
              "    </tr>\n",
              "    <tr>\n",
              "      <th>1</th>\n",
              "      <td>{'$oid': '52b213b38594d8a2be17c781'}</td>\n",
              "      <td>2015</td>\n",
              "      <td>November</td>\n",
              "      <td>2013-11-04T00:00:00Z</td>\n",
              "      <td>GOVERNMENT OF TUNISIA</td>\n",
              "      <td>NaN</td>\n",
              "      <td>Republic of Tunisia!$!TN</td>\n",
              "      <td>TN</td>\n",
              "      <td>Republic of Tunisia</td>\n",
              "      <td>Tunisia</td>\n",
              "      <td>...</td>\n",
              "      <td>BZ,BS</td>\n",
              "      <td>IBRD</td>\n",
              "      <td>Active</td>\n",
              "      <td>N</td>\n",
              "      <td>{'Name': 'Other economic management', 'Percent...</td>\n",
              "      <td>[{'name': 'Other economic management', 'code':...</td>\n",
              "      <td>54,24</td>\n",
              "      <td>0</td>\n",
              "      <td>4700000</td>\n",
              "      <td>http://www.worldbank.org/projects/P144674?lang=en</td>\n",
              "    </tr>\n",
              "  </tbody>\n",
              "</table>\n",
              "<p>2 rows × 50 columns</p>\n",
              "</div>\n",
              "      <button class=\"colab-df-convert\" onclick=\"convertToInteractive('df-01ec4bf7-f880-4bfe-86ef-3d070016d845')\"\n",
              "              title=\"Convert this dataframe to an interactive table.\"\n",
              "              style=\"display:none;\">\n",
              "        \n",
              "  <svg xmlns=\"http://www.w3.org/2000/svg\" height=\"24px\"viewBox=\"0 0 24 24\"\n",
              "       width=\"24px\">\n",
              "    <path d=\"M0 0h24v24H0V0z\" fill=\"none\"/>\n",
              "    <path d=\"M18.56 5.44l.94 2.06.94-2.06 2.06-.94-2.06-.94-.94-2.06-.94 2.06-2.06.94zm-11 1L8.5 8.5l.94-2.06 2.06-.94-2.06-.94L8.5 2.5l-.94 2.06-2.06.94zm10 10l.94 2.06.94-2.06 2.06-.94-2.06-.94-.94-2.06-.94 2.06-2.06.94z\"/><path d=\"M17.41 7.96l-1.37-1.37c-.4-.4-.92-.59-1.43-.59-.52 0-1.04.2-1.43.59L10.3 9.45l-7.72 7.72c-.78.78-.78 2.05 0 2.83L4 21.41c.39.39.9.59 1.41.59.51 0 1.02-.2 1.41-.59l7.78-7.78 2.81-2.81c.8-.78.8-2.07 0-2.86zM5.41 20L4 18.59l7.72-7.72 1.47 1.35L5.41 20z\"/>\n",
              "  </svg>\n",
              "      </button>\n",
              "      \n",
              "  <style>\n",
              "    .colab-df-container {\n",
              "      display:flex;\n",
              "      flex-wrap:wrap;\n",
              "      gap: 12px;\n",
              "    }\n",
              "\n",
              "    .colab-df-convert {\n",
              "      background-color: #E8F0FE;\n",
              "      border: none;\n",
              "      border-radius: 50%;\n",
              "      cursor: pointer;\n",
              "      display: none;\n",
              "      fill: #1967D2;\n",
              "      height: 32px;\n",
              "      padding: 0 0 0 0;\n",
              "      width: 32px;\n",
              "    }\n",
              "\n",
              "    .colab-df-convert:hover {\n",
              "      background-color: #E2EBFA;\n",
              "      box-shadow: 0px 1px 2px rgba(60, 64, 67, 0.3), 0px 1px 3px 1px rgba(60, 64, 67, 0.15);\n",
              "      fill: #174EA6;\n",
              "    }\n",
              "\n",
              "    [theme=dark] .colab-df-convert {\n",
              "      background-color: #3B4455;\n",
              "      fill: #D2E3FC;\n",
              "    }\n",
              "\n",
              "    [theme=dark] .colab-df-convert:hover {\n",
              "      background-color: #434B5C;\n",
              "      box-shadow: 0px 1px 3px 1px rgba(0, 0, 0, 0.15);\n",
              "      filter: drop-shadow(0px 1px 2px rgba(0, 0, 0, 0.3));\n",
              "      fill: #FFFFFF;\n",
              "    }\n",
              "  </style>\n",
              "\n",
              "      <script>\n",
              "        const buttonEl =\n",
              "          document.querySelector('#df-01ec4bf7-f880-4bfe-86ef-3d070016d845 button.colab-df-convert');\n",
              "        buttonEl.style.display =\n",
              "          google.colab.kernel.accessAllowed ? 'block' : 'none';\n",
              "\n",
              "        async function convertToInteractive(key) {\n",
              "          const element = document.querySelector('#df-01ec4bf7-f880-4bfe-86ef-3d070016d845');\n",
              "          const dataTable =\n",
              "            await google.colab.kernel.invokeFunction('convertToInteractive',\n",
              "                                                     [key], {});\n",
              "          if (!dataTable) return;\n",
              "\n",
              "          const docLinkHtml = 'Like what you see? Visit the ' +\n",
              "            '<a target=\"_blank\" href=https://colab.research.google.com/notebooks/data_table.ipynb>data table notebook</a>'\n",
              "            + ' to learn more about interactive tables.';\n",
              "          element.innerHTML = '';\n",
              "          dataTable['output_type'] = 'display_data';\n",
              "          await google.colab.output.renderOutput(dataTable, element);\n",
              "          const docLink = document.createElement('div');\n",
              "          docLink.innerHTML = docLinkHtml;\n",
              "          element.appendChild(docLink);\n",
              "        }\n",
              "      </script>\n",
              "    </div>\n",
              "  </div>\n",
              "  "
            ]
          },
          "metadata": {},
          "execution_count": 84
        }
      ],
      "source": [
        "# load as Pandas dataframe\n",
        "sample_json_df = pd.read_json('/content/gdrive/MyDrive/Colab Notebooks/mec-mini-projects-master/\\\n",
        "mec-5.4.4-json-data-wrangling-mini-project/data/world_bank_projects_less.json')\n",
        "sample_json_df"
      ]
    },
    {
      "cell_type": "code",
      "source": [
        "sample_json_df.info()"
      ],
      "metadata": {
        "colab": {
          "base_uri": "https://localhost:8080/"
        },
        "id": "oKP_U5Wk5BaK",
        "outputId": "289a0a35-5c92-4909-c9a4-c66af0359551"
      },
      "execution_count": null,
      "outputs": [
        {
          "output_type": "stream",
          "name": "stdout",
          "text": [
            "<class 'pandas.core.frame.DataFrame'>\n",
            "RangeIndex: 2 entries, 0 to 1\n",
            "Data columns (total 50 columns):\n",
            " #   Column                    Non-Null Count  Dtype \n",
            "---  ------                    --------------  ----- \n",
            " 0   _id                       2 non-null      object\n",
            " 1   approvalfy                2 non-null      int64 \n",
            " 2   board_approval_month      2 non-null      object\n",
            " 3   boardapprovaldate         2 non-null      object\n",
            " 4   borrower                  2 non-null      object\n",
            " 5   closingdate               1 non-null      object\n",
            " 6   country_namecode          2 non-null      object\n",
            " 7   countrycode               2 non-null      object\n",
            " 8   countryname               2 non-null      object\n",
            " 9   countryshortname          2 non-null      object\n",
            " 10  docty                     2 non-null      object\n",
            " 11  envassesmentcategorycode  2 non-null      object\n",
            " 12  grantamt                  2 non-null      int64 \n",
            " 13  ibrdcommamt               2 non-null      int64 \n",
            " 14  id                        2 non-null      object\n",
            " 15  idacommamt                2 non-null      int64 \n",
            " 16  impagency                 2 non-null      object\n",
            " 17  lendinginstr              2 non-null      object\n",
            " 18  lendinginstrtype          2 non-null      object\n",
            " 19  lendprojectcost           2 non-null      int64 \n",
            " 20  majorsector_percent       2 non-null      object\n",
            " 21  mjsector_namecode         2 non-null      object\n",
            " 22  mjtheme                   2 non-null      object\n",
            " 23  mjtheme_namecode          2 non-null      object\n",
            " 24  mjthemecode               2 non-null      object\n",
            " 25  prodline                  2 non-null      object\n",
            " 26  prodlinetext              2 non-null      object\n",
            " 27  productlinetype           2 non-null      object\n",
            " 28  project_abstract          1 non-null      object\n",
            " 29  project_name              2 non-null      object\n",
            " 30  projectdocs               2 non-null      object\n",
            " 31  projectfinancialtype      2 non-null      object\n",
            " 32  projectstatusdisplay      2 non-null      object\n",
            " 33  regionname                2 non-null      object\n",
            " 34  sector                    2 non-null      object\n",
            " 35  sector1                   2 non-null      object\n",
            " 36  sector2                   2 non-null      object\n",
            " 37  sector3                   1 non-null      object\n",
            " 38  sector4                   1 non-null      object\n",
            " 39  sector_namecode           2 non-null      object\n",
            " 40  sectorcode                2 non-null      object\n",
            " 41  source                    2 non-null      object\n",
            " 42  status                    2 non-null      object\n",
            " 43  supplementprojectflg      2 non-null      object\n",
            " 44  theme1                    2 non-null      object\n",
            " 45  theme_namecode            2 non-null      object\n",
            " 46  themecode                 2 non-null      object\n",
            " 47  totalamt                  2 non-null      int64 \n",
            " 48  totalcommamt              2 non-null      int64 \n",
            " 49  url                       2 non-null      object\n",
            "dtypes: int64(7), object(43)\n",
            "memory usage: 928.0+ bytes\n"
          ]
        }
      ]
    },
    {
      "cell_type": "markdown",
      "metadata": {
        "id": "Mm_6asK6U0x_"
      },
      "source": [
        "****\n",
        "## JSON exercise\n",
        "\n",
        "Using data in file 'data/world_bank_projects.json' and the techniques demonstrated above,\n",
        "1. Find the 10 countries with most projects\n",
        "2. Find the top 10 major project themes (using column 'mjtheme_namecode')\n",
        "3. In 2. above you will notice that some entries have only the code and the name is missing. Create a dataframe with the missing names filled in."
      ]
    },
    {
      "cell_type": "markdown",
      "source": [
        "## 1. Find the 10 countries with most projects"
      ],
      "metadata": {
        "id": "sr3Dvpfr7CF-"
      }
    },
    {
      "cell_type": "code",
      "execution_count": null,
      "metadata": {
        "collapsed": true,
        "id": "KuPVl7IkU0x_"
      },
      "outputs": [],
      "source": [
        "# load as Pandas dataframe\n",
        "raw_data = pd.read_json('/content/gdrive/MyDrive/Colab Notebooks/mec-mini-projects-master/\\\n",
        "mec-5.4.4-json-data-wrangling-mini-project/data/world_bank_projects.json')"
      ]
    },
    {
      "cell_type": "code",
      "source": [
        "# overall look at dataset: 500 x 50\n",
        "raw_data.info()"
      ],
      "metadata": {
        "colab": {
          "base_uri": "https://localhost:8080/"
        },
        "id": "zIATnYB26hH3",
        "outputId": "d8c05be5-b0a1-4af8-8580-c9a01732fcc3"
      },
      "execution_count": null,
      "outputs": [
        {
          "output_type": "stream",
          "name": "stdout",
          "text": [
            "<class 'pandas.core.frame.DataFrame'>\n",
            "RangeIndex: 500 entries, 0 to 499\n",
            "Data columns (total 50 columns):\n",
            " #   Column                    Non-Null Count  Dtype \n",
            "---  ------                    --------------  ----- \n",
            " 0   sector                    500 non-null    object\n",
            " 1   supplementprojectflg      498 non-null    object\n",
            " 2   projectfinancialtype      500 non-null    object\n",
            " 3   prodline                  500 non-null    object\n",
            " 4   mjtheme                   491 non-null    object\n",
            " 5   idacommamt                500 non-null    int64 \n",
            " 6   impagency                 472 non-null    object\n",
            " 7   project_name              500 non-null    object\n",
            " 8   mjthemecode               500 non-null    object\n",
            " 9   closingdate               370 non-null    object\n",
            " 10  totalcommamt              500 non-null    int64 \n",
            " 11  id                        500 non-null    object\n",
            " 12  mjsector_namecode         500 non-null    object\n",
            " 13  docty                     446 non-null    object\n",
            " 14  sector1                   500 non-null    object\n",
            " 15  lendinginstr              495 non-null    object\n",
            " 16  countrycode               500 non-null    object\n",
            " 17  sector2                   380 non-null    object\n",
            " 18  totalamt                  500 non-null    int64 \n",
            " 19  mjtheme_namecode          500 non-null    object\n",
            " 20  boardapprovaldate         500 non-null    object\n",
            " 21  countryshortname          500 non-null    object\n",
            " 22  sector4                   174 non-null    object\n",
            " 23  prodlinetext              500 non-null    object\n",
            " 24  productlinetype           500 non-null    object\n",
            " 25  regionname                500 non-null    object\n",
            " 26  status                    500 non-null    object\n",
            " 27  country_namecode          500 non-null    object\n",
            " 28  envassesmentcategorycode  430 non-null    object\n",
            " 29  project_abstract          362 non-null    object\n",
            " 30  approvalfy                500 non-null    int64 \n",
            " 31  projectdocs               446 non-null    object\n",
            " 32  lendprojectcost           500 non-null    int64 \n",
            " 33  lendinginstrtype          495 non-null    object\n",
            " 34  theme1                    500 non-null    object\n",
            " 35  grantamt                  500 non-null    int64 \n",
            " 36  themecode                 491 non-null    object\n",
            " 37  borrower                  485 non-null    object\n",
            " 38  sectorcode                500 non-null    object\n",
            " 39  sector3                   265 non-null    object\n",
            " 40  majorsector_percent       500 non-null    object\n",
            " 41  board_approval_month      500 non-null    object\n",
            " 42  theme_namecode            491 non-null    object\n",
            " 43  countryname               500 non-null    object\n",
            " 44  url                       500 non-null    object\n",
            " 45  source                    500 non-null    object\n",
            " 46  projectstatusdisplay      500 non-null    object\n",
            " 47  ibrdcommamt               500 non-null    int64 \n",
            " 48  sector_namecode           500 non-null    object\n",
            " 49  _id                       500 non-null    object\n",
            "dtypes: int64(7), object(43)\n",
            "memory usage: 195.4+ KB\n"
          ]
        }
      ]
    },
    {
      "cell_type": "code",
      "source": [
        "# look at the first row of dataset \n",
        "raw_data.iloc[0]"
      ],
      "metadata": {
        "colab": {
          "base_uri": "https://localhost:8080/"
        },
        "id": "mKXsImAB6AKL",
        "outputId": "9e3f792f-23fb-4047-f61e-2df6f60eb90c"
      },
      "execution_count": null,
      "outputs": [
        {
          "output_type": "execute_result",
          "data": {
            "text/plain": [
              "sector                      [{'Name': 'Primary education'}, {'Name': 'Seco...\n",
              "supplementprojectflg                                                        N\n",
              "projectfinancialtype                                                      IDA\n",
              "prodline                                                                   PE\n",
              "mjtheme                                                   [Human development]\n",
              "idacommamt                                                          130000000\n",
              "impagency                                               MINISTRY OF EDUCATION\n",
              "project_name                Ethiopia General Education Quality Improvement...\n",
              "mjthemecode                                                              8,11\n",
              "closingdate                                              2018-07-07T00:00:00Z\n",
              "totalcommamt                                                        130000000\n",
              "id                                                                    P129828\n",
              "mjsector_namecode           [{'code': 'EX', 'name': 'Education'}, {'code':...\n",
              "docty                       Project Information Document,Indigenous People...\n",
              "sector1                          {'Percent': 46, 'Name': 'Primary education'}\n",
              "lendinginstr                                     Investment Project Financing\n",
              "countrycode                                                                ET\n",
              "sector2                        {'Percent': 26, 'Name': 'Secondary education'}\n",
              "totalamt                                                            130000000\n",
              "mjtheme_namecode            [{'code': '8', 'name': 'Human development'}, {...\n",
              "boardapprovaldate                                        2013-11-12T00:00:00Z\n",
              "countryshortname                                                     Ethiopia\n",
              "sector4                         {'Percent': 12, 'Name': 'Tertiary education'}\n",
              "prodlinetext                                                         IBRD/IDA\n",
              "productlinetype                                                             L\n",
              "regionname                                                             Africa\n",
              "status                                                                 Active\n",
              "country_namecode                 Federal Democratic Republic of Ethiopia!$!ET\n",
              "envassesmentcategorycode                                                    C\n",
              "project_abstract            {'cdata': 'The development objective of the Se...\n",
              "approvalfy                                                               1999\n",
              "projectdocs                 [{'DocDate': '28-AUG-2013', 'EntityID': '09022...\n",
              "lendprojectcost                                                     550000000\n",
              "lendinginstrtype                                                           IN\n",
              "theme1                          {'Percent': 100, 'Name': 'Education for all'}\n",
              "grantamt                                                                    0\n",
              "themecode                                                                  65\n",
              "borrower                              FEDERAL DEMOCRATIC REPUBLIC OF ETHIOPIA\n",
              "sectorcode                                                        ET,BS,ES,EP\n",
              "sector3                     {'Percent': 16, 'Name': 'Public administration...\n",
              "majorsector_percent         [{'Percent': 46, 'Name': 'Education'}, {'Perce...\n",
              "board_approval_month                                                 November\n",
              "theme_namecode                  [{'code': '65', 'name': 'Education for all'}]\n",
              "countryname                           Federal Democratic Republic of Ethiopia\n",
              "url                         http://www.worldbank.org/projects/P129828/ethi...\n",
              "source                                                                   IBRD\n",
              "projectstatusdisplay                                                   Active\n",
              "ibrdcommamt                                                                 0\n",
              "sector_namecode             [{'code': 'EP', 'name': 'Primary education'}, ...\n",
              "_id                                      {'$oid': '52b213b38594d8a2be17c780'}\n",
              "Name: 0, dtype: object"
            ]
          },
          "metadata": {},
          "execution_count": 88
        }
      ]
    },
    {
      "cell_type": "code",
      "source": [
        "# top_countries = raw_data.value_counts('countryshortname')\n",
        "top_countries = raw_data.value_counts('countryname')"
      ],
      "metadata": {
        "id": "4GCWc-xz6EFk"
      },
      "execution_count": null,
      "outputs": []
    },
    {
      "cell_type": "code",
      "source": [
        "print(type(top_countries))\n",
        "print(top_countries)"
      ],
      "metadata": {
        "colab": {
          "base_uri": "https://localhost:8080/"
        },
        "id": "zoC2hlVONTTG",
        "outputId": "036319d6-9045-4f28-d988-58fe81dbe87d"
      },
      "execution_count": null,
      "outputs": [
        {
          "output_type": "stream",
          "name": "stdout",
          "text": [
            "<class 'pandas.core.series.Series'>\n",
            "countryname\n",
            "People's Republic of China       19\n",
            "Republic of Indonesia            19\n",
            "Socialist Republic of Vietnam    17\n",
            "Republic of India                16\n",
            "Republic of Yemen                13\n",
            "                                 ..\n",
            "Antigua and Barbuda               1\n",
            "Republic of Kiribati              1\n",
            "Republic of Serbia                1\n",
            "Republic of Poland                1\n",
            "Republic of Zimbabwe              1\n",
            "Length: 118, dtype: int64\n"
          ]
        }
      ]
    },
    {
      "cell_type": "code",
      "source": [
        "## plot for visualization\n",
        "top_countries[:10].plot(kind='barh', ylabel='projects', figsize=(8,6))\n",
        "plt.title('Top 10 Countries with Most Projects')\n",
        "plt.show()"
      ],
      "metadata": {
        "colab": {
          "base_uri": "https://localhost:8080/",
          "height": 390
        },
        "id": "XSHL6qcPefSY",
        "outputId": "141359fe-60e3-47d3-86f0-34e6a1b81e9e"
      },
      "execution_count": null,
      "outputs": [
        {
          "output_type": "display_data",
          "data": {
            "text/plain": [
              "<Figure size 576x432 with 1 Axes>"
            ],
            "image/png": "[encoded data removed]"
          },
          "metadata": {
            "needs_background": "light"
          }
        }
      ]
    },
    {
      "cell_type": "markdown",
      "source": [
        "## 2. Find the top 10 major project themes (using column 'mjtheme_namecode')"
      ],
      "metadata": {
        "id": "gOjRvBvX7KNw"
      }
    },
    {
      "cell_type": "code",
      "source": [
        "## let's look at one specific row to see its content \n",
        "ind_check = 1\n",
        "print(raw_data['mjtheme_namecode'][ind_check])\n",
        "print(raw_data['mjthemecode'][ind_check])\n",
        "print(type(raw_data['mjthemecode'][ind_check]))"
      ],
      "metadata": {
        "colab": {
          "base_uri": "https://localhost:8080/"
        },
        "id": "EEUXkftUt2yP",
        "outputId": "e6e12e4f-2a72-461c-a1a6-1ea02fa668ef"
      },
      "execution_count": null,
      "outputs": [
        {
          "output_type": "stream",
          "name": "stdout",
          "text": [
            "[{'code': '1', 'name': 'Economic management'}, {'code': '6', 'name': 'Social protection and risk management'}]\n",
            "1,6\n",
            "<class 'str'>\n"
          ]
        }
      ]
    },
    {
      "cell_type": "markdown",
      "source": [
        "`mjtheme_namecode` contains a list of dictionaries with keys: `code` and `name`. I propose to proceed in 2 steps:\n",
        "\n",
        "1. create a dictionary to store (code: name)\n",
        "2. loop over all rows of dataset, on each row count all codes and accumulate them properly"
      ],
      "metadata": {
        "id": "W8ZXxQHlv4uC"
      }
    },
    {
      "cell_type": "code",
      "source": [
        "## step 1: create a dictionary to store (code: name)\n",
        "code_name_dict = {}\n",
        "for lst in raw_data.mjtheme_namecode:\n",
        "  # print(lst)\n",
        "  for subl in lst:\n",
        "    code_num  = int(subl['code'])\n",
        "    code_name = subl['name']\n",
        "    if (code_num not in code_name_dict) and (code_name != ''): \n",
        "      code_name_dict[code_num] = code_name\n"
      ],
      "metadata": {
        "id": "7eCMGWT5wZ5b"
      },
      "execution_count": null,
      "outputs": []
    },
    {
      "cell_type": "code",
      "source": [
        "## check result of step 1 above:\n",
        "# print(code_name_dict)\n",
        "for k, v in code_name_dict.items():\n",
        "  print(str(k) + ': ' + str(v) )\n",
        "print(len(code_name_dict))"
      ],
      "metadata": {
        "colab": {
          "base_uri": "https://localhost:8080/"
        },
        "id": "hsV-WbcBx-5d",
        "outputId": "b4615eef-4604-480a-d3d8-02cf3c453c06"
      },
      "execution_count": null,
      "outputs": [
        {
          "output_type": "stream",
          "name": "stdout",
          "text": [
            "8: Human development\n",
            "1: Economic management\n",
            "6: Social protection and risk management\n",
            "5: Trade and integration\n",
            "2: Public sector governance\n",
            "11: Environment and natural resources management\n",
            "7: Social dev/gender/inclusion\n",
            "4: Financial and private sector development\n",
            "10: Rural development\n",
            "9: Urban development\n",
            "3: Rule of law\n",
            "11\n"
          ]
        }
      ]
    },
    {
      "cell_type": "code",
      "source": [
        "## step 2: loop over all rows of dataset, on each row count all codes and accumulate them properly\n",
        "code_count = {}\n",
        "for lst in raw_data.mjtheme_namecode:\n",
        "  # print(lst)\n",
        "  for subl in lst:\n",
        "    code_num = int(subl['code']) \n",
        "    if code_num in code_count.keys():\n",
        "      code_count[code_num] += 1\n",
        "    else:\n",
        "      code_count[code_num] = 1\n"
      ],
      "metadata": {
        "id": "kSAgMyHCyxUN"
      },
      "execution_count": null,
      "outputs": []
    },
    {
      "cell_type": "code",
      "source": [
        "## check result of step 2:\n",
        "# print(code_count)\n",
        "for k, v in code_count.items():\n",
        "  print(str(k) + ': ' +str(v) )\n",
        "print(len(code_count))"
      ],
      "metadata": {
        "colab": {
          "base_uri": "https://localhost:8080/"
        },
        "id": "IYTzB4T8zbwD",
        "outputId": "a7d401e6-3751-49d3-f8c4-ce8bc0c5d3c9"
      },
      "execution_count": null,
      "outputs": [
        {
          "output_type": "stream",
          "name": "stdout",
          "text": [
            "8: 210\n",
            "11: 250\n",
            "1: 38\n",
            "6: 168\n",
            "5: 77\n",
            "2: 199\n",
            "7: 130\n",
            "4: 146\n",
            "10: 216\n",
            "9: 50\n",
            "3: 15\n",
            "11\n"
          ]
        }
      ]
    },
    {
      "cell_type": "code",
      "source": [
        "## sort the result by count:\n",
        "import operator\n",
        "\n",
        "dict1 = code_count\n",
        "sorted_tuples = sorted(dict1.items(), key=operator.itemgetter(1))\n",
        "# print(sorted_tuples)  # [(1, 1), (3, 4), (2, 9)]\n",
        "sorted_dict = {k: v for k, v in sorted_tuples}\n",
        "\n",
        "print(sorted_dict) # {1: 1, 3: 4, 2: 9}\n",
        "count_list = []\n",
        "name_list  = []\n",
        "for k,v in reversed(list(sorted_dict.items())):\n",
        "  count = code_count[k]\n",
        "  name  = code_name_dict[k]\n",
        "  print('count = ' + str(count) + ', code = ' + str(k) + ', name = ' +str(name) )\n",
        "  count_list.append(count)\n",
        "  name_list.append(name)\n"
      ],
      "metadata": {
        "colab": {
          "base_uri": "https://localhost:8080/"
        },
        "id": "iBkAAYxQ1qHE",
        "outputId": "79df7ae1-c4d2-45a1-9509-198eceea3e2e"
      },
      "execution_count": null,
      "outputs": [
        {
          "output_type": "stream",
          "name": "stdout",
          "text": [
            "{3: 15, 1: 38, 9: 50, 5: 77, 7: 130, 4: 146, 6: 168, 2: 199, 8: 210, 10: 216, 11: 250}\n",
            "count = 250, code = 11, name = Environment and natural resources management\n",
            "count = 216, code = 10, name = Rural development\n",
            "count = 210, code = 8, name = Human development\n",
            "count = 199, code = 2, name = Public sector governance\n",
            "count = 168, code = 6, name = Social protection and risk management\n",
            "count = 146, code = 4, name = Financial and private sector development\n",
            "count = 130, code = 7, name = Social dev/gender/inclusion\n",
            "count = 77, code = 5, name = Trade and integration\n",
            "count = 50, code = 9, name = Urban development\n",
            "count = 38, code = 1, name = Economic management\n",
            "count = 15, code = 3, name = Rule of law\n"
          ]
        }
      ]
    },
    {
      "cell_type": "code",
      "source": [
        "## visualize results\n",
        "fig = plt.figure(figsize=(8,6))\n",
        "# plt.barh(count_list, name_list, color='maroon')\n",
        "plt.barh(name_list, count_list, color='green')\n",
        "plt.xlabel(\"No. of projects\")\n",
        "plt.ylabel(\"\")\n",
        "plt.title(\"Top major projects\")\n",
        "plt.show()\n"
      ],
      "metadata": {
        "colab": {
          "base_uri": "https://localhost:8080/",
          "height": 404
        },
        "id": "mMgJEDOH0-LK",
        "outputId": "558dcff5-11c1-40aa-9089-9fd235319660"
      },
      "execution_count": null,
      "outputs": [
        {
          "output_type": "display_data",
          "data": {
            "text/plain": [
              "<Figure size 576x432 with 1 Axes>"
            ],
            "image/png": "[encoded data removed]"
          },
          "metadata": {
            "needs_background": "light"
          }
        }
      ]
    },
    {
      "cell_type": "markdown",
      "source": [
        "## 3. In 2. above you will notice that some entries have only the code and the name is missing. Create a dataframe with the missing names filled in."
      ],
      "metadata": {
        "id": "Gkd_xGQv7N8C"
      }
    },
    {
      "cell_type": "code",
      "source": [
        "## print to check missing values\n",
        "for lst in raw_data.mjtheme_namecode[:8]:\n",
        "  print(lst)"
      ],
      "metadata": {
        "colab": {
          "base_uri": "https://localhost:8080/"
        },
        "id": "geIz3v-6-7pl",
        "outputId": "53599688-e707-49d1-e834-73fade888847"
      },
      "execution_count": null,
      "outputs": [
        {
          "output_type": "stream",
          "name": "stdout",
          "text": [
            "[{'code': '8', 'name': 'Human development'}, {'code': '11', 'name': ''}]\n",
            "[{'code': '1', 'name': 'Economic management'}, {'code': '6', 'name': 'Social protection and risk management'}]\n",
            "[{'code': '5', 'name': 'Trade and integration'}, {'code': '2', 'name': 'Public sector governance'}, {'code': '11', 'name': 'Environment and natural resources management'}, {'code': '6', 'name': 'Social protection and risk management'}]\n",
            "[{'code': '7', 'name': 'Social dev/gender/inclusion'}, {'code': '7', 'name': 'Social dev/gender/inclusion'}]\n",
            "[{'code': '5', 'name': 'Trade and integration'}, {'code': '4', 'name': 'Financial and private sector development'}]\n",
            "[{'code': '6', 'name': 'Social protection and risk management'}, {'code': '6', 'name': ''}]\n",
            "[{'code': '2', 'name': 'Public sector governance'}, {'code': '4', 'name': 'Financial and private sector development'}]\n",
            "[{'code': '11', 'name': 'Environment and natural resources management'}, {'code': '8', 'name': ''}]\n"
          ]
        }
      ]
    },
    {
      "cell_type": "code",
      "source": [
        "## update/fill missing name\n",
        "for lst in raw_data.mjtheme_namecode:\n",
        "  # print(lst)\n",
        "  for subl in lst:\n",
        "    if not subl['name']:\n",
        "      code = int(subl['code'])\n",
        "      name = code_name_dict[code]\n",
        "\n",
        "      # update/fill name\n",
        "      subl['name'] = name\n"
      ],
      "metadata": {
        "id": "pd62S9ga-8ds"
      },
      "execution_count": null,
      "outputs": []
    },
    {
      "cell_type": "code",
      "source": [
        "## print to check filled values\n",
        "for lst in raw_data.mjtheme_namecode[:8]:\n",
        "  print(lst)"
      ],
      "metadata": {
        "colab": {
          "base_uri": "https://localhost:8080/"
        },
        "id": "qJF6GpynC9JS",
        "outputId": "8193262d-5dac-4e89-c771-e227858dead5"
      },
      "execution_count": null,
      "outputs": [
        {
          "output_type": "stream",
          "name": "stdout",
          "text": [
            "[{'code': '8', 'name': 'Human development'}, {'code': '11', 'name': 'Environment and natural resources management'}]\n",
            "[{'code': '1', 'name': 'Economic management'}, {'code': '6', 'name': 'Social protection and risk management'}]\n",
            "[{'code': '5', 'name': 'Trade and integration'}, {'code': '2', 'name': 'Public sector governance'}, {'code': '11', 'name': 'Environment and natural resources management'}, {'code': '6', 'name': 'Social protection and risk management'}]\n",
            "[{'code': '7', 'name': 'Social dev/gender/inclusion'}, {'code': '7', 'name': 'Social dev/gender/inclusion'}]\n",
            "[{'code': '5', 'name': 'Trade and integration'}, {'code': '4', 'name': 'Financial and private sector development'}]\n",
            "[{'code': '6', 'name': 'Social protection and risk management'}, {'code': '6', 'name': 'Social protection and risk management'}]\n",
            "[{'code': '2', 'name': 'Public sector governance'}, {'code': '4', 'name': 'Financial and private sector development'}]\n",
            "[{'code': '11', 'name': 'Environment and natural resources management'}, {'code': '8', 'name': 'Human development'}]\n"
          ]
        }
      ]
    },
    {
      "cell_type": "code",
      "source": [],
      "metadata": {
        "id": "hOe_zFx0BVNT"
      },
      "execution_count": null,
      "outputs": []
    }
  ],
  "metadata": {
    "kernelspec": {
      "display_name": "Python 2",
      "language": "python",
      "name": "python2"
    },
    "language_info": {
      "codemirror_mode": {
        "name": "ipython",
        "version": 2
      },
      "file_extension": ".py",
      "mimetype": "text/x-python",
      "name": "python",
      "nbconvert_exporter": "python",
      "pygments_lexer": "ipython2",
      "version": "2.7.9"
    },
    "colab": {
      "provenance": [],
      "toc_visible": true,
      "include_colab_link": true
    }
  },
  "nbformat": 4,
  "nbformat_minor": 0
}
