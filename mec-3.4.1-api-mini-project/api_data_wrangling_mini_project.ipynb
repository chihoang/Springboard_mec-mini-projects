{
  "cells": [
    {
      "cell_type": "markdown",
      "metadata": {
        "id": "view-in-github",
        "colab_type": "text"
      },
      "source": [
        "<a href=\"https://colab.research.google.com/github/chihoang/Springboard_mec-mini-projects/blob/main/api_data_wrangling_mini_project.ipynb\" target=\"_parent\"><img src=\"https://colab.research.google.com/assets/colab-badge.svg\" alt=\"Open In Colab\"/></a>"
      ]
    },
    {
      "cell_type": "markdown",
      "source": [
        "This exercise will require you to pull some data from https://data.nasdaq.com/ (formerly Quandl API)."
      ],
      "metadata": {
        "id": "G2uwYubUHNxH"
      }
    },
    {
      "cell_type": "markdown",
      "source": [
        "As a first step, you will need to register a free account on the https://data.nasdaq.com/ website."
      ],
      "metadata": {
        "id": "idCWd5fIHNxJ"
      }
    },
    {
      "cell_type": "markdown",
      "source": [
        "After you register, you will be provided with a unique API key, that you should store:\n",
        "\n",
        "*Note*: Use a `.env` file and put your key in there and `python-dotenv` to access it in this notebook. \n",
        "\n",
        "The code below uses a key that was used when generating this project but has since been deleted. Never submit your keys to source control. There is a `.env-example` file in this repository to illusrtate what you need. Copy that to a file called `.env` and use your own api key in that `.env` file. Make sure you also have a `.gitignore` file with a line for `.env` added to it. \n",
        "\n",
        "The standard Python gitignore is [here](https://github.com/github/gitignore/blob/master/Python.gitignore) you can just copy that. "
      ],
      "metadata": {
        "id": "m46C2XlIHNxK"
      }
    },
    {
      "cell_type": "code",
      "source": [
        "!pip install python-dotenv"
      ],
      "metadata": {
        "colab": {
          "base_uri": "https://localhost:8080/"
        },
        "id": "nrGRz6I_Nfly",
        "outputId": "1e16c97c-d083-45d8-ebce-4d50f2454ebe"
      },
      "execution_count": null,
      "outputs": [
        {
          "output_type": "stream",
          "name": "stdout",
          "text": [
            "Looking in indexes: https://pypi.org/simple, https://us-python.pkg.dev/colab-wheels/public/simple/\n",
            "Requirement already satisfied: python-dotenv in /usr/local/lib/python3.7/dist-packages (0.21.0)\n"
          ]
        }
      ]
    },
    {
      "cell_type": "markdown",
      "source": [
        "# Get API key"
      ],
      "metadata": {
        "id": "ZTjboM36PQmu"
      }
    },
    {
      "cell_type": "code",
      "execution_count": null,
      "source": [
        "# get api key from your .env file\n",
        "import os\n",
        "from dotenv import load_dotenv  # if missing this module, simply run `pip install python-dotenv`\n",
        "\n",
        "## drop the .env file here \n",
        "load_dotenv()\n",
        "API_KEY = os.getenv('NASDAQ_API_KEY')\n",
        "\n",
        "# Chi's API key, just in case \n",
        "# API_KEY = 'bA-ZeLSf-wHd5dpMiuJN'\n",
        "\n",
        "print(API_KEY)"
      ],
      "outputs": [
        {
          "output_type": "stream",
          "name": "stdout",
          "text": [
            "bA-ZeLSf-wHd5dpMiuJN\n"
          ]
        }
      ],
      "metadata": {
        "colab": {
          "base_uri": "https://localhost:8080/"
        },
        "id": "GR17IU7gHNxK",
        "outputId": "f71c0232-00d7-42ee-c04b-b4391c335a3a"
      }
    },
    {
      "cell_type": "markdown",
      "source": [
        "Nasdaq Data has a large number of data sources, but, unfortunately, most of them require a Premium subscription. Still, there are also a good number of free datasets."
      ],
      "metadata": {
        "id": "3wHjH1BpHNxL"
      }
    },
    {
      "cell_type": "markdown",
      "source": [
        "For this mini project, we will focus on equities data from the Frankfurt Stock Exhange (FSE), which is available for free. We'll try and analyze the stock prices of a company called Carl Zeiss Meditec, which manufactures tools for eye examinations, as well as medical lasers for laser eye surgery: https://www.zeiss.com/meditec/int/home.html. The company is listed under the stock ticker AFX_X."
      ],
      "metadata": {
        "id": "Ll5rpaVQHNxL"
      }
    },
    {
      "cell_type": "markdown",
      "source": [
        "You can find the detailed Nasdaq Data API instructions here: https://docs.data.nasdaq.com/docs/in-depth-usage"
      ],
      "metadata": {
        "id": "Q1UXdS3aHNxL"
      }
    },
    {
      "cell_type": "markdown",
      "source": [
        "While there is a dedicated Python package for connecting to the Nasdaq API, we would prefer that you use the *requests* package, which can be easily downloaded using *pip* or *conda*. You can find the documentation for the package here: http://docs.python-requests.org/en/master/ "
      ],
      "metadata": {
        "id": "w11fFPSFHNxM"
      }
    },
    {
      "cell_type": "markdown",
      "source": [
        "Finally, apart from the *requests* package, you are encouraged to not use any third party Python packages, such as *pandas*, and instead focus on what's available in the Python Standard Library (the *collections* module might come in handy: https://pymotw.com/3/collections/).\n",
        "Also, since you won't have access to DataFrames, you are encouraged to us Python's native data structures - preferably dictionaries, though some questions can also be answered using lists.\n",
        "You can read more on these data structures here: https://docs.python.org/3/tutorial/datastructures.html"
      ],
      "metadata": {
        "id": "40J_8-9uHNxM"
      }
    },
    {
      "cell_type": "markdown",
      "source": [
        "Keep in mind that the JSON responses you will be getting from the API map almost one-to-one to Python's dictionaries. Unfortunately, they can be very nested, so make sure you read up on indexing dictionaries in the documentation provided above."
      ],
      "metadata": {
        "id": "YmWZQNhhHNxM"
      }
    },
    {
      "cell_type": "code",
      "execution_count": null,
      "source": [
        "# First, import the relevant modules\n",
        "import pandas as pd\n",
        "import requests\n",
        "from pprint import PrettyPrinter\n",
        "pp = PrettyPrinter()"
      ],
      "outputs": [],
      "metadata": {
        "id": "vs5RnJApHNxN"
      }
    },
    {
      "cell_type": "markdown",
      "source": [
        "Note: API's can change a bit with each version, for this exercise it is reccomended to use the nasdaq api at `https://data.nasdaq.com/api/v3/`. This is the same api as what used to be quandl so `https://www.quandl.com/api/v3/` should work too.\n",
        "\n",
        "Hint: We are looking for the `AFX_X` data on the `datasets/FSE/` dataset."
      ],
      "metadata": {
        "id": "gPwZ8MlyHNxN"
      }
    },
    {
      "cell_type": "markdown",
      "source": [
        "# Pull data from nasdaq website"
      ],
      "metadata": {
        "id": "wNR_HomdPYnb"
      }
    },
    {
      "cell_type": "code",
      "execution_count": null,
      "source": [
        "# Now, call the Nasdaq API and pull out a small sample of the data (only one day) to get a glimpse\n",
        "# into the JSON structure that will be returned\n",
        "\n",
        "# curl \"https://data.nasdaq.com/api/v3/datasets/WIKI/FB/data.json?api_key=YOURAPIKEY\"\n",
        "data_URL = 'https://data.nasdaq.com/api/v3/datasets/FSE/AFX_X/data.json?api_key='+API_KEY\n",
        "start_date = \"2002-05-20\"\n",
        "end_date = \"2002-05-22\"\n",
        "frequency = \"daily\"\n",
        "params = {\n",
        "    'start_date': start_date,\n",
        "    'end_date': end_date,\n",
        "    'frequency': frequency,\n",
        "    # 'plot':'full'\n",
        "}\n",
        "response = requests.get(data_URL, params=params).json()\n",
        "pp.pprint(response)"
      ],
      "outputs": [
        {
          "output_type": "stream",
          "name": "stdout",
          "text": [
            "{'dataset_data': {'collapse': None,\n",
            "                  'column_index': None,\n",
            "                  'column_names': ['Date',\n",
            "                                   'Open',\n",
            "                                   'High',\n",
            "                                   'Low',\n",
            "                                   'Close',\n",
            "                                   'Change',\n",
            "                                   'Traded Volume',\n",
            "                                   'Turnover',\n",
            "                                   'Last Price of the Day',\n",
            "                                   'Daily Traded Units',\n",
            "                                   'Daily Turnover'],\n",
            "                  'data': [['2002-05-22',\n",
            "                            10.51,\n",
            "                            10.51,\n",
            "                            10.5,\n",
            "                            10.5,\n",
            "                            None,\n",
            "                            0.0,\n",
            "                            None,\n",
            "                            None,\n",
            "                            None,\n",
            "                            0.0],\n",
            "                           ['2002-05-21',\n",
            "                            10.7,\n",
            "                            10.8,\n",
            "                            10.6,\n",
            "                            10.8,\n",
            "                            None,\n",
            "                            0.0,\n",
            "                            None,\n",
            "                            None,\n",
            "                            None,\n",
            "                            0.0],\n",
            "                           ['2002-05-20',\n",
            "                            10.58,\n",
            "                            10.58,\n",
            "                            10.58,\n",
            "                            10.58,\n",
            "                            None,\n",
            "                            0.0,\n",
            "                            None,\n",
            "                            None,\n",
            "                            None,\n",
            "                            0.0]],\n",
            "                  'end_date': '2002-05-22',\n",
            "                  'frequency': 'daily',\n",
            "                  'limit': None,\n",
            "                  'order': None,\n",
            "                  'start_date': '2002-05-20',\n",
            "                  'transform': None}}\n"
          ]
        }
      ],
      "metadata": {
        "colab": {
          "base_uri": "https://localhost:8080/"
        },
        "id": "_YhIgi_LHNxN",
        "outputId": "3614590a-4a45-4005-90bc-80cc2bbe5960"
      }
    },
    {
      "cell_type": "code",
      "execution_count": null,
      "source": [
        "# Inspect the JSON structure of the object you created, and take note of how nested it is,\n",
        "# as well as the overall structure\n",
        "print(type(response))\n",
        "for key, val in response.items():\n",
        "  print(str(key) + ':' + str(val) )\n",
        "# text = response.text\n",
        "# print(text)\n",
        "\n",
        "df = pd.DataFrame(response['dataset_data']['data'], columns = response['dataset_data']['column_names'])\n",
        "df.head()"
      ],
      "outputs": [
        {
          "output_type": "stream",
          "name": "stdout",
          "text": [
            "<class 'dict'>\n",
            "dataset_data:{'limit': None, 'transform': None, 'column_index': None, 'column_names': ['Date', 'Open', 'High', 'Low', 'Close', 'Change', 'Traded Volume', 'Turnover', 'Last Price of the Day', 'Daily Traded Units', 'Daily Turnover'], 'start_date': '2002-05-20', 'end_date': '2002-05-22', 'frequency': 'daily', 'data': [['2002-05-22', 10.51, 10.51, 10.5, 10.5, None, 0.0, None, None, None, 0.0], ['2002-05-21', 10.7, 10.8, 10.6, 10.8, None, 0.0, None, None, None, 0.0], ['2002-05-20', 10.58, 10.58, 10.58, 10.58, None, 0.0, None, None, None, 0.0]], 'collapse': None, 'order': None}\n"
          ]
        },
        {
          "output_type": "execute_result",
          "data": {
            "text/plain": [
              "         Date   Open   High    Low  Close Change  Traded Volume Turnover  \\\n",
              "0  2002-05-22  10.51  10.51  10.50  10.50   None            0.0     None   \n",
              "1  2002-05-21  10.70  10.80  10.60  10.80   None            0.0     None   \n",
              "2  2002-05-20  10.58  10.58  10.58  10.58   None            0.0     None   \n",
              "\n",
              "  Last Price of the Day Daily Traded Units  Daily Turnover  \n",
              "0                  None               None             0.0  \n",
              "1                  None               None             0.0  \n",
              "2                  None               None             0.0  "
            ],
            "text/html": [
              "\n",
              "  <div id=\"df-b3d7b521-6f38-455f-a228-f4d8635a1fe0\">\n",
              "    <div class=\"colab-df-container\">\n",
              "      <div>\n",
              "<style scoped>\n",
              "    .dataframe tbody tr th:only-of-type {\n",
              "        vertical-align: middle;\n",
              "    }\n",
              "\n",
              "    .dataframe tbody tr th {\n",
              "        vertical-align: top;\n",
              "    }\n",
              "\n",
              "    .dataframe thead th {\n",
              "        text-align: right;\n",
              "    }\n",
              "</style>\n",
              "<table border=\"1\" class=\"dataframe\">\n",
              "  <thead>\n",
              "    <tr style=\"text-align: right;\">\n",
              "      <th></th>\n",
              "      <th>Date</th>\n",
              "      <th>Open</th>\n",
              "      <th>High</th>\n",
              "      <th>Low</th>\n",
              "      <th>Close</th>\n",
              "      <th>Change</th>\n",
              "      <th>Traded Volume</th>\n",
              "      <th>Turnover</th>\n",
              "      <th>Last Price of the Day</th>\n",
              "      <th>Daily Traded Units</th>\n",
              "      <th>Daily Turnover</th>\n",
              "    </tr>\n",
              "  </thead>\n",
              "  <tbody>\n",
              "    <tr>\n",
              "      <th>0</th>\n",
              "      <td>2002-05-22</td>\n",
              "      <td>10.51</td>\n",
              "      <td>10.51</td>\n",
              "      <td>10.50</td>\n",
              "      <td>10.50</td>\n",
              "      <td>None</td>\n",
              "      <td>0.0</td>\n",
              "      <td>None</td>\n",
              "      <td>None</td>\n",
              "      <td>None</td>\n",
              "      <td>0.0</td>\n",
              "    </tr>\n",
              "    <tr>\n",
              "      <th>1</th>\n",
              "      <td>2002-05-21</td>\n",
              "      <td>10.70</td>\n",
              "      <td>10.80</td>\n",
              "      <td>10.60</td>\n",
              "      <td>10.80</td>\n",
              "      <td>None</td>\n",
              "      <td>0.0</td>\n",
              "      <td>None</td>\n",
              "      <td>None</td>\n",
              "      <td>None</td>\n",
              "      <td>0.0</td>\n",
              "    </tr>\n",
              "    <tr>\n",
              "      <th>2</th>\n",
              "      <td>2002-05-20</td>\n",
              "      <td>10.58</td>\n",
              "      <td>10.58</td>\n",
              "      <td>10.58</td>\n",
              "      <td>10.58</td>\n",
              "      <td>None</td>\n",
              "      <td>0.0</td>\n",
              "      <td>None</td>\n",
              "      <td>None</td>\n",
              "      <td>None</td>\n",
              "      <td>0.0</td>\n",
              "    </tr>\n",
              "  </tbody>\n",
              "</table>\n",
              "</div>\n",
              "      <button class=\"colab-df-convert\" onclick=\"convertToInteractive('df-b3d7b521-6f38-455f-a228-f4d8635a1fe0')\"\n",
              "              title=\"Convert this dataframe to an interactive table.\"\n",
              "              style=\"display:none;\">\n",
              "        \n",
              "  <svg xmlns=\"http://www.w3.org/2000/svg\" height=\"24px\"viewBox=\"0 0 24 24\"\n",
              "       width=\"24px\">\n",
              "    <path d=\"M0 0h24v24H0V0z\" fill=\"none\"/>\n",
              "    <path d=\"M18.56 5.44l.94 2.06.94-2.06 2.06-.94-2.06-.94-.94-2.06-.94 2.06-2.06.94zm-11 1L8.5 8.5l.94-2.06 2.06-.94-2.06-.94L8.5 2.5l-.94 2.06-2.06.94zm10 10l.94 2.06.94-2.06 2.06-.94-2.06-.94-.94-2.06-.94 2.06-2.06.94z\"/><path d=\"M17.41 7.96l-1.37-1.37c-.4-.4-.92-.59-1.43-.59-.52 0-1.04.2-1.43.59L10.3 9.45l-7.72 7.72c-.78.78-.78 2.05 0 2.83L4 21.41c.39.39.9.59 1.41.59.51 0 1.02-.2 1.41-.59l7.78-7.78 2.81-2.81c.8-.78.8-2.07 0-2.86zM5.41 20L4 18.59l7.72-7.72 1.47 1.35L5.41 20z\"/>\n",
              "  </svg>\n",
              "      </button>\n",
              "      \n",
              "  <style>\n",
              "    .colab-df-container {\n",
              "      display:flex;\n",
              "      flex-wrap:wrap;\n",
              "      gap: 12px;\n",
              "    }\n",
              "\n",
              "    .colab-df-convert {\n",
              "      background-color: #E8F0FE;\n",
              "      border: none;\n",
              "      border-radius: 50%;\n",
              "      cursor: pointer;\n",
              "      display: none;\n",
              "      fill: #1967D2;\n",
              "      height: 32px;\n",
              "      padding: 0 0 0 0;\n",
              "      width: 32px;\n",
              "    }\n",
              "\n",
              "    .colab-df-convert:hover {\n",
              "      background-color: #E2EBFA;\n",
              "      box-shadow: 0px 1px 2px rgba(60, 64, 67, 0.3), 0px 1px 3px 1px rgba(60, 64, 67, 0.15);\n",
              "      fill: #174EA6;\n",
              "    }\n",
              "\n",
              "    [theme=dark] .colab-df-convert {\n",
              "      background-color: #3B4455;\n",
              "      fill: #D2E3FC;\n",
              "    }\n",
              "\n",
              "    [theme=dark] .colab-df-convert:hover {\n",
              "      background-color: #434B5C;\n",
              "      box-shadow: 0px 1px 3px 1px rgba(0, 0, 0, 0.15);\n",
              "      filter: drop-shadow(0px 1px 2px rgba(0, 0, 0, 0.3));\n",
              "      fill: #FFFFFF;\n",
              "    }\n",
              "  </style>\n",
              "\n",
              "      <script>\n",
              "        const buttonEl =\n",
              "          document.querySelector('#df-b3d7b521-6f38-455f-a228-f4d8635a1fe0 button.colab-df-convert');\n",
              "        buttonEl.style.display =\n",
              "          google.colab.kernel.accessAllowed ? 'block' : 'none';\n",
              "\n",
              "        async function convertToInteractive(key) {\n",
              "          const element = document.querySelector('#df-b3d7b521-6f38-455f-a228-f4d8635a1fe0');\n",
              "          const dataTable =\n",
              "            await google.colab.kernel.invokeFunction('convertToInteractive',\n",
              "                                                     [key], {});\n",
              "          if (!dataTable) return;\n",
              "\n",
              "          const docLinkHtml = 'Like what you see? Visit the ' +\n",
              "            '<a target=\"_blank\" href=https://colab.research.google.com/notebooks/data_table.ipynb>data table notebook</a>'\n",
              "            + ' to learn more about interactive tables.';\n",
              "          element.innerHTML = '';\n",
              "          dataTable['output_type'] = 'display_data';\n",
              "          await google.colab.output.renderOutput(dataTable, element);\n",
              "          const docLink = document.createElement('div');\n",
              "          docLink.innerHTML = docLinkHtml;\n",
              "          element.appendChild(docLink);\n",
              "        }\n",
              "      </script>\n",
              "    </div>\n",
              "  </div>\n",
              "  "
            ]
          },
          "metadata": {},
          "execution_count": 11
        }
      ],
      "metadata": {
        "colab": {
          "base_uri": "https://localhost:8080/",
          "height": 329
        },
        "id": "6Fw1vOx2HNxN",
        "outputId": "d3490e83-f534-4a37-fb65-ce03ccac69de"
      }
    },
    {
      "cell_type": "markdown",
      "source": [
        "These are your tasks for this mini project:\n",
        "\n",
        "1. Collect data from the Franfurt Stock Exchange, for the ticker AFX_X, for the whole year 2017 (keep in mind that the date format is YYYY-MM-DD).\n",
        "2. Convert the returned JSON object into a Python dictionary.\n",
        "3. Calculate what the highest and lowest opening prices were for the stock in this period.\n",
        "4. What was the largest change in any one day (based on High and Low price)?\n",
        "5. What was the largest change between any two days (based on Closing Price)?\n",
        "6. What was the average daily trading volume during this year?\n",
        "7. (Optional) What was the median trading volume during this year. (Note: you may need to implement your own function for calculating the median.)"
      ],
      "metadata": {
        "id": "A00C5AfuHNxN"
      }
    },
    {
      "cell_type": "markdown",
      "source": [
        "# Question 1"
      ],
      "metadata": {
        "id": "422g-CwoPn4h"
      }
    },
    {
      "cell_type": "code",
      "execution_count": null,
      "source": [
        "### question 1: Collect data from the Franfurt Stock Exchange, for the ticker AFX_X, \n",
        "### for the whole year 2017 (keep in mind that the date format is YYYY-MM-DD). ###\n",
        "data_URL = 'https://data.nasdaq.com/api/v3/datasets/FSE/AFX_X/data.json?api_key='+API_KEY\n",
        "start_date = \"2017-01-01\"\n",
        "end_date = \"2017-12-31\"\n",
        "frequency = \"daily\"\n",
        "params = {\n",
        "    'start_date': start_date,\n",
        "    'end_date': end_date,\n",
        "    'frequency': frequency,\n",
        "    # 'plot':'full'\n",
        "}\n",
        "response = requests.get(data_URL, params=params).json()"
      ],
      "outputs": [],
      "metadata": {
        "id": "WhGPXY0AHNxN"
      }
    },
    {
      "cell_type": "markdown",
      "source": [
        "# Question 2"
      ],
      "metadata": {
        "id": "g34IgJVYPrNk"
      }
    },
    {
      "cell_type": "code",
      "execution_count": null,
      "source": [
        "### question 2: Convert the returned JSON object into a Python dictionary ###\n",
        "df = pd.DataFrame(response['dataset_data']['data'], columns = response['dataset_data']['column_names'])\n",
        "df.head()"
      ],
      "outputs": [
        {
          "output_type": "execute_result",
          "data": {
            "text/plain": [
              "         Date   Open   High    Low  Close  Change  Traded Volume   Turnover  \\\n",
              "0  2017-12-29  51.76  51.94  51.45  51.76     NaN        34640.0  1792304.0   \n",
              "1  2017-12-28  51.65  51.82  51.43  51.60     NaN        40660.0  2099024.0   \n",
              "2  2017-12-27  51.45  51.89  50.76  51.82     NaN        57452.0  2957018.0   \n",
              "3  2017-12-22  51.05  51.50  50.92  51.32     NaN        71165.0  3641949.0   \n",
              "4  2017-12-21  51.16  51.52  50.90  51.40     NaN       120649.0  6179433.0   \n",
              "\n",
              "  Last Price of the Day Daily Traded Units Daily Turnover  \n",
              "0                  None               None           None  \n",
              "1                  None               None           None  \n",
              "2                  None               None           None  \n",
              "3                  None               None           None  \n",
              "4                  None               None           None  "
            ],
            "text/html": [
              "\n",
              "  <div id=\"df-825f1299-2851-485a-bc57-96fa06e9bd06\">\n",
              "    <div class=\"colab-df-container\">\n",
              "      <div>\n",
              "<style scoped>\n",
              "    .dataframe tbody tr th:only-of-type {\n",
              "        vertical-align: middle;\n",
              "    }\n",
              "\n",
              "    .dataframe tbody tr th {\n",
              "        vertical-align: top;\n",
              "    }\n",
              "\n",
              "    .dataframe thead th {\n",
              "        text-align: right;\n",
              "    }\n",
              "</style>\n",
              "<table border=\"1\" class=\"dataframe\">\n",
              "  <thead>\n",
              "    <tr style=\"text-align: right;\">\n",
              "      <th></th>\n",
              "      <th>Date</th>\n",
              "      <th>Open</th>\n",
              "      <th>High</th>\n",
              "      <th>Low</th>\n",
              "      <th>Close</th>\n",
              "      <th>Change</th>\n",
              "      <th>Traded Volume</th>\n",
              "      <th>Turnover</th>\n",
              "      <th>Last Price of the Day</th>\n",
              "      <th>Daily Traded Units</th>\n",
              "      <th>Daily Turnover</th>\n",
              "    </tr>\n",
              "  </thead>\n",
              "  <tbody>\n",
              "    <tr>\n",
              "      <th>0</th>\n",
              "      <td>2017-12-29</td>\n",
              "      <td>51.76</td>\n",
              "      <td>51.94</td>\n",
              "      <td>51.45</td>\n",
              "      <td>51.76</td>\n",
              "      <td>NaN</td>\n",
              "      <td>34640.0</td>\n",
              "      <td>1792304.0</td>\n",
              "      <td>None</td>\n",
              "      <td>None</td>\n",
              "      <td>None</td>\n",
              "    </tr>\n",
              "    <tr>\n",
              "      <th>1</th>\n",
              "      <td>2017-12-28</td>\n",
              "      <td>51.65</td>\n",
              "      <td>51.82</td>\n",
              "      <td>51.43</td>\n",
              "      <td>51.60</td>\n",
              "      <td>NaN</td>\n",
              "      <td>40660.0</td>\n",
              "      <td>2099024.0</td>\n",
              "      <td>None</td>\n",
              "      <td>None</td>\n",
              "      <td>None</td>\n",
              "    </tr>\n",
              "    <tr>\n",
              "      <th>2</th>\n",
              "      <td>2017-12-27</td>\n",
              "      <td>51.45</td>\n",
              "      <td>51.89</td>\n",
              "      <td>50.76</td>\n",
              "      <td>51.82</td>\n",
              "      <td>NaN</td>\n",
              "      <td>57452.0</td>\n",
              "      <td>2957018.0</td>\n",
              "      <td>None</td>\n",
              "      <td>None</td>\n",
              "      <td>None</td>\n",
              "    </tr>\n",
              "    <tr>\n",
              "      <th>3</th>\n",
              "      <td>2017-12-22</td>\n",
              "      <td>51.05</td>\n",
              "      <td>51.50</td>\n",
              "      <td>50.92</td>\n",
              "      <td>51.32</td>\n",
              "      <td>NaN</td>\n",
              "      <td>71165.0</td>\n",
              "      <td>3641949.0</td>\n",
              "      <td>None</td>\n",
              "      <td>None</td>\n",
              "      <td>None</td>\n",
              "    </tr>\n",
              "    <tr>\n",
              "      <th>4</th>\n",
              "      <td>2017-12-21</td>\n",
              "      <td>51.16</td>\n",
              "      <td>51.52</td>\n",
              "      <td>50.90</td>\n",
              "      <td>51.40</td>\n",
              "      <td>NaN</td>\n",
              "      <td>120649.0</td>\n",
              "      <td>6179433.0</td>\n",
              "      <td>None</td>\n",
              "      <td>None</td>\n",
              "      <td>None</td>\n",
              "    </tr>\n",
              "  </tbody>\n",
              "</table>\n",
              "</div>\n",
              "      <button class=\"colab-df-convert\" onclick=\"convertToInteractive('df-825f1299-2851-485a-bc57-96fa06e9bd06')\"\n",
              "              title=\"Convert this dataframe to an interactive table.\"\n",
              "              style=\"display:none;\">\n",
              "        \n",
              "  <svg xmlns=\"http://www.w3.org/2000/svg\" height=\"24px\"viewBox=\"0 0 24 24\"\n",
              "       width=\"24px\">\n",
              "    <path d=\"M0 0h24v24H0V0z\" fill=\"none\"/>\n",
              "    <path d=\"M18.56 5.44l.94 2.06.94-2.06 2.06-.94-2.06-.94-.94-2.06-.94 2.06-2.06.94zm-11 1L8.5 8.5l.94-2.06 2.06-.94-2.06-.94L8.5 2.5l-.94 2.06-2.06.94zm10 10l.94 2.06.94-2.06 2.06-.94-2.06-.94-.94-2.06-.94 2.06-2.06.94z\"/><path d=\"M17.41 7.96l-1.37-1.37c-.4-.4-.92-.59-1.43-.59-.52 0-1.04.2-1.43.59L10.3 9.45l-7.72 7.72c-.78.78-.78 2.05 0 2.83L4 21.41c.39.39.9.59 1.41.59.51 0 1.02-.2 1.41-.59l7.78-7.78 2.81-2.81c.8-.78.8-2.07 0-2.86zM5.41 20L4 18.59l7.72-7.72 1.47 1.35L5.41 20z\"/>\n",
              "  </svg>\n",
              "      </button>\n",
              "      \n",
              "  <style>\n",
              "    .colab-df-container {\n",
              "      display:flex;\n",
              "      flex-wrap:wrap;\n",
              "      gap: 12px;\n",
              "    }\n",
              "\n",
              "    .colab-df-convert {\n",
              "      background-color: #E8F0FE;\n",
              "      border: none;\n",
              "      border-radius: 50%;\n",
              "      cursor: pointer;\n",
              "      display: none;\n",
              "      fill: #1967D2;\n",
              "      height: 32px;\n",
              "      padding: 0 0 0 0;\n",
              "      width: 32px;\n",
              "    }\n",
              "\n",
              "    .colab-df-convert:hover {\n",
              "      background-color: #E2EBFA;\n",
              "      box-shadow: 0px 1px 2px rgba(60, 64, 67, 0.3), 0px 1px 3px 1px rgba(60, 64, 67, 0.15);\n",
              "      fill: #174EA6;\n",
              "    }\n",
              "\n",
              "    [theme=dark] .colab-df-convert {\n",
              "      background-color: #3B4455;\n",
              "      fill: #D2E3FC;\n",
              "    }\n",
              "\n",
              "    [theme=dark] .colab-df-convert:hover {\n",
              "      background-color: #434B5C;\n",
              "      box-shadow: 0px 1px 3px 1px rgba(0, 0, 0, 0.15);\n",
              "      filter: drop-shadow(0px 1px 2px rgba(0, 0, 0, 0.3));\n",
              "      fill: #FFFFFF;\n",
              "    }\n",
              "  </style>\n",
              "\n",
              "      <script>\n",
              "        const buttonEl =\n",
              "          document.querySelector('#df-825f1299-2851-485a-bc57-96fa06e9bd06 button.colab-df-convert');\n",
              "        buttonEl.style.display =\n",
              "          google.colab.kernel.accessAllowed ? 'block' : 'none';\n",
              "\n",
              "        async function convertToInteractive(key) {\n",
              "          const element = document.querySelector('#df-825f1299-2851-485a-bc57-96fa06e9bd06');\n",
              "          const dataTable =\n",
              "            await google.colab.kernel.invokeFunction('convertToInteractive',\n",
              "                                                     [key], {});\n",
              "          if (!dataTable) return;\n",
              "\n",
              "          const docLinkHtml = 'Like what you see? Visit the ' +\n",
              "            '<a target=\"_blank\" href=https://colab.research.google.com/notebooks/data_table.ipynb>data table notebook</a>'\n",
              "            + ' to learn more about interactive tables.';\n",
              "          element.innerHTML = '';\n",
              "          dataTable['output_type'] = 'display_data';\n",
              "          await google.colab.output.renderOutput(dataTable, element);\n",
              "          const docLink = document.createElement('div');\n",
              "          docLink.innerHTML = docLinkHtml;\n",
              "          element.appendChild(docLink);\n",
              "        }\n",
              "      </script>\n",
              "    </div>\n",
              "  </div>\n",
              "  "
            ]
          },
          "metadata": {},
          "execution_count": 13
        }
      ],
      "metadata": {
        "colab": {
          "base_uri": "https://localhost:8080/",
          "height": 372
        },
        "id": "j-RuHgikHNxN",
        "outputId": "780983a0-b598-4f5a-8472-4b96c3962bb2"
      }
    },
    {
      "cell_type": "code",
      "source": [
        "df.tail()"
      ],
      "metadata": {
        "colab": {
          "base_uri": "https://localhost:8080/",
          "height": 372
        },
        "id": "aNUSN4cb6KQX",
        "outputId": "5eff6e3c-4bf0-4a1e-8d78-f72488aae193"
      },
      "execution_count": null,
      "outputs": [
        {
          "output_type": "execute_result",
          "data": {
            "text/plain": [
              "           Date   Open   High    Low  Close  Change  Traded Volume   Turnover  \\\n",
              "250  2017-01-06  34.91  35.21  34.91  35.04     NaN        27507.0   964046.0   \n",
              "251  2017-01-05  35.02  35.20  34.73  35.06     NaN        48412.0  1692326.0   \n",
              "252  2017-01-04  35.48  35.51  34.75  35.19     NaN        54408.0  1906810.0   \n",
              "253  2017-01-03  35.90  35.93  35.34  35.48     NaN        70618.0  2515473.0   \n",
              "254  2017-01-02  34.99  35.94  34.99  35.80     NaN        44700.0  1590561.0   \n",
              "\n",
              "    Last Price of the Day Daily Traded Units Daily Turnover  \n",
              "250                  None               None           None  \n",
              "251                  None               None           None  \n",
              "252                  None               None           None  \n",
              "253                  None               None           None  \n",
              "254                  None               None           None  "
            ],
            "text/html": [
              "\n",
              "  <div id=\"df-44d43beb-e654-4b04-96fb-84807ca65505\">\n",
              "    <div class=\"colab-df-container\">\n",
              "      <div>\n",
              "<style scoped>\n",
              "    .dataframe tbody tr th:only-of-type {\n",
              "        vertical-align: middle;\n",
              "    }\n",
              "\n",
              "    .dataframe tbody tr th {\n",
              "        vertical-align: top;\n",
              "    }\n",
              "\n",
              "    .dataframe thead th {\n",
              "        text-align: right;\n",
              "    }\n",
              "</style>\n",
              "<table border=\"1\" class=\"dataframe\">\n",
              "  <thead>\n",
              "    <tr style=\"text-align: right;\">\n",
              "      <th></th>\n",
              "      <th>Date</th>\n",
              "      <th>Open</th>\n",
              "      <th>High</th>\n",
              "      <th>Low</th>\n",
              "      <th>Close</th>\n",
              "      <th>Change</th>\n",
              "      <th>Traded Volume</th>\n",
              "      <th>Turnover</th>\n",
              "      <th>Last Price of the Day</th>\n",
              "      <th>Daily Traded Units</th>\n",
              "      <th>Daily Turnover</th>\n",
              "    </tr>\n",
              "  </thead>\n",
              "  <tbody>\n",
              "    <tr>\n",
              "      <th>250</th>\n",
              "      <td>2017-01-06</td>\n",
              "      <td>34.91</td>\n",
              "      <td>35.21</td>\n",
              "      <td>34.91</td>\n",
              "      <td>35.04</td>\n",
              "      <td>NaN</td>\n",
              "      <td>27507.0</td>\n",
              "      <td>964046.0</td>\n",
              "      <td>None</td>\n",
              "      <td>None</td>\n",
              "      <td>None</td>\n",
              "    </tr>\n",
              "    <tr>\n",
              "      <th>251</th>\n",
              "      <td>2017-01-05</td>\n",
              "      <td>35.02</td>\n",
              "      <td>35.20</td>\n",
              "      <td>34.73</td>\n",
              "      <td>35.06</td>\n",
              "      <td>NaN</td>\n",
              "      <td>48412.0</td>\n",
              "      <td>1692326.0</td>\n",
              "      <td>None</td>\n",
              "      <td>None</td>\n",
              "      <td>None</td>\n",
              "    </tr>\n",
              "    <tr>\n",
              "      <th>252</th>\n",
              "      <td>2017-01-04</td>\n",
              "      <td>35.48</td>\n",
              "      <td>35.51</td>\n",
              "      <td>34.75</td>\n",
              "      <td>35.19</td>\n",
              "      <td>NaN</td>\n",
              "      <td>54408.0</td>\n",
              "      <td>1906810.0</td>\n",
              "      <td>None</td>\n",
              "      <td>None</td>\n",
              "      <td>None</td>\n",
              "    </tr>\n",
              "    <tr>\n",
              "      <th>253</th>\n",
              "      <td>2017-01-03</td>\n",
              "      <td>35.90</td>\n",
              "      <td>35.93</td>\n",
              "      <td>35.34</td>\n",
              "      <td>35.48</td>\n",
              "      <td>NaN</td>\n",
              "      <td>70618.0</td>\n",
              "      <td>2515473.0</td>\n",
              "      <td>None</td>\n",
              "      <td>None</td>\n",
              "      <td>None</td>\n",
              "    </tr>\n",
              "    <tr>\n",
              "      <th>254</th>\n",
              "      <td>2017-01-02</td>\n",
              "      <td>34.99</td>\n",
              "      <td>35.94</td>\n",
              "      <td>34.99</td>\n",
              "      <td>35.80</td>\n",
              "      <td>NaN</td>\n",
              "      <td>44700.0</td>\n",
              "      <td>1590561.0</td>\n",
              "      <td>None</td>\n",
              "      <td>None</td>\n",
              "      <td>None</td>\n",
              "    </tr>\n",
              "  </tbody>\n",
              "</table>\n",
              "</div>\n",
              "      <button class=\"colab-df-convert\" onclick=\"convertToInteractive('df-44d43beb-e654-4b04-96fb-84807ca65505')\"\n",
              "              title=\"Convert this dataframe to an interactive table.\"\n",
              "              style=\"display:none;\">\n",
              "        \n",
              "  <svg xmlns=\"http://www.w3.org/2000/svg\" height=\"24px\"viewBox=\"0 0 24 24\"\n",
              "       width=\"24px\">\n",
              "    <path d=\"M0 0h24v24H0V0z\" fill=\"none\"/>\n",
              "    <path d=\"M18.56 5.44l.94 2.06.94-2.06 2.06-.94-2.06-.94-.94-2.06-.94 2.06-2.06.94zm-11 1L8.5 8.5l.94-2.06 2.06-.94-2.06-.94L8.5 2.5l-.94 2.06-2.06.94zm10 10l.94 2.06.94-2.06 2.06-.94-2.06-.94-.94-2.06-.94 2.06-2.06.94z\"/><path d=\"M17.41 7.96l-1.37-1.37c-.4-.4-.92-.59-1.43-.59-.52 0-1.04.2-1.43.59L10.3 9.45l-7.72 7.72c-.78.78-.78 2.05 0 2.83L4 21.41c.39.39.9.59 1.41.59.51 0 1.02-.2 1.41-.59l7.78-7.78 2.81-2.81c.8-.78.8-2.07 0-2.86zM5.41 20L4 18.59l7.72-7.72 1.47 1.35L5.41 20z\"/>\n",
              "  </svg>\n",
              "      </button>\n",
              "      \n",
              "  <style>\n",
              "    .colab-df-container {\n",
              "      display:flex;\n",
              "      flex-wrap:wrap;\n",
              "      gap: 12px;\n",
              "    }\n",
              "\n",
              "    .colab-df-convert {\n",
              "      background-color: #E8F0FE;\n",
              "      border: none;\n",
              "      border-radius: 50%;\n",
              "      cursor: pointer;\n",
              "      display: none;\n",
              "      fill: #1967D2;\n",
              "      height: 32px;\n",
              "      padding: 0 0 0 0;\n",
              "      width: 32px;\n",
              "    }\n",
              "\n",
              "    .colab-df-convert:hover {\n",
              "      background-color: #E2EBFA;\n",
              "      box-shadow: 0px 1px 2px rgba(60, 64, 67, 0.3), 0px 1px 3px 1px rgba(60, 64, 67, 0.15);\n",
              "      fill: #174EA6;\n",
              "    }\n",
              "\n",
              "    [theme=dark] .colab-df-convert {\n",
              "      background-color: #3B4455;\n",
              "      fill: #D2E3FC;\n",
              "    }\n",
              "\n",
              "    [theme=dark] .colab-df-convert:hover {\n",
              "      background-color: #434B5C;\n",
              "      box-shadow: 0px 1px 3px 1px rgba(0, 0, 0, 0.15);\n",
              "      filter: drop-shadow(0px 1px 2px rgba(0, 0, 0, 0.3));\n",
              "      fill: #FFFFFF;\n",
              "    }\n",
              "  </style>\n",
              "\n",
              "      <script>\n",
              "        const buttonEl =\n",
              "          document.querySelector('#df-44d43beb-e654-4b04-96fb-84807ca65505 button.colab-df-convert');\n",
              "        buttonEl.style.display =\n",
              "          google.colab.kernel.accessAllowed ? 'block' : 'none';\n",
              "\n",
              "        async function convertToInteractive(key) {\n",
              "          const element = document.querySelector('#df-44d43beb-e654-4b04-96fb-84807ca65505');\n",
              "          const dataTable =\n",
              "            await google.colab.kernel.invokeFunction('convertToInteractive',\n",
              "                                                     [key], {});\n",
              "          if (!dataTable) return;\n",
              "\n",
              "          const docLinkHtml = 'Like what you see? Visit the ' +\n",
              "            '<a target=\"_blank\" href=https://colab.research.google.com/notebooks/data_table.ipynb>data table notebook</a>'\n",
              "            + ' to learn more about interactive tables.';\n",
              "          element.innerHTML = '';\n",
              "          dataTable['output_type'] = 'display_data';\n",
              "          await google.colab.output.renderOutput(dataTable, element);\n",
              "          const docLink = document.createElement('div');\n",
              "          docLink.innerHTML = docLinkHtml;\n",
              "          element.appendChild(docLink);\n",
              "        }\n",
              "      </script>\n",
              "    </div>\n",
              "  </div>\n",
              "  "
            ]
          },
          "metadata": {},
          "execution_count": 14
        }
      ]
    },
    {
      "cell_type": "code",
      "source": [
        "df.info()"
      ],
      "metadata": {
        "colab": {
          "base_uri": "https://localhost:8080/"
        },
        "id": "4WNqFX796Non",
        "outputId": "5b4b55d9-0edd-4339-f100-853e15535cf4"
      },
      "execution_count": null,
      "outputs": [
        {
          "output_type": "stream",
          "name": "stdout",
          "text": [
            "<class 'pandas.core.frame.DataFrame'>\n",
            "RangeIndex: 255 entries, 0 to 254\n",
            "Data columns (total 11 columns):\n",
            " #   Column                 Non-Null Count  Dtype  \n",
            "---  ------                 --------------  -----  \n",
            " 0   Date                   255 non-null    object \n",
            " 1   Open                   252 non-null    float64\n",
            " 2   High                   255 non-null    float64\n",
            " 3   Low                    255 non-null    float64\n",
            " 4   Close                  255 non-null    float64\n",
            " 5   Change                 1 non-null      float64\n",
            " 6   Traded Volume          255 non-null    float64\n",
            " 7   Turnover               255 non-null    float64\n",
            " 8   Last Price of the Day  0 non-null      object \n",
            " 9   Daily Traded Units     0 non-null      object \n",
            " 10  Daily Turnover         0 non-null      object \n",
            "dtypes: float64(7), object(4)\n",
            "memory usage: 22.0+ KB\n"
          ]
        }
      ]
    },
    {
      "cell_type": "markdown",
      "source": [
        "*Observation*: There are 255 data rows corresponding with 255 days. That means they recorded 5 week days per week for 51 weeks: 51 x 5 = 255 days. "
      ],
      "metadata": {
        "id": "KSPDR69p6k58"
      }
    },
    {
      "cell_type": "code",
      "source": [
        "df.describe()"
      ],
      "metadata": {
        "colab": {
          "base_uri": "https://localhost:8080/",
          "height": 300
        },
        "id": "iM9W2xSy6VXk",
        "outputId": "a97d8207-181d-4119-ca82-ad5a08294c51"
      },
      "execution_count": null,
      "outputs": [
        {
          "output_type": "execute_result",
          "data": {
            "text/plain": [
              "             Open        High         Low       Close  Change  Traded Volume  \\\n",
              "count  252.000000  255.000000  255.000000  255.000000    1.00     255.000000   \n",
              "mean    43.344206   43.702804   42.924373   43.364157   -0.44   89124.337255   \n",
              "std      4.348585    4.365667    4.267225    4.321755     NaN   60441.130541   \n",
              "min     34.000000   34.120000   33.620000   34.060000   -0.44      45.000000   \n",
              "25%     41.395000   41.580000   41.045000   41.400000   -0.44   56282.000000   \n",
              "50%     43.450000   43.550000   42.620000   43.280000   -0.44   76286.000000   \n",
              "75%     45.857500   46.195000   45.390000   45.850000   -0.44  104479.000000   \n",
              "max     53.110000   53.540000   52.480000   53.090000   -0.44  670349.000000   \n",
              "\n",
              "           Turnover  \n",
              "count  2.550000e+02  \n",
              "mean   3.853589e+06  \n",
              "std    2.517807e+06  \n",
              "min    1.980000e+03  \n",
              "25%    2.388636e+06  \n",
              "50%    3.292223e+06  \n",
              "75%    4.591904e+06  \n",
              "max    2.591054e+07  "
            ],
            "text/html": [
              "\n",
              "  <div id=\"df-683bbc42-23aa-4b28-b7f5-96de7fd8b514\">\n",
              "    <div class=\"colab-df-container\">\n",
              "      <div>\n",
              "<style scoped>\n",
              "    .dataframe tbody tr th:only-of-type {\n",
              "        vertical-align: middle;\n",
              "    }\n",
              "\n",
              "    .dataframe tbody tr th {\n",
              "        vertical-align: top;\n",
              "    }\n",
              "\n",
              "    .dataframe thead th {\n",
              "        text-align: right;\n",
              "    }\n",
              "</style>\n",
              "<table border=\"1\" class=\"dataframe\">\n",
              "  <thead>\n",
              "    <tr style=\"text-align: right;\">\n",
              "      <th></th>\n",
              "      <th>Open</th>\n",
              "      <th>High</th>\n",
              "      <th>Low</th>\n",
              "      <th>Close</th>\n",
              "      <th>Change</th>\n",
              "      <th>Traded Volume</th>\n",
              "      <th>Turnover</th>\n",
              "    </tr>\n",
              "  </thead>\n",
              "  <tbody>\n",
              "    <tr>\n",
              "      <th>count</th>\n",
              "      <td>252.000000</td>\n",
              "      <td>255.000000</td>\n",
              "      <td>255.000000</td>\n",
              "      <td>255.000000</td>\n",
              "      <td>1.00</td>\n",
              "      <td>255.000000</td>\n",
              "      <td>2.550000e+02</td>\n",
              "    </tr>\n",
              "    <tr>\n",
              "      <th>mean</th>\n",
              "      <td>43.344206</td>\n",
              "      <td>43.702804</td>\n",
              "      <td>42.924373</td>\n",
              "      <td>43.364157</td>\n",
              "      <td>-0.44</td>\n",
              "      <td>89124.337255</td>\n",
              "      <td>3.853589e+06</td>\n",
              "    </tr>\n",
              "    <tr>\n",
              "      <th>std</th>\n",
              "      <td>4.348585</td>\n",
              "      <td>4.365667</td>\n",
              "      <td>4.267225</td>\n",
              "      <td>4.321755</td>\n",
              "      <td>NaN</td>\n",
              "      <td>60441.130541</td>\n",
              "      <td>2.517807e+06</td>\n",
              "    </tr>\n",
              "    <tr>\n",
              "      <th>min</th>\n",
              "      <td>34.000000</td>\n",
              "      <td>34.120000</td>\n",
              "      <td>33.620000</td>\n",
              "      <td>34.060000</td>\n",
              "      <td>-0.44</td>\n",
              "      <td>45.000000</td>\n",
              "      <td>1.980000e+03</td>\n",
              "    </tr>\n",
              "    <tr>\n",
              "      <th>25%</th>\n",
              "      <td>41.395000</td>\n",
              "      <td>41.580000</td>\n",
              "      <td>41.045000</td>\n",
              "      <td>41.400000</td>\n",
              "      <td>-0.44</td>\n",
              "      <td>56282.000000</td>\n",
              "      <td>2.388636e+06</td>\n",
              "    </tr>\n",
              "    <tr>\n",
              "      <th>50%</th>\n",
              "      <td>43.450000</td>\n",
              "      <td>43.550000</td>\n",
              "      <td>42.620000</td>\n",
              "      <td>43.280000</td>\n",
              "      <td>-0.44</td>\n",
              "      <td>76286.000000</td>\n",
              "      <td>3.292223e+06</td>\n",
              "    </tr>\n",
              "    <tr>\n",
              "      <th>75%</th>\n",
              "      <td>45.857500</td>\n",
              "      <td>46.195000</td>\n",
              "      <td>45.390000</td>\n",
              "      <td>45.850000</td>\n",
              "      <td>-0.44</td>\n",
              "      <td>104479.000000</td>\n",
              "      <td>4.591904e+06</td>\n",
              "    </tr>\n",
              "    <tr>\n",
              "      <th>max</th>\n",
              "      <td>53.110000</td>\n",
              "      <td>53.540000</td>\n",
              "      <td>52.480000</td>\n",
              "      <td>53.090000</td>\n",
              "      <td>-0.44</td>\n",
              "      <td>670349.000000</td>\n",
              "      <td>2.591054e+07</td>\n",
              "    </tr>\n",
              "  </tbody>\n",
              "</table>\n",
              "</div>\n",
              "      <button class=\"colab-df-convert\" onclick=\"convertToInteractive('df-683bbc42-23aa-4b28-b7f5-96de7fd8b514')\"\n",
              "              title=\"Convert this dataframe to an interactive table.\"\n",
              "              style=\"display:none;\">\n",
              "        \n",
              "  <svg xmlns=\"http://www.w3.org/2000/svg\" height=\"24px\"viewBox=\"0 0 24 24\"\n",
              "       width=\"24px\">\n",
              "    <path d=\"M0 0h24v24H0V0z\" fill=\"none\"/>\n",
              "    <path d=\"M18.56 5.44l.94 2.06.94-2.06 2.06-.94-2.06-.94-.94-2.06-.94 2.06-2.06.94zm-11 1L8.5 8.5l.94-2.06 2.06-.94-2.06-.94L8.5 2.5l-.94 2.06-2.06.94zm10 10l.94 2.06.94-2.06 2.06-.94-2.06-.94-.94-2.06-.94 2.06-2.06.94z\"/><path d=\"M17.41 7.96l-1.37-1.37c-.4-.4-.92-.59-1.43-.59-.52 0-1.04.2-1.43.59L10.3 9.45l-7.72 7.72c-.78.78-.78 2.05 0 2.83L4 21.41c.39.39.9.59 1.41.59.51 0 1.02-.2 1.41-.59l7.78-7.78 2.81-2.81c.8-.78.8-2.07 0-2.86zM5.41 20L4 18.59l7.72-7.72 1.47 1.35L5.41 20z\"/>\n",
              "  </svg>\n",
              "      </button>\n",
              "      \n",
              "  <style>\n",
              "    .colab-df-container {\n",
              "      display:flex;\n",
              "      flex-wrap:wrap;\n",
              "      gap: 12px;\n",
              "    }\n",
              "\n",
              "    .colab-df-convert {\n",
              "      background-color: #E8F0FE;\n",
              "      border: none;\n",
              "      border-radius: 50%;\n",
              "      cursor: pointer;\n",
              "      display: none;\n",
              "      fill: #1967D2;\n",
              "      height: 32px;\n",
              "      padding: 0 0 0 0;\n",
              "      width: 32px;\n",
              "    }\n",
              "\n",
              "    .colab-df-convert:hover {\n",
              "      background-color: #E2EBFA;\n",
              "      box-shadow: 0px 1px 2px rgba(60, 64, 67, 0.3), 0px 1px 3px 1px rgba(60, 64, 67, 0.15);\n",
              "      fill: #174EA6;\n",
              "    }\n",
              "\n",
              "    [theme=dark] .colab-df-convert {\n",
              "      background-color: #3B4455;\n",
              "      fill: #D2E3FC;\n",
              "    }\n",
              "\n",
              "    [theme=dark] .colab-df-convert:hover {\n",
              "      background-color: #434B5C;\n",
              "      box-shadow: 0px 1px 3px 1px rgba(0, 0, 0, 0.15);\n",
              "      filter: drop-shadow(0px 1px 2px rgba(0, 0, 0, 0.3));\n",
              "      fill: #FFFFFF;\n",
              "    }\n",
              "  </style>\n",
              "\n",
              "      <script>\n",
              "        const buttonEl =\n",
              "          document.querySelector('#df-683bbc42-23aa-4b28-b7f5-96de7fd8b514 button.colab-df-convert');\n",
              "        buttonEl.style.display =\n",
              "          google.colab.kernel.accessAllowed ? 'block' : 'none';\n",
              "\n",
              "        async function convertToInteractive(key) {\n",
              "          const element = document.querySelector('#df-683bbc42-23aa-4b28-b7f5-96de7fd8b514');\n",
              "          const dataTable =\n",
              "            await google.colab.kernel.invokeFunction('convertToInteractive',\n",
              "                                                     [key], {});\n",
              "          if (!dataTable) return;\n",
              "\n",
              "          const docLinkHtml = 'Like what you see? Visit the ' +\n",
              "            '<a target=\"_blank\" href=https://colab.research.google.com/notebooks/data_table.ipynb>data table notebook</a>'\n",
              "            + ' to learn more about interactive tables.';\n",
              "          element.innerHTML = '';\n",
              "          dataTable['output_type'] = 'display_data';\n",
              "          await google.colab.output.renderOutput(dataTable, element);\n",
              "          const docLink = document.createElement('div');\n",
              "          docLink.innerHTML = docLinkHtml;\n",
              "          element.appendChild(docLink);\n",
              "        }\n",
              "      </script>\n",
              "    </div>\n",
              "  </div>\n",
              "  "
            ]
          },
          "metadata": {},
          "execution_count": 16
        }
      ]
    },
    {
      "cell_type": "markdown",
      "source": [
        "# Question 3"
      ],
      "metadata": {
        "id": "rBPI1c4-PujF"
      }
    },
    {
      "cell_type": "code",
      "source": [
        "### question 3: Calculate what the highest and lowest opening prices were for the stock in this period ###\n",
        "highest_open = max(df['Open'])\n",
        "lowest_open  = min(df['Open'])\n",
        "print('highest_open = ', highest_open)\n",
        "print('lowest_open  = ', lowest_open)"
      ],
      "metadata": {
        "colab": {
          "base_uri": "https://localhost:8080/"
        },
        "id": "uQDMUTIW7L_b",
        "outputId": "f88f6a98-fc9c-4940-fb00-2fc04d7aa2f6"
      },
      "execution_count": null,
      "outputs": [
        {
          "output_type": "stream",
          "name": "stdout",
          "text": [
            "highest_open =  53.11\n",
            "lowest_open  =  34.0\n"
          ]
        }
      ]
    },
    {
      "cell_type": "markdown",
      "source": [
        "# Question 4"
      ],
      "metadata": {
        "id": "wzW2933vPwn4"
      }
    },
    {
      "cell_type": "code",
      "source": [
        "### question 4: What was the largest change in any one day (based on High and Low price)? ###\n",
        "tmp = df['High'] - df['Low']\n",
        "largest_change = max(tmp)\n",
        "print('largest_change = ', largest_change)\n",
        "# print(type(tmp))\n",
        "# print(tmp)"
      ],
      "metadata": {
        "colab": {
          "base_uri": "https://localhost:8080/"
        },
        "id": "6quRukKl8Jtx",
        "outputId": "e4a6d12a-e569-43f0-d0d6-682aa5c06888"
      },
      "execution_count": null,
      "outputs": [
        {
          "output_type": "stream",
          "name": "stdout",
          "text": [
            "largest_change =  2.8100000000000023\n"
          ]
        }
      ]
    },
    {
      "cell_type": "markdown",
      "source": [
        "# Question 5"
      ],
      "metadata": {
        "id": "WXRRFhcNPyWC"
      }
    },
    {
      "cell_type": "code",
      "source": [
        "### question 5: What was the largest change between any two days (based on Closing Price)? ### \n",
        "largest_change_close = max(df['Close']) - min(df['Close'])\n",
        "print('largest_change_close = ', largest_change_close)"
      ],
      "metadata": {
        "colab": {
          "base_uri": "https://localhost:8080/"
        },
        "id": "wlg3IzSw89YT",
        "outputId": "965a318a-a235-4a23-af51-b9f16f112046"
      },
      "execution_count": null,
      "outputs": [
        {
          "output_type": "stream",
          "name": "stdout",
          "text": [
            "largest_change_close =  19.03\n"
          ]
        }
      ]
    },
    {
      "cell_type": "markdown",
      "source": [
        "# Question 6"
      ],
      "metadata": {
        "id": "NC2BOpDPPzqZ"
      }
    },
    {
      "cell_type": "code",
      "source": [
        "### question 6: What was the average daily trading volume during this year? ###\n",
        "import numpy as np\n",
        "avg_day_trade_volume = np.mean(df['Traded Volume'])\n",
        "print('avg_day_trade_volume = ', avg_day_trade_volume)"
      ],
      "metadata": {
        "colab": {
          "base_uri": "https://localhost:8080/"
        },
        "id": "cs1zCnPk-KJA",
        "outputId": "4e7a0511-fdca-403b-829b-6f137d9b3d5f"
      },
      "execution_count": null,
      "outputs": [
        {
          "output_type": "stream",
          "name": "stdout",
          "text": [
            "avg_day_trade_volume =  89124.33725490196\n"
          ]
        }
      ]
    },
    {
      "cell_type": "markdown",
      "source": [
        "# Question 7"
      ],
      "metadata": {
        "id": "5O1teukmP05k"
      }
    },
    {
      "cell_type": "code",
      "source": [
        "### question 7: (Optional) What was the median trading volume during this year. \n",
        "### (Note: you may need to implement your own function for calculating the median.)\n",
        "def my_median(arr):\n",
        "  length = len(arr)  \n",
        "  ind = length//2\n",
        "  arr = sorted(arr)\n",
        "\n",
        "  if length%2 != 0:\n",
        "    ### odd ###\n",
        "    return arr[ind]\n",
        "  \n",
        "  else:\n",
        "    ### even ###\n",
        "    return (arr[ind] + arr[ind-1])/2\n",
        "\n",
        "### compare with built-in function ###\n",
        "med1 = my_median(df['Traded Volume'])\n",
        "med2 = np.median(df['Traded Volume']) \n",
        "err = med1 - med2\n",
        "print('med1 = ' +str(med1) + '; med2 = '+str(med2)+'; error = ' + str(err) )\n"
      ],
      "metadata": {
        "colab": {
          "base_uri": "https://localhost:8080/"
        },
        "id": "pAIqCrIT-7h6",
        "outputId": "7a7459cd-02a7-418f-fa77-f0fa5be709cc"
      },
      "execution_count": null,
      "outputs": [
        {
          "output_type": "stream",
          "name": "stdout",
          "text": [
            "med1 = 76286.0; med2 = 76286.0; error = 0.0\n"
          ]
        }
      ]
    }
  ],
  "metadata": {
    "kernelspec": {
      "name": "python3",
      "display_name": "Python 3.7.9 64-bit ('springboard': conda)"
    },
    "language_info": {
      "codemirror_mode": {
        "name": "ipython",
        "version": 3
      },
      "file_extension": ".py",
      "mimetype": "text/x-python",
      "name": "python",
      "nbconvert_exporter": "python",
      "pygments_lexer": "ipython3",
      "version": "3.7.9"
    },
    "interpreter": {
      "hash": "4885f37acae9217c235118400878352aafa7b76e66df698a1f601374f86939a7"
    },
    "colab": {
      "provenance": [],
      "toc_visible": true,
      "include_colab_link": true
    }
  },
  "nbformat": 4,
  "nbformat_minor": 0
}
