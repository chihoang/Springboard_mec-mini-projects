{
  "cells": [
    {
      "cell_type": "markdown",
      "metadata": {
        "id": "view-in-github",
        "colab_type": "text"
      },
      "source": [
        "<a href=\"https://colab.research.google.com/github/chihoang/Springboard_mec-mini-projects/blob/main/Mini_Project_Recommendation_Systems.ipynb\" target=\"_parent\"><img src=\"https://colab.research.google.com/assets/colab-badge.svg\" alt=\"Open In Colab\"/></a>"
      ]
    },
    {
      "cell_type": "markdown",
      "metadata": {
        "id": "KkqlbEEvsHuw"
      },
      "source": [
        "# Recommendation Systems"
      ]
    },
    {
      "cell_type": "markdown",
      "metadata": {
        "id": "JXCjew2ItepU"
      },
      "source": [
        "Companies like Amazon (books, items), Netflix (movies), Google (News,Search), and Pandora/Spotify (music) leverage recommendation systems to help users discover new and relevant items (products, videos, jobs, music), creating a delightful user experience while driving incremental revenue. \n",
        "\n",
        "The need to build robust recommendation systems is extremely important given the huge demand for personalized content of modern consumers.\n"
      ]
    },
    {
      "cell_type": "markdown",
      "metadata": {
        "id": "_lc420j2uhwZ"
      },
      "source": [
        "In this assignment, you will be applying your learning of recommendation systems in this Unit towards building the following four different types of recommendation systems:\n",
        "\n",
        "1.   Global Recommendation Systems (Statistical)   \n",
        "2.   Content-based Recommendation Systems\n",
        "3.   Collaborative Filtering (User-Item) Recommendation Systems\n",
        "4.   Hybrid Recommendation Systems\n",
        "\n",
        "The focus of the mini-project here would be to build a movie recommendation system.\n"
      ]
    },
    {
      "cell_type": "markdown",
      "metadata": {
        "id": "CL3nuM_Kv17_"
      },
      "source": [
        "## 1. Dataset Acquisition\n",
        "\n",
        "Following are the key descriptions of the datasets you will be using. The data used here has been compiled from various movie datasets like Netflix and IMDb.\n",
        "\n",
        "1. __Filename: `movie_titles.csv`:__\n",
        "\n",
        "  - __`MovieID`__: MovieID does not correspond to actual Netflix movie ids or IMDB movie ids\n",
        "  - __`YearOfRelease`__: YearOfRelease can range from 1890 to 2005 and may correspond to the release of corresponding DVD, not necessarily its theaterical release\n",
        "  - __`Title`__: Title is the Netflix movie title and may not correspond to titles used on other sites. Titles are in English\n",
        "\n",
        "\n",
        "2. __Combined User-Ratings Dataset Description - `combined_data.csv`:__\n",
        "\n",
        "  - The first line of the contains the movie id followed by a colon.    \n",
        "  - Each subsequent line in the file corresponds to a rating from a customer and its date in the following format:\n",
        "\n",
        "    - MovieIDs range from 1 to 17770 sequentially.\n",
        "    - CustomerIDs range from 1 to 2649429, with gaps. There are 480189 users. \n",
        "    - Ratings are on a five star (integral) scale from 1 to 5.\n",
        "    - Dates have the format YYYY-MM-DD.\n",
        "\n",
        "\n",
        "3. __Filename: `movies_metadata.csv`__\n",
        "\n",
        "The main Movies Metadata file. Contains information on 45,000 movies featured in the Full MovieLens dataset. Features include posters, backdrops, budget, revenue, release dates, languages, production countries and companies.\n"
      ]
    },
    {
      "cell_type": "markdown",
      "metadata": {
        "id": "aaic3a2Cw0T5"
      },
      "source": [
        "## 2: Import Necessary Dependencies\n",
        "\n",
        "We will be leveraging __`keras`__ on top of __`tensorflow`__ for building some of the collaborative filtering and hybrid models. There are compatibility issues with handling sparse layers with dense layers till now in TensorFlow 2 hence we are leveraging native Keras but in the long run once this issue is resolved we can leverage __`tf.keras`__ with minimal code updates."
      ]
    },
    {
      "cell_type": "code",
      "execution_count": null,
      "metadata": {
        "id": "iX9t8rYaxVGh"
      },
      "outputs": [],
      "source": [
        "# filter out unncessary warnings\n",
        "import warnings\n",
        "warnings.filterwarnings('ignore')"
      ]
    },
    {
      "cell_type": "code",
      "execution_count": null,
      "metadata": {
        "id": "JGWCPwAiP7vv"
      },
      "outputs": [],
      "source": [
        "# To store\\load the data\n",
        "import pandas as pd\n",
        "\n",
        "# To do linear algebra\n",
        "import numpy as np\n",
        "\n",
        "# To create plots\n",
        "import matplotlib.pyplot as plt\n",
        "import seaborn as sns\n",
        "\n",
        "\n",
        "# To compute similarities between vectors\n",
        "from sklearn.metrics import mean_squared_error\n",
        "from sklearn.metrics.pairwise import cosine_similarity\n",
        "from sklearn.feature_extraction.text import TfidfVectorizer\n",
        "\n",
        "# data load progress bars\n",
        "from tqdm import tqdm\n",
        "\n",
        "from collections import deque\n",
        "\n",
        "# To create deep learning models\n",
        "import tensorflow as tf\n",
        "import keras\n",
        "from keras.layers import Input, Embedding, Reshape, Dot, Concatenate, Dense, Dropout\n",
        "from keras.models import Model\n",
        "\n",
        "# To stack sparse matrices\n",
        "from scipy.sparse import vstack"
      ]
    },
    {
      "cell_type": "code",
      "execution_count": null,
      "metadata": {
        "id": "whZc1FgzyPyY"
      },
      "outputs": [],
      "source": [
        "# remove unnecessary TF logs\n",
        "import logging\n",
        "tf.get_logger().setLevel(logging.ERROR)"
      ]
    },
    {
      "cell_type": "code",
      "execution_count": null,
      "metadata": {
        "colab": {
          "base_uri": "https://localhost:8080/"
        },
        "id": "Ce2tjPHPzWFd",
        "outputId": "f6bbd43f-11e1-440a-fc98-f09a78047ec3"
      },
      "outputs": [
        {
          "output_type": "stream",
          "name": "stdout",
          "text": [
            "TF Version: 2.9.2\n",
            "Keras Version: 2.9.0\n"
          ]
        }
      ],
      "source": [
        "# check keras and TF version used\n",
        "print('TF Version:', tf.__version__)\n",
        "print('Keras Version:', keras.__version__)\n",
        "# TF Version: 1.15.0\n",
        "# Keras Version: 2.2.5"
      ]
    },
    {
      "cell_type": "markdown",
      "metadata": {
        "id": "lXXYudDD0Coy"
      },
      "source": [
        "Let's start loading data that will be used for building the recommendation systems"
      ]
    },
    {
      "cell_type": "markdown",
      "metadata": {
        "id": "6FJZmUvExOYt"
      },
      "source": [
        "# 3. Load Datasets"
      ]
    },
    {
      "cell_type": "markdown",
      "metadata": {
        "id": "AnAU78S7xz-H"
      },
      "source": [
        "## ** 3.1: Load Movie Metadata Datasets\n",
        "\n",
        "First, we will load the movie_titles.csv data from the Netflix prize data source"
      ]
    },
    {
      "cell_type": "code",
      "source": [
        "### 2/6/23: mount to the datasets in Google Drive ###\n",
        "from google.colab import drive\n",
        "drive.mount('/content/gdrive')"
      ],
      "metadata": {
        "colab": {
          "base_uri": "https://localhost:8080/"
        },
        "id": "EZOOL57soR8h",
        "outputId": "68042644-765b-47bb-eea8-070f541e712b"
      },
      "execution_count": null,
      "outputs": [
        {
          "output_type": "stream",
          "name": "stdout",
          "text": [
            "Mounted at /content/gdrive\n"
          ]
        }
      ]
    },
    {
      "cell_type": "code",
      "execution_count": null,
      "metadata": {
        "colab": {
          "base_uri": "https://localhost:8080/"
        },
        "id": "tgD9whbBfcWW",
        "outputId": "48e10b81-42e6-47a3-92fc-c60f15a80da0"
      },
      "outputs": [
        {
          "output_type": "stream",
          "name": "stdout",
          "text": [
            "Shape Movie-Titles:\t(17770, 2)\n"
          ]
        }
      ],
      "source": [
        "# Load data for all movies\n",
        "path = '/content/gdrive/MyDrive/Colab Notebooks/mec-mini-projects-master/mec-17.4.1-recommendation-systems-mini-project/data/'\n",
        "\n",
        "movie_titles = pd.read_csv(path + 'movie_titles.csv.zip', \n",
        "                           encoding = 'ISO-8859-1', \n",
        "                           header = None, \n",
        "                           names = ['Id', 'Year', 'Name']).set_index('Id')\n",
        "\n",
        "print('Shape Movie-Titles:\\t{}'.format(movie_titles.shape))\n"
      ]
    },
    {
      "cell_type": "code",
      "source": [
        "# movie_titles.sample(5)\n",
        "# print(type(movie_titles))\n",
        "movie_titles.head()"
      ],
      "metadata": {
        "colab": {
          "base_uri": "https://localhost:8080/",
          "height": 238
        },
        "id": "toDr6bXRo_8M",
        "outputId": "11f51e90-3212-4429-ac1a-34c64ded5693"
      },
      "execution_count": null,
      "outputs": [
        {
          "output_type": "execute_result",
          "data": {
            "text/plain": [
              "      Year                          Name\n",
              "Id                                      \n",
              "1   2003.0               Dinosaur Planet\n",
              "2   2004.0    Isle of Man TT 2004 Review\n",
              "3   1997.0                     Character\n",
              "4   1994.0  Paula Abdul's Get Up & Dance\n",
              "5   2004.0      The Rise and Fall of ECW"
            ],
            "text/html": [
              "\n",
              "  <div id=\"df-ecf80247-18dc-4e55-8a69-b0ecb3c63d2e\">\n",
              "    <div class=\"colab-df-container\">\n",
              "      <div>\n",
              "<style scoped>\n",
              "    .dataframe tbody tr th:only-of-type {\n",
              "        vertical-align: middle;\n",
              "    }\n",
              "\n",
              "    .dataframe tbody tr th {\n",
              "        vertical-align: top;\n",
              "    }\n",
              "\n",
              "    .dataframe thead th {\n",
              "        text-align: right;\n",
              "    }\n",
              "</style>\n",
              "<table border=\"1\" class=\"dataframe\">\n",
              "  <thead>\n",
              "    <tr style=\"text-align: right;\">\n",
              "      <th></th>\n",
              "      <th>Year</th>\n",
              "      <th>Name</th>\n",
              "    </tr>\n",
              "    <tr>\n",
              "      <th>Id</th>\n",
              "      <th></th>\n",
              "      <th></th>\n",
              "    </tr>\n",
              "  </thead>\n",
              "  <tbody>\n",
              "    <tr>\n",
              "      <th>1</th>\n",
              "      <td>2003.0</td>\n",
              "      <td>Dinosaur Planet</td>\n",
              "    </tr>\n",
              "    <tr>\n",
              "      <th>2</th>\n",
              "      <td>2004.0</td>\n",
              "      <td>Isle of Man TT 2004 Review</td>\n",
              "    </tr>\n",
              "    <tr>\n",
              "      <th>3</th>\n",
              "      <td>1997.0</td>\n",
              "      <td>Character</td>\n",
              "    </tr>\n",
              "    <tr>\n",
              "      <th>4</th>\n",
              "      <td>1994.0</td>\n",
              "      <td>Paula Abdul's Get Up &amp; Dance</td>\n",
              "    </tr>\n",
              "    <tr>\n",
              "      <th>5</th>\n",
              "      <td>2004.0</td>\n",
              "      <td>The Rise and Fall of ECW</td>\n",
              "    </tr>\n",
              "  </tbody>\n",
              "</table>\n",
              "</div>\n",
              "      <button class=\"colab-df-convert\" onclick=\"convertToInteractive('df-ecf80247-18dc-4e55-8a69-b0ecb3c63d2e')\"\n",
              "              title=\"Convert this dataframe to an interactive table.\"\n",
              "              style=\"display:none;\">\n",
              "        \n",
              "  <svg xmlns=\"http://www.w3.org/2000/svg\" height=\"24px\"viewBox=\"0 0 24 24\"\n",
              "       width=\"24px\">\n",
              "    <path d=\"M0 0h24v24H0V0z\" fill=\"none\"/>\n",
              "    <path d=\"M18.56 5.44l.94 2.06.94-2.06 2.06-.94-2.06-.94-.94-2.06-.94 2.06-2.06.94zm-11 1L8.5 8.5l.94-2.06 2.06-.94-2.06-.94L8.5 2.5l-.94 2.06-2.06.94zm10 10l.94 2.06.94-2.06 2.06-.94-2.06-.94-.94-2.06-.94 2.06-2.06.94z\"/><path d=\"M17.41 7.96l-1.37-1.37c-.4-.4-.92-.59-1.43-.59-.52 0-1.04.2-1.43.59L10.3 9.45l-7.72 7.72c-.78.78-.78 2.05 0 2.83L4 21.41c.39.39.9.59 1.41.59.51 0 1.02-.2 1.41-.59l7.78-7.78 2.81-2.81c.8-.78.8-2.07 0-2.86zM5.41 20L4 18.59l7.72-7.72 1.47 1.35L5.41 20z\"/>\n",
              "  </svg>\n",
              "      </button>\n",
              "      \n",
              "  <style>\n",
              "    .colab-df-container {\n",
              "      display:flex;\n",
              "      flex-wrap:wrap;\n",
              "      gap: 12px;\n",
              "    }\n",
              "\n",
              "    .colab-df-convert {\n",
              "      background-color: #E8F0FE;\n",
              "      border: none;\n",
              "      border-radius: 50%;\n",
              "      cursor: pointer;\n",
              "      display: none;\n",
              "      fill: #1967D2;\n",
              "      height: 32px;\n",
              "      padding: 0 0 0 0;\n",
              "      width: 32px;\n",
              "    }\n",
              "\n",
              "    .colab-df-convert:hover {\n",
              "      background-color: #E2EBFA;\n",
              "      box-shadow: 0px 1px 2px rgba(60, 64, 67, 0.3), 0px 1px 3px 1px rgba(60, 64, 67, 0.15);\n",
              "      fill: #174EA6;\n",
              "    }\n",
              "\n",
              "    [theme=dark] .colab-df-convert {\n",
              "      background-color: #3B4455;\n",
              "      fill: #D2E3FC;\n",
              "    }\n",
              "\n",
              "    [theme=dark] .colab-df-convert:hover {\n",
              "      background-color: #434B5C;\n",
              "      box-shadow: 0px 1px 3px 1px rgba(0, 0, 0, 0.15);\n",
              "      filter: drop-shadow(0px 1px 2px rgba(0, 0, 0, 0.3));\n",
              "      fill: #FFFFFF;\n",
              "    }\n",
              "  </style>\n",
              "\n",
              "      <script>\n",
              "        const buttonEl =\n",
              "          document.querySelector('#df-ecf80247-18dc-4e55-8a69-b0ecb3c63d2e button.colab-df-convert');\n",
              "        buttonEl.style.display =\n",
              "          google.colab.kernel.accessAllowed ? 'block' : 'none';\n",
              "\n",
              "        async function convertToInteractive(key) {\n",
              "          const element = document.querySelector('#df-ecf80247-18dc-4e55-8a69-b0ecb3c63d2e');\n",
              "          const dataTable =\n",
              "            await google.colab.kernel.invokeFunction('convertToInteractive',\n",
              "                                                     [key], {});\n",
              "          if (!dataTable) return;\n",
              "\n",
              "          const docLinkHtml = 'Like what you see? Visit the ' +\n",
              "            '<a target=\"_blank\" href=https://colab.research.google.com/notebooks/data_table.ipynb>data table notebook</a>'\n",
              "            + ' to learn more about interactive tables.';\n",
              "          element.innerHTML = '';\n",
              "          dataTable['output_type'] = 'display_data';\n",
              "          await google.colab.output.renderOutput(dataTable, element);\n",
              "          const docLink = document.createElement('div');\n",
              "          docLink.innerHTML = docLinkHtml;\n",
              "          element.appendChild(docLink);\n",
              "        }\n",
              "      </script>\n",
              "    </div>\n",
              "  </div>\n",
              "  "
            ]
          },
          "metadata": {},
          "execution_count": 7
        }
      ]
    },
    {
      "cell_type": "code",
      "source": [
        "movie_titles.info()"
      ],
      "metadata": {
        "colab": {
          "base_uri": "https://localhost:8080/"
        },
        "id": "Q3gurF7mpa7y",
        "outputId": "15e26689-3f7d-4ff3-a972-dabf49cc97f0"
      },
      "execution_count": null,
      "outputs": [
        {
          "output_type": "stream",
          "name": "stdout",
          "text": [
            "<class 'pandas.core.frame.DataFrame'>\n",
            "Int64Index: 17770 entries, 1 to 17770\n",
            "Data columns (total 2 columns):\n",
            " #   Column  Non-Null Count  Dtype  \n",
            "---  ------  --------------  -----  \n",
            " 0   Year    17763 non-null  float64\n",
            " 1   Name    17770 non-null  object \n",
            "dtypes: float64(1), object(1)\n",
            "memory usage: 416.5+ KB\n"
          ]
        }
      ]
    },
    {
      "cell_type": "markdown",
      "metadata": {
        "id": "SYafEzcYxa09"
      },
      "source": [
        "There are approximately 18000 movies in the ratings dataset and the metadata information includes the year of release and movie title"
      ]
    },
    {
      "cell_type": "markdown",
      "metadata": {
        "id": "aE4QaObcyAup"
      },
      "source": [
        "Next, we will load the movie_metadata.csv from The movies dataset source. This is to get the metadata information like description etc. related to each movie."
      ]
    },
    {
      "cell_type": "code",
      "execution_count": null,
      "metadata": {
        "colab": {
          "base_uri": "https://localhost:8080/"
        },
        "id": "WWig4ePBqGSD",
        "outputId": "43c5c809-a259-44e5-eb87-219e8e01f05b"
      },
      "outputs": [
        {
          "output_type": "stream",
          "name": "stdout",
          "text": [
            "Shape Movie-Metadata:\t(21604, 1)\n"
          ]
        }
      ],
      "source": [
        "# Load a movie metadata dataset\n",
        "movie_metadata = (pd.read_csv(path + 'movies_metadata.csv.zip', \n",
        "                              low_memory=False)[['original_title', 'overview', 'vote_count']]\n",
        "                    .set_index('original_title')\n",
        "                    .dropna())\n",
        "\n",
        "# Remove the long tail of rarly rated moves\n",
        "movie_metadata = movie_metadata[movie_metadata['vote_count']>10].drop('vote_count', axis=1)\n",
        "\n",
        "print('Shape Movie-Metadata:\\t{}'.format(movie_metadata.shape))\n"
      ]
    },
    {
      "cell_type": "code",
      "source": [
        "movie_metadata.sample(5)"
      ],
      "metadata": {
        "colab": {
          "base_uri": "https://localhost:8080/",
          "height": 238
        },
        "id": "wIaLwMM4pqTm",
        "outputId": "f5e0f0fd-1747-443d-9578-e560d7f5a30c"
      },
      "execution_count": null,
      "outputs": [
        {
          "output_type": "execute_result",
          "data": {
            "text/plain": [
              "                                                                  overview\n",
              "original_title                                                            \n",
              "Manuale d'amore 3        Roberto is a young and ambitious lawyer who is...\n",
              "Day & Night              When Day, a sunny fellow, encounters Night, a ...\n",
              "The Beverly Hillbillies  Jed Clampett and kin move from Arkansas to Bev...\n",
              "Berlin Syndrome          A passionate holiday romance leads to an obses...\n",
              "The Plague               All the worldwide children of less than nine y..."
            ],
            "text/html": [
              "\n",
              "  <div id=\"df-ff8d325c-fc89-40c5-a83a-9a8ca89c2878\">\n",
              "    <div class=\"colab-df-container\">\n",
              "      <div>\n",
              "<style scoped>\n",
              "    .dataframe tbody tr th:only-of-type {\n",
              "        vertical-align: middle;\n",
              "    }\n",
              "\n",
              "    .dataframe tbody tr th {\n",
              "        vertical-align: top;\n",
              "    }\n",
              "\n",
              "    .dataframe thead th {\n",
              "        text-align: right;\n",
              "    }\n",
              "</style>\n",
              "<table border=\"1\" class=\"dataframe\">\n",
              "  <thead>\n",
              "    <tr style=\"text-align: right;\">\n",
              "      <th></th>\n",
              "      <th>overview</th>\n",
              "    </tr>\n",
              "    <tr>\n",
              "      <th>original_title</th>\n",
              "      <th></th>\n",
              "    </tr>\n",
              "  </thead>\n",
              "  <tbody>\n",
              "    <tr>\n",
              "      <th>Manuale d'amore 3</th>\n",
              "      <td>Roberto is a young and ambitious lawyer who is...</td>\n",
              "    </tr>\n",
              "    <tr>\n",
              "      <th>Day &amp; Night</th>\n",
              "      <td>When Day, a sunny fellow, encounters Night, a ...</td>\n",
              "    </tr>\n",
              "    <tr>\n",
              "      <th>The Beverly Hillbillies</th>\n",
              "      <td>Jed Clampett and kin move from Arkansas to Bev...</td>\n",
              "    </tr>\n",
              "    <tr>\n",
              "      <th>Berlin Syndrome</th>\n",
              "      <td>A passionate holiday romance leads to an obses...</td>\n",
              "    </tr>\n",
              "    <tr>\n",
              "      <th>The Plague</th>\n",
              "      <td>All the worldwide children of less than nine y...</td>\n",
              "    </tr>\n",
              "  </tbody>\n",
              "</table>\n",
              "</div>\n",
              "      <button class=\"colab-df-convert\" onclick=\"convertToInteractive('df-ff8d325c-fc89-40c5-a83a-9a8ca89c2878')\"\n",
              "              title=\"Convert this dataframe to an interactive table.\"\n",
              "              style=\"display:none;\">\n",
              "        \n",
              "  <svg xmlns=\"http://www.w3.org/2000/svg\" height=\"24px\"viewBox=\"0 0 24 24\"\n",
              "       width=\"24px\">\n",
              "    <path d=\"M0 0h24v24H0V0z\" fill=\"none\"/>\n",
              "    <path d=\"M18.56 5.44l.94 2.06.94-2.06 2.06-.94-2.06-.94-.94-2.06-.94 2.06-2.06.94zm-11 1L8.5 8.5l.94-2.06 2.06-.94-2.06-.94L8.5 2.5l-.94 2.06-2.06.94zm10 10l.94 2.06.94-2.06 2.06-.94-2.06-.94-.94-2.06-.94 2.06-2.06.94z\"/><path d=\"M17.41 7.96l-1.37-1.37c-.4-.4-.92-.59-1.43-.59-.52 0-1.04.2-1.43.59L10.3 9.45l-7.72 7.72c-.78.78-.78 2.05 0 2.83L4 21.41c.39.39.9.59 1.41.59.51 0 1.02-.2 1.41-.59l7.78-7.78 2.81-2.81c.8-.78.8-2.07 0-2.86zM5.41 20L4 18.59l7.72-7.72 1.47 1.35L5.41 20z\"/>\n",
              "  </svg>\n",
              "      </button>\n",
              "      \n",
              "  <style>\n",
              "    .colab-df-container {\n",
              "      display:flex;\n",
              "      flex-wrap:wrap;\n",
              "      gap: 12px;\n",
              "    }\n",
              "\n",
              "    .colab-df-convert {\n",
              "      background-color: #E8F0FE;\n",
              "      border: none;\n",
              "      border-radius: 50%;\n",
              "      cursor: pointer;\n",
              "      display: none;\n",
              "      fill: #1967D2;\n",
              "      height: 32px;\n",
              "      padding: 0 0 0 0;\n",
              "      width: 32px;\n",
              "    }\n",
              "\n",
              "    .colab-df-convert:hover {\n",
              "      background-color: #E2EBFA;\n",
              "      box-shadow: 0px 1px 2px rgba(60, 64, 67, 0.3), 0px 1px 3px 1px rgba(60, 64, 67, 0.15);\n",
              "      fill: #174EA6;\n",
              "    }\n",
              "\n",
              "    [theme=dark] .colab-df-convert {\n",
              "      background-color: #3B4455;\n",
              "      fill: #D2E3FC;\n",
              "    }\n",
              "\n",
              "    [theme=dark] .colab-df-convert:hover {\n",
              "      background-color: #434B5C;\n",
              "      box-shadow: 0px 1px 3px 1px rgba(0, 0, 0, 0.15);\n",
              "      filter: drop-shadow(0px 1px 2px rgba(0, 0, 0, 0.3));\n",
              "      fill: #FFFFFF;\n",
              "    }\n",
              "  </style>\n",
              "\n",
              "      <script>\n",
              "        const buttonEl =\n",
              "          document.querySelector('#df-ff8d325c-fc89-40c5-a83a-9a8ca89c2878 button.colab-df-convert');\n",
              "        buttonEl.style.display =\n",
              "          google.colab.kernel.accessAllowed ? 'block' : 'none';\n",
              "\n",
              "        async function convertToInteractive(key) {\n",
              "          const element = document.querySelector('#df-ff8d325c-fc89-40c5-a83a-9a8ca89c2878');\n",
              "          const dataTable =\n",
              "            await google.colab.kernel.invokeFunction('convertToInteractive',\n",
              "                                                     [key], {});\n",
              "          if (!dataTable) return;\n",
              "\n",
              "          const docLinkHtml = 'Like what you see? Visit the ' +\n",
              "            '<a target=\"_blank\" href=https://colab.research.google.com/notebooks/data_table.ipynb>data table notebook</a>'\n",
              "            + ' to learn more about interactive tables.';\n",
              "          element.innerHTML = '';\n",
              "          dataTable['output_type'] = 'display_data';\n",
              "          await google.colab.output.renderOutput(dataTable, element);\n",
              "          const docLink = document.createElement('div');\n",
              "          docLink.innerHTML = docLinkHtml;\n",
              "          element.appendChild(docLink);\n",
              "        }\n",
              "      </script>\n",
              "    </div>\n",
              "  </div>\n",
              "  "
            ]
          },
          "metadata": {},
          "execution_count": 10
        }
      ]
    },
    {
      "cell_type": "code",
      "source": [
        "movie_metadata.head()"
      ],
      "metadata": {
        "colab": {
          "base_uri": "https://localhost:8080/",
          "height": 238
        },
        "id": "uuzvmM5spq7t",
        "outputId": "ea0d3178-29bf-4e4c-9c9a-5c71ba118ace"
      },
      "execution_count": null,
      "outputs": [
        {
          "output_type": "execute_result",
          "data": {
            "text/plain": [
              "                                                                      overview\n",
              "original_title                                                                \n",
              "Toy Story                    Led by Woody, Andy's toys live happily in his ...\n",
              "Jumanji                      When siblings Judy and Peter discover an encha...\n",
              "Grumpier Old Men             A family wedding reignites the ancient feud be...\n",
              "Waiting to Exhale            Cheated on, mistreated and stepped on, the wom...\n",
              "Father of the Bride Part II  Just when George Banks has recovered from his ..."
            ],
            "text/html": [
              "\n",
              "  <div id=\"df-d7a6c2b2-4524-412b-b638-e17c02209f6c\">\n",
              "    <div class=\"colab-df-container\">\n",
              "      <div>\n",
              "<style scoped>\n",
              "    .dataframe tbody tr th:only-of-type {\n",
              "        vertical-align: middle;\n",
              "    }\n",
              "\n",
              "    .dataframe tbody tr th {\n",
              "        vertical-align: top;\n",
              "    }\n",
              "\n",
              "    .dataframe thead th {\n",
              "        text-align: right;\n",
              "    }\n",
              "</style>\n",
              "<table border=\"1\" class=\"dataframe\">\n",
              "  <thead>\n",
              "    <tr style=\"text-align: right;\">\n",
              "      <th></th>\n",
              "      <th>overview</th>\n",
              "    </tr>\n",
              "    <tr>\n",
              "      <th>original_title</th>\n",
              "      <th></th>\n",
              "    </tr>\n",
              "  </thead>\n",
              "  <tbody>\n",
              "    <tr>\n",
              "      <th>Toy Story</th>\n",
              "      <td>Led by Woody, Andy's toys live happily in his ...</td>\n",
              "    </tr>\n",
              "    <tr>\n",
              "      <th>Jumanji</th>\n",
              "      <td>When siblings Judy and Peter discover an encha...</td>\n",
              "    </tr>\n",
              "    <tr>\n",
              "      <th>Grumpier Old Men</th>\n",
              "      <td>A family wedding reignites the ancient feud be...</td>\n",
              "    </tr>\n",
              "    <tr>\n",
              "      <th>Waiting to Exhale</th>\n",
              "      <td>Cheated on, mistreated and stepped on, the wom...</td>\n",
              "    </tr>\n",
              "    <tr>\n",
              "      <th>Father of the Bride Part II</th>\n",
              "      <td>Just when George Banks has recovered from his ...</td>\n",
              "    </tr>\n",
              "  </tbody>\n",
              "</table>\n",
              "</div>\n",
              "      <button class=\"colab-df-convert\" onclick=\"convertToInteractive('df-d7a6c2b2-4524-412b-b638-e17c02209f6c')\"\n",
              "              title=\"Convert this dataframe to an interactive table.\"\n",
              "              style=\"display:none;\">\n",
              "        \n",
              "  <svg xmlns=\"http://www.w3.org/2000/svg\" height=\"24px\"viewBox=\"0 0 24 24\"\n",
              "       width=\"24px\">\n",
              "    <path d=\"M0 0h24v24H0V0z\" fill=\"none\"/>\n",
              "    <path d=\"M18.56 5.44l.94 2.06.94-2.06 2.06-.94-2.06-.94-.94-2.06-.94 2.06-2.06.94zm-11 1L8.5 8.5l.94-2.06 2.06-.94-2.06-.94L8.5 2.5l-.94 2.06-2.06.94zm10 10l.94 2.06.94-2.06 2.06-.94-2.06-.94-.94-2.06-.94 2.06-2.06.94z\"/><path d=\"M17.41 7.96l-1.37-1.37c-.4-.4-.92-.59-1.43-.59-.52 0-1.04.2-1.43.59L10.3 9.45l-7.72 7.72c-.78.78-.78 2.05 0 2.83L4 21.41c.39.39.9.59 1.41.59.51 0 1.02-.2 1.41-.59l7.78-7.78 2.81-2.81c.8-.78.8-2.07 0-2.86zM5.41 20L4 18.59l7.72-7.72 1.47 1.35L5.41 20z\"/>\n",
              "  </svg>\n",
              "      </button>\n",
              "      \n",
              "  <style>\n",
              "    .colab-df-container {\n",
              "      display:flex;\n",
              "      flex-wrap:wrap;\n",
              "      gap: 12px;\n",
              "    }\n",
              "\n",
              "    .colab-df-convert {\n",
              "      background-color: #E8F0FE;\n",
              "      border: none;\n",
              "      border-radius: 50%;\n",
              "      cursor: pointer;\n",
              "      display: none;\n",
              "      fill: #1967D2;\n",
              "      height: 32px;\n",
              "      padding: 0 0 0 0;\n",
              "      width: 32px;\n",
              "    }\n",
              "\n",
              "    .colab-df-convert:hover {\n",
              "      background-color: #E2EBFA;\n",
              "      box-shadow: 0px 1px 2px rgba(60, 64, 67, 0.3), 0px 1px 3px 1px rgba(60, 64, 67, 0.15);\n",
              "      fill: #174EA6;\n",
              "    }\n",
              "\n",
              "    [theme=dark] .colab-df-convert {\n",
              "      background-color: #3B4455;\n",
              "      fill: #D2E3FC;\n",
              "    }\n",
              "\n",
              "    [theme=dark] .colab-df-convert:hover {\n",
              "      background-color: #434B5C;\n",
              "      box-shadow: 0px 1px 3px 1px rgba(0, 0, 0, 0.15);\n",
              "      filter: drop-shadow(0px 1px 2px rgba(0, 0, 0, 0.3));\n",
              "      fill: #FFFFFF;\n",
              "    }\n",
              "  </style>\n",
              "\n",
              "      <script>\n",
              "        const buttonEl =\n",
              "          document.querySelector('#df-d7a6c2b2-4524-412b-b638-e17c02209f6c button.colab-df-convert');\n",
              "        buttonEl.style.display =\n",
              "          google.colab.kernel.accessAllowed ? 'block' : 'none';\n",
              "\n",
              "        async function convertToInteractive(key) {\n",
              "          const element = document.querySelector('#df-d7a6c2b2-4524-412b-b638-e17c02209f6c');\n",
              "          const dataTable =\n",
              "            await google.colab.kernel.invokeFunction('convertToInteractive',\n",
              "                                                     [key], {});\n",
              "          if (!dataTable) return;\n",
              "\n",
              "          const docLinkHtml = 'Like what you see? Visit the ' +\n",
              "            '<a target=\"_blank\" href=https://colab.research.google.com/notebooks/data_table.ipynb>data table notebook</a>'\n",
              "            + ' to learn more about interactive tables.';\n",
              "          element.innerHTML = '';\n",
              "          dataTable['output_type'] = 'display_data';\n",
              "          await google.colab.output.renderOutput(dataTable, element);\n",
              "          const docLink = document.createElement('div');\n",
              "          docLink.innerHTML = docLinkHtml;\n",
              "          element.appendChild(docLink);\n",
              "        }\n",
              "      </script>\n",
              "    </div>\n",
              "  </div>\n",
              "  "
            ]
          },
          "metadata": {},
          "execution_count": 11
        }
      ]
    },
    {
      "cell_type": "code",
      "source": [
        "movie_metadata.info()"
      ],
      "metadata": {
        "colab": {
          "base_uri": "https://localhost:8080/"
        },
        "id": "1B3MXQazps1U",
        "outputId": "f0d2236c-e6aa-436d-8c03-e7704ec27470"
      },
      "execution_count": null,
      "outputs": [
        {
          "output_type": "stream",
          "name": "stdout",
          "text": [
            "<class 'pandas.core.frame.DataFrame'>\n",
            "Index: 21604 entries, Toy Story to Robin Hood\n",
            "Data columns (total 1 columns):\n",
            " #   Column    Non-Null Count  Dtype \n",
            "---  ------    --------------  ----- \n",
            " 0   overview  21604 non-null  object\n",
            "dtypes: object(1)\n",
            "memory usage: 337.6+ KB\n"
          ]
        }
      ]
    },
    {
      "cell_type": "markdown",
      "metadata": {
        "id": "dElmRUSWyYoh"
      },
      "source": [
        "Around 21,000 entries in the movies metadata dataset"
      ]
    },
    {
      "cell_type": "markdown",
      "metadata": {
        "id": "XJ3cHW1eyhwR"
      },
      "source": [
        "## 3.2: Load User-Movie-Rating Dataset"
      ]
    },
    {
      "cell_type": "code",
      "execution_count": null,
      "metadata": {
        "colab": {
          "base_uri": "https://localhost:8080/"
        },
        "id": "AsZJ6JvNx3-m",
        "outputId": "74134d54-0f08-432a-84da-811e8d230498"
      },
      "outputs": [
        {
          "output_type": "stream",
          "name": "stdout",
          "text": [
            "Looking in indexes: https://pypi.org/simple, https://us-python.pkg.dev/colab-wheels/public/simple/\n",
            "Requirement already satisfied: gdown in /usr/local/lib/python3.8/dist-packages (4.4.0)\n",
            "Requirement already satisfied: filelock in /usr/local/lib/python3.8/dist-packages (from gdown) (3.9.0)\n",
            "Requirement already satisfied: beautifulsoup4 in /usr/local/lib/python3.8/dist-packages (from gdown) (4.6.3)\n",
            "Requirement already satisfied: requests[socks] in /usr/local/lib/python3.8/dist-packages (from gdown) (2.25.1)\n",
            "Requirement already satisfied: six in /usr/local/lib/python3.8/dist-packages (from gdown) (1.15.0)\n",
            "Requirement already satisfied: tqdm in /usr/local/lib/python3.8/dist-packages (from gdown) (4.64.1)\n",
            "Requirement already satisfied: idna<3,>=2.5 in /usr/local/lib/python3.8/dist-packages (from requests[socks]->gdown) (2.10)\n",
            "Requirement already satisfied: urllib3<1.27,>=1.21.1 in /usr/local/lib/python3.8/dist-packages (from requests[socks]->gdown) (1.24.3)\n",
            "Requirement already satisfied: chardet<5,>=3.0.2 in /usr/local/lib/python3.8/dist-packages (from requests[socks]->gdown) (4.0.0)\n",
            "Requirement already satisfied: certifi>=2017.4.17 in /usr/local/lib/python3.8/dist-packages (from requests[socks]->gdown) (2022.12.7)\n",
            "Requirement already satisfied: PySocks!=1.5.7,>=1.5.6 in /usr/local/lib/python3.8/dist-packages (from requests[socks]->gdown) (1.7.1)\n",
            "Access denied with the following error:\n",
            "\n",
            " \tCannot retrieve the public link of the file. You may need to change\n",
            "\tthe permission to 'Anyone with the link', or have had many accesses. \n",
            "\n",
            "You may still be able to access the file from the browser:\n",
            "\n",
            "\t https://drive.google.com/uc?export=download&id=1z0O0fXuofdsbpL8fkCVgjeIwFP_LxGX2 \n",
            "\n"
          ]
        }
      ],
      "source": [
        "# Dowload large file from the shared GDrive folder\n",
        "!pip install gdown\n",
        "!gdown \"https://drive.google.com/uc?export=download&id=1z0O0fXuofdsbpL8fkCVgjeIwFP_LxGX2\" -O data/\n"
      ]
    },
    {
      "cell_type": "code",
      "source": [
        "# Load single data-file\n",
        "df_raw = pd.read_csv(path + 'combined_data.csv.zip', \n",
        "                     header=None, \n",
        "                     names=['User', 'Rating', 'Date'], \n",
        "                     usecols=[0, 1, 2])\n"
      ],
      "metadata": {
        "id": "ymv4eMYirV1X"
      },
      "execution_count": null,
      "outputs": []
    },
    {
      "cell_type": "code",
      "source": [
        "print(df_raw.head())\n",
        "print(df_raw.info(verbose=True, show_counts=True))"
      ],
      "metadata": {
        "colab": {
          "base_uri": "https://localhost:8080/"
        },
        "id": "r5Ek8Nq9rb4j",
        "outputId": "730f2828-f378-4579-eec0-1d2fa9a36ce0"
      },
      "execution_count": null,
      "outputs": [
        {
          "output_type": "stream",
          "name": "stdout",
          "text": [
            "      User  Rating        Date\n",
            "0       1:     NaN         NaN\n",
            "1  1488844     3.0  2005-09-06\n",
            "2   822109     5.0  2005-05-13\n",
            "3   885013     4.0  2005-10-19\n",
            "4    30878     4.0  2005-12-26\n",
            "<class 'pandas.core.frame.DataFrame'>\n",
            "RangeIndex: 24058263 entries, 0 to 24058262\n",
            "Data columns (total 3 columns):\n",
            " #   Column  Non-Null Count     Dtype  \n",
            "---  ------  --------------     -----  \n",
            " 0   User    24058263 non-null  object \n",
            " 1   Rating  24053764 non-null  float64\n",
            " 2   Date    24053764 non-null  object \n",
            "dtypes: float64(1), object(2)\n",
            "memory usage: 550.7+ MB\n",
            "None\n"
          ]
        }
      ]
    },
    {
      "cell_type": "code",
      "execution_count": null,
      "metadata": {
        "colab": {
          "base_uri": "https://localhost:8080/",
          "height": 380
        },
        "id": "4s_qbrIhqW31",
        "outputId": "404d41b3-b5ac-458c-aa0d-94daff65f4ce"
      },
      "outputs": [
        {
          "output_type": "stream",
          "name": "stdout",
          "text": [
            "Shape User-Ratings:\t(24053764, 4)\n"
          ]
        },
        {
          "output_type": "execute_result",
          "data": {
            "text/plain": [
              "             User  Rating        Date  Movie\n",
              "11560334  2387919     2.0  2004-04-22   2199\n",
              "10153549   968637     3.0  2005-10-24   1971\n",
              "18990840  2021960     5.0  2005-02-21   3624\n",
              "5241485    648128     5.0  2005-06-16   1066\n",
              "5416351   1757203     3.0  2005-10-02   1102\n",
              "14758746  1019547     4.0  2005-09-28   2862\n",
              "12499487   212479     5.0  2005-02-21   2391\n",
              "14609233   707412     5.0  2004-04-30   2803\n",
              "12832133   168002     4.0  2004-08-03   2452\n",
              "1554808     15487     3.0  2004-05-10    312"
            ],
            "text/html": [
              "\n",
              "  <div id=\"df-cba9735f-d8a2-402a-aae2-ef133be7490d\">\n",
              "    <div class=\"colab-df-container\">\n",
              "      <div>\n",
              "<style scoped>\n",
              "    .dataframe tbody tr th:only-of-type {\n",
              "        vertical-align: middle;\n",
              "    }\n",
              "\n",
              "    .dataframe tbody tr th {\n",
              "        vertical-align: top;\n",
              "    }\n",
              "\n",
              "    .dataframe thead th {\n",
              "        text-align: right;\n",
              "    }\n",
              "</style>\n",
              "<table border=\"1\" class=\"dataframe\">\n",
              "  <thead>\n",
              "    <tr style=\"text-align: right;\">\n",
              "      <th></th>\n",
              "      <th>User</th>\n",
              "      <th>Rating</th>\n",
              "      <th>Date</th>\n",
              "      <th>Movie</th>\n",
              "    </tr>\n",
              "  </thead>\n",
              "  <tbody>\n",
              "    <tr>\n",
              "      <th>11560334</th>\n",
              "      <td>2387919</td>\n",
              "      <td>2.0</td>\n",
              "      <td>2004-04-22</td>\n",
              "      <td>2199</td>\n",
              "    </tr>\n",
              "    <tr>\n",
              "      <th>10153549</th>\n",
              "      <td>968637</td>\n",
              "      <td>3.0</td>\n",
              "      <td>2005-10-24</td>\n",
              "      <td>1971</td>\n",
              "    </tr>\n",
              "    <tr>\n",
              "      <th>18990840</th>\n",
              "      <td>2021960</td>\n",
              "      <td>5.0</td>\n",
              "      <td>2005-02-21</td>\n",
              "      <td>3624</td>\n",
              "    </tr>\n",
              "    <tr>\n",
              "      <th>5241485</th>\n",
              "      <td>648128</td>\n",
              "      <td>5.0</td>\n",
              "      <td>2005-06-16</td>\n",
              "      <td>1066</td>\n",
              "    </tr>\n",
              "    <tr>\n",
              "      <th>5416351</th>\n",
              "      <td>1757203</td>\n",
              "      <td>3.0</td>\n",
              "      <td>2005-10-02</td>\n",
              "      <td>1102</td>\n",
              "    </tr>\n",
              "    <tr>\n",
              "      <th>14758746</th>\n",
              "      <td>1019547</td>\n",
              "      <td>4.0</td>\n",
              "      <td>2005-09-28</td>\n",
              "      <td>2862</td>\n",
              "    </tr>\n",
              "    <tr>\n",
              "      <th>12499487</th>\n",
              "      <td>212479</td>\n",
              "      <td>5.0</td>\n",
              "      <td>2005-02-21</td>\n",
              "      <td>2391</td>\n",
              "    </tr>\n",
              "    <tr>\n",
              "      <th>14609233</th>\n",
              "      <td>707412</td>\n",
              "      <td>5.0</td>\n",
              "      <td>2004-04-30</td>\n",
              "      <td>2803</td>\n",
              "    </tr>\n",
              "    <tr>\n",
              "      <th>12832133</th>\n",
              "      <td>168002</td>\n",
              "      <td>4.0</td>\n",
              "      <td>2004-08-03</td>\n",
              "      <td>2452</td>\n",
              "    </tr>\n",
              "    <tr>\n",
              "      <th>1554808</th>\n",
              "      <td>15487</td>\n",
              "      <td>3.0</td>\n",
              "      <td>2004-05-10</td>\n",
              "      <td>312</td>\n",
              "    </tr>\n",
              "  </tbody>\n",
              "</table>\n",
              "</div>\n",
              "      <button class=\"colab-df-convert\" onclick=\"convertToInteractive('df-cba9735f-d8a2-402a-aae2-ef133be7490d')\"\n",
              "              title=\"Convert this dataframe to an interactive table.\"\n",
              "              style=\"display:none;\">\n",
              "        \n",
              "  <svg xmlns=\"http://www.w3.org/2000/svg\" height=\"24px\"viewBox=\"0 0 24 24\"\n",
              "       width=\"24px\">\n",
              "    <path d=\"M0 0h24v24H0V0z\" fill=\"none\"/>\n",
              "    <path d=\"M18.56 5.44l.94 2.06.94-2.06 2.06-.94-2.06-.94-.94-2.06-.94 2.06-2.06.94zm-11 1L8.5 8.5l.94-2.06 2.06-.94-2.06-.94L8.5 2.5l-.94 2.06-2.06.94zm10 10l.94 2.06.94-2.06 2.06-.94-2.06-.94-.94-2.06-.94 2.06-2.06.94z\"/><path d=\"M17.41 7.96l-1.37-1.37c-.4-.4-.92-.59-1.43-.59-.52 0-1.04.2-1.43.59L10.3 9.45l-7.72 7.72c-.78.78-.78 2.05 0 2.83L4 21.41c.39.39.9.59 1.41.59.51 0 1.02-.2 1.41-.59l7.78-7.78 2.81-2.81c.8-.78.8-2.07 0-2.86zM5.41 20L4 18.59l7.72-7.72 1.47 1.35L5.41 20z\"/>\n",
              "  </svg>\n",
              "      </button>\n",
              "      \n",
              "  <style>\n",
              "    .colab-df-container {\n",
              "      display:flex;\n",
              "      flex-wrap:wrap;\n",
              "      gap: 12px;\n",
              "    }\n",
              "\n",
              "    .colab-df-convert {\n",
              "      background-color: #E8F0FE;\n",
              "      border: none;\n",
              "      border-radius: 50%;\n",
              "      cursor: pointer;\n",
              "      display: none;\n",
              "      fill: #1967D2;\n",
              "      height: 32px;\n",
              "      padding: 0 0 0 0;\n",
              "      width: 32px;\n",
              "    }\n",
              "\n",
              "    .colab-df-convert:hover {\n",
              "      background-color: #E2EBFA;\n",
              "      box-shadow: 0px 1px 2px rgba(60, 64, 67, 0.3), 0px 1px 3px 1px rgba(60, 64, 67, 0.15);\n",
              "      fill: #174EA6;\n",
              "    }\n",
              "\n",
              "    [theme=dark] .colab-df-convert {\n",
              "      background-color: #3B4455;\n",
              "      fill: #D2E3FC;\n",
              "    }\n",
              "\n",
              "    [theme=dark] .colab-df-convert:hover {\n",
              "      background-color: #434B5C;\n",
              "      box-shadow: 0px 1px 3px 1px rgba(0, 0, 0, 0.15);\n",
              "      filter: drop-shadow(0px 1px 2px rgba(0, 0, 0, 0.3));\n",
              "      fill: #FFFFFF;\n",
              "    }\n",
              "  </style>\n",
              "\n",
              "      <script>\n",
              "        const buttonEl =\n",
              "          document.querySelector('#df-cba9735f-d8a2-402a-aae2-ef133be7490d button.colab-df-convert');\n",
              "        buttonEl.style.display =\n",
              "          google.colab.kernel.accessAllowed ? 'block' : 'none';\n",
              "\n",
              "        async function convertToInteractive(key) {\n",
              "          const element = document.querySelector('#df-cba9735f-d8a2-402a-aae2-ef133be7490d');\n",
              "          const dataTable =\n",
              "            await google.colab.kernel.invokeFunction('convertToInteractive',\n",
              "                                                     [key], {});\n",
              "          if (!dataTable) return;\n",
              "\n",
              "          const docLinkHtml = 'Like what you see? Visit the ' +\n",
              "            '<a target=\"_blank\" href=https://colab.research.google.com/notebooks/data_table.ipynb>data table notebook</a>'\n",
              "            + ' to learn more about interactive tables.';\n",
              "          element.innerHTML = '';\n",
              "          dataTable['output_type'] = 'display_data';\n",
              "          await google.colab.output.renderOutput(dataTable, element);\n",
              "          const docLink = document.createElement('div');\n",
              "          docLink.innerHTML = docLinkHtml;\n",
              "          element.appendChild(docLink);\n",
              "        }\n",
              "      </script>\n",
              "    </div>\n",
              "  </div>\n",
              "  "
            ]
          },
          "metadata": {},
          "execution_count": 16
        }
      ],
      "source": [
        "\n",
        "# Find empty rows to slice dataframe for each movie\n",
        "tmp_movies = df_raw[df_raw['Rating'].isna()]['User'].reset_index()\n",
        "movie_indices = [[index, int(movie[:-1])] for index, movie in tmp_movies.values]\n",
        "\n",
        "# Shift the movie_indices by one to get start and endpoints of all movies\n",
        "shifted_movie_indices = deque(movie_indices)\n",
        "shifted_movie_indices.rotate(-1)\n",
        "\n",
        "# Gather all dataframes\n",
        "user_data = []\n",
        "\n",
        "# Iterate over all movies\n",
        "for [df_id_1, movie_id], [df_id_2, next_movie_id] in zip(movie_indices, shifted_movie_indices):\n",
        "    \n",
        "    # Check if it is the last movie in the file\n",
        "    if df_id_1<df_id_2:\n",
        "        tmp_df = df_raw.loc[df_id_1+1:df_id_2-1].copy()\n",
        "    else:\n",
        "        tmp_df = df_raw.loc[df_id_1+1:].copy()\n",
        "        \n",
        "    # Create movie_id column\n",
        "    tmp_df['Movie'] = movie_id\n",
        "    \n",
        "    # Append dataframe to list\n",
        "    user_data.append(tmp_df)\n",
        "\n",
        "# Combine all dataframes\n",
        "df = pd.concat(user_data)\n",
        "del user_data, df_raw, tmp_movies, tmp_df, shifted_movie_indices, movie_indices, df_id_1, movie_id, df_id_2, next_movie_id\n",
        "print('Shape User-Ratings:\\t{}'.format(df.shape))\n",
        "df.sample(10)"
      ]
    },
    {
      "cell_type": "code",
      "source": [
        "print(df.head())\n",
        "print(df.info(verbose=True, show_counts=True))"
      ],
      "metadata": {
        "colab": {
          "base_uri": "https://localhost:8080/"
        },
        "id": "PFlXS0S8r6hv",
        "outputId": "8cad41ed-d72a-42cc-abc8-84e842ace211"
      },
      "execution_count": null,
      "outputs": [
        {
          "output_type": "stream",
          "name": "stdout",
          "text": [
            "      User  Rating        Date  Movie\n",
            "1  1488844     3.0  2005-09-06      1\n",
            "2   822109     5.0  2005-05-13      1\n",
            "3   885013     4.0  2005-10-19      1\n",
            "4    30878     4.0  2005-12-26      1\n",
            "5   823519     3.0  2004-05-03      1\n",
            "<class 'pandas.core.frame.DataFrame'>\n",
            "Int64Index: 24053764 entries, 1 to 24058262\n",
            "Data columns (total 4 columns):\n",
            " #   Column  Non-Null Count     Dtype  \n",
            "---  ------  --------------     -----  \n",
            " 0   User    24053764 non-null  object \n",
            " 1   Rating  24053764 non-null  float64\n",
            " 2   Date    24053764 non-null  object \n",
            " 3   Movie   24053764 non-null  int64  \n",
            "dtypes: float64(1), int64(1), object(2)\n",
            "memory usage: 917.6+ MB\n",
            "None\n"
          ]
        }
      ]
    },
    {
      "cell_type": "markdown",
      "metadata": {
        "id": "sg90OAW_zUwL"
      },
      "source": [
        "There are about 24 Million+ different rating records!"
      ]
    },
    {
      "cell_type": "markdown",
      "metadata": {
        "id": "xKIrEduYz6gh"
      },
      "source": [
        "We have taken the data required for building the system and now let's do some EDA on the dataset to better understand our data"
      ]
    },
    {
      "cell_type": "markdown",
      "metadata": {
        "id": "4wQzTRdm0tYg"
      },
      "source": [
        "# ** 4. Exploratory Data Analysis"
      ]
    },
    {
      "cell_type": "markdown",
      "metadata": {
        "id": "KVaYGLc94aGm"
      },
      "source": [
        "## 4.1: When were the movies released?\n"
      ]
    },
    {
      "cell_type": "code",
      "execution_count": null,
      "metadata": {
        "colab": {
          "base_uri": "https://localhost:8080/",
          "height": 374
        },
        "id": "-iwB_2Cm24FL",
        "outputId": "5f3a16ae-4933-4242-d2c1-403c26496b8e"
      },
      "outputs": [
        {
          "output_type": "display_data",
          "data": {
            "text/plain": [
              "<Figure size 1008x432 with 1 Axes>"
            ],
            "image/png": "[encoded data removed]"
          },
          "metadata": {
            "needs_background": "light"
          }
        }
      ],
      "source": [
        "fig, ax = plt.subplots(1, 1, figsize=(14, 6))\n",
        "\n",
        "data = movie_titles['Year'].value_counts().sort_index()\n",
        "x = data.index.map(int)\n",
        "y = data.values\n",
        "\n",
        "sns.barplot(x, y)\n",
        "xmin, xmax = plt.xlim()\n",
        "xtick_labels = [x[0]] + list(x[10:-10:10]) + [x[-1]]\n",
        "plt.xticks(ticks=np.linspace(xmin, xmax, 10), labels=xtick_labels);"
      ]
    },
    {
      "cell_type": "markdown",
      "metadata": {
        "id": "lJ2mWAym5rBL"
      },
      "source": [
        "Many movies on Netflix have been released in this millennial. Whether Netflix prefers young movies or there are no old movies left can not be deduced from this plot.\n",
        "The decline for the rightmost point is probably caused by an incomplete last year."
      ]
    },
    {
      "cell_type": "markdown",
      "metadata": {
        "id": "QACzcP3w4z6j"
      },
      "source": [
        "## Q 4.2: How are The Ratings Distributed?\n",
        "\n",
        "__Your Turn:__ Build the visualization for rating distributions similar to the previous plot.\n"
      ]
    },
    {
      "cell_type": "code",
      "execution_count": null,
      "metadata": {
        "colab": {
          "base_uri": "https://localhost:8080/",
          "height": 421
        },
        "id": "16Mvv0w124FP",
        "outputId": "82a173a0-38fb-4da6-bf49-1ce81e139422"
      },
      "outputs": [
        {
          "output_type": "execute_result",
          "data": {
            "text/plain": [
              "Text(0.5, 1.0, 'Movies ratings distribution')"
            ]
          },
          "metadata": {},
          "execution_count": 19
        },
        {
          "output_type": "display_data",
          "data": {
            "text/plain": [
              "<Figure size 1008x432 with 1 Axes>"
            ],
            "image/png": "[encoded data removed]"
          },
          "metadata": {
            "needs_background": "light"
          }
        }
      ],
      "source": [
        "fig, ax = plt.subplots(1, 1, figsize=(14, 6))\n",
        "\n",
        "data = df['Rating'].value_counts().sort_index()\n",
        "x = data.index.map(int)\n",
        "y = data.values\n",
        "\n",
        "sns.barplot(x, y)\n",
        "plt.xticks(ticks=x.values-1, labels=x.values)\n",
        "plt.xlabel('Rating')\n",
        "plt.ylabel('Counts')\n",
        "plt.title('Movies ratings distribution')"
      ]
    },
    {
      "cell_type": "markdown",
      "metadata": {
        "id": "Pn5uhmcu5xCE"
      },
      "source": [
        "Netflix movies rarely have a rating lower than three. Most ratings have between three and four stars.\n",
        "The distribution is probably biased, since only people liking the movies proceed to be customers and others presumably will leave the platform."
      ]
    },
    {
      "cell_type": "markdown",
      "metadata": {
        "id": "PQwkKk935eRl"
      },
      "source": [
        "## 4.3: Visualize the Distribution of Number of Movie Ratings \n",
        "\n",
        "This is to understand how many movies (y-axis) are receiving specific number of movie ratings (x-axis)"
      ]
    },
    {
      "cell_type": "code",
      "execution_count": null,
      "metadata": {
        "colab": {
          "base_uri": "https://localhost:8080/",
          "height": 388
        },
        "id": "yatEt4eE24FS",
        "outputId": "8c0c5f4d-ede2-44f8-e4db-eb8b3c331b37"
      },
      "outputs": [
        {
          "output_type": "display_data",
          "data": {
            "text/plain": [
              "<Figure size 1008x432 with 2 Axes>"
            ],
            "image/png": "[encoded data removed]"
          },
          "metadata": {
            "needs_background": "light"
          }
        }
      ],
      "source": [
        "fig, ax = plt.subplots(1, 2, figsize=(14, 6))\n",
        "\n",
        "data = df.groupby('Movie')['Rating'].count()\n",
        "sns.distplot(data[data  < 10000], kde=False, ax=ax[0]);\n",
        "sns.distplot(data[data  > 10000], kde=False, ax=ax[1]);\n",
        "# sns.distplot(data, kde=False, ax=ax[0])"
      ]
    },
    {
      "cell_type": "markdown",
      "source": [
        "**Observation**: we see the 'long tail' phenomena from the two plots above. Namely, few blockbusters or classical movies get lots of ratings, while most unpopular movies get very few ratings. "
      ],
      "metadata": {
        "id": "J6eLyV0lwNGZ"
      }
    },
    {
      "cell_type": "markdown",
      "metadata": {
        "id": "lS5we5r4-nyV"
      },
      "source": [
        "## Q 4.4: Visualize the Distribution of Number of User Ratings \n",
        "\n",
        "This is to understand how many users (y-axis) are giving specific number of movie ratings (x-axis)\n",
        "\n",
        "__Your Turn:__ Try to find out an optimal threshold as in the previous example to split the data to form two understandable subplots!"
      ]
    },
    {
      "cell_type": "code",
      "execution_count": null,
      "metadata": {
        "colab": {
          "base_uri": "https://localhost:8080/",
          "height": 388
        },
        "id": "hf-Q6jP-24FV",
        "outputId": "8c044e04-1c95-42c8-fd2d-73e8df9723f3"
      },
      "outputs": [
        {
          "output_type": "display_data",
          "data": {
            "text/plain": [
              "<Figure size 1008x432 with 2 Axes>"
            ],
            "image/png": "[encoded data removed]"
          },
          "metadata": {
            "needs_background": "light"
          }
        }
      ],
      "source": [
        "fig, ax = plt.subplots(1, 2, figsize=(14, 6))\n",
        "\n",
        "threshold = 400\n",
        "\n",
        "data = df.groupby('User')['Rating'].count()\n",
        "sns.distplot(data[data  < threshold], kde=False, ax=ax[0]);\n",
        "sns.distplot(data[data  > threshold], kde=False, ax=ax[1]);\n",
        "\n",
        "# sns.distplot(data, kde=False, ax=ax[0]);"
      ]
    },
    {
      "cell_type": "markdown",
      "metadata": {
        "id": "EMOY1tG75i24"
      },
      "source": [
        "The ratings per movie as well as the ratings per user both have nearly a perfect exponential decay. Only very few movies/users have many ratings."
      ]
    },
    {
      "cell_type": "markdown",
      "metadata": {
        "id": "p5S7Q14L_CL1"
      },
      "source": [
        "# 5. Dimensionality Reduction & Filtering"
      ]
    },
    {
      "cell_type": "markdown",
      "metadata": {
        "id": "h5YZwbcH7LzU"
      },
      "source": [
        "## ** Filter Sparse Movies And Users\n",
        "\n",
        "To reduce the dimensionality of the dataset I am filtering rarely rated movies and rarely rating users out.\n"
      ]
    },
    {
      "cell_type": "code",
      "source": [
        "# Filter sparse movies\n",
        "min_movie_ratings = 1000\n",
        "filter_movies = (df['Movie'].value_counts()>min_movie_ratings)\n",
        "filter_movies = filter_movies[filter_movies].index.tolist()"
      ],
      "metadata": {
        "id": "r2lzZq95z5Y_"
      },
      "execution_count": null,
      "outputs": []
    },
    {
      "cell_type": "code",
      "source": [
        "print(type(filter_movies))\n",
        "print(len(filter_movies))\n",
        "print(filter_movies[:10])"
      ],
      "metadata": {
        "colab": {
          "base_uri": "https://localhost:8080/"
        },
        "id": "Nqfnc3-qz7Ym",
        "outputId": "0bf54915-7757-4fa5-d0f6-2998c363fda7"
      },
      "execution_count": null,
      "outputs": [
        {
          "output_type": "stream",
          "name": "stdout",
          "text": [
            "<class 'list'>\n",
            "1741\n",
            "[1905, 2152, 3860, 4432, 571, 3938, 4306, 2452, 1962, 3962]\n"
          ]
        }
      ]
    },
    {
      "cell_type": "code",
      "source": [
        "# Filter sparse users\n",
        "min_user_ratings = 200\n",
        "filter_users = (df['User'].value_counts()>min_user_ratings)\n",
        "filter_users = filter_users[filter_users].index.tolist()"
      ],
      "metadata": {
        "id": "S1HB6Q5T0T4_"
      },
      "execution_count": null,
      "outputs": []
    },
    {
      "cell_type": "code",
      "source": [
        "print(type(filter_users))\n",
        "print(len(filter_users))\n",
        "print(filter_users[:10])"
      ],
      "metadata": {
        "colab": {
          "base_uri": "https://localhost:8080/"
        },
        "id": "S8LEo3Yd0WOg",
        "outputId": "0df29cd2-d56e-4fab-bbd8-80f5abb6527e"
      },
      "execution_count": null,
      "outputs": [
        {
          "output_type": "stream",
          "name": "stdout",
          "text": [
            "<class 'list'>\n",
            "20828\n",
            "['305344', '387418', '2439493', '1664010', '2118461', '1639792', '1314869', '1461435', '1932594', '2606799']\n"
          ]
        }
      ]
    },
    {
      "cell_type": "code",
      "execution_count": null,
      "metadata": {
        "colab": {
          "base_uri": "https://localhost:8080/"
        },
        "id": "4nwtEkvSFFK5",
        "outputId": "bc37d7fb-0d88-4d06-f84a-981f04acbd94"
      },
      "outputs": [
        {
          "output_type": "stream",
          "name": "stdout",
          "text": [
            "Shape User-Ratings unfiltered:\t(24053764, 4)\n",
            "Shape User-Ratings filtered:\t(5930581, 4)\n"
          ]
        }
      ],
      "source": [
        "# Actual filtering\n",
        "df_filtered = df[(df['Movie'].isin(filter_movies)) & (df['User'].isin(filter_users))]\n",
        "del filter_movies, filter_users, min_movie_ratings, min_user_ratings\n",
        "print('Shape User-Ratings unfiltered:\\t{}'.format(df.shape))\n",
        "print('Shape User-Ratings filtered:\\t{}'.format(df_filtered.shape))"
      ]
    },
    {
      "cell_type": "code",
      "source": [
        "df_filtered.info(verbose=True, show_counts=True)"
      ],
      "metadata": {
        "colab": {
          "base_uri": "https://localhost:8080/"
        },
        "id": "2zqfmzBTZsum",
        "outputId": "8ea49c3c-a791-445c-deae-8eef9a28e243"
      },
      "execution_count": null,
      "outputs": [
        {
          "output_type": "stream",
          "name": "stdout",
          "text": [
            "<class 'pandas.core.frame.DataFrame'>\n",
            "Int64Index: 5930581 entries, 696 to 24056842\n",
            "Data columns (total 4 columns):\n",
            " #   Column  Non-Null Count    Dtype  \n",
            "---  ------  --------------    -----  \n",
            " 0   User    5930581 non-null  object \n",
            " 1   Rating  5930581 non-null  float64\n",
            " 2   Date    5930581 non-null  object \n",
            " 3   Movie   5930581 non-null  int64  \n",
            "dtypes: float64(1), int64(1), object(2)\n",
            "memory usage: 226.2+ MB\n"
          ]
        }
      ]
    },
    {
      "cell_type": "markdown",
      "metadata": {
        "id": "9GQ4JmM67TYQ"
      },
      "source": [
        "After filtering sparse movies and users about 5.9M rating records are present."
      ]
    },
    {
      "cell_type": "markdown",
      "metadata": {
        "id": "EI1CoJP9_kbF"
      },
      "source": [
        "# 6. Create Train and Test Datasets\n",
        "\n",
        "Do note this will be used for the statistical method based models and collaborative filtering.\n",
        "\n",
        "For content based filtering it is more of a model which recommends movies rather than predicting ratings and for the hybrid model we will need to recreate the train and test datasets later since we need to create a subset of movies-users-ratings which have movie text descriptions."
      ]
    },
    {
      "cell_type": "markdown",
      "metadata": {
        "id": "G7LX0sob7a2Z"
      },
      "source": [
        "## Create Train and Test datasets"
      ]
    },
    {
      "cell_type": "code",
      "execution_count": null,
      "metadata": {
        "colab": {
          "base_uri": "https://localhost:8080/"
        },
        "id": "cyCrLAoFFHm4",
        "outputId": "49e0acde-befd-4d0e-dff5-8c81a29ef863"
      },
      "outputs": [
        {
          "output_type": "execute_result",
          "data": {
            "text/plain": [
              "((5830581, 3), (100000, 3))"
            ]
          },
          "metadata": {},
          "execution_count": 28
        }
      ],
      "source": [
        "# Shuffle DataFrame\n",
        "df_filtered = df_filtered.drop('Date', axis=1).sample(frac=1).reset_index(drop=True)\n",
        "\n",
        "# Testingsize\n",
        "n = 100000\n",
        "\n",
        "# Split train- & testset\n",
        "df_train = df_filtered[:-n]\n",
        "df_test  = df_filtered[-n:]\n",
        "df_train.shape, df_test.shape"
      ]
    },
    {
      "cell_type": "code",
      "source": [
        "df_train"
      ],
      "metadata": {
        "colab": {
          "base_uri": "https://localhost:8080/",
          "height": 424
        },
        "id": "9qeuUf0Ui4vp",
        "outputId": "80e4c410-35ed-4b0b-b319-ff0a6063958d"
      },
      "execution_count": null,
      "outputs": [
        {
          "output_type": "execute_result",
          "data": {
            "text/plain": [
              "            User  Rating  Movie\n",
              "0        2036838     5.0   3962\n",
              "1        1279037     3.0   2112\n",
              "2        1445536     4.0   3315\n",
              "3        1450135     4.0   1051\n",
              "4        2076358     3.0   4106\n",
              "...          ...     ...    ...\n",
              "5830576   417641     4.0    299\n",
              "5830577  1367834     5.0   1482\n",
              "5830578   323450     3.0   1682\n",
              "5830579  1368151     5.0   2172\n",
              "5830580  2485818     2.0   3182\n",
              "\n",
              "[5830581 rows x 3 columns]"
            ],
            "text/html": [
              "\n",
              "  <div id=\"df-d6af602c-7eb0-4f44-892b-f97811ba7d3d\">\n",
              "    <div class=\"colab-df-container\">\n",
              "      <div>\n",
              "<style scoped>\n",
              "    .dataframe tbody tr th:only-of-type {\n",
              "        vertical-align: middle;\n",
              "    }\n",
              "\n",
              "    .dataframe tbody tr th {\n",
              "        vertical-align: top;\n",
              "    }\n",
              "\n",
              "    .dataframe thead th {\n",
              "        text-align: right;\n",
              "    }\n",
              "</style>\n",
              "<table border=\"1\" class=\"dataframe\">\n",
              "  <thead>\n",
              "    <tr style=\"text-align: right;\">\n",
              "      <th></th>\n",
              "      <th>User</th>\n",
              "      <th>Rating</th>\n",
              "      <th>Movie</th>\n",
              "    </tr>\n",
              "  </thead>\n",
              "  <tbody>\n",
              "    <tr>\n",
              "      <th>0</th>\n",
              "      <td>2036838</td>\n",
              "      <td>5.0</td>\n",
              "      <td>3962</td>\n",
              "    </tr>\n",
              "    <tr>\n",
              "      <th>1</th>\n",
              "      <td>1279037</td>\n",
              "      <td>3.0</td>\n",
              "      <td>2112</td>\n",
              "    </tr>\n",
              "    <tr>\n",
              "      <th>2</th>\n",
              "      <td>1445536</td>\n",
              "      <td>4.0</td>\n",
              "      <td>3315</td>\n",
              "    </tr>\n",
              "    <tr>\n",
              "      <th>3</th>\n",
              "      <td>1450135</td>\n",
              "      <td>4.0</td>\n",
              "      <td>1051</td>\n",
              "    </tr>\n",
              "    <tr>\n",
              "      <th>4</th>\n",
              "      <td>2076358</td>\n",
              "      <td>3.0</td>\n",
              "      <td>4106</td>\n",
              "    </tr>\n",
              "    <tr>\n",
              "      <th>...</th>\n",
              "      <td>...</td>\n",
              "      <td>...</td>\n",
              "      <td>...</td>\n",
              "    </tr>\n",
              "    <tr>\n",
              "      <th>5830576</th>\n",
              "      <td>417641</td>\n",
              "      <td>4.0</td>\n",
              "      <td>299</td>\n",
              "    </tr>\n",
              "    <tr>\n",
              "      <th>5830577</th>\n",
              "      <td>1367834</td>\n",
              "      <td>5.0</td>\n",
              "      <td>1482</td>\n",
              "    </tr>\n",
              "    <tr>\n",
              "      <th>5830578</th>\n",
              "      <td>323450</td>\n",
              "      <td>3.0</td>\n",
              "      <td>1682</td>\n",
              "    </tr>\n",
              "    <tr>\n",
              "      <th>5830579</th>\n",
              "      <td>1368151</td>\n",
              "      <td>5.0</td>\n",
              "      <td>2172</td>\n",
              "    </tr>\n",
              "    <tr>\n",
              "      <th>5830580</th>\n",
              "      <td>2485818</td>\n",
              "      <td>2.0</td>\n",
              "      <td>3182</td>\n",
              "    </tr>\n",
              "  </tbody>\n",
              "</table>\n",
              "<p>5830581 rows × 3 columns</p>\n",
              "</div>\n",
              "      <button class=\"colab-df-convert\" onclick=\"convertToInteractive('df-d6af602c-7eb0-4f44-892b-f97811ba7d3d')\"\n",
              "              title=\"Convert this dataframe to an interactive table.\"\n",
              "              style=\"display:none;\">\n",
              "        \n",
              "  <svg xmlns=\"http://www.w3.org/2000/svg\" height=\"24px\"viewBox=\"0 0 24 24\"\n",
              "       width=\"24px\">\n",
              "    <path d=\"M0 0h24v24H0V0z\" fill=\"none\"/>\n",
              "    <path d=\"M18.56 5.44l.94 2.06.94-2.06 2.06-.94-2.06-.94-.94-2.06-.94 2.06-2.06.94zm-11 1L8.5 8.5l.94-2.06 2.06-.94-2.06-.94L8.5 2.5l-.94 2.06-2.06.94zm10 10l.94 2.06.94-2.06 2.06-.94-2.06-.94-.94-2.06-.94 2.06-2.06.94z\"/><path d=\"M17.41 7.96l-1.37-1.37c-.4-.4-.92-.59-1.43-.59-.52 0-1.04.2-1.43.59L10.3 9.45l-7.72 7.72c-.78.78-.78 2.05 0 2.83L4 21.41c.39.39.9.59 1.41.59.51 0 1.02-.2 1.41-.59l7.78-7.78 2.81-2.81c.8-.78.8-2.07 0-2.86zM5.41 20L4 18.59l7.72-7.72 1.47 1.35L5.41 20z\"/>\n",
              "  </svg>\n",
              "      </button>\n",
              "      \n",
              "  <style>\n",
              "    .colab-df-container {\n",
              "      display:flex;\n",
              "      flex-wrap:wrap;\n",
              "      gap: 12px;\n",
              "    }\n",
              "\n",
              "    .colab-df-convert {\n",
              "      background-color: #E8F0FE;\n",
              "      border: none;\n",
              "      border-radius: 50%;\n",
              "      cursor: pointer;\n",
              "      display: none;\n",
              "      fill: #1967D2;\n",
              "      height: 32px;\n",
              "      padding: 0 0 0 0;\n",
              "      width: 32px;\n",
              "    }\n",
              "\n",
              "    .colab-df-convert:hover {\n",
              "      background-color: #E2EBFA;\n",
              "      box-shadow: 0px 1px 2px rgba(60, 64, 67, 0.3), 0px 1px 3px 1px rgba(60, 64, 67, 0.15);\n",
              "      fill: #174EA6;\n",
              "    }\n",
              "\n",
              "    [theme=dark] .colab-df-convert {\n",
              "      background-color: #3B4455;\n",
              "      fill: #D2E3FC;\n",
              "    }\n",
              "\n",
              "    [theme=dark] .colab-df-convert:hover {\n",
              "      background-color: #434B5C;\n",
              "      box-shadow: 0px 1px 3px 1px rgba(0, 0, 0, 0.15);\n",
              "      filter: drop-shadow(0px 1px 2px rgba(0, 0, 0, 0.3));\n",
              "      fill: #FFFFFF;\n",
              "    }\n",
              "  </style>\n",
              "\n",
              "      <script>\n",
              "        const buttonEl =\n",
              "          document.querySelector('#df-d6af602c-7eb0-4f44-892b-f97811ba7d3d button.colab-df-convert');\n",
              "        buttonEl.style.display =\n",
              "          google.colab.kernel.accessAllowed ? 'block' : 'none';\n",
              "\n",
              "        async function convertToInteractive(key) {\n",
              "          const element = document.querySelector('#df-d6af602c-7eb0-4f44-892b-f97811ba7d3d');\n",
              "          const dataTable =\n",
              "            await google.colab.kernel.invokeFunction('convertToInteractive',\n",
              "                                                     [key], {});\n",
              "          if (!dataTable) return;\n",
              "\n",
              "          const docLinkHtml = 'Like what you see? Visit the ' +\n",
              "            '<a target=\"_blank\" href=https://colab.research.google.com/notebooks/data_table.ipynb>data table notebook</a>'\n",
              "            + ' to learn more about interactive tables.';\n",
              "          element.innerHTML = '';\n",
              "          dataTable['output_type'] = 'display_data';\n",
              "          await google.colab.output.renderOutput(dataTable, element);\n",
              "          const docLink = document.createElement('div');\n",
              "          docLink.innerHTML = docLinkHtml;\n",
              "          element.appendChild(docLink);\n",
              "        }\n",
              "      </script>\n",
              "    </div>\n",
              "  </div>\n",
              "  "
            ]
          },
          "metadata": {},
          "execution_count": 29
        }
      ]
    },
    {
      "cell_type": "markdown",
      "metadata": {
        "id": "JjQjPE9-76iP"
      },
      "source": [
        "The train set will be used to train all models and the test set ensures we can compare model performance on unseen data using the RMSE metric."
      ]
    },
    {
      "cell_type": "markdown",
      "metadata": {
        "id": "ufn47cGh_wNC"
      },
      "source": [
        "# 7. Transformation"
      ]
    },
    {
      "cell_type": "markdown",
      "metadata": {
        "id": "mWkzhX-a792R"
      },
      "source": [
        "### Q 7.1: Transform The User-Movie-Ratings Data Frame to User-Movie Matrix"
      ]
    },
    {
      "cell_type": "markdown",
      "metadata": {
        "id": "qDeuv70i8NMQ"
      },
      "source": [
        "A large, sparse matrix will be created in this step. Each row will represent a user and its ratings and the columns are the movies.\n",
        "\n",
        "The movies already rated by users are the non-empty values in the matrix.\n",
        "\n",
        "Empty values are unrated movies and the main objective is to estimate the empty values to help our users.\n",
        "\n",
        "\n",
        "__Your turn:__ Create the User-Movie matrix leveraging the __`pivot_table()`__ function from pandas.\n",
        "\n",
        "Fill in the blanks in the code below by referencing the __`pivot_table()`__ function and invoking it on __`df_train`__. Feel free to check out the documentation.\n",
        "\n",
        "Remember, rows should be users, columns should be movies and the values in the matrix should be the movie ratings. All these should be available in the __`df_train`__ dataframe."
      ]
    },
    {
      "cell_type": "code",
      "execution_count": null,
      "metadata": {
        "colab": {
          "base_uri": "https://localhost:8080/",
          "height": 485
        },
        "id": "_ieAea92FJye",
        "outputId": "f8046353-a382-4905-d680-067c92077c67"
      },
      "outputs": [
        {
          "output_type": "stream",
          "name": "stdout",
          "text": [
            "Shape User-Movie-Matrix:\t(20828, 1741)\n"
          ]
        },
        {
          "output_type": "execute_result",
          "data": {
            "text/plain": [
              "Movie    3     5     6     8     16    17    18    24    25    26    ...  \\\n",
              "User                                                                 ...   \n",
              "1000079     0     0     0     0     0     0     0     0     0     0  ...   \n",
              "1000192     0     0     0     0     0     0     0     0     0     0  ...   \n",
              "1000301     0     0     0     0     0     0     4     0     0     0  ...   \n",
              "1000387     0     0     0     0     0     0     0     0     0     0  ...   \n",
              "1000410     0     0     0     0     0     0     4     0     0     0  ...   \n",
              "1000527     0     0     0     0     0     0     0     0     0     0  ...   \n",
              "1000596     0     0     0     0     0     0     0     2     0     0  ...   \n",
              "1000634     0     0     0     0     3     0     0     0     0     0  ...   \n",
              "1000710     0     0     0     0     0     0     0     0     0     0  ...   \n",
              "1000779     0     0     0     0     0     0     0     0     0     0  ...   \n",
              "\n",
              "Movie    4482  4483  4484  4485  4488  4489  4490  4492  4493  4496  \n",
              "User                                                                 \n",
              "1000079     0     0     0     0     2     0     0     0     0     0  \n",
              "1000192     0     0     0     0     0     0     0     0     0     0  \n",
              "1000301     0     0     0     0     4     0     0     0     0     0  \n",
              "1000387     0     0     0     1     2     0     0     1     0     0  \n",
              "1000410     0     0     0     0     3     0     3     0     0     3  \n",
              "1000527     0     0     0     0     0     0     0     0     3     0  \n",
              "1000596     0     0     0     0     0     0     0     0     0     0  \n",
              "1000634     0     0     0     0     4     0     0     4     0     0  \n",
              "1000710     0     0     0     0     0     0     0     0     0     0  \n",
              "1000779     0     0     0     0     0     0     0     0     0     4  \n",
              "\n",
              "[10 rows x 1741 columns]"
            ],
            "text/html": [
              "\n",
              "  <div id=\"df-f00f64a6-731c-4eea-a477-cdebd2a29e69\">\n",
              "    <div class=\"colab-df-container\">\n",
              "      <div>\n",
              "<style scoped>\n",
              "    .dataframe tbody tr th:only-of-type {\n",
              "        vertical-align: middle;\n",
              "    }\n",
              "\n",
              "    .dataframe tbody tr th {\n",
              "        vertical-align: top;\n",
              "    }\n",
              "\n",
              "    .dataframe thead th {\n",
              "        text-align: right;\n",
              "    }\n",
              "</style>\n",
              "<table border=\"1\" class=\"dataframe\">\n",
              "  <thead>\n",
              "    <tr style=\"text-align: right;\">\n",
              "      <th>Movie</th>\n",
              "      <th>3</th>\n",
              "      <th>5</th>\n",
              "      <th>6</th>\n",
              "      <th>8</th>\n",
              "      <th>16</th>\n",
              "      <th>17</th>\n",
              "      <th>18</th>\n",
              "      <th>24</th>\n",
              "      <th>25</th>\n",
              "      <th>26</th>\n",
              "      <th>...</th>\n",
              "      <th>4482</th>\n",
              "      <th>4483</th>\n",
              "      <th>4484</th>\n",
              "      <th>4485</th>\n",
              "      <th>4488</th>\n",
              "      <th>4489</th>\n",
              "      <th>4490</th>\n",
              "      <th>4492</th>\n",
              "      <th>4493</th>\n",
              "      <th>4496</th>\n",
              "    </tr>\n",
              "    <tr>\n",
              "      <th>User</th>\n",
              "      <th></th>\n",
              "      <th></th>\n",
              "      <th></th>\n",
              "      <th></th>\n",
              "      <th></th>\n",
              "      <th></th>\n",
              "      <th></th>\n",
              "      <th></th>\n",
              "      <th></th>\n",
              "      <th></th>\n",
              "      <th></th>\n",
              "      <th></th>\n",
              "      <th></th>\n",
              "      <th></th>\n",
              "      <th></th>\n",
              "      <th></th>\n",
              "      <th></th>\n",
              "      <th></th>\n",
              "      <th></th>\n",
              "      <th></th>\n",
              "      <th></th>\n",
              "    </tr>\n",
              "  </thead>\n",
              "  <tbody>\n",
              "    <tr>\n",
              "      <th>1000079</th>\n",
              "      <td>0</td>\n",
              "      <td>0</td>\n",
              "      <td>0</td>\n",
              "      <td>0</td>\n",
              "      <td>0</td>\n",
              "      <td>0</td>\n",
              "      <td>0</td>\n",
              "      <td>0</td>\n",
              "      <td>0</td>\n",
              "      <td>0</td>\n",
              "      <td>...</td>\n",
              "      <td>0</td>\n",
              "      <td>0</td>\n",
              "      <td>0</td>\n",
              "      <td>0</td>\n",
              "      <td>2</td>\n",
              "      <td>0</td>\n",
              "      <td>0</td>\n",
              "      <td>0</td>\n",
              "      <td>0</td>\n",
              "      <td>0</td>\n",
              "    </tr>\n",
              "    <tr>\n",
              "      <th>1000192</th>\n",
              "      <td>0</td>\n",
              "      <td>0</td>\n",
              "      <td>0</td>\n",
              "      <td>0</td>\n",
              "      <td>0</td>\n",
              "      <td>0</td>\n",
              "      <td>0</td>\n",
              "      <td>0</td>\n",
              "      <td>0</td>\n",
              "      <td>0</td>\n",
              "      <td>...</td>\n",
              "      <td>0</td>\n",
              "      <td>0</td>\n",
              "      <td>0</td>\n",
              "      <td>0</td>\n",
              "      <td>0</td>\n",
              "      <td>0</td>\n",
              "      <td>0</td>\n",
              "      <td>0</td>\n",
              "      <td>0</td>\n",
              "      <td>0</td>\n",
              "    </tr>\n",
              "    <tr>\n",
              "      <th>1000301</th>\n",
              "      <td>0</td>\n",
              "      <td>0</td>\n",
              "      <td>0</td>\n",
              "      <td>0</td>\n",
              "      <td>0</td>\n",
              "      <td>0</td>\n",
              "      <td>4</td>\n",
              "      <td>0</td>\n",
              "      <td>0</td>\n",
              "      <td>0</td>\n",
              "      <td>...</td>\n",
              "      <td>0</td>\n",
              "      <td>0</td>\n",
              "      <td>0</td>\n",
              "      <td>0</td>\n",
              "      <td>4</td>\n",
              "      <td>0</td>\n",
              "      <td>0</td>\n",
              "      <td>0</td>\n",
              "      <td>0</td>\n",
              "      <td>0</td>\n",
              "    </tr>\n",
              "    <tr>\n",
              "      <th>1000387</th>\n",
              "      <td>0</td>\n",
              "      <td>0</td>\n",
              "      <td>0</td>\n",
              "      <td>0</td>\n",
              "      <td>0</td>\n",
              "      <td>0</td>\n",
              "      <td>0</td>\n",
              "      <td>0</td>\n",
              "      <td>0</td>\n",
              "      <td>0</td>\n",
              "      <td>...</td>\n",
              "      <td>0</td>\n",
              "      <td>0</td>\n",
              "      <td>0</td>\n",
              "      <td>1</td>\n",
              "      <td>2</td>\n",
              "      <td>0</td>\n",
              "      <td>0</td>\n",
              "      <td>1</td>\n",
              "      <td>0</td>\n",
              "      <td>0</td>\n",
              "    </tr>\n",
              "    <tr>\n",
              "      <th>1000410</th>\n",
              "      <td>0</td>\n",
              "      <td>0</td>\n",
              "      <td>0</td>\n",
              "      <td>0</td>\n",
              "      <td>0</td>\n",
              "      <td>0</td>\n",
              "      <td>4</td>\n",
              "      <td>0</td>\n",
              "      <td>0</td>\n",
              "      <td>0</td>\n",
              "      <td>...</td>\n",
              "      <td>0</td>\n",
              "      <td>0</td>\n",
              "      <td>0</td>\n",
              "      <td>0</td>\n",
              "      <td>3</td>\n",
              "      <td>0</td>\n",
              "      <td>3</td>\n",
              "      <td>0</td>\n",
              "      <td>0</td>\n",
              "      <td>3</td>\n",
              "    </tr>\n",
              "    <tr>\n",
              "      <th>1000527</th>\n",
              "      <td>0</td>\n",
              "      <td>0</td>\n",
              "      <td>0</td>\n",
              "      <td>0</td>\n",
              "      <td>0</td>\n",
              "      <td>0</td>\n",
              "      <td>0</td>\n",
              "      <td>0</td>\n",
              "      <td>0</td>\n",
              "      <td>0</td>\n",
              "      <td>...</td>\n",
              "      <td>0</td>\n",
              "      <td>0</td>\n",
              "      <td>0</td>\n",
              "      <td>0</td>\n",
              "      <td>0</td>\n",
              "      <td>0</td>\n",
              "      <td>0</td>\n",
              "      <td>0</td>\n",
              "      <td>3</td>\n",
              "      <td>0</td>\n",
              "    </tr>\n",
              "    <tr>\n",
              "      <th>1000596</th>\n",
              "      <td>0</td>\n",
              "      <td>0</td>\n",
              "      <td>0</td>\n",
              "      <td>0</td>\n",
              "      <td>0</td>\n",
              "      <td>0</td>\n",
              "      <td>0</td>\n",
              "      <td>2</td>\n",
              "      <td>0</td>\n",
              "      <td>0</td>\n",
              "      <td>...</td>\n",
              "      <td>0</td>\n",
              "      <td>0</td>\n",
              "      <td>0</td>\n",
              "      <td>0</td>\n",
              "      <td>0</td>\n",
              "      <td>0</td>\n",
              "      <td>0</td>\n",
              "      <td>0</td>\n",
              "      <td>0</td>\n",
              "      <td>0</td>\n",
              "    </tr>\n",
              "    <tr>\n",
              "      <th>1000634</th>\n",
              "      <td>0</td>\n",
              "      <td>0</td>\n",
              "      <td>0</td>\n",
              "      <td>0</td>\n",
              "      <td>3</td>\n",
              "      <td>0</td>\n",
              "      <td>0</td>\n",
              "      <td>0</td>\n",
              "      <td>0</td>\n",
              "      <td>0</td>\n",
              "      <td>...</td>\n",
              "      <td>0</td>\n",
              "      <td>0</td>\n",
              "      <td>0</td>\n",
              "      <td>0</td>\n",
              "      <td>4</td>\n",
              "      <td>0</td>\n",
              "      <td>0</td>\n",
              "      <td>4</td>\n",
              "      <td>0</td>\n",
              "      <td>0</td>\n",
              "    </tr>\n",
              "    <tr>\n",
              "      <th>1000710</th>\n",
              "      <td>0</td>\n",
              "      <td>0</td>\n",
              "      <td>0</td>\n",
              "      <td>0</td>\n",
              "      <td>0</td>\n",
              "      <td>0</td>\n",
              "      <td>0</td>\n",
              "      <td>0</td>\n",
              "      <td>0</td>\n",
              "      <td>0</td>\n",
              "      <td>...</td>\n",
              "      <td>0</td>\n",
              "      <td>0</td>\n",
              "      <td>0</td>\n",
              "      <td>0</td>\n",
              "      <td>0</td>\n",
              "      <td>0</td>\n",
              "      <td>0</td>\n",
              "      <td>0</td>\n",
              "      <td>0</td>\n",
              "      <td>0</td>\n",
              "    </tr>\n",
              "    <tr>\n",
              "      <th>1000779</th>\n",
              "      <td>0</td>\n",
              "      <td>0</td>\n",
              "      <td>0</td>\n",
              "      <td>0</td>\n",
              "      <td>0</td>\n",
              "      <td>0</td>\n",
              "      <td>0</td>\n",
              "      <td>0</td>\n",
              "      <td>0</td>\n",
              "      <td>0</td>\n",
              "      <td>...</td>\n",
              "      <td>0</td>\n",
              "      <td>0</td>\n",
              "      <td>0</td>\n",
              "      <td>0</td>\n",
              "      <td>0</td>\n",
              "      <td>0</td>\n",
              "      <td>0</td>\n",
              "      <td>0</td>\n",
              "      <td>0</td>\n",
              "      <td>4</td>\n",
              "    </tr>\n",
              "  </tbody>\n",
              "</table>\n",
              "<p>10 rows × 1741 columns</p>\n",
              "</div>\n",
              "      <button class=\"colab-df-convert\" onclick=\"convertToInteractive('df-f00f64a6-731c-4eea-a477-cdebd2a29e69')\"\n",
              "              title=\"Convert this dataframe to an interactive table.\"\n",
              "              style=\"display:none;\">\n",
              "        \n",
              "  <svg xmlns=\"http://www.w3.org/2000/svg\" height=\"24px\"viewBox=\"0 0 24 24\"\n",
              "       width=\"24px\">\n",
              "    <path d=\"M0 0h24v24H0V0z\" fill=\"none\"/>\n",
              "    <path d=\"M18.56 5.44l.94 2.06.94-2.06 2.06-.94-2.06-.94-.94-2.06-.94 2.06-2.06.94zm-11 1L8.5 8.5l.94-2.06 2.06-.94-2.06-.94L8.5 2.5l-.94 2.06-2.06.94zm10 10l.94 2.06.94-2.06 2.06-.94-2.06-.94-.94-2.06-.94 2.06-2.06.94z\"/><path d=\"M17.41 7.96l-1.37-1.37c-.4-.4-.92-.59-1.43-.59-.52 0-1.04.2-1.43.59L10.3 9.45l-7.72 7.72c-.78.78-.78 2.05 0 2.83L4 21.41c.39.39.9.59 1.41.59.51 0 1.02-.2 1.41-.59l7.78-7.78 2.81-2.81c.8-.78.8-2.07 0-2.86zM5.41 20L4 18.59l7.72-7.72 1.47 1.35L5.41 20z\"/>\n",
              "  </svg>\n",
              "      </button>\n",
              "      \n",
              "  <style>\n",
              "    .colab-df-container {\n",
              "      display:flex;\n",
              "      flex-wrap:wrap;\n",
              "      gap: 12px;\n",
              "    }\n",
              "\n",
              "    .colab-df-convert {\n",
              "      background-color: #E8F0FE;\n",
              "      border: none;\n",
              "      border-radius: 50%;\n",
              "      cursor: pointer;\n",
              "      display: none;\n",
              "      fill: #1967D2;\n",
              "      height: 32px;\n",
              "      padding: 0 0 0 0;\n",
              "      width: 32px;\n",
              "    }\n",
              "\n",
              "    .colab-df-convert:hover {\n",
              "      background-color: #E2EBFA;\n",
              "      box-shadow: 0px 1px 2px rgba(60, 64, 67, 0.3), 0px 1px 3px 1px rgba(60, 64, 67, 0.15);\n",
              "      fill: #174EA6;\n",
              "    }\n",
              "\n",
              "    [theme=dark] .colab-df-convert {\n",
              "      background-color: #3B4455;\n",
              "      fill: #D2E3FC;\n",
              "    }\n",
              "\n",
              "    [theme=dark] .colab-df-convert:hover {\n",
              "      background-color: #434B5C;\n",
              "      box-shadow: 0px 1px 3px 1px rgba(0, 0, 0, 0.15);\n",
              "      filter: drop-shadow(0px 1px 2px rgba(0, 0, 0, 0.3));\n",
              "      fill: #FFFFFF;\n",
              "    }\n",
              "  </style>\n",
              "\n",
              "      <script>\n",
              "        const buttonEl =\n",
              "          document.querySelector('#df-f00f64a6-731c-4eea-a477-cdebd2a29e69 button.colab-df-convert');\n",
              "        buttonEl.style.display =\n",
              "          google.colab.kernel.accessAllowed ? 'block' : 'none';\n",
              "\n",
              "        async function convertToInteractive(key) {\n",
              "          const element = document.querySelector('#df-f00f64a6-731c-4eea-a477-cdebd2a29e69');\n",
              "          const dataTable =\n",
              "            await google.colab.kernel.invokeFunction('convertToInteractive',\n",
              "                                                     [key], {});\n",
              "          if (!dataTable) return;\n",
              "\n",
              "          const docLinkHtml = 'Like what you see? Visit the ' +\n",
              "            '<a target=\"_blank\" href=https://colab.research.google.com/notebooks/data_table.ipynb>data table notebook</a>'\n",
              "            + ' to learn more about interactive tables.';\n",
              "          element.innerHTML = '';\n",
              "          dataTable['output_type'] = 'display_data';\n",
              "          await google.colab.output.renderOutput(dataTable, element);\n",
              "          const docLink = document.createElement('div');\n",
              "          docLink.innerHTML = docLinkHtml;\n",
              "          element.appendChild(docLink);\n",
              "        }\n",
              "      </script>\n",
              "    </div>\n",
              "  </div>\n",
              "  "
            ]
          },
          "metadata": {},
          "execution_count": 30
        }
      ],
      "source": [
        "# Create a user-movie matrix with empty values\n",
        "# df_p = pd.pivot_table(df_train, index=['User'], columns=['Movie'], values=['Rating'], fill_value=0)\n",
        "df_p = df_train.pivot_table(index='User', columns=['Movie'], values='Rating', fill_value=0)\n",
        "print('Shape User-Movie-Matrix:\\t{}'.format(df_p.shape))\n",
        "df_p.head(10)"
      ]
    },
    {
      "cell_type": "code",
      "source": [
        "type(df_p)"
      ],
      "metadata": {
        "colab": {
          "base_uri": "https://localhost:8080/"
        },
        "id": "Y2LNFoR9h9gh",
        "outputId": "61855754-0b08-4fe8-e4bb-d9bc1e6d3818"
      },
      "execution_count": null,
      "outputs": [
        {
          "output_type": "execute_result",
          "data": {
            "text/plain": [
              "pandas.core.frame.DataFrame"
            ]
          },
          "metadata": {},
          "execution_count": 31
        }
      ]
    },
    {
      "cell_type": "markdown",
      "metadata": {
        "id": "ojO2T5Ti_4TG"
      },
      "source": [
        "## 8. Building Recommendation Systems"
      ]
    },
    {
      "cell_type": "markdown",
      "metadata": {
        "id": "cOrqqL3KDn9L"
      },
      "source": [
        "## 8.1(a): Global Recommendation Systems (Mean Rating)\n",
        "\n",
        "Computing the mean rating for all movies creates a ranking. The recommendation will be the same for all users and can be used if there is no information on the user.\n",
        "Variations of this approach can be separate rankings for each country/year/gender/... and to use them individually to recommend movies/items to the user.\n",
        "\n",
        "It has to be noted that this approach is biased and favours movies with fewer ratings, since large numbers of ratings tend to be less extreme in its mean ratings."
      ]
    },
    {
      "cell_type": "markdown",
      "metadata": {
        "id": "zlIuNnXxONlb"
      },
      "source": [
        "### Additional Hint\n",
        "\n",
        "Predict model performance: [mean_squared_error](https://scikit-learn.org/stable/modules/generated/sklearn.metrics.mean_squared_error.html)"
      ]
    },
    {
      "cell_type": "code",
      "execution_count": null,
      "metadata": {
        "id": "spUQbaIz24Fo"
      },
      "outputs": [],
      "source": [
        "# Compute mean rating for all movies\n",
        "ratings_mean = df_p.mean(axis=0).sort_values(ascending=False).rename('Rating-Mean').to_frame()\n",
        "\n",
        "# Compute rating frequencies for all movies\n",
        "ratings_count = df_p.count(axis=0).rename('Rating-Freq').to_frame()\n",
        "\n",
        "# Combine the aggregated dataframes\n",
        "combined_df = ratings_mean.join(ratings_count).join(movie_titles)"
      ]
    },
    {
      "cell_type": "code",
      "source": [
        "ratings_mean"
      ],
      "metadata": {
        "colab": {
          "base_uri": "https://localhost:8080/",
          "height": 455
        },
        "id": "MugXC5WPjWxi",
        "outputId": "4894bea3-3262-4ebf-a289-6f03847a3163"
      },
      "execution_count": null,
      "outputs": [
        {
          "output_type": "execute_result",
          "data": {
            "text/plain": [
              "       Rating-Mean\n",
              "Movie             \n",
              "4306      4.020933\n",
              "2452      3.953236\n",
              "2862      3.933647\n",
              "1905      3.876944\n",
              "2782      3.704628\n",
              "...            ...\n",
              "2341      0.030056\n",
              "2063      0.029432\n",
              "873       0.029287\n",
              "1296      0.027799\n",
              "624       0.025687\n",
              "\n",
              "[1741 rows x 1 columns]"
            ],
            "text/html": [
              "\n",
              "  <div id=\"df-c4733b5e-69c2-4d93-8876-47b0e6853474\">\n",
              "    <div class=\"colab-df-container\">\n",
              "      <div>\n",
              "<style scoped>\n",
              "    .dataframe tbody tr th:only-of-type {\n",
              "        vertical-align: middle;\n",
              "    }\n",
              "\n",
              "    .dataframe tbody tr th {\n",
              "        vertical-align: top;\n",
              "    }\n",
              "\n",
              "    .dataframe thead th {\n",
              "        text-align: right;\n",
              "    }\n",
              "</style>\n",
              "<table border=\"1\" class=\"dataframe\">\n",
              "  <thead>\n",
              "    <tr style=\"text-align: right;\">\n",
              "      <th></th>\n",
              "      <th>Rating-Mean</th>\n",
              "    </tr>\n",
              "    <tr>\n",
              "      <th>Movie</th>\n",
              "      <th></th>\n",
              "    </tr>\n",
              "  </thead>\n",
              "  <tbody>\n",
              "    <tr>\n",
              "      <th>4306</th>\n",
              "      <td>4.020933</td>\n",
              "    </tr>\n",
              "    <tr>\n",
              "      <th>2452</th>\n",
              "      <td>3.953236</td>\n",
              "    </tr>\n",
              "    <tr>\n",
              "      <th>2862</th>\n",
              "      <td>3.933647</td>\n",
              "    </tr>\n",
              "    <tr>\n",
              "      <th>1905</th>\n",
              "      <td>3.876944</td>\n",
              "    </tr>\n",
              "    <tr>\n",
              "      <th>2782</th>\n",
              "      <td>3.704628</td>\n",
              "    </tr>\n",
              "    <tr>\n",
              "      <th>...</th>\n",
              "      <td>...</td>\n",
              "    </tr>\n",
              "    <tr>\n",
              "      <th>2341</th>\n",
              "      <td>0.030056</td>\n",
              "    </tr>\n",
              "    <tr>\n",
              "      <th>2063</th>\n",
              "      <td>0.029432</td>\n",
              "    </tr>\n",
              "    <tr>\n",
              "      <th>873</th>\n",
              "      <td>0.029287</td>\n",
              "    </tr>\n",
              "    <tr>\n",
              "      <th>1296</th>\n",
              "      <td>0.027799</td>\n",
              "    </tr>\n",
              "    <tr>\n",
              "      <th>624</th>\n",
              "      <td>0.025687</td>\n",
              "    </tr>\n",
              "  </tbody>\n",
              "</table>\n",
              "<p>1741 rows × 1 columns</p>\n",
              "</div>\n",
              "      <button class=\"colab-df-convert\" onclick=\"convertToInteractive('df-c4733b5e-69c2-4d93-8876-47b0e6853474')\"\n",
              "              title=\"Convert this dataframe to an interactive table.\"\n",
              "              style=\"display:none;\">\n",
              "        \n",
              "  <svg xmlns=\"http://www.w3.org/2000/svg\" height=\"24px\"viewBox=\"0 0 24 24\"\n",
              "       width=\"24px\">\n",
              "    <path d=\"M0 0h24v24H0V0z\" fill=\"none\"/>\n",
              "    <path d=\"M18.56 5.44l.94 2.06.94-2.06 2.06-.94-2.06-.94-.94-2.06-.94 2.06-2.06.94zm-11 1L8.5 8.5l.94-2.06 2.06-.94-2.06-.94L8.5 2.5l-.94 2.06-2.06.94zm10 10l.94 2.06.94-2.06 2.06-.94-2.06-.94-.94-2.06-.94 2.06-2.06.94z\"/><path d=\"M17.41 7.96l-1.37-1.37c-.4-.4-.92-.59-1.43-.59-.52 0-1.04.2-1.43.59L10.3 9.45l-7.72 7.72c-.78.78-.78 2.05 0 2.83L4 21.41c.39.39.9.59 1.41.59.51 0 1.02-.2 1.41-.59l7.78-7.78 2.81-2.81c.8-.78.8-2.07 0-2.86zM5.41 20L4 18.59l7.72-7.72 1.47 1.35L5.41 20z\"/>\n",
              "  </svg>\n",
              "      </button>\n",
              "      \n",
              "  <style>\n",
              "    .colab-df-container {\n",
              "      display:flex;\n",
              "      flex-wrap:wrap;\n",
              "      gap: 12px;\n",
              "    }\n",
              "\n",
              "    .colab-df-convert {\n",
              "      background-color: #E8F0FE;\n",
              "      border: none;\n",
              "      border-radius: 50%;\n",
              "      cursor: pointer;\n",
              "      display: none;\n",
              "      fill: #1967D2;\n",
              "      height: 32px;\n",
              "      padding: 0 0 0 0;\n",
              "      width: 32px;\n",
              "    }\n",
              "\n",
              "    .colab-df-convert:hover {\n",
              "      background-color: #E2EBFA;\n",
              "      box-shadow: 0px 1px 2px rgba(60, 64, 67, 0.3), 0px 1px 3px 1px rgba(60, 64, 67, 0.15);\n",
              "      fill: #174EA6;\n",
              "    }\n",
              "\n",
              "    [theme=dark] .colab-df-convert {\n",
              "      background-color: #3B4455;\n",
              "      fill: #D2E3FC;\n",
              "    }\n",
              "\n",
              "    [theme=dark] .colab-df-convert:hover {\n",
              "      background-color: #434B5C;\n",
              "      box-shadow: 0px 1px 3px 1px rgba(0, 0, 0, 0.15);\n",
              "      filter: drop-shadow(0px 1px 2px rgba(0, 0, 0, 0.3));\n",
              "      fill: #FFFFFF;\n",
              "    }\n",
              "  </style>\n",
              "\n",
              "      <script>\n",
              "        const buttonEl =\n",
              "          document.querySelector('#df-c4733b5e-69c2-4d93-8876-47b0e6853474 button.colab-df-convert');\n",
              "        buttonEl.style.display =\n",
              "          google.colab.kernel.accessAllowed ? 'block' : 'none';\n",
              "\n",
              "        async function convertToInteractive(key) {\n",
              "          const element = document.querySelector('#df-c4733b5e-69c2-4d93-8876-47b0e6853474');\n",
              "          const dataTable =\n",
              "            await google.colab.kernel.invokeFunction('convertToInteractive',\n",
              "                                                     [key], {});\n",
              "          if (!dataTable) return;\n",
              "\n",
              "          const docLinkHtml = 'Like what you see? Visit the ' +\n",
              "            '<a target=\"_blank\" href=https://colab.research.google.com/notebooks/data_table.ipynb>data table notebook</a>'\n",
              "            + ' to learn more about interactive tables.';\n",
              "          element.innerHTML = '';\n",
              "          dataTable['output_type'] = 'display_data';\n",
              "          await google.colab.output.renderOutput(dataTable, element);\n",
              "          const docLink = document.createElement('div');\n",
              "          docLink.innerHTML = docLinkHtml;\n",
              "          element.appendChild(docLink);\n",
              "        }\n",
              "      </script>\n",
              "    </div>\n",
              "  </div>\n",
              "  "
            ]
          },
          "metadata": {},
          "execution_count": 33
        }
      ]
    },
    {
      "cell_type": "code",
      "source": [
        "ratings_count"
      ],
      "metadata": {
        "colab": {
          "base_uri": "https://localhost:8080/",
          "height": 455
        },
        "id": "ghDzceOFjcxY",
        "outputId": "754fdc60-5031-461f-f262-6341e088740f"
      },
      "execution_count": null,
      "outputs": [
        {
          "output_type": "execute_result",
          "data": {
            "text/plain": [
              "       Rating-Freq\n",
              "Movie             \n",
              "3            20828\n",
              "5            20828\n",
              "6            20828\n",
              "8            20828\n",
              "16           20828\n",
              "...            ...\n",
              "4489         20828\n",
              "4490         20828\n",
              "4492         20828\n",
              "4493         20828\n",
              "4496         20828\n",
              "\n",
              "[1741 rows x 1 columns]"
            ],
            "text/html": [
              "\n",
              "  <div id=\"df-0aa081f2-5797-48a8-a0d6-197f8cb0cce5\">\n",
              "    <div class=\"colab-df-container\">\n",
              "      <div>\n",
              "<style scoped>\n",
              "    .dataframe tbody tr th:only-of-type {\n",
              "        vertical-align: middle;\n",
              "    }\n",
              "\n",
              "    .dataframe tbody tr th {\n",
              "        vertical-align: top;\n",
              "    }\n",
              "\n",
              "    .dataframe thead th {\n",
              "        text-align: right;\n",
              "    }\n",
              "</style>\n",
              "<table border=\"1\" class=\"dataframe\">\n",
              "  <thead>\n",
              "    <tr style=\"text-align: right;\">\n",
              "      <th></th>\n",
              "      <th>Rating-Freq</th>\n",
              "    </tr>\n",
              "    <tr>\n",
              "      <th>Movie</th>\n",
              "      <th></th>\n",
              "    </tr>\n",
              "  </thead>\n",
              "  <tbody>\n",
              "    <tr>\n",
              "      <th>3</th>\n",
              "      <td>20828</td>\n",
              "    </tr>\n",
              "    <tr>\n",
              "      <th>5</th>\n",
              "      <td>20828</td>\n",
              "    </tr>\n",
              "    <tr>\n",
              "      <th>6</th>\n",
              "      <td>20828</td>\n",
              "    </tr>\n",
              "    <tr>\n",
              "      <th>8</th>\n",
              "      <td>20828</td>\n",
              "    </tr>\n",
              "    <tr>\n",
              "      <th>16</th>\n",
              "      <td>20828</td>\n",
              "    </tr>\n",
              "    <tr>\n",
              "      <th>...</th>\n",
              "      <td>...</td>\n",
              "    </tr>\n",
              "    <tr>\n",
              "      <th>4489</th>\n",
              "      <td>20828</td>\n",
              "    </tr>\n",
              "    <tr>\n",
              "      <th>4490</th>\n",
              "      <td>20828</td>\n",
              "    </tr>\n",
              "    <tr>\n",
              "      <th>4492</th>\n",
              "      <td>20828</td>\n",
              "    </tr>\n",
              "    <tr>\n",
              "      <th>4493</th>\n",
              "      <td>20828</td>\n",
              "    </tr>\n",
              "    <tr>\n",
              "      <th>4496</th>\n",
              "      <td>20828</td>\n",
              "    </tr>\n",
              "  </tbody>\n",
              "</table>\n",
              "<p>1741 rows × 1 columns</p>\n",
              "</div>\n",
              "      <button class=\"colab-df-convert\" onclick=\"convertToInteractive('df-0aa081f2-5797-48a8-a0d6-197f8cb0cce5')\"\n",
              "              title=\"Convert this dataframe to an interactive table.\"\n",
              "              style=\"display:none;\">\n",
              "        \n",
              "  <svg xmlns=\"http://www.w3.org/2000/svg\" height=\"24px\"viewBox=\"0 0 24 24\"\n",
              "       width=\"24px\">\n",
              "    <path d=\"M0 0h24v24H0V0z\" fill=\"none\"/>\n",
              "    <path d=\"M18.56 5.44l.94 2.06.94-2.06 2.06-.94-2.06-.94-.94-2.06-.94 2.06-2.06.94zm-11 1L8.5 8.5l.94-2.06 2.06-.94-2.06-.94L8.5 2.5l-.94 2.06-2.06.94zm10 10l.94 2.06.94-2.06 2.06-.94-2.06-.94-.94-2.06-.94 2.06-2.06.94z\"/><path d=\"M17.41 7.96l-1.37-1.37c-.4-.4-.92-.59-1.43-.59-.52 0-1.04.2-1.43.59L10.3 9.45l-7.72 7.72c-.78.78-.78 2.05 0 2.83L4 21.41c.39.39.9.59 1.41.59.51 0 1.02-.2 1.41-.59l7.78-7.78 2.81-2.81c.8-.78.8-2.07 0-2.86zM5.41 20L4 18.59l7.72-7.72 1.47 1.35L5.41 20z\"/>\n",
              "  </svg>\n",
              "      </button>\n",
              "      \n",
              "  <style>\n",
              "    .colab-df-container {\n",
              "      display:flex;\n",
              "      flex-wrap:wrap;\n",
              "      gap: 12px;\n",
              "    }\n",
              "\n",
              "    .colab-df-convert {\n",
              "      background-color: #E8F0FE;\n",
              "      border: none;\n",
              "      border-radius: 50%;\n",
              "      cursor: pointer;\n",
              "      display: none;\n",
              "      fill: #1967D2;\n",
              "      height: 32px;\n",
              "      padding: 0 0 0 0;\n",
              "      width: 32px;\n",
              "    }\n",
              "\n",
              "    .colab-df-convert:hover {\n",
              "      background-color: #E2EBFA;\n",
              "      box-shadow: 0px 1px 2px rgba(60, 64, 67, 0.3), 0px 1px 3px 1px rgba(60, 64, 67, 0.15);\n",
              "      fill: #174EA6;\n",
              "    }\n",
              "\n",
              "    [theme=dark] .colab-df-convert {\n",
              "      background-color: #3B4455;\n",
              "      fill: #D2E3FC;\n",
              "    }\n",
              "\n",
              "    [theme=dark] .colab-df-convert:hover {\n",
              "      background-color: #434B5C;\n",
              "      box-shadow: 0px 1px 3px 1px rgba(0, 0, 0, 0.15);\n",
              "      filter: drop-shadow(0px 1px 2px rgba(0, 0, 0, 0.3));\n",
              "      fill: #FFFFFF;\n",
              "    }\n",
              "  </style>\n",
              "\n",
              "      <script>\n",
              "        const buttonEl =\n",
              "          document.querySelector('#df-0aa081f2-5797-48a8-a0d6-197f8cb0cce5 button.colab-df-convert');\n",
              "        buttonEl.style.display =\n",
              "          google.colab.kernel.accessAllowed ? 'block' : 'none';\n",
              "\n",
              "        async function convertToInteractive(key) {\n",
              "          const element = document.querySelector('#df-0aa081f2-5797-48a8-a0d6-197f8cb0cce5');\n",
              "          const dataTable =\n",
              "            await google.colab.kernel.invokeFunction('convertToInteractive',\n",
              "                                                     [key], {});\n",
              "          if (!dataTable) return;\n",
              "\n",
              "          const docLinkHtml = 'Like what you see? Visit the ' +\n",
              "            '<a target=\"_blank\" href=https://colab.research.google.com/notebooks/data_table.ipynb>data table notebook</a>'\n",
              "            + ' to learn more about interactive tables.';\n",
              "          element.innerHTML = '';\n",
              "          dataTable['output_type'] = 'display_data';\n",
              "          await google.colab.output.renderOutput(dataTable, element);\n",
              "          const docLink = document.createElement('div');\n",
              "          docLink.innerHTML = docLinkHtml;\n",
              "          element.appendChild(docLink);\n",
              "        }\n",
              "      </script>\n",
              "    </div>\n",
              "  </div>\n",
              "  "
            ]
          },
          "metadata": {},
          "execution_count": 34
        }
      ]
    },
    {
      "cell_type": "code",
      "source": [
        "combined_df"
      ],
      "metadata": {
        "colab": {
          "base_uri": "https://localhost:8080/",
          "height": 455
        },
        "id": "FtGfj-EViroV",
        "outputId": "5e3bf68f-1c9e-4f1b-a553-15e8dfb3269e"
      },
      "execution_count": null,
      "outputs": [
        {
          "output_type": "execute_result",
          "data": {
            "text/plain": [
              "       Rating-Mean  Rating-Freq    Year  \\\n",
              "Movie                                     \n",
              "4306      4.020933        20828  1999.0   \n",
              "2452      3.953236        20828  2001.0   \n",
              "2862      3.933647        20828  1991.0   \n",
              "1905      3.876944        20828  2003.0   \n",
              "2782      3.704628        20828  1995.0   \n",
              "...            ...          ...     ...   \n",
              "2341      0.030056        20828  2001.0   \n",
              "2063      0.029432        20828  2001.0   \n",
              "873       0.029287        20828  2003.0   \n",
              "1296      0.027799        20828  1994.0   \n",
              "624       0.025687        20828  2004.0   \n",
              "\n",
              "                                                    Name  \n",
              "Movie                                                     \n",
              "4306                                     The Sixth Sense  \n",
              "2452       Lord of the Rings: The Fellowship of the Ring  \n",
              "2862                            The Silence of the Lambs  \n",
              "1905   Pirates of the Caribbean: The Curse of the Bla...  \n",
              "2782                                          Braveheart  \n",
              "...                                                  ...  \n",
              "2341                                              Lan Yu  \n",
              "2063             National Geographic: Inside the Vatican  \n",
              "873                               Boys Life 4: Four Play  \n",
              "1296                                    No Ordinary Love  \n",
              "624                                My Mother Likes Women  \n",
              "\n",
              "[1741 rows x 4 columns]"
            ],
            "text/html": [
              "\n",
              "  <div id=\"df-96b40caf-8f13-407c-9d13-c0875c0f155e\">\n",
              "    <div class=\"colab-df-container\">\n",
              "      <div>\n",
              "<style scoped>\n",
              "    .dataframe tbody tr th:only-of-type {\n",
              "        vertical-align: middle;\n",
              "    }\n",
              "\n",
              "    .dataframe tbody tr th {\n",
              "        vertical-align: top;\n",
              "    }\n",
              "\n",
              "    .dataframe thead th {\n",
              "        text-align: right;\n",
              "    }\n",
              "</style>\n",
              "<table border=\"1\" class=\"dataframe\">\n",
              "  <thead>\n",
              "    <tr style=\"text-align: right;\">\n",
              "      <th></th>\n",
              "      <th>Rating-Mean</th>\n",
              "      <th>Rating-Freq</th>\n",
              "      <th>Year</th>\n",
              "      <th>Name</th>\n",
              "    </tr>\n",
              "    <tr>\n",
              "      <th>Movie</th>\n",
              "      <th></th>\n",
              "      <th></th>\n",
              "      <th></th>\n",
              "      <th></th>\n",
              "    </tr>\n",
              "  </thead>\n",
              "  <tbody>\n",
              "    <tr>\n",
              "      <th>4306</th>\n",
              "      <td>4.020933</td>\n",
              "      <td>20828</td>\n",
              "      <td>1999.0</td>\n",
              "      <td>The Sixth Sense</td>\n",
              "    </tr>\n",
              "    <tr>\n",
              "      <th>2452</th>\n",
              "      <td>3.953236</td>\n",
              "      <td>20828</td>\n",
              "      <td>2001.0</td>\n",
              "      <td>Lord of the Rings: The Fellowship of the Ring</td>\n",
              "    </tr>\n",
              "    <tr>\n",
              "      <th>2862</th>\n",
              "      <td>3.933647</td>\n",
              "      <td>20828</td>\n",
              "      <td>1991.0</td>\n",
              "      <td>The Silence of the Lambs</td>\n",
              "    </tr>\n",
              "    <tr>\n",
              "      <th>1905</th>\n",
              "      <td>3.876944</td>\n",
              "      <td>20828</td>\n",
              "      <td>2003.0</td>\n",
              "      <td>Pirates of the Caribbean: The Curse of the Bla...</td>\n",
              "    </tr>\n",
              "    <tr>\n",
              "      <th>2782</th>\n",
              "      <td>3.704628</td>\n",
              "      <td>20828</td>\n",
              "      <td>1995.0</td>\n",
              "      <td>Braveheart</td>\n",
              "    </tr>\n",
              "    <tr>\n",
              "      <th>...</th>\n",
              "      <td>...</td>\n",
              "      <td>...</td>\n",
              "      <td>...</td>\n",
              "      <td>...</td>\n",
              "    </tr>\n",
              "    <tr>\n",
              "      <th>2341</th>\n",
              "      <td>0.030056</td>\n",
              "      <td>20828</td>\n",
              "      <td>2001.0</td>\n",
              "      <td>Lan Yu</td>\n",
              "    </tr>\n",
              "    <tr>\n",
              "      <th>2063</th>\n",
              "      <td>0.029432</td>\n",
              "      <td>20828</td>\n",
              "      <td>2001.0</td>\n",
              "      <td>National Geographic: Inside the Vatican</td>\n",
              "    </tr>\n",
              "    <tr>\n",
              "      <th>873</th>\n",
              "      <td>0.029287</td>\n",
              "      <td>20828</td>\n",
              "      <td>2003.0</td>\n",
              "      <td>Boys Life 4: Four Play</td>\n",
              "    </tr>\n",
              "    <tr>\n",
              "      <th>1296</th>\n",
              "      <td>0.027799</td>\n",
              "      <td>20828</td>\n",
              "      <td>1994.0</td>\n",
              "      <td>No Ordinary Love</td>\n",
              "    </tr>\n",
              "    <tr>\n",
              "      <th>624</th>\n",
              "      <td>0.025687</td>\n",
              "      <td>20828</td>\n",
              "      <td>2004.0</td>\n",
              "      <td>My Mother Likes Women</td>\n",
              "    </tr>\n",
              "  </tbody>\n",
              "</table>\n",
              "<p>1741 rows × 4 columns</p>\n",
              "</div>\n",
              "      <button class=\"colab-df-convert\" onclick=\"convertToInteractive('df-96b40caf-8f13-407c-9d13-c0875c0f155e')\"\n",
              "              title=\"Convert this dataframe to an interactive table.\"\n",
              "              style=\"display:none;\">\n",
              "        \n",
              "  <svg xmlns=\"http://www.w3.org/2000/svg\" height=\"24px\"viewBox=\"0 0 24 24\"\n",
              "       width=\"24px\">\n",
              "    <path d=\"M0 0h24v24H0V0z\" fill=\"none\"/>\n",
              "    <path d=\"M18.56 5.44l.94 2.06.94-2.06 2.06-.94-2.06-.94-.94-2.06-.94 2.06-2.06.94zm-11 1L8.5 8.5l.94-2.06 2.06-.94-2.06-.94L8.5 2.5l-.94 2.06-2.06.94zm10 10l.94 2.06.94-2.06 2.06-.94-2.06-.94-.94-2.06-.94 2.06-2.06.94z\"/><path d=\"M17.41 7.96l-1.37-1.37c-.4-.4-.92-.59-1.43-.59-.52 0-1.04.2-1.43.59L10.3 9.45l-7.72 7.72c-.78.78-.78 2.05 0 2.83L4 21.41c.39.39.9.59 1.41.59.51 0 1.02-.2 1.41-.59l7.78-7.78 2.81-2.81c.8-.78.8-2.07 0-2.86zM5.41 20L4 18.59l7.72-7.72 1.47 1.35L5.41 20z\"/>\n",
              "  </svg>\n",
              "      </button>\n",
              "      \n",
              "  <style>\n",
              "    .colab-df-container {\n",
              "      display:flex;\n",
              "      flex-wrap:wrap;\n",
              "      gap: 12px;\n",
              "    }\n",
              "\n",
              "    .colab-df-convert {\n",
              "      background-color: #E8F0FE;\n",
              "      border: none;\n",
              "      border-radius: 50%;\n",
              "      cursor: pointer;\n",
              "      display: none;\n",
              "      fill: #1967D2;\n",
              "      height: 32px;\n",
              "      padding: 0 0 0 0;\n",
              "      width: 32px;\n",
              "    }\n",
              "\n",
              "    .colab-df-convert:hover {\n",
              "      background-color: #E2EBFA;\n",
              "      box-shadow: 0px 1px 2px rgba(60, 64, 67, 0.3), 0px 1px 3px 1px rgba(60, 64, 67, 0.15);\n",
              "      fill: #174EA6;\n",
              "    }\n",
              "\n",
              "    [theme=dark] .colab-df-convert {\n",
              "      background-color: #3B4455;\n",
              "      fill: #D2E3FC;\n",
              "    }\n",
              "\n",
              "    [theme=dark] .colab-df-convert:hover {\n",
              "      background-color: #434B5C;\n",
              "      box-shadow: 0px 1px 3px 1px rgba(0, 0, 0, 0.15);\n",
              "      filter: drop-shadow(0px 1px 2px rgba(0, 0, 0, 0.3));\n",
              "      fill: #FFFFFF;\n",
              "    }\n",
              "  </style>\n",
              "\n",
              "      <script>\n",
              "        const buttonEl =\n",
              "          document.querySelector('#df-96b40caf-8f13-407c-9d13-c0875c0f155e button.colab-df-convert');\n",
              "        buttonEl.style.display =\n",
              "          google.colab.kernel.accessAllowed ? 'block' : 'none';\n",
              "\n",
              "        async function convertToInteractive(key) {\n",
              "          const element = document.querySelector('#df-96b40caf-8f13-407c-9d13-c0875c0f155e');\n",
              "          const dataTable =\n",
              "            await google.colab.kernel.invokeFunction('convertToInteractive',\n",
              "                                                     [key], {});\n",
              "          if (!dataTable) return;\n",
              "\n",
              "          const docLinkHtml = 'Like what you see? Visit the ' +\n",
              "            '<a target=\"_blank\" href=https://colab.research.google.com/notebooks/data_table.ipynb>data table notebook</a>'\n",
              "            + ' to learn more about interactive tables.';\n",
              "          element.innerHTML = '';\n",
              "          dataTable['output_type'] = 'display_data';\n",
              "          await google.colab.output.renderOutput(dataTable, element);\n",
              "          const docLink = document.createElement('div');\n",
              "          docLink.innerHTML = docLinkHtml;\n",
              "          element.appendChild(docLink);\n",
              "        }\n",
              "      </script>\n",
              "    </div>\n",
              "  </div>\n",
              "  "
            ]
          },
          "metadata": {},
          "execution_count": 35
        }
      ]
    },
    {
      "cell_type": "code",
      "source": [
        "combined_df.head(5)"
      ],
      "metadata": {
        "colab": {
          "base_uri": "https://localhost:8080/",
          "height": 238
        },
        "id": "Vm3Cptbgg8U7",
        "outputId": "1c19dbc5-9b88-42ad-d24f-a57105760247"
      },
      "execution_count": null,
      "outputs": [
        {
          "output_type": "execute_result",
          "data": {
            "text/plain": [
              "       Rating-Mean  Rating-Freq    Year  \\\n",
              "Movie                                     \n",
              "4306      4.020933        20828  1999.0   \n",
              "2452      3.953236        20828  2001.0   \n",
              "2862      3.933647        20828  1991.0   \n",
              "1905      3.876944        20828  2003.0   \n",
              "2782      3.704628        20828  1995.0   \n",
              "\n",
              "                                                    Name  \n",
              "Movie                                                     \n",
              "4306                                     The Sixth Sense  \n",
              "2452       Lord of the Rings: The Fellowship of the Ring  \n",
              "2862                            The Silence of the Lambs  \n",
              "1905   Pirates of the Caribbean: The Curse of the Bla...  \n",
              "2782                                          Braveheart  "
            ],
            "text/html": [
              "\n",
              "  <div id=\"df-06b7b79f-f6d9-4d6e-80b5-afb44ce936c1\">\n",
              "    <div class=\"colab-df-container\">\n",
              "      <div>\n",
              "<style scoped>\n",
              "    .dataframe tbody tr th:only-of-type {\n",
              "        vertical-align: middle;\n",
              "    }\n",
              "\n",
              "    .dataframe tbody tr th {\n",
              "        vertical-align: top;\n",
              "    }\n",
              "\n",
              "    .dataframe thead th {\n",
              "        text-align: right;\n",
              "    }\n",
              "</style>\n",
              "<table border=\"1\" class=\"dataframe\">\n",
              "  <thead>\n",
              "    <tr style=\"text-align: right;\">\n",
              "      <th></th>\n",
              "      <th>Rating-Mean</th>\n",
              "      <th>Rating-Freq</th>\n",
              "      <th>Year</th>\n",
              "      <th>Name</th>\n",
              "    </tr>\n",
              "    <tr>\n",
              "      <th>Movie</th>\n",
              "      <th></th>\n",
              "      <th></th>\n",
              "      <th></th>\n",
              "      <th></th>\n",
              "    </tr>\n",
              "  </thead>\n",
              "  <tbody>\n",
              "    <tr>\n",
              "      <th>4306</th>\n",
              "      <td>4.020933</td>\n",
              "      <td>20828</td>\n",
              "      <td>1999.0</td>\n",
              "      <td>The Sixth Sense</td>\n",
              "    </tr>\n",
              "    <tr>\n",
              "      <th>2452</th>\n",
              "      <td>3.953236</td>\n",
              "      <td>20828</td>\n",
              "      <td>2001.0</td>\n",
              "      <td>Lord of the Rings: The Fellowship of the Ring</td>\n",
              "    </tr>\n",
              "    <tr>\n",
              "      <th>2862</th>\n",
              "      <td>3.933647</td>\n",
              "      <td>20828</td>\n",
              "      <td>1991.0</td>\n",
              "      <td>The Silence of the Lambs</td>\n",
              "    </tr>\n",
              "    <tr>\n",
              "      <th>1905</th>\n",
              "      <td>3.876944</td>\n",
              "      <td>20828</td>\n",
              "      <td>2003.0</td>\n",
              "      <td>Pirates of the Caribbean: The Curse of the Bla...</td>\n",
              "    </tr>\n",
              "    <tr>\n",
              "      <th>2782</th>\n",
              "      <td>3.704628</td>\n",
              "      <td>20828</td>\n",
              "      <td>1995.0</td>\n",
              "      <td>Braveheart</td>\n",
              "    </tr>\n",
              "  </tbody>\n",
              "</table>\n",
              "</div>\n",
              "      <button class=\"colab-df-convert\" onclick=\"convertToInteractive('df-06b7b79f-f6d9-4d6e-80b5-afb44ce936c1')\"\n",
              "              title=\"Convert this dataframe to an interactive table.\"\n",
              "              style=\"display:none;\">\n",
              "        \n",
              "  <svg xmlns=\"http://www.w3.org/2000/svg\" height=\"24px\"viewBox=\"0 0 24 24\"\n",
              "       width=\"24px\">\n",
              "    <path d=\"M0 0h24v24H0V0z\" fill=\"none\"/>\n",
              "    <path d=\"M18.56 5.44l.94 2.06.94-2.06 2.06-.94-2.06-.94-.94-2.06-.94 2.06-2.06.94zm-11 1L8.5 8.5l.94-2.06 2.06-.94-2.06-.94L8.5 2.5l-.94 2.06-2.06.94zm10 10l.94 2.06.94-2.06 2.06-.94-2.06-.94-.94-2.06-.94 2.06-2.06.94z\"/><path d=\"M17.41 7.96l-1.37-1.37c-.4-.4-.92-.59-1.43-.59-.52 0-1.04.2-1.43.59L10.3 9.45l-7.72 7.72c-.78.78-.78 2.05 0 2.83L4 21.41c.39.39.9.59 1.41.59.51 0 1.02-.2 1.41-.59l7.78-7.78 2.81-2.81c.8-.78.8-2.07 0-2.86zM5.41 20L4 18.59l7.72-7.72 1.47 1.35L5.41 20z\"/>\n",
              "  </svg>\n",
              "      </button>\n",
              "      \n",
              "  <style>\n",
              "    .colab-df-container {\n",
              "      display:flex;\n",
              "      flex-wrap:wrap;\n",
              "      gap: 12px;\n",
              "    }\n",
              "\n",
              "    .colab-df-convert {\n",
              "      background-color: #E8F0FE;\n",
              "      border: none;\n",
              "      border-radius: 50%;\n",
              "      cursor: pointer;\n",
              "      display: none;\n",
              "      fill: #1967D2;\n",
              "      height: 32px;\n",
              "      padding: 0 0 0 0;\n",
              "      width: 32px;\n",
              "    }\n",
              "\n",
              "    .colab-df-convert:hover {\n",
              "      background-color: #E2EBFA;\n",
              "      box-shadow: 0px 1px 2px rgba(60, 64, 67, 0.3), 0px 1px 3px 1px rgba(60, 64, 67, 0.15);\n",
              "      fill: #174EA6;\n",
              "    }\n",
              "\n",
              "    [theme=dark] .colab-df-convert {\n",
              "      background-color: #3B4455;\n",
              "      fill: #D2E3FC;\n",
              "    }\n",
              "\n",
              "    [theme=dark] .colab-df-convert:hover {\n",
              "      background-color: #434B5C;\n",
              "      box-shadow: 0px 1px 3px 1px rgba(0, 0, 0, 0.15);\n",
              "      filter: drop-shadow(0px 1px 2px rgba(0, 0, 0, 0.3));\n",
              "      fill: #FFFFFF;\n",
              "    }\n",
              "  </style>\n",
              "\n",
              "      <script>\n",
              "        const buttonEl =\n",
              "          document.querySelector('#df-06b7b79f-f6d9-4d6e-80b5-afb44ce936c1 button.colab-df-convert');\n",
              "        buttonEl.style.display =\n",
              "          google.colab.kernel.accessAllowed ? 'block' : 'none';\n",
              "\n",
              "        async function convertToInteractive(key) {\n",
              "          const element = document.querySelector('#df-06b7b79f-f6d9-4d6e-80b5-afb44ce936c1');\n",
              "          const dataTable =\n",
              "            await google.colab.kernel.invokeFunction('convertToInteractive',\n",
              "                                                     [key], {});\n",
              "          if (!dataTable) return;\n",
              "\n",
              "          const docLinkHtml = 'Like what you see? Visit the ' +\n",
              "            '<a target=\"_blank\" href=https://colab.research.google.com/notebooks/data_table.ipynb>data table notebook</a>'\n",
              "            + ' to learn more about interactive tables.';\n",
              "          element.innerHTML = '';\n",
              "          dataTable['output_type'] = 'display_data';\n",
              "          await google.colab.output.renderOutput(dataTable, element);\n",
              "          const docLink = document.createElement('div');\n",
              "          docLink.innerHTML = docLinkHtml;\n",
              "          element.appendChild(docLink);\n",
              "        }\n",
              "      </script>\n",
              "    </div>\n",
              "  </div>\n",
              "  "
            ]
          },
          "metadata": {},
          "execution_count": 36
        }
      ]
    },
    {
      "cell_type": "code",
      "execution_count": null,
      "metadata": {
        "colab": {
          "base_uri": "https://localhost:8080/",
          "height": 238
        },
        "id": "vf66eVE_24Fq",
        "outputId": "683a07ec-0ea6-404e-ebec-90dd874fd0b2"
      },
      "outputs": [
        {
          "output_type": "execute_result",
          "data": {
            "text/plain": [
              "          User  Rating  Rating-Mean\n",
              "Movie                              \n",
              "3      2130480     5.0     0.087911\n",
              "3       795638     5.0     0.087911\n",
              "3       424947     5.0     0.087911\n",
              "3      1370323     4.0     0.087911\n",
              "3       818752     4.0     0.087911"
            ],
            "text/html": [
              "\n",
              "  <div id=\"df-f74eb22a-8dd9-4131-81dc-53ab766e8641\">\n",
              "    <div class=\"colab-df-container\">\n",
              "      <div>\n",
              "<style scoped>\n",
              "    .dataframe tbody tr th:only-of-type {\n",
              "        vertical-align: middle;\n",
              "    }\n",
              "\n",
              "    .dataframe tbody tr th {\n",
              "        vertical-align: top;\n",
              "    }\n",
              "\n",
              "    .dataframe thead th {\n",
              "        text-align: right;\n",
              "    }\n",
              "</style>\n",
              "<table border=\"1\" class=\"dataframe\">\n",
              "  <thead>\n",
              "    <tr style=\"text-align: right;\">\n",
              "      <th></th>\n",
              "      <th>User</th>\n",
              "      <th>Rating</th>\n",
              "      <th>Rating-Mean</th>\n",
              "    </tr>\n",
              "    <tr>\n",
              "      <th>Movie</th>\n",
              "      <th></th>\n",
              "      <th></th>\n",
              "      <th></th>\n",
              "    </tr>\n",
              "  </thead>\n",
              "  <tbody>\n",
              "    <tr>\n",
              "      <th>3</th>\n",
              "      <td>2130480</td>\n",
              "      <td>5.0</td>\n",
              "      <td>0.087911</td>\n",
              "    </tr>\n",
              "    <tr>\n",
              "      <th>3</th>\n",
              "      <td>795638</td>\n",
              "      <td>5.0</td>\n",
              "      <td>0.087911</td>\n",
              "    </tr>\n",
              "    <tr>\n",
              "      <th>3</th>\n",
              "      <td>424947</td>\n",
              "      <td>5.0</td>\n",
              "      <td>0.087911</td>\n",
              "    </tr>\n",
              "    <tr>\n",
              "      <th>3</th>\n",
              "      <td>1370323</td>\n",
              "      <td>4.0</td>\n",
              "      <td>0.087911</td>\n",
              "    </tr>\n",
              "    <tr>\n",
              "      <th>3</th>\n",
              "      <td>818752</td>\n",
              "      <td>4.0</td>\n",
              "      <td>0.087911</td>\n",
              "    </tr>\n",
              "  </tbody>\n",
              "</table>\n",
              "</div>\n",
              "      <button class=\"colab-df-convert\" onclick=\"convertToInteractive('df-f74eb22a-8dd9-4131-81dc-53ab766e8641')\"\n",
              "              title=\"Convert this dataframe to an interactive table.\"\n",
              "              style=\"display:none;\">\n",
              "        \n",
              "  <svg xmlns=\"http://www.w3.org/2000/svg\" height=\"24px\"viewBox=\"0 0 24 24\"\n",
              "       width=\"24px\">\n",
              "    <path d=\"M0 0h24v24H0V0z\" fill=\"none\"/>\n",
              "    <path d=\"M18.56 5.44l.94 2.06.94-2.06 2.06-.94-2.06-.94-.94-2.06-.94 2.06-2.06.94zm-11 1L8.5 8.5l.94-2.06 2.06-.94-2.06-.94L8.5 2.5l-.94 2.06-2.06.94zm10 10l.94 2.06.94-2.06 2.06-.94-2.06-.94-.94-2.06-.94 2.06-2.06.94z\"/><path d=\"M17.41 7.96l-1.37-1.37c-.4-.4-.92-.59-1.43-.59-.52 0-1.04.2-1.43.59L10.3 9.45l-7.72 7.72c-.78.78-.78 2.05 0 2.83L4 21.41c.39.39.9.59 1.41.59.51 0 1.02-.2 1.41-.59l7.78-7.78 2.81-2.81c.8-.78.8-2.07 0-2.86zM5.41 20L4 18.59l7.72-7.72 1.47 1.35L5.41 20z\"/>\n",
              "  </svg>\n",
              "      </button>\n",
              "      \n",
              "  <style>\n",
              "    .colab-df-container {\n",
              "      display:flex;\n",
              "      flex-wrap:wrap;\n",
              "      gap: 12px;\n",
              "    }\n",
              "\n",
              "    .colab-df-convert {\n",
              "      background-color: #E8F0FE;\n",
              "      border: none;\n",
              "      border-radius: 50%;\n",
              "      cursor: pointer;\n",
              "      display: none;\n",
              "      fill: #1967D2;\n",
              "      height: 32px;\n",
              "      padding: 0 0 0 0;\n",
              "      width: 32px;\n",
              "    }\n",
              "\n",
              "    .colab-df-convert:hover {\n",
              "      background-color: #E2EBFA;\n",
              "      box-shadow: 0px 1px 2px rgba(60, 64, 67, 0.3), 0px 1px 3px 1px rgba(60, 64, 67, 0.15);\n",
              "      fill: #174EA6;\n",
              "    }\n",
              "\n",
              "    [theme=dark] .colab-df-convert {\n",
              "      background-color: #3B4455;\n",
              "      fill: #D2E3FC;\n",
              "    }\n",
              "\n",
              "    [theme=dark] .colab-df-convert:hover {\n",
              "      background-color: #434B5C;\n",
              "      box-shadow: 0px 1px 3px 1px rgba(0, 0, 0, 0.15);\n",
              "      filter: drop-shadow(0px 1px 2px rgba(0, 0, 0, 0.3));\n",
              "      fill: #FFFFFF;\n",
              "    }\n",
              "  </style>\n",
              "\n",
              "      <script>\n",
              "        const buttonEl =\n",
              "          document.querySelector('#df-f74eb22a-8dd9-4131-81dc-53ab766e8641 button.colab-df-convert');\n",
              "        buttonEl.style.display =\n",
              "          google.colab.kernel.accessAllowed ? 'block' : 'none';\n",
              "\n",
              "        async function convertToInteractive(key) {\n",
              "          const element = document.querySelector('#df-f74eb22a-8dd9-4131-81dc-53ab766e8641');\n",
              "          const dataTable =\n",
              "            await google.colab.kernel.invokeFunction('convertToInteractive',\n",
              "                                                     [key], {});\n",
              "          if (!dataTable) return;\n",
              "\n",
              "          const docLinkHtml = 'Like what you see? Visit the ' +\n",
              "            '<a target=\"_blank\" href=https://colab.research.google.com/notebooks/data_table.ipynb>data table notebook</a>'\n",
              "            + ' to learn more about interactive tables.';\n",
              "          element.innerHTML = '';\n",
              "          dataTable['output_type'] = 'display_data';\n",
              "          await google.colab.output.renderOutput(dataTable, element);\n",
              "          const docLink = document.createElement('div');\n",
              "          docLink.innerHTML = docLinkHtml;\n",
              "          element.appendChild(docLink);\n",
              "        }\n",
              "      </script>\n",
              "    </div>\n",
              "  </div>\n",
              "  "
            ]
          },
          "metadata": {},
          "execution_count": 37
        }
      ],
      "source": [
        "# Join labels and predictions based on mean movie rating\n",
        "predictions_df = df_test.set_index('Movie').join(ratings_mean)\n",
        "predictions_df.head(5)"
      ]
    },
    {
      "cell_type": "code",
      "source": [
        "predictions_df"
      ],
      "metadata": {
        "colab": {
          "base_uri": "https://localhost:8080/",
          "height": 455
        },
        "id": "jw57GdvtjNdc",
        "outputId": "156a9d45-6c0c-4354-a819-27304ed278c6"
      },
      "execution_count": null,
      "outputs": [
        {
          "output_type": "execute_result",
          "data": {
            "text/plain": [
              "          User  Rating  Rating-Mean\n",
              "Movie                              \n",
              "3      2130480     5.0     0.087911\n",
              "3       795638     5.0     0.087911\n",
              "3       424947     5.0     0.087911\n",
              "3      1370323     4.0     0.087911\n",
              "3       818752     4.0     0.087911\n",
              "...        ...     ...          ...\n",
              "4496   2136927     4.0     0.505377\n",
              "4496   1325506     4.0     0.505377\n",
              "4496    113694     3.0     0.505377\n",
              "4496   1389725     3.0     0.505377\n",
              "4496   1892661     5.0     0.505377\n",
              "\n",
              "[100000 rows x 3 columns]"
            ],
            "text/html": [
              "\n",
              "  <div id=\"df-57fb459d-ca59-4b77-9dab-8d9fde83c526\">\n",
              "    <div class=\"colab-df-container\">\n",
              "      <div>\n",
              "<style scoped>\n",
              "    .dataframe tbody tr th:only-of-type {\n",
              "        vertical-align: middle;\n",
              "    }\n",
              "\n",
              "    .dataframe tbody tr th {\n",
              "        vertical-align: top;\n",
              "    }\n",
              "\n",
              "    .dataframe thead th {\n",
              "        text-align: right;\n",
              "    }\n",
              "</style>\n",
              "<table border=\"1\" class=\"dataframe\">\n",
              "  <thead>\n",
              "    <tr style=\"text-align: right;\">\n",
              "      <th></th>\n",
              "      <th>User</th>\n",
              "      <th>Rating</th>\n",
              "      <th>Rating-Mean</th>\n",
              "    </tr>\n",
              "    <tr>\n",
              "      <th>Movie</th>\n",
              "      <th></th>\n",
              "      <th></th>\n",
              "      <th></th>\n",
              "    </tr>\n",
              "  </thead>\n",
              "  <tbody>\n",
              "    <tr>\n",
              "      <th>3</th>\n",
              "      <td>2130480</td>\n",
              "      <td>5.0</td>\n",
              "      <td>0.087911</td>\n",
              "    </tr>\n",
              "    <tr>\n",
              "      <th>3</th>\n",
              "      <td>795638</td>\n",
              "      <td>5.0</td>\n",
              "      <td>0.087911</td>\n",
              "    </tr>\n",
              "    <tr>\n",
              "      <th>3</th>\n",
              "      <td>424947</td>\n",
              "      <td>5.0</td>\n",
              "      <td>0.087911</td>\n",
              "    </tr>\n",
              "    <tr>\n",
              "      <th>3</th>\n",
              "      <td>1370323</td>\n",
              "      <td>4.0</td>\n",
              "      <td>0.087911</td>\n",
              "    </tr>\n",
              "    <tr>\n",
              "      <th>3</th>\n",
              "      <td>818752</td>\n",
              "      <td>4.0</td>\n",
              "      <td>0.087911</td>\n",
              "    </tr>\n",
              "    <tr>\n",
              "      <th>...</th>\n",
              "      <td>...</td>\n",
              "      <td>...</td>\n",
              "      <td>...</td>\n",
              "    </tr>\n",
              "    <tr>\n",
              "      <th>4496</th>\n",
              "      <td>2136927</td>\n",
              "      <td>4.0</td>\n",
              "      <td>0.505377</td>\n",
              "    </tr>\n",
              "    <tr>\n",
              "      <th>4496</th>\n",
              "      <td>1325506</td>\n",
              "      <td>4.0</td>\n",
              "      <td>0.505377</td>\n",
              "    </tr>\n",
              "    <tr>\n",
              "      <th>4496</th>\n",
              "      <td>113694</td>\n",
              "      <td>3.0</td>\n",
              "      <td>0.505377</td>\n",
              "    </tr>\n",
              "    <tr>\n",
              "      <th>4496</th>\n",
              "      <td>1389725</td>\n",
              "      <td>3.0</td>\n",
              "      <td>0.505377</td>\n",
              "    </tr>\n",
              "    <tr>\n",
              "      <th>4496</th>\n",
              "      <td>1892661</td>\n",
              "      <td>5.0</td>\n",
              "      <td>0.505377</td>\n",
              "    </tr>\n",
              "  </tbody>\n",
              "</table>\n",
              "<p>100000 rows × 3 columns</p>\n",
              "</div>\n",
              "      <button class=\"colab-df-convert\" onclick=\"convertToInteractive('df-57fb459d-ca59-4b77-9dab-8d9fde83c526')\"\n",
              "              title=\"Convert this dataframe to an interactive table.\"\n",
              "              style=\"display:none;\">\n",
              "        \n",
              "  <svg xmlns=\"http://www.w3.org/2000/svg\" height=\"24px\"viewBox=\"0 0 24 24\"\n",
              "       width=\"24px\">\n",
              "    <path d=\"M0 0h24v24H0V0z\" fill=\"none\"/>\n",
              "    <path d=\"M18.56 5.44l.94 2.06.94-2.06 2.06-.94-2.06-.94-.94-2.06-.94 2.06-2.06.94zm-11 1L8.5 8.5l.94-2.06 2.06-.94-2.06-.94L8.5 2.5l-.94 2.06-2.06.94zm10 10l.94 2.06.94-2.06 2.06-.94-2.06-.94-.94-2.06-.94 2.06-2.06.94z\"/><path d=\"M17.41 7.96l-1.37-1.37c-.4-.4-.92-.59-1.43-.59-.52 0-1.04.2-1.43.59L10.3 9.45l-7.72 7.72c-.78.78-.78 2.05 0 2.83L4 21.41c.39.39.9.59 1.41.59.51 0 1.02-.2 1.41-.59l7.78-7.78 2.81-2.81c.8-.78.8-2.07 0-2.86zM5.41 20L4 18.59l7.72-7.72 1.47 1.35L5.41 20z\"/>\n",
              "  </svg>\n",
              "      </button>\n",
              "      \n",
              "  <style>\n",
              "    .colab-df-container {\n",
              "      display:flex;\n",
              "      flex-wrap:wrap;\n",
              "      gap: 12px;\n",
              "    }\n",
              "\n",
              "    .colab-df-convert {\n",
              "      background-color: #E8F0FE;\n",
              "      border: none;\n",
              "      border-radius: 50%;\n",
              "      cursor: pointer;\n",
              "      display: none;\n",
              "      fill: #1967D2;\n",
              "      height: 32px;\n",
              "      padding: 0 0 0 0;\n",
              "      width: 32px;\n",
              "    }\n",
              "\n",
              "    .colab-df-convert:hover {\n",
              "      background-color: #E2EBFA;\n",
              "      box-shadow: 0px 1px 2px rgba(60, 64, 67, 0.3), 0px 1px 3px 1px rgba(60, 64, 67, 0.15);\n",
              "      fill: #174EA6;\n",
              "    }\n",
              "\n",
              "    [theme=dark] .colab-df-convert {\n",
              "      background-color: #3B4455;\n",
              "      fill: #D2E3FC;\n",
              "    }\n",
              "\n",
              "    [theme=dark] .colab-df-convert:hover {\n",
              "      background-color: #434B5C;\n",
              "      box-shadow: 0px 1px 3px 1px rgba(0, 0, 0, 0.15);\n",
              "      filter: drop-shadow(0px 1px 2px rgba(0, 0, 0, 0.3));\n",
              "      fill: #FFFFFF;\n",
              "    }\n",
              "  </style>\n",
              "\n",
              "      <script>\n",
              "        const buttonEl =\n",
              "          document.querySelector('#df-57fb459d-ca59-4b77-9dab-8d9fde83c526 button.colab-df-convert');\n",
              "        buttonEl.style.display =\n",
              "          google.colab.kernel.accessAllowed ? 'block' : 'none';\n",
              "\n",
              "        async function convertToInteractive(key) {\n",
              "          const element = document.querySelector('#df-57fb459d-ca59-4b77-9dab-8d9fde83c526');\n",
              "          const dataTable =\n",
              "            await google.colab.kernel.invokeFunction('convertToInteractive',\n",
              "                                                     [key], {});\n",
              "          if (!dataTable) return;\n",
              "\n",
              "          const docLinkHtml = 'Like what you see? Visit the ' +\n",
              "            '<a target=\"_blank\" href=https://colab.research.google.com/notebooks/data_table.ipynb>data table notebook</a>'\n",
              "            + ' to learn more about interactive tables.';\n",
              "          element.innerHTML = '';\n",
              "          dataTable['output_type'] = 'display_data';\n",
              "          await google.colab.output.renderOutput(dataTable, element);\n",
              "          const docLink = document.createElement('div');\n",
              "          docLink.innerHTML = docLinkHtml;\n",
              "          element.appendChild(docLink);\n",
              "        }\n",
              "      </script>\n",
              "    </div>\n",
              "  </div>\n",
              "  "
            ]
          },
          "metadata": {},
          "execution_count": 38
        }
      ]
    },
    {
      "cell_type": "code",
      "execution_count": null,
      "metadata": {
        "colab": {
          "base_uri": "https://localhost:8080/"
        },
        "id": "9W2txAub24Fs",
        "outputId": "13994e19-952d-4508-8020-00106668d99a"
      },
      "outputs": [
        {
          "output_type": "stream",
          "name": "stdout",
          "text": [
            "The RMSE Value for the Mean Rating Recommender: 2.5010613245594735\n"
          ]
        }
      ],
      "source": [
        "# Compute RMSE\n",
        "y_true = predictions_df['Rating']\n",
        "y_pred = predictions_df['Rating-Mean']\n",
        "\n",
        "rmse = np.sqrt(mean_squared_error(y_true=y_true, y_pred=y_pred))\n",
        "print(\"The RMSE Value for the Mean Rating Recommender:\", rmse)"
      ]
    },
    {
      "cell_type": "code",
      "execution_count": null,
      "metadata": {
        "colab": {
          "base_uri": "https://localhost:8080/",
          "height": 394
        },
        "id": "xda52K1m24Fu",
        "outputId": "0be074ec-3da8-4aea-a846-8a75d8330eee"
      },
      "outputs": [
        {
          "output_type": "execute_result",
          "data": {
            "text/plain": [
              "                                                    Name  Rating-Mean\n",
              "Movie                                                                \n",
              "4306                                     The Sixth Sense     4.020933\n",
              "2452       Lord of the Rings: The Fellowship of the Ring     3.953236\n",
              "2862                            The Silence of the Lambs     3.933647\n",
              "1905   Pirates of the Caribbean: The Curse of the Bla...     3.876944\n",
              "2782                                          Braveheart     3.704628\n",
              "3962                           Finding Nemo (Widescreen)     3.670108\n",
              "571                                      American Beauty     3.398694\n",
              "798                                                 Jaws     3.337862\n",
              "3938                                             Shrek 2     3.300989\n",
              "1798                                       Lethal Weapon     3.270213"
            ],
            "text/html": [
              "\n",
              "  <div id=\"df-79024f33-ae85-4ade-aea2-d1094661b3df\">\n",
              "    <div class=\"colab-df-container\">\n",
              "      <div>\n",
              "<style scoped>\n",
              "    .dataframe tbody tr th:only-of-type {\n",
              "        vertical-align: middle;\n",
              "    }\n",
              "\n",
              "    .dataframe tbody tr th {\n",
              "        vertical-align: top;\n",
              "    }\n",
              "\n",
              "    .dataframe thead th {\n",
              "        text-align: right;\n",
              "    }\n",
              "</style>\n",
              "<table border=\"1\" class=\"dataframe\">\n",
              "  <thead>\n",
              "    <tr style=\"text-align: right;\">\n",
              "      <th></th>\n",
              "      <th>Name</th>\n",
              "      <th>Rating-Mean</th>\n",
              "    </tr>\n",
              "    <tr>\n",
              "      <th>Movie</th>\n",
              "      <th></th>\n",
              "      <th></th>\n",
              "    </tr>\n",
              "  </thead>\n",
              "  <tbody>\n",
              "    <tr>\n",
              "      <th>4306</th>\n",
              "      <td>The Sixth Sense</td>\n",
              "      <td>4.020933</td>\n",
              "    </tr>\n",
              "    <tr>\n",
              "      <th>2452</th>\n",
              "      <td>Lord of the Rings: The Fellowship of the Ring</td>\n",
              "      <td>3.953236</td>\n",
              "    </tr>\n",
              "    <tr>\n",
              "      <th>2862</th>\n",
              "      <td>The Silence of the Lambs</td>\n",
              "      <td>3.933647</td>\n",
              "    </tr>\n",
              "    <tr>\n",
              "      <th>1905</th>\n",
              "      <td>Pirates of the Caribbean: The Curse of the Bla...</td>\n",
              "      <td>3.876944</td>\n",
              "    </tr>\n",
              "    <tr>\n",
              "      <th>2782</th>\n",
              "      <td>Braveheart</td>\n",
              "      <td>3.704628</td>\n",
              "    </tr>\n",
              "    <tr>\n",
              "      <th>3962</th>\n",
              "      <td>Finding Nemo (Widescreen)</td>\n",
              "      <td>3.670108</td>\n",
              "    </tr>\n",
              "    <tr>\n",
              "      <th>571</th>\n",
              "      <td>American Beauty</td>\n",
              "      <td>3.398694</td>\n",
              "    </tr>\n",
              "    <tr>\n",
              "      <th>798</th>\n",
              "      <td>Jaws</td>\n",
              "      <td>3.337862</td>\n",
              "    </tr>\n",
              "    <tr>\n",
              "      <th>3938</th>\n",
              "      <td>Shrek 2</td>\n",
              "      <td>3.300989</td>\n",
              "    </tr>\n",
              "    <tr>\n",
              "      <th>1798</th>\n",
              "      <td>Lethal Weapon</td>\n",
              "      <td>3.270213</td>\n",
              "    </tr>\n",
              "  </tbody>\n",
              "</table>\n",
              "</div>\n",
              "      <button class=\"colab-df-convert\" onclick=\"convertToInteractive('df-79024f33-ae85-4ade-aea2-d1094661b3df')\"\n",
              "              title=\"Convert this dataframe to an interactive table.\"\n",
              "              style=\"display:none;\">\n",
              "        \n",
              "  <svg xmlns=\"http://www.w3.org/2000/svg\" height=\"24px\"viewBox=\"0 0 24 24\"\n",
              "       width=\"24px\">\n",
              "    <path d=\"M0 0h24v24H0V0z\" fill=\"none\"/>\n",
              "    <path d=\"M18.56 5.44l.94 2.06.94-2.06 2.06-.94-2.06-.94-.94-2.06-.94 2.06-2.06.94zm-11 1L8.5 8.5l.94-2.06 2.06-.94-2.06-.94L8.5 2.5l-.94 2.06-2.06.94zm10 10l.94 2.06.94-2.06 2.06-.94-2.06-.94-.94-2.06-.94 2.06-2.06.94z\"/><path d=\"M17.41 7.96l-1.37-1.37c-.4-.4-.92-.59-1.43-.59-.52 0-1.04.2-1.43.59L10.3 9.45l-7.72 7.72c-.78.78-.78 2.05 0 2.83L4 21.41c.39.39.9.59 1.41.59.51 0 1.02-.2 1.41-.59l7.78-7.78 2.81-2.81c.8-.78.8-2.07 0-2.86zM5.41 20L4 18.59l7.72-7.72 1.47 1.35L5.41 20z\"/>\n",
              "  </svg>\n",
              "      </button>\n",
              "      \n",
              "  <style>\n",
              "    .colab-df-container {\n",
              "      display:flex;\n",
              "      flex-wrap:wrap;\n",
              "      gap: 12px;\n",
              "    }\n",
              "\n",
              "    .colab-df-convert {\n",
              "      background-color: #E8F0FE;\n",
              "      border: none;\n",
              "      border-radius: 50%;\n",
              "      cursor: pointer;\n",
              "      display: none;\n",
              "      fill: #1967D2;\n",
              "      height: 32px;\n",
              "      padding: 0 0 0 0;\n",
              "      width: 32px;\n",
              "    }\n",
              "\n",
              "    .colab-df-convert:hover {\n",
              "      background-color: #E2EBFA;\n",
              "      box-shadow: 0px 1px 2px rgba(60, 64, 67, 0.3), 0px 1px 3px 1px rgba(60, 64, 67, 0.15);\n",
              "      fill: #174EA6;\n",
              "    }\n",
              "\n",
              "    [theme=dark] .colab-df-convert {\n",
              "      background-color: #3B4455;\n",
              "      fill: #D2E3FC;\n",
              "    }\n",
              "\n",
              "    [theme=dark] .colab-df-convert:hover {\n",
              "      background-color: #434B5C;\n",
              "      box-shadow: 0px 1px 3px 1px rgba(0, 0, 0, 0.15);\n",
              "      filter: drop-shadow(0px 1px 2px rgba(0, 0, 0, 0.3));\n",
              "      fill: #FFFFFF;\n",
              "    }\n",
              "  </style>\n",
              "\n",
              "      <script>\n",
              "        const buttonEl =\n",
              "          document.querySelector('#df-79024f33-ae85-4ade-aea2-d1094661b3df button.colab-df-convert');\n",
              "        buttonEl.style.display =\n",
              "          google.colab.kernel.accessAllowed ? 'block' : 'none';\n",
              "\n",
              "        async function convertToInteractive(key) {\n",
              "          const element = document.querySelector('#df-79024f33-ae85-4ade-aea2-d1094661b3df');\n",
              "          const dataTable =\n",
              "            await google.colab.kernel.invokeFunction('convertToInteractive',\n",
              "                                                     [key], {});\n",
              "          if (!dataTable) return;\n",
              "\n",
              "          const docLinkHtml = 'Like what you see? Visit the ' +\n",
              "            '<a target=\"_blank\" href=https://colab.research.google.com/notebooks/data_table.ipynb>data table notebook</a>'\n",
              "            + ' to learn more about interactive tables.';\n",
              "          element.innerHTML = '';\n",
              "          dataTable['output_type'] = 'display_data';\n",
              "          await google.colab.output.renderOutput(dataTable, element);\n",
              "          const docLink = document.createElement('div');\n",
              "          docLink.innerHTML = docLinkHtml;\n",
              "          element.appendChild(docLink);\n",
              "        }\n",
              "      </script>\n",
              "    </div>\n",
              "  </div>\n",
              "  "
            ]
          },
          "metadata": {},
          "execution_count": 40
        }
      ],
      "source": [
        "# View top ten rated movies\n",
        "combined_df[['Name', 'Rating-Mean']].head(10)"
      ]
    },
    {
      "cell_type": "markdown",
      "metadata": {
        "id": "iFalvivYD1Is"
      },
      "source": [
        "## Q 8.1(b): Global Recommendation Systems (Weighted Rating)\n",
        "\n",
        "To tackle the problem of the unstable mean with few ratings e.g. IDMb uses a weighted rating. Many good ratings outweigh few in this algorithm.\n",
        "\n",
        "### Hint:\n",
        "\n",
        "Weighted Rating Formula\n",
        "\n",
        "weighted rating (𝑊𝑅)=(𝑣/(𝑣+𝑚))𝑅+(𝑚/(𝑣+𝑚))𝐶\n",
        "\n",
        "where:\n",
        "\n",
        "*𝑅* = average for the movie (mean) = (Rating)\n",
        "\n",
        "*𝑣* = number of votes for the movie = (votes)\n",
        "\n",
        "*𝑚* = minimum votes required \n",
        "\n",
        "*𝐶* = the mean vote across the whole report \n",
        "\n",
        "__Your Turn:__ Fill in the necessary code snippets below to build and test the model\n"
      ]
    },
    {
      "cell_type": "code",
      "execution_count": null,
      "metadata": {
        "id": "GVfj7TPz24Fz"
      },
      "outputs": [],
      "source": [
        "# Number of minimum votes to be considered\n",
        "m = 1000\n",
        "\n",
        "# Mean rating for all movies\n",
        "C = df_p.stack().mean()\n",
        "\n",
        "# Mean rating for all movies separately\n",
        "R = df_p.mean(axis=0).values\n",
        "\n",
        "# Rating freqency for all movies separately\n",
        "v = df_p.count().values"
      ]
    },
    {
      "cell_type": "code",
      "source": [
        "m, C, R, v\n"
      ],
      "metadata": {
        "colab": {
          "base_uri": "https://localhost:8080/"
        },
        "id": "UpDhynwHmgQW",
        "outputId": "61cb43d2-34fb-4a06-a4be-c3208f5f08e2"
      },
      "execution_count": null,
      "outputs": [
        {
          "output_type": "execute_result",
          "data": {
            "text/plain": [
              "(1000,\n",
              " 0.5576134256595995,\n",
              " array([0.08791051, 0.04513155, 0.04109852, ..., 0.36830229, 0.27088535,\n",
              "        0.50537738]),\n",
              " array([20828, 20828, 20828, ..., 20828, 20828, 20828]))"
            ]
          },
          "metadata": {},
          "execution_count": 42
        }
      ]
    },
    {
      "cell_type": "code",
      "source": [
        "print(R.shape)\n",
        "print(v.shape)"
      ],
      "metadata": {
        "colab": {
          "base_uri": "https://localhost:8080/"
        },
        "id": "vdLUAaQ8m0En",
        "outputId": "7858ac2a-0b0b-4872-c822-a00eeba853c5"
      },
      "execution_count": null,
      "outputs": [
        {
          "output_type": "stream",
          "name": "stdout",
          "text": [
            "(1741,)\n",
            "(1741,)\n"
          ]
        }
      ]
    },
    {
      "cell_type": "code",
      "execution_count": null,
      "metadata": {
        "colab": {
          "base_uri": "https://localhost:8080/"
        },
        "id": "Ntm_D7Yl24F1",
        "outputId": "e67cd810-8f44-4aeb-a1e9-af97dc05d2cb"
      },
      "outputs": [
        {
          "output_type": "stream",
          "name": "stdout",
          "text": [
            "(1741,)\n"
          ]
        }
      ],
      "source": [
        "# Weighted formula to compute the weighted rating\n",
        "weighted_score = (v/(v+m))*R + (m/(v+m))*C\n",
        "print(weighted_score.shape)"
      ]
    },
    {
      "cell_type": "code",
      "execution_count": null,
      "metadata": {
        "colab": {
          "base_uri": "https://localhost:8080/",
          "height": 238
        },
        "id": "YQe4smBk24F3",
        "outputId": "3fb16a1c-c98a-4139-cf3e-4229f057d42d"
      },
      "outputs": [
        {
          "output_type": "execute_result",
          "data": {
            "text/plain": [
              "       Rating-Mean  Rating-Freq    Year  \\\n",
              "Movie                                     \n",
              "4306      4.020933        20828  1999.0   \n",
              "2452      3.953236        20828  2001.0   \n",
              "2862      3.933647        20828  1991.0   \n",
              "1905      3.876944        20828  2003.0   \n",
              "2782      3.704628        20828  1995.0   \n",
              "\n",
              "                                                    Name  Weighted-Mean  \n",
              "Movie                                                                    \n",
              "4306                                     The Sixth Sense       3.862269  \n",
              "2452       Lord of the Rings: The Fellowship of the Ring       3.797673  \n",
              "2862                            The Silence of the Lambs       3.778982  \n",
              "1905   Pirates of the Caribbean: The Curse of the Bla...       3.724877  \n",
              "2782                                          Braveheart       3.560455  "
            ],
            "text/html": [
              "\n",
              "  <div id=\"df-e8b8d70a-ca76-432a-b463-7d005c968608\">\n",
              "    <div class=\"colab-df-container\">\n",
              "      <div>\n",
              "<style scoped>\n",
              "    .dataframe tbody tr th:only-of-type {\n",
              "        vertical-align: middle;\n",
              "    }\n",
              "\n",
              "    .dataframe tbody tr th {\n",
              "        vertical-align: top;\n",
              "    }\n",
              "\n",
              "    .dataframe thead th {\n",
              "        text-align: right;\n",
              "    }\n",
              "</style>\n",
              "<table border=\"1\" class=\"dataframe\">\n",
              "  <thead>\n",
              "    <tr style=\"text-align: right;\">\n",
              "      <th></th>\n",
              "      <th>Rating-Mean</th>\n",
              "      <th>Rating-Freq</th>\n",
              "      <th>Year</th>\n",
              "      <th>Name</th>\n",
              "      <th>Weighted-Mean</th>\n",
              "    </tr>\n",
              "    <tr>\n",
              "      <th>Movie</th>\n",
              "      <th></th>\n",
              "      <th></th>\n",
              "      <th></th>\n",
              "      <th></th>\n",
              "      <th></th>\n",
              "    </tr>\n",
              "  </thead>\n",
              "  <tbody>\n",
              "    <tr>\n",
              "      <th>4306</th>\n",
              "      <td>4.020933</td>\n",
              "      <td>20828</td>\n",
              "      <td>1999.0</td>\n",
              "      <td>The Sixth Sense</td>\n",
              "      <td>3.862269</td>\n",
              "    </tr>\n",
              "    <tr>\n",
              "      <th>2452</th>\n",
              "      <td>3.953236</td>\n",
              "      <td>20828</td>\n",
              "      <td>2001.0</td>\n",
              "      <td>Lord of the Rings: The Fellowship of the Ring</td>\n",
              "      <td>3.797673</td>\n",
              "    </tr>\n",
              "    <tr>\n",
              "      <th>2862</th>\n",
              "      <td>3.933647</td>\n",
              "      <td>20828</td>\n",
              "      <td>1991.0</td>\n",
              "      <td>The Silence of the Lambs</td>\n",
              "      <td>3.778982</td>\n",
              "    </tr>\n",
              "    <tr>\n",
              "      <th>1905</th>\n",
              "      <td>3.876944</td>\n",
              "      <td>20828</td>\n",
              "      <td>2003.0</td>\n",
              "      <td>Pirates of the Caribbean: The Curse of the Bla...</td>\n",
              "      <td>3.724877</td>\n",
              "    </tr>\n",
              "    <tr>\n",
              "      <th>2782</th>\n",
              "      <td>3.704628</td>\n",
              "      <td>20828</td>\n",
              "      <td>1995.0</td>\n",
              "      <td>Braveheart</td>\n",
              "      <td>3.560455</td>\n",
              "    </tr>\n",
              "  </tbody>\n",
              "</table>\n",
              "</div>\n",
              "      <button class=\"colab-df-convert\" onclick=\"convertToInteractive('df-e8b8d70a-ca76-432a-b463-7d005c968608')\"\n",
              "              title=\"Convert this dataframe to an interactive table.\"\n",
              "              style=\"display:none;\">\n",
              "        \n",
              "  <svg xmlns=\"http://www.w3.org/2000/svg\" height=\"24px\"viewBox=\"0 0 24 24\"\n",
              "       width=\"24px\">\n",
              "    <path d=\"M0 0h24v24H0V0z\" fill=\"none\"/>\n",
              "    <path d=\"M18.56 5.44l.94 2.06.94-2.06 2.06-.94-2.06-.94-.94-2.06-.94 2.06-2.06.94zm-11 1L8.5 8.5l.94-2.06 2.06-.94-2.06-.94L8.5 2.5l-.94 2.06-2.06.94zm10 10l.94 2.06.94-2.06 2.06-.94-2.06-.94-.94-2.06-.94 2.06-2.06.94z\"/><path d=\"M17.41 7.96l-1.37-1.37c-.4-.4-.92-.59-1.43-.59-.52 0-1.04.2-1.43.59L10.3 9.45l-7.72 7.72c-.78.78-.78 2.05 0 2.83L4 21.41c.39.39.9.59 1.41.59.51 0 1.02-.2 1.41-.59l7.78-7.78 2.81-2.81c.8-.78.8-2.07 0-2.86zM5.41 20L4 18.59l7.72-7.72 1.47 1.35L5.41 20z\"/>\n",
              "  </svg>\n",
              "      </button>\n",
              "      \n",
              "  <style>\n",
              "    .colab-df-container {\n",
              "      display:flex;\n",
              "      flex-wrap:wrap;\n",
              "      gap: 12px;\n",
              "    }\n",
              "\n",
              "    .colab-df-convert {\n",
              "      background-color: #E8F0FE;\n",
              "      border: none;\n",
              "      border-radius: 50%;\n",
              "      cursor: pointer;\n",
              "      display: none;\n",
              "      fill: #1967D2;\n",
              "      height: 32px;\n",
              "      padding: 0 0 0 0;\n",
              "      width: 32px;\n",
              "    }\n",
              "\n",
              "    .colab-df-convert:hover {\n",
              "      background-color: #E2EBFA;\n",
              "      box-shadow: 0px 1px 2px rgba(60, 64, 67, 0.3), 0px 1px 3px 1px rgba(60, 64, 67, 0.15);\n",
              "      fill: #174EA6;\n",
              "    }\n",
              "\n",
              "    [theme=dark] .colab-df-convert {\n",
              "      background-color: #3B4455;\n",
              "      fill: #D2E3FC;\n",
              "    }\n",
              "\n",
              "    [theme=dark] .colab-df-convert:hover {\n",
              "      background-color: #434B5C;\n",
              "      box-shadow: 0px 1px 3px 1px rgba(0, 0, 0, 0.15);\n",
              "      filter: drop-shadow(0px 1px 2px rgba(0, 0, 0, 0.3));\n",
              "      fill: #FFFFFF;\n",
              "    }\n",
              "  </style>\n",
              "\n",
              "      <script>\n",
              "        const buttonEl =\n",
              "          document.querySelector('#df-e8b8d70a-ca76-432a-b463-7d005c968608 button.colab-df-convert');\n",
              "        buttonEl.style.display =\n",
              "          google.colab.kernel.accessAllowed ? 'block' : 'none';\n",
              "\n",
              "        async function convertToInteractive(key) {\n",
              "          const element = document.querySelector('#df-e8b8d70a-ca76-432a-b463-7d005c968608');\n",
              "          const dataTable =\n",
              "            await google.colab.kernel.invokeFunction('convertToInteractive',\n",
              "                                                     [key], {});\n",
              "          if (!dataTable) return;\n",
              "\n",
              "          const docLinkHtml = 'Like what you see? Visit the ' +\n",
              "            '<a target=\"_blank\" href=https://colab.research.google.com/notebooks/data_table.ipynb>data table notebook</a>'\n",
              "            + ' to learn more about interactive tables.';\n",
              "          element.innerHTML = '';\n",
              "          dataTable['output_type'] = 'display_data';\n",
              "          await google.colab.output.renderOutput(dataTable, element);\n",
              "          const docLink = document.createElement('div');\n",
              "          docLink.innerHTML = docLinkHtml;\n",
              "          element.appendChild(docLink);\n",
              "        }\n",
              "      </script>\n",
              "    </div>\n",
              "  </div>\n",
              "  "
            ]
          },
          "metadata": {},
          "execution_count": 45
        }
      ],
      "source": [
        "# convert weighted_score into a dataframe\n",
        "weighted_mean = pd.DataFrame(weighted_score, columns=['Weighted-Mean'], index=df_p.columns)\n",
        "\n",
        "# Combine the aggregated dataframes (wighted_mean & movie_titles)\n",
        "combined_df = combined_df.join(weighted_mean)\n",
        "combined_df.head(5)"
      ]
    },
    {
      "cell_type": "code",
      "execution_count": null,
      "metadata": {
        "colab": {
          "base_uri": "https://localhost:8080/",
          "height": 238
        },
        "id": "jMd68xuj24F5",
        "outputId": "9b5d9835-3fe8-47ec-8bba-d7c699316179"
      },
      "outputs": [
        {
          "output_type": "execute_result",
          "data": {
            "text/plain": [
              "          User  Rating  Weighted-Mean\n",
              "Movie                                \n",
              "3      2130480     5.0       0.109429\n",
              "3       795638     5.0       0.109429\n",
              "3       424947     5.0       0.109429\n",
              "3      1370323     4.0       0.109429\n",
              "3       818752     4.0       0.109429"
            ],
            "text/html": [
              "\n",
              "  <div id=\"df-9b8ef924-807f-41cf-a85b-c1872f331fc0\">\n",
              "    <div class=\"colab-df-container\">\n",
              "      <div>\n",
              "<style scoped>\n",
              "    .dataframe tbody tr th:only-of-type {\n",
              "        vertical-align: middle;\n",
              "    }\n",
              "\n",
              "    .dataframe tbody tr th {\n",
              "        vertical-align: top;\n",
              "    }\n",
              "\n",
              "    .dataframe thead th {\n",
              "        text-align: right;\n",
              "    }\n",
              "</style>\n",
              "<table border=\"1\" class=\"dataframe\">\n",
              "  <thead>\n",
              "    <tr style=\"text-align: right;\">\n",
              "      <th></th>\n",
              "      <th>User</th>\n",
              "      <th>Rating</th>\n",
              "      <th>Weighted-Mean</th>\n",
              "    </tr>\n",
              "    <tr>\n",
              "      <th>Movie</th>\n",
              "      <th></th>\n",
              "      <th></th>\n",
              "      <th></th>\n",
              "    </tr>\n",
              "  </thead>\n",
              "  <tbody>\n",
              "    <tr>\n",
              "      <th>3</th>\n",
              "      <td>2130480</td>\n",
              "      <td>5.0</td>\n",
              "      <td>0.109429</td>\n",
              "    </tr>\n",
              "    <tr>\n",
              "      <th>3</th>\n",
              "      <td>795638</td>\n",
              "      <td>5.0</td>\n",
              "      <td>0.109429</td>\n",
              "    </tr>\n",
              "    <tr>\n",
              "      <th>3</th>\n",
              "      <td>424947</td>\n",
              "      <td>5.0</td>\n",
              "      <td>0.109429</td>\n",
              "    </tr>\n",
              "    <tr>\n",
              "      <th>3</th>\n",
              "      <td>1370323</td>\n",
              "      <td>4.0</td>\n",
              "      <td>0.109429</td>\n",
              "    </tr>\n",
              "    <tr>\n",
              "      <th>3</th>\n",
              "      <td>818752</td>\n",
              "      <td>4.0</td>\n",
              "      <td>0.109429</td>\n",
              "    </tr>\n",
              "  </tbody>\n",
              "</table>\n",
              "</div>\n",
              "      <button class=\"colab-df-convert\" onclick=\"convertToInteractive('df-9b8ef924-807f-41cf-a85b-c1872f331fc0')\"\n",
              "              title=\"Convert this dataframe to an interactive table.\"\n",
              "              style=\"display:none;\">\n",
              "        \n",
              "  <svg xmlns=\"http://www.w3.org/2000/svg\" height=\"24px\"viewBox=\"0 0 24 24\"\n",
              "       width=\"24px\">\n",
              "    <path d=\"M0 0h24v24H0V0z\" fill=\"none\"/>\n",
              "    <path d=\"M18.56 5.44l.94 2.06.94-2.06 2.06-.94-2.06-.94-.94-2.06-.94 2.06-2.06.94zm-11 1L8.5 8.5l.94-2.06 2.06-.94-2.06-.94L8.5 2.5l-.94 2.06-2.06.94zm10 10l.94 2.06.94-2.06 2.06-.94-2.06-.94-.94-2.06-.94 2.06-2.06.94z\"/><path d=\"M17.41 7.96l-1.37-1.37c-.4-.4-.92-.59-1.43-.59-.52 0-1.04.2-1.43.59L10.3 9.45l-7.72 7.72c-.78.78-.78 2.05 0 2.83L4 21.41c.39.39.9.59 1.41.59.51 0 1.02-.2 1.41-.59l7.78-7.78 2.81-2.81c.8-.78.8-2.07 0-2.86zM5.41 20L4 18.59l7.72-7.72 1.47 1.35L5.41 20z\"/>\n",
              "  </svg>\n",
              "      </button>\n",
              "      \n",
              "  <style>\n",
              "    .colab-df-container {\n",
              "      display:flex;\n",
              "      flex-wrap:wrap;\n",
              "      gap: 12px;\n",
              "    }\n",
              "\n",
              "    .colab-df-convert {\n",
              "      background-color: #E8F0FE;\n",
              "      border: none;\n",
              "      border-radius: 50%;\n",
              "      cursor: pointer;\n",
              "      display: none;\n",
              "      fill: #1967D2;\n",
              "      height: 32px;\n",
              "      padding: 0 0 0 0;\n",
              "      width: 32px;\n",
              "    }\n",
              "\n",
              "    .colab-df-convert:hover {\n",
              "      background-color: #E2EBFA;\n",
              "      box-shadow: 0px 1px 2px rgba(60, 64, 67, 0.3), 0px 1px 3px 1px rgba(60, 64, 67, 0.15);\n",
              "      fill: #174EA6;\n",
              "    }\n",
              "\n",
              "    [theme=dark] .colab-df-convert {\n",
              "      background-color: #3B4455;\n",
              "      fill: #D2E3FC;\n",
              "    }\n",
              "\n",
              "    [theme=dark] .colab-df-convert:hover {\n",
              "      background-color: #434B5C;\n",
              "      box-shadow: 0px 1px 3px 1px rgba(0, 0, 0, 0.15);\n",
              "      filter: drop-shadow(0px 1px 2px rgba(0, 0, 0, 0.3));\n",
              "      fill: #FFFFFF;\n",
              "    }\n",
              "  </style>\n",
              "\n",
              "      <script>\n",
              "        const buttonEl =\n",
              "          document.querySelector('#df-9b8ef924-807f-41cf-a85b-c1872f331fc0 button.colab-df-convert');\n",
              "        buttonEl.style.display =\n",
              "          google.colab.kernel.accessAllowed ? 'block' : 'none';\n",
              "\n",
              "        async function convertToInteractive(key) {\n",
              "          const element = document.querySelector('#df-9b8ef924-807f-41cf-a85b-c1872f331fc0');\n",
              "          const dataTable =\n",
              "            await google.colab.kernel.invokeFunction('convertToInteractive',\n",
              "                                                     [key], {});\n",
              "          if (!dataTable) return;\n",
              "\n",
              "          const docLinkHtml = 'Like what you see? Visit the ' +\n",
              "            '<a target=\"_blank\" href=https://colab.research.google.com/notebooks/data_table.ipynb>data table notebook</a>'\n",
              "            + ' to learn more about interactive tables.';\n",
              "          element.innerHTML = '';\n",
              "          dataTable['output_type'] = 'display_data';\n",
              "          await google.colab.output.renderOutput(dataTable, element);\n",
              "          const docLink = document.createElement('div');\n",
              "          docLink.innerHTML = docLinkHtml;\n",
              "          element.appendChild(docLink);\n",
              "        }\n",
              "      </script>\n",
              "    </div>\n",
              "  </div>\n",
              "  "
            ]
          },
          "metadata": {},
          "execution_count": 46
        }
      ],
      "source": [
        "# Join labels and predictions based on mean movie rating\n",
        "predictions_df = df_test.set_index('Movie').join(weighted_mean)\n",
        "predictions_df.head(5)"
      ]
    },
    {
      "cell_type": "code",
      "execution_count": null,
      "metadata": {
        "colab": {
          "base_uri": "https://localhost:8080/"
        },
        "id": "HdCxHIO424F8",
        "outputId": "6fba3b26-1ded-499c-cbb5-42f989780b2d"
      },
      "outputs": [
        {
          "output_type": "stream",
          "name": "stdout",
          "text": [
            "The RMSE Value for the Weighted-Mean Rating Recommender: 2.5189687183157545\n"
          ]
        }
      ],
      "source": [
        "# Compute RMSE\n",
        "# Compute RMSE\n",
        "y_true = predictions_df['Rating']\n",
        "y_pred = predictions_df['Weighted-Mean']\n",
        "\n",
        "rmse = np.sqrt(mean_squared_error(y_true=y_true, y_pred=y_pred))\n",
        "print(\"The RMSE Value for the Weighted-Mean Rating Recommender:\", rmse)\n"
      ]
    },
    {
      "cell_type": "code",
      "execution_count": null,
      "metadata": {
        "colab": {
          "base_uri": "https://localhost:8080/",
          "height": 394
        },
        "id": "gt1Q5Mh124F-",
        "outputId": "ac5a0d03-d323-4731-fa6c-edc0cd4cf8e6"
      },
      "outputs": [
        {
          "output_type": "execute_result",
          "data": {
            "text/plain": [
              "                                                    Name  Weighted-Mean\n",
              "Movie                                                                  \n",
              "4306                                     The Sixth Sense       3.862269\n",
              "2452       Lord of the Rings: The Fellowship of the Ring       3.797673\n",
              "2862                            The Silence of the Lambs       3.778982\n",
              "1905   Pirates of the Caribbean: The Curse of the Bla...       3.724877\n",
              "2782                                          Braveheart       3.560455\n",
              "3962                           Finding Nemo (Widescreen)       3.527516\n",
              "571                                      American Beauty       3.268536\n",
              "798                                                 Jaws       3.210492\n",
              "3938                                             Shrek 2       3.175308\n",
              "1798                                       Lethal Weapon       3.145942"
            ],
            "text/html": [
              "\n",
              "  <div id=\"df-74d715bd-3016-4d6c-83f1-da5c17083087\">\n",
              "    <div class=\"colab-df-container\">\n",
              "      <div>\n",
              "<style scoped>\n",
              "    .dataframe tbody tr th:only-of-type {\n",
              "        vertical-align: middle;\n",
              "    }\n",
              "\n",
              "    .dataframe tbody tr th {\n",
              "        vertical-align: top;\n",
              "    }\n",
              "\n",
              "    .dataframe thead th {\n",
              "        text-align: right;\n",
              "    }\n",
              "</style>\n",
              "<table border=\"1\" class=\"dataframe\">\n",
              "  <thead>\n",
              "    <tr style=\"text-align: right;\">\n",
              "      <th></th>\n",
              "      <th>Name</th>\n",
              "      <th>Weighted-Mean</th>\n",
              "    </tr>\n",
              "    <tr>\n",
              "      <th>Movie</th>\n",
              "      <th></th>\n",
              "      <th></th>\n",
              "    </tr>\n",
              "  </thead>\n",
              "  <tbody>\n",
              "    <tr>\n",
              "      <th>4306</th>\n",
              "      <td>The Sixth Sense</td>\n",
              "      <td>3.862269</td>\n",
              "    </tr>\n",
              "    <tr>\n",
              "      <th>2452</th>\n",
              "      <td>Lord of the Rings: The Fellowship of the Ring</td>\n",
              "      <td>3.797673</td>\n",
              "    </tr>\n",
              "    <tr>\n",
              "      <th>2862</th>\n",
              "      <td>The Silence of the Lambs</td>\n",
              "      <td>3.778982</td>\n",
              "    </tr>\n",
              "    <tr>\n",
              "      <th>1905</th>\n",
              "      <td>Pirates of the Caribbean: The Curse of the Bla...</td>\n",
              "      <td>3.724877</td>\n",
              "    </tr>\n",
              "    <tr>\n",
              "      <th>2782</th>\n",
              "      <td>Braveheart</td>\n",
              "      <td>3.560455</td>\n",
              "    </tr>\n",
              "    <tr>\n",
              "      <th>3962</th>\n",
              "      <td>Finding Nemo (Widescreen)</td>\n",
              "      <td>3.527516</td>\n",
              "    </tr>\n",
              "    <tr>\n",
              "      <th>571</th>\n",
              "      <td>American Beauty</td>\n",
              "      <td>3.268536</td>\n",
              "    </tr>\n",
              "    <tr>\n",
              "      <th>798</th>\n",
              "      <td>Jaws</td>\n",
              "      <td>3.210492</td>\n",
              "    </tr>\n",
              "    <tr>\n",
              "      <th>3938</th>\n",
              "      <td>Shrek 2</td>\n",
              "      <td>3.175308</td>\n",
              "    </tr>\n",
              "    <tr>\n",
              "      <th>1798</th>\n",
              "      <td>Lethal Weapon</td>\n",
              "      <td>3.145942</td>\n",
              "    </tr>\n",
              "  </tbody>\n",
              "</table>\n",
              "</div>\n",
              "      <button class=\"colab-df-convert\" onclick=\"convertToInteractive('df-74d715bd-3016-4d6c-83f1-da5c17083087')\"\n",
              "              title=\"Convert this dataframe to an interactive table.\"\n",
              "              style=\"display:none;\">\n",
              "        \n",
              "  <svg xmlns=\"http://www.w3.org/2000/svg\" height=\"24px\"viewBox=\"0 0 24 24\"\n",
              "       width=\"24px\">\n",
              "    <path d=\"M0 0h24v24H0V0z\" fill=\"none\"/>\n",
              "    <path d=\"M18.56 5.44l.94 2.06.94-2.06 2.06-.94-2.06-.94-.94-2.06-.94 2.06-2.06.94zm-11 1L8.5 8.5l.94-2.06 2.06-.94-2.06-.94L8.5 2.5l-.94 2.06-2.06.94zm10 10l.94 2.06.94-2.06 2.06-.94-2.06-.94-.94-2.06-.94 2.06-2.06.94z\"/><path d=\"M17.41 7.96l-1.37-1.37c-.4-.4-.92-.59-1.43-.59-.52 0-1.04.2-1.43.59L10.3 9.45l-7.72 7.72c-.78.78-.78 2.05 0 2.83L4 21.41c.39.39.9.59 1.41.59.51 0 1.02-.2 1.41-.59l7.78-7.78 2.81-2.81c.8-.78.8-2.07 0-2.86zM5.41 20L4 18.59l7.72-7.72 1.47 1.35L5.41 20z\"/>\n",
              "  </svg>\n",
              "      </button>\n",
              "      \n",
              "  <style>\n",
              "    .colab-df-container {\n",
              "      display:flex;\n",
              "      flex-wrap:wrap;\n",
              "      gap: 12px;\n",
              "    }\n",
              "\n",
              "    .colab-df-convert {\n",
              "      background-color: #E8F0FE;\n",
              "      border: none;\n",
              "      border-radius: 50%;\n",
              "      cursor: pointer;\n",
              "      display: none;\n",
              "      fill: #1967D2;\n",
              "      height: 32px;\n",
              "      padding: 0 0 0 0;\n",
              "      width: 32px;\n",
              "    }\n",
              "\n",
              "    .colab-df-convert:hover {\n",
              "      background-color: #E2EBFA;\n",
              "      box-shadow: 0px 1px 2px rgba(60, 64, 67, 0.3), 0px 1px 3px 1px rgba(60, 64, 67, 0.15);\n",
              "      fill: #174EA6;\n",
              "    }\n",
              "\n",
              "    [theme=dark] .colab-df-convert {\n",
              "      background-color: #3B4455;\n",
              "      fill: #D2E3FC;\n",
              "    }\n",
              "\n",
              "    [theme=dark] .colab-df-convert:hover {\n",
              "      background-color: #434B5C;\n",
              "      box-shadow: 0px 1px 3px 1px rgba(0, 0, 0, 0.15);\n",
              "      filter: drop-shadow(0px 1px 2px rgba(0, 0, 0, 0.3));\n",
              "      fill: #FFFFFF;\n",
              "    }\n",
              "  </style>\n",
              "\n",
              "      <script>\n",
              "        const buttonEl =\n",
              "          document.querySelector('#df-74d715bd-3016-4d6c-83f1-da5c17083087 button.colab-df-convert');\n",
              "        buttonEl.style.display =\n",
              "          google.colab.kernel.accessAllowed ? 'block' : 'none';\n",
              "\n",
              "        async function convertToInteractive(key) {\n",
              "          const element = document.querySelector('#df-74d715bd-3016-4d6c-83f1-da5c17083087');\n",
              "          const dataTable =\n",
              "            await google.colab.kernel.invokeFunction('convertToInteractive',\n",
              "                                                     [key], {});\n",
              "          if (!dataTable) return;\n",
              "\n",
              "          const docLinkHtml = 'Like what you see? Visit the ' +\n",
              "            '<a target=\"_blank\" href=https://colab.research.google.com/notebooks/data_table.ipynb>data table notebook</a>'\n",
              "            + ' to learn more about interactive tables.';\n",
              "          element.innerHTML = '';\n",
              "          dataTable['output_type'] = 'display_data';\n",
              "          await google.colab.output.renderOutput(dataTable, element);\n",
              "          const docLink = document.createElement('div');\n",
              "          docLink.innerHTML = docLinkHtml;\n",
              "          element.appendChild(docLink);\n",
              "        }\n",
              "      </script>\n",
              "    </div>\n",
              "  </div>\n",
              "  "
            ]
          },
          "metadata": {},
          "execution_count": 48
        }
      ],
      "source": [
        "# View top ten rated movies\n",
        "combined_df[['Name', 'Weighted-Mean']].head(10)\n"
      ]
    },
    {
      "cell_type": "markdown",
      "metadata": {
        "id": "SXa7l21yE-eY"
      },
      "source": [
        "**Note**: The variable \"m\" can be seen as regularizing parameter. Changing it determines how much weight is put onto the movies with many ratings.\n",
        "Even if there is a better ranking the RMSE decreased slightly. There is a trade-off between interpretability and predictive power."
      ]
    },
    {
      "cell_type": "markdown",
      "metadata": {
        "id": "0KRZO1u_24GB"
      },
      "source": [
        "## 8.2: Content Based Recommendation Systems\n",
        "\n",
        "\n",
        "The Content-Based Recommender relies on the similarity of the items being recommended. The basic idea is that if you like an item, then you will also like a “similar” item. It generally works well when it’s easy to determine the context/properties of each item. If there is no historical data for a user or there is reliable metadata for each movie, it can be useful to compare the metadata of the movies to find similar ones.\n",
        "\n",
        "![](https://drive.google.com/uc?id=1Utq_IFbt03dnzJnxyp5SfxYnpi6J4-Tu)\n",
        "\n"
      ]
    },
    {
      "cell_type": "markdown",
      "metadata": {
        "id": "5WovG-3YFSqo"
      },
      "source": [
        "### Cosine TFIDF Movie Description Similarity"
      ]
    },
    {
      "cell_type": "markdown",
      "metadata": {
        "id": "eldw_9lpNfUJ"
      },
      "source": [
        "#### TF-IDF \n",
        "\n",
        "This is a text vectorization technique which is used to determine the relative importance of a document / article / news item / movie etc.\n",
        "\n",
        "TF is simply the frequency of a word in a document. \n",
        "\n",
        "IDF is the inverse of the document frequency among the whole corpus of documents. \n",
        "\n",
        "TF-IDF is used mainly because of two reasons: Suppose we search for “the results of latest European Socccer games” on Google. It is certain that “the” will occur more frequently than “soccer games” but the relative importance of soccer games is higher than the search query point of view. \n",
        "\n",
        "In such cases, TF-IDF weighting negates the effect of high frequency words in determining the importance of an item (document).\n",
        "\n",
        "![](https://drive.google.com/uc?id=1nxyWBogJgTHQx7ra4wdtm5ZmwLiEGbGa)\n"
      ]
    },
    {
      "cell_type": "markdown",
      "metadata": {
        "id": "Trb9DlZxOYGO"
      },
      "source": [
        "#### Cosine Similarity \n",
        "After calculating TF-IDF scores, how do we determine which items are closer to each other, rather closer to the user profile? This is accomplished using the Vector Space Model which computes the proximity based on the angle between the vectors.\n",
        "\n",
        "Consider the following example\n",
        "\n",
        "![](https://drive.google.com/uc?id=1XUX90HDa3QRJ0igOFGXUKGKz0nj4q_fV)\n",
        "\n",
        "Sentence 2 is more likely to be using Term 2 than using Term 1. Vice-versa for Sentence 1. \n",
        "\n",
        "The method of calculating this relative measure is calculated by taking the cosine of the angle between the sentences and the terms. \n",
        "\n",
        "The ultimate reason behind using cosine is that the value of cosine will increase with decreasing value of the angle between which signifies more similarity. \n",
        "\n",
        "The vectors are length normalized after which they become vectors of length 1 and then the cosine calculation is simply the sum-product of vectors."
      ]
    },
    {
      "cell_type": "markdown",
      "metadata": {
        "id": "4Cm9mjG-PSr3"
      },
      "source": [
        "In this approach we will use the movie description to create a TFIDF-matrix, which counts and weights words in all descriptions, and compute a cosine similarity between all of those sparse text-vectors. This can easily be extended to more or different features if you like.\n",
        "It is impossible for this model to compute a RMSE score, since the model does not recommend the movies directly.\n",
        "In this way it is possible to find movies closly related to each other.\n",
        "\n",
        "This approach of content based filtering can be extendend to increase the model performance by adding some more features like genres, cast, crew etc."
      ]
    },
    {
      "cell_type": "code",
      "execution_count": null,
      "metadata": {
        "colab": {
          "base_uri": "https://localhost:8080/"
        },
        "id": "AdEeBvSf24GE",
        "outputId": "157e14ea-72eb-45b3-a161-0181559c188c"
      },
      "outputs": [
        {
          "output_type": "execute_result",
          "data": {
            "text/plain": [
              "original_title\n",
              "Toy Story                      Led by Woody, Andy's toys live happily in his ...\n",
              "Jumanji                        When siblings Judy and Peter discover an encha...\n",
              "Grumpier Old Men               A family wedding reignites the ancient feud be...\n",
              "Waiting to Exhale              Cheated on, mistreated and stepped on, the wom...\n",
              "Father of the Bride Part II    Just when George Banks has recovered from his ...\n",
              "Name: overview, dtype: object"
            ]
          },
          "metadata": {},
          "execution_count": 49
        }
      ],
      "source": [
        "# view sample movie descriptions\n",
        "movie_metadata['overview'].head(5)"
      ]
    },
    {
      "cell_type": "code",
      "execution_count": null,
      "metadata": {
        "id": "DiiwYdQj24GG"
      },
      "outputs": [],
      "source": [
        "# Create tf-idf matrix for text comparison\n",
        "tfidf = TfidfVectorizer(stop_words='english')\n",
        "tfidf_matrix = tfidf.fit_transform(movie_metadata['overview'])"
      ]
    },
    {
      "cell_type": "code",
      "execution_count": null,
      "metadata": {
        "colab": {
          "base_uri": "https://localhost:8080/",
          "height": 630
        },
        "id": "VU3Kr_OJ24GK",
        "outputId": "bc1d6f0e-c089-406d-9f58-eb9117af1ade"
      },
      "outputs": [
        {
          "output_type": "execute_result",
          "data": {
            "text/plain": [
              "                             Toy Story   Jumanji  Grumpier Old Men  \\\n",
              "Toy Story                     1.000000  0.015385          0.000000   \n",
              "Jumanji                       0.015385  1.000000          0.046854   \n",
              "Grumpier Old Men              0.000000  0.046854          1.000000   \n",
              "Waiting to Exhale             0.000000  0.000000          0.000000   \n",
              "Father of the Bride Part II   0.000000  0.000000          0.023903   \n",
              "Heat                          0.000000  0.047646          0.000000   \n",
              "Sabrina                       0.000000  0.000000          0.000000   \n",
              "Tom and Huck                  0.000000  0.000000          0.006463   \n",
              "Sudden Death                  0.000000  0.098488          0.000000   \n",
              "GoldenEye                     0.000000  0.000000          0.000000   \n",
              "\n",
              "                             Waiting to Exhale  Father of the Bride Part II  \\\n",
              "Toy Story                             0.000000                     0.000000   \n",
              "Jumanji                               0.000000                     0.000000   \n",
              "Grumpier Old Men                      0.000000                     0.023903   \n",
              "Waiting to Exhale                     1.000000                     0.000000   \n",
              "Father of the Bride Part II           0.000000                     1.000000   \n",
              "Heat                                  0.007417                     0.000000   \n",
              "Sabrina                               0.000000                     0.030866   \n",
              "Tom and Huck                          0.008592                     0.000000   \n",
              "Sudden Death                          0.000000                     0.033213   \n",
              "GoldenEye                             0.000000                     0.000000   \n",
              "\n",
              "                                 Heat   Sabrina  Tom and Huck  Sudden Death  \\\n",
              "Toy Story                    0.000000  0.000000      0.000000      0.000000   \n",
              "Jumanji                      0.047646  0.000000      0.000000      0.098488   \n",
              "Grumpier Old Men             0.000000  0.000000      0.006463      0.000000   \n",
              "Waiting to Exhale            0.007417  0.000000      0.008592      0.000000   \n",
              "Father of the Bride Part II  0.000000  0.030866      0.000000      0.033213   \n",
              "Heat                         1.000000  0.000000      0.000000      0.046349   \n",
              "Sabrina                      0.000000  1.000000      0.000000      0.000000   \n",
              "Tom and Huck                 0.000000  0.000000      1.000000      0.000000   \n",
              "Sudden Death                 0.046349  0.000000      0.000000      1.000000   \n",
              "GoldenEye                    0.000000  0.000000      0.000000      0.000000   \n",
              "\n",
              "                             GoldenEye  ...  The Final Storm  In a Heartbeat  \\\n",
              "Toy Story                          0.0  ...         0.000000        0.023356   \n",
              "Jumanji                            0.0  ...         0.000000        0.000000   \n",
              "Grumpier Old Men                   0.0  ...         0.000000        0.000000   \n",
              "Waiting to Exhale                  0.0  ...         0.028460        0.000000   \n",
              "Father of the Bride Part II        0.0  ...         0.000000        0.000000   \n",
              "Heat                               0.0  ...         0.000000        0.000000   \n",
              "Sabrina                            0.0  ...         0.000000        0.000000   \n",
              "Tom and Huck                       0.0  ...         0.164136        0.071019   \n",
              "Sudden Death                       0.0  ...         0.000000        0.000000   \n",
              "GoldenEye                          1.0  ...         0.043867        0.000000   \n",
              "\n",
              "                             Bloed, Zweet en Tranen  To Be Fat Like Me  \\\n",
              "Toy Story                                       0.0           0.000000   \n",
              "Jumanji                                         0.0           0.004192   \n",
              "Grumpier Old Men                                0.0           0.000000   \n",
              "Waiting to Exhale                               0.0           0.000000   \n",
              "Father of the Bride Part II                     0.0           0.022816   \n",
              "Heat                                            0.0           0.000000   \n",
              "Sabrina                                         0.0           0.028344   \n",
              "Tom and Huck                                    0.0           0.000000   \n",
              "Sudden Death                                    0.0           0.000000   \n",
              "GoldenEye                                       0.0           0.000000   \n",
              "\n",
              "                             Cadet Kelly  L'Homme à la tête de caoutchouc  \\\n",
              "Toy Story                            0.0                         0.000000   \n",
              "Jumanji                              0.0                         0.014642   \n",
              "Grumpier Old Men                     0.0                         0.015409   \n",
              "Waiting to Exhale                    0.0                         0.000000   \n",
              "Father of the Bride Part II          0.0                         0.000000   \n",
              "Heat                                 0.0                         0.000000   \n",
              "Sabrina                              0.0                         0.000000   \n",
              "Tom and Huck                         0.0                         0.000000   \n",
              "Sudden Death                         0.0                         0.000000   \n",
              "GoldenEye                            0.0                         0.076444   \n",
              "\n",
              "                             Le locataire diabolique  L'Homme orchestre  \\\n",
              "Toy Story                                   0.000000           0.000000   \n",
              "Jumanji                                     0.000000           0.000000   \n",
              "Grumpier Old Men                            0.000000           0.000000   \n",
              "Waiting to Exhale                           0.016324           0.006840   \n",
              "Father of the Bride Part II                 0.000000           0.000000   \n",
              "Heat                                        0.015837           0.000000   \n",
              "Sabrina                                     0.105139           0.000000   \n",
              "Tom and Huck                                0.000000           0.000000   \n",
              "Sudden Death                                0.000000           0.000000   \n",
              "GoldenEye                                   0.000000           0.016266   \n",
              "\n",
              "                                  Maa  Robin Hood  \n",
              "Toy Story                    0.000000         0.0  \n",
              "Jumanji                      0.000000         0.0  \n",
              "Grumpier Old Men             0.007101         0.0  \n",
              "Waiting to Exhale            0.000000         0.0  \n",
              "Father of the Bride Part II  0.012584         0.0  \n",
              "Heat                         0.000000         0.0  \n",
              "Sabrina                      0.000000         0.0  \n",
              "Tom and Huck                 0.006162         0.0  \n",
              "Sudden Death                 0.014963         0.0  \n",
              "GoldenEye                    0.000000         0.0  \n",
              "\n",
              "[10 rows x 21604 columns]"
            ],
            "text/html": [
              "\n",
              "  <div id=\"df-a5b27c8a-ad80-4244-96b5-6885bee9873f\">\n",
              "    <div class=\"colab-df-container\">\n",
              "      <div>\n",
              "<style scoped>\n",
              "    .dataframe tbody tr th:only-of-type {\n",
              "        vertical-align: middle;\n",
              "    }\n",
              "\n",
              "    .dataframe tbody tr th {\n",
              "        vertical-align: top;\n",
              "    }\n",
              "\n",
              "    .dataframe thead th {\n",
              "        text-align: right;\n",
              "    }\n",
              "</style>\n",
              "<table border=\"1\" class=\"dataframe\">\n",
              "  <thead>\n",
              "    <tr style=\"text-align: right;\">\n",
              "      <th></th>\n",
              "      <th>Toy Story</th>\n",
              "      <th>Jumanji</th>\n",
              "      <th>Grumpier Old Men</th>\n",
              "      <th>Waiting to Exhale</th>\n",
              "      <th>Father of the Bride Part II</th>\n",
              "      <th>Heat</th>\n",
              "      <th>Sabrina</th>\n",
              "      <th>Tom and Huck</th>\n",
              "      <th>Sudden Death</th>\n",
              "      <th>GoldenEye</th>\n",
              "      <th>...</th>\n",
              "      <th>The Final Storm</th>\n",
              "      <th>In a Heartbeat</th>\n",
              "      <th>Bloed, Zweet en Tranen</th>\n",
              "      <th>To Be Fat Like Me</th>\n",
              "      <th>Cadet Kelly</th>\n",
              "      <th>L'Homme à la tête de caoutchouc</th>\n",
              "      <th>Le locataire diabolique</th>\n",
              "      <th>L'Homme orchestre</th>\n",
              "      <th>Maa</th>\n",
              "      <th>Robin Hood</th>\n",
              "    </tr>\n",
              "  </thead>\n",
              "  <tbody>\n",
              "    <tr>\n",
              "      <th>Toy Story</th>\n",
              "      <td>1.000000</td>\n",
              "      <td>0.015385</td>\n",
              "      <td>0.000000</td>\n",
              "      <td>0.000000</td>\n",
              "      <td>0.000000</td>\n",
              "      <td>0.000000</td>\n",
              "      <td>0.000000</td>\n",
              "      <td>0.000000</td>\n",
              "      <td>0.000000</td>\n",
              "      <td>0.0</td>\n",
              "      <td>...</td>\n",
              "      <td>0.000000</td>\n",
              "      <td>0.023356</td>\n",
              "      <td>0.0</td>\n",
              "      <td>0.000000</td>\n",
              "      <td>0.0</td>\n",
              "      <td>0.000000</td>\n",
              "      <td>0.000000</td>\n",
              "      <td>0.000000</td>\n",
              "      <td>0.000000</td>\n",
              "      <td>0.0</td>\n",
              "    </tr>\n",
              "    <tr>\n",
              "      <th>Jumanji</th>\n",
              "      <td>0.015385</td>\n",
              "      <td>1.000000</td>\n",
              "      <td>0.046854</td>\n",
              "      <td>0.000000</td>\n",
              "      <td>0.000000</td>\n",
              "      <td>0.047646</td>\n",
              "      <td>0.000000</td>\n",
              "      <td>0.000000</td>\n",
              "      <td>0.098488</td>\n",
              "      <td>0.0</td>\n",
              "      <td>...</td>\n",
              "      <td>0.000000</td>\n",
              "      <td>0.000000</td>\n",
              "      <td>0.0</td>\n",
              "      <td>0.004192</td>\n",
              "      <td>0.0</td>\n",
              "      <td>0.014642</td>\n",
              "      <td>0.000000</td>\n",
              "      <td>0.000000</td>\n",
              "      <td>0.000000</td>\n",
              "      <td>0.0</td>\n",
              "    </tr>\n",
              "    <tr>\n",
              "      <th>Grumpier Old Men</th>\n",
              "      <td>0.000000</td>\n",
              "      <td>0.046854</td>\n",
              "      <td>1.000000</td>\n",
              "      <td>0.000000</td>\n",
              "      <td>0.023903</td>\n",
              "      <td>0.000000</td>\n",
              "      <td>0.000000</td>\n",
              "      <td>0.006463</td>\n",
              "      <td>0.000000</td>\n",
              "      <td>0.0</td>\n",
              "      <td>...</td>\n",
              "      <td>0.000000</td>\n",
              "      <td>0.000000</td>\n",
              "      <td>0.0</td>\n",
              "      <td>0.000000</td>\n",
              "      <td>0.0</td>\n",
              "      <td>0.015409</td>\n",
              "      <td>0.000000</td>\n",
              "      <td>0.000000</td>\n",
              "      <td>0.007101</td>\n",
              "      <td>0.0</td>\n",
              "    </tr>\n",
              "    <tr>\n",
              "      <th>Waiting to Exhale</th>\n",
              "      <td>0.000000</td>\n",
              "      <td>0.000000</td>\n",
              "      <td>0.000000</td>\n",
              "      <td>1.000000</td>\n",
              "      <td>0.000000</td>\n",
              "      <td>0.007417</td>\n",
              "      <td>0.000000</td>\n",
              "      <td>0.008592</td>\n",
              "      <td>0.000000</td>\n",
              "      <td>0.0</td>\n",
              "      <td>...</td>\n",
              "      <td>0.028460</td>\n",
              "      <td>0.000000</td>\n",
              "      <td>0.0</td>\n",
              "      <td>0.000000</td>\n",
              "      <td>0.0</td>\n",
              "      <td>0.000000</td>\n",
              "      <td>0.016324</td>\n",
              "      <td>0.006840</td>\n",
              "      <td>0.000000</td>\n",
              "      <td>0.0</td>\n",
              "    </tr>\n",
              "    <tr>\n",
              "      <th>Father of the Bride Part II</th>\n",
              "      <td>0.000000</td>\n",
              "      <td>0.000000</td>\n",
              "      <td>0.023903</td>\n",
              "      <td>0.000000</td>\n",
              "      <td>1.000000</td>\n",
              "      <td>0.000000</td>\n",
              "      <td>0.030866</td>\n",
              "      <td>0.000000</td>\n",
              "      <td>0.033213</td>\n",
              "      <td>0.0</td>\n",
              "      <td>...</td>\n",
              "      <td>0.000000</td>\n",
              "      <td>0.000000</td>\n",
              "      <td>0.0</td>\n",
              "      <td>0.022816</td>\n",
              "      <td>0.0</td>\n",
              "      <td>0.000000</td>\n",
              "      <td>0.000000</td>\n",
              "      <td>0.000000</td>\n",
              "      <td>0.012584</td>\n",
              "      <td>0.0</td>\n",
              "    </tr>\n",
              "    <tr>\n",
              "      <th>Heat</th>\n",
              "      <td>0.000000</td>\n",
              "      <td>0.047646</td>\n",
              "      <td>0.000000</td>\n",
              "      <td>0.007417</td>\n",
              "      <td>0.000000</td>\n",
              "      <td>1.000000</td>\n",
              "      <td>0.000000</td>\n",
              "      <td>0.000000</td>\n",
              "      <td>0.046349</td>\n",
              "      <td>0.0</td>\n",
              "      <td>...</td>\n",
              "      <td>0.000000</td>\n",
              "      <td>0.000000</td>\n",
              "      <td>0.0</td>\n",
              "      <td>0.000000</td>\n",
              "      <td>0.0</td>\n",
              "      <td>0.000000</td>\n",
              "      <td>0.015837</td>\n",
              "      <td>0.000000</td>\n",
              "      <td>0.000000</td>\n",
              "      <td>0.0</td>\n",
              "    </tr>\n",
              "    <tr>\n",
              "      <th>Sabrina</th>\n",
              "      <td>0.000000</td>\n",
              "      <td>0.000000</td>\n",
              "      <td>0.000000</td>\n",
              "      <td>0.000000</td>\n",
              "      <td>0.030866</td>\n",
              "      <td>0.000000</td>\n",
              "      <td>1.000000</td>\n",
              "      <td>0.000000</td>\n",
              "      <td>0.000000</td>\n",
              "      <td>0.0</td>\n",
              "      <td>...</td>\n",
              "      <td>0.000000</td>\n",
              "      <td>0.000000</td>\n",
              "      <td>0.0</td>\n",
              "      <td>0.028344</td>\n",
              "      <td>0.0</td>\n",
              "      <td>0.000000</td>\n",
              "      <td>0.105139</td>\n",
              "      <td>0.000000</td>\n",
              "      <td>0.000000</td>\n",
              "      <td>0.0</td>\n",
              "    </tr>\n",
              "    <tr>\n",
              "      <th>Tom and Huck</th>\n",
              "      <td>0.000000</td>\n",
              "      <td>0.000000</td>\n",
              "      <td>0.006463</td>\n",
              "      <td>0.008592</td>\n",
              "      <td>0.000000</td>\n",
              "      <td>0.000000</td>\n",
              "      <td>0.000000</td>\n",
              "      <td>1.000000</td>\n",
              "      <td>0.000000</td>\n",
              "      <td>0.0</td>\n",
              "      <td>...</td>\n",
              "      <td>0.164136</td>\n",
              "      <td>0.071019</td>\n",
              "      <td>0.0</td>\n",
              "      <td>0.000000</td>\n",
              "      <td>0.0</td>\n",
              "      <td>0.000000</td>\n",
              "      <td>0.000000</td>\n",
              "      <td>0.000000</td>\n",
              "      <td>0.006162</td>\n",
              "      <td>0.0</td>\n",
              "    </tr>\n",
              "    <tr>\n",
              "      <th>Sudden Death</th>\n",
              "      <td>0.000000</td>\n",
              "      <td>0.098488</td>\n",
              "      <td>0.000000</td>\n",
              "      <td>0.000000</td>\n",
              "      <td>0.033213</td>\n",
              "      <td>0.046349</td>\n",
              "      <td>0.000000</td>\n",
              "      <td>0.000000</td>\n",
              "      <td>1.000000</td>\n",
              "      <td>0.0</td>\n",
              "      <td>...</td>\n",
              "      <td>0.000000</td>\n",
              "      <td>0.000000</td>\n",
              "      <td>0.0</td>\n",
              "      <td>0.000000</td>\n",
              "      <td>0.0</td>\n",
              "      <td>0.000000</td>\n",
              "      <td>0.000000</td>\n",
              "      <td>0.000000</td>\n",
              "      <td>0.014963</td>\n",
              "      <td>0.0</td>\n",
              "    </tr>\n",
              "    <tr>\n",
              "      <th>GoldenEye</th>\n",
              "      <td>0.000000</td>\n",
              "      <td>0.000000</td>\n",
              "      <td>0.000000</td>\n",
              "      <td>0.000000</td>\n",
              "      <td>0.000000</td>\n",
              "      <td>0.000000</td>\n",
              "      <td>0.000000</td>\n",
              "      <td>0.000000</td>\n",
              "      <td>0.000000</td>\n",
              "      <td>1.0</td>\n",
              "      <td>...</td>\n",
              "      <td>0.043867</td>\n",
              "      <td>0.000000</td>\n",
              "      <td>0.0</td>\n",
              "      <td>0.000000</td>\n",
              "      <td>0.0</td>\n",
              "      <td>0.076444</td>\n",
              "      <td>0.000000</td>\n",
              "      <td>0.016266</td>\n",
              "      <td>0.000000</td>\n",
              "      <td>0.0</td>\n",
              "    </tr>\n",
              "  </tbody>\n",
              "</table>\n",
              "<p>10 rows × 21604 columns</p>\n",
              "</div>\n",
              "      <button class=\"colab-df-convert\" onclick=\"convertToInteractive('df-a5b27c8a-ad80-4244-96b5-6885bee9873f')\"\n",
              "              title=\"Convert this dataframe to an interactive table.\"\n",
              "              style=\"display:none;\">\n",
              "        \n",
              "  <svg xmlns=\"http://www.w3.org/2000/svg\" height=\"24px\"viewBox=\"0 0 24 24\"\n",
              "       width=\"24px\">\n",
              "    <path d=\"M0 0h24v24H0V0z\" fill=\"none\"/>\n",
              "    <path d=\"M18.56 5.44l.94 2.06.94-2.06 2.06-.94-2.06-.94-.94-2.06-.94 2.06-2.06.94zm-11 1L8.5 8.5l.94-2.06 2.06-.94-2.06-.94L8.5 2.5l-.94 2.06-2.06.94zm10 10l.94 2.06.94-2.06 2.06-.94-2.06-.94-.94-2.06-.94 2.06-2.06.94z\"/><path d=\"M17.41 7.96l-1.37-1.37c-.4-.4-.92-.59-1.43-.59-.52 0-1.04.2-1.43.59L10.3 9.45l-7.72 7.72c-.78.78-.78 2.05 0 2.83L4 21.41c.39.39.9.59 1.41.59.51 0 1.02-.2 1.41-.59l7.78-7.78 2.81-2.81c.8-.78.8-2.07 0-2.86zM5.41 20L4 18.59l7.72-7.72 1.47 1.35L5.41 20z\"/>\n",
              "  </svg>\n",
              "      </button>\n",
              "      \n",
              "  <style>\n",
              "    .colab-df-container {\n",
              "      display:flex;\n",
              "      flex-wrap:wrap;\n",
              "      gap: 12px;\n",
              "    }\n",
              "\n",
              "    .colab-df-convert {\n",
              "      background-color: #E8F0FE;\n",
              "      border: none;\n",
              "      border-radius: 50%;\n",
              "      cursor: pointer;\n",
              "      display: none;\n",
              "      fill: #1967D2;\n",
              "      height: 32px;\n",
              "      padding: 0 0 0 0;\n",
              "      width: 32px;\n",
              "    }\n",
              "\n",
              "    .colab-df-convert:hover {\n",
              "      background-color: #E2EBFA;\n",
              "      box-shadow: 0px 1px 2px rgba(60, 64, 67, 0.3), 0px 1px 3px 1px rgba(60, 64, 67, 0.15);\n",
              "      fill: #174EA6;\n",
              "    }\n",
              "\n",
              "    [theme=dark] .colab-df-convert {\n",
              "      background-color: #3B4455;\n",
              "      fill: #D2E3FC;\n",
              "    }\n",
              "\n",
              "    [theme=dark] .colab-df-convert:hover {\n",
              "      background-color: #434B5C;\n",
              "      box-shadow: 0px 1px 3px 1px rgba(0, 0, 0, 0.15);\n",
              "      filter: drop-shadow(0px 1px 2px rgba(0, 0, 0, 0.3));\n",
              "      fill: #FFFFFF;\n",
              "    }\n",
              "  </style>\n",
              "\n",
              "      <script>\n",
              "        const buttonEl =\n",
              "          document.querySelector('#df-a5b27c8a-ad80-4244-96b5-6885bee9873f button.colab-df-convert');\n",
              "        buttonEl.style.display =\n",
              "          google.colab.kernel.accessAllowed ? 'block' : 'none';\n",
              "\n",
              "        async function convertToInteractive(key) {\n",
              "          const element = document.querySelector('#df-a5b27c8a-ad80-4244-96b5-6885bee9873f');\n",
              "          const dataTable =\n",
              "            await google.colab.kernel.invokeFunction('convertToInteractive',\n",
              "                                                     [key], {});\n",
              "          if (!dataTable) return;\n",
              "\n",
              "          const docLinkHtml = 'Like what you see? Visit the ' +\n",
              "            '<a target=\"_blank\" href=https://colab.research.google.com/notebooks/data_table.ipynb>data table notebook</a>'\n",
              "            + ' to learn more about interactive tables.';\n",
              "          element.innerHTML = '';\n",
              "          dataTable['output_type'] = 'display_data';\n",
              "          await google.colab.output.renderOutput(dataTable, element);\n",
              "          const docLink = document.createElement('div');\n",
              "          docLink.innerHTML = docLinkHtml;\n",
              "          element.appendChild(docLink);\n",
              "        }\n",
              "      </script>\n",
              "    </div>\n",
              "  </div>\n",
              "  "
            ]
          },
          "metadata": {},
          "execution_count": 51
        }
      ],
      "source": [
        "# Compute cosine similarity between all movie-descriptions\n",
        "similarity = cosine_similarity(tfidf_matrix)\n",
        "similarity_df = pd.DataFrame(similarity, \n",
        "                             index=movie_metadata.index.values, \n",
        "                             columns=movie_metadata.index.values)\n",
        "similarity_df.head(10)"
      ]
    },
    {
      "cell_type": "code",
      "execution_count": null,
      "metadata": {
        "colab": {
          "base_uri": "https://localhost:8080/"
        },
        "id": "Tm2sEuOs24GN",
        "outputId": "d00a090c-f83b-44df-d2ca-8bb7b1979646"
      },
      "outputs": [
        {
          "output_type": "stream",
          "name": "stdout",
          "text": [
            "\n",
            "\n",
            "Top Recommended Movies for: Batman Begins are:-\n",
            " ['Batman Unmasked: The Psychology of the Dark Knight'\n",
            " 'Batman: The Dark Knight Returns, Part 1' 'Batman: Bad Blood'\n",
            " 'Batman: Year One' 'Batman: Under the Red Hood'\n",
            " 'Batman Beyond: The Movie' 'Batman Forever'\n",
            " 'Batman: Mask of the Phantasm' 'Batman & Bill' 'Batman']\n"
          ]
        }
      ],
      "source": [
        "# movie list \n",
        "movie_list = similarity_df.columns.values\n",
        "\n",
        "\n",
        "# sample movie\n",
        "movie = 'Batman Begins'\n",
        "\n",
        "# top recommendation movie count\n",
        "top_n = 10\n",
        "\n",
        "# get movie similarity records\n",
        "movie_sim = similarity_df[similarity_df.index == movie].values[0]\n",
        "\n",
        "# get movies sorted by similarity\n",
        "sorted_movie_ids = np.argsort(movie_sim)[::-1]\n",
        "\n",
        "# get recommended movie names\n",
        "recommended_movies = movie_list[sorted_movie_ids[1:top_n+1]]\n",
        "\n",
        "print('\\n\\nTop Recommended Movies for:', movie, 'are:-\\n', recommended_movies)"
      ]
    },
    {
      "cell_type": "markdown",
      "metadata": {
        "id": "50vzONVBqkTu"
      },
      "source": [
        "__Your turn:__ Create a function as defined below, __`content_movie_recommender()`__ which can take in sample movie names and print a list of top N recommended movies"
      ]
    },
    {
      "cell_type": "code",
      "execution_count": null,
      "metadata": {
        "id": "t5cyFCvp24GT"
      },
      "outputs": [],
      "source": [
        "def content_movie_recommender(input_movie, similarity_database=similarity_df, movie_database_list=movie_list, top_n=10):\n",
        "    \n",
        "    # movie list \n",
        "    movie_list = movie_database_list\n",
        "\n",
        "    # get movie similarity records\n",
        "    movie_sim = similarity_database[similarity_database.index == input_movie].values[0]\n",
        "\n",
        "    # get movies sorted by similarity\n",
        "    sorted_movie_ids = np.argsort(movie_sim)[::-1]\n",
        "\n",
        "    # get recommended movie names\n",
        "    recommended_movies = movie_list[sorted_movie_ids[1:top_n+1]]\n",
        "\n",
        "    print('\\n\\nTop Recommended Movies for:', input_movie, 'are:-\\n', recommended_movies)\n",
        "    "
      ]
    },
    {
      "cell_type": "markdown",
      "metadata": {
        "id": "gR0sKcxIqxql"
      },
      "source": [
        "__Your turn:__ Test your function below on the given sample movies"
      ]
    },
    {
      "cell_type": "code",
      "execution_count": null,
      "metadata": {
        "colab": {
          "base_uri": "https://localhost:8080/"
        },
        "id": "L0tUINS_24GV",
        "outputId": "b2b38a9a-d323-495b-bdb9-e640cfc9fe14"
      },
      "outputs": [
        {
          "output_type": "stream",
          "name": "stdout",
          "text": [
            "\n",
            "\n",
            "Top Recommended Movies for: Captain America are:-\n",
            " ['Iron Man & Captain America: Heroes United'\n",
            " 'Captain America: The First Avenger' 'Team Thor' 'Education for Death'\n",
            " 'Captain America: The Winter Soldier' '49th Parallel' 'Ultimate Avengers'\n",
            " 'Philadelphia Experiment II' 'Vice Versa' 'The Lair of the White Worm']\n",
            "\n",
            "\n",
            "Top Recommended Movies for: The Terminator are:-\n",
            " ['Terminator 2: Judgment Day' 'Terminator Salvation'\n",
            " 'Terminator 3: Rise of the Machines' 'Silent House' 'They Wait'\n",
            " 'Another World' 'Teenage Caveman' 'Appleseed Alpha' 'Respire'\n",
            " 'Just Married']\n",
            "\n",
            "\n",
            "Top Recommended Movies for: The Exorcist are:-\n",
            " ['Exorcist II: The Heretic' 'Domestic Disturbance' 'Damien: Omen II'\n",
            " 'The Exorcist III' 'Like Sunday, Like Rain' 'People Like Us'\n",
            " 'Quand on a 17 Ans' \"Don't Knock Twice\" 'Zero Day' 'Brick Mansions']\n",
            "\n",
            "\n",
            "Top Recommended Movies for: The Hunger Games: Mockingjay - Part 1 are:-\n",
            " ['The Hunger Games: Catching Fire' 'The Hunger Games: Mockingjay - Part 2'\n",
            " 'Last Train from Gun Hill' 'The Hunger Games'\n",
            " 'Will Success Spoil Rock Hunter?' 'Circumstance' 'Man of Steel'\n",
            " 'The Amityville Horror' 'Pregnancy Pact' 'Bananas']\n",
            "\n",
            "\n",
            "Top Recommended Movies for: The Blair Witch Project are:-\n",
            " ['Book of Shadows: Blair Witch 2' 'Freakonomics' 'Le Bal des actrices'\n",
            " 'Greystone Park' 'Willow Creek' 'Addio zio Tom' 'The Conspiracy'\n",
            " 'A Haunted House' 'Tonight She Comes' 'Curse of the Blair Witch']\n"
          ]
        }
      ],
      "source": [
        "sample_movies = ['Captain America', 'The Terminator', 'The Exorcist', \n",
        "                 'The Hunger Games: Mockingjay - Part 1', 'The Blair Witch Project']\n",
        "                 \n",
        "for movie in sample_movies:\n",
        "    content_movie_recommender(movie)"
      ]
    },
    {
      "cell_type": "markdown",
      "metadata": {
        "id": "r3fofy8frA2k"
      },
      "source": [
        "## ** 8.3: Collaborative filtering Recommendation Systems"
      ]
    },
    {
      "cell_type": "markdown",
      "metadata": {
        "id": "j9Su_sBArKWX"
      },
      "source": [
        "### Collaborative Filtering\n",
        "Primarily recommends content to you based on inputs or actions from other people(say your friends).\n",
        "![collaborative filtering](https://drive.google.com/uc?id=1qUOwxcbNz65e-MFd4J19NS8_RVsjLEzY)\n",
        "\n"
      ]
    },
    {
      "cell_type": "markdown",
      "metadata": {
        "id": "YxRJfswzrN5A"
      },
      "source": [
        "### What is the intuition behind this?\n",
        "\n",
        "*   **Personal tastes are correlated**\n",
        "\n",
        "\n",
        "        1.   If Alice and Bob both like X and Alice likes Y then Bob is more likely to like Y\n",
        "        2.   especially (perhaps) if Bob knows Alice"
      ]
    },
    {
      "cell_type": "markdown",
      "metadata": {
        "id": "TUoI6lh6rSlG"
      },
      "source": [
        "Types of Collaborative Filtering:\n",
        "\n",
        "\n",
        "1.   Neighborhood methods\n",
        "2.   Matrix Factorization (Latent Factor) methods\n",
        "\n"
      ]
    },
    {
      "cell_type": "markdown",
      "metadata": {
        "id": "23PnmU-FraW8"
      },
      "source": [
        "Assume you dont have users. Rather you have users' characterisics and properties(as shown in image).![Latent Factor method](https://miro.medium.com/max/876/1*AQEx38Wdo5H0WTSjRfAWtA.png)\n",
        "\n",
        "For example, a person who is brave-hearted is more likely to be interested in dark, horrific movies rather than someone who is soft and compassionate.\n",
        "* ^This is just an example(not in any literal sense)"
      ]
    },
    {
      "cell_type": "markdown",
      "metadata": {
        "id": "fidNZWZXrdmt"
      },
      "source": [
        "So, once you have the properties and characteristics of each user, we call them as lower-dimensional features of the users. Similarly, we can have lower-dimensional features for movies(say its 10% action, 20% romance ...)\n",
        "\n",
        "With these features, we represent users and movies in a low dimensional space describing their properties. **This is called as the latent space.**\n",
        "\n",
        "We then recommend a movie based on its proximity to the user in the latent space."
      ]
    },
    {
      "cell_type": "markdown",
      "metadata": {
        "id": "InGsgab1rhVT"
      },
      "source": [
        "### The problem:\n",
        "\n",
        "The problem we try to address here is the rating prediction problem. \n",
        "Say, we try to guess how much Alice would rate a movie and suggest those movies that we think Alice will rate higher."
      ]
    },
    {
      "cell_type": "markdown",
      "metadata": {
        "id": "NUDZRCzhrijy"
      },
      "source": [
        "### Interesting...But, how do we predict how much Alice would rate a movie?\n",
        "\n",
        " The data we have is a rating history: ratings of users for items in the interval [1,5]. We can put all this data into a sparse matrix called R:\n",
        " \n",
        " $R = \n",
        " \\begin{pmatrix}\n",
        "  3 & ? &? \\\\ \n",
        "  ? & 4 & 5 \\\\\n",
        "  ? & ? & 2 \\\\\n",
        "  2 & 3 & ?\n",
        " \\end{pmatrix}\n",
        " \\begin{matrix}\n",
        "  Alice \\\\ \n",
        "  Bob \\\\\n",
        "  Chand \\\\\n",
        "  Deb\n",
        " \\end{matrix}\n",
        " $\n",
        "\n",
        " Each row of the matrix corresponds to a given user, and each column corresponds to a given item. For instance here, Alice has rated the first movie with a rating of 3, and Chand has rated the third item with a rating of 2.\n",
        "\n",
        " The matrix R is sparse (more than 99% of the entries are missing), and our goal is to predict the missing entries, i.e. predict the ?.\n"
      ]
    },
    {
      "cell_type": "markdown",
      "metadata": {
        "id": "i_MeURMvrniQ"
      },
      "source": [
        "### Anatomy of the Rating matrix: LATENT SPACE\n",
        "Before predicting ratings, lets step back and understand the latent space more! \\\\\n",
        " In this Rating matrix, Rows represent Users and Columns represent Movies.\n",
        " $R = \n",
        "  \\begin{pmatrix}\n",
        "  --Alice-- \\\\ \n",
        "  --Bob-- \\\\\n",
        "  --Chand-- \\\\\n",
        "  --Deb--\n",
        " \\end{pmatrix}\n",
        " $\n",
        "\n",
        " In latent space(low dimensional features - fanatics), for instance, Alice could be defined as a little bit of an action fan, a little bit of a comedy fan, a lot of a romance fan, etc. As for Bob, he could be more keen on action movies:\n",
        "\n",
        "```\n",
        "Alice = 10% Action fan + 10% Comedy fan + 50% Romance fan + ⋯ \\\\\n",
        "Bob = 50% Action fan + 30% Comedy fan + 10% Romance fan + ⋯ \\\\\n",
        ": \\\\\n",
        "Zoe = ⋯\n",
        "```\n",
        "\n",
        "What would happen if we transposed our rating matrix? Instead of having users in the rows, we would now have movies, defined as their ratings.\n",
        "\n",
        "$\n",
        "R ^ T = \n",
        "  \\begin{pmatrix}\n",
        "  --Avengers-- \\\\ \n",
        "  --Matrix-- \\\\\n",
        "  --Inception-- \\\\\n",
        "  --Sherlock--\n",
        " \\end{pmatrix}\n",
        "$\n",
        "\n",
        "In the latent space, we will associate a semantic meaning behind each of the  movies, and these semantic meanings(say movie characteristics) can build back all of our original movies."
      ]
    },
    {
      "cell_type": "markdown",
      "metadata": {
        "id": "vZ_r91x1rr65"
      },
      "source": [
        "### EXAMPLE\n",
        "In the below example, we convert users and movies to vectors(embeddings) and do dot-product to predict R\n",
        "\n",
        "user vector - U \\\\\n",
        "movies vector - V \\\\\n",
        "$\n",
        "R = U.V\n",
        "$"
      ]
    },
    {
      "cell_type": "markdown",
      "metadata": {
        "id": "_Ynl-aVuf3Dy"
      },
      "source": [
        "### Additional hints:\n",
        "\n",
        "use dataframe map - [map](https://pandas.pydata.org/pandas-docs/stable/reference/api/pandas.Series.map.html)\n",
        "\n",
        "Create tensor - [Input](https://www.tensorflow.org/api_docs/python/tf/keras/Input#view-aliases)\n",
        "\n",
        "Create Embedding - [Embedding](https://www.tensorflow.org/api_docs/python/tf/keras/layers/Embedding)\n",
        "\n",
        "Dot product - [Dot](https://www.tensorflow.org/api_docs/python/tf/keras/layers/Dot)\n",
        "\n",
        "Fit model : \n",
        "[fit](https://www.tensorflow.org/api_docs/python/tf/keras/Model#fit)\n",
        "\n",
        "Measure Performance: [mean_squared_error](https://scikit-learn.org/stable/modules/generated/sklearn.metrics.mean_squared_error.html)"
      ]
    },
    {
      "cell_type": "markdown",
      "metadata": {
        "id": "wpPZfOrDs-Qs"
      },
      "source": [
        "### Q8.3: Building a Deep Learning Matrix Factorization based Collaborative Filtering Recommendation System\n",
        "\n",
        "__Your Turn:__ Fill in the necessary blank code snippets in the following sections to train your own DL collaborative  filtering system\n",
        "\n",
        "#### Create Configuration Parameters"
      ]
    },
    {
      "cell_type": "code",
      "execution_count": null,
      "metadata": {
        "id": "AUz12Y_Z24Gh"
      },
      "outputs": [],
      "source": [
        "# Create user and movie-id mapping to convert to numbers\n",
        "user_id_mapping = {id:i for i, id in enumerate(df_filtered['User'].unique())}\n",
        "movie_id_mapping = {id:i for i, id in enumerate(df_filtered['Movie'].unique())}"
      ]
    },
    {
      "cell_type": "code",
      "source": [
        "print(type(user_id_mapping))\n",
        "print(len(user_id_mapping))\n",
        "# print(user_id_mapping[:10])\n",
        "\n",
        "# print first several pairs from dict \n",
        "from itertools import islice \n",
        "def take(n, iterable):\n",
        "    \"Return first n items of the iterable as a list\"\n",
        "    return list(islice(iterable, n))\n",
        " "
      ],
      "metadata": {
        "colab": {
          "base_uri": "https://localhost:8080/"
        },
        "id": "yTpW_U5Ukoov",
        "outputId": "ec169bea-e147-4cc0-b3c0-458dd4097993"
      },
      "execution_count": null,
      "outputs": [
        {
          "output_type": "stream",
          "name": "stdout",
          "text": [
            "<class 'dict'>\n",
            "20828\n"
          ]
        }
      ]
    },
    {
      "cell_type": "code",
      "source": [
        "n_items = take(10, user_id_mapping.items())\n",
        "print(n_items)"
      ],
      "metadata": {
        "colab": {
          "base_uri": "https://localhost:8080/"
        },
        "id": "H2fKiEr8mI0H",
        "outputId": "15d5077b-a0bd-4adb-fd34-2d457c2fb536"
      },
      "execution_count": null,
      "outputs": [
        {
          "output_type": "stream",
          "name": "stdout",
          "text": [
            "[('2036838', 0), ('1279037', 1), ('1445536', 2), ('1450135', 3), ('2076358', 4), ('10947', 5), ('88188', 6), ('1700131', 7), ('305344', 8), ('1840149', 9)]\n"
          ]
        }
      ]
    },
    {
      "cell_type": "code",
      "source": [
        "print(type(movie_id_mapping))\n",
        "print(len(movie_id_mapping))"
      ],
      "metadata": {
        "colab": {
          "base_uri": "https://localhost:8080/"
        },
        "id": "nCawPq6YmRzX",
        "outputId": "6040a50e-d261-48e9-e25d-40a82364d7f0"
      },
      "execution_count": null,
      "outputs": [
        {
          "output_type": "stream",
          "name": "stdout",
          "text": [
            "<class 'dict'>\n",
            "1741\n"
          ]
        }
      ]
    },
    {
      "cell_type": "code",
      "source": [
        "n_items = take(10, movie_id_mapping.items())\n",
        "print(n_items)"
      ],
      "metadata": {
        "colab": {
          "base_uri": "https://localhost:8080/"
        },
        "id": "NAyQMxMomX5t",
        "outputId": "8c6f6b4c-2804-46ca-e619-85abfadc2f0e"
      },
      "execution_count": null,
      "outputs": [
        {
          "output_type": "stream",
          "name": "stdout",
          "text": [
            "[(3962, 0), (2112, 1), (3315, 2), (1051, 3), (4106, 4), (1975, 5), (2431, 6), (4262, 7), (4092, 8), (1668, 9)]\n"
          ]
        }
      ]
    },
    {
      "cell_type": "code",
      "execution_count": null,
      "metadata": {
        "id": "4vjVBUM724Gj"
      },
      "outputs": [],
      "source": [
        "# use dataframe map function to map users & movies to mapped ids based on above mapping\n",
        "train_user_data  = df_train['User'].map(user_id_mapping)\n",
        "train_movie_data = df_train['Movie'].map(movie_id_mapping)"
      ]
    },
    {
      "cell_type": "code",
      "source": [
        "train_user_data"
      ],
      "metadata": {
        "colab": {
          "base_uri": "https://localhost:8080/"
        },
        "id": "yOYXTPWvmijf",
        "outputId": "5d3e495e-5a39-440b-c98a-ae8d3cdfe37b"
      },
      "execution_count": null,
      "outputs": [
        {
          "output_type": "execute_result",
          "data": {
            "text/plain": [
              "0              0\n",
              "1              1\n",
              "2              2\n",
              "3              3\n",
              "4              4\n",
              "           ...  \n",
              "5830576     4087\n",
              "5830577     6120\n",
              "5830578     9006\n",
              "5830579    16523\n",
              "5830580     8038\n",
              "Name: User, Length: 5830581, dtype: int64"
            ]
          },
          "metadata": {},
          "execution_count": 61
        }
      ]
    },
    {
      "cell_type": "code",
      "source": [
        "train_movie_data"
      ],
      "metadata": {
        "colab": {
          "base_uri": "https://localhost:8080/"
        },
        "id": "nMhgNAhQmnkn",
        "outputId": "eb40e92b-b30f-4968-9935-185943a34c7b"
      },
      "execution_count": null,
      "outputs": [
        {
          "output_type": "execute_result",
          "data": {
            "text/plain": [
              "0            0\n",
              "1            1\n",
              "2            2\n",
              "3            3\n",
              "4            4\n",
              "          ... \n",
              "5830576     77\n",
              "5830577    317\n",
              "5830578    532\n",
              "5830579    291\n",
              "5830580    276\n",
              "Name: Movie, Length: 5830581, dtype: int64"
            ]
          },
          "metadata": {},
          "execution_count": 62
        }
      ]
    },
    {
      "cell_type": "code",
      "execution_count": null,
      "metadata": {
        "id": "_lpKylKD24Gl"
      },
      "outputs": [],
      "source": [
        "# do the same for test data\n",
        "test_user_data  = df_test['User'].map(user_id_mapping)\n",
        "test_movie_data = df_test['Movie'].map(movie_id_mapping)"
      ]
    },
    {
      "cell_type": "code",
      "execution_count": null,
      "metadata": {
        "id": "GME8vJLp24Gn"
      },
      "outputs": [],
      "source": [
        "# Get input variable-sizes\n",
        "users  = len(user_id_mapping)\n",
        "movies = len(movie_id_mapping)\n",
        "embedding_size = 100"
      ]
    },
    {
      "cell_type": "markdown",
      "metadata": {
        "id": "enO8VNVP24Gp"
      },
      "source": [
        "#### Construct Deep Learning Model Architecture"
      ]
    },
    {
      "cell_type": "code",
      "execution_count": null,
      "metadata": {
        "id": "GSXpYgst24Gq"
      },
      "outputs": [],
      "source": [
        "# use Input() to create tensors for - 'user' and 'movie'\n",
        "user_id_input  = Input(shape=(1,), name='user')\n",
        "movie_id_input = Input(shape=(1,), name='movie')"
      ]
    },
    {
      "cell_type": "code",
      "execution_count": null,
      "metadata": {
        "id": "gdV4lJri24Gs"
      },
      "outputs": [],
      "source": [
        "# Create embedding layer for users \n",
        "user_embedding = Embedding(output_dim=embedding_size, \n",
        "                           input_dim=users,\n",
        "                           input_length=1, \n",
        "                           name='user_embedding')(user_id_input)\n",
        "\n",
        "# create embedding layer for movies just like users\n",
        "movie_embedding = Embedding(output_dim=embedding_size, \n",
        "                           input_dim=movies,\n",
        "                           input_length=1, \n",
        "                           name='movie_embedding')(movie_id_input)"
      ]
    },
    {
      "cell_type": "code",
      "execution_count": null,
      "metadata": {
        "id": "cLpdb0pu24Gu"
      },
      "outputs": [],
      "source": [
        "# Reshape the embedding layers\n",
        "user_vector  = Reshape([embedding_size])(user_embedding)\n",
        "movie_vector = Reshape([embedding_size])(movie_embedding)"
      ]
    },
    {
      "cell_type": "code",
      "execution_count": null,
      "metadata": {
        "id": "S-RxXy5B24Gw"
      },
      "outputs": [],
      "source": [
        "# Compute dot-product of reshaped embedding layers as prediction\n",
        "y = Dot(1, normalize=False)([user_vector, movie_vector])"
      ]
    },
    {
      "cell_type": "code",
      "execution_count": null,
      "metadata": {
        "colab": {
          "base_uri": "https://localhost:8080/"
        },
        "id": "5wWeeSfR24Gy",
        "outputId": "746425e6-7746-4547-ed68-de2119389527"
      },
      "outputs": [
        {
          "output_type": "stream",
          "name": "stdout",
          "text": [
            "Model: \"model\"\n",
            "__________________________________________________________________________________________________\n",
            " Layer (type)                   Output Shape         Param #     Connected to                     \n",
            "==================================================================================================\n",
            " user (InputLayer)              [(None, 1)]          0           []                               \n",
            "                                                                                                  \n",
            " movie (InputLayer)             [(None, 1)]          0           []                               \n",
            "                                                                                                  \n",
            " user_embedding (Embedding)     (None, 1, 100)       2082800     ['user[0][0]']                   \n",
            "                                                                                                  \n",
            " movie_embedding (Embedding)    (None, 1, 100)       174100      ['movie[0][0]']                  \n",
            "                                                                                                  \n",
            " reshape (Reshape)              (None, 100)          0           ['user_embedding[0][0]']         \n",
            "                                                                                                  \n",
            " reshape_1 (Reshape)            (None, 100)          0           ['movie_embedding[0][0]']        \n",
            "                                                                                                  \n",
            " dot (Dot)                      (None, 1)            0           ['reshape[0][0]',                \n",
            "                                                                  'reshape_1[0][0]']              \n",
            "                                                                                                  \n",
            "==================================================================================================\n",
            "Total params: 2,256,900\n",
            "Trainable params: 2,256,900\n",
            "Non-trainable params: 0\n",
            "__________________________________________________________________________________________________\n"
          ]
        }
      ],
      "source": [
        "# Setup model\n",
        "model = Model(inputs=[user_id_input, movie_id_input], outputs=y)\n",
        "model.compile(loss='mse', optimizer='adam')\n",
        "model.summary()"
      ]
    },
    {
      "cell_type": "markdown",
      "metadata": {
        "id": "g0COamq25owq"
      },
      "source": [
        "#### Train and Test the Model"
      ]
    },
    {
      "cell_type": "code",
      "execution_count": null,
      "metadata": {
        "colab": {
          "base_uri": "https://localhost:8080/"
        },
        "id": "nK6aBtQN24Gz",
        "outputId": "c8db23fa-eec7-4366-b1ed-4b19dcd81b46"
      },
      "outputs": [
        {
          "output_type": "stream",
          "name": "stdout",
          "text": [
            "Epoch 1/5\n",
            "5125/5125 [==============================] - 115s 22ms/step - loss: 2.0884 - val_loss: 0.7860\n",
            "Epoch 2/5\n",
            "5125/5125 [==============================] - 105s 20ms/step - loss: 0.7457 - val_loss: 0.7298\n",
            "Epoch 3/5\n",
            "5125/5125 [==============================] - 102s 20ms/step - loss: 0.6770 - val_loss: 0.7002\n",
            "Epoch 4/5\n",
            "5125/5125 [==============================] - 105s 21ms/step - loss: 0.6129 - val_loss: 0.6911\n",
            "Epoch 5/5\n",
            "5125/5125 [==============================] - 109s 21ms/step - loss: 0.5492 - val_loss: 0.7019\n"
          ]
        },
        {
          "output_type": "execute_result",
          "data": {
            "text/plain": [
              "<keras.callbacks.History at 0x7f3c5352c130>"
            ]
          },
          "metadata": {},
          "execution_count": 70
        }
      ],
      "source": [
        "# Fit model\n",
        "X = [train_user_data, train_movie_data]\n",
        "y = df_train['Rating']\n",
        "\n",
        "batch_size = 1024\n",
        "epochs = 5\n",
        "validation_split = 0.1\n",
        "\n",
        "model.fit(X, y,\n",
        "          batch_size=batch_size, \n",
        "          epochs=epochs,\n",
        "          validation_split=validation_split,\n",
        "          shuffle=True,\n",
        "          verbose=1)"
      ]
    },
    {
      "cell_type": "code",
      "execution_count": null,
      "metadata": {
        "colab": {
          "base_uri": "https://localhost:8080/"
        },
        "id": "RZLw4PX3AUkz",
        "outputId": "82de3158-35bc-43a5-a394-75293e9ceaae"
      },
      "outputs": [
        {
          "output_type": "stream",
          "name": "stdout",
          "text": [
            "3125/3125 [==============================] - 5s 1ms/step\n",
            "\n",
            "\n",
            "Testing Result With DL Matrix-Factorization: 0.8349 RMSE\n"
          ]
        }
      ],
      "source": [
        "# Test model by making predictions on test data\n",
        "y_pred = model.predict([test_user_data, test_movie_data]).ravel()\n",
        "# clip upper and lower ratings\n",
        "y_pred = list(map(lambda x: 1.0 if x < 1 else 5.0 if x > 5.0 else x, y_pred))\n",
        "# get true labels\n",
        "y_true = df_test['Rating'].values\n",
        "\n",
        "#  Compute RMSE\n",
        "rmse = np.sqrt(mean_squared_error(y_pred=y_pred, y_true=y_true))\n",
        "print('\\n\\nTesting Result With DL Matrix-Factorization: {:.4f} RMSE'.format(rmse))"
      ]
    },
    {
      "cell_type": "code",
      "execution_count": null,
      "metadata": {
        "colab": {
          "base_uri": "https://localhost:8080/",
          "height": 677
        },
        "id": "oAX4MABlCm-9",
        "outputId": "eff39678-3ba8-4686-93ff-2ac8d1b4bfb8"
      },
      "outputs": [
        {
          "output_type": "execute_result",
          "data": {
            "text/plain": [
              "    User ID  Movie ID                                         Movie Name  \\\n",
              "0     10224       164            Richard Pryor: Live on the Sunset Strip   \n",
              "1     17379       270                                     Saludos Amigos   \n",
              "2     10311      1470                                     Voices of Iraq   \n",
              "3     12783      1186                          The Abominable Dr. Phibes   \n",
              "4      8945       994                                          Dark Town   \n",
              "5      2812      1716  Bear in the Big Blue House: Heroes of Woodland...   \n",
              "6      3673       247          Michael Moore's The Awful Truth: Season 2   \n",
              "7      4037        31  ABC Primetime: Mel Gibson's The Passion of the...   \n",
              "8      4803        96                                      Mostly Martha   \n",
              "9     10869       793                                A Stranger Among Us   \n",
              "10    12466        24      Inspector Morse 31: Death Is Now My Neighbour   \n",
              "11     4996       383                                         Crossroads   \n",
              "12     6523       239                                  Woman of the Year   \n",
              "13     1506       302                           Les Liaisons Dangereuses   \n",
              "14     4960       639                                  To Catch a Killer   \n",
              "15    11123       341                                               Noir   \n",
              "16     8894       106                           Magnolia: Bonus Material   \n",
              "17    20449       379                                          Live Wire   \n",
              "18    18107       458                                           Basquiat   \n",
              "19     1734        50         Jonah: A VeggieTales Movie: Bonus Material   \n",
              "\n",
              "    Predicted Rating  Actual Rating  \n",
              "0                3.0            3.0  \n",
              "1                3.4            3.0  \n",
              "2                3.5            3.0  \n",
              "3                3.7            5.0  \n",
              "4                2.5            3.0  \n",
              "5                2.3            4.0  \n",
              "6                2.2            2.0  \n",
              "7                5.0            4.0  \n",
              "8                2.7            3.0  \n",
              "9                3.4            3.0  \n",
              "10               3.4            2.0  \n",
              "11               4.0            5.0  \n",
              "12               4.2            5.0  \n",
              "13               3.3            3.0  \n",
              "14               3.3            3.0  \n",
              "15               2.4            3.0  \n",
              "16               2.7            4.0  \n",
              "17               3.8            4.0  \n",
              "18               3.9            4.0  \n",
              "19               3.9            3.0  "
            ],
            "text/html": [
              "\n",
              "  <div id=\"df-7b3a809e-40d4-4d4e-ab55-a9e1e0d53bae\">\n",
              "    <div class=\"colab-df-container\">\n",
              "      <div>\n",
              "<style scoped>\n",
              "    .dataframe tbody tr th:only-of-type {\n",
              "        vertical-align: middle;\n",
              "    }\n",
              "\n",
              "    .dataframe tbody tr th {\n",
              "        vertical-align: top;\n",
              "    }\n",
              "\n",
              "    .dataframe thead th {\n",
              "        text-align: right;\n",
              "    }\n",
              "</style>\n",
              "<table border=\"1\" class=\"dataframe\">\n",
              "  <thead>\n",
              "    <tr style=\"text-align: right;\">\n",
              "      <th></th>\n",
              "      <th>User ID</th>\n",
              "      <th>Movie ID</th>\n",
              "      <th>Movie Name</th>\n",
              "      <th>Predicted Rating</th>\n",
              "      <th>Actual Rating</th>\n",
              "    </tr>\n",
              "  </thead>\n",
              "  <tbody>\n",
              "    <tr>\n",
              "      <th>0</th>\n",
              "      <td>10224</td>\n",
              "      <td>164</td>\n",
              "      <td>Richard Pryor: Live on the Sunset Strip</td>\n",
              "      <td>3.0</td>\n",
              "      <td>3.0</td>\n",
              "    </tr>\n",
              "    <tr>\n",
              "      <th>1</th>\n",
              "      <td>17379</td>\n",
              "      <td>270</td>\n",
              "      <td>Saludos Amigos</td>\n",
              "      <td>3.4</td>\n",
              "      <td>3.0</td>\n",
              "    </tr>\n",
              "    <tr>\n",
              "      <th>2</th>\n",
              "      <td>10311</td>\n",
              "      <td>1470</td>\n",
              "      <td>Voices of Iraq</td>\n",
              "      <td>3.5</td>\n",
              "      <td>3.0</td>\n",
              "    </tr>\n",
              "    <tr>\n",
              "      <th>3</th>\n",
              "      <td>12783</td>\n",
              "      <td>1186</td>\n",
              "      <td>The Abominable Dr. Phibes</td>\n",
              "      <td>3.7</td>\n",
              "      <td>5.0</td>\n",
              "    </tr>\n",
              "    <tr>\n",
              "      <th>4</th>\n",
              "      <td>8945</td>\n",
              "      <td>994</td>\n",
              "      <td>Dark Town</td>\n",
              "      <td>2.5</td>\n",
              "      <td>3.0</td>\n",
              "    </tr>\n",
              "    <tr>\n",
              "      <th>5</th>\n",
              "      <td>2812</td>\n",
              "      <td>1716</td>\n",
              "      <td>Bear in the Big Blue House: Heroes of Woodland...</td>\n",
              "      <td>2.3</td>\n",
              "      <td>4.0</td>\n",
              "    </tr>\n",
              "    <tr>\n",
              "      <th>6</th>\n",
              "      <td>3673</td>\n",
              "      <td>247</td>\n",
              "      <td>Michael Moore's The Awful Truth: Season 2</td>\n",
              "      <td>2.2</td>\n",
              "      <td>2.0</td>\n",
              "    </tr>\n",
              "    <tr>\n",
              "      <th>7</th>\n",
              "      <td>4037</td>\n",
              "      <td>31</td>\n",
              "      <td>ABC Primetime: Mel Gibson's The Passion of the...</td>\n",
              "      <td>5.0</td>\n",
              "      <td>4.0</td>\n",
              "    </tr>\n",
              "    <tr>\n",
              "      <th>8</th>\n",
              "      <td>4803</td>\n",
              "      <td>96</td>\n",
              "      <td>Mostly Martha</td>\n",
              "      <td>2.7</td>\n",
              "      <td>3.0</td>\n",
              "    </tr>\n",
              "    <tr>\n",
              "      <th>9</th>\n",
              "      <td>10869</td>\n",
              "      <td>793</td>\n",
              "      <td>A Stranger Among Us</td>\n",
              "      <td>3.4</td>\n",
              "      <td>3.0</td>\n",
              "    </tr>\n",
              "    <tr>\n",
              "      <th>10</th>\n",
              "      <td>12466</td>\n",
              "      <td>24</td>\n",
              "      <td>Inspector Morse 31: Death Is Now My Neighbour</td>\n",
              "      <td>3.4</td>\n",
              "      <td>2.0</td>\n",
              "    </tr>\n",
              "    <tr>\n",
              "      <th>11</th>\n",
              "      <td>4996</td>\n",
              "      <td>383</td>\n",
              "      <td>Crossroads</td>\n",
              "      <td>4.0</td>\n",
              "      <td>5.0</td>\n",
              "    </tr>\n",
              "    <tr>\n",
              "      <th>12</th>\n",
              "      <td>6523</td>\n",
              "      <td>239</td>\n",
              "      <td>Woman of the Year</td>\n",
              "      <td>4.2</td>\n",
              "      <td>5.0</td>\n",
              "    </tr>\n",
              "    <tr>\n",
              "      <th>13</th>\n",
              "      <td>1506</td>\n",
              "      <td>302</td>\n",
              "      <td>Les Liaisons Dangereuses</td>\n",
              "      <td>3.3</td>\n",
              "      <td>3.0</td>\n",
              "    </tr>\n",
              "    <tr>\n",
              "      <th>14</th>\n",
              "      <td>4960</td>\n",
              "      <td>639</td>\n",
              "      <td>To Catch a Killer</td>\n",
              "      <td>3.3</td>\n",
              "      <td>3.0</td>\n",
              "    </tr>\n",
              "    <tr>\n",
              "      <th>15</th>\n",
              "      <td>11123</td>\n",
              "      <td>341</td>\n",
              "      <td>Noir</td>\n",
              "      <td>2.4</td>\n",
              "      <td>3.0</td>\n",
              "    </tr>\n",
              "    <tr>\n",
              "      <th>16</th>\n",
              "      <td>8894</td>\n",
              "      <td>106</td>\n",
              "      <td>Magnolia: Bonus Material</td>\n",
              "      <td>2.7</td>\n",
              "      <td>4.0</td>\n",
              "    </tr>\n",
              "    <tr>\n",
              "      <th>17</th>\n",
              "      <td>20449</td>\n",
              "      <td>379</td>\n",
              "      <td>Live Wire</td>\n",
              "      <td>3.8</td>\n",
              "      <td>4.0</td>\n",
              "    </tr>\n",
              "    <tr>\n",
              "      <th>18</th>\n",
              "      <td>18107</td>\n",
              "      <td>458</td>\n",
              "      <td>Basquiat</td>\n",
              "      <td>3.9</td>\n",
              "      <td>4.0</td>\n",
              "    </tr>\n",
              "    <tr>\n",
              "      <th>19</th>\n",
              "      <td>1734</td>\n",
              "      <td>50</td>\n",
              "      <td>Jonah: A VeggieTales Movie: Bonus Material</td>\n",
              "      <td>3.9</td>\n",
              "      <td>3.0</td>\n",
              "    </tr>\n",
              "  </tbody>\n",
              "</table>\n",
              "</div>\n",
              "      <button class=\"colab-df-convert\" onclick=\"convertToInteractive('df-7b3a809e-40d4-4d4e-ab55-a9e1e0d53bae')\"\n",
              "              title=\"Convert this dataframe to an interactive table.\"\n",
              "              style=\"display:none;\">\n",
              "        \n",
              "  <svg xmlns=\"http://www.w3.org/2000/svg\" height=\"24px\"viewBox=\"0 0 24 24\"\n",
              "       width=\"24px\">\n",
              "    <path d=\"M0 0h24v24H0V0z\" fill=\"none\"/>\n",
              "    <path d=\"M18.56 5.44l.94 2.06.94-2.06 2.06-.94-2.06-.94-.94-2.06-.94 2.06-2.06.94zm-11 1L8.5 8.5l.94-2.06 2.06-.94-2.06-.94L8.5 2.5l-.94 2.06-2.06.94zm10 10l.94 2.06.94-2.06 2.06-.94-2.06-.94-.94-2.06-.94 2.06-2.06.94z\"/><path d=\"M17.41 7.96l-1.37-1.37c-.4-.4-.92-.59-1.43-.59-.52 0-1.04.2-1.43.59L10.3 9.45l-7.72 7.72c-.78.78-.78 2.05 0 2.83L4 21.41c.39.39.9.59 1.41.59.51 0 1.02-.2 1.41-.59l7.78-7.78 2.81-2.81c.8-.78.8-2.07 0-2.86zM5.41 20L4 18.59l7.72-7.72 1.47 1.35L5.41 20z\"/>\n",
              "  </svg>\n",
              "      </button>\n",
              "      \n",
              "  <style>\n",
              "    .colab-df-container {\n",
              "      display:flex;\n",
              "      flex-wrap:wrap;\n",
              "      gap: 12px;\n",
              "    }\n",
              "\n",
              "    .colab-df-convert {\n",
              "      background-color: #E8F0FE;\n",
              "      border: none;\n",
              "      border-radius: 50%;\n",
              "      cursor: pointer;\n",
              "      display: none;\n",
              "      fill: #1967D2;\n",
              "      height: 32px;\n",
              "      padding: 0 0 0 0;\n",
              "      width: 32px;\n",
              "    }\n",
              "\n",
              "    .colab-df-convert:hover {\n",
              "      background-color: #E2EBFA;\n",
              "      box-shadow: 0px 1px 2px rgba(60, 64, 67, 0.3), 0px 1px 3px 1px rgba(60, 64, 67, 0.15);\n",
              "      fill: #174EA6;\n",
              "    }\n",
              "\n",
              "    [theme=dark] .colab-df-convert {\n",
              "      background-color: #3B4455;\n",
              "      fill: #D2E3FC;\n",
              "    }\n",
              "\n",
              "    [theme=dark] .colab-df-convert:hover {\n",
              "      background-color: #434B5C;\n",
              "      box-shadow: 0px 1px 3px 1px rgba(0, 0, 0, 0.15);\n",
              "      filter: drop-shadow(0px 1px 2px rgba(0, 0, 0, 0.3));\n",
              "      fill: #FFFFFF;\n",
              "    }\n",
              "  </style>\n",
              "\n",
              "      <script>\n",
              "        const buttonEl =\n",
              "          document.querySelector('#df-7b3a809e-40d4-4d4e-ab55-a9e1e0d53bae button.colab-df-convert');\n",
              "        buttonEl.style.display =\n",
              "          google.colab.kernel.accessAllowed ? 'block' : 'none';\n",
              "\n",
              "        async function convertToInteractive(key) {\n",
              "          const element = document.querySelector('#df-7b3a809e-40d4-4d4e-ab55-a9e1e0d53bae');\n",
              "          const dataTable =\n",
              "            await google.colab.kernel.invokeFunction('convertToInteractive',\n",
              "                                                     [key], {});\n",
              "          if (!dataTable) return;\n",
              "\n",
              "          const docLinkHtml = 'Like what you see? Visit the ' +\n",
              "            '<a target=\"_blank\" href=https://colab.research.google.com/notebooks/data_table.ipynb>data table notebook</a>'\n",
              "            + ' to learn more about interactive tables.';\n",
              "          element.innerHTML = '';\n",
              "          dataTable['output_type'] = 'display_data';\n",
              "          await google.colab.output.renderOutput(dataTable, element);\n",
              "          const docLink = document.createElement('div');\n",
              "          docLink.innerHTML = docLinkHtml;\n",
              "          element.appendChild(docLink);\n",
              "        }\n",
              "      </script>\n",
              "    </div>\n",
              "  </div>\n",
              "  "
            ]
          },
          "metadata": {},
          "execution_count": 72
        }
      ],
      "source": [
        "## Let's see how our collaborative model performs by seeing the predicted and actual rating for the given user and movie pair\n",
        "results_df = pd.DataFrame({\n",
        "    'User ID': test_user_data.values,\n",
        "    'Movie ID': test_movie_data.values,\n",
        "    'Movie Name': [movie_titles['Name'].iloc[item] for item in test_movie_data],\n",
        "    'Predicted Rating': np.round(y_pred, 1),\n",
        "    'Actual Rating': y_true\n",
        "})\n",
        "\n",
        "results_df.head(20)"
      ]
    },
    {
      "cell_type": "markdown",
      "metadata": {
        "id": "Gaq-sJqpc_B_"
      },
      "source": [
        "## 8.4: Hybrid Recommendation System (Content & Collaborative)\n",
        "\n",
        "One advantage of deep learning models is, that movie-metadata can easily be added to the model.\n",
        "We will tf-idf transform the short description of all movies to a sparse vector. The model will learn to reduce the dimensionality of this vector and how to combine metadata with the embedding of the user-id and the movie-id. In this way we can add any additional metadata to our own recommender.\n",
        "These kind of hybrid systems can learn how to reduce the impact of the cold start problem.\n",
        "\n",
        "Deep learning models require lots of data to train and predict. To provide our model with more data, we will include the movie metadata as well. We will do the following:\n",
        "\n",
        "\n",
        "*   Use movie metadata to combine with user and movie matrices in order to get more data\n",
        "*   Use tf-idf transform to vectorize movie metadata (Sparse Layer)\n",
        "*   Create an embedding of the metadata 512 -> 256 \n",
        "*   Combine all embeddings for movie tf-idf vectors, user and ratings to arrive at a common embedding space (256 sized embeddings per entity)\n",
        "*   Use the embeddings to train the model and get predictions on the test data\n",
        "\n",
        "\n",
        "\n",
        "\n",
        "\n"
      ]
    },
    {
      "cell_type": "markdown",
      "metadata": {
        "id": "gw7fwxvQc4DV"
      },
      "source": [
        "### Additional Hints:\n",
        "\n",
        "Dense layer setup :\n",
        "[Dense](https://www.tensorflow.org/api_docs/python/tf/keras/layers/Dense#example_2)\n",
        "\n",
        "Create model using tf.keras API : \n",
        "[Model](https://www.tensorflow.org/api_docs/python/tf/keras/Model#used-in-the-notebooks)\n",
        "\n",
        "Compile model using : [Compile](https://www.tensorflow.org/api_docs/python/tf/keras/Model#compile)\n",
        "\n",
        "Fit model : \n",
        "[fit](https://www.tensorflow.org/api_docs/python/tf/keras/Model#fit)\n",
        "\n",
        "Predict accuracy: [mean_squared_error](https://scikit-learn.org/stable/modules/generated/sklearn.metrics.mean_squared_error.html)\n",
        "\n"
      ]
    },
    {
      "cell_type": "markdown",
      "metadata": {
        "id": "hINM6pCk3yKz"
      },
      "source": [
        "### Q8.3: Building a Deep Learning Hybrid Recommendation System\n",
        "\n",
        "We will be building the following hybrid deep learning recommendation model as scene in the following schematic.\n",
        "\n",
        "![](https://drive.google.com/uc?id=1rr0r90-C86I94z15wDwkgdmZqr5SqeBX)\n",
        "\n",
        "__Your Turn:__ Fill in the necessary blank code snippets in the following sections to train your own DL hybrid recommendation system\n",
        "\n",
        "#### Create Configuration Parameters"
      ]
    },
    {
      "cell_type": "code",
      "execution_count": null,
      "metadata": {
        "id": "QmOFI6gNZOYy"
      },
      "outputs": [],
      "source": [
        "# ceate a copy of the filtered data frame\n",
        "df_filtered_cp = df_filtered.copy(deep=True)"
      ]
    },
    {
      "cell_type": "code",
      "source": [
        "df_filtered_cp"
      ],
      "metadata": {
        "colab": {
          "base_uri": "https://localhost:8080/",
          "height": 424
        },
        "id": "GT9m8QqP89Ct",
        "outputId": "9e9059ff-5c8d-4b66-eff4-f4b4d8677adf"
      },
      "execution_count": null,
      "outputs": [
        {
          "output_type": "execute_result",
          "data": {
            "text/plain": [
              "            User  Rating  Movie\n",
              "0        2036838     5.0   3962\n",
              "1        1279037     3.0   2112\n",
              "2        1445536     4.0   3315\n",
              "3        1450135     4.0   1051\n",
              "4        2076358     3.0   4106\n",
              "...          ...     ...    ...\n",
              "5930576   905964     5.0    270\n",
              "5930577   324253     4.0   2470\n",
              "5930578   553078     5.0    330\n",
              "5930579  1846965     3.0   1289\n",
              "5930580  1342369     3.0   3106\n",
              "\n",
              "[5930581 rows x 3 columns]"
            ],
            "text/html": [
              "\n",
              "  <div id=\"df-31c4fb99-50a3-4025-9d07-690e28fa74bd\">\n",
              "    <div class=\"colab-df-container\">\n",
              "      <div>\n",
              "<style scoped>\n",
              "    .dataframe tbody tr th:only-of-type {\n",
              "        vertical-align: middle;\n",
              "    }\n",
              "\n",
              "    .dataframe tbody tr th {\n",
              "        vertical-align: top;\n",
              "    }\n",
              "\n",
              "    .dataframe thead th {\n",
              "        text-align: right;\n",
              "    }\n",
              "</style>\n",
              "<table border=\"1\" class=\"dataframe\">\n",
              "  <thead>\n",
              "    <tr style=\"text-align: right;\">\n",
              "      <th></th>\n",
              "      <th>User</th>\n",
              "      <th>Rating</th>\n",
              "      <th>Movie</th>\n",
              "    </tr>\n",
              "  </thead>\n",
              "  <tbody>\n",
              "    <tr>\n",
              "      <th>0</th>\n",
              "      <td>2036838</td>\n",
              "      <td>5.0</td>\n",
              "      <td>3962</td>\n",
              "    </tr>\n",
              "    <tr>\n",
              "      <th>1</th>\n",
              "      <td>1279037</td>\n",
              "      <td>3.0</td>\n",
              "      <td>2112</td>\n",
              "    </tr>\n",
              "    <tr>\n",
              "      <th>2</th>\n",
              "      <td>1445536</td>\n",
              "      <td>4.0</td>\n",
              "      <td>3315</td>\n",
              "    </tr>\n",
              "    <tr>\n",
              "      <th>3</th>\n",
              "      <td>1450135</td>\n",
              "      <td>4.0</td>\n",
              "      <td>1051</td>\n",
              "    </tr>\n",
              "    <tr>\n",
              "      <th>4</th>\n",
              "      <td>2076358</td>\n",
              "      <td>3.0</td>\n",
              "      <td>4106</td>\n",
              "    </tr>\n",
              "    <tr>\n",
              "      <th>...</th>\n",
              "      <td>...</td>\n",
              "      <td>...</td>\n",
              "      <td>...</td>\n",
              "    </tr>\n",
              "    <tr>\n",
              "      <th>5930576</th>\n",
              "      <td>905964</td>\n",
              "      <td>5.0</td>\n",
              "      <td>270</td>\n",
              "    </tr>\n",
              "    <tr>\n",
              "      <th>5930577</th>\n",
              "      <td>324253</td>\n",
              "      <td>4.0</td>\n",
              "      <td>2470</td>\n",
              "    </tr>\n",
              "    <tr>\n",
              "      <th>5930578</th>\n",
              "      <td>553078</td>\n",
              "      <td>5.0</td>\n",
              "      <td>330</td>\n",
              "    </tr>\n",
              "    <tr>\n",
              "      <th>5930579</th>\n",
              "      <td>1846965</td>\n",
              "      <td>3.0</td>\n",
              "      <td>1289</td>\n",
              "    </tr>\n",
              "    <tr>\n",
              "      <th>5930580</th>\n",
              "      <td>1342369</td>\n",
              "      <td>3.0</td>\n",
              "      <td>3106</td>\n",
              "    </tr>\n",
              "  </tbody>\n",
              "</table>\n",
              "<p>5930581 rows × 3 columns</p>\n",
              "</div>\n",
              "      <button class=\"colab-df-convert\" onclick=\"convertToInteractive('df-31c4fb99-50a3-4025-9d07-690e28fa74bd')\"\n",
              "              title=\"Convert this dataframe to an interactive table.\"\n",
              "              style=\"display:none;\">\n",
              "        \n",
              "  <svg xmlns=\"http://www.w3.org/2000/svg\" height=\"24px\"viewBox=\"0 0 24 24\"\n",
              "       width=\"24px\">\n",
              "    <path d=\"M0 0h24v24H0V0z\" fill=\"none\"/>\n",
              "    <path d=\"M18.56 5.44l.94 2.06.94-2.06 2.06-.94-2.06-.94-.94-2.06-.94 2.06-2.06.94zm-11 1L8.5 8.5l.94-2.06 2.06-.94-2.06-.94L8.5 2.5l-.94 2.06-2.06.94zm10 10l.94 2.06.94-2.06 2.06-.94-2.06-.94-.94-2.06-.94 2.06-2.06.94z\"/><path d=\"M17.41 7.96l-1.37-1.37c-.4-.4-.92-.59-1.43-.59-.52 0-1.04.2-1.43.59L10.3 9.45l-7.72 7.72c-.78.78-.78 2.05 0 2.83L4 21.41c.39.39.9.59 1.41.59.51 0 1.02-.2 1.41-.59l7.78-7.78 2.81-2.81c.8-.78.8-2.07 0-2.86zM5.41 20L4 18.59l7.72-7.72 1.47 1.35L5.41 20z\"/>\n",
              "  </svg>\n",
              "      </button>\n",
              "      \n",
              "  <style>\n",
              "    .colab-df-container {\n",
              "      display:flex;\n",
              "      flex-wrap:wrap;\n",
              "      gap: 12px;\n",
              "    }\n",
              "\n",
              "    .colab-df-convert {\n",
              "      background-color: #E8F0FE;\n",
              "      border: none;\n",
              "      border-radius: 50%;\n",
              "      cursor: pointer;\n",
              "      display: none;\n",
              "      fill: #1967D2;\n",
              "      height: 32px;\n",
              "      padding: 0 0 0 0;\n",
              "      width: 32px;\n",
              "    }\n",
              "\n",
              "    .colab-df-convert:hover {\n",
              "      background-color: #E2EBFA;\n",
              "      box-shadow: 0px 1px 2px rgba(60, 64, 67, 0.3), 0px 1px 3px 1px rgba(60, 64, 67, 0.15);\n",
              "      fill: #174EA6;\n",
              "    }\n",
              "\n",
              "    [theme=dark] .colab-df-convert {\n",
              "      background-color: #3B4455;\n",
              "      fill: #D2E3FC;\n",
              "    }\n",
              "\n",
              "    [theme=dark] .colab-df-convert:hover {\n",
              "      background-color: #434B5C;\n",
              "      box-shadow: 0px 1px 3px 1px rgba(0, 0, 0, 0.15);\n",
              "      filter: drop-shadow(0px 1px 2px rgba(0, 0, 0, 0.3));\n",
              "      fill: #FFFFFF;\n",
              "    }\n",
              "  </style>\n",
              "\n",
              "      <script>\n",
              "        const buttonEl =\n",
              "          document.querySelector('#df-31c4fb99-50a3-4025-9d07-690e28fa74bd button.colab-df-convert');\n",
              "        buttonEl.style.display =\n",
              "          google.colab.kernel.accessAllowed ? 'block' : 'none';\n",
              "\n",
              "        async function convertToInteractive(key) {\n",
              "          const element = document.querySelector('#df-31c4fb99-50a3-4025-9d07-690e28fa74bd');\n",
              "          const dataTable =\n",
              "            await google.colab.kernel.invokeFunction('convertToInteractive',\n",
              "                                                     [key], {});\n",
              "          if (!dataTable) return;\n",
              "\n",
              "          const docLinkHtml = 'Like what you see? Visit the ' +\n",
              "            '<a target=\"_blank\" href=https://colab.research.google.com/notebooks/data_table.ipynb>data table notebook</a>'\n",
              "            + ' to learn more about interactive tables.';\n",
              "          element.innerHTML = '';\n",
              "          dataTable['output_type'] = 'display_data';\n",
              "          await google.colab.output.renderOutput(dataTable, element);\n",
              "          const docLink = document.createElement('div');\n",
              "          docLink.innerHTML = docLinkHtml;\n",
              "          element.appendChild(docLink);\n",
              "        }\n",
              "      </script>\n",
              "    </div>\n",
              "  </div>\n",
              "  "
            ]
          },
          "metadata": {},
          "execution_count": 74
        }
      ]
    },
    {
      "cell_type": "code",
      "execution_count": null,
      "metadata": {
        "id": "eknbQW6mHsKN"
      },
      "outputs": [],
      "source": [
        "# Create user- & movie-id mapping\n",
        "user_id_mapping  = {id:i for i, id in enumerate(df_filtered_cp['User'].unique())}\n",
        "movie_id_mapping = {id:i for i, id in enumerate(df_filtered_cp['Movie'].unique())}"
      ]
    },
    {
      "cell_type": "code",
      "source": [
        "n_items = take(10, user_id_mapping.items())\n",
        "print(n_items)\n",
        "print()\n",
        "n_items = take(10, movie_id_mapping.items())\n",
        "print(n_items)"
      ],
      "metadata": {
        "colab": {
          "base_uri": "https://localhost:8080/"
        },
        "id": "v1Dd5mdO9Lvl",
        "outputId": "6bde1822-d6eb-4f81-f4ac-2fc8d6e2d26b"
      },
      "execution_count": null,
      "outputs": [
        {
          "output_type": "stream",
          "name": "stdout",
          "text": [
            "[('2036838', 0), ('1279037', 1), ('1445536', 2), ('1450135', 3), ('2076358', 4), ('10947', 5), ('88188', 6), ('1700131', 7), ('305344', 8), ('1840149', 9)]\n",
            "\n",
            "[(3962, 0), (2112, 1), (3315, 2), (1051, 3), (4106, 4), (1975, 5), (2431, 6), (4262, 7), (4092, 8), (1668, 9)]\n"
          ]
        }
      ]
    },
    {
      "cell_type": "code",
      "execution_count": null,
      "metadata": {
        "id": "yLHTi2NsIEAM"
      },
      "outputs": [],
      "source": [
        "# use dataframe map function to map users & movies to mapped ids based on above mapping\n",
        "df_filtered_cp['User']  = df_filtered_cp['User'].map(user_id_mapping)\n",
        "df_filtered_cp['Movie'] = df_filtered_cp['Movie'].map(movie_id_mapping)"
      ]
    },
    {
      "cell_type": "markdown",
      "metadata": {
        "id": "fh1Bg5Q_38mF"
      },
      "source": [
        "#### Create Movie Description Dataset (Content)"
      ]
    },
    {
      "cell_type": "code",
      "execution_count": null,
      "metadata": {
        "colab": {
          "base_uri": "https://localhost:8080/",
          "height": 255
        },
        "id": "CoAHPk1SIECT",
        "outputId": "9242ac66-e64b-4d22-cd83-e1e7937a6470"
      },
      "outputs": [
        {
          "output_type": "stream",
          "name": "stdout",
          "text": [
            "Movie Description DF Shape: (6939, 1)\n"
          ]
        },
        {
          "output_type": "execute_result",
          "data": {
            "text/plain": [
              "                                                overview\n",
              "Id                                                      \n",
              "16182  daryl zero is a private investigator. along wi...\n",
              "15233  clear the runway for derek zoolander, vh1's th...\n",
              "1210   a newly arrived governor finds his province un...\n",
              "17631  in 1879, during the zulu wars, man of the peop...\n",
              "17631  as a child, ali neuman narrowly escaped being ..."
            ],
            "text/html": [
              "\n",
              "  <div id=\"df-4635563e-2200-49d4-ae88-347e1eddf4fd\">\n",
              "    <div class=\"colab-df-container\">\n",
              "      <div>\n",
              "<style scoped>\n",
              "    .dataframe tbody tr th:only-of-type {\n",
              "        vertical-align: middle;\n",
              "    }\n",
              "\n",
              "    .dataframe tbody tr th {\n",
              "        vertical-align: top;\n",
              "    }\n",
              "\n",
              "    .dataframe thead th {\n",
              "        text-align: right;\n",
              "    }\n",
              "</style>\n",
              "<table border=\"1\" class=\"dataframe\">\n",
              "  <thead>\n",
              "    <tr style=\"text-align: right;\">\n",
              "      <th></th>\n",
              "      <th>overview</th>\n",
              "    </tr>\n",
              "    <tr>\n",
              "      <th>Id</th>\n",
              "      <th></th>\n",
              "    </tr>\n",
              "  </thead>\n",
              "  <tbody>\n",
              "    <tr>\n",
              "      <th>16182</th>\n",
              "      <td>daryl zero is a private investigator. along wi...</td>\n",
              "    </tr>\n",
              "    <tr>\n",
              "      <th>15233</th>\n",
              "      <td>clear the runway for derek zoolander, vh1's th...</td>\n",
              "    </tr>\n",
              "    <tr>\n",
              "      <th>1210</th>\n",
              "      <td>a newly arrived governor finds his province un...</td>\n",
              "    </tr>\n",
              "    <tr>\n",
              "      <th>17631</th>\n",
              "      <td>in 1879, during the zulu wars, man of the peop...</td>\n",
              "    </tr>\n",
              "    <tr>\n",
              "      <th>17631</th>\n",
              "      <td>as a child, ali neuman narrowly escaped being ...</td>\n",
              "    </tr>\n",
              "  </tbody>\n",
              "</table>\n",
              "</div>\n",
              "      <button class=\"colab-df-convert\" onclick=\"convertToInteractive('df-4635563e-2200-49d4-ae88-347e1eddf4fd')\"\n",
              "              title=\"Convert this dataframe to an interactive table.\"\n",
              "              style=\"display:none;\">\n",
              "        \n",
              "  <svg xmlns=\"http://www.w3.org/2000/svg\" height=\"24px\"viewBox=\"0 0 24 24\"\n",
              "       width=\"24px\">\n",
              "    <path d=\"M0 0h24v24H0V0z\" fill=\"none\"/>\n",
              "    <path d=\"M18.56 5.44l.94 2.06.94-2.06 2.06-.94-2.06-.94-.94-2.06-.94 2.06-2.06.94zm-11 1L8.5 8.5l.94-2.06 2.06-.94-2.06-.94L8.5 2.5l-.94 2.06-2.06.94zm10 10l.94 2.06.94-2.06 2.06-.94-2.06-.94-.94-2.06-.94 2.06-2.06.94z\"/><path d=\"M17.41 7.96l-1.37-1.37c-.4-.4-.92-.59-1.43-.59-.52 0-1.04.2-1.43.59L10.3 9.45l-7.72 7.72c-.78.78-.78 2.05 0 2.83L4 21.41c.39.39.9.59 1.41.59.51 0 1.02-.2 1.41-.59l7.78-7.78 2.81-2.81c.8-.78.8-2.07 0-2.86zM5.41 20L4 18.59l7.72-7.72 1.47 1.35L5.41 20z\"/>\n",
              "  </svg>\n",
              "      </button>\n",
              "      \n",
              "  <style>\n",
              "    .colab-df-container {\n",
              "      display:flex;\n",
              "      flex-wrap:wrap;\n",
              "      gap: 12px;\n",
              "    }\n",
              "\n",
              "    .colab-df-convert {\n",
              "      background-color: #E8F0FE;\n",
              "      border: none;\n",
              "      border-radius: 50%;\n",
              "      cursor: pointer;\n",
              "      display: none;\n",
              "      fill: #1967D2;\n",
              "      height: 32px;\n",
              "      padding: 0 0 0 0;\n",
              "      width: 32px;\n",
              "    }\n",
              "\n",
              "    .colab-df-convert:hover {\n",
              "      background-color: #E2EBFA;\n",
              "      box-shadow: 0px 1px 2px rgba(60, 64, 67, 0.3), 0px 1px 3px 1px rgba(60, 64, 67, 0.15);\n",
              "      fill: #174EA6;\n",
              "    }\n",
              "\n",
              "    [theme=dark] .colab-df-convert {\n",
              "      background-color: #3B4455;\n",
              "      fill: #D2E3FC;\n",
              "    }\n",
              "\n",
              "    [theme=dark] .colab-df-convert:hover {\n",
              "      background-color: #434B5C;\n",
              "      box-shadow: 0px 1px 3px 1px rgba(0, 0, 0, 0.15);\n",
              "      filter: drop-shadow(0px 1px 2px rgba(0, 0, 0, 0.3));\n",
              "      fill: #FFFFFF;\n",
              "    }\n",
              "  </style>\n",
              "\n",
              "      <script>\n",
              "        const buttonEl =\n",
              "          document.querySelector('#df-4635563e-2200-49d4-ae88-347e1eddf4fd button.colab-df-convert');\n",
              "        buttonEl.style.display =\n",
              "          google.colab.kernel.accessAllowed ? 'block' : 'none';\n",
              "\n",
              "        async function convertToInteractive(key) {\n",
              "          const element = document.querySelector('#df-4635563e-2200-49d4-ae88-347e1eddf4fd');\n",
              "          const dataTable =\n",
              "            await google.colab.kernel.invokeFunction('convertToInteractive',\n",
              "                                                     [key], {});\n",
              "          if (!dataTable) return;\n",
              "\n",
              "          const docLinkHtml = 'Like what you see? Visit the ' +\n",
              "            '<a target=\"_blank\" href=https://colab.research.google.com/notebooks/data_table.ipynb>data table notebook</a>'\n",
              "            + ' to learn more about interactive tables.';\n",
              "          element.innerHTML = '';\n",
              "          dataTable['output_type'] = 'display_data';\n",
              "          await google.colab.output.renderOutput(dataTable, element);\n",
              "          const docLink = document.createElement('div');\n",
              "          docLink.innerHTML = docLinkHtml;\n",
              "          element.appendChild(docLink);\n",
              "        }\n",
              "      </script>\n",
              "    </div>\n",
              "  </div>\n",
              "  "
            ]
          },
          "metadata": {},
          "execution_count": 78
        }
      ],
      "source": [
        "# Preprocess metadata\n",
        "tmp_metadata = movie_metadata.copy()\n",
        "tmp_metadata.index = tmp_metadata.index.str.lower()\n",
        "\n",
        "# Preprocess titles\n",
        "tmp_titles = movie_titles.drop('Year', axis=1).copy()\n",
        "tmp_titles = tmp_titles.reset_index().set_index('Name')\n",
        "tmp_titles.index = tmp_titles.index.str.lower()\n",
        "\n",
        "# Combine titles and metadata\n",
        "df_id_descriptions = tmp_titles.join(tmp_metadata).dropna().set_index('Id')\n",
        "df_id_descriptions['overview'] = df_id_descriptions['overview'].str.lower()\n",
        "#del tmp_metadata,tmp_titles\n",
        "print('Movie Description DF Shape:', df_id_descriptions.shape)\n",
        "df_id_descriptions.tail()"
      ]
    },
    {
      "cell_type": "markdown",
      "metadata": {
        "id": "R7__gU8E44m-"
      },
      "source": [
        "#### Create User-Rating Filtered Dataset (Collaborative)\n",
        "\n",
        "Here we filter out movie-user-ratings where movies don't have descriptions (content)"
      ]
    },
    {
      "cell_type": "code",
      "execution_count": null,
      "metadata": {
        "colab": {
          "base_uri": "https://localhost:8080/",
          "height": 224
        },
        "id": "w-NM3bV_JOG_",
        "outputId": "c39c0ede-71af-459f-c8d4-d200f6b78218"
      },
      "outputs": [
        {
          "output_type": "stream",
          "name": "stdout",
          "text": [
            "Movie-User-Rating DF Shape: (2181679, 3)\n"
          ]
        },
        {
          "output_type": "execute_result",
          "data": {
            "text/plain": [
              "   Movie  User  Rating\n",
              "0     12    12     2.0\n",
              "1     12  4438     4.0\n",
              "2     12  1158     3.0\n",
              "3     12  5315     4.0\n",
              "4     12  4211     4.0"
            ],
            "text/html": [
              "\n",
              "  <div id=\"df-9d3c77e2-242e-4a29-93d4-56d511ca70dd\">\n",
              "    <div class=\"colab-df-container\">\n",
              "      <div>\n",
              "<style scoped>\n",
              "    .dataframe tbody tr th:only-of-type {\n",
              "        vertical-align: middle;\n",
              "    }\n",
              "\n",
              "    .dataframe tbody tr th {\n",
              "        vertical-align: top;\n",
              "    }\n",
              "\n",
              "    .dataframe thead th {\n",
              "        text-align: right;\n",
              "    }\n",
              "</style>\n",
              "<table border=\"1\" class=\"dataframe\">\n",
              "  <thead>\n",
              "    <tr style=\"text-align: right;\">\n",
              "      <th></th>\n",
              "      <th>Movie</th>\n",
              "      <th>User</th>\n",
              "      <th>Rating</th>\n",
              "    </tr>\n",
              "  </thead>\n",
              "  <tbody>\n",
              "    <tr>\n",
              "      <th>0</th>\n",
              "      <td>12</td>\n",
              "      <td>12</td>\n",
              "      <td>2.0</td>\n",
              "    </tr>\n",
              "    <tr>\n",
              "      <th>1</th>\n",
              "      <td>12</td>\n",
              "      <td>4438</td>\n",
              "      <td>4.0</td>\n",
              "    </tr>\n",
              "    <tr>\n",
              "      <th>2</th>\n",
              "      <td>12</td>\n",
              "      <td>1158</td>\n",
              "      <td>3.0</td>\n",
              "    </tr>\n",
              "    <tr>\n",
              "      <th>3</th>\n",
              "      <td>12</td>\n",
              "      <td>5315</td>\n",
              "      <td>4.0</td>\n",
              "    </tr>\n",
              "    <tr>\n",
              "      <th>4</th>\n",
              "      <td>12</td>\n",
              "      <td>4211</td>\n",
              "      <td>4.0</td>\n",
              "    </tr>\n",
              "  </tbody>\n",
              "</table>\n",
              "</div>\n",
              "      <button class=\"colab-df-convert\" onclick=\"convertToInteractive('df-9d3c77e2-242e-4a29-93d4-56d511ca70dd')\"\n",
              "              title=\"Convert this dataframe to an interactive table.\"\n",
              "              style=\"display:none;\">\n",
              "        \n",
              "  <svg xmlns=\"http://www.w3.org/2000/svg\" height=\"24px\"viewBox=\"0 0 24 24\"\n",
              "       width=\"24px\">\n",
              "    <path d=\"M0 0h24v24H0V0z\" fill=\"none\"/>\n",
              "    <path d=\"M18.56 5.44l.94 2.06.94-2.06 2.06-.94-2.06-.94-.94-2.06-.94 2.06-2.06.94zm-11 1L8.5 8.5l.94-2.06 2.06-.94-2.06-.94L8.5 2.5l-.94 2.06-2.06.94zm10 10l.94 2.06.94-2.06 2.06-.94-2.06-.94-.94-2.06-.94 2.06-2.06.94z\"/><path d=\"M17.41 7.96l-1.37-1.37c-.4-.4-.92-.59-1.43-.59-.52 0-1.04.2-1.43.59L10.3 9.45l-7.72 7.72c-.78.78-.78 2.05 0 2.83L4 21.41c.39.39.9.59 1.41.59.51 0 1.02-.2 1.41-.59l7.78-7.78 2.81-2.81c.8-.78.8-2.07 0-2.86zM5.41 20L4 18.59l7.72-7.72 1.47 1.35L5.41 20z\"/>\n",
              "  </svg>\n",
              "      </button>\n",
              "      \n",
              "  <style>\n",
              "    .colab-df-container {\n",
              "      display:flex;\n",
              "      flex-wrap:wrap;\n",
              "      gap: 12px;\n",
              "    }\n",
              "\n",
              "    .colab-df-convert {\n",
              "      background-color: #E8F0FE;\n",
              "      border: none;\n",
              "      border-radius: 50%;\n",
              "      cursor: pointer;\n",
              "      display: none;\n",
              "      fill: #1967D2;\n",
              "      height: 32px;\n",
              "      padding: 0 0 0 0;\n",
              "      width: 32px;\n",
              "    }\n",
              "\n",
              "    .colab-df-convert:hover {\n",
              "      background-color: #E2EBFA;\n",
              "      box-shadow: 0px 1px 2px rgba(60, 64, 67, 0.3), 0px 1px 3px 1px rgba(60, 64, 67, 0.15);\n",
              "      fill: #174EA6;\n",
              "    }\n",
              "\n",
              "    [theme=dark] .colab-df-convert {\n",
              "      background-color: #3B4455;\n",
              "      fill: #D2E3FC;\n",
              "    }\n",
              "\n",
              "    [theme=dark] .colab-df-convert:hover {\n",
              "      background-color: #434B5C;\n",
              "      box-shadow: 0px 1px 3px 1px rgba(0, 0, 0, 0.15);\n",
              "      filter: drop-shadow(0px 1px 2px rgba(0, 0, 0, 0.3));\n",
              "      fill: #FFFFFF;\n",
              "    }\n",
              "  </style>\n",
              "\n",
              "      <script>\n",
              "        const buttonEl =\n",
              "          document.querySelector('#df-9d3c77e2-242e-4a29-93d4-56d511ca70dd button.colab-df-convert');\n",
              "        buttonEl.style.display =\n",
              "          google.colab.kernel.accessAllowed ? 'block' : 'none';\n",
              "\n",
              "        async function convertToInteractive(key) {\n",
              "          const element = document.querySelector('#df-9d3c77e2-242e-4a29-93d4-56d511ca70dd');\n",
              "          const dataTable =\n",
              "            await google.colab.kernel.invokeFunction('convertToInteractive',\n",
              "                                                     [key], {});\n",
              "          if (!dataTable) return;\n",
              "\n",
              "          const docLinkHtml = 'Like what you see? Visit the ' +\n",
              "            '<a target=\"_blank\" href=https://colab.research.google.com/notebooks/data_table.ipynb>data table notebook</a>'\n",
              "            + ' to learn more about interactive tables.';\n",
              "          element.innerHTML = '';\n",
              "          dataTable['output_type'] = 'display_data';\n",
              "          await google.colab.output.renderOutput(dataTable, element);\n",
              "          const docLink = document.createElement('div');\n",
              "          docLink.innerHTML = docLinkHtml;\n",
              "          element.appendChild(docLink);\n",
              "        }\n",
              "      </script>\n",
              "    </div>\n",
              "  </div>\n",
              "  "
            ]
          },
          "metadata": {},
          "execution_count": 79
        }
      ],
      "source": [
        "df_hybrid = (df_filtered_cp.set_index('Movie')\n",
        "               .join(df_id_descriptions)\n",
        "               .dropna()\n",
        "               .drop('overview', axis=1)\n",
        "               .reset_index().rename({'index':'Movie'}, \n",
        "                                      axis=1))\n",
        "print('Movie-User-Rating DF Shape:', df_hybrid.shape)\n",
        "df_hybrid.head()"
      ]
    },
    {
      "cell_type": "code",
      "execution_count": null,
      "metadata": {
        "colab": {
          "base_uri": "https://localhost:8080/"
        },
        "id": "j7CHcKM_JOOw",
        "outputId": "5de0f3ea-e023-4372-81ec-708678a64d7b"
      },
      "outputs": [
        {
          "output_type": "execute_result",
          "data": {
            "text/plain": [
              "((1881679, 3), (300000, 3))"
            ]
          },
          "metadata": {},
          "execution_count": 80
        }
      ],
      "source": [
        "# Split train- & testset\n",
        "n = 300000\n",
        "df_hybrid = df_hybrid.sample(frac=1).reset_index(drop=True)\n",
        "df_hybrid_train = df_hybrid[:-n]\n",
        "df_hybrid_test  = df_hybrid[-n:]\n",
        "df_hybrid_train.shape, df_hybrid_test.shape"
      ]
    },
    {
      "cell_type": "markdown",
      "metadata": {
        "id": "k33OwrFO5RpF"
      },
      "source": [
        "#### Generate TFIDF Vectors for Train and Test Datasets (Movie Descriptions)"
      ]
    },
    {
      "cell_type": "code",
      "source": [
        "df_id_descriptions"
      ],
      "metadata": {
        "colab": {
          "base_uri": "https://localhost:8080/",
          "height": 455
        },
        "id": "4tFBo7bVA9fI",
        "outputId": "f8258d80-d347-4caa-b06b-154789c371e3"
      },
      "execution_count": null,
      "outputs": [
        {
          "output_type": "execute_result",
          "data": {
            "text/plain": [
              "                                                overview\n",
              "Id                                                      \n",
              "7756   an ethical baltimore defense lawyer disgusted ...\n",
              "2945   a hollywood songwriter goes through a mid-life...\n",
              "14249  a hollywood songwriter goes through a mid-life...\n",
              "3463   bianca, a tenth grader, has never gone on a da...\n",
              "11972  based on the real-life richard speck murders, ...\n",
              "...                                                  ...\n",
              "16182  daryl zero is a private investigator. along wi...\n",
              "15233  clear the runway for derek zoolander, vh1's th...\n",
              "1210   a newly arrived governor finds his province un...\n",
              "17631  in 1879, during the zulu wars, man of the peop...\n",
              "17631  as a child, ali neuman narrowly escaped being ...\n",
              "\n",
              "[6939 rows x 1 columns]"
            ],
            "text/html": [
              "\n",
              "  <div id=\"df-26ad50fb-2a11-4b81-aecf-868186649a33\">\n",
              "    <div class=\"colab-df-container\">\n",
              "      <div>\n",
              "<style scoped>\n",
              "    .dataframe tbody tr th:only-of-type {\n",
              "        vertical-align: middle;\n",
              "    }\n",
              "\n",
              "    .dataframe tbody tr th {\n",
              "        vertical-align: top;\n",
              "    }\n",
              "\n",
              "    .dataframe thead th {\n",
              "        text-align: right;\n",
              "    }\n",
              "</style>\n",
              "<table border=\"1\" class=\"dataframe\">\n",
              "  <thead>\n",
              "    <tr style=\"text-align: right;\">\n",
              "      <th></th>\n",
              "      <th>overview</th>\n",
              "    </tr>\n",
              "    <tr>\n",
              "      <th>Id</th>\n",
              "      <th></th>\n",
              "    </tr>\n",
              "  </thead>\n",
              "  <tbody>\n",
              "    <tr>\n",
              "      <th>7756</th>\n",
              "      <td>an ethical baltimore defense lawyer disgusted ...</td>\n",
              "    </tr>\n",
              "    <tr>\n",
              "      <th>2945</th>\n",
              "      <td>a hollywood songwriter goes through a mid-life...</td>\n",
              "    </tr>\n",
              "    <tr>\n",
              "      <th>14249</th>\n",
              "      <td>a hollywood songwriter goes through a mid-life...</td>\n",
              "    </tr>\n",
              "    <tr>\n",
              "      <th>3463</th>\n",
              "      <td>bianca, a tenth grader, has never gone on a da...</td>\n",
              "    </tr>\n",
              "    <tr>\n",
              "      <th>11972</th>\n",
              "      <td>based on the real-life richard speck murders, ...</td>\n",
              "    </tr>\n",
              "    <tr>\n",
              "      <th>...</th>\n",
              "      <td>...</td>\n",
              "    </tr>\n",
              "    <tr>\n",
              "      <th>16182</th>\n",
              "      <td>daryl zero is a private investigator. along wi...</td>\n",
              "    </tr>\n",
              "    <tr>\n",
              "      <th>15233</th>\n",
              "      <td>clear the runway for derek zoolander, vh1's th...</td>\n",
              "    </tr>\n",
              "    <tr>\n",
              "      <th>1210</th>\n",
              "      <td>a newly arrived governor finds his province un...</td>\n",
              "    </tr>\n",
              "    <tr>\n",
              "      <th>17631</th>\n",
              "      <td>in 1879, during the zulu wars, man of the peop...</td>\n",
              "    </tr>\n",
              "    <tr>\n",
              "      <th>17631</th>\n",
              "      <td>as a child, ali neuman narrowly escaped being ...</td>\n",
              "    </tr>\n",
              "  </tbody>\n",
              "</table>\n",
              "<p>6939 rows × 1 columns</p>\n",
              "</div>\n",
              "      <button class=\"colab-df-convert\" onclick=\"convertToInteractive('df-26ad50fb-2a11-4b81-aecf-868186649a33')\"\n",
              "              title=\"Convert this dataframe to an interactive table.\"\n",
              "              style=\"display:none;\">\n",
              "        \n",
              "  <svg xmlns=\"http://www.w3.org/2000/svg\" height=\"24px\"viewBox=\"0 0 24 24\"\n",
              "       width=\"24px\">\n",
              "    <path d=\"M0 0h24v24H0V0z\" fill=\"none\"/>\n",
              "    <path d=\"M18.56 5.44l.94 2.06.94-2.06 2.06-.94-2.06-.94-.94-2.06-.94 2.06-2.06.94zm-11 1L8.5 8.5l.94-2.06 2.06-.94-2.06-.94L8.5 2.5l-.94 2.06-2.06.94zm10 10l.94 2.06.94-2.06 2.06-.94-2.06-.94-.94-2.06-.94 2.06-2.06.94z\"/><path d=\"M17.41 7.96l-1.37-1.37c-.4-.4-.92-.59-1.43-.59-.52 0-1.04.2-1.43.59L10.3 9.45l-7.72 7.72c-.78.78-.78 2.05 0 2.83L4 21.41c.39.39.9.59 1.41.59.51 0 1.02-.2 1.41-.59l7.78-7.78 2.81-2.81c.8-.78.8-2.07 0-2.86zM5.41 20L4 18.59l7.72-7.72 1.47 1.35L5.41 20z\"/>\n",
              "  </svg>\n",
              "      </button>\n",
              "      \n",
              "  <style>\n",
              "    .colab-df-container {\n",
              "      display:flex;\n",
              "      flex-wrap:wrap;\n",
              "      gap: 12px;\n",
              "    }\n",
              "\n",
              "    .colab-df-convert {\n",
              "      background-color: #E8F0FE;\n",
              "      border: none;\n",
              "      border-radius: 50%;\n",
              "      cursor: pointer;\n",
              "      display: none;\n",
              "      fill: #1967D2;\n",
              "      height: 32px;\n",
              "      padding: 0 0 0 0;\n",
              "      width: 32px;\n",
              "    }\n",
              "\n",
              "    .colab-df-convert:hover {\n",
              "      background-color: #E2EBFA;\n",
              "      box-shadow: 0px 1px 2px rgba(60, 64, 67, 0.3), 0px 1px 3px 1px rgba(60, 64, 67, 0.15);\n",
              "      fill: #174EA6;\n",
              "    }\n",
              "\n",
              "    [theme=dark] .colab-df-convert {\n",
              "      background-color: #3B4455;\n",
              "      fill: #D2E3FC;\n",
              "    }\n",
              "\n",
              "    [theme=dark] .colab-df-convert:hover {\n",
              "      background-color: #434B5C;\n",
              "      box-shadow: 0px 1px 3px 1px rgba(0, 0, 0, 0.15);\n",
              "      filter: drop-shadow(0px 1px 2px rgba(0, 0, 0, 0.3));\n",
              "      fill: #FFFFFF;\n",
              "    }\n",
              "  </style>\n",
              "\n",
              "      <script>\n",
              "        const buttonEl =\n",
              "          document.querySelector('#df-26ad50fb-2a11-4b81-aecf-868186649a33 button.colab-df-convert');\n",
              "        buttonEl.style.display =\n",
              "          google.colab.kernel.accessAllowed ? 'block' : 'none';\n",
              "\n",
              "        async function convertToInteractive(key) {\n",
              "          const element = document.querySelector('#df-26ad50fb-2a11-4b81-aecf-868186649a33');\n",
              "          const dataTable =\n",
              "            await google.colab.kernel.invokeFunction('convertToInteractive',\n",
              "                                                     [key], {});\n",
              "          if (!dataTable) return;\n",
              "\n",
              "          const docLinkHtml = 'Like what you see? Visit the ' +\n",
              "            '<a target=\"_blank\" href=https://colab.research.google.com/notebooks/data_table.ipynb>data table notebook</a>'\n",
              "            + ' to learn more about interactive tables.';\n",
              "          element.innerHTML = '';\n",
              "          dataTable['output_type'] = 'display_data';\n",
              "          await google.colab.output.renderOutput(dataTable, element);\n",
              "          const docLink = document.createElement('div');\n",
              "          docLink.innerHTML = docLinkHtml;\n",
              "          element.appendChild(docLink);\n",
              "        }\n",
              "      </script>\n",
              "    </div>\n",
              "  </div>\n",
              "  "
            ]
          },
          "metadata": {},
          "execution_count": 81
        }
      ]
    },
    {
      "cell_type": "code",
      "execution_count": null,
      "metadata": {
        "id": "ZqiyhdelU775"
      },
      "outputs": [],
      "source": [
        "# Create tf-idf matrix for movie description vectors - HINT: check the overview column of df_id_description\n",
        "tfidf = TfidfVectorizer(stop_words='english')\n",
        "tfidf_hybrid = tfidf.fit_transform(df_id_descriptions['overview'])\n"
      ]
    },
    {
      "cell_type": "code",
      "execution_count": null,
      "metadata": {
        "id": "RgxZz-0wU7-C"
      },
      "outputs": [],
      "source": [
        "# Get mapping from movie-ids to indices in tfidf-matrix\n",
        "movie_idx_mapping = {id:i for i, id in enumerate(df_id_descriptions.index)}"
      ]
    },
    {
      "cell_type": "code",
      "execution_count": null,
      "metadata": {
        "colab": {
          "base_uri": "https://localhost:8080/"
        },
        "id": "HemfBsDqU8AL",
        "outputId": "f759835a-9231-4b93-cd55-3303d4f7bcdb"
      },
      "outputs": [
        {
          "output_type": "stream",
          "name": "stderr",
          "text": [
            "100%|██████████| 1881679/1881679 [02:47<00:00, 11247.95it/s]\n"
          ]
        },
        {
          "output_type": "execute_result",
          "data": {
            "text/plain": [
              "1881679"
            ]
          },
          "metadata": {},
          "execution_count": 84
        }
      ],
      "source": [
        "# get train data tfidf vectors\n",
        "train_tfidf = []\n",
        "\n",
        "# Iterate over all movie-ids and save the tfidf-vectors (sparse format for memory efficiency)\n",
        "for idx in tqdm(df_hybrid_train['Movie'].values):\n",
        "    index = movie_idx_mapping[idx]\n",
        "    train_tfidf.append(tfidf_hybrid[index])\n",
        "\n",
        "len(train_tfidf)"
      ]
    },
    {
      "cell_type": "code",
      "execution_count": null,
      "metadata": {
        "colab": {
          "base_uri": "https://localhost:8080/"
        },
        "id": "7AqgNsqrU8CZ",
        "outputId": "9c1ca2d1-46c9-47d1-b9d3-b7f28969b02a"
      },
      "outputs": [
        {
          "output_type": "stream",
          "name": "stderr",
          "text": [
            "100%|██████████| 300000/300000 [00:25<00:00, 11966.13it/s]\n"
          ]
        },
        {
          "output_type": "execute_result",
          "data": {
            "text/plain": [
              "300000"
            ]
          },
          "metadata": {},
          "execution_count": 85
        }
      ],
      "source": [
        "# get test data tfidf vectors\n",
        "test_tfidf = []\n",
        "\n",
        "# Iterate over all movie-ids and save the tfidf-vectors (sparse format for memory efficiency)\n",
        "for idx in tqdm(df_hybrid_test['Movie'].values):\n",
        "    index = movie_idx_mapping[idx]\n",
        "    test_tfidf.append(tfidf_hybrid[index])\n",
        "\n",
        "len(test_tfidf)"
      ]
    },
    {
      "cell_type": "code",
      "execution_count": null,
      "metadata": {
        "colab": {
          "base_uri": "https://localhost:8080/"
        },
        "id": "3dyKQnCNdQTc",
        "outputId": "ff9bdb80-5120-44b9-f967-32d56c419c09"
      },
      "outputs": [
        {
          "output_type": "execute_result",
          "data": {
            "text/plain": [
              "((1881679, 24144), (300000, 24144))"
            ]
          },
          "metadata": {},
          "execution_count": 86
        }
      ],
      "source": [
        "# Stack the sparse matrices\n",
        "train_tfidf = vstack(train_tfidf)\n",
        "test_tfidf  = vstack(test_tfidf)\n",
        "\n",
        "train_tfidf.shape, test_tfidf.shape"
      ]
    },
    {
      "cell_type": "code",
      "execution_count": null,
      "metadata": {
        "colab": {
          "base_uri": "https://localhost:8080/"
        },
        "id": "dMI3SxfNdwNQ",
        "outputId": "792ce043-8ae4-40a5-b2b2-7f3a92843dd2"
      },
      "outputs": [
        {
          "output_type": "execute_result",
          "data": {
            "text/plain": [
              "scipy.sparse.csr.csr_matrix"
            ]
          },
          "metadata": {},
          "execution_count": 87
        }
      ],
      "source": [
        "type(train_tfidf)"
      ]
    },
    {
      "cell_type": "markdown",
      "metadata": {
        "id": "M4m5y7Zv5ZuK"
      },
      "source": [
        "This shows we are using sparse matrices to represent the vectors as dense vectors would typically give a out of memory error!"
      ]
    },
    {
      "cell_type": "markdown",
      "metadata": {
        "id": "rCZjFT6JeIDs"
      },
      "source": [
        "#### Construct Deep Learning Model Architecture"
      ]
    },
    {
      "cell_type": "code",
      "execution_count": null,
      "metadata": {
        "id": "y_WYqzMpeJby"
      },
      "outputs": [],
      "source": [
        "# setup NN parameters\n",
        "user_embed_dim = 256\n",
        "movie_embed_dim = 256\n",
        "userid_input_shape = 1\n",
        "movieid_input_shape = 1\n",
        "tfidf_input_shape = tfidf_hybrid.shape[1]"
      ]
    },
    {
      "cell_type": "code",
      "execution_count": null,
      "metadata": {
        "id": "Ea74tynzeqGB"
      },
      "outputs": [],
      "source": [
        "# Create the input layers\n",
        "\n",
        "# user and movie input layers\n",
        "user_id_input  = Input(shape=(userid_input_shape,), name='user')\n",
        "movie_id_input = Input(shape=(movieid_input_shape,), name='movie')\n",
        "\n",
        "# tfidf input layer\n",
        "tfidf_input = Input(shape=(tfidf_input_shape,), name='tfidf', sparse=True)"
      ]
    },
    {
      "cell_type": "code",
      "execution_count": null,
      "metadata": {
        "id": "zc_bGQ6ne3Cj"
      },
      "outputs": [],
      "source": [
        "# Create embeddings layers for users and movies\n",
        "\n",
        "# user embedding\n",
        "user_embedding = Embedding(output_dim=user_embed_dim,\n",
        "                           input_dim=len(user_id_mapping),\n",
        "                           input_length=userid_input_shape,\n",
        "                           name='user_embedding')(user_id_input)\n",
        "\n",
        "# movie embedding\n",
        "movie_embedding = Embedding(output_dim=movie_embed_dim,\n",
        "                           input_dim=len(movie_id_mapping),\n",
        "                           input_length=movieid_input_shape,\n",
        "                           name='movie_embedding')(movie_id_input)"
      ]
    },
    {
      "cell_type": "code",
      "execution_count": null,
      "metadata": {
        "id": "pm_H8CaXe3Gn"
      },
      "outputs": [],
      "source": [
        "# Dimensionality reduction with Dense layers\n",
        "tfidf_vectors = Dense(512, activation='relu')(tfidf_input)\n",
        "tfidf_vectors = Dense(256, activation='relu')(tfidf_vectors)"
      ]
    },
    {
      "cell_type": "code",
      "execution_count": null,
      "metadata": {
        "id": "rlNBswdYe3I8"
      },
      "outputs": [],
      "source": [
        "# Reshape both user and movie embedding layers\n",
        "user_vectors = Reshape([user_embed_dim])(user_embedding)\n",
        "movie_vectors = Reshape([movie_embed_dim])(movie_embedding)"
      ]
    },
    {
      "cell_type": "code",
      "execution_count": null,
      "metadata": {
        "id": "LfcefQQEe3E2"
      },
      "outputs": [],
      "source": [
        "# Concatenate all layers into one \n",
        "hybrid_layer = Concatenate()([user_vectors, movie_vectors, tfidf_vectors])"
      ]
    },
    {
      "cell_type": "code",
      "execution_count": null,
      "metadata": {
        "id": "WfZK5Dg9oxVA"
      },
      "outputs": [],
      "source": [
        "# add in dense and output layers\n",
        "dense = Dense(512, activation='relu')(hybrid_layer)\n",
        "dense = Dropout(0.2)(dense)\n",
        "output = Dense(1)(dense)"
      ]
    },
    {
      "cell_type": "code",
      "execution_count": null,
      "metadata": {
        "colab": {
          "base_uri": "https://localhost:8080/"
        },
        "id": "odLeDjgzoxYA",
        "outputId": "27a9d912-1cc0-416a-fc9e-b785ede77f28"
      },
      "outputs": [
        {
          "output_type": "stream",
          "name": "stdout",
          "text": [
            "Model: \"model_1\"\n",
            "__________________________________________________________________________________________________\n",
            " Layer (type)                   Output Shape         Param #     Connected to                     \n",
            "==================================================================================================\n",
            " user (InputLayer)              [(None, 1)]          0           []                               \n",
            "                                                                                                  \n",
            " movie (InputLayer)             [(None, 1)]          0           []                               \n",
            "                                                                                                  \n",
            " tfidf (InputLayer)             [(None, 24144)]      0           []                               \n",
            "                                                                                                  \n",
            " user_embedding (Embedding)     (None, 1, 256)       5331968     ['user[0][0]']                   \n",
            "                                                                                                  \n",
            " movie_embedding (Embedding)    (None, 1, 256)       445696      ['movie[0][0]']                  \n",
            "                                                                                                  \n",
            " dense (Dense)                  (None, 512)          12362240    ['tfidf[0][0]']                  \n",
            "                                                                                                  \n",
            " reshape_2 (Reshape)            (None, 256)          0           ['user_embedding[0][0]']         \n",
            "                                                                                                  \n",
            " reshape_3 (Reshape)            (None, 256)          0           ['movie_embedding[0][0]']        \n",
            "                                                                                                  \n",
            " dense_1 (Dense)                (None, 256)          131328      ['dense[0][0]']                  \n",
            "                                                                                                  \n",
            " concatenate (Concatenate)      (None, 768)          0           ['reshape_2[0][0]',              \n",
            "                                                                  'reshape_3[0][0]',              \n",
            "                                                                  'dense_1[0][0]']                \n",
            "                                                                                                  \n",
            " dense_2 (Dense)                (None, 512)          393728      ['concatenate[0][0]']            \n",
            "                                                                                                  \n",
            " dropout (Dropout)              (None, 512)          0           ['dense_2[0][0]']                \n",
            "                                                                                                  \n",
            " dense_3 (Dense)                (None, 1)            513         ['dropout[0][0]']                \n",
            "                                                                                                  \n",
            "==================================================================================================\n",
            "Total params: 18,665,473\n",
            "Trainable params: 18,665,473\n",
            "Non-trainable params: 0\n",
            "__________________________________________________________________________________________________\n"
          ]
        }
      ],
      "source": [
        "# create and view model summary\n",
        "model = Model(inputs=[user_id_input, movie_id_input, tfidf_input], outputs=output)\n",
        "model.compile(loss='mse', optimizer='adam')\n",
        "model.summary()"
      ]
    },
    {
      "cell_type": "markdown",
      "metadata": {
        "id": "upDnm3r76Ivj"
      },
      "source": [
        "#### Train and Test the Model"
      ]
    },
    {
      "cell_type": "code",
      "execution_count": null,
      "metadata": {
        "colab": {
          "base_uri": "https://localhost:8080/",
          "height": 1000
        },
        "id": "SmzWu6Xhoxnt",
        "outputId": "25b4b922-f731-4697-c842-5f9199143b22"
      },
      "outputs": [
        {
          "output_type": "stream",
          "name": "stdout",
          "text": [
            "Epoch 1/10\n"
          ]
        },
        {
          "output_type": "error",
          "ename": "InvalidArgumentError",
          "evalue": "ignored",
          "traceback": [
            "\u001b[0;31m---------------------------------------------------------------------------\u001b[0m",
            "\u001b[0;31mInvalidArgumentError\u001b[0m                      Traceback (most recent call last)",
            "\u001b[0;32m<ipython-input-96-4383754ec4a1>\u001b[0m in \u001b[0;36m<module>\u001b[0;34m\u001b[0m\n\u001b[1;32m      4\u001b[0m \u001b[0mX\u001b[0m \u001b[0;34m=\u001b[0m \u001b[0;34m[\u001b[0m\u001b[0mdf_hybrid_train\u001b[0m\u001b[0;34m[\u001b[0m\u001b[0;34m'User'\u001b[0m\u001b[0;34m]\u001b[0m\u001b[0;34m,\u001b[0m \u001b[0mdf_hybrid_train\u001b[0m\u001b[0;34m[\u001b[0m\u001b[0;34m'Movie'\u001b[0m\u001b[0;34m]\u001b[0m\u001b[0;34m,\u001b[0m \u001b[0mtrain_tfidf\u001b[0m\u001b[0;34m]\u001b[0m\u001b[0;34m\u001b[0m\u001b[0;34m\u001b[0m\u001b[0m\n\u001b[1;32m      5\u001b[0m \u001b[0my\u001b[0m \u001b[0;34m=\u001b[0m \u001b[0mdf_hybrid_train\u001b[0m\u001b[0;34m[\u001b[0m\u001b[0;34m'Rating'\u001b[0m\u001b[0;34m]\u001b[0m\u001b[0;34m\u001b[0m\u001b[0;34m\u001b[0m\u001b[0m\n\u001b[0;32m----> 6\u001b[0;31m model.fit(X, y,\n\u001b[0m\u001b[1;32m      7\u001b[0m           \u001b[0mbatch_size\u001b[0m\u001b[0;34m=\u001b[0m\u001b[0mbatch_size\u001b[0m\u001b[0;34m,\u001b[0m\u001b[0;34m\u001b[0m\u001b[0;34m\u001b[0m\u001b[0m\n\u001b[1;32m      8\u001b[0m           \u001b[0mepochs\u001b[0m\u001b[0;34m=\u001b[0m\u001b[0mepochs\u001b[0m\u001b[0;34m,\u001b[0m \u001b[0;31m## Change the epochs to find better improved model.\u001b[0m\u001b[0;34m\u001b[0m\u001b[0;34m\u001b[0m\u001b[0m\n",
            "\u001b[0;32m/usr/local/lib/python3.8/dist-packages/keras/utils/traceback_utils.py\u001b[0m in \u001b[0;36merror_handler\u001b[0;34m(*args, **kwargs)\u001b[0m\n\u001b[1;32m     65\u001b[0m     \u001b[0;32mexcept\u001b[0m \u001b[0mException\u001b[0m \u001b[0;32mas\u001b[0m \u001b[0me\u001b[0m\u001b[0;34m:\u001b[0m  \u001b[0;31m# pylint: disable=broad-except\u001b[0m\u001b[0;34m\u001b[0m\u001b[0;34m\u001b[0m\u001b[0m\n\u001b[1;32m     66\u001b[0m       \u001b[0mfiltered_tb\u001b[0m \u001b[0;34m=\u001b[0m \u001b[0m_process_traceback_frames\u001b[0m\u001b[0;34m(\u001b[0m\u001b[0me\u001b[0m\u001b[0;34m.\u001b[0m\u001b[0m__traceback__\u001b[0m\u001b[0;34m)\u001b[0m\u001b[0;34m\u001b[0m\u001b[0;34m\u001b[0m\u001b[0m\n\u001b[0;32m---> 67\u001b[0;31m       \u001b[0;32mraise\u001b[0m \u001b[0me\u001b[0m\u001b[0;34m.\u001b[0m\u001b[0mwith_traceback\u001b[0m\u001b[0;34m(\u001b[0m\u001b[0mfiltered_tb\u001b[0m\u001b[0;34m)\u001b[0m \u001b[0;32mfrom\u001b[0m \u001b[0;32mNone\u001b[0m\u001b[0;34m\u001b[0m\u001b[0;34m\u001b[0m\u001b[0m\n\u001b[0m\u001b[1;32m     68\u001b[0m     \u001b[0;32mfinally\u001b[0m\u001b[0;34m:\u001b[0m\u001b[0;34m\u001b[0m\u001b[0;34m\u001b[0m\u001b[0m\n\u001b[1;32m     69\u001b[0m       \u001b[0;32mdel\u001b[0m \u001b[0mfiltered_tb\u001b[0m\u001b[0;34m\u001b[0m\u001b[0;34m\u001b[0m\u001b[0m\n",
            "\u001b[0;32m/usr/local/lib/python3.8/dist-packages/tensorflow/python/eager/execute.py\u001b[0m in \u001b[0;36mquick_execute\u001b[0;34m(op_name, num_outputs, inputs, attrs, ctx, name)\u001b[0m\n\u001b[1;32m     52\u001b[0m   \u001b[0;32mtry\u001b[0m\u001b[0;34m:\u001b[0m\u001b[0;34m\u001b[0m\u001b[0;34m\u001b[0m\u001b[0m\n\u001b[1;32m     53\u001b[0m     \u001b[0mctx\u001b[0m\u001b[0;34m.\u001b[0m\u001b[0mensure_initialized\u001b[0m\u001b[0;34m(\u001b[0m\u001b[0;34m)\u001b[0m\u001b[0;34m\u001b[0m\u001b[0;34m\u001b[0m\u001b[0m\n\u001b[0;32m---> 54\u001b[0;31m     tensors = pywrap_tfe.TFE_Py_Execute(ctx._handle, device_name, op_name,\n\u001b[0m\u001b[1;32m     55\u001b[0m                                         inputs, attrs, num_outputs)\n\u001b[1;32m     56\u001b[0m   \u001b[0;32mexcept\u001b[0m \u001b[0mcore\u001b[0m\u001b[0;34m.\u001b[0m\u001b[0m_NotOkStatusException\u001b[0m \u001b[0;32mas\u001b[0m \u001b[0me\u001b[0m\u001b[0;34m:\u001b[0m\u001b[0;34m\u001b[0m\u001b[0;34m\u001b[0m\u001b[0m\n",
            "\u001b[0;31mInvalidArgumentError\u001b[0m: Graph execution error:\n\nTypeError: 'SparseTensor' object is not subscriptable\nTraceback (most recent call last):\n\n  File \"/usr/local/lib/python3.8/dist-packages/tensorflow/python/ops/script_ops.py\", line 268, in __call__\n    return func(device, token, args)\n\n  File \"/usr/local/lib/python3.8/dist-packages/tensorflow/python/ops/script_ops.py\", line 146, in __call__\n    outputs = self._call(device, args)\n\n  File \"/usr/local/lib/python3.8/dist-packages/tensorflow/python/ops/script_ops.py\", line 153, in _call\n    ret = self._func(*args)\n\n  File \"/usr/local/lib/python3.8/dist-packages/tensorflow/python/autograph/impl/api.py\", line 642, in wrapper\n    return func(*args, **kwargs)\n\n  File \"/usr/local/lib/python3.8/dist-packages/keras/engine/data_adapter.py\", line 477, in py_method\n    return [slice_array(inp) for inp in flat_inputs]\n\n  File \"/usr/local/lib/python3.8/dist-packages/keras/engine/data_adapter.py\", line 477, in <listcomp>\n    return [slice_array(inp) for inp in flat_inputs]\n\n  File \"/usr/local/lib/python3.8/dist-packages/keras/engine/data_adapter.py\", line 475, in slice_array\n    return training_utils.slice_arrays(data, ind.numpy(),\n\n  File \"/usr/local/lib/python3.8/dist-packages/keras/engine/training_utils.py\", line 47, in slice_arrays\n    entries = [[x[i:i + 1] for i in indices] for x in arrays]\n\n  File \"/usr/local/lib/python3.8/dist-packages/keras/engine/training_utils.py\", line 47, in <listcomp>\n    entries = [[x[i:i + 1] for i in indices] for x in arrays]\n\n  File \"/usr/local/lib/python3.8/dist-packages/keras/engine/training_utils.py\", line 47, in <listcomp>\n    entries = [[x[i:i + 1] for i in indices] for x in arrays]\n\nTypeError: 'SparseTensor' object is not subscriptable\n\n\n\t [[{{node EagerPyFunc}}]]\n\t [[IteratorGetNext]] [Op:__inference_train_function_112547]"
          ]
        }
      ],
      "source": [
        "# fit the model\n",
        "batch_size=1024\n",
        "epochs=10\n",
        "X = [df_hybrid_train['User'], df_hybrid_train['Movie'], train_tfidf]\n",
        "y = df_hybrid_train['Rating']\n",
        "model.fit(X, y,\n",
        "          batch_size=batch_size, \n",
        "          epochs=epochs, ## Change the epochs to find better improved model.\n",
        "          # validation_split=0.1,\n",
        "          shuffle=True)"
      ]
    },
    {
      "cell_type": "markdown",
      "source": [
        "**Chi's note**: Keras can't work with csr_matrix, hence we need to convert to a numpy array. However, converting to numpy array will get \"Out of memory\" issue. I don't know how to handle this issue with current Colab free subscription. "
      ],
      "metadata": {
        "id": "eRQQFh9-ED15"
      }
    },
    {
      "cell_type": "code",
      "execution_count": null,
      "metadata": {
        "id": "ZLkTXmxhpK7r"
      },
      "outputs": [],
      "source": [
        "# create test input data and true outputs\n",
        "X_test = [df_hybrid_test['User'], df_hybrid_test['Movie'], test_tfidf]\n",
        "y_true = df_hybrid_test['Rating'].values \n",
        "\n",
        "# Test model by making predictions on test data\n",
        "y_pred = model.predict(X_test).ravel()\n",
        "# clip upper and lower ratings\n",
        "y_pred = list(map(lambda x: 1.0 if x < 1 else 5.0 if x > 5.0 else x, y_pred))\n",
        "\n",
        "#  Compute RMSE\n",
        "rmse = np.sqrt(mean_squared_error(y_pred=y_pred, y_true=y_true))\n",
        "print('\\n\\nTesting Result With DL Hybrid Recommender: {:.4f} RMSE'.format(rmse))"
      ]
    },
    {
      "cell_type": "code",
      "execution_count": null,
      "metadata": {
        "id": "ecgDG4C9pLAG"
      },
      "outputs": [],
      "source": [
        "## Let's see how our collaborative model performs by seeing the predicted and actual rating for the given user and movie pair\n",
        "results_df = pd.DataFrame({\n",
        "    'User ID': df_hybrid_test['User'].values,\n",
        "    'Movie ID': df_hybrid_test['Movie'].values,\n",
        "    'Movie Name': [movie_titles['Name'].iloc[item] for item in df_hybrid_test['Movie']],\n",
        "    'Predicted Rating': np.round(y_pred, 1),\n",
        "    'Actual Rating': y_true\n",
        "})\n",
        "\n",
        "results_df.head(20)"
      ]
    }
  ],
  "metadata": {
    "colab": {
      "machine_shape": "hm",
      "provenance": [],
      "toc_visible": true,
      "include_colab_link": true
    },
    "kernelspec": {
      "display_name": "Python 3",
      "language": "python",
      "name": "python3"
    },
    "language_info": {
      "codemirror_mode": {
        "name": "ipython",
        "version": 3
      },
      "file_extension": ".py",
      "mimetype": "text/x-python",
      "name": "python",
      "nbconvert_exporter": "python",
      "pygments_lexer": "ipython3",
      "version": "3.7.6-final"
    },
    "gpuClass": "standard"
  },
  "nbformat": 4,
  "nbformat_minor": 0
}