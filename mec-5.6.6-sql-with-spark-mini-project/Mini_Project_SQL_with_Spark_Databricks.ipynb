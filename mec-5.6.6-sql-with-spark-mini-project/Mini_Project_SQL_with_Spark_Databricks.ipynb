{
  "cells": [
    {
      "cell_type": "markdown",
      "metadata": {
        "id": "view-in-github",
        "colab_type": "text"
      },
      "source": [
        "<a href=\"https://colab.research.google.com/github/chihoang/Springboard_mec-mini-projects/blob/main/Mini_Project_SQL_with_Spark_Databricks.ipynb\" target=\"_parent\"><img src=\"https://colab.research.google.com/assets/colab-badge.svg\" alt=\"Open In Colab\"/></a>"
      ]
    },
    {
      "cell_type": "markdown",
      "source": [
        "## SQL at Scale with Spark SQL\n",
        "\n",
        "Welcome to the SQL mini project. For this project, you will use the Databricks Platform and work through a series of exercises using Spark SQL. The dataset size may not be too big but the intent here is to familiarize yourself with the Spark SQL interface which scales easily to huge datasets, without you having to worry about changing your SQL queries. \n",
        "\n",
        "The data you need is present in the mini-project folder in the form of three CSV files. This data will be imported in Databricks to create the following tables under the __`country_club`__ database.\n",
        "\n",
        "<br>\n",
        "1. The __`bookings`__ table,\n",
        "2. The __`facilities`__ table, and\n",
        "3. The __`members`__ table.\n",
        "\n",
        "You will be uploading these datasets shortly into the Databricks platform to understand how to create a database within minutes! Once the database and the tables are populated, you will be focusing on the mini-project questions.\n",
        "\n",
        "In the mini project, you'll be asked a series of questions. You can solve them using the databricks platform, but for the final deliverable,\n",
        "please download this notebook as an IPython notebook (__`File -> Export -> IPython Notebook`__) and upload it to your GitHub."
      ],
      "metadata": {
        "application/vnd.databricks.v1+cell": {
          "showTitle": false,
          "cellMetadata": {},
          "nuid": "af5b45ad-f815-4f17-a92a-e64c215267af",
          "inputWidgets": {},
          "title": ""
        },
        "id": "P3M1VR1TfVbN"
      }
    },
    {
      "cell_type": "markdown",
      "source": [
        "### Creating the Database\n",
        "\n",
        "We will first create our database in which we will be creating our three tables of interest"
      ],
      "metadata": {
        "application/vnd.databricks.v1+cell": {
          "showTitle": false,
          "cellMetadata": {},
          "nuid": "befc7885-2d96-42c9-875d-20b0de8fa23a",
          "inputWidgets": {},
          "title": ""
        },
        "id": "6LqYQ5dLfVbR"
      }
    },
    {
      "cell_type": "code",
      "source": [
        "%sql \n",
        "drop database if exists country_club cascade;\n",
        "create database country_club;\n",
        "show databases;"
      ],
      "metadata": {
        "application/vnd.databricks.v1+cell": {
          "showTitle": false,
          "cellMetadata": {
            "implicitDf": true
          },
          "nuid": "7e2159bf-d442-4f40-bf5e-2e68cfa38117",
          "inputWidgets": {},
          "title": ""
        },
        "id": "pvihucRafVbS",
        "outputId": "94fcb60d-a210-469f-efc1-45fad7791a38"
      },
      "outputs": [
        {
          "output_type": "display_data",
          "metadata": {
            "application/vnd.databricks.v1+output": {
              "overflow": false,
              "datasetInfos": [],
              "data": [
                [
                  "country_club"
                ],
                [
                  "default"
                ]
              ],
              "plotOptions": {
                "displayType": "table",
                "customPlotOptions": {},
                "pivotColumns": null,
                "pivotAggregation": null,
                "xColumns": null,
                "yColumns": null
              },
              "columnCustomDisplayInfos": {},
              "aggType": "",
              "isJsonSchema": true,
              "removedWidgets": [],
              "aggSchema": [],
              "schema": [
                {
                  "name": "databaseName",
                  "type": "\"string\"",
                  "metadata": "{}"
                }
              ],
              "aggError": "",
              "aggData": [],
              "addedWidgets": {},
              "metadata": {},
              "dbfsResultPath": null,
              "type": "table",
              "aggOverflow": false,
              "aggSeriesLimitReached": false,
              "arguments": {}
            }
          },
          "data": {
            "text/html": [
              "<style scoped>\n  .table-result-container {\n    max-height: 300px;\n    overflow: auto;\n  }\n  table, th, td {\n    border: 1px solid black;\n    border-collapse: collapse;\n  }\n  th, td {\n    padding: 5px;\n  }\n  th {\n    text-align: left;\n  }\n</style><div class='table-result-container'><table class='table-result'><thead style='background-color: white'><tr><th>databaseName</th></tr></thead><tbody><tr><td>country_club</td></tr><tr><td>default</td></tr></tbody></table></div>"
            ]
          }
        }
      ],
      "execution_count": null
    },
    {
      "cell_type": "markdown",
      "source": [
        "### Creating the Tables\n",
        "\n",
        "In this section, we will be creating the three tables of interest and populate them with the data from the CSV files already available to you. \n",
        "To get started, first upload the three CSV files to the DBFS as depicted in the following figure\n",
        "\n",
        "![](https://i.imgur.com/QcCruBr.png)\n",
        "\n",
        "\n",
        "Once you have done this, please remember to execute the following code to build the dataframes which will be saved as tables in our database"
      ],
      "metadata": {
        "application/vnd.databricks.v1+cell": {
          "showTitle": false,
          "cellMetadata": {},
          "nuid": "f8edc9a6-62dd-4d02-a3e9-e8ef5c5e52f7",
          "inputWidgets": {},
          "title": ""
        },
        "id": "-puIX2TafVbT"
      }
    },
    {
      "cell_type": "code",
      "source": [
        "# File location and type\n",
        "file_location_bookings = \"/FileStore/tables/Bookings.csv\"\n",
        "file_location_facilities = \"/FileStore/tables/Facilities.csv\"\n",
        "file_location_members = \"/FileStore/tables/Members.csv\"\n",
        "\n",
        "file_type = \"csv\"\n",
        "\n",
        "# CSV options\n",
        "infer_schema = \"true\"\n",
        "first_row_is_header = \"true\"\n",
        "delimiter = \",\"\n",
        "\n",
        "# The applied options are for CSV files. For other file types, these will be ignored.\n",
        "bookings_df = (spark.read.format(file_type) \n",
        "                    .option(\"inferSchema\", infer_schema) \n",
        "                    .option(\"header\", first_row_is_header) \n",
        "                    .option(\"sep\", delimiter) \n",
        "                    .load(file_location_bookings))\n",
        "\n",
        "facilities_df = (spark.read.format(file_type) \n",
        "                      .option(\"inferSchema\", infer_schema) \n",
        "                      .option(\"header\", first_row_is_header) \n",
        "                      .option(\"sep\", delimiter) \n",
        "                      .load(file_location_facilities))\n",
        "\n",
        "members_df = (spark.read.format(file_type) \n",
        "                      .option(\"inferSchema\", infer_schema) \n",
        "                      .option(\"header\", first_row_is_header) \n",
        "                      .option(\"sep\", delimiter) \n",
        "                      .load(file_location_members))"
      ],
      "metadata": {
        "application/vnd.databricks.v1+cell": {
          "showTitle": false,
          "cellMetadata": {},
          "nuid": "6f2d567c-8baa-473c-9780-de511aef287d",
          "inputWidgets": {},
          "title": ""
        },
        "id": "KsyQU78zfVbU"
      },
      "outputs": [],
      "execution_count": null
    },
    {
      "cell_type": "markdown",
      "source": [
        "### Viewing the dataframe schemas\n",
        "\n",
        "We can take a look at the schemas of our potential tables to be written to our database soon"
      ],
      "metadata": {
        "application/vnd.databricks.v1+cell": {
          "showTitle": false,
          "cellMetadata": {},
          "nuid": "b4e11776-0d8f-4342-8c1c-fdfe6c2e99e5",
          "inputWidgets": {},
          "title": ""
        },
        "id": "cNbAdEWlfVbU"
      }
    },
    {
      "cell_type": "code",
      "source": [
        "print('Bookings Schema')\n",
        "bookings_df.printSchema()\n",
        "print('Facilities Schema')\n",
        "facilities_df.printSchema()\n",
        "print('Members Schema')\n",
        "members_df.printSchema()"
      ],
      "metadata": {
        "application/vnd.databricks.v1+cell": {
          "showTitle": false,
          "cellMetadata": {},
          "nuid": "673e8c0d-c276-4756-9cd4-d2d67cba3d4c",
          "inputWidgets": {},
          "title": ""
        },
        "id": "d31KGM-PfVbV",
        "outputId": "cbfa6678-e594-4740-a3cb-4654f204fa08"
      },
      "outputs": [
        {
          "output_type": "display_data",
          "metadata": {
            "application/vnd.databricks.v1+output": {
              "datasetInfos": [],
              "data": "Bookings Schema\nroot\n |-- bookid: integer (nullable = true)\n |-- facid: integer (nullable = true)\n |-- memid: integer (nullable = true)\n |-- starttime: timestamp (nullable = true)\n |-- slots: integer (nullable = true)\n\nFacilities Schema\nroot\n |-- facid: integer (nullable = true)\n |-- name: string (nullable = true)\n |-- membercost: double (nullable = true)\n |-- guestcost: double (nullable = true)\n |-- initialoutlay: integer (nullable = true)\n |-- monthlymaintenance: integer (nullable = true)\n\nMembers Schema\nroot\n |-- memid: integer (nullable = true)\n |-- surname: string (nullable = true)\n |-- firstname: string (nullable = true)\n |-- address: string (nullable = true)\n |-- zipcode: integer (nullable = true)\n |-- telephone: string (nullable = true)\n |-- recommendedby: integer (nullable = true)\n |-- joindate: timestamp (nullable = true)\n\n",
              "removedWidgets": [],
              "addedWidgets": {},
              "metadata": {},
              "type": "ansi",
              "arguments": {}
            }
          },
          "data": {
            "text/plain": [
              "Bookings Schema\nroot\n |-- bookid: integer (nullable = true)\n |-- facid: integer (nullable = true)\n |-- memid: integer (nullable = true)\n |-- starttime: timestamp (nullable = true)\n |-- slots: integer (nullable = true)\n\nFacilities Schema\nroot\n |-- facid: integer (nullable = true)\n |-- name: string (nullable = true)\n |-- membercost: double (nullable = true)\n |-- guestcost: double (nullable = true)\n |-- initialoutlay: integer (nullable = true)\n |-- monthlymaintenance: integer (nullable = true)\n\nMembers Schema\nroot\n |-- memid: integer (nullable = true)\n |-- surname: string (nullable = true)\n |-- firstname: string (nullable = true)\n |-- address: string (nullable = true)\n |-- zipcode: integer (nullable = true)\n |-- telephone: string (nullable = true)\n |-- recommendedby: integer (nullable = true)\n |-- joindate: timestamp (nullable = true)\n\n"
            ]
          }
        }
      ],
      "execution_count": null
    },
    {
      "cell_type": "markdown",
      "source": [
        "### Create permanent tables\n",
        "We will be creating three permanent tables here in our __`country_club`__ database as we discussed previously with the following code"
      ],
      "metadata": {
        "application/vnd.databricks.v1+cell": {
          "showTitle": false,
          "cellMetadata": {},
          "nuid": "0ea5fd3e-1513-4e0b-84ff-f5455c062875",
          "inputWidgets": {},
          "title": ""
        },
        "id": "CSEwu3LifVbV"
      }
    },
    {
      "cell_type": "code",
      "source": [
        "permanent_table_name_bookings = \"country_club.Bookings\"\n",
        "bookings_df.write.format(\"parquet\").saveAsTable(permanent_table_name_bookings)\n",
        "\n",
        "permanent_table_name_facilities = \"country_club.Facilities\"\n",
        "facilities_df.write.format(\"parquet\").saveAsTable(permanent_table_name_facilities)\n",
        "\n",
        "permanent_table_name_members = \"country_club.Members\"\n",
        "members_df.write.format(\"parquet\").saveAsTable(permanent_table_name_members)"
      ],
      "metadata": {
        "application/vnd.databricks.v1+cell": {
          "showTitle": false,
          "cellMetadata": {},
          "nuid": "8679380c-b323-422c-b803-f8be7a4b4766",
          "inputWidgets": {},
          "title": ""
        },
        "id": "eTl1P8pEfVbW"
      },
      "outputs": [],
      "execution_count": null
    },
    {
      "cell_type": "markdown",
      "source": [
        "### Refresh tables and check them"
      ],
      "metadata": {
        "application/vnd.databricks.v1+cell": {
          "showTitle": false,
          "cellMetadata": {},
          "nuid": "b8e80673-f4a9-4eca-9442-90bbb3de4d36",
          "inputWidgets": {},
          "title": ""
        },
        "id": "24PJb-RNfVbW"
      }
    },
    {
      "cell_type": "code",
      "source": [
        "%sql\n",
        "use country_club;\n",
        "REFRESH table bookings;\n",
        "REFRESH table facilities;\n",
        "REFRESH table members;\n",
        "show tables;"
      ],
      "metadata": {
        "application/vnd.databricks.v1+cell": {
          "showTitle": false,
          "cellMetadata": {
            "implicitDf": true
          },
          "nuid": "5a356f28-6482-4aca-8bea-a5a54e5bbffb",
          "inputWidgets": {},
          "title": ""
        },
        "id": "4m2cKYQKfVbW",
        "outputId": "7cc399e1-c0a3-40fd-c4b4-d594b626f3f5"
      },
      "outputs": [
        {
          "output_type": "display_data",
          "metadata": {
            "application/vnd.databricks.v1+output": {
              "overflow": false,
              "datasetInfos": [],
              "data": [
                [
                  "country_club",
                  "bookings",
                  false
                ],
                [
                  "country_club",
                  "facilities",
                  false
                ],
                [
                  "country_club",
                  "members",
                  false
                ]
              ],
              "plotOptions": {
                "displayType": "table",
                "customPlotOptions": {},
                "pivotColumns": null,
                "pivotAggregation": null,
                "xColumns": null,
                "yColumns": null
              },
              "columnCustomDisplayInfos": {},
              "aggType": "",
              "isJsonSchema": true,
              "removedWidgets": [],
              "aggSchema": [],
              "schema": [
                {
                  "name": "database",
                  "type": "\"string\"",
                  "metadata": "{}"
                },
                {
                  "name": "tableName",
                  "type": "\"string\"",
                  "metadata": "{}"
                },
                {
                  "name": "isTemporary",
                  "type": "\"boolean\"",
                  "metadata": "{}"
                }
              ],
              "aggError": "",
              "aggData": [],
              "addedWidgets": {},
              "metadata": {},
              "dbfsResultPath": null,
              "type": "table",
              "aggOverflow": false,
              "aggSeriesLimitReached": false,
              "arguments": {}
            }
          },
          "data": {
            "text/html": [
              "<style scoped>\n  .table-result-container {\n    max-height: 300px;\n    overflow: auto;\n  }\n  table, th, td {\n    border: 1px solid black;\n    border-collapse: collapse;\n  }\n  th, td {\n    padding: 5px;\n  }\n  th {\n    text-align: left;\n  }\n</style><div class='table-result-container'><table class='table-result'><thead style='background-color: white'><tr><th>database</th><th>tableName</th><th>isTemporary</th></tr></thead><tbody><tr><td>country_club</td><td>bookings</td><td>false</td></tr><tr><td>country_club</td><td>facilities</td><td>false</td></tr><tr><td>country_club</td><td>members</td><td>false</td></tr></tbody></table></div>"
            ]
          }
        }
      ],
      "execution_count": null
    },
    {
      "cell_type": "markdown",
      "source": [
        "### Test a sample SQL query\n",
        "\n",
        "__Note:__ You can use __`%sql`__ at the beginning of a cell and write SQL queries directly as seen in the following cell. Neat isn't it!"
      ],
      "metadata": {
        "application/vnd.databricks.v1+cell": {
          "showTitle": false,
          "cellMetadata": {},
          "nuid": "7648a1fe-f94c-4f56-9bd5-56f5d4ac0b23",
          "inputWidgets": {},
          "title": ""
        },
        "id": "nCFg7LHVfVbX"
      }
    },
    {
      "cell_type": "code",
      "source": [
        "%sql\n",
        "select * \n",
        "from bookings limit 3"
      ],
      "metadata": {
        "application/vnd.databricks.v1+cell": {
          "showTitle": false,
          "cellMetadata": {
            "implicitDf": true
          },
          "nuid": "ab821750-47e7-430d-a69d-c43b37cdac91",
          "inputWidgets": {},
          "title": ""
        },
        "id": "Mc6rEEJUfVbX",
        "outputId": "3a03461b-ff4f-4634-fc4c-1a51813fdd7b"
      },
      "outputs": [
        {
          "output_type": "display_data",
          "metadata": {
            "application/vnd.databricks.v1+output": {
              "overflow": false,
              "datasetInfos": [],
              "data": [
                [
                  0,
                  3,
                  1,
                  "2012-07-03T11:00:00.000+0000",
                  2
                ],
                [
                  1,
                  4,
                  1,
                  "2012-07-03T08:00:00.000+0000",
                  2
                ],
                [
                  2,
                  6,
                  0,
                  "2012-07-03T18:00:00.000+0000",
                  2
                ]
              ],
              "plotOptions": {
                "displayType": "table",
                "customPlotOptions": {},
                "pivotColumns": null,
                "pivotAggregation": null,
                "xColumns": null,
                "yColumns": null
              },
              "columnCustomDisplayInfos": {},
              "aggType": "",
              "isJsonSchema": true,
              "removedWidgets": [],
              "aggSchema": [],
              "schema": [
                {
                  "name": "bookid",
                  "type": "\"integer\"",
                  "metadata": "{}"
                },
                {
                  "name": "facid",
                  "type": "\"integer\"",
                  "metadata": "{}"
                },
                {
                  "name": "memid",
                  "type": "\"integer\"",
                  "metadata": "{}"
                },
                {
                  "name": "starttime",
                  "type": "\"timestamp\"",
                  "metadata": "{}"
                },
                {
                  "name": "slots",
                  "type": "\"integer\"",
                  "metadata": "{}"
                }
              ],
              "aggError": "",
              "aggData": [],
              "addedWidgets": {},
              "metadata": {},
              "dbfsResultPath": null,
              "type": "table",
              "aggOverflow": false,
              "aggSeriesLimitReached": false,
              "arguments": {}
            }
          },
          "data": {
            "text/html": [
              "<style scoped>\n  .table-result-container {\n    max-height: 300px;\n    overflow: auto;\n  }\n  table, th, td {\n    border: 1px solid black;\n    border-collapse: collapse;\n  }\n  th, td {\n    padding: 5px;\n  }\n  th {\n    text-align: left;\n  }\n</style><div class='table-result-container'><table class='table-result'><thead style='background-color: white'><tr><th>bookid</th><th>facid</th><th>memid</th><th>starttime</th><th>slots</th></tr></thead><tbody><tr><td>0</td><td>3</td><td>1</td><td>2012-07-03T11:00:00.000+0000</td><td>2</td></tr><tr><td>1</td><td>4</td><td>1</td><td>2012-07-03T08:00:00.000+0000</td><td>2</td></tr><tr><td>2</td><td>6</td><td>0</td><td>2012-07-03T18:00:00.000+0000</td><td>2</td></tr></tbody></table></div>"
            ]
          }
        }
      ],
      "execution_count": null
    },
    {
      "cell_type": "code",
      "source": [
        "%sql\n",
        "select count(*) \n",
        "from bookings"
      ],
      "metadata": {
        "application/vnd.databricks.v1+cell": {
          "showTitle": false,
          "cellMetadata": {
            "implicitDf": true
          },
          "nuid": "6f25243e-6d4d-4e23-8f96-b08670ee0e18",
          "inputWidgets": {},
          "title": ""
        },
        "id": "b3I2ZcAgfVbX",
        "outputId": "9034f48a-2285-4de0-f23f-fc5b5f3469ef"
      },
      "outputs": [
        {
          "output_type": "display_data",
          "metadata": {
            "application/vnd.databricks.v1+output": {
              "overflow": false,
              "datasetInfos": [],
              "data": [
                [
                  4043
                ]
              ],
              "plotOptions": {
                "displayType": "table",
                "customPlotOptions": {},
                "pivotColumns": null,
                "pivotAggregation": null,
                "xColumns": null,
                "yColumns": null
              },
              "columnCustomDisplayInfos": {},
              "aggType": "",
              "isJsonSchema": true,
              "removedWidgets": [],
              "aggSchema": [],
              "schema": [
                {
                  "name": "count(1)",
                  "type": "\"long\"",
                  "metadata": "{\"__autoGeneratedAlias\":\"true\"}"
                }
              ],
              "aggError": "",
              "aggData": [],
              "addedWidgets": {},
              "metadata": {},
              "dbfsResultPath": null,
              "type": "table",
              "aggOverflow": false,
              "aggSeriesLimitReached": false,
              "arguments": {}
            }
          },
          "data": {
            "text/html": [
              "<style scoped>\n  .table-result-container {\n    max-height: 300px;\n    overflow: auto;\n  }\n  table, th, td {\n    border: 1px solid black;\n    border-collapse: collapse;\n  }\n  th, td {\n    padding: 5px;\n  }\n  th {\n    text-align: left;\n  }\n</style><div class='table-result-container'><table class='table-result'><thead style='background-color: white'><tr><th>count(1)</th></tr></thead><tbody><tr><td>4043</td></tr></tbody></table></div>"
            ]
          }
        }
      ],
      "execution_count": null
    },
    {
      "cell_type": "code",
      "source": [
        "%sql\n",
        "select * \n",
        "from facilities limit 3"
      ],
      "metadata": {
        "application/vnd.databricks.v1+cell": {
          "showTitle": false,
          "cellMetadata": {
            "implicitDf": true
          },
          "nuid": "a47da085-fdd4-450e-91c3-0ce57b30f17b",
          "inputWidgets": {},
          "title": ""
        },
        "id": "mpyB-fFXfVbX",
        "outputId": "abc27683-48fb-48f9-cb63-4a333931ca7a"
      },
      "outputs": [
        {
          "output_type": "display_data",
          "metadata": {
            "application/vnd.databricks.v1+output": {
              "overflow": false,
              "datasetInfos": [],
              "data": [
                [
                  0,
                  "Tennis Court 1",
                  5,
                  25,
                  10000,
                  200
                ],
                [
                  1,
                  "Tennis Court 2",
                  5,
                  25,
                  8000,
                  200
                ],
                [
                  2,
                  "Badminton Court",
                  0,
                  15.5,
                  4000,
                  50
                ]
              ],
              "plotOptions": {
                "displayType": "table",
                "customPlotOptions": {},
                "pivotColumns": null,
                "pivotAggregation": null,
                "xColumns": null,
                "yColumns": null
              },
              "columnCustomDisplayInfos": {},
              "aggType": "",
              "isJsonSchema": true,
              "removedWidgets": [],
              "aggSchema": [],
              "schema": [
                {
                  "name": "facid",
                  "type": "\"integer\"",
                  "metadata": "{}"
                },
                {
                  "name": "name",
                  "type": "\"string\"",
                  "metadata": "{}"
                },
                {
                  "name": "membercost",
                  "type": "\"double\"",
                  "metadata": "{}"
                },
                {
                  "name": "guestcost",
                  "type": "\"double\"",
                  "metadata": "{}"
                },
                {
                  "name": "initialoutlay",
                  "type": "\"integer\"",
                  "metadata": "{}"
                },
                {
                  "name": "monthlymaintenance",
                  "type": "\"integer\"",
                  "metadata": "{}"
                }
              ],
              "aggError": "",
              "aggData": [],
              "addedWidgets": {},
              "metadata": {},
              "dbfsResultPath": null,
              "type": "table",
              "aggOverflow": false,
              "aggSeriesLimitReached": false,
              "arguments": {}
            }
          },
          "data": {
            "text/html": [
              "<style scoped>\n  .table-result-container {\n    max-height: 300px;\n    overflow: auto;\n  }\n  table, th, td {\n    border: 1px solid black;\n    border-collapse: collapse;\n  }\n  th, td {\n    padding: 5px;\n  }\n  th {\n    text-align: left;\n  }\n</style><div class='table-result-container'><table class='table-result'><thead style='background-color: white'><tr><th>facid</th><th>name</th><th>membercost</th><th>guestcost</th><th>initialoutlay</th><th>monthlymaintenance</th></tr></thead><tbody><tr><td>0</td><td>Tennis Court 1</td><td>5.0</td><td>25.0</td><td>10000</td><td>200</td></tr><tr><td>1</td><td>Tennis Court 2</td><td>5.0</td><td>25.0</td><td>8000</td><td>200</td></tr><tr><td>2</td><td>Badminton Court</td><td>0.0</td><td>15.5</td><td>4000</td><td>50</td></tr></tbody></table></div>"
            ]
          }
        }
      ],
      "execution_count": null
    },
    {
      "cell_type": "code",
      "source": [
        "%sql\n",
        "select count(*) \n",
        "from facilities"
      ],
      "metadata": {
        "application/vnd.databricks.v1+cell": {
          "showTitle": false,
          "cellMetadata": {
            "implicitDf": true
          },
          "nuid": "fccf7b11-96b9-4542-95de-99aa11d08810",
          "inputWidgets": {},
          "title": ""
        },
        "id": "20GG0_TTfVbX",
        "outputId": "7cb3440b-a345-4b04-baa9-df6052c17afb"
      },
      "outputs": [
        {
          "output_type": "display_data",
          "metadata": {
            "application/vnd.databricks.v1+output": {
              "overflow": false,
              "datasetInfos": [],
              "data": [
                [
                  9
                ]
              ],
              "plotOptions": {
                "displayType": "table",
                "customPlotOptions": {},
                "pivotColumns": null,
                "pivotAggregation": null,
                "xColumns": null,
                "yColumns": null
              },
              "columnCustomDisplayInfos": {},
              "aggType": "",
              "isJsonSchema": true,
              "removedWidgets": [],
              "aggSchema": [],
              "schema": [
                {
                  "name": "count(1)",
                  "type": "\"long\"",
                  "metadata": "{\"__autoGeneratedAlias\":\"true\"}"
                }
              ],
              "aggError": "",
              "aggData": [],
              "addedWidgets": {},
              "metadata": {},
              "dbfsResultPath": null,
              "type": "table",
              "aggOverflow": false,
              "aggSeriesLimitReached": false,
              "arguments": {}
            }
          },
          "data": {
            "text/html": [
              "<style scoped>\n  .table-result-container {\n    max-height: 300px;\n    overflow: auto;\n  }\n  table, th, td {\n    border: 1px solid black;\n    border-collapse: collapse;\n  }\n  th, td {\n    padding: 5px;\n  }\n  th {\n    text-align: left;\n  }\n</style><div class='table-result-container'><table class='table-result'><thead style='background-color: white'><tr><th>count(1)</th></tr></thead><tbody><tr><td>9</td></tr></tbody></table></div>"
            ]
          }
        }
      ],
      "execution_count": null
    },
    {
      "cell_type": "code",
      "source": [
        "%sql\n",
        "select * \n",
        "from members limit 3"
      ],
      "metadata": {
        "application/vnd.databricks.v1+cell": {
          "showTitle": false,
          "cellMetadata": {
            "implicitDf": true
          },
          "nuid": "76181de2-d8b1-4d68-9892-3cd2fad1f47e",
          "inputWidgets": {},
          "title": ""
        },
        "id": "Xqq0Yl0TfVbY",
        "outputId": "02180844-30c4-4f91-f05c-72b49ac43a09"
      },
      "outputs": [
        {
          "output_type": "display_data",
          "metadata": {
            "application/vnd.databricks.v1+output": {
              "overflow": false,
              "datasetInfos": [],
              "data": [
                [
                  0,
                  "GUEST",
                  "GUEST",
                  "GUEST",
                  0,
                  "(000) 000-0000",
                  null,
                  "2012-07-01T00:00:00.000+0000"
                ],
                [
                  1,
                  "Smith",
                  "Darren",
                  "8 Bloomsbury Close, Boston",
                  4321,
                  "555-555-5555",
                  null,
                  "2012-07-02T12:02:05.000+0000"
                ],
                [
                  2,
                  "Smith",
                  "Tracy",
                  "8 Bloomsbury Close, New York",
                  4321,
                  "555-555-5555",
                  null,
                  "2012-07-02T12:08:23.000+0000"
                ]
              ],
              "plotOptions": {
                "displayType": "table",
                "customPlotOptions": {},
                "pivotColumns": null,
                "pivotAggregation": null,
                "xColumns": null,
                "yColumns": null
              },
              "columnCustomDisplayInfos": {},
              "aggType": "",
              "isJsonSchema": true,
              "removedWidgets": [],
              "aggSchema": [],
              "schema": [
                {
                  "name": "memid",
                  "type": "\"integer\"",
                  "metadata": "{}"
                },
                {
                  "name": "surname",
                  "type": "\"string\"",
                  "metadata": "{}"
                },
                {
                  "name": "firstname",
                  "type": "\"string\"",
                  "metadata": "{}"
                },
                {
                  "name": "address",
                  "type": "\"string\"",
                  "metadata": "{}"
                },
                {
                  "name": "zipcode",
                  "type": "\"integer\"",
                  "metadata": "{}"
                },
                {
                  "name": "telephone",
                  "type": "\"string\"",
                  "metadata": "{}"
                },
                {
                  "name": "recommendedby",
                  "type": "\"integer\"",
                  "metadata": "{}"
                },
                {
                  "name": "joindate",
                  "type": "\"timestamp\"",
                  "metadata": "{}"
                }
              ],
              "aggError": "",
              "aggData": [],
              "addedWidgets": {},
              "metadata": {},
              "dbfsResultPath": null,
              "type": "table",
              "aggOverflow": false,
              "aggSeriesLimitReached": false,
              "arguments": {}
            }
          },
          "data": {
            "text/html": [
              "<style scoped>\n  .table-result-container {\n    max-height: 300px;\n    overflow: auto;\n  }\n  table, th, td {\n    border: 1px solid black;\n    border-collapse: collapse;\n  }\n  th, td {\n    padding: 5px;\n  }\n  th {\n    text-align: left;\n  }\n</style><div class='table-result-container'><table class='table-result'><thead style='background-color: white'><tr><th>memid</th><th>surname</th><th>firstname</th><th>address</th><th>zipcode</th><th>telephone</th><th>recommendedby</th><th>joindate</th></tr></thead><tbody><tr><td>0</td><td>GUEST</td><td>GUEST</td><td>GUEST</td><td>0</td><td>(000) 000-0000</td><td>null</td><td>2012-07-01T00:00:00.000+0000</td></tr><tr><td>1</td><td>Smith</td><td>Darren</td><td>8 Bloomsbury Close, Boston</td><td>4321</td><td>555-555-5555</td><td>null</td><td>2012-07-02T12:02:05.000+0000</td></tr><tr><td>2</td><td>Smith</td><td>Tracy</td><td>8 Bloomsbury Close, New York</td><td>4321</td><td>555-555-5555</td><td>null</td><td>2012-07-02T12:08:23.000+0000</td></tr></tbody></table></div>"
            ]
          }
        }
      ],
      "execution_count": null
    },
    {
      "cell_type": "code",
      "source": [
        "%sql\n",
        "select count(*) \n",
        "from members"
      ],
      "metadata": {
        "application/vnd.databricks.v1+cell": {
          "showTitle": false,
          "cellMetadata": {
            "implicitDf": true
          },
          "nuid": "6e32c47a-cb38-408a-8cbd-945c8f1d3362",
          "inputWidgets": {},
          "title": ""
        },
        "id": "Vtp8lwoFfVbY",
        "outputId": "e4ce9583-f4b3-4bf2-d05f-45cff0d41469"
      },
      "outputs": [
        {
          "output_type": "display_data",
          "metadata": {
            "application/vnd.databricks.v1+output": {
              "overflow": false,
              "datasetInfos": [],
              "data": [
                [
                  31
                ]
              ],
              "plotOptions": {
                "displayType": "table",
                "customPlotOptions": {},
                "pivotColumns": null,
                "pivotAggregation": null,
                "xColumns": null,
                "yColumns": null
              },
              "columnCustomDisplayInfos": {},
              "aggType": "",
              "isJsonSchema": true,
              "removedWidgets": [],
              "aggSchema": [],
              "schema": [
                {
                  "name": "count(1)",
                  "type": "\"long\"",
                  "metadata": "{\"__autoGeneratedAlias\":\"true\"}"
                }
              ],
              "aggError": "",
              "aggData": [],
              "addedWidgets": {},
              "metadata": {},
              "dbfsResultPath": null,
              "type": "table",
              "aggOverflow": false,
              "aggSeriesLimitReached": false,
              "arguments": {}
            }
          },
          "data": {
            "text/html": [
              "<style scoped>\n  .table-result-container {\n    max-height: 300px;\n    overflow: auto;\n  }\n  table, th, td {\n    border: 1px solid black;\n    border-collapse: collapse;\n  }\n  th, td {\n    padding: 5px;\n  }\n  th {\n    text-align: left;\n  }\n</style><div class='table-result-container'><table class='table-result'><thead style='background-color: white'><tr><th>count(1)</th></tr></thead><tbody><tr><td>31</td></tr></tbody></table></div>"
            ]
          }
        }
      ],
      "execution_count": null
    },
    {
      "cell_type": "markdown",
      "source": [
        "#### Q1: Some of the facilities charge a fee to members, but some do not. Please list the names of the facilities that do."
      ],
      "metadata": {
        "application/vnd.databricks.v1+cell": {
          "showTitle": false,
          "cellMetadata": {},
          "nuid": "03ec31c8-8cd3-41a9-a151-3c3bb0520441",
          "inputWidgets": {},
          "title": ""
        },
        "id": "gamfsVcjfVbY"
      }
    },
    {
      "cell_type": "code",
      "source": [
        "%sql\n",
        "select distinct name as paid_facilities\n",
        "from facilities \n",
        "where membercost>0 "
      ],
      "metadata": {
        "application/vnd.databricks.v1+cell": {
          "showTitle": false,
          "cellMetadata": {
            "implicitDf": true
          },
          "nuid": "85e845a5-9f8f-4218-8e58-41a13d8104bb",
          "inputWidgets": {},
          "title": ""
        },
        "id": "cUWPQqplfVbY",
        "outputId": "725ee587-5ca8-462f-e9fa-72c6c571016d"
      },
      "outputs": [
        {
          "output_type": "display_data",
          "metadata": {
            "application/vnd.databricks.v1+output": {
              "overflow": false,
              "datasetInfos": [],
              "data": [
                [
                  "Tennis Court 2"
                ],
                [
                  "Squash Court"
                ],
                [
                  "Tennis Court 1"
                ],
                [
                  "Massage Room 1"
                ],
                [
                  "Massage Room 2"
                ]
              ],
              "plotOptions": {
                "displayType": "table",
                "customPlotOptions": {},
                "pivotColumns": null,
                "pivotAggregation": null,
                "xColumns": null,
                "yColumns": null
              },
              "columnCustomDisplayInfos": {},
              "aggType": "",
              "isJsonSchema": true,
              "removedWidgets": [],
              "aggSchema": [],
              "schema": [
                {
                  "name": "paid_facilities",
                  "type": "\"string\"",
                  "metadata": "{}"
                }
              ],
              "aggError": "",
              "aggData": [],
              "addedWidgets": {},
              "metadata": {},
              "dbfsResultPath": null,
              "type": "table",
              "aggOverflow": false,
              "aggSeriesLimitReached": false,
              "arguments": {}
            }
          },
          "data": {
            "text/html": [
              "<style scoped>\n  .table-result-container {\n    max-height: 300px;\n    overflow: auto;\n  }\n  table, th, td {\n    border: 1px solid black;\n    border-collapse: collapse;\n  }\n  th, td {\n    padding: 5px;\n  }\n  th {\n    text-align: left;\n  }\n</style><div class='table-result-container'><table class='table-result'><thead style='background-color: white'><tr><th>paid_facilities</th></tr></thead><tbody><tr><td>Tennis Court 2</td></tr><tr><td>Squash Court</td></tr><tr><td>Tennis Court 1</td></tr><tr><td>Massage Room 1</td></tr><tr><td>Massage Room 2</td></tr></tbody></table></div>"
            ]
          }
        }
      ],
      "execution_count": null
    },
    {
      "cell_type": "markdown",
      "source": [
        "####  Q2: How many facilities do not charge a fee to members?"
      ],
      "metadata": {
        "application/vnd.databricks.v1+cell": {
          "showTitle": false,
          "cellMetadata": {},
          "nuid": "cab106f5-137b-4e5f-b60b-ab9ed0904667",
          "inputWidgets": {},
          "title": ""
        },
        "id": "VUxL6OkrfVbY"
      }
    },
    {
      "cell_type": "code",
      "source": [
        "%sql\n",
        "select count(distinct name) as num_free_facilities\n",
        "from facilities\n",
        "where membercost=0;"
      ],
      "metadata": {
        "application/vnd.databricks.v1+cell": {
          "showTitle": false,
          "cellMetadata": {
            "implicitDf": true
          },
          "nuid": "6609f992-73f8-48ec-88cf-b67008e21e25",
          "inputWidgets": {},
          "title": ""
        },
        "id": "bTbMwYngfVbY",
        "outputId": "3de7a5a9-3383-4b87-bb87-2e3c5ab43d9a"
      },
      "outputs": [
        {
          "output_type": "display_data",
          "metadata": {
            "application/vnd.databricks.v1+output": {
              "overflow": false,
              "datasetInfos": [],
              "data": [
                [
                  4
                ]
              ],
              "plotOptions": {
                "displayType": "table",
                "customPlotOptions": {},
                "pivotColumns": null,
                "pivotAggregation": null,
                "xColumns": null,
                "yColumns": null
              },
              "columnCustomDisplayInfos": {},
              "aggType": "",
              "isJsonSchema": true,
              "removedWidgets": [],
              "aggSchema": [],
              "schema": [
                {
                  "name": "num_free_facilities",
                  "type": "\"long\"",
                  "metadata": "{}"
                }
              ],
              "aggError": "",
              "aggData": [],
              "addedWidgets": {},
              "metadata": {},
              "dbfsResultPath": null,
              "type": "table",
              "aggOverflow": false,
              "aggSeriesLimitReached": false,
              "arguments": {}
            }
          },
          "data": {
            "text/html": [
              "<style scoped>\n  .table-result-container {\n    max-height: 300px;\n    overflow: auto;\n  }\n  table, th, td {\n    border: 1px solid black;\n    border-collapse: collapse;\n  }\n  th, td {\n    padding: 5px;\n  }\n  th {\n    text-align: left;\n  }\n</style><div class='table-result-container'><table class='table-result'><thead style='background-color: white'><tr><th>num_free_facilities</th></tr></thead><tbody><tr><td>4</td></tr></tbody></table></div>"
            ]
          }
        }
      ],
      "execution_count": null
    },
    {
      "cell_type": "markdown",
      "source": [
        "#### Q3: How can you produce a list of facilities that charge a fee to members, where the fee is less than 20% of the facility's monthly maintenance cost? \n",
        "#### Return the facid, facility name, member cost, and monthly maintenance of the facilities in question."
      ],
      "metadata": {
        "application/vnd.databricks.v1+cell": {
          "showTitle": false,
          "cellMetadata": {},
          "nuid": "bf3c15a9-40c3-44fd-893d-b79cc3e8532f",
          "inputWidgets": {},
          "title": ""
        },
        "id": "0vtOM3BCfVbZ"
      }
    },
    {
      "cell_type": "code",
      "source": [
        "%sql\n",
        "select facid, name, membercost, monthlymaintenance\n",
        "from facilities\n",
        "where membercost<.2*monthlymaintenance\n",
        "-- where (membercost>0) and (membercost<.2*monthlymaintenance)\n"
      ],
      "metadata": {
        "application/vnd.databricks.v1+cell": {
          "showTitle": false,
          "cellMetadata": {
            "implicitDf": true
          },
          "nuid": "27625568-72c2-4d97-99f8-cb5baa79a520",
          "inputWidgets": {},
          "title": ""
        },
        "id": "8My6L9CpfVbZ",
        "outputId": "3e4611d5-56d5-475a-c72b-6abb51c6d69c"
      },
      "outputs": [
        {
          "output_type": "display_data",
          "metadata": {
            "application/vnd.databricks.v1+output": {
              "overflow": false,
              "datasetInfos": [],
              "data": [
                [
                  0,
                  "Tennis Court 1",
                  5,
                  200
                ],
                [
                  1,
                  "Tennis Court 2",
                  5,
                  200
                ],
                [
                  2,
                  "Badminton Court",
                  0,
                  50
                ],
                [
                  3,
                  "Table Tennis",
                  0,
                  10
                ],
                [
                  4,
                  "Massage Room 1",
                  9.9,
                  3000
                ],
                [
                  5,
                  "Massage Room 2",
                  9.9,
                  3000
                ],
                [
                  6,
                  "Squash Court",
                  3.5,
                  80
                ],
                [
                  7,
                  "Snooker Table",
                  0,
                  15
                ],
                [
                  8,
                  "Pool Table",
                  0,
                  15
                ]
              ],
              "plotOptions": {
                "displayType": "table",
                "customPlotOptions": {},
                "pivotColumns": null,
                "pivotAggregation": null,
                "xColumns": null,
                "yColumns": null
              },
              "columnCustomDisplayInfos": {},
              "aggType": "",
              "isJsonSchema": true,
              "removedWidgets": [],
              "aggSchema": [],
              "schema": [
                {
                  "name": "facid",
                  "type": "\"integer\"",
                  "metadata": "{}"
                },
                {
                  "name": "name",
                  "type": "\"string\"",
                  "metadata": "{}"
                },
                {
                  "name": "membercost",
                  "type": "\"double\"",
                  "metadata": "{}"
                },
                {
                  "name": "monthlymaintenance",
                  "type": "\"integer\"",
                  "metadata": "{}"
                }
              ],
              "aggError": "",
              "aggData": [],
              "addedWidgets": {},
              "metadata": {},
              "dbfsResultPath": null,
              "type": "table",
              "aggOverflow": false,
              "aggSeriesLimitReached": false,
              "arguments": {}
            }
          },
          "data": {
            "text/html": [
              "<style scoped>\n  .table-result-container {\n    max-height: 300px;\n    overflow: auto;\n  }\n  table, th, td {\n    border: 1px solid black;\n    border-collapse: collapse;\n  }\n  th, td {\n    padding: 5px;\n  }\n  th {\n    text-align: left;\n  }\n</style><div class='table-result-container'><table class='table-result'><thead style='background-color: white'><tr><th>facid</th><th>name</th><th>membercost</th><th>monthlymaintenance</th></tr></thead><tbody><tr><td>0</td><td>Tennis Court 1</td><td>5.0</td><td>200</td></tr><tr><td>1</td><td>Tennis Court 2</td><td>5.0</td><td>200</td></tr><tr><td>2</td><td>Badminton Court</td><td>0.0</td><td>50</td></tr><tr><td>3</td><td>Table Tennis</td><td>0.0</td><td>10</td></tr><tr><td>4</td><td>Massage Room 1</td><td>9.9</td><td>3000</td></tr><tr><td>5</td><td>Massage Room 2</td><td>9.9</td><td>3000</td></tr><tr><td>6</td><td>Squash Court</td><td>3.5</td><td>80</td></tr><tr><td>7</td><td>Snooker Table</td><td>0.0</td><td>15</td></tr><tr><td>8</td><td>Pool Table</td><td>0.0</td><td>15</td></tr></tbody></table></div>"
            ]
          }
        }
      ],
      "execution_count": null
    },
    {
      "cell_type": "markdown",
      "source": [
        "#### Q4: How can you retrieve the details of facilities with ID 1 and 5? Write the query without using the OR operator."
      ],
      "metadata": {
        "application/vnd.databricks.v1+cell": {
          "showTitle": false,
          "cellMetadata": {},
          "nuid": "c136781c-fafe-477c-8ba1-68dce185ad6e",
          "inputWidgets": {},
          "title": ""
        },
        "id": "OXYK-Y72fVbZ"
      }
    },
    {
      "cell_type": "code",
      "source": [
        "%sql\n",
        "select * \n",
        "from facilities\n",
        "where facid in (1,5)\n",
        "-- where facid=1 or facid=5\n"
      ],
      "metadata": {
        "application/vnd.databricks.v1+cell": {
          "showTitle": false,
          "cellMetadata": {
            "implicitDf": true
          },
          "nuid": "4b7e42a9-93ed-4d76-ab38-c1d8cdf5af91",
          "inputWidgets": {},
          "title": ""
        },
        "id": "22zumPF7fVbZ",
        "outputId": "96cd56d8-4b8d-4aaa-a9c6-59cd16c3454a"
      },
      "outputs": [
        {
          "output_type": "display_data",
          "metadata": {
            "application/vnd.databricks.v1+output": {
              "overflow": false,
              "datasetInfos": [],
              "data": [
                [
                  1,
                  "Tennis Court 2",
                  5,
                  25,
                  8000,
                  200
                ],
                [
                  5,
                  "Massage Room 2",
                  9.9,
                  80,
                  4000,
                  3000
                ]
              ],
              "plotOptions": {
                "displayType": "table",
                "customPlotOptions": {},
                "pivotColumns": null,
                "pivotAggregation": null,
                "xColumns": null,
                "yColumns": null
              },
              "columnCustomDisplayInfos": {},
              "aggType": "",
              "isJsonSchema": true,
              "removedWidgets": [],
              "aggSchema": [],
              "schema": [
                {
                  "name": "facid",
                  "type": "\"integer\"",
                  "metadata": "{}"
                },
                {
                  "name": "name",
                  "type": "\"string\"",
                  "metadata": "{}"
                },
                {
                  "name": "membercost",
                  "type": "\"double\"",
                  "metadata": "{}"
                },
                {
                  "name": "guestcost",
                  "type": "\"double\"",
                  "metadata": "{}"
                },
                {
                  "name": "initialoutlay",
                  "type": "\"integer\"",
                  "metadata": "{}"
                },
                {
                  "name": "monthlymaintenance",
                  "type": "\"integer\"",
                  "metadata": "{}"
                }
              ],
              "aggError": "",
              "aggData": [],
              "addedWidgets": {},
              "metadata": {},
              "dbfsResultPath": null,
              "type": "table",
              "aggOverflow": false,
              "aggSeriesLimitReached": false,
              "arguments": {}
            }
          },
          "data": {
            "text/html": [
              "<style scoped>\n  .table-result-container {\n    max-height: 300px;\n    overflow: auto;\n  }\n  table, th, td {\n    border: 1px solid black;\n    border-collapse: collapse;\n  }\n  th, td {\n    padding: 5px;\n  }\n  th {\n    text-align: left;\n  }\n</style><div class='table-result-container'><table class='table-result'><thead style='background-color: white'><tr><th>facid</th><th>name</th><th>membercost</th><th>guestcost</th><th>initialoutlay</th><th>monthlymaintenance</th></tr></thead><tbody><tr><td>1</td><td>Tennis Court 2</td><td>5.0</td><td>25.0</td><td>8000</td><td>200</td></tr><tr><td>5</td><td>Massage Room 2</td><td>9.9</td><td>80.0</td><td>4000</td><td>3000</td></tr></tbody></table></div>"
            ]
          }
        }
      ],
      "execution_count": null
    },
    {
      "cell_type": "markdown",
      "source": [
        "#### Q5: How can you produce a list of facilities, with each labelled as 'cheap' or 'expensive', depending on if their monthly maintenance cost is more than $100? \n",
        "#### Return the name and monthly maintenance of the facilities in question."
      ],
      "metadata": {
        "application/vnd.databricks.v1+cell": {
          "showTitle": false,
          "cellMetadata": {},
          "nuid": "111f6929-3c9f-4db3-b4b6-852e985576de",
          "inputWidgets": {},
          "title": ""
        },
        "id": "zeg7iQ-0fVbZ"
      }
    },
    {
      "cell_type": "code",
      "source": [
        "%sql\n",
        "select name, monthlymaintenance, \n",
        "  case when monthlymaintenance<=100 then 'cheap' \n",
        "--   else 'expensive' end as afford\n",
        "  when monthlymaintenance>100 then 'expensive' end as afford\n",
        "from facilities  "
      ],
      "metadata": {
        "application/vnd.databricks.v1+cell": {
          "showTitle": false,
          "cellMetadata": {
            "implicitDf": true
          },
          "nuid": "1d1d0753-fd80-4cb9-9c01-772b9eabb6ca",
          "inputWidgets": {},
          "title": ""
        },
        "id": "HBgvyeTFfVbZ",
        "outputId": "13569a62-8d7b-41ea-e619-565a9b7859a0"
      },
      "outputs": [
        {
          "output_type": "display_data",
          "metadata": {
            "application/vnd.databricks.v1+output": {
              "overflow": false,
              "datasetInfos": [],
              "data": [
                [
                  "Tennis Court 1",
                  200,
                  "expensive"
                ],
                [
                  "Tennis Court 2",
                  200,
                  "expensive"
                ],
                [
                  "Badminton Court",
                  50,
                  "cheap"
                ],
                [
                  "Table Tennis",
                  10,
                  "cheap"
                ],
                [
                  "Massage Room 1",
                  3000,
                  "expensive"
                ],
                [
                  "Massage Room 2",
                  3000,
                  "expensive"
                ],
                [
                  "Squash Court",
                  80,
                  "cheap"
                ],
                [
                  "Snooker Table",
                  15,
                  "cheap"
                ],
                [
                  "Pool Table",
                  15,
                  "cheap"
                ]
              ],
              "plotOptions": {
                "displayType": "table",
                "customPlotOptions": {},
                "pivotColumns": null,
                "pivotAggregation": null,
                "xColumns": null,
                "yColumns": null
              },
              "columnCustomDisplayInfos": {},
              "aggType": "",
              "isJsonSchema": true,
              "removedWidgets": [],
              "aggSchema": [],
              "schema": [
                {
                  "name": "name",
                  "type": "\"string\"",
                  "metadata": "{}"
                },
                {
                  "name": "monthlymaintenance",
                  "type": "\"integer\"",
                  "metadata": "{}"
                },
                {
                  "name": "afford",
                  "type": "\"string\"",
                  "metadata": "{}"
                }
              ],
              "aggError": "",
              "aggData": [],
              "addedWidgets": {},
              "metadata": {},
              "dbfsResultPath": null,
              "type": "table",
              "aggOverflow": false,
              "aggSeriesLimitReached": false,
              "arguments": {}
            }
          },
          "data": {
            "text/html": [
              "<style scoped>\n  .table-result-container {\n    max-height: 300px;\n    overflow: auto;\n  }\n  table, th, td {\n    border: 1px solid black;\n    border-collapse: collapse;\n  }\n  th, td {\n    padding: 5px;\n  }\n  th {\n    text-align: left;\n  }\n</style><div class='table-result-container'><table class='table-result'><thead style='background-color: white'><tr><th>name</th><th>monthlymaintenance</th><th>afford</th></tr></thead><tbody><tr><td>Tennis Court 1</td><td>200</td><td>expensive</td></tr><tr><td>Tennis Court 2</td><td>200</td><td>expensive</td></tr><tr><td>Badminton Court</td><td>50</td><td>cheap</td></tr><tr><td>Table Tennis</td><td>10</td><td>cheap</td></tr><tr><td>Massage Room 1</td><td>3000</td><td>expensive</td></tr><tr><td>Massage Room 2</td><td>3000</td><td>expensive</td></tr><tr><td>Squash Court</td><td>80</td><td>cheap</td></tr><tr><td>Snooker Table</td><td>15</td><td>cheap</td></tr><tr><td>Pool Table</td><td>15</td><td>cheap</td></tr></tbody></table></div>"
            ]
          }
        }
      ],
      "execution_count": null
    },
    {
      "cell_type": "markdown",
      "source": [
        "#### Q6: You'd like to get the first and last name of the last member(s) who signed up. Do not use the LIMIT clause for your solution."
      ],
      "metadata": {
        "application/vnd.databricks.v1+cell": {
          "showTitle": false,
          "cellMetadata": {},
          "nuid": "3c117e04-2a2e-417f-af60-4c15394d0750",
          "inputWidgets": {},
          "title": ""
        },
        "id": "wK3r5PpdfVbZ"
      }
    },
    {
      "cell_type": "code",
      "source": [
        "%sql\n",
        "select surname, firstname \n",
        "from members\n",
        "  join bookings on members.memid = bookings.memid \n",
        "where starttime = \n",
        "( select max(starttime) from bookings ) \n",
        "-- ( select max(starttime) from bookings ) and bookings.memid != '0' \n",
        "\n",
        "-- select surname, firstname, joindate\n",
        "-- from members\n",
        "-- where joindate=(\n",
        "-- select max(joindate) from members);\n",
        "\n"
      ],
      "metadata": {
        "application/vnd.databricks.v1+cell": {
          "showTitle": false,
          "cellMetadata": {
            "implicitDf": true
          },
          "nuid": "4f426a7f-44cb-4672-8ee0-692485139777",
          "inputWidgets": {},
          "title": ""
        },
        "id": "8LiAIxMrfVbZ",
        "outputId": "4ccb2c6b-48f1-4e87-beb3-b4aae7416ba3"
      },
      "outputs": [
        {
          "output_type": "display_data",
          "metadata": {
            "application/vnd.databricks.v1+output": {
              "overflow": false,
              "datasetInfos": [],
              "data": [
                [
                  "GUEST",
                  "GUEST"
                ],
                [
                  "Worthington-Smyth",
                  "Henry"
                ]
              ],
              "plotOptions": {
                "displayType": "table",
                "customPlotOptions": {},
                "pivotColumns": null,
                "pivotAggregation": null,
                "xColumns": null,
                "yColumns": null
              },
              "columnCustomDisplayInfos": {},
              "aggType": "",
              "isJsonSchema": true,
              "removedWidgets": [],
              "aggSchema": [],
              "schema": [
                {
                  "name": "surname",
                  "type": "\"string\"",
                  "metadata": "{}"
                },
                {
                  "name": "firstname",
                  "type": "\"string\"",
                  "metadata": "{}"
                }
              ],
              "aggError": "",
              "aggData": [],
              "addedWidgets": {},
              "metadata": {},
              "dbfsResultPath": null,
              "type": "table",
              "aggOverflow": false,
              "aggSeriesLimitReached": false,
              "arguments": {}
            }
          },
          "data": {
            "text/html": [
              "<style scoped>\n  .table-result-container {\n    max-height: 300px;\n    overflow: auto;\n  }\n  table, th, td {\n    border: 1px solid black;\n    border-collapse: collapse;\n  }\n  th, td {\n    padding: 5px;\n  }\n  th {\n    text-align: left;\n  }\n</style><div class='table-result-container'><table class='table-result'><thead style='background-color: white'><tr><th>surname</th><th>firstname</th></tr></thead><tbody><tr><td>GUEST</td><td>GUEST</td></tr><tr><td>Worthington-Smyth</td><td>Henry</td></tr></tbody></table></div>"
            ]
          }
        }
      ],
      "execution_count": null
    },
    {
      "cell_type": "markdown",
      "source": [
        "####  Q7: How can you produce a list of all members who have used a tennis court?\n",
        "- Include in your output the name of the court, and the name of the member formatted as a single column. \n",
        "- Ensure no duplicate data\n",
        "- Also order by the member name."
      ],
      "metadata": {
        "application/vnd.databricks.v1+cell": {
          "showTitle": false,
          "cellMetadata": {},
          "nuid": "fff44e5c-8d6e-4ef3-8381-86ed331df9dd",
          "inputWidgets": {},
          "title": ""
        },
        "id": "02d7COZmfVba"
      }
    },
    {
      "cell_type": "code",
      "source": [
        "%sql\n",
        "select distinct facilities.name, \n",
        "  concat(members.firstname, ' ', members.surname) as member_name\n",
        "from bookings\n",
        "  join facilities on bookings.facid = facilities.facid\n",
        "  join members on bookings.memid = members.memid\n",
        "where facilities.name like '%%Tennis Court%%'\n",
        "order by member_name \n",
        "\n",
        "-- select distinct firstname, surname \n",
        "--   from members \n",
        "--   join bookings\n",
        "--   on members.memid = bookings.memid\n",
        "-- where (memid !=0 from bookings)\n",
        "\n"
      ],
      "metadata": {
        "application/vnd.databricks.v1+cell": {
          "showTitle": false,
          "cellMetadata": {
            "implicitDf": true
          },
          "nuid": "12e97013-b56f-454f-bf6e-c0a287becb5d",
          "inputWidgets": {},
          "title": ""
        },
        "id": "4xCp1oi5fVba",
        "outputId": "7732ccb5-9d00-49ae-8858-8961ac4e4e51"
      },
      "outputs": [
        {
          "output_type": "display_data",
          "metadata": {
            "application/vnd.databricks.v1+output": {
              "overflow": false,
              "datasetInfos": [],
              "data": [
                [
                  "Tennis Court 2",
                  "Anne Baker"
                ],
                [
                  "Tennis Court 1",
                  "Anne Baker"
                ],
                [
                  "Tennis Court 2",
                  "Burton Tracy"
                ],
                [
                  "Tennis Court 1",
                  "Burton Tracy"
                ],
                [
                  "Tennis Court 1",
                  "Charles Owen"
                ],
                [
                  "Tennis Court 2",
                  "Charles Owen"
                ],
                [
                  "Tennis Court 2",
                  "Darren Smith"
                ],
                [
                  "Tennis Court 2",
                  "David Farrell"
                ],
                [
                  "Tennis Court 1",
                  "David Farrell"
                ],
                [
                  "Tennis Court 2",
                  "David Jones"
                ],
                [
                  "Tennis Court 1",
                  "David Jones"
                ],
                [
                  "Tennis Court 1",
                  "David Pinker"
                ],
                [
                  "Tennis Court 1",
                  "Douglas Jones"
                ],
                [
                  "Tennis Court 1",
                  "Erica Crumpet"
                ],
                [
                  "Tennis Court 1",
                  "Florence Bader"
                ],
                [
                  "Tennis Court 2",
                  "Florence Bader"
                ],
                [
                  "Tennis Court 1",
                  "GUEST GUEST"
                ],
                [
                  "Tennis Court 2",
                  "GUEST GUEST"
                ],
                [
                  "Tennis Court 2",
                  "Gerald Butters"
                ],
                [
                  "Tennis Court 1",
                  "Gerald Butters"
                ],
                [
                  "Tennis Court 2",
                  "Henrietta Rumney"
                ],
                [
                  "Tennis Court 1",
                  "Jack Smith"
                ],
                [
                  "Tennis Court 2",
                  "Jack Smith"
                ],
                [
                  "Tennis Court 2",
                  "Janice Joplette"
                ],
                [
                  "Tennis Court 1",
                  "Janice Joplette"
                ],
                [
                  "Tennis Court 2",
                  "Jemima Farrell"
                ],
                [
                  "Tennis Court 1",
                  "Jemima Farrell"
                ],
                [
                  "Tennis Court 1",
                  "Joan Coplin"
                ],
                [
                  "Tennis Court 1",
                  "John Hunt"
                ],
                [
                  "Tennis Court 2",
                  "John Hunt"
                ],
                [
                  "Tennis Court 1",
                  "Matthew Genting"
                ],
                [
                  "Tennis Court 2",
                  "Millicent Purview"
                ],
                [
                  "Tennis Court 2",
                  "Nancy Dare"
                ],
                [
                  "Tennis Court 1",
                  "Nancy Dare"
                ],
                [
                  "Tennis Court 1",
                  "Ponder Stibbons"
                ],
                [
                  "Tennis Court 2",
                  "Ponder Stibbons"
                ],
                [
                  "Tennis Court 1",
                  "Ramnaresh Sarwin"
                ],
                [
                  "Tennis Court 2",
                  "Ramnaresh Sarwin"
                ],
                [
                  "Tennis Court 1",
                  "Tim Boothe"
                ],
                [
                  "Tennis Court 2",
                  "Tim Boothe"
                ],
                [
                  "Tennis Court 2",
                  "Tim Rownam"
                ],
                [
                  "Tennis Court 1",
                  "Tim Rownam"
                ],
                [
                  "Tennis Court 2",
                  "Timothy Baker"
                ],
                [
                  "Tennis Court 1",
                  "Timothy Baker"
                ],
                [
                  "Tennis Court 2",
                  "Tracy Smith"
                ],
                [
                  "Tennis Court 1",
                  "Tracy Smith"
                ]
              ],
              "plotOptions": {
                "displayType": "table",
                "customPlotOptions": {},
                "pivotColumns": null,
                "pivotAggregation": null,
                "xColumns": null,
                "yColumns": null
              },
              "columnCustomDisplayInfos": {},
              "aggType": "",
              "isJsonSchema": true,
              "removedWidgets": [],
              "aggSchema": [],
              "schema": [
                {
                  "name": "name",
                  "type": "\"string\"",
                  "metadata": "{}"
                },
                {
                  "name": "member_name",
                  "type": "\"string\"",
                  "metadata": "{}"
                }
              ],
              "aggError": "",
              "aggData": [],
              "addedWidgets": {},
              "metadata": {},
              "dbfsResultPath": null,
              "type": "table",
              "aggOverflow": false,
              "aggSeriesLimitReached": false,
              "arguments": {}
            }
          },
          "data": {
            "text/html": [
              "<style scoped>\n  .table-result-container {\n    max-height: 300px;\n    overflow: auto;\n  }\n  table, th, td {\n    border: 1px solid black;\n    border-collapse: collapse;\n  }\n  th, td {\n    padding: 5px;\n  }\n  th {\n    text-align: left;\n  }\n</style><div class='table-result-container'><table class='table-result'><thead style='background-color: white'><tr><th>name</th><th>member_name</th></tr></thead><tbody><tr><td>Tennis Court 2</td><td>Anne Baker</td></tr><tr><td>Tennis Court 1</td><td>Anne Baker</td></tr><tr><td>Tennis Court 2</td><td>Burton Tracy</td></tr><tr><td>Tennis Court 1</td><td>Burton Tracy</td></tr><tr><td>Tennis Court 1</td><td>Charles Owen</td></tr><tr><td>Tennis Court 2</td><td>Charles Owen</td></tr><tr><td>Tennis Court 2</td><td>Darren Smith</td></tr><tr><td>Tennis Court 2</td><td>David Farrell</td></tr><tr><td>Tennis Court 1</td><td>David Farrell</td></tr><tr><td>Tennis Court 2</td><td>David Jones</td></tr><tr><td>Tennis Court 1</td><td>David Jones</td></tr><tr><td>Tennis Court 1</td><td>David Pinker</td></tr><tr><td>Tennis Court 1</td><td>Douglas Jones</td></tr><tr><td>Tennis Court 1</td><td>Erica Crumpet</td></tr><tr><td>Tennis Court 1</td><td>Florence Bader</td></tr><tr><td>Tennis Court 2</td><td>Florence Bader</td></tr><tr><td>Tennis Court 1</td><td>GUEST GUEST</td></tr><tr><td>Tennis Court 2</td><td>GUEST GUEST</td></tr><tr><td>Tennis Court 2</td><td>Gerald Butters</td></tr><tr><td>Tennis Court 1</td><td>Gerald Butters</td></tr><tr><td>Tennis Court 2</td><td>Henrietta Rumney</td></tr><tr><td>Tennis Court 1</td><td>Jack Smith</td></tr><tr><td>Tennis Court 2</td><td>Jack Smith</td></tr><tr><td>Tennis Court 2</td><td>Janice Joplette</td></tr><tr><td>Tennis Court 1</td><td>Janice Joplette</td></tr><tr><td>Tennis Court 2</td><td>Jemima Farrell</td></tr><tr><td>Tennis Court 1</td><td>Jemima Farrell</td></tr><tr><td>Tennis Court 1</td><td>Joan Coplin</td></tr><tr><td>Tennis Court 1</td><td>John Hunt</td></tr><tr><td>Tennis Court 2</td><td>John Hunt</td></tr><tr><td>Tennis Court 1</td><td>Matthew Genting</td></tr><tr><td>Tennis Court 2</td><td>Millicent Purview</td></tr><tr><td>Tennis Court 2</td><td>Nancy Dare</td></tr><tr><td>Tennis Court 1</td><td>Nancy Dare</td></tr><tr><td>Tennis Court 1</td><td>Ponder Stibbons</td></tr><tr><td>Tennis Court 2</td><td>Ponder Stibbons</td></tr><tr><td>Tennis Court 1</td><td>Ramnaresh Sarwin</td></tr><tr><td>Tennis Court 2</td><td>Ramnaresh Sarwin</td></tr><tr><td>Tennis Court 1</td><td>Tim Boothe</td></tr><tr><td>Tennis Court 2</td><td>Tim Boothe</td></tr><tr><td>Tennis Court 2</td><td>Tim Rownam</td></tr><tr><td>Tennis Court 1</td><td>Tim Rownam</td></tr><tr><td>Tennis Court 2</td><td>Timothy Baker</td></tr><tr><td>Tennis Court 1</td><td>Timothy Baker</td></tr><tr><td>Tennis Court 2</td><td>Tracy Smith</td></tr><tr><td>Tennis Court 1</td><td>Tracy Smith</td></tr></tbody></table></div>"
            ]
          }
        }
      ],
      "execution_count": null
    },
    {
      "cell_type": "markdown",
      "source": [
        "#### Q8: How can you produce a list of bookings on the day of 2012-09-14 which will cost the member (or guest) more than $30? \n",
        "\n",
        "- Remember that guests have different costs to members (the listed costs are per half-hour 'slot')\n",
        "- The guest user's ID is always 0. \n",
        "\n",
        "#### Include in your output the name of the facility, the name of the member formatted as a single column, and the cost.\n",
        "\n",
        "- Order by descending cost, and do not use any subqueries."
      ],
      "metadata": {
        "application/vnd.databricks.v1+cell": {
          "showTitle": false,
          "cellMetadata": {},
          "nuid": "de61b399-12fb-4e8e-b514-3dd069645b30",
          "inputWidgets": {},
          "title": ""
        },
        "id": "cuTob_WOfVba"
      }
    },
    {
      "cell_type": "code",
      "source": [
        "%sql\n",
        "select name, concat(members.firstname,' ', members.surname) as member_name, \n",
        "  case when bookings.memid=0 then facilities.guestcost*bookings.slots\n",
        "       else facilities.membercost*bookings.slots end as cost \n",
        "from bookings\n",
        "  join facilities on bookings.facid = facilities.facid\n",
        "  join members on bookings.memid = members.memid\n",
        "-- where (facilities.membercost>30) or (facilities.guestcost>30) and \n",
        "--   (bookings.starttime>='2012-09-14T00:00:00' and bookings.starttime<='2012-09-14T24:00:00' )\n",
        "where bookings.starttime like '%%2012-09-14%%' and\n",
        " ((facilities.guestcost*bookings.slots > 30 and bookings.memid=0) or \n",
        "  (facilities.membercost*bookings.slots >30 and bookings.memid!=0))\n",
        "order by cost desc\n"
      ],
      "metadata": {
        "application/vnd.databricks.v1+cell": {
          "showTitle": false,
          "cellMetadata": {
            "implicitDf": true
          },
          "nuid": "0564c852-5576-4421-8652-f761bb26b270",
          "inputWidgets": {},
          "title": ""
        },
        "id": "_Zz-hez1fVba",
        "outputId": "6c9ce86c-51e0-43dc-fda3-56802ca27860"
      },
      "outputs": [
        {
          "output_type": "display_data",
          "metadata": {
            "application/vnd.databricks.v1+output": {
              "overflow": false,
              "datasetInfos": [],
              "data": [
                [
                  "Massage Room 2",
                  "GUEST GUEST",
                  320
                ],
                [
                  "Massage Room 1",
                  "GUEST GUEST",
                  160
                ],
                [
                  "Massage Room 1",
                  "GUEST GUEST",
                  160
                ],
                [
                  "Massage Room 1",
                  "GUEST GUEST",
                  160
                ],
                [
                  "Tennis Court 2",
                  "GUEST GUEST",
                  150
                ],
                [
                  "Tennis Court 2",
                  "GUEST GUEST",
                  75
                ],
                [
                  "Tennis Court 1",
                  "GUEST GUEST",
                  75
                ],
                [
                  "Tennis Court 1",
                  "GUEST GUEST",
                  75
                ],
                [
                  "Squash Court",
                  "GUEST GUEST",
                  70
                ],
                [
                  "Massage Room 1",
                  "Jemima Farrell",
                  39.6
                ],
                [
                  "Squash Court",
                  "GUEST GUEST",
                  35
                ],
                [
                  "Squash Court",
                  "GUEST GUEST",
                  35
                ]
              ],
              "plotOptions": {
                "displayType": "table",
                "customPlotOptions": {},
                "pivotColumns": null,
                "pivotAggregation": null,
                "xColumns": null,
                "yColumns": null
              },
              "columnCustomDisplayInfos": {},
              "aggType": "",
              "isJsonSchema": true,
              "removedWidgets": [],
              "aggSchema": [],
              "schema": [
                {
                  "name": "name",
                  "type": "\"string\"",
                  "metadata": "{}"
                },
                {
                  "name": "member_name",
                  "type": "\"string\"",
                  "metadata": "{}"
                },
                {
                  "name": "cost",
                  "type": "\"double\"",
                  "metadata": "{}"
                }
              ],
              "aggError": "",
              "aggData": [],
              "addedWidgets": {},
              "metadata": {},
              "dbfsResultPath": null,
              "type": "table",
              "aggOverflow": false,
              "aggSeriesLimitReached": false,
              "arguments": {}
            }
          },
          "data": {
            "text/html": [
              "<style scoped>\n  .table-result-container {\n    max-height: 300px;\n    overflow: auto;\n  }\n  table, th, td {\n    border: 1px solid black;\n    border-collapse: collapse;\n  }\n  th, td {\n    padding: 5px;\n  }\n  th {\n    text-align: left;\n  }\n</style><div class='table-result-container'><table class='table-result'><thead style='background-color: white'><tr><th>name</th><th>member_name</th><th>cost</th></tr></thead><tbody><tr><td>Massage Room 2</td><td>GUEST GUEST</td><td>320.0</td></tr><tr><td>Massage Room 1</td><td>GUEST GUEST</td><td>160.0</td></tr><tr><td>Massage Room 1</td><td>GUEST GUEST</td><td>160.0</td></tr><tr><td>Massage Room 1</td><td>GUEST GUEST</td><td>160.0</td></tr><tr><td>Tennis Court 2</td><td>GUEST GUEST</td><td>150.0</td></tr><tr><td>Tennis Court 2</td><td>GUEST GUEST</td><td>75.0</td></tr><tr><td>Tennis Court 1</td><td>GUEST GUEST</td><td>75.0</td></tr><tr><td>Tennis Court 1</td><td>GUEST GUEST</td><td>75.0</td></tr><tr><td>Squash Court</td><td>GUEST GUEST</td><td>70.0</td></tr><tr><td>Massage Room 1</td><td>Jemima Farrell</td><td>39.6</td></tr><tr><td>Squash Court</td><td>GUEST GUEST</td><td>35.0</td></tr><tr><td>Squash Court</td><td>GUEST GUEST</td><td>35.0</td></tr></tbody></table></div>"
            ]
          }
        }
      ],
      "execution_count": null
    },
    {
      "cell_type": "markdown",
      "source": [
        "#### Q9: This time, produce the same result as in Q8, but using a subquery."
      ],
      "metadata": {
        "application/vnd.databricks.v1+cell": {
          "showTitle": false,
          "cellMetadata": {},
          "nuid": "61c2c1ab-3b18-47d1-95e9-0f72f98efa90",
          "inputWidgets": {},
          "title": ""
        },
        "id": "gVfg_cSwfVba"
      }
    },
    {
      "cell_type": "code",
      "source": [
        "%sql\n",
        "select name, concat(firstname,' ', surname) as member_name, \n",
        "  case when memid=0 then guestcost*slots\n",
        "  else membercost*slots end as cost \n",
        "from (select bookings.memid as memid, bookings.starttime, bookings.slots,\n",
        "             facilities.name, facilities.membercost, facilities.guestcost,\n",
        "             members.surname, members.firstname\n",
        "  from bookings\n",
        "  join facilities on bookings.facid = facilities.facid\n",
        "  join members on bookings.memid = members.memid ) as T\n",
        "where starttime like '%%2012-09-14%%' and\n",
        " ((guestcost*slots > 30 and memid=0) or \n",
        "  (membercost*slots >30 and memid!=0))\n",
        "order by cost desc\n"
      ],
      "metadata": {
        "application/vnd.databricks.v1+cell": {
          "showTitle": false,
          "cellMetadata": {
            "implicitDf": true
          },
          "nuid": "4e8e2ab8-2913-45c3-adc3-9567a811c4ab",
          "inputWidgets": {},
          "title": ""
        },
        "id": "ysFOAwB2fVba",
        "outputId": "5edaf9fe-2194-40af-ec31-0eeeece31748"
      },
      "outputs": [
        {
          "output_type": "display_data",
          "metadata": {
            "application/vnd.databricks.v1+output": {
              "overflow": false,
              "datasetInfos": [],
              "data": [
                [
                  "Massage Room 2",
                  "GUEST GUEST",
                  320
                ],
                [
                  "Massage Room 1",
                  "GUEST GUEST",
                  160
                ],
                [
                  "Massage Room 1",
                  "GUEST GUEST",
                  160
                ],
                [
                  "Massage Room 1",
                  "GUEST GUEST",
                  160
                ],
                [
                  "Tennis Court 2",
                  "GUEST GUEST",
                  150
                ],
                [
                  "Tennis Court 2",
                  "GUEST GUEST",
                  75
                ],
                [
                  "Tennis Court 1",
                  "GUEST GUEST",
                  75
                ],
                [
                  "Tennis Court 1",
                  "GUEST GUEST",
                  75
                ],
                [
                  "Squash Court",
                  "GUEST GUEST",
                  70
                ],
                [
                  "Massage Room 1",
                  "Jemima Farrell",
                  39.6
                ],
                [
                  "Squash Court",
                  "GUEST GUEST",
                  35
                ],
                [
                  "Squash Court",
                  "GUEST GUEST",
                  35
                ]
              ],
              "plotOptions": {
                "displayType": "table",
                "customPlotOptions": {},
                "pivotColumns": null,
                "pivotAggregation": null,
                "xColumns": null,
                "yColumns": null
              },
              "columnCustomDisplayInfos": {},
              "aggType": "",
              "isJsonSchema": true,
              "removedWidgets": [],
              "aggSchema": [],
              "schema": [
                {
                  "name": "name",
                  "type": "\"string\"",
                  "metadata": "{}"
                },
                {
                  "name": "member_name",
                  "type": "\"string\"",
                  "metadata": "{}"
                },
                {
                  "name": "cost",
                  "type": "\"double\"",
                  "metadata": "{}"
                }
              ],
              "aggError": "",
              "aggData": [],
              "addedWidgets": {},
              "metadata": {},
              "dbfsResultPath": null,
              "type": "table",
              "aggOverflow": false,
              "aggSeriesLimitReached": false,
              "arguments": {}
            }
          },
          "data": {
            "text/html": [
              "<style scoped>\n  .table-result-container {\n    max-height: 300px;\n    overflow: auto;\n  }\n  table, th, td {\n    border: 1px solid black;\n    border-collapse: collapse;\n  }\n  th, td {\n    padding: 5px;\n  }\n  th {\n    text-align: left;\n  }\n</style><div class='table-result-container'><table class='table-result'><thead style='background-color: white'><tr><th>name</th><th>member_name</th><th>cost</th></tr></thead><tbody><tr><td>Massage Room 2</td><td>GUEST GUEST</td><td>320.0</td></tr><tr><td>Massage Room 1</td><td>GUEST GUEST</td><td>160.0</td></tr><tr><td>Massage Room 1</td><td>GUEST GUEST</td><td>160.0</td></tr><tr><td>Massage Room 1</td><td>GUEST GUEST</td><td>160.0</td></tr><tr><td>Tennis Court 2</td><td>GUEST GUEST</td><td>150.0</td></tr><tr><td>Tennis Court 2</td><td>GUEST GUEST</td><td>75.0</td></tr><tr><td>Tennis Court 1</td><td>GUEST GUEST</td><td>75.0</td></tr><tr><td>Tennis Court 1</td><td>GUEST GUEST</td><td>75.0</td></tr><tr><td>Squash Court</td><td>GUEST GUEST</td><td>70.0</td></tr><tr><td>Massage Room 1</td><td>Jemima Farrell</td><td>39.6</td></tr><tr><td>Squash Court</td><td>GUEST GUEST</td><td>35.0</td></tr><tr><td>Squash Court</td><td>GUEST GUEST</td><td>35.0</td></tr></tbody></table></div>"
            ]
          }
        }
      ],
      "execution_count": null
    },
    {
      "cell_type": "markdown",
      "source": [
        "#### Q10: Produce a list of facilities with a total revenue less than 1000.\n",
        "- The output should have facility name and total revenue, sorted by revenue. \n",
        "- Remember that there's a different cost for guests and members!"
      ],
      "metadata": {
        "application/vnd.databricks.v1+cell": {
          "showTitle": false,
          "cellMetadata": {},
          "nuid": "87a0de1c-9d18-4140-9057-defb0dd16ca9",
          "inputWidgets": {},
          "title": ""
        },
        "id": "w2QQxUGpfVba"
      }
    },
    {
      "cell_type": "code",
      "source": [
        "%sql\n",
        "select facilities.name, \n",
        "  sum(case when bookings.memid=0 then facilities.guestcost*bookings.slots\n",
        "      else facilities.membercost*bookings.slots end) as revenue\n",
        "from bookings\n",
        "  join facilities on bookings.facid = facilities.facid\n",
        "group by facilities.name\n",
        "having revenue < 1000\n",
        "order by revenue desc\n"
      ],
      "metadata": {
        "application/vnd.databricks.v1+cell": {
          "showTitle": false,
          "cellMetadata": {
            "implicitDf": true
          },
          "nuid": "c03d47c8-c1cc-46ec-ad60-8f55dc3d4afb",
          "inputWidgets": {},
          "title": ""
        },
        "id": "ahdob3p5fVbb",
        "outputId": "959e50a1-55fa-4b7e-bd35-e39f9c815ea5"
      },
      "outputs": [
        {
          "output_type": "display_data",
          "metadata": {
            "application/vnd.databricks.v1+output": {
              "overflow": false,
              "datasetInfos": [],
              "data": [
                [
                  "Pool Table",
                  270
                ],
                [
                  "Snooker Table",
                  240
                ],
                [
                  "Table Tennis",
                  180
                ]
              ],
              "plotOptions": {
                "displayType": "table",
                "customPlotOptions": {},
                "pivotColumns": null,
                "pivotAggregation": null,
                "xColumns": null,
                "yColumns": null
              },
              "columnCustomDisplayInfos": {},
              "aggType": "",
              "isJsonSchema": true,
              "removedWidgets": [],
              "aggSchema": [],
              "schema": [
                {
                  "name": "name",
                  "type": "\"string\"",
                  "metadata": "{}"
                },
                {
                  "name": "revenue",
                  "type": "\"double\"",
                  "metadata": "{}"
                }
              ],
              "aggError": "",
              "aggData": [],
              "addedWidgets": {},
              "metadata": {},
              "dbfsResultPath": null,
              "type": "table",
              "aggOverflow": false,
              "aggSeriesLimitReached": false,
              "arguments": {}
            }
          },
          "data": {
            "text/html": [
              "<style scoped>\n  .table-result-container {\n    max-height: 300px;\n    overflow: auto;\n  }\n  table, th, td {\n    border: 1px solid black;\n    border-collapse: collapse;\n  }\n  th, td {\n    padding: 5px;\n  }\n  th {\n    text-align: left;\n  }\n</style><div class='table-result-container'><table class='table-result'><thead style='background-color: white'><tr><th>name</th><th>revenue</th></tr></thead><tbody><tr><td>Pool Table</td><td>270.0</td></tr><tr><td>Snooker Table</td><td>240.0</td></tr><tr><td>Table Tennis</td><td>180.0</td></tr></tbody></table></div>"
            ]
          }
        }
      ],
      "execution_count": null
    },
    {
      "cell_type": "code",
      "source": [],
      "metadata": {
        "application/vnd.databricks.v1+cell": {
          "showTitle": false,
          "cellMetadata": {},
          "nuid": "719f984a-eb65-475d-a4bd-d01497d3848a",
          "inputWidgets": {},
          "title": ""
        },
        "id": "VYJa13PhfVbb"
      },
      "outputs": [],
      "execution_count": null
    }
  ],
  "metadata": {
    "name": "Mini_Project_SQL_with_Spark",
    "notebookId": 1931807081501742,
    "application/vnd.databricks.v1+notebook": {
      "notebookName": "Mini_Project_SQL_with_Spark_Databricks",
      "dashboards": [],
      "notebookMetadata": {
        "pythonIndentUnit": 4,
        "mostRecentlyExecutedCommandWithImplicitDF": {
          "commandId": 1889195104116324,
          "dataframes": [
            "_sqldf"
          ]
        }
      },
      "language": "python",
      "widgets": {},
      "notebookOrigID": 1889195104116291
    },
    "colab": {
      "provenance": [],
      "toc_visible": true,
      "include_colab_link": true
    }
  },
  "nbformat": 4,
  "nbformat_minor": 0
}
